{
 "cells": [
  {
   "cell_type": "code",
   "execution_count": 1,
   "metadata": {
    "collapsed": true
   },
   "outputs": [],
   "source": [
    "%matplotlib inline\n",
    "import numpy as np\n",
    "import matplotlib as mpl\n",
    "from itertools import product\n",
    "import matplotlib.pyplot as plt\n",
    "import pyJHTDB\n",
    "from pyJHTDB.dbinfo import channel\n",
    "from pyJHTDB import libJHTDB"
   ]
  },
  {
   "cell_type": "code",
   "execution_count": 2,
   "metadata": {
    "collapsed": true
   },
   "outputs": [],
   "source": [
    "Nx = channel['nx']\n",
    "Ny = channel['ny']\n",
    "Nz = channel['nz']\n",
    "Lx = channel['lx']\n",
    "Ly = channel['ly']\n",
    "Lz = channel['lz']\n",
    "xnodes = channel['xnodes']\n",
    "ynodes = channel['ynodes']\n",
    "znodes = channel['znodes']"
   ]
  },
  {
   "cell_type": "code",
   "execution_count": null,
   "metadata": {},
   "outputs": [
    {
     "name": "stdout",
     "output_type": "stream",
     "text": [
      "0\n"
     ]
    }
   ],
   "source": [
    "time = 0.0\n",
    "start = np.array([ 0, 0, 0],dtype=np.int)\n",
    "width = np.array([Nx,Ny,Nz],dtype=np.int)\n",
    "\n",
    "chkSz = 32\n",
    "slabs = 2#Nz//chkSz\n",
    "width[2] = chkSz\n",
    "\n",
    "lJHTDB = libJHTDB()\n",
    "lJHTDB.initialize()\n",
    "\n",
    "u = []\n",
    "for k in range(slabs):\n",
    "    print(k)\n",
    "    u.append(lJHTDB.getRawData(\n",
    "             time,start,width, data_set = 'channel',\n",
    "             getFunction = 'Velocity') )\n",
    "\n",
    "print(\"download finished\")\n",
    "u = np.vstack(u)\n",
    "lJHTDB.finalize()"
   ]
  },
  {
   "cell_type": "code",
   "execution_count": null,
   "metadata": {
    "collapsed": true
   },
   "outputs": [],
   "source": [
    "u.shape"
   ]
  },
  {
   "cell_type": "code",
   "execution_count": null,
   "metadata": {
    "collapsed": true
   },
   "outputs": [],
   "source": [
    "time = 0.0\n",
    "start = np.array([ 0, 0, 0],dtype=np.int)\n",
    "width = np.array([Nx,Ny,Nz],dtype=np.int)\n",
    "\n",
    "chkSz = 32\n",
    "slabs = Nz//chkSz\n",
    "width[2] = chkSz\n",
    "\n",
    "lJHTDB = libJHTDB()\n",
    "lJHTDB.initialize()\n",
    "\n",
    "u = []\n",
    "for k in range(slabs):\n",
    "    print(k)\n",
    "    u.append(lJHTDB.getRawData(\n",
    "             time,start,width, data_set = 'channel',\n",
    "             getFunction = 'Velocity') )\n",
    "\n",
    "print(\"download finished\")\n",
    "u = np.vstack(u)\n",
    "lJHTDB.finalize()"
   ]
  },
  {
   "cell_type": "code",
   "execution_count": null,
   "metadata": {
    "collapsed": true
   },
   "outputs": [],
   "source": []
  }
 ],
 "metadata": {
  "kernelspec": {
   "display_name": "Python 2",
   "language": "python",
   "name": "python2"
  },
  "language_info": {
   "codemirror_mode": {
    "name": "ipython",
    "version": 2
   },
   "file_extension": ".py",
   "mimetype": "text/x-python",
   "name": "python",
   "nbconvert_exporter": "python",
   "pygments_lexer": "ipython2",
   "version": "2.7.13"
  }
 },
 "nbformat": 4,
 "nbformat_minor": 2
}
