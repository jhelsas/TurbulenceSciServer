{
 "cells": [
  {
   "cell_type": "markdown",
   "metadata": {},
   "source": [
    "1. First start the ipcluster using the notebook $\\color{blue}{\\text{start_ipcluster.ipynb}}$. Change the number of cores if required.\n",
    "2. Import the ipyparallel Client"
   ]
  },
  {
   "cell_type": "code",
   "execution_count": 1,
   "metadata": {},
   "outputs": [],
   "source": [
    "from ipyparallel import Client\n",
    "rc=Client(profile='mpi')"
   ]
  },
  {
   "cell_type": "markdown",
   "metadata": {},
   "source": [
    "1. Start each cell with the magic command $\\color{red}{\\%\\%px}$, else the cell won't run in parallel!!\n",
    "2. Load standard modules like 'pyfftw', 'numpy', etc.\n",
    "3. Load modules for current computations from the folder: $\\color{red}{\\text{'ClassRepository'}}$ \n",
    "4. Start the MPI communicator"
   ]
  },
  {
   "cell_type": "code",
   "execution_count": 2,
   "metadata": {},
   "outputs": [
    {
     "name": "stdout",
     "output_type": "stream",
     "text": [
      "[stdout:0] Starting with processors:8\n"
     ]
    }
   ],
   "source": [
    "%%px\n",
    "#2.\n",
    "from mpi4py import MPI\n",
    "import sys\n",
    "import pyJHTDB\n",
    "from pyJHTDB.dbinfo import isotropic1024coarse\n",
    "#3.\n",
    "sys.path.insert(0,'ClassRepository')\n",
    "from DataDownload import DataDownload\n",
    "#4.\n",
    "comm = MPI.COMM_WORLD\n",
    "my_id = comm.Get_rank()\n",
    "nproc = comm.Get_size()\n",
    "\n",
    "if(my_id==0):\n",
    "    sys.stdout.write('Starting with processors:%d\\n' %(int(nproc)))"
   ]
  },
  {
   "cell_type": "markdown",
   "metadata": {},
   "source": [
    "1. Get domain size from the JHTDB database\n",
    "2. Divide the data along X-axis across the processors"
   ]
  },
  {
   "cell_type": "code",
   "execution_count": 3,
   "metadata": {},
   "outputs": [
    {
     "name": "stdout",
     "output_type": "stream",
     "text": [
      "[stdout:0] MPI id=   0 nx=   128 ny=  1024 nz=  1024\n",
      "[stdout:1] MPI id=   2 nx=   128 ny=  1024 nz=  1024\n",
      "[stdout:2] MPI id=   5 nx=   128 ny=  1024 nz=  1024\n",
      "[stdout:3] MPI id=   6 nx=   128 ny=  1024 nz=  1024\n",
      "[stdout:4] MPI id=   4 nx=   128 ny=  1024 nz=  1024\n",
      "[stdout:5] MPI id=   3 nx=   128 ny=  1024 nz=  1024\n",
      "[stdout:6] MPI id=   1 nx=   128 ny=  1024 nz=  1024\n",
      "[stdout:7] MPI id=   7 nx=   128 ny=  1024 nz=  1024\n"
     ]
    }
   ],
   "source": [
    "%%px\n",
    "#1.\n",
    "nx=isotropic1024coarse['nx']\n",
    "ny=isotropic1024coarse['ny']\n",
    "nz=isotropic1024coarse['nz']\n",
    "#2.\n",
    "nx=nx//nproc\n",
    "sys.stdout.write('MPI id={0:4d} nx={1:6d} ny={2:6d} nz={3:6d}\\n'. \\\n",
    "    format(my_id,nx,ny,nz))"
   ]
  },
  {
   "cell_type": "markdown",
   "metadata": {},
   "source": [
    "1. Set the authorization token for downloading the data from JHTDB\n",
    "2. Set the name and time instant of the dataset to be downloaded\n",
    "3. Create an instance of the downloader and then use it to call the download function"
   ]
  },
  {
   "cell_type": "code",
   "execution_count": 4,
   "metadata": {},
   "outputs": [
    {
     "ename": "CompositeError",
     "evalue": "one or more exceptions from call to method: execute\n[Engine Exception]EngineError: Engine 0 died while running task u'faad2186-2ab4831be525e977fb036405'\n[Engine Exception]EngineError: Engine 1 died while running task u'ac828586-cf4fa016efe501b48ee1efea'\n[Engine Exception]EngineError: Engine 2 died while running task u'b60964bc-fcd3d08bf8a195280e44608b'\n[Engine Exception]EngineError: Engine 3 died while running task u'48b5d5b1-b42d55141ca69e5d322d1839'\n.... 4 more exceptions ...",
     "output_type": "error",
     "traceback": [
      "[Engine Exception]",
      "Traceback (most recent call last):",
      "  File \"/opt/anaconda2/lib/python2.7/site-packages/ipyparallel/client/client.py\", line 721, in _handle_stranded_msgs",
      "    raise error.EngineError(\"Engine %r died while running task %r\"%(eid, msg_id))",
      "EngineError: Engine 0 died while running task u'faad2186-2ab4831be525e977fb036405'",
      "",
      "[Engine Exception]",
      "Traceback (most recent call last):",
      "  File \"/opt/anaconda2/lib/python2.7/site-packages/ipyparallel/client/client.py\", line 721, in _handle_stranded_msgs",
      "    raise error.EngineError(\"Engine %r died while running task %r\"%(eid, msg_id))",
      "EngineError: Engine 1 died while running task u'ac828586-cf4fa016efe501b48ee1efea'",
      "",
      "[Engine Exception]",
      "Traceback (most recent call last):",
      "  File \"/opt/anaconda2/lib/python2.7/site-packages/ipyparallel/client/client.py\", line 721, in _handle_stranded_msgs",
      "    raise error.EngineError(\"Engine %r died while running task %r\"%(eid, msg_id))",
      "EngineError: Engine 2 died while running task u'b60964bc-fcd3d08bf8a195280e44608b'",
      "",
      "[Engine Exception]",
      "Traceback (most recent call last):",
      "  File \"/opt/anaconda2/lib/python2.7/site-packages/ipyparallel/client/client.py\", line 721, in _handle_stranded_msgs",
      "    raise error.EngineError(\"Engine %r died while running task %r\"%(eid, msg_id))",
      "EngineError: Engine 3 died while running task u'48b5d5b1-b42d55141ca69e5d322d1839'",
      "",
      "... 4 more exceptions ..."
     ]
    }
   ],
   "source": [
    "%%px\n",
    "#1.\n",
    "auth_token='edu.jhu.meneveau-hiSmxkae'\n",
    "#2.\n",
    "dataset_name='isotropic1024coarse'\n",
    "time=0.0\n",
    "#3.\n",
    "myDDL=DataDownload()\n",
    "comm.Barrier(); t1=MPI.Wtime()\n",
    "vx,vy,vz=myDDL.DownldData4Velocity(dataset_name,time,nx,ny,nz,nproc,my_id,auth_token)\n",
    "comm.Barrier(); t2=MPI.Wtime()\n",
    "if(my_id==0):\n",
    "    sys.stdout.write('Downloading cost: %0.2f seconds; with processors:%d\\n' %(t2-t1,int(nproc)))"
   ]
  },
  {
   "cell_type": "markdown",
   "metadata": {},
   "source": [
    "1. To store the downloaded data, first $\\color{red}{\\text{create a folder manually in the scratch folder}}$, and set its path against the dirName\n",
    "2. Provide file name initial. The file name will get appended by the core id\n",
    "3. Call the function $\\color{blue}{\\text{SaveDataOnVM}}$ to store the data"
   ]
  },
  {
   "cell_type": "code",
   "execution_count": null,
   "metadata": {},
   "outputs": [],
   "source": [
    "%%px\n",
    "#1.\n",
    "dirName='/home/admin/dataSnapshot/'\n",
    "#2.\n",
    "fileNameInitial='veldata_t0p0_myID'\n",
    "#3.\n",
    "comm.Barrier(); t1=MPI.Wtime()\n",
    "myDDL=DataDownload()\n",
    "myDDL.SaveVelDataOnVM(dirName,fileNameInitial,vx,vy,vz,nproc,my_id)\n",
    "comm.Barrier(); t2=MPI.Wtime()\n",
    "if(my_id==0):\n",
    "    sys.stdout.write('Writing cost: %0.2f seconds; with processors:%d\\n' %(t2-t1,int(nproc)))"
   ]
  },
  {
   "cell_type": "code",
   "execution_count": null,
   "metadata": {
    "collapsed": true
   },
   "outputs": [],
   "source": []
  }
 ],
 "metadata": {
  "kernelspec": {
   "display_name": "Python 2",
   "language": "python",
   "name": "python2"
  },
  "language_info": {
   "codemirror_mode": {
    "name": "ipython",
    "version": 2
   },
   "file_extension": ".py",
   "mimetype": "text/x-python",
   "name": "python",
   "nbconvert_exporter": "python",
   "pygments_lexer": "ipython2",
   "version": "2.7.13"
  }
 },
 "nbformat": 4,
 "nbformat_minor": 1
}
