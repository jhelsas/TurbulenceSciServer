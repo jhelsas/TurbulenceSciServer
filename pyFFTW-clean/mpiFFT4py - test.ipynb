{
 "cells": [
  {
   "cell_type": "code",
   "execution_count": 1,
   "metadata": {
    "collapsed": true
   },
   "outputs": [],
   "source": [
    "#!ipcluster start -n 8 --engines=MPI --profile='mpi' # for parallel run: start the engines using terminal\n",
    "from ipyparallel import Client\n",
    "rc = Client(profile='mpi')"
   ]
  },
  {
   "cell_type": "code",
   "execution_count": 4,
   "metadata": {
    "collapsed": false
   },
   "outputs": [],
   "source": [
    "%%px\n",
    "# Import the libraries\n",
    "\n",
    "from numpy import *\n",
    "from time import time\n",
    "from mpi4py import MPI\n",
    "from mpiFFT4py.slab import R2C"
   ]
  },
  {
   "cell_type": "code",
   "execution_count": 5,
   "metadata": {
    "collapsed": true
   },
   "outputs": [],
   "source": [
    "%%px\n",
    "\n",
    "# Set global size of the computational box\n",
    "M = 6\n",
    "N = array([2**M, 2**M, 2**M], dtype=int)\n",
    "L = array([2*pi, 2*pi, 2*pi], dtype=float)"
   ]
  },
  {
   "cell_type": "code",
   "execution_count": 6,
   "metadata": {
    "collapsed": true
   },
   "outputs": [],
   "source": [
    "%%px \n",
    "\n",
    "FFT = R2C(N, L, MPI.COMM_WORLD, \"double\", communication='Alltoallw')"
   ]
  },
  {
   "cell_type": "code",
   "execution_count": 7,
   "metadata": {
    "collapsed": true
   },
   "outputs": [],
   "source": [
    "%%px\n",
    "\n",
    "U = random.random(FFT.real_shape()).astype(FFT.float) # real_shape = (N[0]//comm.Get_size(), N[1], N[2])\n",
    "U_copy = zeros_like(U)\n",
    "U_hat = zeros(FFT.complex_shape(), dtype=FFT.complex) # complex_shape = (N[0], N[1]//comm.Get_size(), N[2]//2+1)"
   ]
  },
  {
   "cell_type": "code",
   "execution_count": 12,
   "metadata": {
    "collapsed": false
   },
   "outputs": [],
   "source": [
    "%%px\n",
    "\n",
    "U_hat = FFT.fftn(U, U_hat)"
   ]
  },
  {
   "cell_type": "code",
   "execution_count": 13,
   "metadata": {
    "collapsed": true
   },
   "outputs": [],
   "source": [
    "%%px\n",
    "\n",
    "U_copy = FFT.ifftn(U_hat, U_copy)\n",
    "MPI.COMM_WORLD.barrier()"
   ]
  },
  {
   "cell_type": "code",
   "execution_count": 15,
   "metadata": {
    "collapsed": false
   },
   "outputs": [
    {
     "name": "stdout",
     "output_type": "stream",
     "text": [
      "[stdout:0] mpiFFT4py  0.16920161247253418\n",
      "[stdout:1] mpiFFT4py  0.17447113990783691\n",
      "[stdout:2] mpiFFT4py  0.16347527503967285\n",
      "[stdout:3] mpiFFT4py  0.16394305229187012\n",
      "[stdout:4] mpiFFT4py  0.1016395092010498\n",
      "[stdout:5] mpiFFT4py  0.09713125228881836\n",
      "[stdout:6] mpiFFT4py  0.10159826278686523\n",
      "[stdout:7] mpiFFT4py  0.08875775337219238\n"
     ]
    }
   ],
   "source": [
    "%%px \n",
    "\n",
    "t0 = time()\n",
    "U_hat = FFT.fftn(U, U_hat)\n",
    "U_copy = FFT.ifftn(U_hat, U_copy)\n",
    "print(\"mpiFFT4py \", time()-t0)"
   ]
  },
  {
   "cell_type": "code",
   "execution_count": 16,
   "metadata": {
    "collapsed": true
   },
   "outputs": [],
   "source": [
    "%%px\n",
    "\n",
    "tol = 1e-6 if FFT.float == float32 else 1e-10"
   ]
  },
  {
   "cell_type": "code",
   "execution_count": 19,
   "metadata": {
    "collapsed": false
   },
   "outputs": [],
   "source": [
    "%%px\n",
    "\n",
    "assert allclose(U, U_copy, tol, tol)"
   ]
  },
  {
   "cell_type": "code",
   "execution_count": null,
   "metadata": {
    "collapsed": true
   },
   "outputs": [],
   "source": []
  }
 ],
 "metadata": {
  "kernelspec": {
   "display_name": "Python 3",
   "language": "python",
   "name": "python3"
  },
  "language_info": {
   "codemirror_mode": {
    "name": "ipython",
    "version": 3
   },
   "file_extension": ".py",
   "mimetype": "text/x-python",
   "name": "python",
   "nbconvert_exporter": "python",
   "pygments_lexer": "ipython3",
   "version": "3.5.2"
  }
 },
 "nbformat": 4,
 "nbformat_minor": 0
}
