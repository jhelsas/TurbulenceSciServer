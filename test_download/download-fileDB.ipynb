{
 "cells": [
  {
   "cell_type": "code",
   "execution_count": 17,
   "metadata": {
    "collapsed": false
   },
   "outputs": [],
   "source": [
    "import os\n",
    "import io\n",
    "import sys\n",
    "import time\n",
    "import pymp\n",
    "import h5py\n",
    "import urllib \n",
    "import ctypes\n",
    "import pymorton as pym\n",
    "import requests\n",
    "import numpy as np\n",
    "import pyJHTDB\n",
    "from pyJHTDB.dbinfo import isotropic1024coarse\n",
    "from pyJHTDB import libJHTDB"
   ]
  },
  {
   "cell_type": "code",
   "execution_count": 18,
   "metadata": {
    "collapsed": true
   },
   "outputs": [],
   "source": [
    "os.environ['TMPDIR']='/home/idies/workspace/scratch'\n",
    "\n",
    "Nx = isotropic1024coarse['nx']; Ny = isotropic1024coarse['ny']; Nz = isotropic1024coarse['nz']\n",
    "Lx = isotropic1024coarse['lx']; Ly = isotropic1024coarse['ly']; Lz = isotropic1024coarse['lz']\n",
    "\n",
    "dataset = 'isotropic1024coarse'\n",
    "getFunction='Velocity'\n",
    "t = 0.0; nx=Nx; ny=Ny; nz=Nz\n",
    "chkSz = 32; slabs = nx//chkSz"
   ]
  },
  {
   "cell_type": "code",
   "execution_count": 21,
   "metadata": {
    "collapsed": false
   },
   "outputs": [
    {
     "name": "stdout",
     "output_type": "stream",
     "text": [
      "http://dsp033.pha.jhu.edu:8000/turbulence/ : \n",
      "size of data [bytes] : 104306\n"
     ]
    }
   ],
   "source": [
    "# listing in HTML\n",
    "url='http://dsp033.pha.jhu.edu:8000/turbulence/'\n",
    "data=urllib.urlopen(url).read()\n",
    "\n",
    "print(\"%s : \\nsize of data [bytes] : %d\"%(url,len(data)))"
   ]
  },
  {
   "cell_type": "code",
   "execution_count": 22,
   "metadata": {
    "collapsed": false
   },
   "outputs": [
    {
     "name": "stdout",
     "output_type": "stream",
     "text": [
      "Getting the data: 23.71 seconds\n"
     ]
    }
   ],
   "source": [
    "t1 = time.time()\n",
    "\n",
    "idx = 0\n",
    "dsp033_url = 'http://dsp033.pha.jhu.edu:8000/turbulence/turbdb10'+str(idx+1)+'_0.bin'\n",
    "\n",
    "d=urllib.urlopen(dsp033_url).read()\n",
    "n=int(len(d)/4)\n",
    "_arr=np.frombuffer(d,dtype=np.float32,count=n)\n",
    "d=None\n",
    "        \n",
    "t2 = time.time()\n",
    "sys.stdout.write('Getting the data: {0:.2f} seconds\\n'.format(t2-t1))"
   ]
  },
  {
   "cell_type": "code",
   "execution_count": 16,
   "metadata": {
    "collapsed": false
   },
   "outputs": [
    {
     "name": "stdout",
     "output_type": "stream",
     "text": [
      "http://dsp033.pha.jhu.edu:8000/turbulence/turbdb102_0.bin\n",
      "http://dsp033.pha.jhu.edu:8000/turbulence/turbdb107_0.bin\n",
      "http://dsp033.pha.jhu.edu:8000/turbulence/turbdb105_0.bin\n",
      "http://dsp033.pha.jhu.edu:8000/turbulence/turbdb106_0.bin\n",
      "http://dsp033.pha.jhu.edu:8000/turbulence/turbdb103_0.bin\n",
      "http://dsp033.pha.jhu.edu:8000/turbulence/turbdb104_0.bin\n",
      "http://dsp033.pha.jhu.edu:8000/turbulence/turbdb108_0.bin\n",
      "http://dsp033.pha.jhu.edu:8000/turbulence/turbdb101_0.bin\n",
      "(1, 402653184)\n"
     ]
    },
    {
     "ename": "IOError",
     "evalue": "[Errno socket error] [Errno 104] Connection reset by peer",
     "output_type": "error",
     "traceback": [
      "\u001b[1;31m\u001b[0m",
      "\u001b[1;31mIOError\u001b[0mTraceback (most recent call last)",
      "\u001b[1;32m<ipython-input-16-0d68d0211da2>\u001b[0m in \u001b[0;36m<module>\u001b[1;34m()\u001b[0m\n\u001b[0;32m     16\u001b[0m         \u001b[1;32mprint\u001b[0m\u001b[1;33m(\u001b[0m\u001b[0midx\u001b[0m\u001b[1;33m,\u001b[0m\u001b[0mlen\u001b[0m\u001b[1;33m(\u001b[0m\u001b[0md\u001b[0m\u001b[1;33m)\u001b[0m\u001b[1;33m/\u001b[0m\u001b[1;36m4\u001b[0m\u001b[1;33m)\u001b[0m\u001b[1;33m\u001b[0m\u001b[0m\n\u001b[0;32m     17\u001b[0m         \u001b[0m_arr\u001b[0m\u001b[1;33m=\u001b[0m\u001b[0mnp\u001b[0m\u001b[1;33m.\u001b[0m\u001b[0mfrombuffer\u001b[0m\u001b[1;33m(\u001b[0m\u001b[0md\u001b[0m\u001b[1;33m,\u001b[0m\u001b[0mdtype\u001b[0m\u001b[1;33m=\u001b[0m\u001b[0mnp\u001b[0m\u001b[1;33m.\u001b[0m\u001b[0mfloat32\u001b[0m\u001b[1;33m,\u001b[0m\u001b[0mcount\u001b[0m\u001b[1;33m=\u001b[0m\u001b[0mn\u001b[0m\u001b[1;33m)\u001b[0m\u001b[1;33m\u001b[0m\u001b[0m\n\u001b[1;32m---> 18\u001b[1;33m         \u001b[0md\u001b[0m\u001b[1;33m=\u001b[0m\u001b[0mNone\u001b[0m\u001b[1;33m\u001b[0m\u001b[0m\n\u001b[0m\u001b[0;32m     19\u001b[0m \u001b[1;33m\u001b[0m\u001b[0m\n\u001b[0;32m     20\u001b[0m \u001b[0mt2\u001b[0m \u001b[1;33m=\u001b[0m \u001b[0mtime\u001b[0m\u001b[1;33m.\u001b[0m\u001b[0mtime\u001b[0m\u001b[1;33m(\u001b[0m\u001b[1;33m)\u001b[0m\u001b[1;33m\u001b[0m\u001b[0m\n",
      "\u001b[1;32m/home/idies/anaconda3/envs/py27/lib/python2.7/site-packages/pymp/__init__.pyc\u001b[0m in \u001b[0;36m__exit__\u001b[1;34m(self, exc_t, exc_val, exc_tb)\u001b[0m\n\u001b[0;32m    132\u001b[0m                 _LOGGER.critical(\"An exception occured in thread %d: (%s, %s).\",\n\u001b[0;32m    133\u001b[0m                                  thread_num, exc_t, exc_val)\n\u001b[1;32m--> 134\u001b[1;33m                 \u001b[1;32mraise\u001b[0m \u001b[0mexc_t\u001b[0m\u001b[1;33m(\u001b[0m\u001b[0mexc_val\u001b[0m\u001b[1;33m)\u001b[0m\u001b[1;33m\u001b[0m\u001b[0m\n\u001b[0m\u001b[0;32m    135\u001b[0m         \u001b[1;32melse\u001b[0m\u001b[1;33m:\u001b[0m\u001b[1;33m\u001b[0m\u001b[0m\n\u001b[0;32m    136\u001b[0m             \u001b[1;32mif\u001b[0m \u001b[1;32mnot\u001b[0m \u001b[0mself\u001b[0m\u001b[1;33m.\u001b[0m\u001b[0m_exception_queue\u001b[0m\u001b[1;33m.\u001b[0m\u001b[0mempty\u001b[0m\u001b[1;33m(\u001b[0m\u001b[1;33m)\u001b[0m\u001b[1;33m:\u001b[0m\u001b[1;33m\u001b[0m\u001b[0m\n",
      "\u001b[1;31mIOError\u001b[0m: [Errno socket error] [Errno 104] Connection reset by peer"
     ]
    }
   ],
   "source": [
    "t1 = time.time()\n",
    "\n",
    "threads = 8\n",
    "\n",
    "with pymp.Parallel(threads) as p:\n",
    "    for idx in p.range(0,threads):\n",
    "        #virgo_url = 'http://dsp060/disk0'+str(idx+1)+'/filedb/turbulence/turbdb10'+str(idx+1)+'_0.bin'\n",
    "        #virgo_url = 'http://dsp033.pha.jhu.edu:8080/turbdb10'+str(idx+1)+'_0.bin'\n",
    "        #dsp033_url = 'http://dsp033.pha.jhu.edu:8080/turbulence/turbdb10'+str(idx+1)+'_0.bin'\n",
    "        dsp033_url = 'http://dsp033.pha.jhu.edu:8000/turbulence/turbdb10'+str(idx+1)+'_0.bin'\n",
    "        \n",
    "        print(dsp033_url)\n",
    "        #d=urllib.urlopen(virgo_url).read()\n",
    "        d=urllib.urlopen(dsp033_url).read()\n",
    "        \n",
    "        n=int(len(d)/4)\n",
    "        print(idx,len(d)/4)\n",
    "        _arr=np.frombuffer(d,dtype=np.float32,count=n)\n",
    "        d=None\n",
    "        \n",
    "t2 = time.time()\n",
    "sys.stdout.write('Getting the data: {0:.2f} seconds\\n'.format(t2-t1))"
   ]
  },
  {
   "cell_type": "code",
   "execution_count": 4,
   "metadata": {
    "collapsed": false
   },
   "outputs": [
    {
     "name": "stdout",
     "output_type": "stream",
     "text": [
      "Reshaping: 10.49 seconds\n"
     ]
    }
   ],
   "source": [
    "t1 = time.time()\n",
    "\n",
    "zmin = pym.interleave3(0,0,0)\n",
    "zmax = pym.interleave3(511,511,511)\n",
    "bs = 8\n",
    "blobsize = bs*bs*bs\n",
    "\n",
    "nb = 512\n",
    "uBlock = np.zeros((nb,nb,nb),dtype='float32')\n",
    "vBlock = np.zeros((nb,nb,nb),dtype='float32')\n",
    "wBlock = np.zeros((nb,nb,nb),dtype='float32')\n",
    "\n",
    "for zindex in range(zmin,zmax,blobsize):\n",
    "    coord = pym.deinterleave3(zindex)\n",
    "    c0 = coord[0]; c1 = coord[1]; c2 = coord[2]\n",
    "        \n",
    "    blob = _arr[3*zindex:3*(zindex+blobsize)]\n",
    "    block = np.reshape(blob,(bs,bs,bs,3),order='C')\n",
    "    \n",
    "    uBlock[c0:(c0+bs),c1:(c1+bs),c2:(c2+bs)] = np.transpose(block[:,:,:,0])\n",
    "    vBlock[c0:(c0+bs),c1:(c1+bs),c2:(c2+bs)] = np.transpose(block[:,:,:,1])\n",
    "    wBlock[c0:(c0+bs),c1:(c1+bs),c2:(c2+bs)] = np.transpose(block[:,:,:,2])\n",
    "    \n",
    "t2 = time.time()\n",
    "sys.stdout.write('Reshaping: {0:.2f} seconds\\n'.format(t2-t1))"
   ]
  },
  {
   "cell_type": "code",
   "execution_count": 5,
   "metadata": {
    "collapsed": false
   },
   "outputs": [
    {
     "name": "stdout",
     "output_type": "stream",
     "text": [
      "Alocating the shared arrays: 20.32 seconds\n"
     ]
    }
   ],
   "source": [
    "t1 = time.time()\n",
    "\n",
    "shu = pymp.shared.array((Nx,Ny,Nz), dtype='float32')\n",
    "shv = pymp.shared.array((Nx,Ny,Nz), dtype='float32')\n",
    "shw = pymp.shared.array((Nx,Ny,Nz), dtype='float32')\n",
    "\n",
    "t2 = time.time()\n",
    "sys.stdout.write('Alocating the shared arrays: {0:.2f} seconds\\n'.format(t2-t1))"
   ]
  },
  {
   "cell_type": "code",
   "execution_count": 16,
   "metadata": {
    "collapsed": false
   },
   "outputs": [
    {
     "name": "stdout",
     "output_type": "stream",
     "text": [
      "Downloading\n",
      "z-reordering\n",
      "writing the blocks on the right places\n",
      "Getting the data: 39.40 seconds\n"
     ]
    }
   ],
   "source": [
    "t1 = time.time()\n",
    "\n",
    "threads = 8\n",
    "\n",
    "zmin = pym.interleave3(0,0,0)\n",
    "zmax = pym.interleave3(511,511,511)+1\n",
    "bs = 8\n",
    "blobsize = bs*bs*bs\n",
    "\n",
    "with pymp.Parallel(threads) as p:\n",
    "    for idx in p.range(0,threads):\n",
    "        if idx==0:\n",
    "            print(\"Downloading\")\n",
    "        \n",
    "        virgo_url = 'http://dsp060/disk0'+str(idx+1)+'/filedb/turbulence/turbdb10'+str(idx+1)+'_0.bin'\n",
    "        d=urllib.urlopen(virgo_url).read()\n",
    "        n=int(len(d)/4)\n",
    "        _arr=np.frombuffer(d,dtype=np.float32,count=n)\n",
    "        d=None\n",
    "        \n",
    "        ######################################\n",
    "        \n",
    "        if idx==0:\n",
    "            print(\"z-reordering\")\n",
    "            \n",
    "        nb = 512\n",
    "        uBlock = np.zeros((nb,nb,nb),dtype='float32')\n",
    "        vBlock = np.zeros((nb,nb,nb),dtype='float32')\n",
    "        wBlock = np.zeros((nb,nb,nb),dtype='float32')\n",
    "        \n",
    "        for zindex in range(zmin,zmax,blobsize):\n",
    "            coord = pym.deinterleave3(zindex)\n",
    "            c0 = coord[0]; c1 = coord[1]; c2 = coord[2]\n",
    "            \n",
    "            blob = _arr[3*zindex:3*(zindex+blobsize)]\n",
    "            block = np.reshape(blob,(bs,bs,bs,3),order='C')\n",
    "            \n",
    "            uBlock[c0:(c0+bs),c1:(c1+bs),c2:(c2+bs)] = np.transpose(block[:,:,:,0])\n",
    "            vBlock[c0:(c0+bs),c1:(c1+bs),c2:(c2+bs)] = np.transpose(block[:,:,:,1])\n",
    "            wBlock[c0:(c0+bs),c1:(c1+bs),c2:(c2+bs)] = np.transpose(block[:,:,:,2])\n",
    "            \n",
    "        #######################################\n",
    "        \n",
    "        if idx==0:\n",
    "            print(\"writing the blocks on the right places\")\n",
    "                \n",
    "        Coord = pym.deinterleave3(idx)\n",
    "        C0 = Coord[0]; C1 = Coord[1]; C2 = Coord[2]\n",
    "        \n",
    "        shu[C0*nb:(C0+1)*nb,C1*nb:(C1+1)*nb,C2*nb:(C2+1)*nb] = uBlock[:,:,:]\n",
    "        shv[C0*nb:(C0+1)*nb,C1*nb:(C1+1)*nb,C2*nb:(C2+1)*nb] = vBlock[:,:,:]\n",
    "        shw[C0*nb:(C0+1)*nb,C1*nb:(C1+1)*nb,C2*nb:(C2+1)*nb] = wBlock[:,:,:]\n",
    "        \n",
    "        ########################################\n",
    "            \n",
    "        del uBlock,vBlock,wBlock\n",
    "        \n",
    "t2 = time.time()\n",
    "sys.stdout.write('Getting the data: {0:.2f} seconds\\n'.format(t2-t1))"
   ]
  },
  {
   "cell_type": "code",
   "execution_count": 7,
   "metadata": {
    "collapsed": false
   },
   "outputs": [
    {
     "name": "stdout",
     "output_type": "stream",
     "text": [
      "Write hdf5 file: 28.47 seconds\n"
     ]
    }
   ],
   "source": [
    "t1 = time.time()\n",
    "\n",
    "folder = \"/home/idies/workspace/scratch\"\n",
    "h5f = h5py.File(folder+'/'+'velocity-zfileDB.h5','w')\n",
    "h5f.create_dataset('u',data=shu)\n",
    "h5f.create_dataset('v',data=shv)\n",
    "h5f.create_dataset('w',data=shw)\n",
    "h5f.close()\n",
    "\n",
    "t2 = time.time()\n",
    "sys.stdout.write('Write hdf5 file: {0:.2f} seconds\\n'.format(t2-t1))"
   ]
  },
  {
   "cell_type": "code",
   "execution_count": 8,
   "metadata": {
    "collapsed": false
   },
   "outputs": [
    {
     "name": "stdout",
     "output_type": "stream",
     "text": [
      "Write in disk: 145.80 seconds\n"
     ]
    }
   ],
   "source": [
    "t1 = time.time()\n",
    "nproc = 8\n",
    "for k in range(nproc):\n",
    "    folder = \"/home/idies/workspace/scratch\"\n",
    "    filename = \"zturbdb-isotropic1024coarse-\"+str(k)+\".npz\"\n",
    "    filet = folder + \"/\" + filename\n",
    "    np.savez(filet,u=shu[k*(Nx//nproc):(k+1)*(Nx//nproc),:,:],v=shv[k*(Nx//nproc):(k+1)*(Nx//nproc),:,:],w=shw[k*(Nx//nproc):(k+1)*(Nx//nproc),:,:],nproc=nproc)\n",
    "t2 = time.time()\n",
    "sys.stdout.write('Write in disk: {0:.2f} seconds\\n'.format(t2-t1))"
   ]
  },
  {
   "cell_type": "code",
   "execution_count": null,
   "metadata": {
    "collapsed": true
   },
   "outputs": [],
   "source": []
  }
 ],
 "metadata": {
  "kernelspec": {
   "display_name": "Python 2",
   "language": "python",
   "name": "python2"
  },
  "language_info": {
   "codemirror_mode": {
    "name": "ipython",
    "version": 2
   },
   "file_extension": ".py",
   "mimetype": "text/x-python",
   "name": "python",
   "nbconvert_exporter": "python",
   "pygments_lexer": "ipython2",
   "version": "2.7.11"
  }
 },
 "nbformat": 4,
 "nbformat_minor": 0
}
