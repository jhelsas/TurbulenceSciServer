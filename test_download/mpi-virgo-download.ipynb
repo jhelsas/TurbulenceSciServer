{
 "cells": [
  {
   "cell_type": "code",
   "execution_count": 2,
   "metadata": {
    "collapsed": true
   },
   "outputs": [],
   "source": [
    "#!ipcluster start -n 8 --engines=MPI --profile='mpi' # for parallel run: start the engines using terminal\n",
    "from ipyparallel import Client\n",
    "rc = Client(profile='mpi')"
   ]
  },
  {
   "cell_type": "code",
   "execution_count": 3,
   "metadata": {
    "collapsed": true
   },
   "outputs": [],
   "source": [
    "%%px \n",
    "\n",
    "import numpy as np\n",
    "import io\n",
    "import urllib\n",
    "import requests\n",
    "from mpi4py import MPI\n"
   ]
  },
  {
   "cell_type": "code",
   "execution_count": 4,
   "metadata": {
    "collapsed": false
   },
   "outputs": [
    {
     "name": "stdout",
     "output_type": "stream",
     "text": [
      "[stdout:1] \n",
      "n_proc = 8\n",
      "rank = 0\n"
     ]
    }
   ],
   "source": [
    "%%px\n",
    "\n",
    "comm = MPI.COMM_WORLD\n",
    "rank = comm.Get_rank()\n",
    "nproc = comm.Get_size()\n",
    "if(rank==0):\n",
    "    print(\"n_proc = \"+str(nproc))\n",
    "    print(\"rank = \"+str(rank))\n",
    "    \n",
    "    \n",
    "N = 1024\n",
    "nx = N//8\n",
    "stride = nx*N*N\n",
    "farr = np.zeros((nx*N*N,),dtype='float32')"
   ]
  },
  {
   "cell_type": "code",
   "execution_count": 5,
   "metadata": {
    "collapsed": true
   },
   "outputs": [],
   "source": [
    "%%px\n",
    "\n",
    "# simple test function that retrieves a complete file and returns its size\n",
    "# can switch between urllib and requests library\n",
    "def get_url(url,use_requests=False):\n",
    "    data=urllib.request.urlopen(url).read()\n",
    "    return data"
   ]
  },
  {
   "cell_type": "code",
   "execution_count": 16,
   "metadata": {
    "collapsed": false
   },
   "outputs": [
    {
     "name": "stdout",
     "output_type": "stream",
     "text": [
      "[stdout:1] \n",
      "Finished loading\n",
      "Load field in memory from virgo: 26.07 seconds\n",
      "\n",
      "shape == 3*(512**3):  True\n"
     ]
    }
   ],
   "source": [
    "%%px\n",
    "\n",
    "comm.Barrier(); t1=MPI.Wtime()\n",
    "\n",
    "virgo_url = 'http://virgo02/turbdb/turbdb10'+str(rank+1)+'_0.bin' \n",
    "d=urllib.request.urlopen(virgo_url).read()\n",
    "n=int(len(d)/4)\n",
    "_arr=np.frombuffer(d,dtype=np.float32,count=n)\n",
    "\n",
    "d=None\n",
    "\n",
    "comm.Barrier(); t2=MPI.Wtime()\n",
    "if(rank==0):\n",
    "    print(\"Finished loading\")\n",
    "    print('Load field in memory from virgo: {0:.2f} seconds\\n'.format(t2-t1))\n",
    "    print(\"shape == 3*(512**3): \",_arr.shape[0] == 3*(512**3))"
   ]
  },
  {
   "cell_type": "code",
   "execution_count": 17,
   "metadata": {
    "collapsed": false
   },
   "outputs": [
    {
     "name": "stdout",
     "output_type": "stream",
     "text": [
      "[stdout:1] \n",
      "Finished loading\n",
      "Load field in memory from virgo: 26.71 seconds\n",
      "\n",
      "shape == 3*(512**3):  True\n"
     ]
    }
   ],
   "source": [
    "%%px\n",
    "\n",
    "comm.Barrier(); t1=MPI.Wtime()\n",
    "\n",
    "virgo_url = 'http://virgo02/turbulence/part'+str(rank+1)+'/turbdb10'+str(rank+1)+'_0.bin'\n",
    "d=urllib.request.urlopen(virgo_url).read()\n",
    "n=int(len(d)/4)\n",
    "_arr=np.frombuffer(d,dtype=np.float32,count=n)\n",
    "\n",
    "d=None\n",
    "\n",
    "comm.Barrier(); t2=MPI.Wtime()\n",
    "if(rank==0):\n",
    "    print(\"Finished loading\")\n",
    "    print('Load field in memory from virgo: {0:.2f} seconds\\n'.format(t2-t1))\n",
    "    print(\"shape == 3*(512**3): \",_arr.shape[0] == 3*(512**3))"
   ]
  },
  {
   "cell_type": "code",
   "execution_count": 18,
   "metadata": {
    "collapsed": false
   },
   "outputs": [
    {
     "name": "stdout",
     "output_type": "stream",
     "text": [
      "[stdout:1] \n",
      "Finished loading\n",
      "Load field in memory from virgo: 25.35 seconds\n",
      "\n",
      "shape == 3*(512**3):  True\n"
     ]
    }
   ],
   "source": [
    "%%px\n",
    "\n",
    "comm.Barrier(); t1=MPI.Wtime()\n",
    "\n",
    "virgo_url = 'http://dsp060/disk0'+str(rank+1)+'/filedb/turbulence/turbdb10'+str(rank+1)+'_0.bin'\n",
    "d=urllib.request.urlopen(virgo_url).read()\n",
    "n=int(len(d)/4)\n",
    "_arr=np.frombuffer(d,dtype=np.float32,count=n)\n",
    "\n",
    "d=None\n",
    "\n",
    "comm.Barrier(); t2=MPI.Wtime()\n",
    "if(rank==0):\n",
    "    print(\"Finished loading\")\n",
    "    print('Load field in memory from virgo: {0:.2f} seconds\\n'.format(t2-t1))\n",
    "    print(\"shape == 3*(512**3): \",_arr.shape[0] == 3*(512**3))"
   ]
  },
  {
   "cell_type": "code",
   "execution_count": null,
   "metadata": {
    "collapsed": true
   },
   "outputs": [],
   "source": []
  }
 ],
 "metadata": {
  "kernelspec": {
   "display_name": "Python 3",
   "language": "python",
   "name": "python3"
  },
  "language_info": {
   "codemirror_mode": {
    "name": "ipython",
    "version": 3
   },
   "file_extension": ".py",
   "mimetype": "text/x-python",
   "name": "python",
   "nbconvert_exporter": "python",
   "pygments_lexer": "ipython3",
   "version": "3.5.2"
  }
 },
 "nbformat": 4,
 "nbformat_minor": 0
}
