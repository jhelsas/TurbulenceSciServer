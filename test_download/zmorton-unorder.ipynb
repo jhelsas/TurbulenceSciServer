{
 "cells": [
  {
   "cell_type": "code",
   "execution_count": 2,
   "metadata": {
    "collapsed": false
   },
   "outputs": [
    {
     "ename": "ImportError",
     "evalue": "No module named pymorton",
     "output_type": "error",
     "traceback": [
      "\u001b[1;31m\u001b[0m",
      "\u001b[1;31mImportError\u001b[0mTraceback (most recent call last)",
      "\u001b[1;32m<ipython-input-2-a7cb8725fbd4>\u001b[0m in \u001b[0;36m<module>\u001b[1;34m()\u001b[0m\n\u001b[0;32m      2\u001b[0m \u001b[1;32mimport\u001b[0m \u001b[0mstruct\u001b[0m\u001b[1;33m\u001b[0m\u001b[0m\n\u001b[0;32m      3\u001b[0m \u001b[1;32mimport\u001b[0m \u001b[0mctypes\u001b[0m\u001b[1;33m\u001b[0m\u001b[0m\n\u001b[1;32m----> 4\u001b[1;33m \u001b[1;32mimport\u001b[0m \u001b[0mpymorton\u001b[0m\u001b[1;33m\u001b[0m\u001b[0m\n\u001b[0m\u001b[0;32m      5\u001b[0m \u001b[1;32mfrom\u001b[0m \u001b[0mnumpy\u001b[0m \u001b[1;32mimport\u001b[0m \u001b[0marray\u001b[0m\u001b[1;33m\u001b[0m\u001b[0m\n",
      "\u001b[1;31mImportError\u001b[0m: No module named pymorton"
     ]
    }
   ],
   "source": [
    "from __future__ import division \n",
    "import h5py\n",
    "import struct\n",
    "import ctypes\n",
    "import pymorton\n",
    "from numpy import array"
   ]
  },
  {
   "cell_type": "code",
   "execution_count": null,
   "metadata": {
    "collapsed": true
   },
   "outputs": [],
   "source": [
    "def getblob(x, y, z, blobsize, h5file):\n",
    "    #definition used to grab a blob in xyz order.\n",
    "    u = h5file[\"U\"][x:x+blobsize,y:y+blobsize,z:z+blobsize]\n",
    "    v = h5file[\"V\"][x:x+blobsize,y:y+blobsize,z:z+blobsize]\n",
    "    w = h5file[\"W\"][x:x+blobsize,y:y+blobsize,z:z+blobsize]\n",
    "    buffer = ctypes.create_string_buffer(6144) #hardcoded for speed\n",
    "    index = 0\n",
    "    offset = 0\n",
    "    for k in range(0, blobsize):\n",
    "        for j in range(0, blobsize):\n",
    "            for i in range (0, blobsize):\n",
    "                struct.pack_into('f'*3, buffer, offset,u[k,j,i],v[k,j,i],w[k,j,i])\n",
    "                offset = offset + 12\n",
    "    return buffer\n",
    "#Test it out!"
   ]
  },
  {
   "cell_type": "code",
   "execution_count": null,
   "metadata": {
    "collapsed": true
   },
   "outputs": [],
   "source": [
    "\n",
    "\n",
    "h5file = h5py.File(\"outpen/OUTPEN_04.h5\") #Open for read only\n",
    "blobsize = 8\n",
    "#blob = getblob(0,0,0,blobsize, h5file)\n",
    "\n",
    "f = open('iso4096-102.bin', 'wb+')\n",
    "zblob = blobsize * blobsize * blobsize\n",
    "zmax = pymorton.interleave3(1023,511,511)\n",
    "zmin = pymorton.interleave3(512,0,0)\n",
    "for zindex in range(zmin,zmax, zblob):\n",
    "    print (\"zindex = \" + str(zindex))\n",
    "    coord = pymorton.deinterleave3(zindex)\n",
    "    blob = getblob(coord[2], coord[1], coord[0], blobsize, h5file)\n",
    "    f.write(blob)\n",
    "    \n",
    "f.close()"
   ]
  },
  {
   "cell_type": "code",
   "execution_count": null,
   "metadata": {
    "collapsed": true
   },
   "outputs": [],
   "source": [
    "N = 1024\n",
    "corner = np.array([N//2])"
   ]
  }
 ],
 "metadata": {
  "kernelspec": {
   "display_name": "Python 2",
   "language": "python",
   "name": "python2"
  },
  "language_info": {
   "codemirror_mode": {
    "name": "ipython",
    "version": 2
   },
   "file_extension": ".py",
   "mimetype": "text/x-python",
   "name": "python",
   "nbconvert_exporter": "python",
   "pygments_lexer": "ipython2",
   "version": "2.7.11"
  }
 },
 "nbformat": 4,
 "nbformat_minor": 0
}
