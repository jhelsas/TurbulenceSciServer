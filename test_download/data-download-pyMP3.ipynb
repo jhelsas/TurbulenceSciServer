{
 "cells": [
  {
   "cell_type": "code",
   "execution_count": 4,
   "metadata": {
    "collapsed": false
   },
   "outputs": [],
   "source": [
    "import os\n",
    "import io\n",
    "import sys\n",
    "import time\n",
    "import pymp\n",
    "import h5py\n",
    "import urllib\n",
    "import requests\n",
    "import numpy as np\n",
    "import pyJHTDB\n",
    "from pyJHTDB.dbinfo import isotropic1024coarse\n",
    "from pyJHTDB import libJHTDB"
   ]
  },
  {
   "cell_type": "code",
   "execution_count": 3,
   "metadata": {
    "collapsed": true
   },
   "outputs": [],
   "source": [
    "Nx = isotropic1024coarse['nx']; Ny = isotropic1024coarse['ny']; Nz = isotropic1024coarse['nz']\n",
    "Lx = isotropic1024coarse['lx']; Ly = isotropic1024coarse['ly']; Lz = isotropic1024coarse['lz']\n",
    "\n",
    "dataset = 'isotropic1024coarse'\n",
    "getFunction='Velocity'\n",
    "t = 0.0; nx=Nx; ny=Ny; nz=Nz\n",
    "chkSz = 32; slabs = nx//chkSz"
   ]
  },
  {
   "cell_type": "code",
   "execution_count": 28,
   "metadata": {
    "collapsed": false
   },
   "outputs": [
    {
     "name": "stdout",
     "output_type": "stream",
     "text": [
      "Getting the data: 38.29 seconds\n"
     ]
    }
   ],
   "source": [
    "t1 = time.time()\n",
    "\n",
    "threads = 8\n",
    "\n",
    "with pymp.Parallel(threads) as p:\n",
    "    for idx in p.range(0,threads):\n",
    "        virgo_url = 'http://virgo02/turbdb/turbdb10'+str(idx+1)+'_0.bin' \n",
    "        d=urllib.request.urlopen(virgo_url).read()\n",
    "        n=int(len(d)/4)\n",
    "        _arr=np.frombuffer(d,dtype=np.float32,count=n)\n",
    "        d=None\n",
    "        \n",
    "t2 = time.time()\n",
    "sys.stdout.write('Getting the data: {0:.2f} seconds\\n'.format(t2-t1))"
   ]
  },
  {
   "cell_type": "code",
   "execution_count": 29,
   "metadata": {
    "collapsed": false
   },
   "outputs": [
    {
     "name": "stdout",
     "output_type": "stream",
     "text": [
      "Getting the data: 30.95 seconds\n"
     ]
    }
   ],
   "source": [
    "t1 = time.time()\n",
    "\n",
    "threads = 8\n",
    "\n",
    "with pymp.Parallel(threads) as p:\n",
    "    for idx in p.range(0,threads):\n",
    "        virgo_url = 'http://virgo02/turbulence/part'+str(idx+1)+'/turbdb10'+str(idx+1)+'_0.bin'\n",
    "        d=urllib.request.urlopen(virgo_url).read()\n",
    "        n=int(len(d)/4)\n",
    "        _arr=np.frombuffer(d,dtype=np.float32,count=n)\n",
    "        d=None\n",
    "        \n",
    "t2 = time.time()\n",
    "sys.stdout.write('Getting the data: {0:.2f} seconds\\n'.format(t2-t1))"
   ]
  },
  {
   "cell_type": "code",
   "execution_count": 30,
   "metadata": {
    "collapsed": false
   },
   "outputs": [
    {
     "name": "stdout",
     "output_type": "stream",
     "text": [
      "Getting the data: 30.32 seconds\n"
     ]
    }
   ],
   "source": [
    "t1 = time.time()\n",
    "\n",
    "threads = 8\n",
    "\n",
    "with pymp.Parallel(threads) as p:\n",
    "    for idx in p.range(0,threads):\n",
    "        virgo_url = 'http://dsp060/disk0'+str(idx+1)+'/filedb/turbulence/turbdb10'+str(idx+1)+'_0.bin'\n",
    "        d=urllib.request.urlopen(virgo_url).read()\n",
    "        n=int(len(d)/4)\n",
    "        _arr=np.frombuffer(d,dtype=np.float32,count=n)\n",
    "        d=None\n",
    "        \n",
    "t2 = time.time()\n",
    "sys.stdout.write('Getting the data: {0:.2f} seconds\\n'.format(t2-t1))"
   ]
  },
  {
   "cell_type": "code",
   "execution_count": null,
   "metadata": {
    "collapsed": true
   },
   "outputs": [],
   "source": []
  }
 ],
 "metadata": {
  "kernelspec": {
   "display_name": "Python 3",
   "language": "python",
   "name": "python3"
  },
  "language_info": {
   "codemirror_mode": {
    "name": "ipython",
    "version": 3
   },
   "file_extension": ".py",
   "mimetype": "text/x-python",
   "name": "python",
   "nbconvert_exporter": "python",
   "pygments_lexer": "ipython3",
   "version": "3.5.2"
  }
 },
 "nbformat": 4,
 "nbformat_minor": 0
}
