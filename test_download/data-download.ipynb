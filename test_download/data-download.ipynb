{
 "cells": [
  {
   "cell_type": "markdown",
   "metadata": {},
   "source": [
    "## Important Installation information:\n",
    "\n",
    "The important libraries for you to install are h5py and pyJHTDB for the download itself, and pyMP if you are using the parallel version. The h5py is also important if you are to export data to hdf5.\n",
    "\n",
    "To install h5py and pyJHTDB via pip:\n",
    "\n",
    "pip install pyJHTDB\n",
    "\n",
    "The pyMP library is also installed via pip:\n",
    "\n",
    "pip install pymp-pypi"
   ]
  },
  {
   "cell_type": "code",
   "execution_count": 1,
   "metadata": {
    "collapsed": true
   },
   "outputs": [],
   "source": [
    "import os\n",
    "import sys\n",
    "import time\n",
    "import pymp\n",
    "import h5py\n",
    "import numpy as np\n",
    "import pyJHTDB\n",
    "from pyJHTDB.dbinfo import isotropic1024coarse\n",
    "from pyJHTDB import libJHTDB"
   ]
  },
  {
   "cell_type": "markdown",
   "metadata": {},
   "source": [
    "Here are the parameters from the database to be downloaded. We chose to download the from isotropic database, the $t=0.0$ snapshots. To do it I need to download in 32-grid points wide chunks. "
   ]
  },
  {
   "cell_type": "code",
   "execution_count": 2,
   "metadata": {
    "collapsed": false
   },
   "outputs": [],
   "source": [
    "Nx = isotropic1024coarse['nx']; Ny = isotropic1024coarse['ny']; Nz = isotropic1024coarse['nz']\n",
    "Lx = isotropic1024coarse['lx']; Ly = isotropic1024coarse['ly']; Lz = isotropic1024coarse['lz']\n",
    "\n",
    "dataset = 'isotropic1024coarse'\n",
    "getFunction='Velocity'\n",
    "t = 0.0; nx=Nx; ny=Ny; nz=Nz\n",
    "chkSz = 32; slabs = nx//chkSz"
   ]
  },
  {
   "cell_type": "markdown",
   "metadata": {},
   "source": [
    "Here is the serial version of the download. Here it took around 42.5 minutes to download and re-shape properly the data. Please input your authentication token in place vacant below. It is necessary for all downloads"
   ]
  },
  {
   "cell_type": "code",
   "execution_count": 3,
   "metadata": {
    "collapsed": false
   },
   "outputs": [
    {
     "name": "stdout",
     "output_type": "stream",
     "text": [
      "slab number : 0\n"
     ]
    },
    {
     "ename": "KeyboardInterrupt",
     "evalue": "",
     "output_type": "error",
     "traceback": [
      "\u001b[1;31m\u001b[0m",
      "\u001b[1;31mKeyboardInterrupt\u001b[0mTraceback (most recent call last)",
      "\u001b[1;32m<ipython-input-3-535d508ade1f>\u001b[0m in \u001b[0;36m<module>\u001b[1;34m()\u001b[0m\n\u001b[0;32m     12\u001b[0m     \u001b[0mstart\u001b[0m\u001b[1;33m=\u001b[0m\u001b[0mnp\u001b[0m\u001b[1;33m.\u001b[0m\u001b[0marray\u001b[0m\u001b[1;33m(\u001b[0m\u001b[1;33m[\u001b[0m\u001b[0mk\u001b[0m\u001b[1;33m*\u001b[0m\u001b[0mchkSz\u001b[0m\u001b[1;33m,\u001b[0m\u001b[1;36m0\u001b[0m\u001b[1;33m,\u001b[0m\u001b[1;36m0\u001b[0m\u001b[1;33m]\u001b[0m\u001b[1;33m,\u001b[0m\u001b[0mdtype\u001b[0m\u001b[1;33m=\u001b[0m\u001b[0mnp\u001b[0m\u001b[1;33m.\u001b[0m\u001b[0mint\u001b[0m\u001b[1;33m)\u001b[0m\u001b[1;33m\u001b[0m\u001b[0m\n\u001b[0;32m     13\u001b[0m     \u001b[0mwidth\u001b[0m\u001b[1;33m=\u001b[0m\u001b[0mnp\u001b[0m\u001b[1;33m.\u001b[0m\u001b[0marray\u001b[0m\u001b[1;33m(\u001b[0m\u001b[1;33m[\u001b[0m\u001b[0mchkSz\u001b[0m\u001b[1;33m,\u001b[0m\u001b[0mNy\u001b[0m\u001b[1;33m,\u001b[0m\u001b[0mNz\u001b[0m\u001b[1;33m]\u001b[0m\u001b[1;33m,\u001b[0m\u001b[0mdtype\u001b[0m\u001b[1;33m=\u001b[0m\u001b[0mnp\u001b[0m\u001b[1;33m.\u001b[0m\u001b[0mint\u001b[0m\u001b[1;33m)\u001b[0m\u001b[1;33m\u001b[0m\u001b[0m\n\u001b[1;32m---> 14\u001b[1;33m     \u001b[0muAll\u001b[0m\u001b[1;33m=\u001b[0m\u001b[0mlJHTDB\u001b[0m\u001b[1;33m.\u001b[0m\u001b[0mgetRawData\u001b[0m\u001b[1;33m(\u001b[0m\u001b[0mt\u001b[0m\u001b[1;33m,\u001b[0m\u001b[0mstart\u001b[0m\u001b[1;33m,\u001b[0m\u001b[0mwidth\u001b[0m\u001b[1;33m,\u001b[0m\u001b[0mdata_set\u001b[0m\u001b[1;33m=\u001b[0m\u001b[0mdataset\u001b[0m\u001b[1;33m,\u001b[0m\u001b[0mgetFunction\u001b[0m\u001b[1;33m=\u001b[0m\u001b[0mgetFunction\u001b[0m\u001b[1;33m)\u001b[0m\u001b[1;33m\u001b[0m\u001b[0m\n\u001b[0m\u001b[0;32m     15\u001b[0m     \u001b[1;32mif\u001b[0m\u001b[1;33m(\u001b[0m\u001b[0mk\u001b[0m\u001b[1;33m==\u001b[0m\u001b[1;36m0\u001b[0m\u001b[1;33m)\u001b[0m\u001b[1;33m:\u001b[0m\u001b[1;33m\u001b[0m\u001b[0m\n\u001b[0;32m     16\u001b[0m         \u001b[0mvx\u001b[0m\u001b[1;33m=\u001b[0m\u001b[0muAll\u001b[0m\u001b[1;33m[\u001b[0m\u001b[1;33m:\u001b[0m\u001b[1;33m,\u001b[0m\u001b[1;33m:\u001b[0m\u001b[1;33m,\u001b[0m\u001b[1;33m:\u001b[0m\u001b[1;33m,\u001b[0m\u001b[1;36m0\u001b[0m\u001b[1;33m]\u001b[0m\u001b[1;33m\u001b[0m\u001b[0m\n",
      "\u001b[1;32m/home/idies/anaconda3/envs/py27/lib/python2.7/site-packages/pyJHTDB/libJHTDB.pyc\u001b[0m in \u001b[0;36mgetRawData\u001b[1;34m(self, time, start, size, data_set, getFunction)\u001b[0m\n\u001b[0;32m    175\u001b[0m                  \u001b[0mctypes\u001b[0m\u001b[1;33m.\u001b[0m\u001b[0mc_int\u001b[0m\u001b[1;33m(\u001b[0m\u001b[0msize\u001b[0m\u001b[1;33m[\u001b[0m\u001b[1;36m1\u001b[0m\u001b[1;33m]\u001b[0m\u001b[1;33m)\u001b[0m\u001b[1;33m,\u001b[0m\u001b[1;33m\u001b[0m\u001b[0m\n\u001b[0;32m    176\u001b[0m                  \u001b[0mctypes\u001b[0m\u001b[1;33m.\u001b[0m\u001b[0mc_int\u001b[0m\u001b[1;33m(\u001b[0m\u001b[0msize\u001b[0m\u001b[1;33m[\u001b[0m\u001b[1;36m2\u001b[0m\u001b[1;33m]\u001b[0m\u001b[1;33m)\u001b[0m\u001b[1;33m,\u001b[0m\u001b[1;33m\u001b[0m\u001b[0m\n\u001b[1;32m--> 177\u001b[1;33m                  result_array.ctypes.data_as(ctypes.POINTER(ctypes.c_char)))\n\u001b[0m\u001b[0;32m    178\u001b[0m         \u001b[1;32mreturn\u001b[0m \u001b[0mresult_array\u001b[0m\u001b[1;33m\u001b[0m\u001b[0m\n\u001b[0;32m    179\u001b[0m     def getBoxFilter(self,\n",
      "\u001b[1;31mKeyboardInterrupt\u001b[0m: "
     ]
    }
   ],
   "source": [
    "t1 = time.time()\n",
    "\n",
    "auth_token = \"com.gmail.jhelsas-b854269a\"\n",
    "\n",
    "################################################\n",
    "\n",
    "lJHTDB=libJHTDB(auth_token)\n",
    "lJHTDB.initialize() #NOTE: datbase returns Velcocity as [lz,ly,lx,3]\n",
    "        \n",
    "for k in range(slabs):\n",
    "    print(\"slab number : \"+str(k))\n",
    "    start=np.array([k*chkSz,0,0],dtype=np.int)\n",
    "    width=np.array([chkSz,Ny,Nz],dtype=np.int)\n",
    "    uAll=lJHTDB.getRawData(t,start,width,data_set=dataset,getFunction=getFunction)\n",
    "    if(k==0):\n",
    "        vx=uAll[:,:,:,0]\n",
    "        vy=uAll[:,:,:,1]\n",
    "        vz=uAll[:,:,:,2]\n",
    "    else:\n",
    "        vx=np.concatenate((vx,uAll[:,:,:,0]),axis=2) \n",
    "        vy=np.concatenate((vy,uAll[:,:,:,1]),axis=2)\n",
    "        vz=np.concatenate((vz,uAll[:,:,:,2]),axis=2)\n",
    "\n",
    "lJHTDB.finalize()\n",
    "\n",
    "t2 = time.time()\n",
    "sys.stdout.write('Download from the database: {0:.2f} seconds\\n'.format(t2-t1))\n",
    "\n",
    "u=np.zeros((Nx,Ny,Nz),dtype='float32')\n",
    "v=np.zeros((Nx,Ny,Nz),dtype='float32')\n",
    "w=np.zeros((Nx,Ny,Nz),dtype='float32')\n",
    "\n",
    "u[:,:,:]=np.transpose(vx)\n",
    "v[:,:,:]=np.transpose(vy)\n",
    "w[:,:,:]=np.transpose(vz)\n",
    "\n",
    "################################################\n",
    "\n",
    "t3 = time.time()\n",
    "sys.stdout.write('Reshaping: {0:.2f} seconds\\n'.format(t3-t2))"
   ]
  },
  {
   "cell_type": "markdown",
   "metadata": {},
   "source": [
    "Here is the disk write of the same data, in 8 files, in case we are running a parallel execution. "
   ]
  },
  {
   "cell_type": "code",
   "execution_count": null,
   "metadata": {
    "collapsed": false
   },
   "outputs": [],
   "source": [
    "t1 = time.time()\n",
    "nproc = 8\n",
    "for k in range(nproc):\n",
    "    folder = \"/home/idies/workspace/scratch\"\n",
    "    filename = \"dwn-isotropic1024coarse-\"+str(k)+\".npz\"\n",
    "    filet = folder + \"/\" + filename\n",
    "    np.savez(filet,u=u[k*(Nx//nproc):(k+1)*(Nx//nproc),:,:],v=v[k*(Nx//nproc):(k+1)*(Nx//nproc),:,:],w=w[k*(Nx//nproc):(k+1)*(Nx//nproc),:,:],nproc=nproc)\n",
    "t2 = time.time()\n",
    "sys.stdout.write('Write in disk: {0:.2f} seconds\\n'.format(t2-t1))"
   ]
  },
  {
   "cell_type": "markdown",
   "metadata": {},
   "source": [
    "In my machine I needed to move the temporary directory to have pyMP to work properly. You might be able to skip this part."
   ]
  },
  {
   "cell_type": "code",
   "execution_count": 3,
   "metadata": {
    "collapsed": true
   },
   "outputs": [],
   "source": [
    "os.environ['TMPDIR']='/home/idies/workspace/scratch'"
   ]
  },
  {
   "cell_type": "markdown",
   "metadata": {},
   "source": [
    "Alocate the arrays to be used in parallel. It is important to be alocated this way instead of numpy default array alocations."
   ]
  },
  {
   "cell_type": "code",
   "execution_count": 4,
   "metadata": {
    "collapsed": false
   },
   "outputs": [
    {
     "name": "stdout",
     "output_type": "stream",
     "text": [
      "Download from the database: 90.99 seconds\n"
     ]
    }
   ],
   "source": [
    "t1 = time.time()\n",
    "\n",
    "shu = pymp.shared.array((Nx,Ny,Nz), dtype='float32')\n",
    "shv = pymp.shared.array((Nx,Ny,Nz), dtype='float32')\n",
    "shw = pymp.shared.array((Nx,Ny,Nz), dtype='float32')\n",
    "\n",
    "t2 = time.time()\n",
    "sys.stdout.write('Download from the database: {0:.2f} seconds\\n'.format(t2-t1))"
   ]
  },
  {
   "cell_type": "markdown",
   "metadata": {},
   "source": [
    "Here is the pyMP version of the download. Here it took around 4 minutes to download and re-shape properly the data, and around 3 minutes just to download. Please input your authentication token in place vacant below. It is necessary for all downloads."
   ]
  },
  {
   "cell_type": "code",
   "execution_count": 5,
   "metadata": {
    "collapsed": false
   },
   "outputs": [
    {
     "name": "stdout",
     "output_type": "stream",
     "text": [
      "slab number : 0\n",
      "slab number : 1\n",
      "slab number : 2\n",
      "slab number : 3\n",
      "download from database: 224.58 seconds\n",
      "Reshape: 76.34 seconds\n",
      "Getting the data: 410.92 seconds\n"
     ]
    }
   ],
   "source": [
    "t1 = time.time()\n",
    "\n",
    "auth_token = \"com.gmail.jhelsas-b854269a\"\n",
    "\n",
    "lJHTDB=libJHTDB(auth_token)\n",
    "lJHTDB.initialize() \n",
    "\n",
    "chkSz = 32\n",
    "threads = 8\n",
    "slabSize = Nx//threads\n",
    "chks = slabSize//chkSz\n",
    "\n",
    "with pymp.Parallel(threads) as p:\n",
    "    for idx in p.range(0,threads):\n",
    "        t01 = time.time()\n",
    "        for k in range(chks):\n",
    "            if(idx==0):\n",
    "                print(\"slab number : \"+str(k))\n",
    "            \n",
    "            start=np.array([idx*slabSize+k*chkSz,0,0],dtype=np.int)\n",
    "            width=np.array([chkSz,ny,nz],dtype=np.int)\n",
    "            uAll=lJHTDB.getRawData(t,start,width,data_set=dataset,getFunction=getFunction)\n",
    "            if(k==0):\n",
    "                vx=uAll[:,:,:,0]\n",
    "                vy=uAll[:,:,:,1]\n",
    "                vz=uAll[:,:,:,2]\n",
    "            else:\n",
    "                vx=np.concatenate((vx,uAll[:,:,:,0]),axis=2) \n",
    "                vy=np.concatenate((vy,uAll[:,:,:,1]),axis=2)\n",
    "                vz=np.concatenate((vz,uAll[:,:,:,2]),axis=2)\n",
    "                \n",
    "        t02 = time.time()\n",
    "        if(idx==0):\n",
    "            sys.stdout.write('download from database: {0:.2f} seconds\\n'.format(t02-t01)) \n",
    "                \n",
    "        u=np.zeros((Nx//threads,ny,nz),dtype='float32')\n",
    "        v=np.zeros((Nx//threads,ny,nz),dtype='float32')\n",
    "        w=np.zeros((Nx//threads,ny,nz),dtype='float32')\n",
    "\n",
    "        u[:,:,:]=np.transpose(vx)\n",
    "        v[:,:,:]=np.transpose(vy)\n",
    "        w[:,:,:]=np.transpose(vz)\n",
    "            \n",
    "        shu[idx*slabSize:(idx+1)*slabSize,:,:] = u[:,:,:]\n",
    "        shv[idx*slabSize:(idx+1)*slabSize,:,:] = v[:,:,:]\n",
    "        shw[idx*slabSize:(idx+1)*slabSize,:,:] = w[:,:,:]\n",
    "                \n",
    "        t03 = time.time()\n",
    "        if(idx==0):\n",
    "            sys.stdout.write('Reshape: {0:.2f} seconds\\n'.format(t03-t02))\n",
    "            \n",
    "lJHTDB.finalize()\n",
    "t2 = time.time()\n",
    "sys.stdout.write('Getting the data: {0:.2f} seconds\\n'.format(t2-t1))"
   ]
  },
  {
   "cell_type": "markdown",
   "metadata": {},
   "source": [
    "Here is to write the data from the pyMP version of the download into disc. "
   ]
  },
  {
   "cell_type": "code",
   "execution_count": 6,
   "metadata": {
    "collapsed": false
   },
   "outputs": [
    {
     "name": "stdout",
     "output_type": "stream",
     "text": [
      "[ 0.  0.  0.  0.  0.  0.  0.  0.  0.  0.  0.  0.  0.  0.  0.  0.  0.  0.]\n",
      "[ 0.  0.  0.  0.  0.  0.  0.  0.  0.  0.  0.  0.  0.  0.  0.]\n",
      "[ 0.  0.  0.  0.  0.  0.  0.  0.  0.  0.  0.  0.  0.  0.  0.]\n"
     ]
    }
   ],
   "source": [
    "print(shu[shu==0])\n",
    "print(shv[shv==0])\n",
    "print(shw[shw==0])"
   ]
  },
  {
   "cell_type": "code",
   "execution_count": 7,
   "metadata": {
    "collapsed": false
   },
   "outputs": [
    {
     "name": "stdout",
     "output_type": "stream",
     "text": [
      "Write in disk: 316.44 seconds\n"
     ]
    }
   ],
   "source": [
    "t1 = time.time()\n",
    "nproc = 8\n",
    "for k in range(nproc):\n",
    "    folder = \"/home/idies/workspace/scratch\"\n",
    "    filename = \"xi-isotropic1024coarse-\"+str(k)+\".npz\"\n",
    "    filet = folder + \"/\" + filename\n",
    "    np.savez(filet,u=shu[k*(Nx//nproc):(k+1)*(Nx//nproc),:,:],v=shv[k*(Nx//nproc):(k+1)*(Nx//nproc),:,:],w=shw[k*(Nx//nproc):(k+1)*(Nx//nproc),:,:],nproc=nproc)\n",
    "t2 = time.time()\n",
    "sys.stdout.write('Write in disk: {0:.2f} seconds\\n'.format(t2-t1))"
   ]
  },
  {
   "cell_type": "markdown",
   "metadata": {},
   "source": [
    "Here is to write the same data into a hdf5 file to be read elsewere. "
   ]
  },
  {
   "cell_type": "code",
   "execution_count": 8,
   "metadata": {
    "collapsed": false
   },
   "outputs": [
    {
     "name": "stdout",
     "output_type": "stream",
     "text": [
      "Write hdf5 file: 111.75 seconds\n"
     ]
    }
   ],
   "source": [
    "t1 = time.time()\n",
    "\n",
    "h5f = h5py.File(folder+'/'+'velocity.h5','w')\n",
    "h5f.create_dataset('u',data=shu)\n",
    "h5f.create_dataset('v',data=shv)\n",
    "h5f.create_dataset('w',data=shw)\n",
    "h5f.close()\n",
    "\n",
    "t2 = time.time()\n",
    "sys.stdout.write('Write hdf5 file: {0:.2f} seconds\\n'.format(t2-t1))"
   ]
  },
  {
   "cell_type": "code",
   "execution_count": null,
   "metadata": {
    "collapsed": true
   },
   "outputs": [],
   "source": []
  }
 ],
 "metadata": {
  "kernelspec": {
   "display_name": "Python 2",
   "language": "python",
   "name": "python2"
  },
  "language_info": {
   "codemirror_mode": {
    "name": "ipython",
    "version": 2
   },
   "file_extension": ".py",
   "mimetype": "text/x-python",
   "name": "python",
   "nbconvert_exporter": "python",
   "pygments_lexer": "ipython2",
   "version": "2.7.11"
  }
 },
 "nbformat": 4,
 "nbformat_minor": 0
}
