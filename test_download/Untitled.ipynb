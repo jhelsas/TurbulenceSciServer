{
 "cells": [
  {
   "cell_type": "code",
   "execution_count": 49,
   "metadata": {
    "collapsed": true
   },
   "outputs": [],
   "source": [
    "import time\n",
    "import numpy as np\n",
    "import numpy.random as rd\n",
    "import matplotlib\n",
    "import matplotlib.pyplot as plt"
   ]
  },
  {
   "cell_type": "code",
   "execution_count": 2,
   "metadata": {
    "collapsed": true
   },
   "outputs": [],
   "source": [
    "N = 1024"
   ]
  },
  {
   "cell_type": "code",
   "execution_count": 3,
   "metadata": {
    "collapsed": true
   },
   "outputs": [],
   "source": [
    "idxs = np.linspace(0,N**3,num=N**3,endpoint=False,dtype=int)"
   ]
  },
  {
   "cell_type": "code",
   "execution_count": 4,
   "metadata": {
    "collapsed": false
   },
   "outputs": [],
   "source": [
    "rdm = np.random.rand(N**3)"
   ]
  },
  {
   "cell_type": "code",
   "execution_count": 5,
   "metadata": {
    "collapsed": true
   },
   "outputs": [],
   "source": [
    "nrch = np.random.choice(idxs,N**2,replace=False)"
   ]
  },
  {
   "cell_type": "code",
   "execution_count": 6,
   "metadata": {
    "collapsed": true
   },
   "outputs": [],
   "source": [
    "mrch = np.random.choice(idxs,N**2,replace=False)"
   ]
  },
  {
   "cell_type": "code",
   "execution_count": 7,
   "metadata": {
    "collapsed": true
   },
   "outputs": [],
   "source": [
    "index = idxs[nrch]\n",
    "jndex = idxs[mrch]"
   ]
  },
  {
   "cell_type": "code",
   "execution_count": 8,
   "metadata": {
    "collapsed": false
   },
   "outputs": [
    {
     "name": "stdout",
     "output_type": "stream",
     "text": [
      "(4.568137228488922e-06, 0.9999993173405528)\n"
     ]
    }
   ],
   "source": [
    "print(np.float(np.min(index))/(N**3),np.float(np.max(index))/(N**3))"
   ]
  },
  {
   "cell_type": "code",
   "execution_count": 9,
   "metadata": {
    "collapsed": true
   },
   "outputs": [],
   "source": [
    "X = np.zeros((N,N,N))\n",
    "Y = np.zeros((N,N,N))\n",
    "Z = np.zeros((N,N,N))"
   ]
  },
  {
   "cell_type": "code",
   "execution_count": 14,
   "metadata": {
    "collapsed": true
   },
   "outputs": [],
   "source": [
    "Delta = (2*np.pi)/N"
   ]
  },
  {
   "cell_type": "code",
   "execution_count": 15,
   "metadata": {
    "collapsed": false
   },
   "outputs": [
    {
     "name": "stdout",
     "output_type": "stream",
     "text": [
      "156.079788923\n"
     ]
    }
   ],
   "source": [
    "start = time.time()\n",
    "\n",
    "for i in range(N):\n",
    "    X[i,:,:] = i*Delta\n",
    "    \n",
    "for j in range(N):\n",
    "    Y[:,j,:] = j*Delta\n",
    "    \n",
    "for k in range(N):\n",
    "    Z[:,:,k] = k*Delta\n",
    "\n",
    "end = time.time()\n",
    "print(end-start)"
   ]
  },
  {
   "cell_type": "code",
   "execution_count": 16,
   "metadata": {
    "collapsed": true
   },
   "outputs": [],
   "source": [
    "x = X.flatten()\n",
    "y = Y.flatten()\n",
    "z = Z.flatten()"
   ]
  },
  {
   "cell_type": "code",
   "execution_count": null,
   "metadata": {
    "collapsed": true
   },
   "outputs": [],
   "source": [
    "r2 = np.zeros((x.shape[0],8))"
   ]
  },
  {
   "cell_type": "code",
   "execution_count": 17,
   "metadata": {
    "collapsed": true
   },
   "outputs": [],
   "source": [
    "dx = x[index]-x[jndex]\n",
    "dy = y[index]-y[jndex]\n",
    "dz = z[index]-z[jndex]"
   ]
  },
  {
   "cell_type": "code",
   "execution_count": 23,
   "metadata": {
    "collapsed": true
   },
   "outputs": [],
   "source": [
    "dx[dx<0.] = - dx[dx<0.]\n",
    "dy[dy<0.] = - dy[dy<0.]\n",
    "dz[dz<0.] = - dz[dz<0.]"
   ]
  },
  {
   "cell_type": "code",
   "execution_count": 25,
   "metadata": {
    "collapsed": true
   },
   "outputs": [],
   "source": [
    "dx[dx > np.pi] = 2*np.pi - dx[dx > np.pi]\n",
    "dy[dy > np.pi] = 2*np.pi - dy[dy > np.pi]\n",
    "dz[dz > np.pi] = 2*np.pi - dz[dz > np.pi]"
   ]
  },
  {
   "cell_type": "code",
   "execution_count": 34,
   "metadata": {
    "collapsed": true
   },
   "outputs": [],
   "source": [
    "r2 = dx**2 + dy**2 + dz**2 \n",
    "r2rt = np.sqrt(r2)"
   ]
  },
  {
   "cell_type": "code",
   "execution_count": 43,
   "metadata": {
    "collapsed": true
   },
   "outputs": [],
   "source": [
    "nbins = 100\n",
    "minrt = 0. #np.min(r2rt)\n",
    "maxrt = np.pi*np.sqrt(3) #np.max(r2rt)\n",
    "bins = np.linspace(minrt,maxrt,num=nbins,endpoint=True)"
   ]
  },
  {
   "cell_type": "code",
   "execution_count": 44,
   "metadata": {
    "collapsed": false
   },
   "outputs": [
    {
     "name": "stdout",
     "output_type": "stream",
     "text": [
      "(0.0, 5.4413980927026531, 100)\n",
      "[ 0.          0.05496362  0.10992723  0.16489085  0.21985447  0.27481809\n",
      "  0.3297817   0.38474532  0.43970894  0.49467255  0.54963617  0.60459979\n",
      "  0.65956341  0.71452702  0.76949064  0.82445426  0.87941787  0.93438149\n",
      "  0.98934511  1.04430872  1.09927234  1.15423596  1.20919958  1.26416319\n",
      "  1.31912681  1.37409043  1.42905404  1.48401766  1.53898128  1.5939449\n",
      "  1.64890851  1.70387213  1.75883575  1.81379936  1.86876298  1.9237266\n",
      "  1.97869022  2.03365383  2.08861745  2.14358107  2.19854468  2.2535083\n",
      "  2.30847192  2.36343554  2.41839915  2.47336277  2.52832639  2.58329\n",
      "  2.63825362  2.69321724  2.74818085  2.80314447  2.85810809  2.91307171\n",
      "  2.96803532  3.02299894  3.07796256  3.13292617  3.18788979  3.24285341\n",
      "  3.29781703  3.35278064  3.40774426  3.46270788  3.51767149  3.57263511\n",
      "  3.62759873  3.68256235  3.73752596  3.79248958  3.8474532   3.90241681\n",
      "  3.95738043  4.01234405  4.06730767  4.12227128  4.1772349   4.23219852\n",
      "  4.28716213  4.34212575  4.39708937  4.45205298  4.5070166   4.56198022\n",
      "  4.61694384  4.67190745  4.72687107  4.78183469  4.8367983   4.89176192\n",
      "  4.94672554  5.00168916  5.05665277  5.11161639  5.16658001  5.22154362\n",
      "  5.27650724  5.33147086  5.38643448  5.44139809]\n"
     ]
    }
   ],
   "source": [
    "print(minrt,maxrt,nbins)\n",
    "print(bins)"
   ]
  },
  {
   "cell_type": "code",
   "execution_count": 45,
   "metadata": {
    "collapsed": true
   },
   "outputs": [],
   "source": [
    "hist,edges = np.histogram(r2rt,bins=bins)"
   ]
  },
  {
   "cell_type": "code",
   "execution_count": 47,
   "metadata": {
    "collapsed": true
   },
   "outputs": [],
   "source": [
    "pbins = (edges[0:nbins-1]+edges[1:nbins])/2"
   ]
  },
  {
   "cell_type": "code",
   "execution_count": null,
   "metadata": {
    "collapsed": true
   },
   "outputs": [],
   "source": [
    "print(edge)"
   ]
  },
  {
   "cell_type": "code",
   "execution_count": 61,
   "metadata": {
    "collapsed": false
   },
   "outputs": [
    {
     "data": {
      "text/plain": [
       "<matplotlib.lines.Line2D at 0x7ffa7c70f050>"
      ]
     },
     "execution_count": 61,
     "metadata": {},
     "output_type": "execute_result"
    },
    {
     "data": {
      "image/png": "[encoded data removed]",
      "text/plain": [
       "<matplotlib.figure.Figure at 0x7ffa7c70f4d0>"
      ]
     },
     "metadata": {},
     "output_type": "display_data"
    }
   ],
   "source": [
    "plt.loglog(pbins,hist)\n",
    "plt.axvline(x=np.pi,color='k')"
   ]
  },
  {
   "cell_type": "code",
   "execution_count": 65,
   "metadata": {
    "collapsed": false
   },
   "outputs": [
    {
     "data": {
      "text/plain": [
       "<matplotlib.lines.Line2D at 0x7fea77d01ad0>"
      ]
     },
     "execution_count": 65,
     "metadata": {},
     "output_type": "execute_result"
    },
    {
     "data": {
      "image/png": "[encoded data removed]",
      "text/plain": [
       "<matplotlib.figure.Figure at 0x7ffa7cc7ed10>"
      ]
     },
     "metadata": {},
     "output_type": "display_data"
    }
   ],
   "source": [
    "plt.plot(pbins,hist)\n",
    "plt.plot(pbins,pbins**2,'g')\n",
    "plt.axvline(x=np.pi,color='k')"
   ]
  },
  {
   "cell_type": "code",
   "execution_count": 62,
   "metadata": {
    "collapsed": true
   },
   "outputs": [],
   "source": [
    "iu = rdm[index]\n",
    "ju = rdm[jndex]"
   ]
  },
  {
   "cell_type": "code",
   "execution_count": 66,
   "metadata": {
    "collapsed": true
   },
   "outputs": [],
   "source": [
    "du = iu-ju"
   ]
  },
  {
   "cell_type": "code",
   "execution_count": 68,
   "metadata": {
    "collapsed": false
   },
   "outputs": [
    {
     "name": "stdout",
     "output_type": "stream",
     "text": [
      "(array([ 0.50756514,  0.04812345,  0.05929427, ...,  0.23857174,\n",
      "        0.01983845,  0.14068513]), array([-0.1997023 , -0.21304893, -0.14105779, ..., -0.16597761,\n",
      "       -0.41501656, -0.51734372]))\n"
     ]
    }
   ],
   "source": [
    "print(du[du>0],du[du<=0])"
   ]
  },
  {
   "cell_type": "code",
   "execution_count": 69,
   "metadata": {
    "collapsed": true
   },
   "outputs": [],
   "source": [
    "du2 = du**2"
   ]
  },
  {
   "cell_type": "code",
   "execution_count": 72,
   "metadata": {
    "collapsed": false
   },
   "outputs": [],
   "source": [
    "histr,edges = np.histogram(r2rt,bins=bins)\n",
    "histu2,u2edges = np.histogram(r2rt,bins=bins,weights=du2)"
   ]
  },
  {
   "cell_type": "code",
   "execution_count": 73,
   "metadata": {
    "collapsed": false
   },
   "outputs": [
    {
     "name": "stdout",
     "output_type": "stream",
     "text": [
      "[  2.99447927e-01   3.45302120e+00   1.14620976e+01   1.78350787e+01\n",
      "   3.30249660e+01   4.45730938e+01   7.09000159e+01   7.54056816e+01\n",
      "   1.04356864e+02   1.25902161e+02   1.60994472e+02   2.03702047e+02\n",
      "   2.20621166e+02   2.55972786e+02   3.33342912e+02   3.59577015e+02\n",
      "   4.01821770e+02   4.76188854e+02   5.08631027e+02   5.60052805e+02\n",
      "   6.14453832e+02   6.79918186e+02   7.62059564e+02   8.26351857e+02\n",
      "   9.06044784e+02   9.39276172e+02   1.02699814e+03   1.14375853e+03\n",
      "   1.17876962e+03   1.29308312e+03   1.38423739e+03   1.49716484e+03\n",
      "   1.58446932e+03   1.60057283e+03   1.77684309e+03   1.86385238e+03\n",
      "   1.93207561e+03   2.08592543e+03   2.16252426e+03   2.32058874e+03\n",
      "   2.44852696e+03   2.53806217e+03   2.65604921e+03   2.79629637e+03\n",
      "   2.93565075e+03   3.03717044e+03   3.18939631e+03   3.33475534e+03\n",
      "   3.44418447e+03   3.54722170e+03   3.70486965e+03   3.83306687e+03\n",
      "   4.11033400e+03   4.17333273e+03   4.37677372e+03   4.55903144e+03\n",
      "   4.66800889e+03   4.75858647e+03   4.61791432e+03   4.54335394e+03\n",
      "   4.53883664e+03   4.43935542e+03   4.28920246e+03   4.17646748e+03\n",
      "   4.04105330e+03   3.90696040e+03   3.78350212e+03   3.62298949e+03\n",
      "   3.51889621e+03   3.32056666e+03   3.14193138e+03   2.95996607e+03\n",
      "   2.78042488e+03   2.73255056e+03   2.48089595e+03   2.27141896e+03\n",
      "   2.06522781e+03   1.86058855e+03   1.66848642e+03   1.47652020e+03\n",
      "   1.24519963e+03   1.05222349e+03   9.10749923e+02   7.76232637e+02\n",
      "   6.10720228e+02   5.29465708e+02   4.42724898e+02   3.89066816e+02\n",
      "   3.01260929e+02   2.55456707e+02   1.91388315e+02   1.44413310e+02\n",
      "   1.05792772e+02   6.98528902e+01   4.59240232e+01   2.89900510e+01\n",
      "   1.39264894e+01   7.69169267e+00   3.42388256e-01]\n"
     ]
    }
   ],
   "source": [
    "print(histu2)"
   ]
  },
  {
   "cell_type": "code",
   "execution_count": 78,
   "metadata": {
    "collapsed": false
   },
   "outputs": [
    {
     "data": {
      "text/plain": [
       "[<matplotlib.lines.Line2D at 0x7fea77a992d0>]"
      ]
     },
     "execution_count": 78,
     "metadata": {},
     "output_type": "execute_result"
    },
    {
     "data": {
      "image/png": "[encoded data removed]",
      "text/plain": [
       "<matplotlib.figure.Figure at 0x7fea77a99510>"
      ]
     },
     "metadata": {},
     "output_type": "display_data"
    }
   ],
   "source": [
    "plt.ylim((0,1))\n",
    "plt.plot(pbins,histu2/histr)"
   ]
  },
  {
   "cell_type": "code",
   "execution_count": null,
   "metadata": {
    "collapsed": true
   },
   "outputs": [],
   "source": []
  }
 ],
 "metadata": {
  "kernelspec": {
   "display_name": "Python 2",
   "language": "python",
   "name": "python2"
  },
  "language_info": {
   "codemirror_mode": {
    "name": "ipython",
    "version": 2
   },
   "file_extension": ".py",
   "mimetype": "text/x-python",
   "name": "python",
   "nbconvert_exporter": "python",
   "pygments_lexer": "ipython2",
   "version": "2.7.11"
  }
 },
 "nbformat": 4,
 "nbformat_minor": 0
}
