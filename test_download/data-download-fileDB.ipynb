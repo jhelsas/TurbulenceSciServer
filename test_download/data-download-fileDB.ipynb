{
 "cells": [
  {
   "cell_type": "code",
   "execution_count": 1,
   "metadata": {
    "collapsed": false
   },
   "outputs": [],
   "source": [
    "import os\n",
    "import io\n",
    "import sys\n",
    "import time\n",
    "import pymp\n",
    "import h5py\n",
    "import urllib \n",
    "import ctypes\n",
    "import pymorton as pym\n",
    "import requests\n",
    "import numpy as np\n",
    "import pyJHTDB\n",
    "from pyJHTDB.dbinfo import isotropic1024coarse\n",
    "from pyJHTDB import libJHTDB"
   ]
  },
  {
   "cell_type": "code",
   "execution_count": 2,
   "metadata": {
    "collapsed": true
   },
   "outputs": [],
   "source": [
    "os.environ['TMPDIR']='/home/idies/workspace/scratch'\n",
    "\n",
    "Nx = isotropic1024coarse['nx']; Ny = isotropic1024coarse['ny']; Nz = isotropic1024coarse['nz']\n",
    "Lx = isotropic1024coarse['lx']; Ly = isotropic1024coarse['ly']; Lz = isotropic1024coarse['lz']\n",
    "\n",
    "dataset = 'isotropic1024coarse'\n",
    "getFunction='Velocity'\n",
    "t = 0.0; nx=Nx; ny=Ny; nz=Nz\n",
    "chkSz = 32; slabs = nx//chkSz"
   ]
  },
  {
   "cell_type": "code",
   "execution_count": 3,
   "metadata": {
    "collapsed": false
   },
   "outputs": [
    {
     "ename": "error",
     "evalue": "[Errno 2] No such file or directory",
     "output_type": "error",
     "traceback": [
      "\u001b[1;31m\u001b[0m",
      "\u001b[1;31merror\u001b[0mTraceback (most recent call last)",
      "\u001b[1;32m<ipython-input-3-2daca55fd68b>\u001b[0m in \u001b[0;36m<module>\u001b[1;34m()\u001b[0m\n\u001b[0;32m      9\u001b[0m         \u001b[0mn\u001b[0m\u001b[1;33m=\u001b[0m\u001b[0mint\u001b[0m\u001b[1;33m(\u001b[0m\u001b[0mlen\u001b[0m\u001b[1;33m(\u001b[0m\u001b[0md\u001b[0m\u001b[1;33m)\u001b[0m\u001b[1;33m/\u001b[0m\u001b[1;36m4\u001b[0m\u001b[1;33m)\u001b[0m\u001b[1;33m\u001b[0m\u001b[0m\n\u001b[0;32m     10\u001b[0m         \u001b[0m_arr\u001b[0m\u001b[1;33m=\u001b[0m\u001b[0mnp\u001b[0m\u001b[1;33m.\u001b[0m\u001b[0mfrombuffer\u001b[0m\u001b[1;33m(\u001b[0m\u001b[0md\u001b[0m\u001b[1;33m,\u001b[0m\u001b[0mdtype\u001b[0m\u001b[1;33m=\u001b[0m\u001b[0mnp\u001b[0m\u001b[1;33m.\u001b[0m\u001b[0mfloat32\u001b[0m\u001b[1;33m,\u001b[0m\u001b[0mcount\u001b[0m\u001b[1;33m=\u001b[0m\u001b[0mn\u001b[0m\u001b[1;33m)\u001b[0m\u001b[1;33m\u001b[0m\u001b[0m\n\u001b[1;32m---> 11\u001b[1;33m         \u001b[0md\u001b[0m\u001b[1;33m=\u001b[0m\u001b[0mNone\u001b[0m\u001b[1;33m\u001b[0m\u001b[0m\n\u001b[0m\u001b[0;32m     12\u001b[0m \u001b[1;33m\u001b[0m\u001b[0m\n\u001b[0;32m     13\u001b[0m \u001b[0mt2\u001b[0m \u001b[1;33m=\u001b[0m \u001b[0mtime\u001b[0m\u001b[1;33m.\u001b[0m\u001b[0mtime\u001b[0m\u001b[1;33m(\u001b[0m\u001b[1;33m)\u001b[0m\u001b[1;33m\u001b[0m\u001b[0m\n",
      "\u001b[1;32m/home/idies/anaconda3/envs/py27/lib/python2.7/site-packages/pymp/__init__.pyc\u001b[0m in \u001b[0;36m__exit__\u001b[1;34m(self, exc_t, exc_val, exc_tb)\u001b[0m\n\u001b[0;32m    108\u001b[0m         \u001b[1;32mif\u001b[0m \u001b[0mexc_t\u001b[0m \u001b[1;32mis\u001b[0m \u001b[1;32mnot\u001b[0m \u001b[0mNone\u001b[0m\u001b[1;33m:\u001b[0m\u001b[1;33m\u001b[0m\u001b[0m\n\u001b[0;32m    109\u001b[0m             \u001b[1;32mwith\u001b[0m \u001b[0mself\u001b[0m\u001b[1;33m.\u001b[0m\u001b[0m_exception_lock\u001b[0m\u001b[1;33m:\u001b[0m\u001b[1;33m\u001b[0m\u001b[0m\n\u001b[1;32m--> 110\u001b[1;33m                 \u001b[0mself\u001b[0m\u001b[1;33m.\u001b[0m\u001b[0m_exception_queue\u001b[0m\u001b[1;33m.\u001b[0m\u001b[0mput\u001b[0m\u001b[1;33m(\u001b[0m\u001b[1;33m(\u001b[0m\u001b[0mexc_t\u001b[0m\u001b[1;33m,\u001b[0m \u001b[0mexc_val\u001b[0m\u001b[1;33m,\u001b[0m \u001b[0mself\u001b[0m\u001b[1;33m.\u001b[0m\u001b[0m_thread_num\u001b[0m\u001b[1;33m)\u001b[0m\u001b[1;33m)\u001b[0m\u001b[1;33m\u001b[0m\u001b[0m\n\u001b[0m\u001b[0;32m    111\u001b[0m         \u001b[1;32mif\u001b[0m \u001b[0mself\u001b[0m\u001b[1;33m.\u001b[0m\u001b[0m_is_fork\u001b[0m\u001b[1;33m:\u001b[0m  \u001b[1;31m# pragma: no cover\u001b[0m\u001b[1;33m\u001b[0m\u001b[0m\n\u001b[0;32m    112\u001b[0m             _LOGGER.debug(\"Process %d done. Shutting down.\",\n",
      "\u001b[1;32m<string>\u001b[0m in \u001b[0;36mput\u001b[1;34m(self, *args, **kwds)\u001b[0m\n",
      "\u001b[1;32m/home/idies/anaconda3/envs/py27/lib/python2.7/multiprocessing/managers.pyc\u001b[0m in \u001b[0;36m_callmethod\u001b[1;34m(self, methodname, args, kwds)\u001b[0m\n\u001b[0;32m    753\u001b[0m             util.debug('thread %r does not own a connection',\n\u001b[0;32m    754\u001b[0m                        threading.current_thread().name)\n\u001b[1;32m--> 755\u001b[1;33m             \u001b[0mself\u001b[0m\u001b[1;33m.\u001b[0m\u001b[0m_connect\u001b[0m\u001b[1;33m(\u001b[0m\u001b[1;33m)\u001b[0m\u001b[1;33m\u001b[0m\u001b[0m\n\u001b[0m\u001b[0;32m    756\u001b[0m             \u001b[0mconn\u001b[0m \u001b[1;33m=\u001b[0m \u001b[0mself\u001b[0m\u001b[1;33m.\u001b[0m\u001b[0m_tls\u001b[0m\u001b[1;33m.\u001b[0m\u001b[0mconnection\u001b[0m\u001b[1;33m\u001b[0m\u001b[0m\n\u001b[0;32m    757\u001b[0m \u001b[1;33m\u001b[0m\u001b[0m\n",
      "\u001b[1;32m/home/idies/anaconda3/envs/py27/lib/python2.7/multiprocessing/managers.pyc\u001b[0m in \u001b[0;36m_connect\u001b[1;34m(self)\u001b[0m\n\u001b[0;32m    740\u001b[0m         \u001b[1;32mif\u001b[0m \u001b[0mthreading\u001b[0m\u001b[1;33m.\u001b[0m\u001b[0mcurrent_thread\u001b[0m\u001b[1;33m(\u001b[0m\u001b[1;33m)\u001b[0m\u001b[1;33m.\u001b[0m\u001b[0mname\u001b[0m \u001b[1;33m!=\u001b[0m \u001b[1;34m'MainThread'\u001b[0m\u001b[1;33m:\u001b[0m\u001b[1;33m\u001b[0m\u001b[0m\n\u001b[0;32m    741\u001b[0m             \u001b[0mname\u001b[0m \u001b[1;33m+=\u001b[0m \u001b[1;34m'|'\u001b[0m \u001b[1;33m+\u001b[0m \u001b[0mthreading\u001b[0m\u001b[1;33m.\u001b[0m\u001b[0mcurrent_thread\u001b[0m\u001b[1;33m(\u001b[0m\u001b[1;33m)\u001b[0m\u001b[1;33m.\u001b[0m\u001b[0mname\u001b[0m\u001b[1;33m\u001b[0m\u001b[0m\n\u001b[1;32m--> 742\u001b[1;33m         \u001b[0mconn\u001b[0m \u001b[1;33m=\u001b[0m \u001b[0mself\u001b[0m\u001b[1;33m.\u001b[0m\u001b[0m_Client\u001b[0m\u001b[1;33m(\u001b[0m\u001b[0mself\u001b[0m\u001b[1;33m.\u001b[0m\u001b[0m_token\u001b[0m\u001b[1;33m.\u001b[0m\u001b[0maddress\u001b[0m\u001b[1;33m,\u001b[0m \u001b[0mauthkey\u001b[0m\u001b[1;33m=\u001b[0m\u001b[0mself\u001b[0m\u001b[1;33m.\u001b[0m\u001b[0m_authkey\u001b[0m\u001b[1;33m)\u001b[0m\u001b[1;33m\u001b[0m\u001b[0m\n\u001b[0m\u001b[0;32m    743\u001b[0m         \u001b[0mdispatch\u001b[0m\u001b[1;33m(\u001b[0m\u001b[0mconn\u001b[0m\u001b[1;33m,\u001b[0m \u001b[0mNone\u001b[0m\u001b[1;33m,\u001b[0m \u001b[1;34m'accept_connection'\u001b[0m\u001b[1;33m,\u001b[0m \u001b[1;33m(\u001b[0m\u001b[0mname\u001b[0m\u001b[1;33m,\u001b[0m\u001b[1;33m)\u001b[0m\u001b[1;33m)\u001b[0m\u001b[1;33m\u001b[0m\u001b[0m\n\u001b[0;32m    744\u001b[0m         \u001b[0mself\u001b[0m\u001b[1;33m.\u001b[0m\u001b[0m_tls\u001b[0m\u001b[1;33m.\u001b[0m\u001b[0mconnection\u001b[0m \u001b[1;33m=\u001b[0m \u001b[0mconn\u001b[0m\u001b[1;33m\u001b[0m\u001b[0m\n",
      "\u001b[1;32m/home/idies/anaconda3/envs/py27/lib/python2.7/multiprocessing/connection.pyc\u001b[0m in \u001b[0;36mClient\u001b[1;34m(address, family, authkey)\u001b[0m\n\u001b[0;32m    167\u001b[0m         \u001b[0mc\u001b[0m \u001b[1;33m=\u001b[0m \u001b[0mPipeClient\u001b[0m\u001b[1;33m(\u001b[0m\u001b[0maddress\u001b[0m\u001b[1;33m)\u001b[0m\u001b[1;33m\u001b[0m\u001b[0m\n\u001b[0;32m    168\u001b[0m     \u001b[1;32melse\u001b[0m\u001b[1;33m:\u001b[0m\u001b[1;33m\u001b[0m\u001b[0m\n\u001b[1;32m--> 169\u001b[1;33m         \u001b[0mc\u001b[0m \u001b[1;33m=\u001b[0m \u001b[0mSocketClient\u001b[0m\u001b[1;33m(\u001b[0m\u001b[0maddress\u001b[0m\u001b[1;33m)\u001b[0m\u001b[1;33m\u001b[0m\u001b[0m\n\u001b[0m\u001b[0;32m    170\u001b[0m \u001b[1;33m\u001b[0m\u001b[0m\n\u001b[0;32m    171\u001b[0m     \u001b[1;32mif\u001b[0m \u001b[0mauthkey\u001b[0m \u001b[1;32mis\u001b[0m \u001b[1;32mnot\u001b[0m \u001b[0mNone\u001b[0m \u001b[1;32mand\u001b[0m \u001b[1;32mnot\u001b[0m \u001b[0misinstance\u001b[0m\u001b[1;33m(\u001b[0m\u001b[0mauthkey\u001b[0m\u001b[1;33m,\u001b[0m \u001b[0mbytes\u001b[0m\u001b[1;33m)\u001b[0m\u001b[1;33m:\u001b[0m\u001b[1;33m\u001b[0m\u001b[0m\n",
      "\u001b[1;32m/home/idies/anaconda3/envs/py27/lib/python2.7/multiprocessing/connection.pyc\u001b[0m in \u001b[0;36mSocketClient\u001b[1;34m(address)\u001b[0m\n\u001b[0;32m    306\u001b[0m         \u001b[0ms\u001b[0m\u001b[1;33m.\u001b[0m\u001b[0msetblocking\u001b[0m\u001b[1;33m(\u001b[0m\u001b[0mTrue\u001b[0m\u001b[1;33m)\u001b[0m\u001b[1;33m\u001b[0m\u001b[0m\n\u001b[0;32m    307\u001b[0m         \u001b[1;32mtry\u001b[0m\u001b[1;33m:\u001b[0m\u001b[1;33m\u001b[0m\u001b[0m\n\u001b[1;32m--> 308\u001b[1;33m             \u001b[0ms\u001b[0m\u001b[1;33m.\u001b[0m\u001b[0mconnect\u001b[0m\u001b[1;33m(\u001b[0m\u001b[0maddress\u001b[0m\u001b[1;33m)\u001b[0m\u001b[1;33m\u001b[0m\u001b[0m\n\u001b[0m\u001b[0;32m    309\u001b[0m         \u001b[1;32mexcept\u001b[0m \u001b[0msocket\u001b[0m\u001b[1;33m.\u001b[0m\u001b[0merror\u001b[0m\u001b[1;33m,\u001b[0m \u001b[0me\u001b[0m\u001b[1;33m:\u001b[0m\u001b[1;33m\u001b[0m\u001b[0m\n\u001b[0;32m    310\u001b[0m             \u001b[0ms\u001b[0m\u001b[1;33m.\u001b[0m\u001b[0mclose\u001b[0m\u001b[1;33m(\u001b[0m\u001b[1;33m)\u001b[0m\u001b[1;33m\u001b[0m\u001b[0m\n",
      "\u001b[1;32m/home/idies/anaconda3/envs/py27/lib/python2.7/socket.pyc\u001b[0m in \u001b[0;36mmeth\u001b[1;34m(name, self, *args)\u001b[0m\n\u001b[0;32m    226\u001b[0m \u001b[1;33m\u001b[0m\u001b[0m\n\u001b[0;32m    227\u001b[0m \u001b[1;32mdef\u001b[0m \u001b[0mmeth\u001b[0m\u001b[1;33m(\u001b[0m\u001b[0mname\u001b[0m\u001b[1;33m,\u001b[0m\u001b[0mself\u001b[0m\u001b[1;33m,\u001b[0m\u001b[1;33m*\u001b[0m\u001b[0margs\u001b[0m\u001b[1;33m)\u001b[0m\u001b[1;33m:\u001b[0m\u001b[1;33m\u001b[0m\u001b[0m\n\u001b[1;32m--> 228\u001b[1;33m     \u001b[1;32mreturn\u001b[0m \u001b[0mgetattr\u001b[0m\u001b[1;33m(\u001b[0m\u001b[0mself\u001b[0m\u001b[1;33m.\u001b[0m\u001b[0m_sock\u001b[0m\u001b[1;33m,\u001b[0m\u001b[0mname\u001b[0m\u001b[1;33m)\u001b[0m\u001b[1;33m(\u001b[0m\u001b[1;33m*\u001b[0m\u001b[0margs\u001b[0m\u001b[1;33m)\u001b[0m\u001b[1;33m\u001b[0m\u001b[0m\n\u001b[0m\u001b[0;32m    229\u001b[0m \u001b[1;33m\u001b[0m\u001b[0m\n\u001b[0;32m    230\u001b[0m \u001b[1;32mfor\u001b[0m \u001b[0m_m\u001b[0m \u001b[1;32min\u001b[0m \u001b[0m_socketmethods\u001b[0m\u001b[1;33m:\u001b[0m\u001b[1;33m\u001b[0m\u001b[0m\n",
      "\u001b[1;31merror\u001b[0m: [Errno 2] No such file or directory"
     ]
    }
   ],
   "source": [
    "t1 = time.time()\n",
    "\n",
    "threads = 8\n",
    "\n",
    "with pymp.Parallel(threads) as p:\n",
    "    for idx in p.range(0,threads):\n",
    "        virgo_url = 'http://virgo02/turbdb/turbdb10'+str(idx+1)+'_0.bin' \n",
    "        d=urllib.urlopen(virgo_url).read()\n",
    "        n=int(len(d)/4)\n",
    "        _arr=np.frombuffer(d,dtype=np.float32,count=n)\n",
    "        d=None\n",
    "        \n",
    "t2 = time.time()\n",
    "sys.stdout.write('Getting the data: {0:.2f} seconds\\n'.format(t2-t1))"
   ]
  },
  {
   "cell_type": "code",
   "execution_count": 4,
   "metadata": {
    "collapsed": false
   },
   "outputs": [
    {
     "name": "stdout",
     "output_type": "stream",
     "text": [
      "Getting the data: 35.10 seconds\n"
     ]
    }
   ],
   "source": [
    "t1 = time.time()\n",
    "\n",
    "threads = 8\n",
    "\n",
    "with pymp.Parallel(threads) as p:\n",
    "    for idx in p.range(0,threads):\n",
    "        virgo_url = 'http://virgo02/turbulence/part'+str(idx+1)+'/turbdb10'+str(idx+1)+'_0.bin'\n",
    "        d=urllib.urlopen(virgo_url).read()\n",
    "        n=int(len(d)/4)\n",
    "        _arr=np.frombuffer(d,dtype=np.float32,count=n)\n",
    "        d=None\n",
    "        \n",
    "t2 = time.time()\n",
    "sys.stdout.write('Getting the data: {0:.2f} seconds\\n'.format(t2-t1))"
   ]
  },
  {
   "cell_type": "code",
   "execution_count": 5,
   "metadata": {
    "collapsed": false
   },
   "outputs": [
    {
     "name": "stdout",
     "output_type": "stream",
     "text": [
      "Getting the data: 22.21 seconds\n"
     ]
    }
   ],
   "source": [
    "t1 = time.time()\n",
    "\n",
    "threads = 8\n",
    "\n",
    "with pymp.Parallel(threads) as p:\n",
    "    for idx in p.range(0,threads):\n",
    "        virgo_url = 'http://dsp060/disk0'+str(idx+1)+'/filedb/turbulence/turbdb10'+str(idx+1)+'_0.bin'\n",
    "        d=urllib.urlopen(virgo_url).read()\n",
    "        n=int(len(d)/4)\n",
    "        _arr=np.frombuffer(d,dtype=np.float32,count=n)\n",
    "        d=None\n",
    "        \n",
    "t2 = time.time()\n",
    "sys.stdout.write('Getting the data: {0:.2f} seconds\\n'.format(t2-t1))"
   ]
  },
  {
   "cell_type": "code",
   "execution_count": 6,
   "metadata": {
    "collapsed": false
   },
   "outputs": [
    {
     "name": "stdout",
     "output_type": "stream",
     "text": [
      "True\n"
     ]
    }
   ],
   "source": [
    "print(_arr.shape[0]==3*(512**3))"
   ]
  },
  {
   "cell_type": "code",
   "execution_count": 4,
   "metadata": {
    "collapsed": false
   },
   "outputs": [
    {
     "name": "stdout",
     "output_type": "stream",
     "text": [
      "Reshaping: 8.66 seconds\n"
     ]
    }
   ],
   "source": [
    "t1 = time.time()\n",
    "\n",
    "zmin = pym.interleave3(0,0,0)\n",
    "zmax = pym.interleave3(511,511,511)\n",
    "bs = 8\n",
    "blobsize = bs*bs*bs\n",
    "\n",
    "nb = 512\n",
    "uBlock = np.zeros((nb,nb,nb),dtype='float32')\n",
    "vBlock = np.zeros((nb,nb,nb),dtype='float32')\n",
    "wBlock = np.zeros((nb,nb,nb),dtype='float32')\n",
    "\n",
    "for zindex in range(zmin,zmax,blobsize):\n",
    "    coord = pym.deinterleave3(zindex)\n",
    "    c0 = coord[2]; c1 = coord[1]; c2 = coord[0]\n",
    "        \n",
    "    blob = _arr[3*zindex:3*(zindex+blobsize)]\n",
    "    block = np.reshape(blob,(bs,bs,bs,3),order='F')\n",
    "    \n",
    "    uBlock[c0:(c0+bs),c1:(c1+bs),c2:(c2+bs)] = block[:,:,:,0]\n",
    "    vBlock[c0:(c0+bs),c1:(c1+bs),c2:(c2+bs)] = block[:,:,:,1]\n",
    "    wBlock[c0:(c0+bs),c1:(c1+bs),c2:(c2+bs)] = block[:,:,:,2]\n",
    "    \n",
    "t2 = time.time()\n",
    "sys.stdout.write('Reshaping: {0:.2f} seconds\\n'.format(t2-t1))"
   ]
  },
  {
   "cell_type": "code",
   "execution_count": 17,
   "metadata": {
    "collapsed": false
   },
   "outputs": [
    {
     "name": "stdout",
     "output_type": "stream",
     "text": [
      "/home/idies/workspace/scratch\n"
     ]
    }
   ],
   "source": [
    "print(os.environ['TMPDIR'])"
   ]
  },
  {
   "cell_type": "code",
   "execution_count": 18,
   "metadata": {
    "collapsed": false
   },
   "outputs": [
    {
     "name": "stdout",
     "output_type": "stream",
     "text": [
      "Download from the database: 11.06 seconds\n"
     ]
    }
   ],
   "source": [
    "t1 = time.time()\n",
    "\n",
    "shu = pymp.shared.array((Nx,Ny,Nz), dtype='float32')\n",
    "shv = pymp.shared.array((Nx,Ny,Nz), dtype='float32')\n",
    "shw = pymp.shared.array((Nx,Ny,Nz), dtype='float32')\n",
    "\n",
    "t2 = time.time()\n",
    "sys.stdout.write('Download from the database: {0:.2f} seconds\\n'.format(t2-t1))"
   ]
  },
  {
   "cell_type": "code",
   "execution_count": 21,
   "metadata": {
    "collapsed": false
   },
   "outputs": [
    {
     "name": "stdout",
     "output_type": "stream",
     "text": [
      "Downloading\n",
      "z-reordering\n",
      "writing the blocks on the right places\n",
      "Getting the data: 35.97 seconds\n"
     ]
    }
   ],
   "source": [
    "t1 = time.time()\n",
    "\n",
    "threads = 8\n",
    "\n",
    "zmin = pym.interleave3(0,0,0)\n",
    "zmax = pym.interleave3(511,511,511)+1\n",
    "bs = 8\n",
    "blobsize = bs*bs*bs\n",
    "\n",
    "with pymp.Parallel(threads) as p:\n",
    "    for idx in p.range(0,threads):\n",
    "        if idx==0:\n",
    "            print(\"Downloading\")\n",
    "        \n",
    "        virgo_url = 'http://dsp060/disk0'+str(idx+1)+'/filedb/turbulence/turbdb10'+str(idx+1)+'_0.bin'\n",
    "        d=urllib.urlopen(virgo_url).read()\n",
    "        n=int(len(d)/4)\n",
    "        _arr=np.frombuffer(d,dtype=np.float32,count=n)\n",
    "        d=None\n",
    "        \n",
    "        ######################################\n",
    "        \n",
    "        if idx==0:\n",
    "            print(\"z-reordering\")\n",
    "            \n",
    "        nb = 512\n",
    "        uBlock = np.zeros((nb,nb,nb),dtype='float32')\n",
    "        vBlock = np.zeros((nb,nb,nb),dtype='float32')\n",
    "        wBlock = np.zeros((nb,nb,nb),dtype='float32')\n",
    "        \n",
    "        for zindex in range(zmin,zmax,blobsize):\n",
    "            coord = pym.deinterleave3(zindex)\n",
    "            c0 = coord[0]; c1 = coord[1]; c2 = coord[2]\n",
    "            \n",
    "            blob = _arr[3*zindex:3*(zindex+blobsize)]\n",
    "            block = np.reshape(blob,(bs,bs,bs,3),order='C')\n",
    "            \n",
    "            uBlock[c0:(c0+bs),c1:(c1+bs),c2:(c2+bs)] = np.transpose(block[:,:,:,0])\n",
    "            vBlock[c0:(c0+bs),c1:(c1+bs),c2:(c2+bs)] = np.transpose(block[:,:,:,1])\n",
    "            wBlock[c0:(c0+bs),c1:(c1+bs),c2:(c2+bs)] = np.transpose(block[:,:,:,2])\n",
    "            \n",
    "        #######################################\n",
    "        \n",
    "        if idx==0:\n",
    "            print(\"writing the blocks on the right places\")\n",
    "                \n",
    "        Coord = pym.deinterleave3(idx)\n",
    "        C0 = Coord[0]; C1 = Coord[1]; C2 = Coord[2]\n",
    "        \n",
    "        shu[C0*nb:(C0+1)*nb,C1*nb:(C1+1)*nb,C2*nb:(C2+1)*nb] = uBlock[:,:,:]\n",
    "        shv[C0*nb:(C0+1)*nb,C1*nb:(C1+1)*nb,C2*nb:(C2+1)*nb] = vBlock[:,:,:]\n",
    "        shw[C0*nb:(C0+1)*nb,C1*nb:(C1+1)*nb,C2*nb:(C2+1)*nb] = wBlock[:,:,:]\n",
    "        \n",
    "        ########################################\n",
    "            \n",
    "        del uBlock,vBlock,wBlock\n",
    "        \n",
    "t2 = time.time()\n",
    "sys.stdout.write('Getting the data: {0:.2f} seconds\\n'.format(t2-t1))"
   ]
  },
  {
   "cell_type": "code",
   "execution_count": 22,
   "metadata": {
    "collapsed": false
   },
   "outputs": [
    {
     "name": "stdout",
     "output_type": "stream",
     "text": [
      "[ 0.  0.  0.  0.  0.  0.  0.  0.  0.  0.  0.  0.  0.  0.  0.  0.  0.  0.]\n",
      "[ 0.  0.  0.  0.  0.  0.  0.  0.  0.  0.  0.  0.  0.  0.  0.]\n",
      "[ 0.  0.  0.  0.  0.  0.  0.  0.  0.  0.  0.  0.  0.  0.  0.]\n"
     ]
    }
   ],
   "source": [
    "print(shu[shu==0])\n",
    "print(shv[shv==0])\n",
    "print(shw[shw==0])"
   ]
  },
  {
   "cell_type": "code",
   "execution_count": 13,
   "metadata": {
    "collapsed": false
   },
   "outputs": [
    {
     "name": "stdout",
     "output_type": "stream",
     "text": [
      "Write in disk: 143.95 seconds\n"
     ]
    }
   ],
   "source": [
    "t1 = time.time()\n",
    "nproc = 8\n",
    "for k in range(nproc):\n",
    "    folder = \"/home/idies/workspace/scratch\"\n",
    "    filename = \"zturbdb-isotropic1024coarse-\"+str(k)+\".npz\"\n",
    "    filet = folder + \"/\" + filename\n",
    "    np.savez(filet,u=shu[k*(Nx//nproc):(k+1)*(Nx//nproc),:,:],v=shv[k*(Nx//nproc):(k+1)*(Nx//nproc),:,:],w=shw[k*(Nx//nproc):(k+1)*(Nx//nproc),:,:],nproc=nproc)\n",
    "t2 = time.time()\n",
    "sys.stdout.write('Write in disk: {0:.2f} seconds\\n'.format(t2-t1))"
   ]
  },
  {
   "cell_type": "code",
   "execution_count": 24,
   "metadata": {
    "collapsed": false
   },
   "outputs": [
    {
     "name": "stdout",
     "output_type": "stream",
     "text": [
      "Write hdf5 file: 34.32 seconds\n"
     ]
    }
   ],
   "source": [
    "t1 = time.time()\n",
    "\n",
    "folder = \"/home/idies/workspace/scratch\"\n",
    "h5f = h5py.File(folder+'/'+'velocity-zfileDB.h5','w')\n",
    "h5f.create_dataset('u',data=shu)\n",
    "h5f.create_dataset('v',data=shv)\n",
    "h5f.create_dataset('w',data=shw)\n",
    "h5f.close()\n",
    "\n",
    "t2 = time.time()\n",
    "sys.stdout.write('Write hdf5 file: {0:.2f} seconds\\n'.format(t2-t1))"
   ]
  },
  {
   "cell_type": "code",
   "execution_count": null,
   "metadata": {
    "collapsed": true
   },
   "outputs": [],
   "source": []
  }
 ],
 "metadata": {
  "kernelspec": {
   "display_name": "Python 2",
   "language": "python",
   "name": "python2"
  },
  "language_info": {
   "codemirror_mode": {
    "name": "ipython",
    "version": 2
   },
   "file_extension": ".py",
   "mimetype": "text/x-python",
   "name": "python",
   "nbconvert_exporter": "python",
   "pygments_lexer": "ipython2",
   "version": "2.7.11"
  }
 },
 "nbformat": 4,
 "nbformat_minor": 0
}
