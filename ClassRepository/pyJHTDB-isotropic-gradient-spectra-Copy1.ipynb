{
 "cells": [
  {
   "cell_type": "markdown",
   "metadata": {},
   "source": [
    "This notebook is an example of use of 3D FFTs on the Johns Hopkins turbulence databases to calculate vorticity and dissipation rate (strain rate) level curves using spectral derivatives. It is very important that the commented line below, refering to 'ipcluster' to be run in a separate notebook, to start an ipcluster mpi enviroment. Also, the cell magic '%%px' must be present in all cells using mpi."
   ]
  },
  {
   "cell_type": "code",
   "execution_count": 1,
   "metadata": {
    "collapsed": true
   },
   "outputs": [],
   "source": [
    "#!ipcluster start -n 8 --engines=MPI --profile='mpi' # for parallel run: start the engines using terminal\n",
    "from ipyparallel import Client\n",
    "rc = Client(profile='mpi')\n"
   ]
  },
  {
   "cell_type": "markdown",
   "metadata": {},
   "source": [
    "Before anything else, it is necessary to import all libraries, which includes, numpy, pyFFTW for Fourier transform, mpi4py for paralellism, pyJHTDB for download, and the remainder Kun's libraries, FFT3D, IFFT3D and energy spectrum."
   ]
  },
  {
   "cell_type": "code",
   "execution_count": 2,
   "metadata": {
    "collapsed": false
   },
   "outputs": [],
   "source": [
    "%%px\n",
    "# Import the libraries\n",
    "\n",
    "import pyfftw as ft \n",
    "import numpy as np\n",
    "from mpi4py import MPI\n",
    "import math\n",
    "import sys\n",
    "import os\n",
    "import pyJHTDB\n",
    "from pyJHTDB.dbinfo import isotropic1024coarse\n",
    "from pyJHTDB import libJHTDB\n",
    "\n",
    "from FFT3Dfield import FFT3Dfield\n",
    "from IFFT3Dfield import IFFT3Dfield\n",
    "from EnergySpectrum import EnergySpectrum"
   ]
  },
  {
   "cell_type": "markdown",
   "metadata": {},
   "source": [
    "Then we set the parameters related to the dataset we are interested in, which include $N_x$,$N_y$ and $N_z$ for the domain grid, $L_x$,$L_y$ and $L_z$ for the size."
   ]
  },
  {
   "cell_type": "code",
   "execution_count": 3,
   "metadata": {
    "collapsed": true
   },
   "outputs": [],
   "source": [
    "%%px\n",
    "\n",
    "Nx = isotropic1024coarse['nx']\n",
    "Ny = isotropic1024coarse['ny']\n",
    "Nz = isotropic1024coarse['nz']\n",
    "Lx = isotropic1024coarse['lx']\n",
    "Ly = isotropic1024coarse['ly']\n",
    "Lz = isotropic1024coarse['lz']"
   ]
  },
  {
   "cell_type": "markdown",
   "metadata": {},
   "source": [
    "It is necessary to get the data from the MPI communicator, in this case MPI.COMM_WORLD, and inquire each process rank (my_id) and the number of processes."
   ]
  },
  {
   "cell_type": "code",
   "execution_count": 14,
   "metadata": {
    "collapsed": false
   },
   "outputs": [
    {
     "name": "stdout",
     "output_type": "stream",
     "text": [
      "[stdout:0] my_id = 3\n",
      "[stdout:1] my_id = 2\n",
      "[stdout:2] my_id = 6\n",
      "[stdout:3] my_id = 7\n",
      "[stdout:4] my_id = 1\n",
      "[stdout:5] my_id = 10\n",
      "[stdout:6] my_id = 13\n",
      "[stdout:7] my_id = 11\n",
      "[stdout:8] \n",
      "n_proc = 16\n",
      "my_id = 0\n",
      "my_id = 0\n",
      "[stdout:9] my_id = 4\n",
      "[stdout:10] my_id = 5\n",
      "[stdout:11] my_id = 12\n",
      "[stdout:12] my_id = 8\n",
      "[stdout:13] my_id = 14\n",
      "[stdout:14] my_id = 15\n",
      "[stdout:15] my_id = 9\n"
     ]
    }
   ],
   "source": [
    "%%px\n",
    "\n",
    "comm = MPI.COMM_WORLD\n",
    "my_id = comm.Get_rank()\n",
    "nproc = comm.Get_size()\n",
    "if(my_id==0):\n",
    "    print(\"n_proc = \"+str(nproc))\n",
    "    print(\"my_id = \"+str(my_id))\n",
    "\n",
    "print(\"my_id = \"+str(my_id))"
   ]
  },
  {
   "cell_type": "markdown",
   "metadata": {},
   "source": [
    "The input for Kun's libraries are the local domains, not the complete domains, among processes, do nx is to be split among the number os processes. Ny and Nz are kept, and for the FFT, it is stored only half of the points, via nz_half. "
   ]
  },
  {
   "cell_type": "code",
   "execution_count": 5,
   "metadata": {
    "collapsed": true
   },
   "outputs": [],
   "source": [
    "%%px \n",
    "# Computational Domain\n",
    "\n",
    "nx=Nx//nproc\n",
    "ny=Ny\n",
    "nz=Nz#//nproc\n",
    "nz_half=nz//2\n",
    "nek=int(math.sqrt(2.0)/3*Nx)"
   ]
  },
  {
   "cell_type": "markdown",
   "metadata": {},
   "source": [
    "The maximum chunk size the database can download on a single function call is $1024 \\times 1024 \\times 32$, so we must divide the domain in 32 points wide slabs. The number of slabs is, thefore $n_x/32 = (N_x/nprocs)/32$"
   ]
  },
  {
   "cell_type": "code",
   "execution_count": 6,
   "metadata": {
    "collapsed": false
   },
   "outputs": [
    {
     "name": "stdout",
     "output_type": "stream",
     "text": [
      "[stdout:8] Preparing the appropiate widths\n"
     ]
    }
   ],
   "source": [
    "%%px \n",
    "\n",
    "time = 0.0\n",
    "\n",
    "chkSz = 32\n",
    "slabs = nx//chkSz\n",
    "\n",
    "##########################################\n",
    "\n",
    "if(my_id==0):\n",
    "    print(\"Preparing the appropiate widths\")\n",
    "    \n",
    "##########################################"
   ]
  },
  {
   "cell_type": "markdown",
   "metadata": {},
   "source": [
    "Here is the part that queries the database. Each process calls the database separately using getRawVelocity, similarly to the cutout service. The input must be the queried time, the list of the leftmost corner of the cube, the width of the cube, the dataset and the field required. Here we query the 'isotropic1024coarse' dabase for the velocity field."
   ]
  },
  {
   "cell_type": "code",
   "execution_count": 7,
   "metadata": {
    "collapsed": false
   },
   "outputs": [
    {
     "name": "stdout",
     "output_type": "stream",
     "text": [
      "[stdout:8] \n",
      "Starting the loading process\n",
      "0\n",
      "1\n",
      "Finished loading\n",
      "Load velocity field cost: 195.54 seconds\n"
     ]
    }
   ],
   "source": [
    "%%px\n",
    "# Populate velocity field from the Database\n",
    "comm.Barrier(); t1=MPI.Wtime()\n",
    "\n",
    "if(my_id==0):\n",
    "    print(\"Starting the loading process\")\n",
    "\n",
    "##########################################\n",
    "\n",
    "lJHTDB = libJHTDB()\n",
    "lJHTDB.initialize()\n",
    "ud = []\n",
    "for k in range(slabs):\n",
    "    if(my_id==0):\n",
    "        print(k)\n",
    "    start = np.array([my_id*nx+k*chkSz, 0, 0],dtype=np.int)\n",
    "    width = np.array([chkSz,ny,nz],dtype=np.int)\n",
    "    #start = np.array([ 0, 0, my_id*nx+k*chkSz],dtype=np.int)\n",
    "    ud.append(lJHTDB.getRawData(time,start,width, \n",
    "                               data_set = 'isotropic1024coarse',\n",
    "                               getFunction = 'Velocity') )\n",
    "\n",
    "lJHTDB.finalize()\n",
    "\n",
    "if(my_id==0):\n",
    "    print(\"Finished loading\")\n",
    "\n",
    "comm.Barrier(); t2=MPI.Wtime()\n",
    "if(my_id==0):\n",
    "    sys.stdout.write('Load velocity field cost: {0:.2f} seconds\\n'.format(t2-t1))"
   ]
  },
  {
   "cell_type": "markdown",
   "metadata": {},
   "source": [
    "Afterward, the downloaded data must be concatenated in a single array for each process."
   ]
  },
  {
   "cell_type": "code",
   "execution_count": 8,
   "metadata": {
    "collapsed": false
   },
   "outputs": [
    {
     "name": "stdout",
     "output_type": "stream",
     "text": [
      "[stdout:8] \n",
      "u.shape: seconds\n",
      "(1024, 1024, 64, 3)\n",
      "Concatenate loaded vectors: 9.43 seconds\n"
     ]
    }
   ],
   "source": [
    "%%px\n",
    "\n",
    "comm.Barrier(); t1=MPI.Wtime()\n",
    "u = np.concatenate(ud,axis=2)\n",
    "#u = np.concatenate(ud,axis=0)\n",
    "\n",
    "if(my_id==0):\n",
    "    print('u.shape: seconds\\n'+str(u.shape))\n",
    "\n",
    "comm.Barrier(); t2=MPI.Wtime()\n",
    "if(my_id==0):\n",
    "    sys.stdout.write('Concatenate loaded vectors: {0:.2f} seconds\\n'.format(t2-t1))"
   ]
  },
  {
   "cell_type": "markdown",
   "metadata": {},
   "source": [
    "And then reshaped to properly be manipulated by the fourier transform. The way the downloads stores the data is slightly different from what the library suposed."
   ]
  },
  {
   "cell_type": "code",
   "execution_count": 9,
   "metadata": {
    "collapsed": false
   },
   "outputs": [
    {
     "name": "stdout",
     "output_type": "stream",
     "text": [
      "[stdout:8] Transpose: 0.00 seconds\n"
     ]
    }
   ],
   "source": [
    "%%px\n",
    "\n",
    "comm.Barrier(); t1=MPI.Wtime()\n",
    "\n",
    "rsh = np.transpose(u,(2,1,0,3)) #u.reshape((nx,ny,nz, 3))\n",
    "\n",
    "comm.Barrier(); t2=MPI.Wtime()\n",
    "if(my_id==0):\n",
    "    sys.stdout.write('Transpose: {0:.2f} seconds\\n'.format(t2-t1))"
   ]
  },
  {
   "cell_type": "markdown",
   "metadata": {},
   "source": [
    "Next, it is necessary to split the original 3 component vector field into 3 single component fields, because that is \n",
    "how the FFT library requests it's inputs. Also, it also requires that the input vectors a aligned. "
   ]
  },
  {
   "cell_type": "code",
   "execution_count": 10,
   "metadata": {
    "collapsed": false
   },
   "outputs": [
    {
     "name": "stdout",
     "output_type": "stream",
     "text": [
      "[stdout:8] \n",
      "vx shape = (64, 1024, 1024)\n",
      "Spliting\n",
      "Split the loaded vector on float32 aligned vectors: 50.41 seconds\n"
     ]
    }
   ],
   "source": [
    "%%px\n",
    "\n",
    "comm.Barrier(); t1=MPI.Wtime()\n",
    "##########################################\n",
    "vx = ft.zeros_aligned((nx,ny,nz), dtype='float32')\n",
    "vy = ft.zeros_aligned((nx,ny,nz), dtype='float32')\n",
    "vz = ft.zeros_aligned((nx,ny,nz), dtype='float32')\n",
    "\n",
    "vx[:,:,:] = rsh[:,:,:,0]\n",
    "vy[:,:,:] = rsh[:,:,:,1]\n",
    "vz[:,:,:] = rsh[:,:,:,2]\n",
    "\n",
    "if(my_id==0):\n",
    "    print(\"vx shape = \"+str(vx.shape))\n",
    "\n",
    "if(my_id==0):\n",
    "    print(\"Spliting\")\n",
    "    \n",
    "comm.Barrier(); t2=MPI.Wtime()\n",
    "if(my_id==0):\n",
    "    sys.stdout.write('Split the loaded vector on float32 aligned vectors: {0:.2f} seconds\\n'.format(t2-t1))\n",
    "\n",
    "##########################################"
   ]
  },
  {
   "cell_type": "markdown",
   "metadata": {},
   "source": [
    "Than, it is necessary to calculate the associated wave-numbers."
   ]
  },
  {
   "cell_type": "code",
   "execution_count": 11,
   "metadata": {
    "collapsed": false
   },
   "outputs": [
    {
     "name": "stdout",
     "output_type": "stream",
     "text": [
      "[stdout:8] Calculate all wavenumbers: 21.31 seconds\n"
     ]
    }
   ],
   "source": [
    "%%px\n",
    "comm.Barrier(); t1=MPI.Wtime()\n",
    "# Get wavenumber:\n",
    "myEnergySpc=EnergySpectrum()\n",
    "kx,ky,kz=myEnergySpc.FindWavenumber(nx,ny,nz,my_id)\n",
    "k2=np.zeros((nx,ny,nz_half+1), dtype='float32')\n",
    "np.copyto(k2,kx*kx+ky*ky+kz*kz)\n",
    "k2[0,0,0]=1e-6\n",
    "\n",
    "comm.Barrier(); t2=MPI.Wtime()\n",
    "if(my_id==0):\n",
    "    sys.stdout.write('Calculate all wavenumbers: {0:.2f} seconds\\n'.format(t2-t1))"
   ]
  },
  {
   "cell_type": "code",
   "execution_count": null,
   "metadata": {
    "collapsed": true
   },
   "outputs": [],
   "source": []
  },
  {
   "cell_type": "code",
   "execution_count": 12,
   "metadata": {
    "collapsed": false
   },
   "outputs": [
    {
     "name": "stdout",
     "output_type": "stream",
     "text": [
      "[stdout:8] Calculate 3D spatial FFT: 70.50 seconds\n"
     ]
    }
   ],
   "source": [
    "%%px\n",
    "comm.Barrier(); t1=MPI.Wtime()\n",
    "# Get velocity field in Fourier space:\n",
    "myFFT3Dfield=FFT3Dfield()\n",
    "cvx=myFFT3Dfield.GetFFT3Dfield(vx,nx,ny,nz,nproc,my_id)\n",
    "cvy=myFFT3Dfield.GetFFT3Dfield(vy,nx,ny,nz,nproc,my_id)\n",
    "cvz=myFFT3Dfield.GetFFT3Dfield(vz,nx,ny,nz,nproc,my_id)\n",
    "\n",
    "comm.Barrier(); t2=MPI.Wtime()\n",
    "if(my_id==0):\n",
    "    sys.stdout.write('Calculate 3D spatial FFT: {0:.2f} seconds\\n'.format(t2-t1))"
   ]
  },
  {
   "cell_type": "code",
   "execution_count": 13,
   "metadata": {
    "collapsed": false
   },
   "outputs": [
    {
     "name": "stdout",
     "output_type": "stream",
     "text": [
      "[stdout:8] Calculate vorticity in k space: 32.35 seconds\n"
     ]
    }
   ],
   "source": [
    "%%px\n",
    "comm.Barrier(); t1=MPI.Wtime()\n",
    "\n",
    "cwx=np.complex64(0.0+1.0j)*(ky*cvz-kz*cvy)\n",
    "cwy=np.complex64(0.0+1.0j)*(kx*cvz-kz*cvx)\n",
    "cwz=np.complex64(0.0+1.0j)*(kx*cvy-ky*cvx)\n",
    "\n",
    "comm.Barrier(); t2=MPI.Wtime()\n",
    "if(my_id==0):\n",
    "    sys.stdout.write('Calculate vorticity in k space: {0:.2f} seconds\\n'.format(t2-t1))"
   ]
  },
  {
   "cell_type": "code",
   "execution_count": 15,
   "metadata": {
    "collapsed": false
   },
   "outputs": [
    {
     "name": "stdout",
     "output_type": "stream",
     "text": [
      "[stdout:8] \n",
      "cwx.shape = (64, 1024, 513)\n",
      "cwx.shape = (64, 1024, 513)\n",
      "cwx.shape = (64, 1024, 513)\n"
     ]
    }
   ],
   "source": [
    "%%px\n",
    "if(my_id==0):\n",
    "    print(\"cwx.shape = \"+str(cwx.shape))\n",
    "    print(\"cwx.shape = \"+str(cwy.shape))\n",
    "    print(\"cwx.shape = \"+str(cwz.shape))"
   ]
  },
  {
   "cell_type": "code",
   "execution_count": 16,
   "metadata": {
    "collapsed": false
   },
   "outputs": [
    {
     "name": "stdout",
     "output_type": "stream",
     "text": [
      "[stdout:8] Calculate 3d spectra from the spatial vectors: 21.60 seconds\n"
     ]
    }
   ],
   "source": [
    "%%px\n",
    "comm.Barrier(); t1=MPI.Wtime()\n",
    "## Get energy spectrum in Fourier space\n",
    "\n",
    "ek_unfltrd=myEnergySpc.GetSpectrumFromComplexField(cwx,cwy,cwz,k2,nx,ny,nz,nek,nproc,my_id) \n",
    "\n",
    "comm.Barrier(); t2=MPI.Wtime()\n",
    "if(my_id==0):\n",
    "    sys.stdout.write('Calculate 3d spectra from the spatial vectors: {0:.2f} seconds\\n'.format(t2-t1))"
   ]
  },
  {
   "cell_type": "code",
   "execution_count": 17,
   "metadata": {
    "collapsed": false
   },
   "outputs": [
    {
     "data": {
      "text/plain": [
       "[output:8]"
      ]
     },
     "metadata": {},
     "output_type": "display_data"
    },
    {
     "data": {
      "image/png": "[encoded data removed]",
      "text/plain": [
       "<matplotlib.figure.Figure at 0x7f5d8ccfbfd0>"
      ]
     },
     "metadata": {
      "engine": 8
     },
     "output_type": "display_data"
    }
   ],
   "source": [
    "%%px\n",
    "%matplotlib inline\n",
    "import matplotlib\n",
    "import matplotlib.pyplot as plt\n",
    "import numpy as np\n",
    "import math\n",
    "if my_id==0:\n",
    "    SIZE = 12\n",
    "    plt.rc('font', size=SIZE)  # controls default text sizes\n",
    "    plt.rc('axes', titlesize=SIZE+4)  # fontsize of the axes title\n",
    "    plt.rc('axes', labelsize=SIZE+4)  # fontsize of the x any y labels\n",
    "    plt.rc('xtick', labelsize=SIZE)  # fontsize of the tick labels\n",
    "    plt.rc('ytick', labelsize=SIZE)  # fontsize of the tick labels\n",
    "    plt.rc('legend', fontsize=SIZE+3)  # legend fontsize\n",
    "    #plt.rc('figure', titlesize=SIZE)  # # size of the figure title\n",
    "    ks=np.linspace(1,nek,nek)\n",
    "    plt.figure(figsize=(6,6))\n",
    "\n",
    "    plt.loglog(ks,ek_unfltrd,'r',label='Unfiltered')"
   ]
  },
  {
   "cell_type": "code",
   "execution_count": 18,
   "metadata": {
    "collapsed": false
   },
   "outputs": [
    {
     "name": "stdout",
     "output_type": "stream",
     "text": [
      "[stdout:8] Calculate 3D spatial inverse FFT: 57.13 seconds\n"
     ]
    }
   ],
   "source": [
    "%%px\n",
    "comm.Barrier(); t1=MPI.Wtime()\n",
    "# Get velocity field in Fourier space:\n",
    "\n",
    "miFFT3Dfield=IFFT3Dfield()\n",
    "wx=miFFT3Dfield.GetIFFT3Dfield(cwx,nx,ny,nz,nproc,my_id)\n",
    "wy=miFFT3Dfield.GetIFFT3Dfield(cwy,nx,ny,nz,nproc,my_id)\n",
    "wz=miFFT3Dfield.GetIFFT3Dfield(cwz,nx,ny,nz,nproc,my_id)\n",
    "\n",
    "comm.Barrier(); t2=MPI.Wtime()\n",
    "if(my_id==0):\n",
    "    sys.stdout.write('Calculate 3D spatial inverse FFT: {0:.2f} seconds\\n'.format(t2-t1))"
   ]
  },
  {
   "cell_type": "code",
   "execution_count": 20,
   "metadata": {
    "collapsed": false
   },
   "outputs": [],
   "source": [
    "%%px\n",
    "sigma2_w = np.average(wx**2+wy**2+wz**2)"
   ]
  },
  {
   "cell_type": "code",
   "execution_count": 21,
   "metadata": {
    "collapsed": false
   },
   "outputs": [
    {
     "name": "stdout",
     "output_type": "stream",
     "text": [
      "[stdout:0] sigma2 - 3: 231.179\n",
      "[stdout:1] sigma2 - 2: 245.007\n",
      "[stdout:2] sigma2 - 6: 188.627\n",
      "[stdout:3] sigma2 - 7: 211.477\n",
      "[stdout:4] sigma2 - 1: 263.909\n",
      "[stdout:5] sigma2 - 10: 214.854\n",
      "[stdout:6] sigma2 - 13: 262.406\n",
      "[stdout:7] sigma2 - 11: 219.155\n",
      "[stdout:8] sigma2 - 0: 255.707\n",
      "[stdout:9] sigma2 - 4: 210.901\n",
      "[stdout:10] sigma2 - 5: 203.386\n",
      "[stdout:11] sigma2 - 12: 253.385\n",
      "[stdout:12] sigma2 - 8: 234.375\n",
      "[stdout:13] sigma2 - 14: 255.838\n",
      "[stdout:14] sigma2 - 15: 253.869\n",
      "[stdout:15] sigma2 - 9: 236.496\n"
     ]
    }
   ],
   "source": [
    "%%px\n",
    "print(\"sigma2 - \"+str(my_id)+\": \"+str(sigma2_w))"
   ]
  },
  {
   "cell_type": "code",
   "execution_count": 22,
   "metadata": {
    "collapsed": false
   },
   "outputs": [],
   "source": [
    "%%px\n",
    "\n",
    "sw2 = []\n",
    "if(my_id==0):\n",
    "    sw2.append(sigma2_w)\n",
    "    for j in range(1,nproc):\n",
    "        sigma2_w = comm.recv(source=j,tag=11)\n",
    "        sw2.append(sigma2_w)\n",
    "else:\n",
    "    comm.send(sigma2_w,dest=0,tag=11)"
   ]
  },
  {
   "cell_type": "code",
   "execution_count": 23,
   "metadata": {
    "collapsed": false
   },
   "outputs": [
    {
     "name": "stdout",
     "output_type": "stream",
     "text": [
      "[stdout:8] \n",
      "[255.70688, 263.90894, 245.00679, 231.17947, 210.90147, 203.38594, 188.62671, 211.47701, 234.37512, 236.49612, 214.85391, 219.15498, 253.38548, 262.40591, 255.83803, 253.86914]\n",
      "233.786\n",
      "RMS vorticity = \\omega_{rms} = 15.2900535017 s^{-1}\n"
     ]
    }
   ],
   "source": [
    "%%px\n",
    "wrms = 0\n",
    "if(my_id==0):\n",
    "    print(sw2)\n",
    "    sigma2 = np.average(np.array(sw2))\n",
    "    print(sigma2)\n",
    "    wrms = sigma2**0.5\n",
    "    print(\"RMS vorticity = \\omega_{rms} = \"+str(wrms)+\" s^{-1}\")\n",
    "    for j in range(1,nproc):\n",
    "        comm.send(wrms,dest=j,tag=11)\n",
    "else:\n",
    "    wrms = comm.recv(source=0,tag=11)"
   ]
  },
  {
   "cell_type": "code",
   "execution_count": 24,
   "metadata": {
    "collapsed": false
   },
   "outputs": [],
   "source": [
    "%%px \n",
    "wmod = (wx**2+wy**2+wz**2)**0.5"
   ]
  },
  {
   "cell_type": "code",
   "execution_count": 25,
   "metadata": {
    "collapsed": false
   },
   "outputs": [
    {
     "name": "stdout",
     "output_type": "stream",
     "text": [
      "[stdout:0] \n",
      "Process - 3\n",
      "# of points > 20 sigma: 0\n",
      "# of points > 19 sigma: 1\n",
      "# of points > 18 sigma: 12\n",
      "# of points > 17 sigma: 19\n",
      "# of points > 16 sigma: 29\n",
      "# of points > 15 sigma: 42\n",
      "# of points > 14 sigma: 60\n",
      "# of points > 13 sigma: 132\n",
      "# of points > 12 sigma: 242\n",
      "# of points > 11 sigma: 498\n",
      "# of points > 10 sigma: 884\n",
      "# of points > 9 sigma: 1692\n",
      "# of points > 8 sigma: 3650\n",
      "# of points > 7 sigma: 8542\n",
      "# of points > 6 sigma: 21577\n",
      "# of points > 5 sigma: 60538\n",
      "# of points > 4 sigma: 190601\n",
      "# of points > 3 sigma: 693698\n",
      "# of points > 2 sigma: 3070642\n",
      "[stdout:1] \n",
      "Process - 2\n",
      "# of points > 20 sigma: 0\n",
      "# of points > 19 sigma: 1\n",
      "# of points > 18 sigma: 4\n",
      "# of points > 17 sigma: 6\n",
      "# of points > 16 sigma: 7\n",
      "# of points > 15 sigma: 9\n",
      "# of points > 14 sigma: 29\n",
      "# of points > 13 sigma: 58\n",
      "# of points > 12 sigma: 152\n",
      "# of points > 11 sigma: 345\n",
      "# of points > 10 sigma: 825\n",
      "# of points > 9 sigma: 1837\n",
      "# of points > 8 sigma: 4157\n",
      "# of points > 7 sigma: 10057\n",
      "# of points > 6 sigma: 25304\n",
      "# of points > 5 sigma: 70690\n",
      "# of points > 4 sigma: 220559\n",
      "# of points > 3 sigma: 790948\n",
      "# of points > 2 sigma: 3387521\n",
      "[stdout:2] \n",
      "Process - 6\n",
      "# of points > 20 sigma: 0\n",
      "# of points > 19 sigma: 0\n",
      "# of points > 18 sigma: 6\n",
      "# of points > 17 sigma: 14\n",
      "# of points > 16 sigma: 49\n",
      "# of points > 15 sigma: 123\n",
      "# of points > 14 sigma: 245\n",
      "# of points > 13 sigma: 455\n",
      "# of points > 12 sigma: 817\n",
      "# of points > 11 sigma: 1355\n",
      "# of points > 10 sigma: 1957\n",
      "# of points > 9 sigma: 2864\n",
      "# of points > 8 sigma: 4528\n",
      "# of points > 7 sigma: 8325\n",
      "# of points > 6 sigma: 17795\n",
      "# of points > 5 sigma: 43880\n",
      "# of points > 4 sigma: 128056\n",
      "# of points > 3 sigma: 466085\n",
      "# of points > 2 sigma: 2191819\n",
      "[stdout:3] \n",
      "Process - 7\n",
      "# of points > 20 sigma: 2\n",
      "# of points > 19 sigma: 7\n",
      "# of points > 18 sigma: 12\n",
      "# of points > 17 sigma: 18\n",
      "# of points > 16 sigma: 34\n",
      "# of points > 15 sigma: 97\n",
      "# of points > 14 sigma: 219\n",
      "# of points > 13 sigma: 446\n",
      "# of points > 12 sigma: 925\n",
      "# of points > 11 sigma: 1609\n",
      "# of points > 10 sigma: 2656\n",
      "# of points > 9 sigma: 4117\n",
      "# of points > 8 sigma: 6931\n",
      "# of points > 7 sigma: 13053\n",
      "# of points > 6 sigma: 28032\n",
      "# of points > 5 sigma: 67655\n",
      "# of points > 4 sigma: 194566\n",
      "# of points > 3 sigma: 657180\n",
      "# of points > 2 sigma: 2734546\n",
      "[stdout:4] \n",
      "Process - 1\n",
      "# of points > 20 sigma: 0\n",
      "# of points > 19 sigma: 0\n",
      "# of points > 18 sigma: 2\n",
      "# of points > 17 sigma: 9\n",
      "# of points > 16 sigma: 38\n",
      "# of points > 15 sigma: 68\n",
      "# of points > 14 sigma: 119\n",
      "# of points > 13 sigma: 207\n",
      "# of points > 12 sigma: 423\n",
      "# of points > 11 sigma: 844\n",
      "# of points > 10 sigma: 1722\n",
      "# of points > 9 sigma: 3701\n",
      "# of points > 8 sigma: 8030\n",
      "# of points > 7 sigma: 18026\n",
      "# of points > 6 sigma: 43085\n",
      "# of points > 5 sigma: 109207\n",
      "# of points > 4 sigma: 308558\n",
      "# of points > 3 sigma: 996573\n",
      "# of points > 2 sigma: 3836148\n",
      "[stdout:5] \n",
      "Process - 10\n",
      "# of points > 20 sigma: 0\n",
      "# of points > 19 sigma: 1\n",
      "# of points > 18 sigma: 2\n",
      "# of points > 17 sigma: 3\n",
      "# of points > 16 sigma: 8\n",
      "# of points > 15 sigma: 12\n",
      "# of points > 14 sigma: 22\n",
      "# of points > 13 sigma: 51\n",
      "# of points > 12 sigma: 133\n",
      "# of points > 11 sigma: 464\n",
      "# of points > 10 sigma: 885\n",
      "# of points > 9 sigma: 1625\n",
      "# of points > 8 sigma: 3077\n",
      "# of points > 7 sigma: 6502\n",
      "# of points > 6 sigma: 16029\n",
      "# of points > 5 sigma: 46388\n",
      "# of points > 4 sigma: 150606\n",
      "# of points > 3 sigma: 574158\n",
      "# of points > 2 sigma: 2713349\n",
      "[stdout:6] \n",
      "Process - 13\n",
      "# of points > 20 sigma: 4\n",
      "# of points > 19 sigma: 12\n",
      "# of points > 18 sigma: 33\n",
      "# of points > 17 sigma: 85\n",
      "# of points > 16 sigma: 162\n",
      "# of points > 15 sigma: 230\n",
      "# of points > 14 sigma: 329\n",
      "# of points > 13 sigma: 491\n",
      "# of points > 12 sigma: 726\n",
      "# of points > 11 sigma: 1081\n",
      "# of points > 10 sigma: 1778\n",
      "# of points > 9 sigma: 3298\n",
      "# of points > 8 sigma: 6730\n",
      "# of points > 7 sigma: 14829\n",
      "# of points > 6 sigma: 36120\n",
      "# of points > 5 sigma: 98319\n",
      "# of points > 4 sigma: 293482\n",
      "# of points > 3 sigma: 975111\n",
      "# of points > 2 sigma: 3803441\n",
      "[stdout:7] \n",
      "Process - 11\n",
      "# of points > 20 sigma: 7\n",
      "# of points > 19 sigma: 15\n",
      "# of points > 18 sigma: 22\n",
      "# of points > 17 sigma: 27\n",
      "# of points > 16 sigma: 36\n",
      "# of points > 15 sigma: 65\n",
      "# of points > 14 sigma: 102\n",
      "# of points > 13 sigma: 178\n",
      "# of points > 12 sigma: 342\n",
      "# of points > 11 sigma: 634\n",
      "# of points > 10 sigma: 1246\n",
      "# of points > 9 sigma: 2403\n",
      "# of points > 8 sigma: 4916\n",
      "# of points > 7 sigma: 10278\n",
      "# of points > 6 sigma: 23178\n",
      "# of points > 5 sigma: 57828\n",
      "# of points > 4 sigma: 171005\n",
      "# of points > 3 sigma: 617548\n",
      "# of points > 2 sigma: 2799294\n",
      "[stdout:8] \n",
      "Process - 0\n",
      "# of points > 20 sigma: 2\n",
      "# of points > 19 sigma: 4\n",
      "# of points > 18 sigma: 61\n",
      "# of points > 17 sigma: 146\n",
      "# of points > 16 sigma: 218\n",
      "# of points > 15 sigma: 307\n",
      "# of points > 14 sigma: 400\n",
      "# of points > 13 sigma: 555\n",
      "# of points > 12 sigma: 793\n",
      "# of points > 11 sigma: 1221\n",
      "# of points > 10 sigma: 2104\n",
      "# of points > 9 sigma: 4015\n",
      "# of points > 8 sigma: 8078\n",
      "# of points > 7 sigma: 17485\n",
      "# of points > 6 sigma: 40444\n",
      "# of points > 5 sigma: 101733\n",
      "# of points > 4 sigma: 285714\n",
      "# of points > 3 sigma: 928679\n",
      "# of points > 2 sigma: 3639858\n",
      "[stdout:9] \n",
      "Process - 4\n",
      "# of points > 20 sigma: 1\n",
      "# of points > 19 sigma: 1\n",
      "# of points > 18 sigma: 8\n",
      "# of points > 17 sigma: 12\n",
      "# of points > 16 sigma: 23\n",
      "# of points > 15 sigma: 56\n",
      "# of points > 14 sigma: 125\n",
      "# of points > 13 sigma: 278\n",
      "# of points > 12 sigma: 486\n",
      "# of points > 11 sigma: 800\n",
      "# of points > 10 sigma: 1292\n",
      "# of points > 9 sigma: 2125\n",
      "# of points > 8 sigma: 3759\n",
      "# of points > 7 sigma: 7696\n",
      "# of points > 6 sigma: 17917\n",
      "# of points > 5 sigma: 48420\n",
      "# of points > 4 sigma: 155456\n",
      "# of points > 3 sigma: 589584\n",
      "# of points > 2 sigma: 2707204\n",
      "[stdout:10] \n",
      "Process - 5\n",
      "# of points > 20 sigma: 5\n",
      "# of points > 19 sigma: 9\n",
      "# of points > 18 sigma: 12\n",
      "# of points > 17 sigma: 21\n",
      "# of points > 16 sigma: 43\n",
      "# of points > 15 sigma: 90\n",
      "# of points > 14 sigma: 252\n",
      "# of points > 13 sigma: 488\n",
      "# of points > 12 sigma: 816\n",
      "# of points > 11 sigma: 1283\n",
      "# of points > 10 sigma: 1920\n",
      "# of points > 9 sigma: 3020\n",
      "# of points > 8 sigma: 5036\n",
      "# of points > 7 sigma: 9544\n",
      "# of points > 6 sigma: 20639\n",
      "# of points > 5 sigma: 51573\n",
      "# of points > 4 sigma: 150659\n",
      "# of points > 3 sigma: 543957\n",
      "# of points > 2 sigma: 2484989\n",
      "[stdout:11] \n",
      "Process - 12\n",
      "# of points > 20 sigma: 20\n",
      "# of points > 19 sigma: 38\n",
      "# of points > 18 sigma: 58\n",
      "# of points > 17 sigma: 101\n",
      "# of points > 16 sigma: 165\n",
      "# of points > 15 sigma: 209\n",
      "# of points > 14 sigma: 280\n",
      "# of points > 13 sigma: 401\n",
      "# of points > 12 sigma: 568\n",
      "# of points > 11 sigma: 926\n",
      "# of points > 10 sigma: 1672\n",
      "# of points > 9 sigma: 3029\n",
      "# of points > 8 sigma: 6057\n",
      "# of points > 7 sigma: 13157\n",
      "# of points > 6 sigma: 31738\n",
      "# of points > 5 sigma: 84869\n",
      "# of points > 4 sigma: 252391\n",
      "# of points > 3 sigma: 865595\n",
      "# of points > 2 sigma: 3564786\n",
      "[stdout:12] \n",
      "Process - 8\n",
      "# of points > 20 sigma: 0\n",
      "# of points > 19 sigma: 0\n",
      "# of points > 18 sigma: 0\n",
      "# of points > 17 sigma: 1\n",
      "# of points > 16 sigma: 28\n",
      "# of points > 15 sigma: 108\n",
      "# of points > 14 sigma: 197\n",
      "# of points > 13 sigma: 334\n",
      "# of points > 12 sigma: 736\n",
      "# of points > 11 sigma: 1459\n",
      "# of points > 10 sigma: 2378\n",
      "# of points > 9 sigma: 3917\n",
      "# of points > 8 sigma: 7218\n",
      "# of points > 7 sigma: 14789\n",
      "# of points > 6 sigma: 33835\n",
      "# of points > 5 sigma: 84380\n",
      "# of points > 4 sigma: 238340\n",
      "# of points > 3 sigma: 789443\n",
      "# of points > 2 sigma: 3195834\n",
      "[stdout:13] \n",
      "Process - 14\n",
      "# of points > 20 sigma: 2\n",
      "# of points > 19 sigma: 10\n",
      "# of points > 18 sigma: 21\n",
      "# of points > 17 sigma: 37\n",
      "# of points > 16 sigma: 56\n",
      "# of points > 15 sigma: 97\n",
      "# of points > 14 sigma: 168\n",
      "# of points > 13 sigma: 294\n",
      "# of points > 12 sigma: 560\n",
      "# of points > 11 sigma: 1083\n",
      "# of points > 10 sigma: 2121\n",
      "# of points > 9 sigma: 4202\n",
      "# of points > 8 sigma: 8562\n",
      "# of points > 7 sigma: 18677\n",
      "# of points > 6 sigma: 43194\n",
      "# of points > 5 sigma: 108073\n",
      "# of points > 4 sigma: 299755\n",
      "# of points > 3 sigma: 950131\n",
      "# of points > 2 sigma: 3645100\n",
      "[stdout:14] \n",
      "Process - 15\n",
      "# of points > 20 sigma: 8\n",
      "# of points > 19 sigma: 12\n",
      "# of points > 18 sigma: 26\n",
      "# of points > 17 sigma: 67\n",
      "# of points > 16 sigma: 112\n",
      "# of points > 15 sigma: 182\n",
      "# of points > 14 sigma: 297\n",
      "# of points > 13 sigma: 442\n",
      "# of points > 12 sigma: 707\n",
      "# of points > 11 sigma: 1203\n",
      "# of points > 10 sigma: 2010\n",
      "# of points > 9 sigma: 3557\n",
      "# of points > 8 sigma: 6645\n",
      "# of points > 7 sigma: 14419\n",
      "# of points > 6 sigma: 33916\n",
      "# of points > 5 sigma: 88135\n",
      "# of points > 4 sigma: 258210\n",
      "# of points > 3 sigma: 880017\n",
      "# of points > 2 sigma: 3608104\n",
      "[stdout:15] \n",
      "Process - 9\n",
      "# of points > 20 sigma: 0\n",
      "# of points > 19 sigma: 0\n",
      "# of points > 18 sigma: 0\n",
      "# of points > 17 sigma: 0\n",
      "# of points > 16 sigma: 1\n",
      "# of points > 15 sigma: 7\n",
      "# of points > 14 sigma: 52\n",
      "# of points > 13 sigma: 203\n",
      "# of points > 12 sigma: 472\n",
      "# of points > 11 sigma: 900\n",
      "# of points > 10 sigma: 1638\n",
      "# of points > 9 sigma: 2671\n",
      "# of points > 8 sigma: 4732\n",
      "# of points > 7 sigma: 9914\n",
      "# of points > 6 sigma: 24462\n",
      "# of points > 5 sigma: 68140\n",
      "# of points > 4 sigma: 211437\n",
      "# of points > 3 sigma: 753150\n",
      "# of points > 2 sigma: 3209255\n"
     ]
    }
   ],
   "source": [
    "%%px\n",
    "print(\"Process - \"+str(my_id))\n",
    "for i in range(20,1,-1):\n",
    "    wtrsh = wmod[wmod>i*wrms]\n",
    "    print(\"# of points > \"+str(i)+\" sigma: \"+str(wtrsh.shape[0]))"
   ]
  },
  {
   "cell_type": "code",
   "execution_count": 25,
   "metadata": {
    "collapsed": false
   },
   "outputs": [
    {
     "name": "stdout",
     "output_type": "stream",
     "text": [
      "[stdout:0] Calculate vorticity in k space: 34.56 seconds\n"
     ]
    }
   ],
   "source": [
    "%%px\n",
    "comm.Barrier(); t1=MPI.Wtime()\n",
    "\n",
    "cSxx=np.complex64(0.0+0.5j)*(kx*cvx+kx*cvx)\n",
    "cSyy=np.complex64(0.0+0.5j)*(ky*cvy+ky*cvy)\n",
    "cSzz=np.complex64(0.0+0.5j)*(kz*cvz+kz*cvz)\n",
    "cSyz=np.complex64(0.0+0.5j)*(ky*cvz+kz*cvy)\n",
    "cSxz=np.complex64(0.0+0.5j)*(kx*cvz+kz*cvx)\n",
    "cSxy=np.complex64(0.0+0.5j)*(kx*cvy+ky*cvx)\n",
    "\n",
    "comm.Barrier(); t2=MPI.Wtime()\n",
    "if(my_id==0):\n",
    "    sys.stdout.write('Calculate vorticity in k space: {0:.2f} seconds\\n'.format(t2-t1))"
   ]
  },
  {
   "cell_type": "code",
   "execution_count": 26,
   "metadata": {
    "collapsed": false
   },
   "outputs": [
    {
     "name": "stdout",
     "output_type": "stream",
     "text": [
      "[stdout:0] Calculate 3D spatial inverse FFT: 166.20 seconds\n"
     ]
    }
   ],
   "source": [
    "%%px\n",
    "comm.Barrier(); t1=MPI.Wtime()\n",
    "# Get velocity field in Fourier space:\n",
    "\n",
    "miFFT3Dfield=IFFT3Dfield()\n",
    "Sxx=miFFT3Dfield.GetIFFT3Dfield(cSxx,nx,ny,nz,nproc,my_id)\n",
    "Syy=miFFT3Dfield.GetIFFT3Dfield(cSyy,nx,ny,nz,nproc,my_id)\n",
    "Szz=miFFT3Dfield.GetIFFT3Dfield(cSzz,nx,ny,nz,nproc,my_id)\n",
    "Syz=miFFT3Dfield.GetIFFT3Dfield(cSyz,nx,ny,nz,nproc,my_id)\n",
    "Sxz=miFFT3Dfield.GetIFFT3Dfield(cSxz,nx,ny,nz,nproc,my_id)\n",
    "Sxy=miFFT3Dfield.GetIFFT3Dfield(cSxy,nx,ny,nz,nproc,my_id)\n",
    "\n",
    "comm.Barrier(); t2=MPI.Wtime()\n",
    "if(my_id==0):\n",
    "    sys.stdout.write('Calculate 3D spatial inverse FFT: {0:.2f} seconds\\n'.format(t2-t1))"
   ]
  },
  {
   "cell_type": "code",
   "execution_count": 28,
   "metadata": {
    "collapsed": false
   },
   "outputs": [],
   "source": [
    "%%px\n",
    "S2 = Sxx**2+ Syy**2+ Szz**2+ Sxy**2+ Syz**2 +Sxz**2\n",
    "S2avg = np.average(S2)"
   ]
  },
  {
   "cell_type": "code",
   "execution_count": 30,
   "metadata": {
    "collapsed": false
   },
   "outputs": [
    {
     "name": "stdout",
     "output_type": "stream",
     "text": [
      "[stdout:0] S2avg = 265.793\n",
      "[stdout:1] S2avg = 248.121\n",
      "[stdout:2] S2avg = 243.21\n",
      "[stdout:3] S2avg = 260.263\n",
      "[stdout:4] S2avg = 267.624\n",
      "[stdout:5] S2avg = 226.689\n",
      "[stdout:6] S2avg = 211.309\n",
      "[stdout:7] S2avg = 208.394\n"
     ]
    }
   ],
   "source": [
    "%%px\n",
    "print(\"S2avg = \"+str(S2avg))"
   ]
  },
  {
   "cell_type": "code",
   "execution_count": 31,
   "metadata": {
    "collapsed": true
   },
   "outputs": [],
   "source": [
    "%%px\n",
    "\n",
    "s2sum = []\n",
    "if(my_id==0):\n",
    "    s2sum.append(S2avg)\n",
    "    for j in range(1,nproc):\n",
    "        s2part = comm.recv(source=j,tag=11)\n",
    "        s2sum.append(s2part)\n",
    "else:\n",
    "    comm.send(sigma2_w,dest=0,tag=11)"
   ]
  },
  {
   "cell_type": "code",
   "execution_count": 32,
   "metadata": {
    "collapsed": false
   },
   "outputs": [
    {
     "name": "stdout",
     "output_type": "stream",
     "text": [
      "[stdout:0] \n",
      "[265.79257, 237.5885, 206.27568, 199.0881, 234.72603, 216.47806, 257.14105, 254.31326]\n",
      "233.925\n",
      "RMS strain = S_{rms} = 15.2946204608 s^{-1}\n"
     ]
    }
   ],
   "source": [
    "%%px\n",
    "Srms = 0\n",
    "if(my_id==0):\n",
    "    print(s2sum)\n",
    "    Ssigma2 = np.average(np.array(s2sum))\n",
    "    print(Ssigma2)\n",
    "    Srms = Ssigma2**0.5\n",
    "    print(\"RMS strain = S_{rms} = \"+str(Srms)+\" s^{-1}\")\n",
    "    for j in range(1,nproc):\n",
    "        comm.send(Srms,dest=j,tag=11)\n",
    "else:\n",
    "    Srms = comm.recv(source=0,tag=11)"
   ]
  },
  {
   "cell_type": "code",
   "execution_count": 33,
   "metadata": {
    "collapsed": true
   },
   "outputs": [],
   "source": [
    "%%px \n",
    "Smod = S2**0.5"
   ]
  },
  {
   "cell_type": "code",
   "execution_count": 36,
   "metadata": {
    "collapsed": false
   },
   "outputs": [
    {
     "name": "stdout",
     "output_type": "stream",
     "text": [
      "[stdout:0] \n",
      "Process - 0\n",
      "# of points > 20 sigma: 2\n",
      "# of points > 19 sigma: 6\n",
      "# of points > 18 sigma: 11\n",
      "# of points > 17 sigma: 14\n",
      "# of points > 16 sigma: 25\n",
      "# of points > 15 sigma: 40\n",
      "# of points > 14 sigma: 76\n",
      "# of points > 13 sigma: 166\n",
      "# of points > 12 sigma: 363\n",
      "# of points > 11 sigma: 886\n",
      "# of points > 10 sigma: 2054\n",
      "# of points > 9 sigma: 4654\n",
      "# of points > 8 sigma: 10845\n",
      "# of points > 7 sigma: 25770\n",
      "# of points > 6 sigma: 63466\n",
      "# of points > 5 sigma: 167895\n",
      "# of points > 4 sigma: 493523\n",
      "# of points > 3 sigma: 1691176\n",
      "# of points > 2 sigma: 7058028\n",
      "[stdout:1] \n",
      "Process - 4\n",
      "# of points > 20 sigma: 0\n",
      "# of points > 19 sigma: 0\n",
      "# of points > 18 sigma: 0\n",
      "# of points > 17 sigma: 0\n",
      "# of points > 16 sigma: 3\n",
      "# of points > 15 sigma: 20\n",
      "# of points > 14 sigma: 47\n",
      "# of points > 13 sigma: 98\n",
      "# of points > 12 sigma: 217\n",
      "# of points > 11 sigma: 508\n",
      "# of points > 10 sigma: 1240\n",
      "# of points > 9 sigma: 3030\n",
      "# of points > 8 sigma: 7532\n",
      "# of points > 7 sigma: 18437\n",
      "# of points > 6 sigma: 47286\n",
      "# of points > 5 sigma: 129696\n",
      "# of points > 4 sigma: 393064\n",
      "# of points > 3 sigma: 1401551\n",
      "# of points > 2 sigma: 6252609\n",
      "[stdout:2] \n",
      "Process - 1\n",
      "# of points > 20 sigma: 0\n",
      "# of points > 19 sigma: 0\n",
      "# of points > 18 sigma: 0\n",
      "# of points > 17 sigma: 1\n",
      "# of points > 16 sigma: 3\n",
      "# of points > 15 sigma: 14\n",
      "# of points > 14 sigma: 28\n",
      "# of points > 13 sigma: 69\n",
      "# of points > 12 sigma: 154\n",
      "# of points > 11 sigma: 358\n",
      "# of points > 10 sigma: 836\n",
      "# of points > 9 sigma: 1966\n",
      "# of points > 8 sigma: 4871\n",
      "# of points > 7 sigma: 12485\n",
      "# of points > 6 sigma: 34583\n",
      "# of points > 5 sigma: 102172\n",
      "# of points > 4 sigma: 334684\n",
      "# of points > 3 sigma: 1261237\n",
      "# of points > 2 sigma: 5923403\n",
      "[stdout:3] \n",
      "Process - 7\n",
      "# of points > 20 sigma: 2\n",
      "# of points > 19 sigma: 4\n",
      "# of points > 18 sigma: 6\n",
      "# of points > 17 sigma: 10\n",
      "# of points > 16 sigma: 16\n",
      "# of points > 15 sigma: 43\n",
      "# of points > 14 sigma: 87\n",
      "# of points > 13 sigma: 157\n",
      "# of points > 12 sigma: 313\n",
      "# of points > 11 sigma: 731\n",
      "# of points > 10 sigma: 1659\n",
      "# of points > 9 sigma: 3764\n",
      "# of points > 8 sigma: 8954\n",
      "# of points > 7 sigma: 21966\n",
      "# of points > 6 sigma: 55750\n",
      "# of points > 5 sigma: 149746\n",
      "# of points > 4 sigma: 449945\n",
      "# of points > 3 sigma: 1570019\n",
      "# of points > 2 sigma: 6762135\n",
      "[stdout:4] \n",
      "Process - 6\n",
      "# of points > 20 sigma: 0\n",
      "# of points > 19 sigma: 0\n",
      "# of points > 18 sigma: 1\n",
      "# of points > 17 sigma: 1\n",
      "# of points > 16 sigma: 9\n",
      "# of points > 15 sigma: 24\n",
      "# of points > 14 sigma: 48\n",
      "# of points > 13 sigma: 125\n",
      "# of points > 12 sigma: 278\n",
      "# of points > 11 sigma: 617\n",
      "# of points > 10 sigma: 1460\n",
      "# of points > 9 sigma: 3406\n",
      "# of points > 8 sigma: 8241\n",
      "# of points > 7 sigma: 20511\n",
      "# of points > 6 sigma: 52199\n",
      "# of points > 5 sigma: 147156\n",
      "# of points > 4 sigma: 459284\n",
      "# of points > 3 sigma: 1630684\n",
      "# of points > 2 sigma: 7046069\n",
      "[stdout:5] \n",
      "Process - 5\n",
      "# of points > 20 sigma: 0\n",
      "# of points > 19 sigma: 0\n",
      "# of points > 18 sigma: 4\n",
      "# of points > 17 sigma: 6\n",
      "# of points > 16 sigma: 12\n",
      "# of points > 15 sigma: 22\n",
      "# of points > 14 sigma: 46\n",
      "# of points > 13 sigma: 90\n",
      "# of points > 12 sigma: 203\n",
      "# of points > 11 sigma: 442\n",
      "# of points > 10 sigma: 934\n",
      "# of points > 9 sigma: 1950\n",
      "# of points > 8 sigma: 4288\n",
      "# of points > 7 sigma: 10346\n",
      "# of points > 6 sigma: 27183\n",
      "# of points > 5 sigma: 79779\n",
      "# of points > 4 sigma: 264358\n",
      "# of points > 3 sigma: 1044180\n",
      "# of points > 2 sigma: 5211230\n",
      "[stdout:6] \n",
      "Process - 2\n",
      "# of points > 20 sigma: 3\n",
      "# of points > 19 sigma: 6\n",
      "# of points > 18 sigma: 9\n",
      "# of points > 17 sigma: 12\n",
      "# of points > 16 sigma: 25\n",
      "# of points > 15 sigma: 42\n",
      "# of points > 14 sigma: 94\n",
      "# of points > 13 sigma: 155\n",
      "# of points > 12 sigma: 243\n",
      "# of points > 11 sigma: 452\n",
      "# of points > 10 sigma: 888\n",
      "# of points > 9 sigma: 1817\n",
      "# of points > 8 sigma: 4037\n",
      "# of points > 7 sigma: 9816\n",
      "# of points > 6 sigma: 25503\n",
      "# of points > 5 sigma: 74492\n",
      "# of points > 4 sigma: 246628\n",
      "# of points > 3 sigma: 960795\n",
      "# of points > 2 sigma: 4720902\n",
      "[stdout:7] \n",
      "Process - 3\n",
      "# of points > 20 sigma: 0\n",
      "# of points > 19 sigma: 1\n",
      "# of points > 18 sigma: 7\n",
      "# of points > 17 sigma: 21\n",
      "# of points > 16 sigma: 37\n",
      "# of points > 15 sigma: 85\n",
      "# of points > 14 sigma: 177\n",
      "# of points > 13 sigma: 321\n",
      "# of points > 12 sigma: 559\n",
      "# of points > 11 sigma: 1014\n",
      "# of points > 10 sigma: 1893\n",
      "# of points > 9 sigma: 3523\n",
      "# of points > 8 sigma: 6944\n",
      "# of points > 7 sigma: 15106\n",
      "# of points > 6 sigma: 36032\n",
      "# of points > 5 sigma: 93751\n",
      "# of points > 4 sigma: 281039\n",
      "# of points > 3 sigma: 1003725\n",
      "# of points > 2 sigma: 4650301\n"
     ]
    }
   ],
   "source": [
    "%%px\n",
    "print(\"Process - \"+str(my_id))\n",
    "for i in range(20,1,-1):\n",
    "    wtrsh = Smod[Smod>i*Srms]\n",
    "    print(\"# of points > \"+str(i)+\" sigma: \"+str(wtrsh.shape[0]))"
   ]
  },
  {
   "cell_type": "code",
   "execution_count": null,
   "metadata": {
    "collapsed": true
   },
   "outputs": [],
   "source": []
  }
 ],
 "metadata": {
  "kernelspec": {
   "display_name": "Python 3",
   "language": "python",
   "name": "python3"
  },
  "language_info": {
   "codemirror_mode": {
    "name": "ipython",
    "version": 3
   },
   "file_extension": ".py",
   "mimetype": "text/x-python",
   "name": "python",
   "nbconvert_exporter": "python",
   "pygments_lexer": "ipython3",
   "version": "3.5.2"
  }
 },
 "nbformat": 4,
 "nbformat_minor": 0
}
