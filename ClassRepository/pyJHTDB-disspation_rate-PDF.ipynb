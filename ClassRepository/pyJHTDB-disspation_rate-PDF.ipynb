{
 "cells": [
  {
   "cell_type": "code",
   "execution_count": 2,
   "metadata": {
    "collapsed": false
   },
   "outputs": [],
   "source": [
    "#!ipcluster start -n 8 --engines=MPI --profile='mpi' # for parallel run: start the engines using terminal\n",
    "from ipyparallel import Client\n",
    "rc = Client(profile='mpi')"
   ]
  },
  {
   "cell_type": "code",
   "execution_count": 7,
   "metadata": {
    "collapsed": false
   },
   "outputs": [],
   "source": [
    "%%px\n",
    "# Import the libraries\n",
    "\n",
    "import numpy as np\n",
    "import pyfftw as ft \n",
    "from mpi4py import MPI\n",
    "import math\n",
    "import sys\n",
    "import os\n",
    "import pyJHTDB\n",
    "from pyJHTDB.dbinfo import isotropic1024coarse\n",
    "from pyJHTDB import libJHTDB\n",
    "\n",
    "from FFT3Dfield import FFT3Dfield\n",
    "from IFFT3Dfield import IFFT3Dfield\n",
    "from EnergySpectrum import EnergySpectrum"
   ]
  },
  {
   "cell_type": "code",
   "execution_count": 8,
   "metadata": {
    "collapsed": true
   },
   "outputs": [],
   "source": [
    "%%px\n",
    "\n",
    "Nx = isotropic1024coarse['nx']\n",
    "Ny = isotropic1024coarse['ny']\n",
    "Nz = isotropic1024coarse['nz']\n",
    "Lx = isotropic1024coarse['lx']\n",
    "Ly = isotropic1024coarse['ly']\n",
    "Lz = isotropic1024coarse['lz']"
   ]
  },
  {
   "cell_type": "code",
   "execution_count": 4,
   "metadata": {
    "collapsed": false
   },
   "outputs": [
    {
     "name": "stdout",
     "output_type": "stream",
     "text": [
      "[stdout:6] \n",
      "n_proc = 8\n",
      "rank = 0\n"
     ]
    }
   ],
   "source": [
    "%%px\n",
    "\n",
    "comm = MPI.COMM_WORLD\n",
    "rank = comm.Get_rank()\n",
    "nproc = comm.Get_size()\n",
    "if(rank==0):\n",
    "    print(\"n_proc = \"+str(nproc))\n",
    "    print(\"rank = \"+str(rank))"
   ]
  },
  {
   "cell_type": "code",
   "execution_count": 5,
   "metadata": {
    "collapsed": true
   },
   "outputs": [],
   "source": [
    "%%px \n",
    "# Computational Domain\n",
    "\n",
    "nx=Nx//nproc\n",
    "ny=Ny\n",
    "nz=Nz\n",
    "nz_half=nz//2\n",
    "nek=int(math.sqrt(2.0)/3*Nx)\n",
    "time = 0.0\n",
    "\n",
    "chkSz = 32\n",
    "slabs = nx//chkSz"
   ]
  },
  {
   "cell_type": "code",
   "execution_count": 6,
   "metadata": {
    "collapsed": false
   },
   "outputs": [
    {
     "name": "stdout",
     "output_type": "stream",
     "text": [
      "[stdout:6] \n",
      "Starting the loading process\n",
      "Finished loading\n",
      "Load from disk: 12.71 seconds\n",
      "vx shape = (128, 1024, 1024)\n"
     ]
    }
   ],
   "source": [
    "%%px\n",
    "\n",
    "vx = ft.zeros_aligned((nx,ny,nz), dtype='float32')\n",
    "vy = ft.zeros_aligned((nx,ny,nz), dtype='float32')\n",
    "vz = ft.zeros_aligned((nx,ny,nz), dtype='float32')\n",
    "\n",
    "# Populate velocity field from the Database\n",
    "\n",
    "if(rank==0):\n",
    "    print(\"Starting the loading process\")\n",
    "\n",
    "##########################################\n",
    "load_from_file = True\n",
    "\n",
    "folder = \"/home/idies/workspace/scratch\"\n",
    "filename = \"cache-isotropic1024coarse-\"+str(rank)+\"-(t=\"+str(time)+\")\"+\".npz\"\n",
    "file = folder + \"/\" + filename\n",
    "\n",
    "if(load_from_file):\n",
    "    comm.Barrier(); t1=MPI.Wtime()\n",
    "    content = np.load(file)\n",
    "    if(int(content['nproc'])!=nproc):\n",
    "        print(\"Unmatched number of processes. Must first pre-process to adequate number of process\")\n",
    "    vx = content['vx']\n",
    "    vy = content['vy']\n",
    "    vz = content['vz']\n",
    "    comm.Barrier(); t2=MPI.Wtime()\n",
    "    if(rank==0):\n",
    "        print(\"Finished loading\")\n",
    "        sys.stdout.write('Load from disk: {0:.2f} seconds\\n'.format(t2-t1))\n",
    "else:\n",
    "    comm.Barrier(); t1=MPI.Wtime()\n",
    "    lJHTDB = libJHTDB()\n",
    "    lJHTDB.initialize()\n",
    "    ud = []\n",
    "    for k in range(slabs):\n",
    "        if(rank==0):\n",
    "            print(k)\n",
    "        start = np.array([rank*nx+k*chkSz, 0, 0],dtype=np.int)\n",
    "        width = np.array([chkSz,ny,nz],dtype=np.int)\n",
    "        #start = np.array([ 0, 0, rank*nx+k*chkSz],dtype=np.int)\n",
    "        ud.append(lJHTDB.getRawData(time,start,width, \n",
    "                                    data_set = 'isotropic1024coarse',\n",
    "                                    getFunction = 'Velocity') )\n",
    "    \n",
    "    lJHTDB.finalize()\n",
    "    comm.Barrier(); t2=MPI.Wtime()\n",
    "    if(rank==0):\n",
    "        print(\"Finished loading\")\n",
    "        sys.stdout.write('Load field from database: {0:.2f} seconds\\n'.format(t2-t1))\n",
    "    \n",
    "    u = np.concatenate(ud,axis=2)\n",
    "    comm.Barrier(); t1=MPI.Wtime()\n",
    "    if(rank==0):\n",
    "        sys.stdout.write('Concatenate: {0:.2f} seconds\\n'.format(t1-t2))\n",
    "    \n",
    "    rsh = np.transpose(u,(2,1,0,3))\n",
    "    comm.Barrier(); t2=MPI.Wtime()\n",
    "    if(rank==0):\n",
    "        sys.stdout.write('Transpose: {0:.2f} seconds\\n'.format(t2-t1))\n",
    "    ##########################################\n",
    "    \n",
    "    vx[:,:,:] = rsh[:,:,:,0]\n",
    "    vy[:,:,:] = rsh[:,:,:,1]\n",
    "    vz[:,:,:] = rsh[:,:,:,2]\n",
    "    comm.Barrier(); t1=MPI.Wtime()\n",
    "    if(rank==0):\n",
    "        sys.stdout.write('Splitting: {0:.2f} seconds\\n'.format(t2-t1))\n",
    "    \n",
    "    np.savez(file,vx=vx,vy=vy,vz=vz,nproc=nproc)\n",
    "    comm.Barrier(); t2=MPI.Wtime()\n",
    "    if(rank==0):\n",
    "        sys.stdout.write('Caching the data: {0:.2f} seconds\\n'.format(t2-t1))\n",
    "\n",
    "\n",
    "if(rank==0):\n",
    "    print(\"vx shape = \"+str(vx.shape))       "
   ]
  },
  {
   "cell_type": "code",
   "execution_count": 7,
   "metadata": {
    "collapsed": false
   },
   "outputs": [
    {
     "name": "stdout",
     "output_type": "stream",
     "text": [
      "[stdout:6] Calculate all wavenumbers: 12.03 seconds\n"
     ]
    }
   ],
   "source": [
    "%%px\n",
    "comm.Barrier(); t1=MPI.Wtime()\n",
    "# Get wavenumber:\n",
    "myEnergySpc=EnergySpectrum()\n",
    "kx,ky,kz=myEnergySpc.FindWavenumber(nx,ny,nz,rank)\n",
    "k2=np.zeros((nx,ny,nz_half+1), dtype='float32')\n",
    "np.copyto(k2,kx*kx+ky*ky+kz*kz)\n",
    "k2[0,0,0]=1e-6\n",
    "\n",
    "comm.Barrier(); t2=MPI.Wtime()\n",
    "if(rank==0):\n",
    "    sys.stdout.write('Calculate all wavenumbers: {0:.2f} seconds\\n'.format(t2-t1))"
   ]
  },
  {
   "cell_type": "code",
   "execution_count": 8,
   "metadata": {
    "collapsed": false
   },
   "outputs": [
    {
     "name": "stdout",
     "output_type": "stream",
     "text": [
      "[stdout:6] Calculate 3D spatial FFT: 78.84 seconds\n"
     ]
    }
   ],
   "source": [
    "%%px\n",
    "comm.Barrier(); t1=MPI.Wtime()\n",
    "# Get velocity field in Fourier space:\n",
    "myFFT3Dfield=FFT3Dfield()\n",
    "cvx=myFFT3Dfield.GetFFT3Dfield(vx,nx,ny,nz,nproc,rank)\n",
    "cvy=myFFT3Dfield.GetFFT3Dfield(vy,nx,ny,nz,nproc,rank)\n",
    "cvz=myFFT3Dfield.GetFFT3Dfield(vz,nx,ny,nz,nproc,rank)\n",
    "\n",
    "comm.Barrier(); t2=MPI.Wtime()\n",
    "if(rank==0):\n",
    "    sys.stdout.write('Calculate 3D spatial FFT: {0:.2f} seconds\\n'.format(t2-t1))"
   ]
  },
  {
   "cell_type": "code",
   "execution_count": 9,
   "metadata": {
    "collapsed": false
   },
   "outputs": [
    {
     "name": "stdout",
     "output_type": "stream",
     "text": [
      "[stdout:6] Calculate strain-rate in k space: 46.56 seconds\n"
     ]
    }
   ],
   "source": [
    "%%px\n",
    "comm.Barrier(); t1=MPI.Wtime()\n",
    "\n",
    "cSxy=np.complex64(0.0+1.0j)*(kx*cvy+ky*cvx)\n",
    "cSxz=np.complex64(0.0+1.0j)*(kx*cvz+kz*cvx)\n",
    "cSyz=np.complex64(0.0+1.0j)*(ky*cvz+kz*cvy)\n",
    "\n",
    "cSxx=np.complex64(0.0+1.0j)*(kx*cvx+kx*cvx)\n",
    "cSyy=np.complex64(0.0+1.0j)*(ky*cvy+ky*cvy)\n",
    "cSzz=np.complex64(0.0+1.0j)*(kz*cvz+kz*cvz)\n",
    "\n",
    "comm.Barrier(); t2=MPI.Wtime()\n",
    "if(rank==0):\n",
    "    sys.stdout.write('Calculate strain-rate in k space: {0:.2f} seconds\\n'.format(t2-t1))"
   ]
  },
  {
   "cell_type": "code",
   "execution_count": 10,
   "metadata": {
    "collapsed": false
   },
   "outputs": [
    {
     "name": "stdout",
     "output_type": "stream",
     "text": [
      "[stdout:0] (128, 1024, 513)\n",
      "[stdout:1] (128, 1024, 513)\n",
      "[stdout:2] (128, 1024, 513)\n",
      "[stdout:3] (128, 1024, 513)\n",
      "[stdout:4] (128, 1024, 513)\n",
      "[stdout:5] (128, 1024, 513)\n",
      "[stdout:6] (128, 1024, 513)\n",
      "[stdout:7] (128, 1024, 513)\n"
     ]
    }
   ],
   "source": [
    "%%px\n",
    "print((np.complex64(0.0+1.0j)*kx*cvx).shape)"
   ]
  },
  {
   "cell_type": "code",
   "execution_count": 11,
   "metadata": {
    "collapsed": false
   },
   "outputs": [
    {
     "name": "stdout",
     "output_type": "stream",
     "text": [
      "[stdout:6] Calculate strain-rate in k space: 11.70 seconds\n"
     ]
    }
   ],
   "source": [
    "%%px\n",
    "comm.Barrier(); t1=MPI.Wtime()\n",
    "\n",
    "ca11 = np.complex64(0.0+1.0j)*(kx*cvx)\n",
    "ca22 = np.complex64(0.0+1.0j)*(ky*cvy)\n",
    "ca33 = np.complex64(0.0+1.0j)*(kz*cvz)\n",
    "\n",
    "comm.Barrier(); t2=MPI.Wtime()\n",
    "if(rank==0):\n",
    "    sys.stdout.write('Calculate strain-rate in k space: {0:.2f} seconds\\n'.format(t2-t1))"
   ]
  },
  {
   "cell_type": "code",
   "execution_count": 12,
   "metadata": {
    "collapsed": false
   },
   "outputs": [
    {
     "name": "stdout",
     "output_type": "stream",
     "text": [
      "[stdout:0] 131072\n",
      "[stdout:1] 131072\n",
      "[stdout:2] 131072\n",
      "[stdout:3] 131072\n",
      "[stdout:4] 131072\n",
      "[stdout:5] 131072\n",
      "[stdout:6] 131072\n",
      "[stdout:7] 131072\n"
     ]
    }
   ],
   "source": [
    "%%px\n",
    "\n",
    "print(len(ca11[ca11==np.complex64(0.0+0.0j)].flatten()))"
   ]
  },
  {
   "cell_type": "code",
   "execution_count": 13,
   "metadata": {
    "collapsed": true
   },
   "outputs": [],
   "source": [
    "%%px\n",
    "miFFT3Dfield=IFFT3Dfield()"
   ]
  },
  {
   "cell_type": "code",
   "execution_count": 20,
   "metadata": {
    "collapsed": false
   },
   "outputs": [],
   "source": [
    "%%px\n",
    "tv=ft.zeros_aligned((nx,ny,nz), dtype='float32')\n",
    "tcvt=ft.zeros_aligned((nx,ny,nz_half+1), dtype='complex64')\n",
    "\n",
    "a11 = ft.zeros_aligned((nx,ny,nz), dtype='float32')\n",
    "a22 = ft.zeros_aligned((nx,ny,nz), dtype='float32')\n",
    "a33 = ft.zeros_aligned((nx,ny,nz), dtype='float32')"
   ]
  },
  {
   "cell_type": "code",
   "execution_count": 23,
   "metadata": {
    "collapsed": false
   },
   "outputs": [
    {
     "name": "stdout",
     "output_type": "stream",
     "text": [
      "[stdout:0] 67239936\n",
      "[stdout:1] 67239936\n",
      "[stdout:2] 67239936\n",
      "[stdout:3] 67239936\n",
      "[stdout:4] 67239936\n",
      "[stdout:5] 67239936\n",
      "[stdout:6] 67239936\n",
      "[stdout:7] 67239936\n"
     ]
    }
   ],
   "source": [
    "%%px\n",
    "\n",
    "print(len(ca11[ca11==np.complex64(0.0+0.0j)].flatten()))"
   ]
  },
  {
   "cell_type": "code",
   "execution_count": 21,
   "metadata": {
    "collapsed": false
   },
   "outputs": [],
   "source": [
    "%%px\n",
    "\n",
    "comm.Barrier();\n",
    "tv[:,:,:] = 0.; tcvt[:,:,:] = np.complex64(0.0+0.0j)\n",
    "a11[:,:,:]=miFFT3Dfield.GetIFFT3Dfield(ca11,tv,tcvt,nx,ny,nz,nproc,rank)\n",
    "comm.Barrier(); \n",
    "tv[:,:,:] = 0.; tcvt[:,:,:] = np.complex64(0.0+0.0j)\n",
    "a22[:,:,:]=miFFT3Dfield.GetIFFT3Dfield(ca22,tv,tcvt,nx,ny,nz,nproc,rank)\n",
    "comm.Barrier(); \n",
    "tv[:,:,:] = 0.; tcvt[:,:,:] = np.complex64(0.0+0.0j)\n",
    "a33[:,:,:]=miFFT3Dfield.GetIFFT3Dfield(ca33,tv,tcvt,nx,ny,nz,nproc,rank)\n",
    "comm.Barrier(); \n"
   ]
  },
  {
   "cell_type": "code",
   "execution_count": 22,
   "metadata": {
    "collapsed": false
   },
   "outputs": [
    {
     "name": "stdout",
     "output_type": "stream",
     "text": [
      "[stdout:0] \n",
      "134217728\n",
      "2\n",
      "3\n",
      "[stdout:1] \n",
      "134217728\n",
      "2\n",
      "2\n",
      "[stdout:2] \n",
      "134217728\n",
      "6\n",
      "2\n",
      "[stdout:3] \n",
      "134217728\n",
      "7\n",
      "2\n",
      "[stdout:4] \n",
      "134217728\n",
      "4\n",
      "0\n",
      "[stdout:5] \n",
      "134217728\n",
      "0\n",
      "1\n",
      "[stdout:6] \n",
      "134217728\n",
      "5\n",
      "4\n",
      "[stdout:7] \n",
      "134217728\n",
      "2\n",
      "3\n"
     ]
    }
   ],
   "source": [
    "%%px\n",
    "\n",
    "print(len(a11[a11==0.].flatten()))\n",
    "print(len(a22[a22==0.].flatten()))\n",
    "print(len(a33[a33==0.].flatten()))"
   ]
  },
  {
   "cell_type": "code",
   "execution_count": 18,
   "metadata": {
    "collapsed": false
   },
   "outputs": [
    {
     "ename": "CompositeError",
     "evalue": "one or more exceptions from call to method: execute\n[0:execute]: NameError: name 'cSxy' is not defined\n[1:execute]: NameError: name 'cSxy' is not defined\n[2:execute]: NameError: name 'cSxy' is not defined\n[3:execute]: NameError: name 'cSxy' is not defined\n.... 4 more exceptions ...",
     "output_type": "error",
     "traceback": [
      "[0:execute]: ",
      "\u001b[1;31m\u001b[0m\u001b[1;31mNameError\u001b[0mTraceback (most recent call last)\u001b[1;32m<ipython-input-17-f0dfebeca612>\u001b[0m in \u001b[0;36m<module>\u001b[1;34m()\u001b[0m",
      "\u001b[0;32m      3\u001b[0m \u001b[1;33m\u001b[0m\u001b[0m",
      "\u001b[0;32m      4\u001b[0m \u001b[1;31m#miFFT3Dfield=IFFT3Dfield()\u001b[0m\u001b[1;33m\u001b[0m\u001b[1;33m\u001b[0m\u001b[0m",
      "\u001b[1;32m----> 5\u001b[1;33m \u001b[0mSxy\u001b[0m\u001b[1;33m=\u001b[0m\u001b[0mmiFFT3Dfield\u001b[0m\u001b[1;33m.\u001b[0m\u001b[0mGetIFFT3Dfield\u001b[0m\u001b[1;33m(\u001b[0m\u001b[0mcSxy\u001b[0m\u001b[1;33m,\u001b[0m\u001b[0mnx\u001b[0m\u001b[1;33m,\u001b[0m\u001b[0mny\u001b[0m\u001b[1;33m,\u001b[0m\u001b[0mnz\u001b[0m\u001b[1;33m,\u001b[0m\u001b[0mnproc\u001b[0m\u001b[1;33m,\u001b[0m\u001b[0mrank\u001b[0m\u001b[1;33m)\u001b[0m\u001b[1;33m\u001b[0m\u001b[0m",
      "\u001b[0m\u001b[0;32m      6\u001b[0m \u001b[0mSxz\u001b[0m\u001b[1;33m=\u001b[0m\u001b[0mmiFFT3Dfield\u001b[0m\u001b[1;33m.\u001b[0m\u001b[0mGetIFFT3Dfield\u001b[0m\u001b[1;33m(\u001b[0m\u001b[0mcSxz\u001b[0m\u001b[1;33m,\u001b[0m\u001b[0mnx\u001b[0m\u001b[1;33m,\u001b[0m\u001b[0mny\u001b[0m\u001b[1;33m,\u001b[0m\u001b[0mnz\u001b[0m\u001b[1;33m,\u001b[0m\u001b[0mnproc\u001b[0m\u001b[1;33m,\u001b[0m\u001b[0mrank\u001b[0m\u001b[1;33m)\u001b[0m\u001b[1;33m\u001b[0m\u001b[0m",
      "\u001b[0;32m      7\u001b[0m \u001b[0mSyz\u001b[0m\u001b[1;33m=\u001b[0m\u001b[0mmiFFT3Dfield\u001b[0m\u001b[1;33m.\u001b[0m\u001b[0mGetIFFT3Dfield\u001b[0m\u001b[1;33m(\u001b[0m\u001b[0mcSyz\u001b[0m\u001b[1;33m,\u001b[0m\u001b[0mnx\u001b[0m\u001b[1;33m,\u001b[0m\u001b[0mny\u001b[0m\u001b[1;33m,\u001b[0m\u001b[0mnz\u001b[0m\u001b[1;33m,\u001b[0m\u001b[0mnproc\u001b[0m\u001b[1;33m,\u001b[0m\u001b[0mrank\u001b[0m\u001b[1;33m)\u001b[0m\u001b[1;33m\u001b[0m\u001b[0m",
      "\u001b[1;31mNameError\u001b[0m: name 'cSxy' is not defined",
      "",
      "[1:execute]: ",
      "\u001b[1;31m\u001b[0m\u001b[1;31mNameError\u001b[0mTraceback (most recent call last)\u001b[1;32m<ipython-input-17-f0dfebeca612>\u001b[0m in \u001b[0;36m<module>\u001b[1;34m()\u001b[0m",
      "\u001b[0;32m      3\u001b[0m \u001b[1;33m\u001b[0m\u001b[0m",
      "\u001b[0;32m      4\u001b[0m \u001b[1;31m#miFFT3Dfield=IFFT3Dfield()\u001b[0m\u001b[1;33m\u001b[0m\u001b[1;33m\u001b[0m\u001b[0m",
      "\u001b[1;32m----> 5\u001b[1;33m \u001b[0mSxy\u001b[0m\u001b[1;33m=\u001b[0m\u001b[0mmiFFT3Dfield\u001b[0m\u001b[1;33m.\u001b[0m\u001b[0mGetIFFT3Dfield\u001b[0m\u001b[1;33m(\u001b[0m\u001b[0mcSxy\u001b[0m\u001b[1;33m,\u001b[0m\u001b[0mnx\u001b[0m\u001b[1;33m,\u001b[0m\u001b[0mny\u001b[0m\u001b[1;33m,\u001b[0m\u001b[0mnz\u001b[0m\u001b[1;33m,\u001b[0m\u001b[0mnproc\u001b[0m\u001b[1;33m,\u001b[0m\u001b[0mrank\u001b[0m\u001b[1;33m)\u001b[0m\u001b[1;33m\u001b[0m\u001b[0m",
      "\u001b[0m\u001b[0;32m      6\u001b[0m \u001b[0mSxz\u001b[0m\u001b[1;33m=\u001b[0m\u001b[0mmiFFT3Dfield\u001b[0m\u001b[1;33m.\u001b[0m\u001b[0mGetIFFT3Dfield\u001b[0m\u001b[1;33m(\u001b[0m\u001b[0mcSxz\u001b[0m\u001b[1;33m,\u001b[0m\u001b[0mnx\u001b[0m\u001b[1;33m,\u001b[0m\u001b[0mny\u001b[0m\u001b[1;33m,\u001b[0m\u001b[0mnz\u001b[0m\u001b[1;33m,\u001b[0m\u001b[0mnproc\u001b[0m\u001b[1;33m,\u001b[0m\u001b[0mrank\u001b[0m\u001b[1;33m)\u001b[0m\u001b[1;33m\u001b[0m\u001b[0m",
      "\u001b[0;32m      7\u001b[0m \u001b[0mSyz\u001b[0m\u001b[1;33m=\u001b[0m\u001b[0mmiFFT3Dfield\u001b[0m\u001b[1;33m.\u001b[0m\u001b[0mGetIFFT3Dfield\u001b[0m\u001b[1;33m(\u001b[0m\u001b[0mcSyz\u001b[0m\u001b[1;33m,\u001b[0m\u001b[0mnx\u001b[0m\u001b[1;33m,\u001b[0m\u001b[0mny\u001b[0m\u001b[1;33m,\u001b[0m\u001b[0mnz\u001b[0m\u001b[1;33m,\u001b[0m\u001b[0mnproc\u001b[0m\u001b[1;33m,\u001b[0m\u001b[0mrank\u001b[0m\u001b[1;33m)\u001b[0m\u001b[1;33m\u001b[0m\u001b[0m",
      "\u001b[1;31mNameError\u001b[0m: name 'cSxy' is not defined",
      "",
      "[2:execute]: ",
      "\u001b[1;31m\u001b[0m\u001b[1;31mNameError\u001b[0mTraceback (most recent call last)\u001b[1;32m<ipython-input-17-f0dfebeca612>\u001b[0m in \u001b[0;36m<module>\u001b[1;34m()\u001b[0m",
      "\u001b[0;32m      3\u001b[0m \u001b[1;33m\u001b[0m\u001b[0m",
      "\u001b[0;32m      4\u001b[0m \u001b[1;31m#miFFT3Dfield=IFFT3Dfield()\u001b[0m\u001b[1;33m\u001b[0m\u001b[1;33m\u001b[0m\u001b[0m",
      "\u001b[1;32m----> 5\u001b[1;33m \u001b[0mSxy\u001b[0m\u001b[1;33m=\u001b[0m\u001b[0mmiFFT3Dfield\u001b[0m\u001b[1;33m.\u001b[0m\u001b[0mGetIFFT3Dfield\u001b[0m\u001b[1;33m(\u001b[0m\u001b[0mcSxy\u001b[0m\u001b[1;33m,\u001b[0m\u001b[0mnx\u001b[0m\u001b[1;33m,\u001b[0m\u001b[0mny\u001b[0m\u001b[1;33m,\u001b[0m\u001b[0mnz\u001b[0m\u001b[1;33m,\u001b[0m\u001b[0mnproc\u001b[0m\u001b[1;33m,\u001b[0m\u001b[0mrank\u001b[0m\u001b[1;33m)\u001b[0m\u001b[1;33m\u001b[0m\u001b[0m",
      "\u001b[0m\u001b[0;32m      6\u001b[0m \u001b[0mSxz\u001b[0m\u001b[1;33m=\u001b[0m\u001b[0mmiFFT3Dfield\u001b[0m\u001b[1;33m.\u001b[0m\u001b[0mGetIFFT3Dfield\u001b[0m\u001b[1;33m(\u001b[0m\u001b[0mcSxz\u001b[0m\u001b[1;33m,\u001b[0m\u001b[0mnx\u001b[0m\u001b[1;33m,\u001b[0m\u001b[0mny\u001b[0m\u001b[1;33m,\u001b[0m\u001b[0mnz\u001b[0m\u001b[1;33m,\u001b[0m\u001b[0mnproc\u001b[0m\u001b[1;33m,\u001b[0m\u001b[0mrank\u001b[0m\u001b[1;33m)\u001b[0m\u001b[1;33m\u001b[0m\u001b[0m",
      "\u001b[0;32m      7\u001b[0m \u001b[0mSyz\u001b[0m\u001b[1;33m=\u001b[0m\u001b[0mmiFFT3Dfield\u001b[0m\u001b[1;33m.\u001b[0m\u001b[0mGetIFFT3Dfield\u001b[0m\u001b[1;33m(\u001b[0m\u001b[0mcSyz\u001b[0m\u001b[1;33m,\u001b[0m\u001b[0mnx\u001b[0m\u001b[1;33m,\u001b[0m\u001b[0mny\u001b[0m\u001b[1;33m,\u001b[0m\u001b[0mnz\u001b[0m\u001b[1;33m,\u001b[0m\u001b[0mnproc\u001b[0m\u001b[1;33m,\u001b[0m\u001b[0mrank\u001b[0m\u001b[1;33m)\u001b[0m\u001b[1;33m\u001b[0m\u001b[0m",
      "\u001b[1;31mNameError\u001b[0m: name 'cSxy' is not defined",
      "",
      "[3:execute]: ",
      "\u001b[1;31m\u001b[0m\u001b[1;31mNameError\u001b[0mTraceback (most recent call last)\u001b[1;32m<ipython-input-17-f0dfebeca612>\u001b[0m in \u001b[0;36m<module>\u001b[1;34m()\u001b[0m",
      "\u001b[0;32m      3\u001b[0m \u001b[1;33m\u001b[0m\u001b[0m",
      "\u001b[0;32m      4\u001b[0m \u001b[1;31m#miFFT3Dfield=IFFT3Dfield()\u001b[0m\u001b[1;33m\u001b[0m\u001b[1;33m\u001b[0m\u001b[0m",
      "\u001b[1;32m----> 5\u001b[1;33m \u001b[0mSxy\u001b[0m\u001b[1;33m=\u001b[0m\u001b[0mmiFFT3Dfield\u001b[0m\u001b[1;33m.\u001b[0m\u001b[0mGetIFFT3Dfield\u001b[0m\u001b[1;33m(\u001b[0m\u001b[0mcSxy\u001b[0m\u001b[1;33m,\u001b[0m\u001b[0mnx\u001b[0m\u001b[1;33m,\u001b[0m\u001b[0mny\u001b[0m\u001b[1;33m,\u001b[0m\u001b[0mnz\u001b[0m\u001b[1;33m,\u001b[0m\u001b[0mnproc\u001b[0m\u001b[1;33m,\u001b[0m\u001b[0mrank\u001b[0m\u001b[1;33m)\u001b[0m\u001b[1;33m\u001b[0m\u001b[0m",
      "\u001b[0m\u001b[0;32m      6\u001b[0m \u001b[0mSxz\u001b[0m\u001b[1;33m=\u001b[0m\u001b[0mmiFFT3Dfield\u001b[0m\u001b[1;33m.\u001b[0m\u001b[0mGetIFFT3Dfield\u001b[0m\u001b[1;33m(\u001b[0m\u001b[0mcSxz\u001b[0m\u001b[1;33m,\u001b[0m\u001b[0mnx\u001b[0m\u001b[1;33m,\u001b[0m\u001b[0mny\u001b[0m\u001b[1;33m,\u001b[0m\u001b[0mnz\u001b[0m\u001b[1;33m,\u001b[0m\u001b[0mnproc\u001b[0m\u001b[1;33m,\u001b[0m\u001b[0mrank\u001b[0m\u001b[1;33m)\u001b[0m\u001b[1;33m\u001b[0m\u001b[0m",
      "\u001b[0;32m      7\u001b[0m \u001b[0mSyz\u001b[0m\u001b[1;33m=\u001b[0m\u001b[0mmiFFT3Dfield\u001b[0m\u001b[1;33m.\u001b[0m\u001b[0mGetIFFT3Dfield\u001b[0m\u001b[1;33m(\u001b[0m\u001b[0mcSyz\u001b[0m\u001b[1;33m,\u001b[0m\u001b[0mnx\u001b[0m\u001b[1;33m,\u001b[0m\u001b[0mny\u001b[0m\u001b[1;33m,\u001b[0m\u001b[0mnz\u001b[0m\u001b[1;33m,\u001b[0m\u001b[0mnproc\u001b[0m\u001b[1;33m,\u001b[0m\u001b[0mrank\u001b[0m\u001b[1;33m)\u001b[0m\u001b[1;33m\u001b[0m\u001b[0m",
      "\u001b[1;31mNameError\u001b[0m: name 'cSxy' is not defined",
      "",
      "... 4 more exceptions ..."
     ]
    }
   ],
   "source": [
    "%%px\n",
    "comm.Barrier(); t1=MPI.Wtime()\n",
    "# Get velocity field in Fourier space:\n",
    "\n",
    "#miFFT3Dfield=IFFT3Dfield()\n",
    "Sxy=miFFT3Dfield.GetIFFT3Dfield(cSxy,nx,ny,nz,nproc,rank)\n",
    "Sxz=miFFT3Dfield.GetIFFT3Dfield(cSxz,nx,ny,nz,nproc,rank)\n",
    "Syz=miFFT3Dfield.GetIFFT3Dfield(cSyz,nx,ny,nz,nproc,rank)\n",
    "\n",
    "Sxx=miFFT3Dfield.GetIFFT3Dfield(cSxx,nx,ny,nz,nproc,rank)\n",
    "Syy=miFFT3Dfield.GetIFFT3Dfield(cSyy,nx,ny,nz,nproc,rank)\n",
    "Szz=miFFT3Dfield.GetIFFT3Dfield(cSzz,nx,ny,nz,nproc,rank)\n",
    "\n",
    "del cSxy\n",
    "del cSxz\n",
    "del cSyz\n",
    "del cSxx\n",
    "del cSyy\n",
    "del cSzz\n",
    "\n",
    "comm.Barrier(); t2=MPI.Wtime()\n",
    "if(rank==0):\n",
    "    sys.stdout.write('Calculate 3D spatial inverse FFT: {0:.2f} seconds\\n'.format(t2-t1))"
   ]
  },
  {
   "cell_type": "code",
   "execution_count": 11,
   "metadata": {
    "collapsed": false
   },
   "outputs": [
    {
     "name": "stdout",
     "output_type": "stream",
     "text": [
      "[stdout:0] Calculate average enstrophy: 29.86 seconds\n"
     ]
    }
   ],
   "source": [
    "%%px\n",
    "comm.Barrier(); t1=MPI.Wtime()\n",
    "\n",
    "S2 = Sxx**2 + Syy**2 + Szz**2 + 2.*Sxy**2 + 2.*Sxz**2 + 2*Syz**2\n",
    "\n",
    "comm.Barrier(); t2=MPI.Wtime()\n",
    "if(rank==0):\n",
    "    sys.stdout.write('Calculate average enstrophy: {0:.2f} seconds\\n'.format(t2-t1))"
   ]
  },
  {
   "cell_type": "code",
   "execution_count": 6,
   "metadata": {
    "collapsed": false
   },
   "outputs": [
    {
     "name": "stdout",
     "output_type": "stream",
     "text": [
      "[stdout:0] \n",
      "Finished loading\n",
      "Load from disk: 11.78 seconds\n"
     ]
    }
   ],
   "source": [
    "%%px\n",
    "\n",
    "cacheEnstrophyData = False\n",
    "loadEnstrophyFromCache = True\n",
    "\n",
    "folder = \"/home/idies/workspace/scratch\"\n",
    "filename = \"dissp-isotropic1024coarse-\"+str(rank)+\"-(t=\"+str(time)+\")\"+\".npz\"\n",
    "file = folder + \"/\" + filename\n",
    "\n",
    "if(loadEnstrophyFromCache):\n",
    "    comm.Barrier(); t1=MPI.Wtime()\n",
    "    content = np.load(file)\n",
    "    \n",
    "    S2 = ft.zeros_aligned((nx,ny,nz), dtype='float32')\n",
    "    \n",
    "    if(int(content['nproc'])!=nproc):\n",
    "        print(\"Unmatched number of processes. Must first pre-process to adequate number of process\")\n",
    "    S2[:,:,:] = content['S2']\n",
    "    \n",
    "    comm.Barrier(); t2=MPI.Wtime()\n",
    "    if(rank==0):\n",
    "        print(\"Finished loading\")\n",
    "        sys.stdout.write('Load from disk: {0:.2f} seconds\\n'.format(t2-t1))\n",
    "\n",
    "if(cacheEnstrophyData):\n",
    "    \n",
    "    comm.Barrier(); t1=MPI.Wtime()\n",
    "    np.savez(file,S2=S2,nproc=nproc)\n",
    "    comm.Barrier(); t2=MPI.Wtime()\n",
    "    if(rank==0):\n",
    "        sys.stdout.write('Caching the data: {0:.2f} seconds\\n'.format(t2-t1))"
   ]
  },
  {
   "cell_type": "code",
   "execution_count": 7,
   "metadata": {
    "collapsed": true
   },
   "outputs": [],
   "source": [
    "%%px\n",
    "\n",
    "avg_diss = np.average(S2)\n",
    "avgDissGl=np.zeros(1,dtype='float32')\n",
    "\n",
    "comm.Reduce([avg_diss,MPI.REAL],[avgDissGl,MPI.REAL],op=MPI.SUM)\n",
    "avgDiss = avgDissGl[0]/nproc\n",
    "avgDiss = comm.bcast(avgDiss, root=0)"
   ]
  },
  {
   "cell_type": "code",
   "execution_count": 8,
   "metadata": {
    "collapsed": false
   },
   "outputs": [],
   "source": [
    "%%px \n",
    "\n",
    "minS2 = S2.min()\n",
    "maxS2 = S2.max()\n",
    "\n",
    "minDissGl=np.zeros(nproc,dtype='float32')\n",
    "maxDissGl=np.zeros(nproc,dtype='float32')\n",
    "\n",
    "comm.Allgather([minS2,MPI.REAL],[minDissGl,MPI.REAL])\n",
    "comm.Allgather([maxS2,MPI.REAL],[maxDissGl,MPI.REAL])\n",
    "\n",
    "minS2 = minDissGl.min()\n",
    "maxS2 = maxDissGl.max()\n",
    "\n",
    "comm.Barrier()"
   ]
  },
  {
   "cell_type": "code",
   "execution_count": 9,
   "metadata": {
    "collapsed": false
   },
   "outputs": [],
   "source": [
    "%%px\n",
    "\n",
    "Nbins = 3200\n",
    "s2histo=np.zeros(Nbins,dtype='int')\n",
    "hist,edges = np.histogram(S2/avgDiss,np.linspace(minS2/avgDiss, maxS2/avgDiss, Nbins))"
   ]
  },
  {
   "cell_type": "code",
   "execution_count": 10,
   "metadata": {
    "collapsed": false
   },
   "outputs": [],
   "source": [
    "%%px \n",
    "\n",
    "blocks = Nbins//100\n",
    "comm.Barrier()\n",
    "for i in range(blocks):\n",
    "    comm.Reduce([hist[i*100:(i+1)*100],MPI.INT],[s2histo[i*100:(i+1)*100],MPI.INT],op=MPI.SUM)\n",
    "    comm.Barrier()"
   ]
  },
  {
   "cell_type": "code",
   "execution_count": 11,
   "metadata": {
    "collapsed": false
   },
   "outputs": [
    {
     "data": {
      "text/plain": [
       "[output:0]"
      ]
     },
     "metadata": {},
     "output_type": "display_data"
    },
    {
     "data": {
      "image/png": "[encoded data removed]",
      "text/plain": [
       "<matplotlib.figure.Figure at 0x7fbf3ba6c8d0>"
      ]
     },
     "metadata": {
      "engine": 0
     },
     "output_type": "display_data"
    }
   ],
   "source": [
    "%%px\n",
    "%matplotlib inline\n",
    "import matplotlib\n",
    "import matplotlib.pyplot as plt\n",
    "s2histo[-1] = 0\n",
    "if rank==0:\n",
    "    SIZE = 12\n",
    "    plt.rc('font', size=SIZE)  # controls default text sizes\n",
    "    plt.rc('axes', titlesize=SIZE+4)  # fontsize of the axes title\n",
    "    plt.rc('axes', labelsize=SIZE+4)  # fontsize of the x any y labels\n",
    "    plt.rc('xtick', labelsize=SIZE)  # fontsize of the tick labels\n",
    "    plt.rc('ytick', labelsize=SIZE)  # fontsize of the tick labels\n",
    "    plt.rc('legend', fontsize=SIZE+3)  # legend fontsize\n",
    "    plt.rc('figure', titlesize=SIZE)  # # size of the figure title\n",
    "    plt.title(r'$\\epsilon = S_{ij}S_{ij}$')\n",
    "    plt.xlabel(r'$\\epsilon/{\\langle \\epsilon\\rangle}$')\n",
    "    plt.ylabel(r'$P_{\\epsilon}$')\n",
    "    #ks=np.linspace(1,101,100)\n",
    "    #plt.xlabel('$\\langle \\omega^2\\rangle$')\n",
    "    #plt.ylabel('Bin-count')\n",
    "\n",
    "    plt.semilogy(edges,s2histo*(1024**(-3))/((maxS2-minS2)/(avgDiss*Nbins)),'r',label='Unfiltered')"
   ]
  },
  {
   "cell_type": "code",
   "execution_count": 12,
   "metadata": {
    "collapsed": false
   },
   "outputs": [],
   "source": [
    "%%px\n",
    "Nbins = 400\n",
    "stemp = S2[S2<=20*avgDiss] \n",
    "s2red=np.zeros(Nbins,dtype='int')\n",
    "histred,edgesred = np.histogram(stemp/avgDiss,np.linspace(minS2/avgDiss, 20, Nbins))"
   ]
  },
  {
   "cell_type": "code",
   "execution_count": 13,
   "metadata": {
    "collapsed": false
   },
   "outputs": [],
   "source": [
    "%%px\n",
    "blocks = Nbins//100\n",
    "comm.Barrier()\n",
    "for i in range(blocks):\n",
    "    comm.Reduce([histred[i*100:(i+1)*100],MPI.INT],[s2red[i*100:(i+1)*100],MPI.INT],op=MPI.SUM)\n",
    "    comm.Barrier()"
   ]
  },
  {
   "cell_type": "code",
   "execution_count": 14,
   "metadata": {
    "collapsed": false
   },
   "outputs": [
    {
     "data": {
      "text/plain": [
       "[output:0]"
      ]
     },
     "metadata": {},
     "output_type": "display_data"
    },
    {
     "data": {
      "image/png": "[encoded data removed]",
      "text/plain": [
       "<matplotlib.figure.Figure at 0x7fbf1899f240>"
      ]
     },
     "metadata": {
      "engine": 0
     },
     "output_type": "display_data"
    }
   ],
   "source": [
    "%%px\n",
    "\n",
    "%matplotlib inline\n",
    "s2red[-1] = 0\n",
    "if rank==0:\n",
    "    SIZE = 12\n",
    "    plt.rc('font', size=SIZE)  # controls default text sizes\n",
    "    plt.rc('axes', titlesize=SIZE+4)  # fontsize of the axes title\n",
    "    plt.rc('axes', labelsize=SIZE+4)  # fontsize of the x any y labels\n",
    "    plt.rc('xtick', labelsize=SIZE)  # fontsize of the tick labels\n",
    "    plt.rc('ytick', labelsize=SIZE)  # fontsize of the tick labels\n",
    "    plt.rc('legend', fontsize=SIZE+3)  # legend fontsize\n",
    "    plt.rc('figure', titlesize=SIZE)  # # size of the figure title\n",
    "    plt.title(r'$\\epsilon = S_{ij}S_{ij}$')\n",
    "    plt.xlabel(r'$\\epsilon/{\\langle \\epsilon\\rangle}$')\n",
    "    plt.ylabel(r'$P_{\\epsilon}$')\n",
    "    #ks=np.linspace(1,101,100)\n",
    "    #plt.xlabel('$\\langle \\omega^2\\rangle$')\n",
    "    #plt.ylabel('Bin-count')\n",
    "    #plt.xlim(0,5)\n",
    "    #plt.ylim(10**(-2),10**(1))\n",
    "\n",
    "    plt.semilogy(edgesred,(s2red*(1024**(-3)))/((20*avgDiss-minS2)/(avgDiss*Nbins)),'r',label='Unfiltered')"
   ]
  },
  {
   "cell_type": "code",
   "execution_count": 15,
   "metadata": {
    "collapsed": true
   },
   "outputs": [],
   "source": [
    "%%px\n",
    "Nbins = 400\n",
    "stemp = S2[S2<=5*avgDiss] \n",
    "s2red=np.zeros(Nbins,dtype='int')\n",
    "histred,edgesred = np.histogram(stemp/avgDiss,np.linspace(minS2/avgDiss, 5, Nbins))"
   ]
  },
  {
   "cell_type": "code",
   "execution_count": 16,
   "metadata": {
    "collapsed": true
   },
   "outputs": [],
   "source": [
    "%%px\n",
    "blocks = Nbins//100\n",
    "comm.Barrier()\n",
    "for i in range(blocks):\n",
    "    comm.Reduce([histred[i*100:(i+1)*100],MPI.INT],[s2red[i*100:(i+1)*100],MPI.INT],op=MPI.SUM)\n",
    "    comm.Barrier()"
   ]
  },
  {
   "cell_type": "code",
   "execution_count": 17,
   "metadata": {
    "collapsed": false
   },
   "outputs": [
    {
     "data": {
      "text/plain": [
       "[output:0]"
      ]
     },
     "metadata": {},
     "output_type": "display_data"
    },
    {
     "data": {
      "image/png": "[encoded data removed]",
      "text/plain": [
       "<matplotlib.figure.Figure at 0x7fbf18aa67b8>"
      ]
     },
     "metadata": {
      "engine": 0
     },
     "output_type": "display_data"
    }
   ],
   "source": [
    "%%px\n",
    "\n",
    "%matplotlib inline\n",
    "s2red[-1] = 0\n",
    "if rank==0:\n",
    "    SIZE = 12\n",
    "    plt.rc('font', size=SIZE)  # controls default text sizes\n",
    "    plt.rc('axes', titlesize=SIZE+4)  # fontsize of the axes title\n",
    "    plt.rc('axes', labelsize=SIZE+4)  # fontsize of the x any y labels\n",
    "    plt.rc('xtick', labelsize=SIZE)  # fontsize of the tick labels\n",
    "    plt.rc('ytick', labelsize=SIZE)  # fontsize of the tick labels\n",
    "    plt.rc('legend', fontsize=SIZE+3)  # legend fontsize\n",
    "    plt.rc('figure', titlesize=SIZE)  # # size of the figure title\n",
    "    plt.title(r'$\\epsilon = S_{ij}S_{ij}$')\n",
    "    plt.xlabel(r'$\\epsilon/{\\langle \\epsilon\\rangle}$')\n",
    "    plt.ylabel(r'$P_{\\epsilon}$')\n",
    "    #ks=np.linspace(1,101,100)\n",
    "    #plt.xlabel('$\\langle \\omega^2\\rangle$')\n",
    "    #plt.ylabel('Bin-count')\n",
    "    #plt.xlim(0,5)\n",
    "    #plt.ylim(10**(-2),10**(1))\n",
    "\n",
    "    plt.semilogy(edgesred,(s2red*(1024**(-3)))/((5*avgDiss-minS2)/(avgDiss*Nbins)),'r',label='Unfiltered')"
   ]
  },
  {
   "cell_type": "code",
   "execution_count": 18,
   "metadata": {
    "collapsed": true
   },
   "outputs": [],
   "source": [
    "%%px\n",
    "Nbins = 400\n",
    "stemp = S2[S2<=2*avgDiss] \n",
    "s2red=np.zeros(Nbins,dtype='int')\n",
    "histred,edgesred = np.histogram(stemp/avgDiss,np.linspace(minS2/avgDiss, 2, Nbins))"
   ]
  },
  {
   "cell_type": "code",
   "execution_count": 19,
   "metadata": {
    "collapsed": true
   },
   "outputs": [],
   "source": [
    "%%px\n",
    "blocks = Nbins//100\n",
    "comm.Barrier()\n",
    "for i in range(blocks):\n",
    "    comm.Reduce([histred[i*100:(i+1)*100],MPI.INT],[s2red[i*100:(i+1)*100],MPI.INT],op=MPI.SUM)\n",
    "    comm.Barrier()"
   ]
  },
  {
   "cell_type": "code",
   "execution_count": 1,
   "metadata": {
    "collapsed": false
   },
   "outputs": [
    {
     "name": "stderr",
     "output_type": "stream",
     "text": [
      "ERROR: Cell magic `%%px` not found.\n"
     ]
    }
   ],
   "source": [
    "%%px\n",
    "\n",
    "%matplotlib inline\n",
    "s2red[-1] = 0\n",
    "if rank==0:\n",
    "    S2_bins = np.load('dissipation_bins.npy')\n",
    "    S2_pdf = np.load('dissipation_pdf.npy')\n",
    "    \n",
    "    SIZE = 12\n",
    "    plt.rc('font', size=SIZE)  # controls default text sizes\n",
    "    plt.rc('axes', titlesize=SIZE+4)  # fontsize of the axes title\n",
    "    plt.rc('axes', labelsize=SIZE+4)  # fontsize of the x any y labels\n",
    "    plt.rc('xtick', labelsize=SIZE)  # fontsize of the tick labels\n",
    "    plt.rc('ytick', labelsize=SIZE)  # fontsize of the tick labels\n",
    "    plt.rc('legend', fontsize=SIZE+3)  # legend fontsize\n",
    "    plt.rc('figure', titlesize=SIZE)  # # size of the figure title\n",
    "    plt.title(r'$\\epsilon = S_{ij}S_{ij}$')\n",
    "    plt.xlabel(r'$\\epsilon/{\\langle \\epsilon\\rangle}$')\n",
    "    plt.ylabel(r'$P_{\\epsilon}$')\n",
    "    #ks=np.linspace(1,101,100)\n",
    "    #plt.xlabel('$\\langle \\omega^2\\rangle$')\n",
    "    #plt.ylabel('Bin-count')\n",
    "    #plt.xlim(0,5)\n",
    "    #plt.ylim(10**(-2),10**(1))\n",
    "\n",
    "    plt.semilogy(edgesred,(s2red*(1024**(-3)))/((5*avgDiss-minS2)/(avgDiss*Nbins)),'r',label='Unfiltered')\n",
    "    plt.semilogy(S2_bins[S2_bins<=5],w2_pdf[S2_bins<=5],'b--')"
   ]
  },
  {
   "cell_type": "code",
   "execution_count": null,
   "metadata": {
    "collapsed": true
   },
   "outputs": [],
   "source": []
  }
 ],
 "metadata": {
  "kernelspec": {
   "display_name": "Python 3",
   "language": "python",
   "name": "python3"
  }
 },
 "nbformat": 4,
 "nbformat_minor": 0
}
