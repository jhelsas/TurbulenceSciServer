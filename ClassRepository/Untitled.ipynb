{
 "cells": [
  {
   "cell_type": "code",
   "execution_count": 1,
   "metadata": {
    "collapsed": true
   },
   "outputs": [],
   "source": [
    "#!ipcluster start -n 8 --engines=MPI --profile='mpi' # for parallel run: start the engines using terminal\n",
    "from ipyparallel import Client\n",
    "rc = Client(profile='mpi')"
   ]
  },
  {
   "cell_type": "code",
   "execution_count": 2,
   "metadata": {
    "collapsed": false
   },
   "outputs": [],
   "source": [
    "%%px\n",
    "# Import the libraries\n",
    "\n",
    "import os\n",
    "import sys\n",
    "import math\n",
    "import numpy as np\n",
    "import pyfftw as ft \n",
    "from mpi4py import MPI\n",
    "import matplotlib\n",
    "import matplotlib.pyplot as plt\n",
    "import pyJHTDB\n",
    "from pyJHTDB.dbinfo import isotropic1024coarse\n",
    "from pyJHTDB import libJHTDB\n",
    "\n",
    "from fft3d import FFT3Dfield_new\n",
    "from EnergySpectrum import EnergySpectrum"
   ]
  },
  {
   "cell_type": "code",
   "execution_count": 3,
   "metadata": {
    "collapsed": false
   },
   "outputs": [
    {
     "name": "stdout",
     "output_type": "stream",
     "text": [
      "[stdout:1] \n",
      "n_proc = 8\n",
      "rank = 0\n"
     ]
    }
   ],
   "source": [
    "%%px\n",
    "\n",
    "Nx = isotropic1024coarse['nx']; Ny = isotropic1024coarse['ny']; Nz = isotropic1024coarse['nz']\n",
    "Lx = isotropic1024coarse['lx']; Ly = isotropic1024coarse['ly']; Lz = isotropic1024coarse['lz']\n",
    "\n",
    "comm = MPI.COMM_WORLD; rank = comm.Get_rank(); nproc = comm.Get_size()\n",
    "if(rank==0):\n",
    "    print(\"n_proc = \"+str(nproc))\n",
    "    print(\"rank = \"+str(rank))\n",
    "    \n",
    "# Computational Domain\n",
    "\n",
    "nx=Nx//nproc ; ny=Ny; nz=Nz\n",
    "nz_half=nz//2; nek=int(math.sqrt(2.0)/3*Nx)\n",
    "time = 0.0\n",
    "\n",
    "chkSz = 32\n",
    "slabs = nx//chkSz"
   ]
  },
  {
   "cell_type": "code",
   "execution_count": 4,
   "metadata": {
    "collapsed": false
   },
   "outputs": [
    {
     "name": "stdout",
     "output_type": "stream",
     "text": [
      "[stdout:1] \n",
      "Finished loading\n",
      "Load from disk: 48.34 seconds\n"
     ]
    }
   ],
   "source": [
    "%%px\n",
    "\n",
    "cacheEnstrophyData = False\n",
    "loadEnstrophyFromCache = True\n",
    "\n",
    "folder = \"/home/idies/workspace/scratch\"\n",
    "filename = \"enstrophy-kun-isotropic1024coarse-\"+str(rank)+\"-(t=\"+str(time)+\")\"+\".npz\"\n",
    "file = folder + \"/\" + filename\n",
    "\n",
    "if(loadEnstrophyFromCache):\n",
    "    comm.Barrier(); t1=MPI.Wtime()\n",
    "    content = np.load(file)\n",
    "    \n",
    "    w2 = ft.zeros_aligned((nx,ny,nz), dtype='float32')\n",
    "    \n",
    "    if(int(content['nproc'])!=nproc):\n",
    "        print(\"Unmatched number of processes. Must first pre-process to adequate number of process\")\n",
    "    w2[:,:,:] = content['w2']\n",
    "    \n",
    "    comm.Barrier(); t2=MPI.Wtime()\n",
    "    if(rank==0):\n",
    "        print(\"Finished loading\")\n",
    "        sys.stdout.write('Load from disk: {0:.2f} seconds\\n'.format(t2-t1))\n",
    "\n",
    "if(cacheEnstrophyData):\n",
    "    \n",
    "    comm.Barrier(); t1=MPI.Wtime()\n",
    "    np.savez(file,w2=w2,nproc=nproc)\n",
    "    comm.Barrier(); t2=MPI.Wtime()\n",
    "    if(rank==0):\n",
    "        sys.stdout.write('Caching the data: {0:.2f} seconds\\n'.format(t2-t1))"
   ]
  },
  {
   "cell_type": "code",
   "execution_count": 5,
   "metadata": {
    "collapsed": false
   },
   "outputs": [
    {
     "name": "stdout",
     "output_type": "stream",
     "text": [
      "[stdout:1] \n",
      "<w2> : 497.418884277\n",
      "min w2/<w2> : 3.36126825924e-08\n",
      "min w2/<w2> : 714.772006026\n"
     ]
    }
   ],
   "source": [
    "%%px\n",
    "\n",
    "avgOmega = np.average(w2)\n",
    "avgOmegaGl=np.zeros(1,dtype='float32')\n",
    "\n",
    "comm.Reduce([avgOmega,MPI.REAL],[avgOmegaGl,MPI.REAL],op=MPI.SUM)\n",
    "avgOmega = avgOmegaGl[0]/nproc\n",
    "avgOmega = comm.bcast(avgOmega, root=0)\n",
    "sigma2_w = avgOmega\n",
    " \n",
    "minw2 = w2.min()\n",
    "maxw2 = w2.max()\n",
    "\n",
    "minwGl=np.zeros(nproc,dtype='float32')\n",
    "maxwGl=np.zeros(nproc,dtype='float32')\n",
    "\n",
    "comm.Allgather([minw2,MPI.REAL],[minwGl,MPI.REAL])\n",
    "comm.Allgather([maxw2,MPI.REAL],[maxwGl,MPI.REAL])\n",
    "\n",
    "minw2 = minwGl.min()\n",
    "maxw2 = maxwGl.max()\n",
    "\n",
    "comm.Barrier()\n",
    "\n",
    "if rank==0:\n",
    "    print(\"<w2> : \"+str(avgOmega))\n",
    "    print(\"min w2/<w2> : \"+str(minw2/avgOmega))\n",
    "    print(\"min w2/<w2> : \"+str(maxw2/avgOmega))"
   ]
  },
  {
   "cell_type": "code",
   "execution_count": 6,
   "metadata": {
    "collapsed": true
   },
   "outputs": [],
   "source": [
    "%%px\n",
    "\n",
    "dx = isotropic1024coarse['dx']\n",
    "ner = int(1024*np.sqrt(3))\n",
    "rbins = np.linspace(-0.5*dx,2*np.pi*np.sqrt(3)+0.5*dx,ner+1)\n",
    "\n",
    "X = np.zeros((nx,ny,nz), dtype='float32')\n",
    "Y = np.zeros((nx,ny,nz), dtype='float32')\n",
    "Z = np.zeros((nx,ny,nz), dtype='float32')\n",
    "chi = ft.zeros_aligned((nx,ny,nz), dtype='float32')\n",
    "\n",
    "r2 = np.zeros((nx,ny,nz), dtype='float32')"
   ]
  },
  {
   "cell_type": "code",
   "execution_count": 7,
   "metadata": {
    "collapsed": false
   },
   "outputs": [
    {
     "name": "stdout",
     "output_type": "stream",
     "text": [
      "[stdout:1] Preparing the real domain for radial integration: 161.31 seconds\n"
     ]
    }
   ],
   "source": [
    "%%px\n",
    "\n",
    "comm.Barrier(); t1=MPI.Wtime()\n",
    "for i in range(nx):\n",
    "    X[i,:,:] = (i+rank*nx)*isotropic1024coarse['dx']\n",
    "\n",
    "for j in range(ny):\n",
    "    Y[:,j,:] = j*isotropic1024coarse['dy']\n",
    "    \n",
    "for k in range(nz):\n",
    "    Z[:,:,k] = k*isotropic1024coarse['dz']\n",
    "    \n",
    "r2[:,:,:] = X[:,:,:]**2+Y[:,:,:]**2+Z[:,:,:]**2\n",
    "\n",
    "r2rt = np.sqrt(r2)\n",
    "comm.Barrier(); t2=MPI.Wtime()\n",
    "if(rank==0):\n",
    "    sys.stdout.write('Preparing the real domain for radial integration: {0:.2f} seconds\\n'.format(t2-t1))"
   ]
  },
  {
   "cell_type": "code",
   "execution_count": 8,
   "metadata": {
    "collapsed": false
   },
   "outputs": [
    {
     "name": "stdout",
     "output_type": "stream",
     "text": [
      "[stdout:1] 152765.0\n"
     ]
    }
   ],
   "source": [
    "%%px\n",
    "\n",
    "tal = 59.829891652\n",
    "#tal = 106.364251826\n",
    "\n",
    "chi[:,:,:] = 0. \n",
    "chi[w2 > tal*avgOmega] = 1.\n",
    "\n",
    "Nl = np.sum(chi)\n",
    "\n",
    "Ng=np.zeros(1,dtype='float32')\n",
    "\n",
    "comm.Reduce([Nl,MPI.REAL],[Ng,MPI.REAL],op=MPI.SUM)\n",
    "Ng = Ng[0]\n",
    "Ng = comm.bcast(Ng, root=0)\n",
    "\n",
    "if rank == 0:\n",
    "    print(Ng)"
   ]
  },
  {
   "cell_type": "code",
   "execution_count": 9,
   "metadata": {
    "collapsed": false
   },
   "outputs": [],
   "source": [
    "%%px\n",
    "\n",
    "Xt = X[w2 > tal*avgOmega]\n",
    "Yt = Y[w2 > tal*avgOmega]\n",
    "Zt = Z[w2 > tal*avgOmega]"
   ]
  },
  {
   "cell_type": "code",
   "execution_count": 10,
   "metadata": {
    "collapsed": true
   },
   "outputs": [],
   "source": [
    "%%px\n",
    "\n",
    "Rt = np.dstack((Xt,Yt,Zt))"
   ]
  },
  {
   "cell_type": "code",
   "execution_count": 11,
   "metadata": {
    "collapsed": false
   },
   "outputs": [],
   "source": [
    "%%px \n",
    "Rt = Rt[0,:,:]"
   ]
  },
  {
   "cell_type": "code",
   "execution_count": null,
   "metadata": {
    "collapsed": false
   },
   "outputs": [],
   "source": [
    "%%px\n",
    "\n",
    "Rg = comm.gather(Rt, root=0)\n",
    "\n",
    "if rank==0:\n",
    "    Rg = np.concatenate(Rg,axis=0)\n",
    "    print(Rg)\n",
    "    \n",
    "Rg = comm.bcast(Rg,root=0)"
   ]
  },
  {
   "cell_type": "code",
   "execution_count": null,
   "metadata": {
    "collapsed": false
   },
   "outputs": [],
   "source": [
    "%%px\n",
    "\n",
    "r = 8. \n",
    "\n",
    "corr = 0 \n",
    "for p in Rg:\n",
    "    for x in Rt:\n",
    "        dist = np.sqrt((p[0]-x[0])**2 + (p[1]-x[1])**2 + (p[2]-x[2])**2)\n",
    "        if (dx/2. <= dist) & (dist <= r):\n",
    "            corr += 1\n",
    "            \n",
    "print(corr)        "
   ]
  },
  {
   "cell_type": "code",
   "execution_count": null,
   "metadata": {
    "collapsed": true
   },
   "outputs": [],
   "source": []
  }
 ],
 "metadata": {
  "kernelspec": {
   "display_name": "Python 3",
   "language": "python",
   "name": "python3"
  },
  "language_info": {
   "codemirror_mode": {
    "name": "ipython",
    "version": 3
   },
   "file_extension": ".py",
   "mimetype": "text/x-python",
   "name": "python",
   "nbconvert_exporter": "python",
   "pygments_lexer": "ipython3",
   "version": "3.5.2"
  }
 },
 "nbformat": 4,
 "nbformat_minor": 0
}
