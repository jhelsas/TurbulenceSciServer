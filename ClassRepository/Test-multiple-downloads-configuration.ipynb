{
 "cells": [
  {
   "cell_type": "code",
   "execution_count": 12,
   "metadata": {
    "collapsed": true
   },
   "outputs": [],
   "source": [
    "#!ipcluster start -n 8 --engines=MPI --profile='mpi' # for parallel run: start the engines using terminal\n",
    "from ipyparallel import Client\n",
    "rc = Client(profile='mpi')\n"
   ]
  },
  {
   "cell_type": "code",
   "execution_count": 13,
   "metadata": {
    "collapsed": false
   },
   "outputs": [],
   "source": [
    "%%px\n",
    "# Import the libraries\n",
    "\n",
    "import pyfftw as ft \n",
    "import numpy as np\n",
    "from mpi4py import MPI\n",
    "import math\n",
    "import sys\n",
    "import os\n",
    "import pyJHTDB\n",
    "from pyJHTDB.dbinfo import isotropic1024coarse\n",
    "from pyJHTDB import libJHTDB\n",
    "\n",
    "from FFT3Dfield import FFT3Dfield\n",
    "from IFFT3Dfield import IFFT3Dfield\n",
    "from EnergySpectrum import EnergySpectrum"
   ]
  },
  {
   "cell_type": "code",
   "execution_count": 14,
   "metadata": {
    "collapsed": true
   },
   "outputs": [],
   "source": [
    "%%px\n",
    "\n",
    "Nx = isotropic1024coarse['nx']\n",
    "Ny = isotropic1024coarse['ny']\n",
    "Nz = isotropic1024coarse['nz']\n",
    "Lx = isotropic1024coarse['lx']\n",
    "Ly = isotropic1024coarse['ly']\n",
    "Lz = isotropic1024coarse['lz']"
   ]
  },
  {
   "cell_type": "code",
   "execution_count": 15,
   "metadata": {
    "collapsed": false
   },
   "outputs": [
    {
     "name": "stdout",
     "output_type": "stream",
     "text": [
      "[stdout:0] \n",
      "n_proc = 8\n",
      "my_id = 0\n"
     ]
    }
   ],
   "source": [
    "%%px\n",
    "\n",
    "comm = MPI.COMM_WORLD\n",
    "my_id = comm.Get_rank()\n",
    "nproc = comm.Get_size()\n",
    "if(my_id==0):\n",
    "    print(\"n_proc = \"+str(nproc))\n",
    "    print(\"my_id = \"+str(my_id))"
   ]
  },
  {
   "cell_type": "code",
   "execution_count": 16,
   "metadata": {
    "collapsed": true
   },
   "outputs": [],
   "source": [
    "%%px \n",
    "# Computational Domain\n",
    "\n",
    "nx=Nx//2#(4*Nx)//nproc\n",
    "ny=Ny//2\n",
    "nz=(4*Nz)//nproc\n",
    "nz_half=nz//2\n",
    "nek=int(math.sqrt(2.0)/3*Nx)"
   ]
  },
  {
   "cell_type": "code",
   "execution_count": 23,
   "metadata": {
    "collapsed": false
   },
   "outputs": [
    {
     "name": "stdout",
     "output_type": "stream",
     "text": [
      "[stdout:0] Preparing the appropiate widths\n"
     ]
    }
   ],
   "source": [
    "%%px \n",
    "\n",
    "time = 0.0\n",
    "\n",
    "chkSz = 4*32\n",
    "\n",
    "##########################################\n",
    "\n",
    "if(my_id==0):\n",
    "    print(\"Preparing the appropiate widths\")\n",
    "    \n",
    "##########################################"
   ]
  },
  {
   "cell_type": "code",
   "execution_count": 24,
   "metadata": {
    "collapsed": false
   },
   "outputs": [],
   "source": [
    "%%px\n",
    "\n",
    "if(my_id==0):\n",
    "    start = np.array([    0,    0,   0],dtype=np.int)\n",
    "elif(my_id==1):\n",
    "    start = np.array([Nx//2,    0,   0],dtype=np.int)\n",
    "elif(my_id==2):\n",
    "    start = np.array([    0,Ny//2,   0],dtype=np.int)\n",
    "elif(my_id==3):\n",
    "    start = np.array([    0,    0,Nz//2],dtype=np.int)\n",
    "elif(my_id==4):\n",
    "    start = np.array([Nx//2,Ny//2,    0],dtype=np.int)\n",
    "elif(my_id==5):\n",
    "    start = np.array([    0,Ny//2,Nz//2],dtype=np.int)\n",
    "elif(my_id==6):\n",
    "    start = np.array([Nx//2,    0,Nz//2],dtype=np.int)\n",
    "elif(my_id==7):\n",
    "    start = np.array([Nx//2,Ny//2,Nz//2],dtype=np.int)\n",
    "elif(my_id==0+8):\n",
    "    start = np.array([    0,    0,    0+Nz//4],dtype=np.int)\n",
    "elif(my_id==1+8):\n",
    "    start = np.array([Nx//2,    0,    0+Nz//4],dtype=np.int)\n",
    "elif(my_id==2+8):\n",
    "    start = np.array([    0,Ny//2,    0+Nz//4],dtype=np.int)\n",
    "elif(my_id==3+8):\n",
    "    start = np.array([    0,    0,Nz//2+Nz//4],dtype=np.int)\n",
    "elif(my_id==4+8):\n",
    "    start = np.array([Nx//2,Ny//2,    0+Nz//4],dtype=np.int)\n",
    "elif(my_id==5+8):\n",
    "    start = np.array([    0,Ny//2,Nz//2+Nz//4],dtype=np.int)\n",
    "elif(my_id==6+8):\n",
    "    start = np.array([Nx//2,    0,Nz//2+Nz//4],dtype=np.int)\n",
    "elif(my_id==7+8):\n",
    "    start = np.array([Nx//2,Ny//2,Nz//2+Nz//4],dtype=np.int)\n",
    "else:\n",
    "    print(\"Serius problem, un-identified process\\n\")\n",
    "    \n",
    "width = np.array([nx,ny,chkSz],dtype=np.int)\n",
    "slabs = (nz//chkSz)\n",
    "#slabs=2"
   ]
  },
  {
   "cell_type": "code",
   "execution_count": 25,
   "metadata": {
    "collapsed": false
   },
   "outputs": [
    {
     "name": "stdout",
     "output_type": "stream",
     "text": [
      "[stdout:0] \n",
      "process = 0\n",
      "       start=[0 0 0]\n",
      "       width=[512 512 128]\n",
      "[stdout:1] \n",
      "number of slabs = 4\n",
      "process = 1\n",
      "       start=[512   0   0]\n",
      "       width=[512 512 128]\n",
      "[stdout:2] \n",
      "number of slabs = 4\n",
      "process = 7\n",
      "       start=[512 512 512]\n",
      "       width=[512 512 128]\n",
      "[stdout:3] \n",
      "number of slabs = 4\n",
      "process = 3\n",
      "       start=[  0   0 512]\n",
      "       width=[512 512 128]\n",
      "[stdout:4] \n",
      "number of slabs = 4\n",
      "process = 6\n",
      "       start=[512   0 512]\n",
      "       width=[512 512 128]\n",
      "[stdout:5] \n",
      "number of slabs = 4\n",
      "process = 4\n",
      "       start=[512 512   0]\n",
      "       width=[512 512 128]\n",
      "[stdout:6] \n",
      "number of slabs = 4\n",
      "process = 2\n",
      "       start=[  0 512   0]\n",
      "       width=[512 512 128]\n",
      "[stdout:7] \n",
      "number of slabs = 4\n",
      "process = 5\n",
      "       start=[  0 512 512]\n",
      "       width=[512 512 128]\n"
     ]
    }
   ],
   "source": [
    "%%px\n",
    "if(my_id):\n",
    "    print(\"number of slabs = \"+str(slabs))\n",
    "    \n",
    "print(\"process = \"+str(my_id))\n",
    "print(\"       start=\"+str(start))\n",
    "print(\"       width=\"+str(width))"
   ]
  },
  {
   "cell_type": "code",
   "execution_count": 26,
   "metadata": {
    "collapsed": false
   },
   "outputs": [
    {
     "name": "stdout",
     "output_type": "stream",
     "text": [
      "[stdout:0] \n",
      "Starting the loading process\n",
      "0\n",
      "1\n",
      "2\n",
      "3\n",
      "Finished loading\n",
      "Load velocity field cost: 184.92 seconds\n"
     ]
    }
   ],
   "source": [
    "%%px\n",
    "# Populate velocity field from the Database\n",
    "comm.Barrier(); t1=MPI.Wtime()\n",
    "\n",
    "if(my_id==0):\n",
    "    print(\"Starting the loading process\")\n",
    "\n",
    "##########################################\n",
    "\n",
    "lJHTDB = libJHTDB()\n",
    "lJHTDB.initialize()\n",
    "ud = []\n",
    "for k in range(slabs):\n",
    "    if(my_id==0):\n",
    "        print(k)\n",
    "    #start = np.array([my_id*nx+k*chkSz, 0, 0],dtype=np.int)\n",
    "    #width = np.array([chkSz,ny,nz],dtype=np.int)\n",
    "    #start = np.array([ 0, 0, my_id*nx+k*chkSz],dtype=np.int)\n",
    "    #start[2] += k*chkSz\n",
    "    Start = start\n",
    "    Start[2] += k*chkSz\n",
    "    ud.append(lJHTDB.getRawData(time,Start,width, \n",
    "                               data_set = 'isotropic1024coarse',\n",
    "                               getFunction = 'Velocity') )\n",
    "\n",
    "lJHTDB.finalize()\n",
    "\n",
    "if(my_id==0):\n",
    "    print(\"Finished loading\")\n",
    "\n",
    "comm.Barrier(); t2=MPI.Wtime()\n",
    "if(my_id==0):\n",
    "    sys.stdout.write('Load velocity field cost: {0:.2f} seconds\\n'.format(t2-t1))"
   ]
  },
  {
   "cell_type": "code",
   "execution_count": null,
   "metadata": {
    "collapsed": true
   },
   "outputs": [],
   "source": []
  }
 ],
 "metadata": {
  "kernelspec": {
   "display_name": "Python 3",
   "language": "python",
   "name": "python3"
  },
  "language_info": {
   "codemirror_mode": {
    "name": "ipython",
    "version": 3
   },
   "file_extension": ".py",
   "mimetype": "text/x-python",
   "name": "python",
   "nbconvert_exporter": "python",
   "pygments_lexer": "ipython3",
   "version": "3.5.2"
  }
 },
 "nbformat": 4,
 "nbformat_minor": 0
}
