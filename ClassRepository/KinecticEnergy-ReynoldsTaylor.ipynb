{
 "cells": [
  {
   "cell_type": "code",
   "execution_count": 1,
   "metadata": {
    "collapsed": true
   },
   "outputs": [],
   "source": [
    "#!ipcluster start -n 8 --engines=MPI --profile='mpi' # for parallel run: start the engines using terminal\n",
    "from ipyparallel import Client\n",
    "rc = Client(profile='mpi')"
   ]
  },
  {
   "cell_type": "code",
   "execution_count": 3,
   "metadata": {
    "collapsed": false
   },
   "outputs": [],
   "source": [
    "%%px\n",
    "# Import the libraries\n",
    "\n",
    "import numpy as np\n",
    "import pyfftw as ft \n",
    "from mpi4py import MPI\n",
    "import math\n",
    "import sys\n",
    "import os\n",
    "import pyJHTDB\n",
    "from pyJHTDB.dbinfo import isotropic1024coarse\n",
    "from pyJHTDB import libJHTDB\n",
    "\n",
    "from fft3d import FFT3Dfield_new\n",
    "from EnergySpectrum import EnergySpectrum"
   ]
  },
  {
   "cell_type": "code",
   "execution_count": 4,
   "metadata": {
    "collapsed": true
   },
   "outputs": [],
   "source": [
    "%%px\n",
    "\n",
    "Nx = isotropic1024coarse['nx']\n",
    "Ny = isotropic1024coarse['ny']\n",
    "Nz = isotropic1024coarse['nz']\n",
    "Lx = isotropic1024coarse['lx']\n",
    "Ly = isotropic1024coarse['ly']\n",
    "Lz = isotropic1024coarse['lz']\n",
    "nu = isotropic1024coarse['nu']"
   ]
  },
  {
   "cell_type": "code",
   "execution_count": 5,
   "metadata": {
    "collapsed": false
   },
   "outputs": [
    {
     "name": "stdout",
     "output_type": "stream",
     "text": [
      "[stdout:0] \n",
      "n_proc = 8\n",
      "rank = 0\n"
     ]
    }
   ],
   "source": [
    "%%px\n",
    "\n",
    "comm = MPI.COMM_WORLD\n",
    "rank = comm.Get_rank()\n",
    "nproc = comm.Get_size()\n",
    "if(rank==0):\n",
    "    print(\"n_proc = \"+str(nproc))\n",
    "    print(\"rank = \"+str(rank))"
   ]
  },
  {
   "cell_type": "code",
   "execution_count": 6,
   "metadata": {
    "collapsed": true
   },
   "outputs": [],
   "source": [
    "%%px \n",
    "# Computational Domain\n",
    "\n",
    "nx=Nx//nproc\n",
    "ny=Ny\n",
    "nz=Nz\n",
    "nz_half=nz//2\n",
    "nek=int(math.sqrt(2.0)/3*Nx)\n",
    "time = 0.0#1.024# 0.0\n",
    "\n",
    "chkSz = 32\n",
    "slabs = nx//chkSz"
   ]
  },
  {
   "cell_type": "code",
   "execution_count": 7,
   "metadata": {
    "collapsed": false
   },
   "outputs": [
    {
     "name": "stdout",
     "output_type": "stream",
     "text": [
      "[stdout:0] \n",
      "Starting the loading process\n",
      "Finished loading\n",
      "Load from disk: 110.81 seconds\n",
      "vx shape = (128, 1024, 1024)\n"
     ]
    }
   ],
   "source": [
    "%%px\n",
    "\n",
    "vx = ft.zeros_aligned((nx,ny,nz), dtype='float32')\n",
    "vy = ft.zeros_aligned((nx,ny,nz), dtype='float32')\n",
    "vz = ft.zeros_aligned((nx,ny,nz), dtype='float32')\n",
    "\n",
    "# Populate velocity field from the Database\n",
    "\n",
    "if(rank==0):\n",
    "    print(\"Starting the loading process\")\n",
    "\n",
    "##########################################\n",
    "load_from_file = True\n",
    "\n",
    "folder = \"/home/idies/workspace/scratch\"\n",
    "filename = \"kun-isotropic1024coarse-\"+str(rank)+\"-(t=\"+str(time)+\")\"+\".npz\"\n",
    "file = folder + \"/\" + filename\n",
    "\n",
    "if(load_from_file):\n",
    "    comm.Barrier(); t1=MPI.Wtime()\n",
    "    content = np.load(file)\n",
    "    if(int(content['nproc'])!=nproc):\n",
    "        print(\"Unmatched number of processes. Must first pre-process to adequate number of process\")\n",
    "    vx = content['vx']\n",
    "    vy = content['vy']\n",
    "    vz = content['vz']\n",
    "    comm.Barrier(); t2=MPI.Wtime()\n",
    "    if(rank==0):\n",
    "        print(\"Finished loading\")\n",
    "        sys.stdout.write('Load from disk: {0:.2f} seconds\\n'.format(t2-t1))\n",
    "else:\n",
    "    comm.Barrier(); t1=MPI.Wtime()\n",
    "    lJHTDB = libJHTDB()\n",
    "    lJHTDB.initialize()\n",
    "    ud = []\n",
    "    for k in range(slabs):\n",
    "        if(rank==0):\n",
    "            print(k)\n",
    "        start = np.array([rank*nx+k*chkSz, 0, 0],dtype=np.int)\n",
    "        width = np.array([chkSz,ny,nz],dtype=np.int)\n",
    "        #start = np.array([ 0, 0, rank*nx+k*chkSz],dtype=np.int)\n",
    "        ud.append(lJHTDB.getRawData(time,start,width, \n",
    "                                    data_set = 'isotropic1024coarse',\n",
    "                                    getFunction = 'Velocity') )\n",
    "    \n",
    "    lJHTDB.finalize()\n",
    "    comm.Barrier(); t2=MPI.Wtime()\n",
    "    if(rank==0):\n",
    "        print(\"Finished loading\")\n",
    "        sys.stdout.write('Load field from database: {0:.2f} seconds\\n'.format(t2-t1))\n",
    "    \n",
    "    u = np.concatenate(ud,axis=2)\n",
    "    comm.Barrier(); t1=MPI.Wtime()\n",
    "    if(rank==0):\n",
    "        sys.stdout.write('Concatenate: {0:.2f} seconds\\n'.format(t1-t2))\n",
    "    \n",
    "    rsh = np.transpose(u,(2,1,0,3))\n",
    "    comm.Barrier(); t2=MPI.Wtime()\n",
    "    if(rank==0):\n",
    "        sys.stdout.write('Transpose: {0:.2f} seconds\\n'.format(t2-t1))\n",
    "    ##########################################\n",
    "    \n",
    "    vx[:,:,:] = rsh[:,:,:,0]\n",
    "    vy[:,:,:] = rsh[:,:,:,1]\n",
    "    vz[:,:,:] = rsh[:,:,:,2]\n",
    "    comm.Barrier(); t1=MPI.Wtime()\n",
    "    if(rank==0):\n",
    "        sys.stdout.write('Splitting: {0:.2f} seconds\\n'.format(t2-t1))\n",
    "    \n",
    "    np.savez(file,vx=vx,vy=vy,vz=vz,nproc=nproc)\n",
    "    comm.Barrier(); t2=MPI.Wtime()\n",
    "    if(rank==0):\n",
    "        sys.stdout.write('Caching the data: {0:.2f} seconds\\n'.format(t2-t1))\n",
    "\n",
    "\n",
    "if(rank==0):\n",
    "    print(\"vx shape = \"+str(vx.shape))       "
   ]
  },
  {
   "cell_type": "code",
   "execution_count": 8,
   "metadata": {
    "collapsed": false
   },
   "outputs": [],
   "source": [
    "%%px\n",
    "\n",
    "K = 0.5*(vx**2+vy**2+vz**2)"
   ]
  },
  {
   "cell_type": "code",
   "execution_count": 9,
   "metadata": {
    "collapsed": false
   },
   "outputs": [],
   "source": [
    "%%px\n",
    "\n",
    "slabK = np.sum(K)\n",
    "\n",
    "avgK=np.zeros(1,dtype='float32')\n",
    "\n",
    "comm.Reduce([slabK,MPI.REAL],[avgK,MPI.REAL],op=MPI.SUM)\n",
    "avgK = avgK[0]*(1024**(-3))\n",
    "avgK = comm.bcast(avgK, root=0)"
   ]
  },
  {
   "cell_type": "code",
   "execution_count": 10,
   "metadata": {
    "collapsed": false
   },
   "outputs": [
    {
     "name": "stdout",
     "output_type": "stream",
     "text": [
      "[stdout:0] kinectic energy = 0.68327665329\n",
      "[stdout:1] kinectic energy = 0.68327665329\n",
      "[stdout:2] kinectic energy = 0.68327665329\n",
      "[stdout:3] kinectic energy = 0.68327665329\n",
      "[stdout:4] kinectic energy = 0.68327665329\n",
      "[stdout:5] kinectic energy = 0.68327665329\n",
      "[stdout:6] kinectic energy = 0.68327665329\n",
      "[stdout:7] kinectic energy = 0.68327665329\n"
     ]
    }
   ],
   "source": [
    "%%px\n",
    "\n",
    "print(\"kinectic energy = \"+str(avgK))"
   ]
  },
  {
   "cell_type": "code",
   "execution_count": 11,
   "metadata": {
    "collapsed": false
   },
   "outputs": [
    {
     "name": "stdout",
     "output_type": "stream",
     "text": [
      "[stdout:0] Calculate all wavenumbers: 55.59 seconds\n"
     ]
    }
   ],
   "source": [
    "%%px\n",
    "\n",
    "comm.Barrier(); t1=MPI.Wtime()\n",
    "# Get wavenumber:\n",
    "myEnergySpc=EnergySpectrum()\n",
    "kx,ky,kz=myEnergySpc.FindWavenumber(nx,ny,nz,rank)\n",
    "k2=np.zeros((nx,ny,nz_half+1), dtype='float32')\n",
    "np.copyto(k2,kx*kx+ky*ky+kz*kz)\n",
    "k2[0,0,0]=1e-6\n",
    "\n",
    "comm.Barrier(); t2=MPI.Wtime()\n",
    "if(rank==0):\n",
    "    sys.stdout.write('Calculate all wavenumbers: {0:.2f} seconds\\n'.format(t2-t1))"
   ]
  },
  {
   "cell_type": "code",
   "execution_count": 12,
   "metadata": {
    "collapsed": true
   },
   "outputs": [],
   "source": [
    "%%px \n",
    "\n",
    "fft = FFT3Dfield_new(nx,ny,nz,nproc,rank)"
   ]
  },
  {
   "cell_type": "code",
   "execution_count": 13,
   "metadata": {
    "collapsed": true
   },
   "outputs": [],
   "source": [
    "%%px\n",
    "\n",
    "cvx = ft.zeros_aligned((nx,ny,1+(nz//2)), dtype='complex64')\n",
    "cvy = ft.zeros_aligned((nx,ny,1+(nz//2)), dtype='complex64')\n",
    "cvz = ft.zeros_aligned((nx,ny,1+(nz//2)), dtype='complex64')"
   ]
  },
  {
   "cell_type": "code",
   "execution_count": 14,
   "metadata": {
    "collapsed": false
   },
   "outputs": [
    {
     "name": "stdout",
     "output_type": "stream",
     "text": [
      "[stdout:0] Calculate 3D spatial FFT: 364.80 seconds\n"
     ]
    }
   ],
   "source": [
    "%%px\n",
    "comm.Barrier(); t1=MPI.Wtime()\n",
    "\n",
    "cvx[:,:,:] = fft.forward3Dfft(vx,nx,ny,nz,nproc,rank)\n",
    "cvy[:,:,:] = fft.forward3Dfft(vy,nx,ny,nz,nproc,rank)\n",
    "cvz[:,:,:] = fft.forward3Dfft(vz,nx,ny,nz,nproc,rank)\n",
    "\n",
    "comm.Barrier(); t2=MPI.Wtime()\n",
    "if(rank==0):\n",
    "    sys.stdout.write('Calculate 3D spatial FFT: {0:.2f} seconds\\n'.format(t2-t1))"
   ]
  },
  {
   "cell_type": "code",
   "execution_count": 15,
   "metadata": {
    "collapsed": false
   },
   "outputs": [
    {
     "name": "stdout",
     "output_type": "stream",
     "text": [
      "[stdout:0] Calculate strain-rate in k space: 387.99 seconds\n"
     ]
    }
   ],
   "source": [
    "%%px\n",
    "comm.Barrier(); t1=MPI.Wtime()\n",
    "\n",
    "cSxy=np.complex64(0.0+1.0j)*(kx*cvy+ky*cvx)\n",
    "cSxz=np.complex64(0.0+1.0j)*(kx*cvz+kz*cvx)\n",
    "cSyz=np.complex64(0.0+1.0j)*(ky*cvz+kz*cvy)\n",
    "\n",
    "cSxx=np.complex64(0.0+1.0j)*(kx*cvx+kx*cvx)\n",
    "cSyy=np.complex64(0.0+1.0j)*(ky*cvy+ky*cvy)\n",
    "cSzz=np.complex64(0.0+1.0j)*(kz*cvz+kz*cvz)\n",
    "\n",
    "comm.Barrier(); t2=MPI.Wtime()\n",
    "if(rank==0):\n",
    "    sys.stdout.write('Calculate strain-rate in k space: {0:.2f} seconds\\n'.format(t2-t1))"
   ]
  },
  {
   "cell_type": "code",
   "execution_count": 16,
   "metadata": {
    "collapsed": false
   },
   "outputs": [],
   "source": [
    "%%px\n",
    "\n",
    "cSxy[kz==Nz/2] = 0.\n",
    "cSxz[kz==Nz/2] = 0.\n",
    "cSyz[kz==Nz/2] = 0.\n",
    "\n",
    "cSxx[kz==Nz/2] = 0.\n",
    "cSyy[kz==Nz/2] = 0.\n",
    "cSzz[kz==Nz/2] = 0."
   ]
  },
  {
   "cell_type": "code",
   "execution_count": 17,
   "metadata": {
    "collapsed": true
   },
   "outputs": [],
   "source": [
    "%%px\n",
    "\n",
    "Sxy = ft.zeros_aligned((nx,ny,nz), dtype='float32')\n",
    "Sxz = ft.zeros_aligned((nx,ny,nz), dtype='float32')\n",
    "Syz = ft.zeros_aligned((nx,ny,nz), dtype='float32')\n",
    "\n",
    "Sxx = ft.zeros_aligned((nx,ny,nz), dtype='float32')\n",
    "Syy = ft.zeros_aligned((nx,ny,nz), dtype='float32')\n",
    "Szz = ft.zeros_aligned((nx,ny,nz), dtype='float32')"
   ]
  },
  {
   "cell_type": "code",
   "execution_count": 18,
   "metadata": {
    "collapsed": false
   },
   "outputs": [
    {
     "name": "stdout",
     "output_type": "stream",
     "text": [
      "[stdout:0] Calculate 3D spatial inverse FFT: 514.06 seconds\n"
     ]
    }
   ],
   "source": [
    "%%px\n",
    "comm.Barrier(); t1=MPI.Wtime()\n",
    "# Get velocity field in Fourier space:\n",
    "\n",
    "Sxy[:,:,:]=fft.backward3Dfft(cSxy,nx,ny,nz,nproc,rank)\n",
    "Sxz[:,:,:]=fft.backward3Dfft(cSxz,nx,ny,nz,nproc,rank)\n",
    "Syz[:,:,:]=fft.backward3Dfft(cSyz,nx,ny,nz,nproc,rank)\n",
    "\n",
    "Sxx[:,:,:]=fft.backward3Dfft(cSxx,nx,ny,nz,nproc,rank)\n",
    "Syy[:,:,:]=fft.backward3Dfft(cSyy,nx,ny,nz,nproc,rank)\n",
    "Szz[:,:,:]=fft.backward3Dfft(cSzz,nx,ny,nz,nproc,rank)\n",
    "\n",
    "comm.Barrier(); t2=MPI.Wtime()\n",
    "if(rank==0):\n",
    "    sys.stdout.write('Calculate 3D spatial inverse FFT: {0:.2f} seconds\\n'.format(t2-t1))"
   ]
  },
  {
   "cell_type": "code",
   "execution_count": 19,
   "metadata": {
    "collapsed": false
   },
   "outputs": [
    {
     "name": "stdout",
     "output_type": "stream",
     "text": [
      "[stdout:0] Calculate dissipation rate: 534.72 seconds\n"
     ]
    }
   ],
   "source": [
    "%%px\n",
    "comm.Barrier(); t1=MPI.Wtime()\n",
    "\n",
    "S2 = Sxx**2 + Syy**2 + Szz**2 + 2.*Sxy**2 + 2.*Sxz**2 + 2*Syz**2\n",
    "\n",
    "comm.Barrier(); t2=MPI.Wtime()\n",
    "if(rank==0):\n",
    "    sys.stdout.write('Calculate dissipation rate: {0:.2f} seconds\\n'.format(t2-t1))"
   ]
  },
  {
   "cell_type": "code",
   "execution_count": 21,
   "metadata": {
    "collapsed": false
   },
   "outputs": [
    {
     "name": "stdout",
     "output_type": "stream",
     "text": [
      "[stdout:0] hello\n",
      "[stdout:1] hello\n",
      "[stdout:2] hello\n",
      "[stdout:3] hello\n",
      "[stdout:4] hello\n",
      "[stdout:5] hello\n",
      "[stdout:6] hello\n",
      "[stdout:7] hello\n"
     ]
    }
   ],
   "source": [
    "%%px\n",
    "\n",
    "print(\"hello\")"
   ]
  },
  {
   "cell_type": "code",
   "execution_count": 22,
   "metadata": {
    "collapsed": false
   },
   "outputs": [],
   "source": [
    "%%px\n",
    "\n",
    "#slabS2 = np.sum(S2)\n",
    "#avgS2=np.zeros(1,dtype='float32')\n",
    "\n",
    "#comm.Reduce([slabS2,MPI.REAL],[avgS2,MPI.REAL],op=MPI.SUM)\n",
    "#avgS2 = avgS2[0]*(1024**(-3))\n",
    "#avgS2 = comm.bcast(avgS2, root=0)\n",
    "avgS2loc = np.average(S2)\n",
    "avgS2glob = np.zeros(1,dtype='float32')"
   ]
  },
  {
   "cell_type": "code",
   "execution_count": 23,
   "metadata": {
    "collapsed": true
   },
   "outputs": [],
   "source": [
    "%%px\n",
    "\n",
    "comm.Reduce([avgS2loc,MPI.REAL],[avgS2glob,MPI.REAL],op=MPI.SUM)"
   ]
  },
  {
   "cell_type": "code",
   "execution_count": 24,
   "metadata": {
    "collapsed": false
   },
   "outputs": [],
   "source": [
    "%%px\n",
    "\n",
    "avgS2glob = avgS2glob[0]/nproc\n",
    "avgS2glob = comm.bcast(avgS2glob,root=0)"
   ]
  },
  {
   "cell_type": "code",
   "execution_count": 25,
   "metadata": {
    "collapsed": false
   },
   "outputs": [
    {
     "name": "stdout",
     "output_type": "stream",
     "text": [
      "[stdout:0] avgS2 = 248.70942688\n",
      "[stdout:1] avgS2 = 248.70942688\n",
      "[stdout:2] avgS2 = 248.70942688\n",
      "[stdout:3] avgS2 = 248.70942688\n",
      "[stdout:4] avgS2 = 248.70942688\n",
      "[stdout:5] avgS2 = 248.70942688\n",
      "[stdout:6] avgS2 = 248.70942688\n",
      "[stdout:7] avgS2 = 248.70942688\n"
     ]
    }
   ],
   "source": [
    "%%px\n",
    "\n",
    "print(\"avgS2 = \"+str(avgS2glob/4))"
   ]
  },
  {
   "cell_type": "code",
   "execution_count": 28,
   "metadata": {
    "collapsed": false
   },
   "outputs": [
    {
     "name": "stdout",
     "output_type": "stream",
     "text": [
      "[stdout:0] epsilon = 0.0920224879456\n",
      "[stdout:1] epsilon = 0.0920224879456\n",
      "[stdout:2] epsilon = 0.0920224879456\n",
      "[stdout:3] epsilon = 0.0920224879456\n",
      "[stdout:4] epsilon = 0.0920224879456\n",
      "[stdout:5] epsilon = 0.0920224879456\n",
      "[stdout:6] epsilon = 0.0920224879456\n",
      "[stdout:7] epsilon = 0.0920224879456\n"
     ]
    }
   ],
   "source": [
    "%%px\n",
    "\n",
    "epsilon = 2*nu*(avgS2glob/4)\n",
    "print(\"epsilon = \"+str(2*nu*(avgS2glob/4)))"
   ]
  },
  {
   "cell_type": "code",
   "execution_count": 29,
   "metadata": {
    "collapsed": false
   },
   "outputs": [
    {
     "name": "stdout",
     "output_type": "stream",
     "text": [
      "[stdout:0] \n",
      "uprime = 0.674920564852\n",
      "lamb = 0.117202579368\n",
      "ReLamb = 427.580708482\n"
     ]
    }
   ],
   "source": [
    "%%px\n",
    "uprime = np.sqrt((2./3.)*avgK)\n",
    "lamb = np.sqrt(15.*nu*(uprime**2/epsilon))\n",
    "ReLamb = (uprime*lamb)/nu\n",
    "if rank==0:\n",
    "    print(\"uprime = \"+str(uprime))\n",
    "    print(\"lamb = \"+str(lamb))\n",
    "    print(\"ReLamb = \"+str(ReLamb))"
   ]
  },
  {
   "cell_type": "code",
   "execution_count": 31,
   "metadata": {
    "collapsed": false
   },
   "outputs": [
    {
     "name": "stdout",
     "output_type": "stream",
     "text": [
      "[stdout:0] \n",
      "epsilon = 0.0920224879456\n",
      "kinectic energy = 0.68327665329\n",
      "0) Taylor micro-scale =0.203000822244\n",
      "ReLamb = 427.580708482\n"
     ]
    }
   ],
   "source": [
    "%%px\n",
    "\n",
    "if rank==0:\n",
    "    lamb = np.sqrt((2.*15.*nu)*(avgK/epsilon))\n",
    "    eref = 0.103\n",
    "    lamberef = np.sqrt((2.*15.*nu)*(avgK/eref))\n",
    "    print(\"epsilon = \"+str(2*nu*(avgS2glob/4)))\n",
    "    print(\"kinectic energy = \"+str(avgK))\n",
    "    print(\"0) Taylor micro-scale =\"+str(lamb))\n",
    "    print(\"ReLamb = \"+str(ReLamb))"
   ]
  },
  {
   "cell_type": "code",
   "execution_count": 36,
   "metadata": {
    "collapsed": false
   },
   "outputs": [
    {
     "name": "stdout",
     "output_type": "stream",
     "text": [
      "[stdout:4] 0.0920091102583509\n"
     ]
    }
   ],
   "source": [
    "%%px\n",
    "\n",
    "if rank==0:\n",
    "    ReKin = 0.6820399\n",
    "    ReRef = 426.8378\n",
    "    epref = (15./nu)*(((2*ReKin)/(3.*ReRef))**2)\n",
    "    print(epref)"
   ]
  },
  {
   "cell_type": "markdown",
   "metadata": {},
   "source": []
  },
  {
   "cell_type": "markdown",
   "metadata": {},
   "source": [
    "At time t=1.024:\n",
    "epsilon = 0.116420102539\n",
    "\n",
    "kinectic energy = 0.692348361015\n",
    "\n",
    "Taylor micro-scale =0.181674861195\n",
    "\n",
    "ReLamb = 385.193709345\n",
    "\n",
    "Reference:\n",
    "\n",
    "epsilon = 0.09167584221268965\n",
    "\n",
    "kinectic energy = 0.6915988\n",
    "\n",
    "ReLamb = 433.6060\n",
    "\n",
    "My dissipation rate is higher by a factor of 1.269910368 at timestep t=1.024"
   ]
  },
  {
   "cell_type": "markdown",
   "metadata": {
    "collapsed": true
   },
   "source": [
    "At time t=0.0: epsilon = 0.116845543823\n",
    "\n",
    "kinectic energy = 0.682719171047\n",
    "\n",
    "Taylor micro-scale =0.180078333764\n",
    "\n",
    "ReLamb = 379.144296604\n",
    "\n",
    "Reference:\n",
    "\n",
    "epsilon = 0.0920091102583509\n",
    "\n",
    "kinectic energy = 0.6820399\n",
    "\n",
    "ReLamb = 426.8378\n",
    "\n",
    "\n",
    "My dissipation rate is higher by a factor of 1.269934504 at timestep t=0.0"
   ]
  },
  {
   "cell_type": "markdown",
   "metadata": {},
   "source": [
    "######################################################\n",
    "\n",
    "Using Kun Yang's download\n",
    "\n",
    "At time t=0.0: epsilon = 0.0920224879456\n",
    "\n",
    "kinectic energy = 0.68327665329\n",
    "\n",
    "Taylor micro-scale = 0.203000822244\n",
    "\n",
    "ReLamb = 427.580708482\n",
    "\n",
    "Reference:\n",
    "\n",
    "epsilon = 0.0920091102583509\n",
    "\n",
    "kinectic energy = 0.6820399\n",
    "\n",
    "ReLamb = 426.8378\n",
    "\n",
    "My dissipation rate is higher by a factor of 1.269934504 at timestep t=0.0"
   ]
  }
 ],
 "metadata": {
  "kernelspec": {
   "display_name": "Python 3",
   "language": "python",
   "name": "python3"
  },
  "language_info": {
   "codemirror_mode": {
    "name": "ipython",
    "version": 3
   },
   "file_extension": ".py",
   "mimetype": "text/x-python",
   "name": "python",
   "nbconvert_exporter": "python",
   "pygments_lexer": "ipython3",
   "version": "3.5.2"
  }
 },
 "nbformat": 4,
 "nbformat_minor": 0
}
