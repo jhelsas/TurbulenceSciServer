{
 "cells": [
  {
   "cell_type": "code",
   "execution_count": 1,
   "metadata": {
    "collapsed": false
   },
   "outputs": [],
   "source": [
    "#!ipcluster start -n 8 --engines=MPI --profile='mpi' # for parallel run: start the engines using terminal\n",
    "from ipyparallel import Client\n",
    "rc = Client(profile='mpi')\n"
   ]
  },
  {
   "cell_type": "code",
   "execution_count": 2,
   "metadata": {
    "collapsed": false
   },
   "outputs": [],
   "source": [
    "%%px\n",
    "# Import the libraries\n",
    "\n",
    "import pyfftw as ft \n",
    "import numpy as np\n",
    "from mpi4py import MPI\n",
    "import math\n",
    "import sys\n",
    "import os\n",
    "import SOAPtdb\n",
    "import pyJHTDB\n",
    "from pyJHTDB.dbinfo import isotropic1024coarse\n",
    "from pyJHTDB import libJHTDB\n",
    "\n",
    "from FFT3Dfield import FFT3Dfield\n",
    "from IFFT3Dfield import IFFT3Dfield\n",
    "from EnergySpectrum import EnergySpectrum\n",
    "from Filters import Filters\n",
    "from RandomNumberGenerator import RandomNumberGenerator"
   ]
  },
  {
   "cell_type": "code",
   "execution_count": 3,
   "metadata": {
    "collapsed": false
   },
   "outputs": [],
   "source": [
    "%%px\n",
    "\n",
    "Nx = isotropic1024coarse['nx']\n",
    "Ny = isotropic1024coarse['ny']\n",
    "Nz = isotropic1024coarse['nz']\n",
    "Lx = isotropic1024coarse['lx']\n",
    "Ly = isotropic1024coarse['ly']\n",
    "Lz = isotropic1024coarse['lz']\n",
    "xnodes = isotropic1024coarse['xnodes']\n",
    "ynodes = isotropic1024coarse['ynodes']\n",
    "znodes = isotropic1024coarse['znodes']"
   ]
  },
  {
   "cell_type": "code",
   "execution_count": 4,
   "metadata": {
    "collapsed": false,
    "scrolled": true
   },
   "outputs": [
    {
     "name": "stdout",
     "output_type": "stream",
     "text": [
      "[stdout:4] \n",
      "n_proc = 8\n",
      "my_id = 0\n"
     ]
    }
   ],
   "source": [
    "%%px\n",
    "\n",
    "comm = MPI.COMM_WORLD\n",
    "my_id = comm.Get_rank()\n",
    "nproc = comm.Get_size()\n",
    "if(my_id==0):\n",
    "    print(\"n_proc = \"+str(nproc))\n",
    "    print(\"my_id = \"+str(my_id))"
   ]
  },
  {
   "cell_type": "code",
   "execution_count": 5,
   "metadata": {
    "collapsed": false
   },
   "outputs": [],
   "source": [
    "%%px \n",
    "# Computational Domain\n",
    "\n",
    "nx=Nx//nproc\n",
    "ny=Ny\n",
    "nz=Nz#//nproc\n",
    "nz_half=nz//2\n",
    "nek=int(math.sqrt(2.0)/3*Nx)"
   ]
  },
  {
   "cell_type": "code",
   "execution_count": 6,
   "metadata": {
    "collapsed": false
   },
   "outputs": [
    {
     "name": "stdout",
     "output_type": "stream",
     "text": [
      "[stdout:4] Preparing the appropiate widths\n"
     ]
    }
   ],
   "source": [
    "%%px \n",
    "\n",
    "time = 0.0\n",
    "\n",
    "chkSz = 32\n",
    "slabs = nx//chkSz\n",
    "\n",
    "##########################################\n",
    "\n",
    "if(my_id==0):\n",
    "    print(\"Preparing the appropiate widths\")\n",
    "    \n",
    "##########################################"
   ]
  },
  {
   "cell_type": "code",
   "execution_count": 7,
   "metadata": {
    "collapsed": false
   },
   "outputs": [
    {
     "name": "stdout",
     "output_type": "stream",
     "text": [
      "[stdout:4] \n",
      "Starting the loading process\n",
      "0\n",
      "1\n",
      "2\n",
      "3\n",
      "Finished loading\n",
      "Load velocity field cost: 203.47 seconds\n"
     ]
    }
   ],
   "source": [
    "%%px\n",
    "# Populate velocity field from the Database\n",
    "comm.Barrier(); t1=MPI.Wtime()\n",
    "\n",
    "if(my_id==0):\n",
    "    print(\"Starting the loading process\")\n",
    "\n",
    "##########################################\n",
    "\n",
    "lJHTDB = libJHTDB()\n",
    "lJHTDB.initialize()\n",
    "ud = []\n",
    "for k in range(slabs):\n",
    "    if(my_id==0):\n",
    "        print(k)\n",
    "    start = np.array([my_id*nx+k*chkSz, 0, 0],dtype=np.int)\n",
    "    width = np.array([chkSz,ny,nz],dtype=np.int)\n",
    "    #start = np.array([ 0, 0, my_id*nx+k*chkSz],dtype=np.int)\n",
    "    ud.append(lJHTDB.getRawData(time,start,width, \n",
    "                               data_set = 'isotropic1024coarse',\n",
    "                               getFunction = 'Velocity') )\n",
    "\n",
    "lJHTDB.finalize()\n",
    "\n",
    "if(my_id==0):\n",
    "    print(\"Finished loading\")\n",
    "\n",
    "comm.Barrier(); t2=MPI.Wtime()\n",
    "if(my_id==0):\n",
    "    sys.stdout.write('Load velocity field cost: {0:.2f} seconds\\n'.format(t2-t1))"
   ]
  },
  {
   "cell_type": "code",
   "execution_count": 15,
   "metadata": {
    "collapsed": false
   },
   "outputs": [
    {
     "name": "stdout",
     "output_type": "stream",
     "text": [
      "[stdout:4] u.shape: (1024, 1024, 128, 3)\n"
     ]
    }
   ],
   "source": [
    "%%px\n",
    "\n",
    "u = np.concatenate(ud,axis=2)\n",
    "#u = np.concatenate(ud,axis=0)\n",
    "\n",
    "if(my_id==0):\n",
    "    print('u.shape: '+str(u.shape))"
   ]
  },
  {
   "cell_type": "code",
   "execution_count": 16,
   "metadata": {
    "collapsed": false
   },
   "outputs": [],
   "source": [
    "%%px\n",
    "\n",
    "rsh = np.transpose(u,(2,1,0,3)) #u.reshape((nx,ny,nz, 3))"
   ]
  },
  {
   "cell_type": "code",
   "execution_count": 17,
   "metadata": {
    "collapsed": false
   },
   "outputs": [
    {
     "name": "stdout",
     "output_type": "stream",
     "text": [
      "[stdout:4] \n",
      "vx shape = (128, 1024, 1024)\n",
      "Spliting\n"
     ]
    }
   ],
   "source": [
    "%%px\n",
    "##########################################\n",
    "vx = ft.zeros_aligned((nx,ny,nz), dtype='float32')\n",
    "vy = ft.zeros_aligned((nx,ny,nz), dtype='float32')\n",
    "vz = ft.zeros_aligned((nx,ny,nz), dtype='float32')\n",
    "\n",
    "vx[:,:,:] = rsh[:,:,:,0]\n",
    "vy[:,:,:] = rsh[:,:,:,1]\n",
    "vz[:,:,:] = rsh[:,:,:,2]\n",
    "\n",
    "if(my_id==0):\n",
    "    print(\"vx shape = \"+str(vx.shape))\n",
    "\n",
    "if(my_id==0):\n",
    "    print(\"Spliting\")\n",
    "\n",
    "##########################################"
   ]
  },
  {
   "cell_type": "code",
   "execution_count": 18,
   "metadata": {
    "collapsed": false
   },
   "outputs": [
    {
     "name": "stdout",
     "output_type": "stream",
     "text": [
      "[stdout:4] Calculate all wavenumbers: 11.33 seconds\n"
     ]
    }
   ],
   "source": [
    "%%px\n",
    "comm.Barrier(); t1=MPI.Wtime()\n",
    "# Get wavenumber:\n",
    "myEnergySpc=EnergySpectrum()\n",
    "kx,ky,kz=myEnergySpc.FindWavenumber(nx,ny,nz,my_id)\n",
    "k2=np.zeros((nx,ny,nz_half+1), dtype='float32')\n",
    "np.copyto(k2,kx*kx+ky*ky+kz*kz)\n",
    "k2[0,0,0]=1e-6\n",
    "\n",
    "comm.Barrier(); t2=MPI.Wtime()\n",
    "if(my_id==0):\n",
    "    sys.stdout.write('Calculate all wavenumbers: {0:.2f} seconds\\n'.format(t2-t1))"
   ]
  },
  {
   "cell_type": "code",
   "execution_count": 19,
   "metadata": {
    "collapsed": false
   },
   "outputs": [
    {
     "name": "stdout",
     "output_type": "stream",
     "text": [
      "[stdout:4] Calculate 3D spatial FFT: 73.77 seconds\n"
     ]
    }
   ],
   "source": [
    "%%px\n",
    "comm.Barrier(); t1=MPI.Wtime()\n",
    "# Get velocity field in Fourier space:\n",
    "myFFT3Dfield=FFT3Dfield()\n",
    "cvx=myFFT3Dfield.GetFFT3Dfield(vx,nx,ny,nz,nproc,my_id)\n",
    "cvy=myFFT3Dfield.GetFFT3Dfield(vy,nx,ny,nz,nproc,my_id)\n",
    "cvz=myFFT3Dfield.GetFFT3Dfield(vz,nx,ny,nz,nproc,my_id)\n",
    "\n",
    "comm.Barrier(); t2=MPI.Wtime()\n",
    "if(my_id==0):\n",
    "    sys.stdout.write('Calculate 3D spatial FFT: {0:.2f} seconds\\n'.format(t2-t1))"
   ]
  },
  {
   "cell_type": "code",
   "execution_count": 20,
   "metadata": {
    "collapsed": true
   },
   "outputs": [],
   "source": [
    "%%px\n",
    "comm.Barrier(); t1=MPI.Wtime()\n",
    "## Get energy spectrum in Fourier space\n",
    "ek_unfltrd=myEnergySpc.GetSpectrumFromComplexField(cvx,cvy,cvz,k2,nx,ny,nz,nek,nproc,my_id)\n",
    "\n",
    "comm.Barrier(); t2=MPI.Wtime()\n",
    "if(my_id==0):\n",
    "    sys.stdout.write('Calculate 3D energy spectra: {0:.2f} seconds\\n'.format(t2-t1))"
   ]
  },
  {
   "cell_type": "code",
   "execution_count": 21,
   "metadata": {
    "collapsed": false
   },
   "outputs": [
    {
     "data": {
      "text/plain": [
       "[output:4]"
      ]
     },
     "metadata": {},
     "output_type": "display_data"
    },
    {
     "data": {
      "image/png": "[encoded data removed]",
      "text/plain": [
       "<matplotlib.figure.Figure at 0x7fe4dd8cb6d8>"
      ]
     },
     "metadata": {
      "engine": 4
     },
     "output_type": "display_data"
    }
   ],
   "source": [
    "%%px\n",
    "%matplotlib inline\n",
    "import matplotlib\n",
    "import matplotlib.pyplot as plt\n",
    "import numpy as np\n",
    "import math\n",
    "if my_id==0:\n",
    "    SIZE = 12\n",
    "    plt.rc('font', size=SIZE)  # controls default text sizes\n",
    "    plt.rc('axes', titlesize=SIZE+4)  # fontsize of the axes title\n",
    "    plt.rc('axes', labelsize=SIZE+4)  # fontsize of the x any y labels\n",
    "    plt.rc('xtick', labelsize=SIZE)  # fontsize of the tick labels\n",
    "    plt.rc('ytick', labelsize=SIZE)  # fontsize of the tick labels\n",
    "    plt.rc('legend', fontsize=SIZE+3)  # legend fontsize\n",
    "    #plt.rc('figure', titlesize=SIZE)  # # size of the figure title\n",
    "    ks=np.linspace(1,nek,nek)\n",
    "    plt.figure(figsize=(6,6))\n",
    "\n",
    "    plt.loglog(ks,ek_unfltrd,'r',label='Unfiltered')\n",
    "    plt.loglog(ks,np.power(ks,-5/3),'k')"
   ]
  },
  {
   "cell_type": "code",
   "execution_count": null,
   "metadata": {
    "collapsed": true
   },
   "outputs": [],
   "source": []
  }
 ],
 "metadata": {
  "kernelspec": {
   "display_name": "Python 3",
   "language": "python",
   "name": "python3"
  },
  "language_info": {
   "codemirror_mode": {
    "name": "ipython",
    "version": 3
   },
   "file_extension": ".py",
   "mimetype": "text/x-python",
   "name": "python",
   "nbconvert_exporter": "python",
   "pygments_lexer": "ipython3",
   "version": "3.5.2"
  }
 },
 "nbformat": 4,
 "nbformat_minor": 0
}
