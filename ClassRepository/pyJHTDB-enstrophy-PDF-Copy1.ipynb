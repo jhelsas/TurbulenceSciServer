{
 "cells": [
  {
   "cell_type": "markdown",
   "metadata": {},
   "source": [
    "This notebook showcases the calculation of enstrophy Probability Distribution Function (PDF) from the Hopkins Turbulence Database. It also demonstrates the calculation of the power spectrar of the excursion set of enstrophy based on the caracteristic function of thresholded sets, for different enstrophy thresholds."
   ]
  },
  {
   "cell_type": "markdown",
   "metadata": {},
   "source": [
    "It is necessary, firstly, to execute the commented command on a separate notebook, to enable the parallel execution enviroment, and the following command to allow this notebook to execute in the corresponding enviroment."
   ]
  },
  {
   "cell_type": "code",
   "execution_count": 1,
   "metadata": {
    "collapsed": false
   },
   "outputs": [],
   "source": [
    "#!ipcluster start -n 8 --engines=MPI --profile='mpi' # for parallel run: start the engines using terminal\n",
    "from ipyparallel import Client\n",
    "rc = Client(profile='mpi')\n"
   ]
  },
  {
   "cell_type": "markdown",
   "metadata": {
    "collapsed": true
   },
   "source": [
    "Following suit, it is necessary to import the libraries that are necessary to the work to be executed. These include  numpy for the generay array manipulations, pyFFTW to the Fourier Transforms, mpi4py for MPI support, general math, sys and os libraries and pyJHTDB, that provides a python wraper for the C-SOAP interface of the Johs Hopkins Turbulence Databases. We also import some modules that provide basic 3D FFT and histograming functionality build upon numpy and pyFFTW, as a way to streamline the overall process. Those modules, which include FFT3Dfield, IFFT3Dfield and EnergySpectrum, were originaly developed by Dr. Kun Yang."
   ]
  },
  {
   "cell_type": "code",
   "execution_count": 2,
   "metadata": {
    "collapsed": false
   },
   "outputs": [],
   "source": [
    "%%px\n",
    "# Import the libraries\n",
    "\n",
    "import numpy as np\n",
    "import pyfftw as ft \n",
    "from mpi4py import MPI\n",
    "import math\n",
    "import sys\n",
    "import os\n",
    "import pyJHTDB\n",
    "from pyJHTDB.dbinfo import isotropic1024coarse\n",
    "from pyJHTDB import libJHTDB\n",
    "\n",
    "from FFT3Dfield import FFT3Dfield\n",
    "from IFFT3Dfield import IFFT3Dfield\n",
    "from EnergySpectrum import EnergySpectrum"
   ]
  },
  {
   "cell_type": "markdown",
   "metadata": {},
   "source": [
    "We first initialize general domain constants, based on the isotropic1024coarse dictionary, which provide information on the isotropic turbulence database."
   ]
  },
  {
   "cell_type": "code",
   "execution_count": 3,
   "metadata": {
    "collapsed": false
   },
   "outputs": [],
   "source": [
    "%%px\n",
    "\n",
    "Nx = isotropic1024coarse['nx']\n",
    "Ny = isotropic1024coarse['ny']\n",
    "Nz = isotropic1024coarse['nz']\n",
    "Lx = isotropic1024coarse['lx']\n",
    "Ly = isotropic1024coarse['ly']\n",
    "Lz = isotropic1024coarse['lz']"
   ]
  },
  {
   "cell_type": "markdown",
   "metadata": {},
   "source": [
    "We then initialize MPI variables, including the communicator, rank and number of process. The typical number of processes is 8, both because it doesn't, usually, overloads the sciserver hardware, but also it is the optimal number of processes to query the database. "
   ]
  },
  {
   "cell_type": "code",
   "execution_count": 4,
   "metadata": {
    "collapsed": false
   },
   "outputs": [
    {
     "name": "stdout",
     "output_type": "stream",
     "text": [
      "[stdout:4] \n",
      "n_proc = 8\n",
      "rank = 0\n"
     ]
    }
   ],
   "source": [
    "%%px\n",
    "\n",
    "comm = MPI.COMM_WORLD\n",
    "rank = comm.Get_rank()\n",
    "nproc = comm.Get_size()\n",
    "if(rank==0):\n",
    "    print(\"n_proc = \"+str(nproc))\n",
    "    print(\"rank = \"+str(rank))"
   ]
  },
  {
   "cell_type": "markdown",
   "metadata": {},
   "source": [
    "Afterwards, it is necessary to initalize the variables that designate the domain associated with each MPI process. Due to the way that the FFT3D modules were build, we chose to divide the domain in slabs split in the X direction. Also, constants related to wavenumber and chunck size downloads are initialized."
   ]
  },
  {
   "cell_type": "code",
   "execution_count": 5,
   "metadata": {
    "collapsed": false
   },
   "outputs": [],
   "source": [
    "%%px \n",
    "# Computational Domain\n",
    "\n",
    "nx=Nx//nproc\n",
    "ny=Ny\n",
    "nz=Nz\n",
    "nz_half=nz//2\n",
    "nek=int(math.sqrt(2.0)/3*Nx)\n",
    "time = 0.0\n",
    "\n",
    "chkSz = 32\n",
    "slabs = nx//chkSz"
   ]
  },
  {
   "cell_type": "markdown",
   "metadata": {},
   "source": [
    "Here is the data loading part. It can be chosen to be one of two ways. In case there is a previously cached data in disk, it can be read directly without the need to download from the database. In this case, we supose that the data is stored in numpy array binary data, \".npz\". Because of the way pyFFTW works, each component must be stored separately, therefore we initialize vx, vy and vz arrays as appropiate for the FFTW work, which is aligned arrays. Typical loading time from disk range from 20 to 60 seconds. \n",
    "\n",
    "In case the data has not been previously cached, it is necessary to download from the database. Due to constraints in the workings of the database itself, there is a maximum size that can be queried on a single function call, consequently, it is necessary to break the download into several queries, which can be described as follows: For a whole $1024^3$ download, each slab contained in a process is of size $128 \\times 1024 \\times 1024$, and each query is of size $32 \\times 1024 \\times 1024$, the data is stored temporarely in a list, then concatenated and than reshaped (via np.transpose) to be properly assigned to the vx, vy and vz vectors. As a precaution, the data is cached as soon as the final vectors are calculated. This notebook only calculates a single time-step, but it can be readly generalized to be used with a list of timesteps instead. Typical download times range from 170 to 250 seconds, inside sciserver."
   ]
  },
  {
   "cell_type": "code",
   "execution_count": 6,
   "metadata": {
    "collapsed": false
   },
   "outputs": [
    {
     "name": "stdout",
     "output_type": "stream",
     "text": [
      "[stdout:4] \n",
      "Starting the loading process\n",
      "Finished loading\n",
      "Load from disk: 9.51 seconds\n",
      "vx shape = (128, 1024, 1024)\n"
     ]
    }
   ],
   "source": [
    "%%px\n",
    "\n",
    "vx = ft.zeros_aligned((nx,ny,nz), dtype='float32')\n",
    "vy = ft.zeros_aligned((nx,ny,nz), dtype='float32')\n",
    "vz = ft.zeros_aligned((nx,ny,nz), dtype='float32')\n",
    "\n",
    "# Populate velocity field from the Database\n",
    "\n",
    "if(rank==0):\n",
    "    print(\"Starting the loading process\")\n",
    "\n",
    "##########################################\n",
    "load_from_file = True\n",
    "\n",
    "folder = \"/home/idies/workspace/scratch\"\n",
    "filename = \"cache-isotropic1024coarse-\"+str(rank)+\"-(t=\"+str(time)+\")\"+\".npz\"\n",
    "file = folder + \"/\" + filename\n",
    "\n",
    "if(load_from_file):\n",
    "    comm.Barrier(); t1=MPI.Wtime()\n",
    "    content = np.load(file)\n",
    "    if(int(content['nproc'])!=nproc):\n",
    "        print(\"Unmatched number of processes. Must first pre-process to adequate number of process\")\n",
    "    vx = content['vx']\n",
    "    vy = content['vy']\n",
    "    vz = content['vz']\n",
    "    comm.Barrier(); t2=MPI.Wtime()\n",
    "    if(rank==0):\n",
    "        print(\"Finished loading\")\n",
    "        sys.stdout.write('Load from disk: {0:.2f} seconds\\n'.format(t2-t1))\n",
    "else:\n",
    "    comm.Barrier(); t1=MPI.Wtime()\n",
    "    lJHTDB = libJHTDB()\n",
    "    lJHTDB.initialize()\n",
    "    ud = []\n",
    "    for k in range(slabs):\n",
    "        if(rank==0):\n",
    "            print(k)\n",
    "        start = np.array([rank*nx+k*chkSz, 0, 0],dtype=np.int)\n",
    "        width = np.array([chkSz,ny,nz],dtype=np.int)\n",
    "        #start = np.array([ 0, 0, rank*nx+k*chkSz],dtype=np.int)\n",
    "        ud.append(lJHTDB.getRawData(time,start,width, \n",
    "                                    data_set = 'isotropic1024coarse',\n",
    "                                    getFunction = 'Velocity') )\n",
    "    \n",
    "    lJHTDB.finalize()\n",
    "    comm.Barrier(); t2=MPI.Wtime()\n",
    "    if(rank==0):\n",
    "        print(\"Finished loading\")\n",
    "        sys.stdout.write('Load field from database: {0:.2f} seconds\\n'.format(t2-t1))\n",
    "    \n",
    "    u = np.concatenate(ud,axis=2)\n",
    "    comm.Barrier(); t1=MPI.Wtime()\n",
    "    if(rank==0):\n",
    "        sys.stdout.write('Concatenate: {0:.2f} seconds\\n'.format(t1-t2))\n",
    "    \n",
    "    rsh = np.transpose(u,(2,1,0,3))\n",
    "    comm.Barrier(); t2=MPI.Wtime()\n",
    "    if(rank==0):\n",
    "        sys.stdout.write('Transpose: {0:.2f} seconds\\n'.format(t2-t1))\n",
    "    ##########################################\n",
    "    \n",
    "    vx[:,:,:] = rsh[:,:,:,0]\n",
    "    vy[:,:,:] = rsh[:,:,:,1]\n",
    "    vz[:,:,:] = rsh[:,:,:,2]\n",
    "    comm.Barrier(); t1=MPI.Wtime()\n",
    "    if(rank==0):\n",
    "        sys.stdout.write('Splitting: {0:.2f} seconds\\n'.format(t2-t1))\n",
    "    \n",
    "    np.savez(file,vx=vx,vy=vy,vz=vz,nproc=nproc)\n",
    "    comm.Barrier(); t2=MPI.Wtime()\n",
    "    if(rank==0):\n",
    "        sys.stdout.write('Caching the data: {0:.2f} seconds\\n'.format(t2-t1))\n",
    "\n",
    "\n",
    "if(rank==0):\n",
    "    print(\"vx shape = \"+str(vx.shape))       "
   ]
  },
  {
   "cell_type": "markdown",
   "metadata": {},
   "source": [
    "The following step is to calculate the appropiate wavenumbers to be used. These are stored in the kx, ky, kz and k2 for the moduli square. Tipical calculation times range from 20 to 45 seconds. "
   ]
  },
  {
   "cell_type": "code",
   "execution_count": 7,
   "metadata": {
    "collapsed": false
   },
   "outputs": [
    {
     "name": "stdout",
     "output_type": "stream",
     "text": [
      "[stdout:4] Calculate all wavenumbers: 10.08 seconds\n"
     ]
    }
   ],
   "source": [
    "%%px\n",
    "comm.Barrier(); t1=MPI.Wtime()\n",
    "# Get wavenumber:\n",
    "myEnergySpc=EnergySpectrum()\n",
    "kx,ky,kz=myEnergySpc.FindWavenumber(nx,ny,nz,rank)\n",
    "k2=np.zeros((nx,ny,nz_half+1), dtype='float32')\n",
    "np.copyto(k2,kx*kx+ky*ky+kz*kz)\n",
    "k2[0,0,0]=1e-6\n",
    "\n",
    "comm.Barrier(); t2=MPI.Wtime()\n",
    "if(rank==0):\n",
    "    sys.stdout.write('Calculate all wavenumbers: {0:.2f} seconds\\n'.format(t2-t1))"
   ]
  },
  {
   "cell_type": "markdown",
   "metadata": {},
   "source": [
    "Here is the step where the 3D FFT are calculated over the vx, vy and vz vectors. Since the initial data is real, only $128 \\times 1024 \\times 513$ components are stored, matching the corresponding wavenumbers calculated previously. Typical calculation times range from 70 to 120 seconds."
   ]
  },
  {
   "cell_type": "code",
   "execution_count": 8,
   "metadata": {
    "collapsed": false
   },
   "outputs": [
    {
     "name": "stdout",
     "output_type": "stream",
     "text": [
      "[stdout:4] Calculate 3D spatial FFT: 75.20 seconds\n"
     ]
    }
   ],
   "source": [
    "%%px\n",
    "comm.Barrier(); t1=MPI.Wtime()\n",
    "# Get velocity field in Fourier space:\n",
    "myFFT3Dfield=FFT3Dfield()\n",
    "cvx=myFFT3Dfield.GetFFT3Dfield(vx,nx,ny,nz,nproc,rank)\n",
    "cvy=myFFT3Dfield.GetFFT3Dfield(vy,nx,ny,nz,nproc,rank)\n",
    "cvz=myFFT3Dfield.GetFFT3Dfield(vz,nx,ny,nz,nproc,rank)\n",
    "\n",
    "comm.Barrier(); t2=MPI.Wtime()\n",
    "if(rank==0):\n",
    "    sys.stdout.write('Calculate 3D spatial FFT: {0:.2f} seconds\\n'.format(t2-t1))"
   ]
  },
  {
   "cell_type": "markdown",
   "metadata": {},
   "source": [
    "With the data of the Fourier components of the velocity field, it is possible to calculate the vorticity algebraically, using spectral derivatives. These amount to $\\partial_j \\rightarrow i k_j$, and these enable us to calculate derivatives with high accuracy, the requirement being that the data must be originally from a regularly spaced grid, which is the case of the isotropic turbulence database. Typical calculation times range from 20 to 80 seconds."
   ]
  },
  {
   "cell_type": "code",
   "execution_count": 9,
   "metadata": {
    "collapsed": false
   },
   "outputs": [
    {
     "name": "stdout",
     "output_type": "stream",
     "text": [
      "[stdout:4] Calculate vorticity in k space: 25.09 seconds\n"
     ]
    }
   ],
   "source": [
    "%%px\n",
    "comm.Barrier(); t1=MPI.Wtime()\n",
    "\n",
    "cwx=np.complex64(0.0+1.0j)*(ky*cvz-kz*cvy)\n",
    "cwy=np.complex64(0.0+1.0j)*(kx*cvz-kz*cvx)\n",
    "cwz=np.complex64(0.0+1.0j)*(kx*cvy-ky*cvx)\n",
    "\n",
    "comm.Barrier(); t2=MPI.Wtime()\n",
    "if(rank==0):\n",
    "    sys.stdout.write('Calculate vorticity in k space: {0:.2f} seconds\\n'.format(t2-t1))"
   ]
  },
  {
   "cell_type": "markdown",
   "metadata": {},
   "source": [
    "In order to calculate enstrophy, it is necessary to return to real space, to do the multiplication of the real components, we follow buy calculating a inverse 3D FFT. Typical calculation times range from 80 to 130 seconds. "
   ]
  },
  {
   "cell_type": "code",
   "execution_count": 11,
   "metadata": {
    "collapsed": false
   },
   "outputs": [],
   "source": [
    "%%px\n",
    "\n",
    "miFFT3Dfield=IFFT3Dfield()\n",
    "\n",
    "tv=ft.zeros_aligned((nx,ny,nz), dtype='float32')\n",
    "tcvt=ft.zeros_aligned((nx,ny,nz_half+1), dtype='complex64')\n",
    "\n",
    "wx = ft.zeros_aligned((nx,ny,nz), dtype='float32')\n",
    "wy = ft.zeros_aligned((nx,ny,nz), dtype='float32')\n",
    "wz = ft.zeros_aligned((nx,ny,nz), dtype='float32')"
   ]
  },
  {
   "cell_type": "code",
   "execution_count": 35,
   "metadata": {
    "collapsed": true
   },
   "outputs": [],
   "source": [
    "%%px \n",
    "\n",
    "cwx[kz==(Nz//2)] = 0.\n",
    "cwy[kz==(Nz//2)] = 0.\n",
    "cwz[kz==(Nz//2)] = 0."
   ]
  },
  {
   "cell_type": "code",
   "execution_count": 36,
   "metadata": {
    "collapsed": false
   },
   "outputs": [
    {
     "name": "stdout",
     "output_type": "stream",
     "text": [
      "[stdout:4] Calculate 3D spatial inverse FFT: 80.11 seconds\n"
     ]
    }
   ],
   "source": [
    "%%px\n",
    "comm.Barrier(); t1=MPI.Wtime()\n",
    "# Get velocity field in Fourier space:\n",
    "\n",
    "\n",
    "wx[:,:,:]=miFFT3Dfield.GetIFFT3Dfield(cwx,tv,tcvt,nx,ny,nz,nproc,rank)\n",
    "wy[:,:,:]=miFFT3Dfield.GetIFFT3Dfield(cwy,tv,tcvt,nx,ny,nz,nproc,rank)\n",
    "wz[:,:,:]=miFFT3Dfield.GetIFFT3Dfield(cwz,tv,tcvt,nx,ny,nz,nproc,rank)\n",
    "\n",
    "comm.Barrier(); t2=MPI.Wtime()\n",
    "if(rank==0):\n",
    "    sys.stdout.write('Calculate 3D spatial inverse FFT: {0:.2f} seconds\\n'.format(t2-t1))"
   ]
  },
  {
   "cell_type": "markdown",
   "metadata": {},
   "source": [
    "The enstrophy $\\omega^2$, stored in w2, is calculated as the sum of ${\\bf \\omega}^2 = \\omega_x^2 + \\omega_y^2 + \\omega_z^2$, and the average enstrophy over the spatial domain, $\\langle \\omega^2\\rangle$, is stored in sigma2_w. This is an important measure and serves as future reference, when we calculate the enstrophy Probability Distribution Function (PDF). The calculation of the average is done separately in each slab, and then must be reduced to be calculated the global average, and afterwards broadcast again to all processes. Typical calculation times range from 10 to 30 seconds."
   ]
  },
  {
   "cell_type": "code",
   "execution_count": 38,
   "metadata": {
    "collapsed": false
   },
   "outputs": [
    {
     "name": "stdout",
     "output_type": "stream",
     "text": [
      "[stdout:4] Calculate average enstrophy: 12.60 seconds\n"
     ]
    }
   ],
   "source": [
    "%%px\n",
    "comm.Barrier(); t1=MPI.Wtime()\n",
    "\n",
    "#wmod = (wx**2+wy**2+wz**2)**0.5\n",
    "w2   = (wx**2+wy**2+wz**2)\n",
    "sigma2_w = np.average(w2)\n",
    "\n",
    "comm.Barrier(); t2=MPI.Wtime()\n",
    "if(rank==0):\n",
    "    sys.stdout.write('Calculate average enstrophy: {0:.2f} seconds\\n'.format(t2-t1))\n"
   ]
  },
  {
   "cell_type": "code",
   "execution_count": 39,
   "metadata": {
    "collapsed": false
   },
   "outputs": [
    {
     "name": "stdout",
     "output_type": "stream",
     "text": [
      "[stdout:4] Caching the data: 283.24 seconds\n"
     ]
    }
   ],
   "source": [
    "%%px\n",
    "\n",
    "cacheEnstrophyData = True\n",
    "loadEnstrophyFromCache = False\n",
    "\n",
    "folder = \"/home/idies/workspace/scratch\"\n",
    "filename = \"enstrophy-isotropic1024coarse-\"+str(rank)+\"-(t=\"+str(time)+\")\"+\".npz\"\n",
    "file = folder + \"/\" + filename\n",
    "\n",
    "if(loadEnstrophyFromCache):\n",
    "    comm.Barrier(); t1=MPI.Wtime()\n",
    "    content = np.load(file)\n",
    "    \n",
    "    w2 = ft.zeros_aligned((nx,ny,nz), dtype='float32')\n",
    "    \n",
    "    if(int(content['nproc'])!=nproc):\n",
    "        print(\"Unmatched number of processes. Must first pre-process to adequate number of process\")\n",
    "    w2[:,:,:] = content['w2']\n",
    "    \n",
    "    comm.Barrier(); t2=MPI.Wtime()\n",
    "    if(rank==0):\n",
    "        print(\"Finished loading\")\n",
    "        sys.stdout.write('Load from disk: {0:.2f} seconds\\n'.format(t2-t1))\n",
    "\n",
    "if(cacheEnstrophyData):\n",
    "    \n",
    "    comm.Barrier(); t1=MPI.Wtime()\n",
    "    np.savez(file,w2=w2,nproc=nproc)\n",
    "    comm.Barrier(); t2=MPI.Wtime()\n",
    "    if(rank==0):\n",
    "        sys.stdout.write('Caching the data: {0:.2f} seconds\\n'.format(t2-t1))"
   ]
  },
  {
   "cell_type": "markdown",
   "metadata": {},
   "source": [
    "This section does the reduction of all averaged in the first process, calculate the global average, and then broadcasts again to all processes'. The global average found was $\\langle \\omega^2 \\rangle = 233.112$. The list of slab averages is $[259.28671, 237.5885, 206.27568, 199.08809, 234.72603, 216.47806, 257.14105, 254.31326]$."
   ]
  },
  {
   "cell_type": "code",
   "execution_count": 40,
   "metadata": {
    "collapsed": false
   },
   "outputs": [
    {
     "name": "stdout",
     "output_type": "stream",
     "text": [
      "[stdout:4] \n",
      "[406.36383, 373.12405, 322.50803, 310.28836, 367.62122, 339.15222, 402.95297, 400.1763]\n",
      "RMS vorticity = \\omega_{rms}^2 = 365.273 s^{-2}\n"
     ]
    }
   ],
   "source": [
    "%%px\n",
    "comm.Barrier()\n",
    "sw2 = []\n",
    "if(rank==0):\n",
    "    sw2.append(sigma2_w)\n",
    "    for j in range(1,nproc):\n",
    "        sigma2_r = comm.recv(source=j,tag=11)\n",
    "        sw2.append(sigma2_r)\n",
    "else:\n",
    "    comm.send(sigma2_w,dest=0,tag=11)\n",
    "    \n",
    "comm.Barrier()\n",
    "sigma2g = 0\n",
    "if(rank==0):\n",
    "    print(sw2)\n",
    "    sigma2 = np.average(np.array(sw2))\n",
    "    #print(sigma2)\n",
    "    sigma2g = sigma2#**0.5\n",
    "    print(\"RMS vorticity = \\omega_{rms}^2 = \"+str(sigma2g)+\" s^{-2}\")\n",
    "    for j in range(1,nproc):\n",
    "        comm.send(sigma2g,dest=j,tag=11)\n",
    "else:\n",
    "    sigma2g = comm.recv(source=0,tag=11)\n",
    "    \n",
    "comm.Barrier()"
   ]
  },
  {
   "cell_type": "markdown",
   "metadata": {},
   "source": [
    "The process is repeated in order to find global maxima and minima of $\\omega^2$."
   ]
  },
  {
   "cell_type": "code",
   "execution_count": 41,
   "metadata": {
    "collapsed": true
   },
   "outputs": [],
   "source": [
    "%%px\n",
    "comm.Barrier()\n",
    "minw2 = w2.min()\n",
    "maxw2 = w2.max()"
   ]
  },
  {
   "cell_type": "markdown",
   "metadata": {},
   "source": [
    "Again, the calculations are reduced from all processes. "
   ]
  },
  {
   "cell_type": "code",
   "execution_count": 42,
   "metadata": {
    "collapsed": false
   },
   "outputs": [],
   "source": [
    "%%px\n",
    "comm.Barrier()\n",
    "\n",
    "minwl = []\n",
    "if(rank==0):\n",
    "    minwl.append(minw2)\n",
    "    for j in range(1,nproc):\n",
    "        minw_r = comm.recv(source=j,tag=11)\n",
    "        minwl.append(minw_r)\n",
    "else:\n",
    "    comm.send(minw2,dest=0,tag=11)\n",
    "\n",
    "comm.Barrier()\n",
    "\n",
    "maxwl = []\n",
    "if(rank==0):\n",
    "    maxwl.append(maxw2)\n",
    "    for j in range(1,nproc):\n",
    "        maxw_r = comm.recv(source=j,tag=11)\n",
    "        maxwl.append(maxw_r)\n",
    "else:\n",
    "    comm.send(maxw2,dest=0,tag=11)\n",
    "\n",
    "comm.Barrier()\n",
    "\n",
    "if(rank==0):\n",
    "    m = min(minwl)\n",
    "    M = max(maxwl)\n"
   ]
  },
  {
   "cell_type": "markdown",
   "metadata": {},
   "source": [
    "And broadcast back to all processes."
   ]
  },
  {
   "cell_type": "code",
   "execution_count": 43,
   "metadata": {
    "collapsed": false
   },
   "outputs": [],
   "source": [
    "%%px\n",
    "if(rank==0):\n",
    "    for j in range(1,nproc):\n",
    "        comm.send(m,dest=j,tag=22)\n",
    "else:\n",
    "    m=comm.recv(source=0,tag=22)\n",
    "    \n",
    "comm.Barrier()\n",
    "\n",
    "if(rank==0):\n",
    "    for j in range(1,nproc):\n",
    "        comm.send(M,dest=j,tag=22)\n",
    "else:\n",
    "    M=comm.recv(source=0,tag=22)"
   ]
  },
  {
   "cell_type": "markdown",
   "metadata": {},
   "source": [
    "The minimum and maximum values obtained are $\\min\\ \\omega^2/\\langle \\omega^2\\rangle = 9.42509 \\times 10^{-10}$ and $\\max\\ \\omega^2/\\langle \\omega^2\\rangle = 459.398$. Later $\\min\\ \\omega^2/\\langle \\omega^2\\rangle = 9.33189 \\times 10^{-8}$ and $\\max\\ \\omega^2/\\langle \\omega^2\\rangle = 460.222$"
   ]
  },
  {
   "cell_type": "code",
   "execution_count": 44,
   "metadata": {
    "collapsed": false
   },
   "outputs": [
    {
     "name": "stdout",
     "output_type": "stream",
     "text": [
      "[stdout:4] \n",
      "rank= 0\n",
      "minw = 9.33189e-08\n",
      "maxw = 460.222\n"
     ]
    }
   ],
   "source": [
    "%%px\n",
    "\n",
    "if(rank==0):\n",
    "    print(\"rank= \"+str(rank))\n",
    "    print(\"minw = \"+str(m/sigma2g))\n",
    "    print(\"maxw = \"+str(M/sigma2g))"
   ]
  },
  {
   "cell_type": "markdown",
   "metadata": {},
   "source": [
    "The values of minimum, maximum and average are used to prepare a normalized histogram of the enstrophy over the whole domain, which can be, afterwards, be converted to the estimated PDF. Again, the calculation is done in each slab and then reduced to the 0-th process, which will be used to do all the plots. "
   ]
  },
  {
   "cell_type": "code",
   "execution_count": 45,
   "metadata": {
    "collapsed": false
   },
   "outputs": [],
   "source": [
    "%%px\n",
    "Nbins = 3200\n",
    "w2histo=np.zeros(Nbins,dtype='int')\n",
    "hist,edges = np.histogram(w2/sigma2g,np.linspace(m/sigma2g, M/sigma2g, Nbins))\n",
    "#hist,edges = np.histogram(w2/sigma2g,10 ** np.linspace(np.log10(m/sigma2g), np.log10(M/sigma2g), Nbins))"
   ]
  },
  {
   "cell_type": "markdown",
   "metadata": {},
   "source": [
    "The reduction must be done in blocks, at least it was the way I managed to do it. "
   ]
  },
  {
   "cell_type": "code",
   "execution_count": 46,
   "metadata": {
    "collapsed": false
   },
   "outputs": [],
   "source": [
    "%%px\n",
    "blocks = Nbins//100\n",
    "comm.Barrier()\n",
    "for i in range(blocks):\n",
    "    comm.Reduce([hist[i*100:(i+1)*100],MPI.INT],[w2histo[i*100:(i+1)*100],MPI.INT],op=MPI.SUM)\n",
    "    comm.Barrier()"
   ]
  },
  {
   "cell_type": "markdown",
   "metadata": {},
   "source": [
    "We can, with this resulting histogram, plot the (un-normalized) PDF of enstrophy."
   ]
  },
  {
   "cell_type": "code",
   "execution_count": 47,
   "metadata": {
    "collapsed": false
   },
   "outputs": [
    {
     "data": {
      "text/plain": [
       "[output:4]"
      ]
     },
     "metadata": {},
     "output_type": "display_data"
    },
    {
     "data": {
      "image/png": "[encoded data removed]",
      "text/plain": [
       "<matplotlib.figure.Figure at 0x7fb5b6453518>"
      ]
     },
     "metadata": {
      "engine": 4
     },
     "output_type": "display_data"
    }
   ],
   "source": [
    "%%px\n",
    "%matplotlib inline\n",
    "import matplotlib\n",
    "import matplotlib.pyplot as plt\n",
    "w2histo[-1] = 0\n",
    "if rank==0:\n",
    "    SIZE = 12\n",
    "    plt.rc('font', size=SIZE)  # controls default text sizes\n",
    "    plt.rc('axes', titlesize=SIZE+4)  # fontsize of the axes title\n",
    "    plt.rc('axes', labelsize=SIZE+4)  # fontsize of the x any y labels\n",
    "    plt.rc('xtick', labelsize=SIZE)  # fontsize of the tick labels\n",
    "    plt.rc('ytick', labelsize=SIZE)  # fontsize of the tick labels\n",
    "    plt.rc('legend', fontsize=SIZE+3)  # legend fontsize\n",
    "    plt.rc('figure', titlesize=SIZE)  # # size of the figure title\n",
    "    plt.xlabel(r'$\\omega^2/{\\langle \\omega^2\\rangle}$')\n",
    "    plt.ylabel(r'$P_{\\omega^2}$')\n",
    "    #ks=np.linspace(1,101,100)\n",
    "    #plt.xlabel('$\\langle \\omega^2\\rangle$')\n",
    "    #plt.ylabel('Bin-count')\n",
    "\n",
    "    plt.semilogy(edges,(w2histo)*(1024**(-3)),'r',label='Unfiltered')"
   ]
  },
  {
   "cell_type": "markdown",
   "metadata": {},
   "source": [
    "Is is possible to zoom in the (normalized) enstrophy PDF, in the $[0,100]$ range of $\\frac{\\omega^2}{{\\langle \\omega^2\\rangle}}$."
   ]
  },
  {
   "cell_type": "code",
   "execution_count": 28,
   "metadata": {
    "collapsed": false
   },
   "outputs": [
    {
     "data": {
      "text/plain": [
       "[output:4]"
      ]
     },
     "metadata": {},
     "output_type": "display_data"
    },
    {
     "data": {
      "image/png": "[encoded data removed]",
      "text/plain": [
       "<matplotlib.figure.Figure at 0x7fb5b6684be0>"
      ]
     },
     "metadata": {
      "engine": 4
     },
     "output_type": "display_data"
    }
   ],
   "source": [
    "%%px\n",
    "\n",
    "%matplotlib inline\n",
    "w2histo[-1] = 0\n",
    "if rank==0:\n",
    "    SIZE = 12\n",
    "    plt.rc('font', size=SIZE)  # controls default text sizes\n",
    "    plt.rc('axes', titlesize=SIZE+4)  # fontsize of the axes title\n",
    "    plt.rc('axes', labelsize=SIZE+4)  # fontsize of the x any y labels\n",
    "    plt.rc('xtick', labelsize=SIZE)  # fontsize of the tick labels\n",
    "    plt.rc('ytick', labelsize=SIZE)  # fontsize of the tick labels\n",
    "    plt.rc('legend', fontsize=SIZE+3)  # legend fontsize\n",
    "    plt.rc('figure', titlesize=SIZE)  # # size of the figure title\n",
    "    plt.xlabel(r'$\\omega^2/{\\langle \\omega^2\\rangle}$')\n",
    "    plt.ylabel(r'$P_{\\omega^2}$')\n",
    "    #ks=np.linspace(1,101,100)\n",
    "    #plt.xlabel('$\\langle \\omega^2\\rangle$')\n",
    "    #plt.ylabel('Bin-count')\n",
    "    plt.xlim(0,100)\n",
    "    plt.ylim(10**(-7),10**(0))\n",
    "\n",
    "    plt.semilogy(edges,w2histo*(1024**(-3))/((M-m)/(sigma2g*Nbins)),'r',label='Unfiltered')"
   ]
  },
  {
   "cell_type": "markdown",
   "metadata": {},
   "source": [
    "This process can be repeated again for smaller intervals, which is usefull for comparison with previous data. Here we focus on the $[0,20]$ range of $\\frac{\\omega^2}{{\\langle \\omega^2\\rangle}}$."
   ]
  },
  {
   "cell_type": "code",
   "execution_count": 29,
   "metadata": {
    "collapsed": true
   },
   "outputs": [],
   "source": [
    "%%px\n",
    "Nbins = 400\n",
    "wtemp = w2[w2<=20*sigma2g] \n",
    "w2red=np.zeros(Nbins,dtype='int')\n",
    "histred,edgesred = np.histogram(wtemp/sigma2g,np.linspace(m/sigma2g, 20, Nbins))\n",
    "#hist,edges = np.histogram(w2/sigma2g,10 ** np.linspace(np.log10(m/sigma2g), np.log10(M/sigma2g), Nbins))"
   ]
  },
  {
   "cell_type": "code",
   "execution_count": 30,
   "metadata": {
    "collapsed": true
   },
   "outputs": [],
   "source": [
    "%%px\n",
    "blocks = Nbins//100\n",
    "comm.Barrier()\n",
    "for i in range(blocks):\n",
    "    comm.Reduce([histred[i*100:(i+1)*100],MPI.INT],[w2red[i*100:(i+1)*100],MPI.INT],op=MPI.SUM)\n",
    "    comm.Barrier()"
   ]
  },
  {
   "cell_type": "code",
   "execution_count": 31,
   "metadata": {
    "collapsed": false
   },
   "outputs": [
    {
     "data": {
      "text/plain": [
       "[output:4]"
      ]
     },
     "metadata": {},
     "output_type": "display_data"
    },
    {
     "data": {
      "image/png": "[encoded data removed]",
      "text/plain": [
       "<matplotlib.figure.Figure at 0x7fb5b64794e0>"
      ]
     },
     "metadata": {
      "engine": 4
     },
     "output_type": "display_data"
    }
   ],
   "source": [
    "%%px\n",
    "\n",
    "%matplotlib inline\n",
    "w2red[-1] = 0\n",
    "if rank==0:\n",
    "    w2_bins = np.load('enstrophy_bins.npy')\n",
    "    w2_pdf = np.load('enstrophy_pdf.npy')\n",
    "    \n",
    "    SIZE = 12\n",
    "    plt.rc('font', size=SIZE)  # controls default text sizes\n",
    "    plt.rc('axes', titlesize=SIZE+4)  # fontsize of the axes title\n",
    "    plt.rc('axes', labelsize=SIZE+4)  # fontsize of the x any y labels\n",
    "    plt.rc('xtick', labelsize=SIZE)  # fontsize of the tick labels\n",
    "    plt.rc('ytick', labelsize=SIZE)  # fontsize of the tick labels\n",
    "    plt.rc('legend', fontsize=SIZE+3)  # legend fontsize\n",
    "    plt.rc('figure', titlesize=SIZE)  # # size of the figure title\n",
    "    plt.xlabel(r'$\\omega^2/{\\langle \\omega^2\\rangle}$')\n",
    "    plt.ylabel(r'$P_{\\omega^2}$')\n",
    "    #ks=np.linspace(1,101,100)\n",
    "    #plt.xlabel('$\\langle \\omega^2\\rangle$')\n",
    "    #plt.ylabel('Bin-count')\n",
    "    #plt.xlim(0,5)\n",
    "    #plt.ylim(10**(-2),10**(1))\n",
    "\n",
    "    plt.semilogy(edgesred,(w2red*(1024**(-3)))/((20*sigma2g-m)/(sigma2g*Nbins)),'r',label='Unfiltered')\n",
    "    plt.semilogy(w2_bins,w2_pdf,'b--')"
   ]
  },
  {
   "cell_type": "markdown",
   "metadata": {},
   "source": [
    "And a final zoom in, in $[0,5]$ range."
   ]
  },
  {
   "cell_type": "code",
   "execution_count": 51,
   "metadata": {
    "collapsed": true
   },
   "outputs": [],
   "source": [
    "%%px\n",
    "Nbins = 800\n",
    "wtemp = w2[w2<=5*sigma2g] \n",
    "w2red=np.zeros(Nbins,dtype='int')\n",
    "histred,edgesred = np.histogram(wtemp/sigma2g,np.linspace(m/sigma2g, 5, Nbins))\n",
    "#hist,edges = np.histogram(w2/sigma2g,10 ** np.linspace(np.log10(m/sigma2g), np.log10(M/sigma2g), Nbins))"
   ]
  },
  {
   "cell_type": "code",
   "execution_count": 52,
   "metadata": {
    "collapsed": true
   },
   "outputs": [],
   "source": [
    "%%px\n",
    "blocks = Nbins//100\n",
    "comm.Barrier()\n",
    "for i in range(blocks):\n",
    "    comm.Reduce([histred[i*100:(i+1)*100],MPI.INT],[w2red[i*100:(i+1)*100],MPI.INT],op=MPI.SUM)\n",
    "    comm.Barrier()"
   ]
  },
  {
   "cell_type": "code",
   "execution_count": 53,
   "metadata": {
    "collapsed": false
   },
   "outputs": [
    {
     "data": {
      "text/plain": [
       "[output:4]"
      ]
     },
     "metadata": {},
     "output_type": "display_data"
    },
    {
     "data": {
      "image/png": "[encoded data removed]",
      "text/plain": [
       "<matplotlib.figure.Figure at 0x7fb5b6453710>"
      ]
     },
     "metadata": {
      "engine": 4
     },
     "output_type": "display_data"
    }
   ],
   "source": [
    "%%px\n",
    "\n",
    "%matplotlib inline\n",
    "import matplotlib\n",
    "import matplotlib.pyplot as plt\n",
    "w2red[-1] = 0\n",
    "if rank==0:\n",
    "    w2_bins = np.load('enstrophy_bins.npy')\n",
    "    w2_pdf = np.load('enstrophy_pdf.npy')\n",
    "    \n",
    "    SIZE = 12\n",
    "    plt.rc('font', size=SIZE)  # controls default text sizes\n",
    "    plt.rc('axes', titlesize=SIZE+4)  # fontsize of the axes title\n",
    "    plt.rc('axes', labelsize=SIZE+4)  # fontsize of the x any y labels\n",
    "    plt.rc('xtick', labelsize=SIZE)  # fontsize of the tick labels\n",
    "    plt.rc('ytick', labelsize=SIZE)  # fontsize of the tick labels\n",
    "    plt.rc('legend', fontsize=SIZE+3)  # legend fontsize\n",
    "    plt.rc('figure', titlesize=SIZE)  # # size of the figure title\n",
    "    plt.xlabel(r'$\\omega^2/{\\langle \\omega^2\\rangle}$')\n",
    "    plt.ylabel(r'$P_{\\omega^2}$')\n",
    "\n",
    "    plt.semilogy(edgesred,(w2red*(1024**(-3)))/((5*sigma2g-m)/(sigma2g*Nbins)),'r',label='Unfiltered')\n",
    "    plt.semilogy(w2_bins[w2_bins<=5],w2_pdf[w2_bins<=5],'b--')"
   ]
  },
  {
   "cell_type": "markdown",
   "metadata": {},
   "source": [
    "We proceed to calculate the caracteristic function of the excursion sets. This means functions of the form $\\chi_t(x) = 1\\ {\\rm if}\\ \\omega^2 > t ,\\ 0\\ {\\rm otherwise}$. This is done by initializing an aligned numpy array, clean all values to zero and then set the appropiate values to one. For the Initial test, we utilized $t=20 \\langle \\omega^2 \\rangle$."
   ]
  },
  {
   "cell_type": "code",
   "execution_count": 31,
   "metadata": {
    "collapsed": false
   },
   "outputs": [],
   "source": [
    "%%px\n",
    "\n",
    "chi = ft.zeros_aligned((nx,ny,nz), dtype='float32')"
   ]
  },
  {
   "cell_type": "code",
   "execution_count": 32,
   "metadata": {
    "collapsed": false
   },
   "outputs": [],
   "source": [
    "%%px\n",
    "\n",
    "chi[:,:,:] = 0\n",
    "chi[w2 > 20*sigma2_w] = 1"
   ]
  },
  {
   "cell_type": "markdown",
   "metadata": {},
   "source": [
    "To calculate the power spectrum, and then, from it, calculate the 2-point correlation function of the thresholded set characteristic function, we need to Fourier transform the data, pointwise multiply the resulting array in wavenumber space, and then integrate over the sphere, leaving the results as a function of $k=\\sqrt{{\\bf k}^2}$. The first step is calculate the Fourier transform of $\\chi$."
   ]
  },
  {
   "cell_type": "code",
   "execution_count": 33,
   "metadata": {
    "collapsed": false
   },
   "outputs": [
    {
     "name": "stdout",
     "output_type": "stream",
     "text": [
      "[stdout:4] Calculate 3D spatial FFT: 37.68 seconds\n"
     ]
    }
   ],
   "source": [
    "%%px \n",
    "\n",
    "comm.Barrier(); t1=MPI.Wtime()\n",
    "# Get velocity field in Fourier space:\n",
    "myFFT3Dfield=FFT3Dfield()\n",
    "cchi=myFFT3Dfield.GetFFT3Dfield(chi,nx,ny,nz,nproc,rank)\n",
    "\n",
    "comm.Barrier(); t2=MPI.Wtime()\n",
    "if(rank==0):\n",
    "    sys.stdout.write('Calculate 3D spatial FFT: {0:.2f} seconds\\n'.format(t2-t1))"
   ]
  },
  {
   "cell_type": "markdown",
   "metadata": {},
   "source": [
    "The procedure in Fourier transform is, first, calculate $\\tilde{\\chi}\\tilde{\\chi}^*$, where $\\tilde{\\chi}=\\mathfrak{F}(\\chi)$ is the fourier transform of the characteristic function of the tresholded set. To perform the angular integration, the procedure is to mimick what was done to calculate the energy spectra, using the histogram on $\\sqrt{{\\bf k}^2}$ with weights of $\\tilde{\\chi}\\tilde{\\chi}^*({\\bf k})$ to do the calculation. This procedure amounts to calculate the integral of the solid angle over the sphere $S^2$. Again, the calculations are done in each slab and then reduced to the first process. "
   ]
  },
  {
   "cell_type": "code",
   "execution_count": 34,
   "metadata": {
    "collapsed": false
   },
   "outputs": [],
   "source": [
    "%%px\n",
    "tmp = (cchi*cchi.conj()).real\n",
    "ekbins=np.linspace(0.5,nek+0.5,nek+1)\n",
    "k2rt=np.sqrt(k2)\n",
    "\n",
    "chi2loc,kedges=np.histogram(k2rt,range=(0.5,nek+0.5),bins=ekbins,weights=tmp)\n",
    "\n",
    "del k2rt\n",
    "del tmp\n",
    "\n",
    "chi2loc=np.float32(chi2loc)\n",
    "chi2sum=np.zeros(nek,dtype='float32')\n",
    "\n",
    "comm.Reduce([chi2loc,MPI.REAL],[chi2sum,MPI.REAL],op=MPI.SUM)\n",
    "\n",
    "chi2k=np.zeros(nek,dtype='float32')\n",
    "np.copyto(chi2k,chi2sum)"
   ]
  },
  {
   "cell_type": "markdown",
   "metadata": {},
   "source": [
    "We can proceed to plot the graph of the resulting power spectra, which can be seen below. The descending tail can be fit, locally, with a power law with slope $-0.7$."
   ]
  },
  {
   "cell_type": "code",
   "execution_count": 42,
   "metadata": {
    "collapsed": false
   },
   "outputs": [
    {
     "data": {
      "text/plain": [
       "[output:4]"
      ]
     },
     "metadata": {},
     "output_type": "display_data"
    },
    {
     "data": {
      "image/png": "[encoded data removed]",
      "text/plain": [
       "<matplotlib.figure.Figure at 0x7f05e95fc3c8>"
      ]
     },
     "metadata": {
      "engine": 4
     },
     "output_type": "display_data"
    }
   ],
   "source": [
    "%%px\n",
    "\n",
    "%matplotlib inline\n",
    "import matplotlib\n",
    "import matplotlib.pyplot as plt\n",
    "\n",
    "if rank==0:\n",
    "    norm = np.sum(chi2k)\n",
    "    SIZE = 12\n",
    "    ks=np.linspace(1,nek,nek)\n",
    "    plt.figure(figsize=(6,6))\n",
    "    plt.ylim(10**(-3),10**(-2.5))\n",
    "    plt.xlabel(r'$\\sqrt{k^2}$')\n",
    "    plt.ylabel(r'$\\langle\\tilde{\\chi}\\tilde{\\chi^*}\\rangle$')\n",
    "    \n",
    "    plt.loglog(ks,chi2k/norm,'r',label='Unfiltered')\n",
    "    #plt.loglog(ks,0.065*np.power(ks,-0.62),'k')\n",
    "    plt.loglog(ks,0.102*np.power(ks,-0.7),'k')\n",
    "    \n",
    "    #plt.xticks([100,200,300,400,500], [r'$10^2$',r'$2 \\times 10^2$',r'$3\\times 10^2$',r'$4\\times 10^2$',r'$5\\times 10^2$'])\n",
    "    plt.yticks([0.001,0.002,0.003,0.004,0.005], [r'$10^{-3}$',r'$2 \\times 10^{-3}$',r'$3\\times 10^{-3}$',r'$4\\times 10^{-3}$',r'$5\\times 10^{-3}$'])"
   ]
  },
  {
   "cell_type": "markdown",
   "metadata": {},
   "source": [
    "The same graph, but zoomed in the region of the power law. "
   ]
  },
  {
   "cell_type": "code",
   "execution_count": 45,
   "metadata": {
    "collapsed": false
   },
   "outputs": [
    {
     "data": {
      "text/plain": [
       "[output:4]"
      ]
     },
     "metadata": {},
     "output_type": "display_data"
    },
    {
     "data": {
      "image/png": "[encoded data removed]",
      "text/plain": [
       "<matplotlib.figure.Figure at 0x7f05e96db5c0>"
      ]
     },
     "metadata": {
      "engine": 4
     },
     "output_type": "display_data"
    }
   ],
   "source": [
    "%%px\n",
    "\n",
    "%matplotlib inline\n",
    "import matplotlib\n",
    "import matplotlib.pyplot as plt\n",
    "\n",
    "if rank==0:\n",
    "    SIZE = 12\n",
    "    norm = np.sum(chi2k)\n",
    "    fig = plt.figure()\n",
    "    ax = fig.add_subplot(1,1,1)  \n",
    "    ks=np.linspace(1,nek,nek)\n",
    "    #ax.set_xticks(np.arange(100,500,10))\n",
    "    \n",
    "    plt.xlim(10**(2),0.5*10**(3))\n",
    "    plt.ylim(10**(-3),10**(-2.5))\n",
    "    plt.xlabel(r'$\\sqrt{{\\bf k}^2}$')\n",
    "    plt.ylabel(r'$\\langle\\tilde{\\chi}\\tilde{\\chi}^*\\rangle_{\\Omega}$')\n",
    "\n",
    "    plt.loglog(ks,chi2k/norm,'r',label='Unfiltered')\n",
    "    plt.loglog(ks,0.102*np.power(ks,-0.7),'k')\n",
    "    \n",
    "    plt.xticks([100,200,300,400,500], [r'$10^2$',r'$2 \\times 10^2$',r'$3\\times 10^2$',r'$4\\times 10^2$',r'$5\\times 10^2$'])\n",
    "    plt.yticks([0.001,0.0015,0.002,0.003], [r'$10^{-3}$',r'$1.5\\times 10^{-3}$',r'$2 \\times 10^{-3}$',r'$3\\times 10^{-3}$'])"
   ]
  },
  {
   "cell_type": "code",
   "execution_count": null,
   "metadata": {
    "collapsed": true
   },
   "outputs": [],
   "source": []
  }
 ],
 "metadata": {
  "kernelspec": {
   "display_name": "Python 3",
   "language": "python",
   "name": "python3"
  },
  "language_info": {
   "codemirror_mode": {
    "name": "ipython",
    "version": 3
   },
   "file_extension": ".py",
   "mimetype": "text/x-python",
   "name": "python",
   "nbconvert_exporter": "python",
   "pygments_lexer": "ipython3",
   "version": "3.5.2"
  }
 },
 "nbformat": 4,
 "nbformat_minor": 0
}
