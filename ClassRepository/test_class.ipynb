{
 "cells": [
  {
   "cell_type": "code",
   "execution_count": 1,
   "metadata": {
    "collapsed": false
   },
   "outputs": [
    {
     "data": {
      "text/plain": [
       "array([[[-0.23472046-0.58351458j],\n",
       "        [ 0.89583524-0.71749435j],\n",
       "        [-0.15488551+0.89860663j]],\n",
       "\n",
       "       [[ 0.55556952-0.43316231j],\n",
       "        [-0.14130245+0.16769728j],\n",
       "        [-0.82458508-0.82198666j]],\n",
       "\n",
       "       [[-0.56393360-0.47410729j],\n",
       "        [ 0.12551231-0.87215426j],\n",
       "        [-0.27476135+0.16064187j]]])"
      ]
     },
     "execution_count": 1,
     "metadata": {},
     "output_type": "execute_result"
    }
   ],
   "source": [
    "from RandomNumberGenerator import RandomNumberGenerator\n",
    "lowerLimit=-1.0\n",
    "upperLimit=1.0\n",
    "nx=3\n",
    "ny=3\n",
    "nz=1\n",
    "myRng=RandomNumberGenerator()\n",
    "myRng.GetRandNumber_complex(lowerLimit,upperLimit,nx,ny,nz)"
   ]
  },
  {
   "cell_type": "code",
   "execution_count": null,
   "metadata": {
    "collapsed": true
   },
   "outputs": [],
   "source": []
  }
 ],
 "metadata": {
  "kernelspec": {
   "display_name": "Python 3",
   "language": "python",
   "name": "python3"
  },
  "language_info": {
   "codemirror_mode": {
    "name": "ipython",
    "version": 3
   },
   "file_extension": ".py",
   "mimetype": "text/x-python",
   "name": "python",
   "nbconvert_exporter": "python",
   "pygments_lexer": "ipython3",
   "version": "3.5.2"
  }
 },
 "nbformat": 4,
 "nbformat_minor": 0
}
