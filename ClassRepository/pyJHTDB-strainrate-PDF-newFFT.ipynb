{
 "cells": [
  {
   "cell_type": "code",
   "execution_count": 1,
   "metadata": {
    "collapsed": true
   },
   "outputs": [],
   "source": [
    "#!ipcluster start -n 8 --engines=MPI --profile='mpi' # for parallel run: start the engines using terminal\n",
    "from ipyparallel import Client\n",
    "rc = Client(profile='mpi')\n"
   ]
  },
  {
   "cell_type": "code",
   "execution_count": 5,
   "metadata": {
    "collapsed": false
   },
   "outputs": [],
   "source": [
    "%%px\n",
    "# Import the libraries\n",
    "\n",
    "import numpy as np\n",
    "import pyfftw as ft \n",
    "from mpi4py import MPI\n",
    "import math\n",
    "import sys\n",
    "import os\n",
    "import pyJHTDB\n",
    "from pyJHTDB.dbinfo import isotropic1024coarse\n",
    "from pyJHTDB import libJHTDB\n",
    "\n",
    "from fft3d import FFT3Dfield_new\n",
    "from EnergySpectrum import EnergySpectrum"
   ]
  },
  {
   "cell_type": "code",
   "execution_count": 6,
   "metadata": {
    "collapsed": false
   },
   "outputs": [],
   "source": [
    "%%px\n",
    "\n",
    "Nx = isotropic1024coarse['nx']\n",
    "Ny = isotropic1024coarse['ny']\n",
    "Nz = isotropic1024coarse['nz']\n",
    "Lx = isotropic1024coarse['lx']\n",
    "Ly = isotropic1024coarse['ly']\n",
    "Lz = isotropic1024coarse['lz']"
   ]
  },
  {
   "cell_type": "code",
   "execution_count": 7,
   "metadata": {
    "collapsed": false
   },
   "outputs": [
    {
     "name": "stdout",
     "output_type": "stream",
     "text": [
      "[stdout:2] \n",
      "n_proc = 8\n",
      "rank = 0\n"
     ]
    }
   ],
   "source": [
    "%%px\n",
    "\n",
    "comm = MPI.COMM_WORLD\n",
    "rank = comm.Get_rank()\n",
    "nproc = comm.Get_size()\n",
    "if(rank==0):\n",
    "    print(\"n_proc = \"+str(nproc))\n",
    "    print(\"rank = \"+str(rank))"
   ]
  },
  {
   "cell_type": "code",
   "execution_count": 8,
   "metadata": {
    "collapsed": true
   },
   "outputs": [],
   "source": [
    "%%px \n",
    "# Computational Domain\n",
    "\n",
    "nx=Nx//nproc\n",
    "ny=Ny\n",
    "nz=Nz\n",
    "nz_half=nz//2\n",
    "nek=int(math.sqrt(2.0)/3*Nx)\n",
    "time = 1.024# 0.0\n",
    "\n",
    "chkSz = 32\n",
    "slabs = nx//chkSz"
   ]
  },
  {
   "cell_type": "code",
   "execution_count": 9,
   "metadata": {
    "collapsed": false
   },
   "outputs": [
    {
     "name": "stdout",
     "output_type": "stream",
     "text": [
      "[stdout:2] \n",
      "Starting the loading process\n",
      "Finished loading\n",
      "Load from disk: 125.73 seconds\n",
      "vx shape = (128, 1024, 1024)\n"
     ]
    }
   ],
   "source": [
    "%%px\n",
    "\n",
    "vx = ft.zeros_aligned((nx,ny,nz), dtype='float32')\n",
    "vy = ft.zeros_aligned((nx,ny,nz), dtype='float32')\n",
    "vz = ft.zeros_aligned((nx,ny,nz), dtype='float32')\n",
    "\n",
    "# Populate velocity field from the Database\n",
    "\n",
    "if(rank==0):\n",
    "    print(\"Starting the loading process\")\n",
    "\n",
    "##########################################\n",
    "load_from_file = True\n",
    "\n",
    "folder = \"/home/idies/workspace/scratch\"\n",
    "filename = \"cache-isotropic1024coarse-\"+str(rank)+\"-(t=\"+str(time)+\")\"+\".npz\"\n",
    "file = folder + \"/\" + filename\n",
    "\n",
    "if(load_from_file):\n",
    "    comm.Barrier(); t1=MPI.Wtime()\n",
    "    content = np.load(file)\n",
    "    if(int(content['nproc'])!=nproc):\n",
    "        print(\"Unmatched number of processes. Must first pre-process to adequate number of process\")\n",
    "    vx = content['vx']\n",
    "    vy = content['vy']\n",
    "    vz = content['vz']\n",
    "    comm.Barrier(); t2=MPI.Wtime()\n",
    "    if(rank==0):\n",
    "        print(\"Finished loading\")\n",
    "        sys.stdout.write('Load from disk: {0:.2f} seconds\\n'.format(t2-t1))\n",
    "else:\n",
    "    comm.Barrier(); t1=MPI.Wtime()\n",
    "    lJHTDB = libJHTDB()\n",
    "    lJHTDB.initialize()\n",
    "    ud = []\n",
    "    for k in range(slabs):\n",
    "        if(rank==0):\n",
    "            print(k)\n",
    "        start = np.array([rank*nx+k*chkSz, 0, 0],dtype=np.int)\n",
    "        width = np.array([chkSz,ny,nz],dtype=np.int)\n",
    "        #start = np.array([ 0, 0, rank*nx+k*chkSz],dtype=np.int)\n",
    "        ud.append(lJHTDB.getRawData(time,start,width, \n",
    "                                    data_set = 'isotropic1024coarse',\n",
    "                                    getFunction = 'Velocity') )\n",
    "    \n",
    "    lJHTDB.finalize()\n",
    "    comm.Barrier(); t2=MPI.Wtime()\n",
    "    if(rank==0):\n",
    "        print(\"Finished loading\")\n",
    "        sys.stdout.write('Load field from database: {0:.2f} seconds\\n'.format(t2-t1))\n",
    "    \n",
    "    u = np.concatenate(ud,axis=2)\n",
    "    comm.Barrier(); t1=MPI.Wtime()\n",
    "    if(rank==0):\n",
    "        sys.stdout.write('Concatenate: {0:.2f} seconds\\n'.format(t1-t2))\n",
    "    \n",
    "    rsh = np.transpose(u,(2,1,0,3))\n",
    "    comm.Barrier(); t2=MPI.Wtime()\n",
    "    if(rank==0):\n",
    "        sys.stdout.write('Transpose: {0:.2f} seconds\\n'.format(t2-t1))\n",
    "    ##########################################\n",
    "    \n",
    "    vx[:,:,:] = rsh[:,:,:,0]\n",
    "    vy[:,:,:] = rsh[:,:,:,1]\n",
    "    vz[:,:,:] = rsh[:,:,:,2]\n",
    "    comm.Barrier(); t1=MPI.Wtime()\n",
    "    if(rank==0):\n",
    "        sys.stdout.write('Splitting: {0:.2f} seconds\\n'.format(t2-t1))\n",
    "    \n",
    "    np.savez(file,vx=vx,vy=vy,vz=vz,nproc=nproc)\n",
    "    comm.Barrier(); t2=MPI.Wtime()\n",
    "    if(rank==0):\n",
    "        sys.stdout.write('Caching the data: {0:.2f} seconds\\n'.format(t2-t1))\n",
    "\n",
    "\n",
    "if(rank==0):\n",
    "    print(\"vx shape = \"+str(vx.shape))       "
   ]
  },
  {
   "cell_type": "code",
   "execution_count": 10,
   "metadata": {
    "collapsed": false
   },
   "outputs": [
    {
     "name": "stdout",
     "output_type": "stream",
     "text": [
      "[stdout:2] Calculate all wavenumbers: 13.29 seconds\n"
     ]
    }
   ],
   "source": [
    "%%px\n",
    "\n",
    "comm.Barrier(); t1=MPI.Wtime()\n",
    "# Get wavenumber:\n",
    "myEnergySpc=EnergySpectrum()\n",
    "kx,ky,kz=myEnergySpc.FindWavenumber(nx,ny,nz,rank)\n",
    "k2=np.zeros((nx,ny,nz_half+1), dtype='float32')\n",
    "np.copyto(k2,kx*kx+ky*ky+kz*kz)\n",
    "k2[0,0,0]=1e-6\n",
    "\n",
    "comm.Barrier(); t2=MPI.Wtime()\n",
    "if(rank==0):\n",
    "    sys.stdout.write('Calculate all wavenumbers: {0:.2f} seconds\\n'.format(t2-t1))"
   ]
  },
  {
   "cell_type": "code",
   "execution_count": 11,
   "metadata": {
    "collapsed": true
   },
   "outputs": [],
   "source": [
    "%%px \n",
    "\n",
    "fft = FFT3Dfield_new(nx,ny,nz,nproc,rank)"
   ]
  },
  {
   "cell_type": "code",
   "execution_count": 12,
   "metadata": {
    "collapsed": true
   },
   "outputs": [],
   "source": [
    "%%px\n",
    "\n",
    "cvx = ft.zeros_aligned((nx,ny,1+(nz//2)), dtype='complex64')\n",
    "cvy = ft.zeros_aligned((nx,ny,1+(nz//2)), dtype='complex64')\n",
    "cvz = ft.zeros_aligned((nx,ny,1+(nz//2)), dtype='complex64')"
   ]
  },
  {
   "cell_type": "code",
   "execution_count": 13,
   "metadata": {
    "collapsed": false
   },
   "outputs": [
    {
     "name": "stdout",
     "output_type": "stream",
     "text": [
      "[stdout:2] Calculate 3D spatial FFT: 84.25 seconds\n"
     ]
    }
   ],
   "source": [
    "%%px\n",
    "comm.Barrier(); t1=MPI.Wtime()\n",
    "\n",
    "cvx[:,:,:] = fft.forward3Dfft(vx,nx,ny,nz,nproc,rank)\n",
    "cvy[:,:,:] = fft.forward3Dfft(vy,nx,ny,nz,nproc,rank)\n",
    "cvz[:,:,:] = fft.forward3Dfft(vz,nx,ny,nz,nproc,rank)\n",
    "\n",
    "comm.Barrier(); t2=MPI.Wtime()\n",
    "if(rank==0):\n",
    "    sys.stdout.write('Calculate 3D spatial FFT: {0:.2f} seconds\\n'.format(t2-t1))"
   ]
  },
  {
   "cell_type": "code",
   "execution_count": 14,
   "metadata": {
    "collapsed": false
   },
   "outputs": [
    {
     "name": "stdout",
     "output_type": "stream",
     "text": [
      "[stdout:2] Calculate strain-rate in k space: 49.13 seconds\n"
     ]
    }
   ],
   "source": [
    "%%px\n",
    "comm.Barrier(); t1=MPI.Wtime()\n",
    "\n",
    "cSxy=np.complex64(0.0+1.0j)*(kx*cvy+ky*cvx)\n",
    "cSxz=np.complex64(0.0+1.0j)*(kx*cvz+kz*cvx)\n",
    "cSyz=np.complex64(0.0+1.0j)*(ky*cvz+kz*cvy)\n",
    "\n",
    "cSxx=np.complex64(0.0+1.0j)*(kx*cvx+kx*cvx)\n",
    "cSyy=np.complex64(0.0+1.0j)*(ky*cvy+ky*cvy)\n",
    "cSzz=np.complex64(0.0+1.0j)*(kz*cvz+kz*cvz)\n",
    "\n",
    "comm.Barrier(); t2=MPI.Wtime()\n",
    "if(rank==0):\n",
    "    sys.stdout.write('Calculate strain-rate in k space: {0:.2f} seconds\\n'.format(t2-t1))"
   ]
  },
  {
   "cell_type": "code",
   "execution_count": 15,
   "metadata": {
    "collapsed": true
   },
   "outputs": [],
   "source": [
    "%%px\n",
    "\n",
    "Sxy = ft.zeros_aligned((nx,ny,nz), dtype='float32')\n",
    "Sxz = ft.zeros_aligned((nx,ny,nz), dtype='float32')\n",
    "Syz = ft.zeros_aligned((nx,ny,nz), dtype='float32')\n",
    "\n",
    "Sxx = ft.zeros_aligned((nx,ny,nz), dtype='float32')\n",
    "Syy = ft.zeros_aligned((nx,ny,nz), dtype='float32')\n",
    "Szz = ft.zeros_aligned((nx,ny,nz), dtype='float32')"
   ]
  },
  {
   "cell_type": "code",
   "execution_count": 16,
   "metadata": {
    "collapsed": false
   },
   "outputs": [
    {
     "name": "stdout",
     "output_type": "stream",
     "text": [
      "[stdout:2] Calculate 3D spatial inverse FFT: 148.53 seconds\n"
     ]
    }
   ],
   "source": [
    "%%px\n",
    "comm.Barrier(); t1=MPI.Wtime()\n",
    "# Get velocity field in Fourier space:\n",
    "\n",
    "Sxy[:,:,:]=fft.backward3Dfft(cSxy,nx,ny,nz,nproc,rank)\n",
    "Sxz[:,:,:]=fft.backward3Dfft(cSxz,nx,ny,nz,nproc,rank)\n",
    "Syz[:,:,:]=fft.backward3Dfft(cSyz,nx,ny,nz,nproc,rank)\n",
    "\n",
    "Sxx[:,:,:]=fft.backward3Dfft(cSxx,nx,ny,nz,nproc,rank)\n",
    "Syy[:,:,:]=fft.backward3Dfft(cSyy,nx,ny,nz,nproc,rank)\n",
    "Szz[:,:,:]=fft.backward3Dfft(cSzz,nx,ny,nz,nproc,rank)\n",
    "\n",
    "comm.Barrier(); t2=MPI.Wtime()\n",
    "if(rank==0):\n",
    "    sys.stdout.write('Calculate 3D spatial inverse FFT: {0:.2f} seconds\\n'.format(t2-t1))"
   ]
  },
  {
   "cell_type": "code",
   "execution_count": 17,
   "metadata": {
    "collapsed": false
   },
   "outputs": [
    {
     "name": "stdout",
     "output_type": "stream",
     "text": [
      "[stdout:2] Calculate dissipation rate: 28.35 seconds\n"
     ]
    }
   ],
   "source": [
    "%%px\n",
    "comm.Barrier(); t1=MPI.Wtime()\n",
    "\n",
    "S2 = Sxx**2 + Syy**2 + Szz**2 + 2.*Sxy**2 + 2.*Sxz**2 + 2*Syz**2\n",
    "\n",
    "comm.Barrier(); t2=MPI.Wtime()\n",
    "if(rank==0):\n",
    "    sys.stdout.write('Calculate dissipation rate: {0:.2f} seconds\\n'.format(t2-t1))"
   ]
  },
  {
   "cell_type": "code",
   "execution_count": 17,
   "metadata": {
    "collapsed": false
   },
   "outputs": [
    {
     "name": "stdout",
     "output_type": "stream",
     "text": [
      "[stdout:0] Caching the data: 248.55 seconds\n"
     ]
    }
   ],
   "source": [
    "%%px\n",
    "\n",
    "cacheDissipationData = True\n",
    "loadDissipationFromCache = False\n",
    "\n",
    "folder = \"/home/idies/workspace/scratch\"\n",
    "filename = \"dissp-isotropic1024coarse-\"+str(rank)+\"-(t=\"+str(time)+\")\"+\".npz\"\n",
    "file = folder + \"/\" + filename\n",
    "\n",
    "if(loadDissipationFromCache):\n",
    "    comm.Barrier(); t1=MPI.Wtime()\n",
    "    content = np.load(file)\n",
    "    \n",
    "    S2 = ft.zeros_aligned((nx,ny,nz), dtype='float32')\n",
    "    \n",
    "    if(int(content['nproc'])!=nproc):\n",
    "        print(\"Unmatched number of processes. Must first pre-process to adequate number of process\")\n",
    "    S2[:,:,:] = content['S2']\n",
    "    \n",
    "    comm.Barrier(); t2=MPI.Wtime()\n",
    "    if(rank==0):\n",
    "        print(\"Finished loading\")\n",
    "        sys.stdout.write('Load from disk: {0:.2f} seconds\\n'.format(t2-t1))\n",
    "\n",
    "if(cacheDissipationData):\n",
    "    \n",
    "    comm.Barrier(); t1=MPI.Wtime()\n",
    "    np.savez(file,S2=S2,nproc=nproc)\n",
    "    comm.Barrier(); t2=MPI.Wtime()\n",
    "    if(rank==0):\n",
    "        sys.stdout.write('Caching the data: {0:.2f} seconds\\n'.format(t2-t1))"
   ]
  },
  {
   "cell_type": "code",
   "execution_count": 18,
   "metadata": {
    "collapsed": true
   },
   "outputs": [],
   "source": [
    "%%px\n",
    "\n",
    "avg_diss = np.average(S2)\n",
    "avgDissGl=np.zeros(1,dtype='float32')\n",
    "\n",
    "comm.Reduce([avg_diss,MPI.REAL],[avgDissGl,MPI.REAL],op=MPI.SUM)\n",
    "avgDiss = avgDissGl[0]/nproc\n",
    "avgDiss = comm.bcast(avgDiss, root=0)"
   ]
  },
  {
   "cell_type": "code",
   "execution_count": 19,
   "metadata": {
    "collapsed": true
   },
   "outputs": [],
   "source": [
    "%%px \n",
    "\n",
    "minS2 = S2.min()\n",
    "maxS2 = S2.max()\n",
    "\n",
    "minDissGl=np.zeros(nproc,dtype='float32')\n",
    "maxDissGl=np.zeros(nproc,dtype='float32')\n",
    "\n",
    "comm.Allgather([minS2,MPI.REAL],[minDissGl,MPI.REAL])\n",
    "comm.Allgather([maxS2,MPI.REAL],[maxDissGl,MPI.REAL])\n",
    "\n",
    "minS2 = minDissGl.min()\n",
    "maxS2 = maxDissGl.max()\n",
    "\n",
    "comm.Barrier()"
   ]
  },
  {
   "cell_type": "code",
   "execution_count": 51,
   "metadata": {
    "collapsed": true
   },
   "outputs": [],
   "source": [
    "%%px\n",
    "\n",
    "Nbins = 3200\n",
    "s2histo=np.zeros(Nbins,dtype='int')\n",
    "hist,edges = np.histogram(S2/avgDiss,np.linspace(minS2/avgDiss, maxS2/avgDiss, Nbins))"
   ]
  },
  {
   "cell_type": "code",
   "execution_count": 52,
   "metadata": {
    "collapsed": true
   },
   "outputs": [],
   "source": [
    "%%px \n",
    "\n",
    "blocks = Nbins//100\n",
    "comm.Barrier()\n",
    "for i in range(blocks):\n",
    "    comm.Reduce([hist[i*100:(i+1)*100],MPI.INT],[s2histo[i*100:(i+1)*100],MPI.INT],op=MPI.SUM)\n",
    "    comm.Barrier()"
   ]
  },
  {
   "cell_type": "code",
   "execution_count": 55,
   "metadata": {
    "collapsed": false
   },
   "outputs": [
    {
     "data": {
      "text/plain": [
       "[output:2]"
      ]
     },
     "metadata": {},
     "output_type": "display_data"
    },
    {
     "data": {
      "image/png": "[encoded data removed]",
      "text/plain": [
       "<matplotlib.figure.Figure at 0x7fedde20a5c0>"
      ]
     },
     "metadata": {
      "engine": 2
     },
     "output_type": "display_data"
    }
   ],
   "source": [
    "%%px\n",
    "%matplotlib inline\n",
    "import matplotlib\n",
    "import matplotlib.pyplot as plt\n",
    "s2histo[-1] = 0\n",
    "if rank==0:\n",
    "    S2_bins = np.load('dissipation_bins.npy')\n",
    "    S2_pdf = np.load('dissipation_pdf.npy')\n",
    "    SIZE = 12\n",
    "    \n",
    "    norm = np.sum(s2histo)\n",
    "    \n",
    "    plt.rc('font', size=SIZE)  # controls default text sizes\n",
    "    plt.rc('axes', titlesize=SIZE+4)  # fontsize of the axes title\n",
    "    plt.rc('axes', labelsize=SIZE+4)  # fontsize of the x any y labels\n",
    "    plt.rc('xtick', labelsize=SIZE)  # fontsize of the tick labels\n",
    "    plt.rc('ytick', labelsize=SIZE)  # fontsize of the tick labels\n",
    "    plt.rc('legend', fontsize=SIZE+3)  # legend fontsize\n",
    "    plt.rc('figure', titlesize=SIZE)  # # size of the figure title\n",
    "    plt.title(r'$\\epsilon = S_{ij}S_{ij}$')\n",
    "    plt.xlabel(r'$\\epsilon/{\\langle \\epsilon\\rangle}$')\n",
    "    plt.ylabel(r'$P_{\\epsilon}$')\n",
    "    #ks=np.linspace(1,101,100)\n",
    "    #plt.xlabel('$\\langle \\omega^2\\rangle$')\n",
    "    #plt.ylabel('Bin-count')\n",
    "\n",
    "    #plt.semilogy(edges,s2histo*(1024**(-3))/((maxS2-minS2)/(avgDiss*Nbins)),'r',label='Unfiltered')\n",
    "    plt.semilogy(edges,(s2histo*(1024**(-3)))/((maxS2-minS2)/(avgDiss*Nbins)),'r',label='Unfiltered')\n",
    "    plt.semilogy(S2_bins,S2_pdf,'b--')"
   ]
  },
  {
   "cell_type": "code",
   "execution_count": 56,
   "metadata": {
    "collapsed": true
   },
   "outputs": [],
   "source": [
    "%%px\n",
    "\n",
    "Nbins = 800\n",
    "s2histo=np.zeros(Nbins,dtype='int')\n",
    "hist,edges = np.histogram(S2/avgDiss,np.linspace(minS2/avgDiss, 20, Nbins))"
   ]
  },
  {
   "cell_type": "code",
   "execution_count": 57,
   "metadata": {
    "collapsed": true
   },
   "outputs": [],
   "source": [
    "%%px \n",
    "\n",
    "blocks = Nbins//100\n",
    "comm.Barrier()\n",
    "for i in range(blocks):\n",
    "    comm.Reduce([hist[i*100:(i+1)*100],MPI.INT],[s2histo[i*100:(i+1)*100],MPI.INT],op=MPI.SUM)\n",
    "    comm.Barrier()"
   ]
  },
  {
   "cell_type": "code",
   "execution_count": 59,
   "metadata": {
    "collapsed": false
   },
   "outputs": [
    {
     "data": {
      "text/plain": [
       "[output:2]"
      ]
     },
     "metadata": {},
     "output_type": "display_data"
    },
    {
     "data": {
      "image/png": "[encoded data removed]",
      "text/plain": [
       "<matplotlib.figure.Figure at 0x7feddda0aa58>"
      ]
     },
     "metadata": {
      "engine": 2
     },
     "output_type": "display_data"
    }
   ],
   "source": [
    "%%px\n",
    "\n",
    "%matplotlib inline\n",
    "import matplotlib\n",
    "import matplotlib.pyplot as plt\n",
    "s2histo[-1] = 0\n",
    "if rank==0:\n",
    "    S2_bins = np.load('dissipation_bins.npy')\n",
    "    S2_pdf = np.load('dissipation_pdf.npy')\n",
    "    SIZE = 12\n",
    "    \n",
    "    norm = np.sum(s2histo)\n",
    "    \n",
    "    plt.rc('font', size=SIZE)  # controls default text sizes\n",
    "    plt.rc('axes', titlesize=SIZE+4)  # fontsize of the axes title\n",
    "    plt.rc('axes', labelsize=SIZE+4)  # fontsize of the x any y labels\n",
    "    plt.rc('xtick', labelsize=SIZE)  # fontsize of the tick labels\n",
    "    plt.rc('ytick', labelsize=SIZE)  # fontsize of the tick labels\n",
    "    plt.rc('legend', fontsize=SIZE+3)  # legend fontsize\n",
    "    plt.rc('figure', titlesize=SIZE)  # # size of the figure title\n",
    "    plt.title(r'$\\epsilon = S_{ij}S_{ij}$')\n",
    "    plt.xlabel(r'$\\epsilon/{\\langle \\epsilon\\rangle}$')\n",
    "    plt.ylabel(r'$P_{\\epsilon}$')\n",
    "    #ks=np.linspace(1,101,100)\n",
    "    #plt.xlabel('$\\langle \\omega^2\\rangle$')\n",
    "    #plt.ylabel('Bin-count')\n",
    "\n",
    "    #plt.semilogy(edges,s2histo*(1024**(-3))/((maxS2-minS2)/(avgDiss*Nbins)),'r',label='Unfiltered')\n",
    "    plt.semilogy(edges,(s2histo*(1024**(-3)))/((20*avgDiss-minS2)/(avgDiss*Nbins)),'r',label='Unfiltered')\n",
    "    plt.semilogy(S2_bins,S2_pdf,'b--')"
   ]
  },
  {
   "cell_type": "code",
   "execution_count": 42,
   "metadata": {
    "collapsed": true
   },
   "outputs": [],
   "source": [
    "%%px\n",
    "Nbins = 400\n",
    "stemp = S2[S2<=5*avgDiss] \n",
    "s2red=np.zeros(Nbins,dtype='int')\n",
    "histred,edgesred = np.histogram(stemp/avgDiss,np.linspace(minS2/avgDiss, 5, Nbins))"
   ]
  },
  {
   "cell_type": "code",
   "execution_count": 43,
   "metadata": {
    "collapsed": true
   },
   "outputs": [],
   "source": [
    "%%px\n",
    "blocks = Nbins//100\n",
    "comm.Barrier()\n",
    "for i in range(blocks):\n",
    "    comm.Reduce([histred[i*100:(i+1)*100],MPI.INT],[s2red[i*100:(i+1)*100],MPI.INT],op=MPI.SUM)\n",
    "    comm.Barrier()"
   ]
  },
  {
   "cell_type": "code",
   "execution_count": 49,
   "metadata": {
    "collapsed": false
   },
   "outputs": [
    {
     "data": {
      "text/plain": [
       "[output:2]"
      ]
     },
     "metadata": {},
     "output_type": "display_data"
    },
    {
     "data": {
      "image/png": "[encoded data removed]",
      "text/plain": [
       "<matplotlib.figure.Figure at 0x7fedddbca048>"
      ]
     },
     "metadata": {
      "engine": 2
     },
     "output_type": "display_data"
    }
   ],
   "source": [
    "%%px\n",
    "\n",
    "%matplotlib inline\n",
    "s2red[-1] = 0\n",
    "if rank==0:\n",
    "    S2_bins = np.load('dissipation_bins.npy')\n",
    "    S2_pdf = np.load('dissipation_pdf.npy')\n",
    "    norm = np.sum(s2red)\n",
    "    \n",
    "    SIZE = 12\n",
    "    plt.rc('font', size=SIZE)  # controls default text sizes\n",
    "    plt.rc('axes', titlesize=SIZE+4)  # fontsize of the axes title\n",
    "    plt.rc('axes', labelsize=SIZE+4)  # fontsize of the x any y labels\n",
    "    plt.rc('xtick', labelsize=SIZE)  # fontsize of the tick labels\n",
    "    plt.rc('ytick', labelsize=SIZE)  # fontsize of the tick labels\n",
    "    plt.rc('legend', fontsize=SIZE+3)  # legend fontsize\n",
    "    plt.rc('figure', titlesize=SIZE)  # # size of the figure title\n",
    "    plt.title(r'$\\epsilon = S_{ij}S_{ij}$')\n",
    "    plt.xlabel(r'$\\epsilon/{\\langle \\epsilon\\rangle}$')\n",
    "    plt.ylabel(r'$P_{\\epsilon}$')\n",
    "    #ks=np.linspace(1,101,100)\n",
    "    #plt.xlabel('$\\langle \\omega^2\\rangle$')\n",
    "    #plt.ylabel('Bin-count')\n",
    "    #plt.xlim(0,5)\n",
    "    #plt.ylim(10**(-2),10**(1))\n",
    "    \n",
    "    #plt.semilogy(edgesred,(w2red*(1024**(-3)))/((20*sigma2g-m)/(sigma2g*Nbins)),'r',label='Unfiltered')\n",
    "\n",
    "    plt.semilogy(edgesred,(s2red*(1024**(-3)))/((5*avgDiss-minS2)/(avgDiss*Nbins)),'r',label='Unfiltered')\n",
    "    plt.semilogy(S2_bins[S2_bins<=5],S2_pdf[S2_bins<=5],'b--')"
   ]
  },
  {
   "cell_type": "code",
   "execution_count": 45,
   "metadata": {
    "collapsed": false
   },
   "outputs": [
    {
     "name": "stdout",
     "output_type": "stream",
     "text": [
      "[stdout:2] 15.7323617482\n"
     ]
    }
   ],
   "source": [
    "%%px\n",
    "\n",
    "if rank==0:\n",
    "    print((5*avgDiss-minS2)/Nbins)"
   ]
  },
  {
   "cell_type": "code",
   "execution_count": null,
   "metadata": {
    "collapsed": true
   },
   "outputs": [],
   "source": []
  }
 ],
 "metadata": {
  "kernelspec": {
   "display_name": "Python 3",
   "language": "python",
   "name": "python3"
  },
  "language_info": {
   "codemirror_mode": {
    "name": "ipython",
    "version": 3
   },
   "file_extension": ".py",
   "mimetype": "text/x-python",
   "name": "python",
   "nbconvert_exporter": "python",
   "pygments_lexer": "ipython3",
   "version": "3.5.2"
  }
 },
 "nbformat": 4,
 "nbformat_minor": 0
}
