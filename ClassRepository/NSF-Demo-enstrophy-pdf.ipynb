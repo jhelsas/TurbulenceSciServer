{
 "cells": [
  {
   "cell_type": "markdown",
   "metadata": {},
   "source": [
    "This notebook showcases the calculation of enstrophy Probability Distribution Function (PDF) from the Hopkins Turbulence Database. It also demonstrates the calculation of the power spectrar of the excursion set of enstrophy based on the caracteristic function of thresholded sets, for different enstrophy thresholds.\n",
    "\n",
    "It is necessary, firstly, to execute the commented command on a separate notebook, to enable the parallel execution enviroment, and the following command to allow this notebook to execute in the corresponding enviroment."
   ]
  },
  {
   "cell_type": "code",
   "execution_count": 1,
   "metadata": {
    "collapsed": true
   },
   "outputs": [],
   "source": [
    "#!ipcluster start -n 8 --engines=MPI --profile='mpi' # for parallel run: start the engines using terminal\n",
    "from ipyparallel import Client\n",
    "rc = Client(profile='mpi')"
   ]
  },
  {
   "cell_type": "markdown",
   "metadata": {},
   "source": [
    "Following suit, it is necessary to import the libraries that are necessary to the work to be executed. These include  numpy for the generay array manipulations, pyFFTW to the Fourier Transforms, mpi4py for MPI support, general math, sys and os libraries and pyJHTDB, that provides a python wraper for the C-SOAP interface of the Johs Hopkins Turbulence Databases. We also import some modules that provide basic 3D FFT and histograming functionality build upon numpy and pyFFTW, as a way to streamline the overall process. Those modules, which include FFT3Dfield, IFFT3Dfield and EnergySpectrum, were originaly developed by Dr. Kun Yang."
   ]
  },
  {
   "cell_type": "code",
   "execution_count": 2,
   "metadata": {
    "collapsed": true
   },
   "outputs": [],
   "source": [
    "%%px\n",
    "# Import the libraries\n",
    "\n",
    "import os\n",
    "import sys\n",
    "import math\n",
    "import numpy as np\n",
    "import pyfftw as ft \n",
    "from mpi4py import MPI\n",
    "import matplotlib\n",
    "import matplotlib.pyplot as plt\n",
    "import pyJHTDB\n",
    "from pyJHTDB.dbinfo import isotropic1024coarse\n",
    "from pyJHTDB import libJHTDB\n",
    "\n",
    "from fft3d import FFT3Dfield_new\n",
    "from EnergySpectrum import EnergySpectrum"
   ]
  },
  {
   "cell_type": "markdown",
   "metadata": {},
   "source": [
    "We first initialize general domain constants, based on the isotropic1024coarse dictionary, which provide information on the isotropic turbulence database.\n",
    "\n",
    "We then initialize MPI variables, including the communicator, rank and number of process. The typical number of processes is 8, both because it doesn't, usually, overloads the sciserver hardware, but also it is the optimal number of processes to query the database. \n",
    "\n",
    "Afterwards, it is necessary to initalize the variables that designate the domain associated with each MPI process. Due to the way that the FFT3D modules were build, we chose to divide the domain in slabs split in the X direction. Also, constants related to wavenumber and chunck size downloads are initialized."
   ]
  },
  {
   "cell_type": "code",
   "execution_count": 3,
   "metadata": {
    "collapsed": false
   },
   "outputs": [
    {
     "name": "stdout",
     "output_type": "stream",
     "text": [
      "[stdout:0] \n",
      "n_proc = 8\n",
      "rank = 0\n"
     ]
    }
   ],
   "source": [
    "%%px\n",
    "\n",
    "Nx = isotropic1024coarse['nx']\n",
    "Ny = isotropic1024coarse['ny']\n",
    "Nz = isotropic1024coarse['nz']\n",
    "Lx = isotropic1024coarse['lx']\n",
    "Ly = isotropic1024coarse['ly']\n",
    "Lz = isotropic1024coarse['lz']\n",
    "\n",
    "comm = MPI.COMM_WORLD\n",
    "rank = comm.Get_rank()\n",
    "nproc = comm.Get_size()\n",
    "if(rank==0):\n",
    "    print(\"n_proc = \"+str(nproc))\n",
    "    print(\"rank = \"+str(rank))\n",
    "    \n",
    "# Computational Domain\n",
    "\n",
    "nx=Nx//nproc\n",
    "ny=Ny\n",
    "nz=Nz\n",
    "nz_half=nz//2\n",
    "nek=int(math.sqrt(2.0)/3*Nx)\n",
    "time = 0.0\n",
    "\n",
    "chkSz = 32\n",
    "slabs = nx//chkSz"
   ]
  },
  {
   "cell_type": "markdown",
   "metadata": {},
   "source": [
    "The pre-computed enstrophy is loaded from disk."
   ]
  },
  {
   "cell_type": "code",
   "execution_count": 21,
   "metadata": {
    "collapsed": false
   },
   "outputs": [
    {
     "name": "stdout",
     "output_type": "stream",
     "text": [
      "[stdout:0] \n",
      "Finished loading\n",
      "Load from disk: 4.65 seconds\n"
     ]
    }
   ],
   "source": [
    "%%px\n",
    "\n",
    "cacheEnstrophyData = False\n",
    "loadEnstrophyFromCache = True\n",
    "\n",
    "folder = \"/home/idies/workspace/scratch\"\n",
    "filename = \"enstrophy-szalay-\"+str(rank)+\".npz\"\n",
    "file = folder + \"/\" + filename\n",
    "\n",
    "if(loadEnstrophyFromCache):\n",
    "    comm.Barrier(); t1=MPI.Wtime()\n",
    "    content = np.load(file)\n",
    "    \n",
    "    w2 = ft.zeros_aligned((nx,ny,nz), dtype='float32')\n",
    "    \n",
    "    #if(int(content['nproc'])!=nproc):\n",
    "    #    print(\"Unmatched number of processes. Must first pre-process to adequate number of process\")\n",
    "    w2[:,:,:] = content['w2']\n",
    "    \n",
    "    comm.Barrier(); t2=MPI.Wtime()\n",
    "    if(rank==0):\n",
    "        print(\"Finished loading\")\n",
    "        sys.stdout.write('Load from disk: {0:.2f} seconds\\n'.format(t2-t1))\n",
    "\n",
    "if(cacheEnstrophyData):\n",
    "    \n",
    "    comm.Barrier(); t1=MPI.Wtime()\n",
    "    np.savez(file,w2=w2,nproc=nproc)\n",
    "    comm.Barrier(); t2=MPI.Wtime()\n",
    "    if(rank==0):\n",
    "        sys.stdout.write('Caching the data: {0:.2f} seconds\\n'.format(t2-t1))"
   ]
  },
  {
   "cell_type": "markdown",
   "metadata": {},
   "source": [
    "It is also computed the average, minimum and maximum values of enstrophy, to be used in the PDF."
   ]
  },
  {
   "cell_type": "code",
   "execution_count": 22,
   "metadata": {
    "collapsed": false
   },
   "outputs": [
    {
     "name": "stdout",
     "output_type": "stream",
     "text": [
      "[stdout:0] \n",
      "<w^2> : 491.160614014\n",
      "min w2/<w^2> : 1.91325866702e-08\n",
      "min w2/<w^2> : 525.757337839\n",
      "Calculate average enstrophy: 0.87 seconds\n"
     ]
    }
   ],
   "source": [
    "%%px\n",
    "comm.Barrier(); t1=MPI.Wtime()\n",
    "\n",
    "avgOmega = np.average(w2)\n",
    "avgOmegaGl=np.zeros(1,dtype='float32')\n",
    "\n",
    "comm.Reduce([avgOmega,MPI.REAL],[avgOmegaGl,MPI.REAL],op=MPI.SUM)\n",
    "avgOmega = avgOmegaGl[0]/nproc\n",
    "avgOmega = comm.bcast(avgOmega, root=0)\n",
    "\n",
    "##########################\n",
    "\n",
    "minw2 = w2.min()\n",
    "maxw2 = w2.max()\n",
    "\n",
    "minwGl=np.zeros(nproc,dtype='float32')\n",
    "maxwGl=np.zeros(nproc,dtype='float32')\n",
    "\n",
    "comm.Allgather([minw2,MPI.REAL],[minwGl,MPI.REAL])\n",
    "comm.Allgather([maxw2,MPI.REAL],[maxwGl,MPI.REAL])\n",
    "\n",
    "minw2 = minwGl.min()\n",
    "maxw2 = maxwGl.max()\n",
    "\n",
    "comm.Barrier()\n",
    "\n",
    "if rank==0:\n",
    "    print(\"<w^2> : \"+str(avgOmega))\n",
    "    print(\"min w2/<w^2> : \"+str(minw2/avgOmega))\n",
    "    print(\"min w2/<w^2> : \"+str(maxw2/avgOmega))\n",
    "\n",
    "comm.Barrier(); t2=MPI.Wtime()\n",
    "if(rank==0):\n",
    "    sys.stdout.write('Calculate average enstrophy: {0:.2f} seconds\\n'.format(t2-t1))\n"
   ]
  },
  {
   "cell_type": "markdown",
   "metadata": {},
   "source": [
    "Here is computed the enstrophy PDF on the $[\\min \\omega^2,20 \\langle \\omega^2 \\rangle]$ range."
   ]
  },
  {
   "cell_type": "code",
   "execution_count": 23,
   "metadata": {
    "collapsed": false
   },
   "outputs": [],
   "source": [
    "%%px\n",
    "\n",
    "sigma2g = avgOmega\n",
    "Nbins = 1024\n",
    "wtemp = w2[w2<=20*sigma2g] \n",
    "w2red=np.zeros(Nbins,dtype='int')\n",
    "lbins = np.logspace(np.log10(minw2/sigma2g),np.log10(20),Nbins)\n",
    "histred,edgesred = np.histogram(wtemp/sigma2g,lbins)\n",
    "#hist,edges = np.histogram(w2/sigma2g,10 ** np.linspace(np.log10(m/sigma2g), np.log10(M/sigma2g), Nbins))"
   ]
  },
  {
   "cell_type": "code",
   "execution_count": 24,
   "metadata": {
    "collapsed": true
   },
   "outputs": [],
   "source": [
    "%%px\n",
    "blocks = Nbins//100\n",
    "comm.Barrier()\n",
    "for i in range(blocks):\n",
    "    comm.Reduce([histred[i*100:(i+1)*100],MPI.INT],[w2red[i*100:(i+1)*100],MPI.INT],op=MPI.SUM)\n",
    "    comm.Barrier()"
   ]
  },
  {
   "cell_type": "code",
   "execution_count": 25,
   "metadata": {
    "collapsed": true
   },
   "outputs": [],
   "source": [
    "%%px\n",
    "left = edgesred[0:(Nbins-1)]\n",
    "right = edgesred[1:Nbins]\n",
    "normhist = (histred*(1024**(-3)))/(right-left)"
   ]
  },
  {
   "cell_type": "code",
   "execution_count": 26,
   "metadata": {
    "collapsed": true
   },
   "outputs": [],
   "source": [
    "%%px\n",
    "\n",
    "if rank==0:\n",
    "    norm = np.sum(normhist*(right-left))"
   ]
  },
  {
   "cell_type": "code",
   "execution_count": 27,
   "metadata": {
    "collapsed": false
   },
   "outputs": [
    {
     "data": {
      "text/plain": [
       "[output:0]"
      ]
     },
     "metadata": {},
     "output_type": "display_data"
    },
    {
     "data": {
      "image/png": "[encoded data removed]",
      "text/plain": [
       "<matplotlib.figure.Figure at 0x7f7acebb5a58>"
      ]
     },
     "metadata": {
      "engine": 0
     },
     "output_type": "display_data"
    }
   ],
   "source": [
    "%%px\n",
    "\n",
    "%matplotlib inline\n",
    "w2red[-1] = 0\n",
    "if rank==0:\n",
    "    w2_bins = np.load('enstrophy_bins.npy')\n",
    "    w2_pdf = np.load('enstrophy_pdf.npy')\n",
    "    \n",
    "    SIZE = 12\n",
    "    plt.rc('font', size=SIZE)  # controls default text sizes\n",
    "    plt.rc('axes', titlesize=SIZE+4)  # fontsize of the axes title\n",
    "    plt.rc('axes', labelsize=SIZE+4)  # fontsize of the x any y labels\n",
    "    plt.rc('xtick', labelsize=SIZE)  # fontsize of the tick labels\n",
    "    plt.rc('ytick', labelsize=SIZE)  # fontsize of the tick labels\n",
    "    plt.rc('legend', fontsize=SIZE+3)  # legend fontsize\n",
    "    plt.rc('figure', titlesize=SIZE)  # # size of the figure title\n",
    "    plt.xlabel(r'$\\omega^2/{\\langle \\omega^2\\rangle}$')\n",
    "    plt.ylabel(r'$P_{\\omega^2}$')\n",
    "    #ks=np.linspace(1,101,100)\n",
    "    #plt.xlabel('$\\langle \\omega^2\\rangle$')\n",
    "    #plt.ylabel('Bin-count')\n",
    "    #plt.xlim(0,5)\n",
    "    #plt.ylim(10**(-2),10**(1))\n",
    "\n",
    "    plt.semilogy((left+right)/2.,normhist/norm,'r',label='Unfiltered')\n",
    "    plt.semilogy(w2_bins,w2_pdf,'b--')"
   ]
  },
  {
   "cell_type": "code",
   "execution_count": 28,
   "metadata": {
    "collapsed": false
   },
   "outputs": [
    {
     "data": {
      "text/plain": [
       "[output:0]"
      ]
     },
     "metadata": {},
     "output_type": "display_data"
    },
    {
     "data": {
      "image/png": "[encoded data removed]",
      "text/plain": [
       "<matplotlib.figure.Figure at 0x7f7aac101b38>"
      ]
     },
     "metadata": {
      "engine": 0
     },
     "output_type": "display_data"
    }
   ],
   "source": [
    "%%px\n",
    "\n",
    "%matplotlib inline\n",
    "w2red[-1] = 0\n",
    "if rank==0:\n",
    "    w2_bins = np.load('enstrophy_bins.npy')\n",
    "    w2_pdf = np.load('enstrophy_pdf.npy')\n",
    "    \n",
    "    SIZE = 12\n",
    "    plt.rc('font', size=SIZE)  # controls default text sizes\n",
    "    plt.rc('axes', titlesize=SIZE+4)  # fontsize of the axes title\n",
    "    plt.rc('axes', labelsize=SIZE+4)  # fontsize of the x any y labels\n",
    "    plt.rc('xtick', labelsize=SIZE)  # fontsize of the tick labels\n",
    "    plt.rc('ytick', labelsize=SIZE)  # fontsize of the tick labels\n",
    "    plt.rc('legend', fontsize=SIZE+3)  # legend fontsize\n",
    "    plt.rc('figure', titlesize=SIZE)  # # size of the figure title\n",
    "    plt.xlabel(r'$\\omega^2/{\\langle \\omega^2\\rangle}$')\n",
    "    plt.ylabel(r'$P_{\\omega^2}$')\n",
    "    #ks=np.linspace(1,101,100)\n",
    "    #plt.xlabel('$\\langle \\omega^2\\rangle$')\n",
    "    #plt.ylabel('Bin-count')\n",
    "    #plt.xlim(0,5)\n",
    "    #plt.ylim(10**(-2),10**(1))\n",
    "\n",
    "    plt.loglog((left+right)/2.,normhist/norm,'r',label='Unfiltered')\n",
    "    plt.loglog(w2_bins,w2_pdf,'b--')\n",
    "    #plt.loglog((left+right)/2.,normhist/norm,'go',label='Unfiltered')"
   ]
  },
  {
   "cell_type": "markdown",
   "metadata": {},
   "source": [
    "Here is computed the enstrophy PDF on the $[\\min \\omega^2,\\max \\omega^2]$ range."
   ]
  },
  {
   "cell_type": "code",
   "execution_count": 29,
   "metadata": {
    "collapsed": true
   },
   "outputs": [],
   "source": [
    "%%px\n",
    "\n",
    "sigma2g = avgOmega\n",
    "Nbins = 1024*8\n",
    "wtemp = w2[:,:,:] \n",
    "w2red=np.zeros(Nbins,dtype='int')\n",
    "lbins = np.logspace(np.log10(minw2/sigma2g),np.log10(maxw2/sigma2g),Nbins)\n",
    "histred,edgesred = np.histogram(wtemp/sigma2g,lbins)\n",
    "#hist,edges = np.histogram(w2/sigma2g,10 ** np.linspace(np.log10(m/sigma2g), np.log10(M/sigma2g), Nbins))"
   ]
  },
  {
   "cell_type": "code",
   "execution_count": 30,
   "metadata": {
    "collapsed": true
   },
   "outputs": [],
   "source": [
    "%%px\n",
    "blocks = Nbins//100\n",
    "comm.Barrier()\n",
    "for i in range(blocks):\n",
    "    comm.Reduce([histred[i*100:(i+1)*100],MPI.INT],[w2red[i*100:(i+1)*100],MPI.INT],op=MPI.SUM)\n",
    "    comm.Barrier()\n",
    "    \n",
    "left = edgesred[0:(Nbins-1)]\n",
    "right = edgesred[1:Nbins]\n",
    "normhist = (histred*(1024**(-3)))/(right-left)\n",
    "\n",
    "if rank==0:\n",
    "    norm = np.sum(normhist*(right-left))"
   ]
  },
  {
   "cell_type": "code",
   "execution_count": 31,
   "metadata": {
    "collapsed": false
   },
   "outputs": [
    {
     "data": {
      "text/plain": [
       "[output:0]"
      ]
     },
     "metadata": {},
     "output_type": "display_data"
    },
    {
     "data": {
      "image/png": "[encoded data removed]",
      "text/plain": [
       "<matplotlib.figure.Figure at 0x7f7aac0ab7b8>"
      ]
     },
     "metadata": {
      "engine": 0
     },
     "output_type": "display_data"
    }
   ],
   "source": [
    "%%px\n",
    "\n",
    "%matplotlib inline\n",
    "w2red[-1] = 0\n",
    "if rank==0:\n",
    "    w2_bins = np.load('enstrophy_bins.npy')\n",
    "    w2_pdf = np.load('enstrophy_pdf.npy')\n",
    "    \n",
    "    SIZE = 12\n",
    "    plt.rc('font', size=SIZE)  # controls default text sizes\n",
    "    plt.rc('axes', titlesize=SIZE+4)  # fontsize of the axes title\n",
    "    plt.rc('axes', labelsize=SIZE+4)  # fontsize of the x any y labels\n",
    "    plt.rc('xtick', labelsize=SIZE)  # fontsize of the tick labels\n",
    "    plt.rc('ytick', labelsize=SIZE)  # fontsize of the tick labels\n",
    "    plt.rc('legend', fontsize=SIZE+3)  # legend fontsize\n",
    "    plt.rc('figure', titlesize=SIZE)  # # size of the figure title\n",
    "    plt.xlabel(r'$\\omega^2/{\\langle \\omega^2\\rangle}$')\n",
    "    plt.ylabel(r'$P_{\\omega^2}$')\n",
    "\n",
    "    plt.loglog((left+right)/2.,normhist/norm,'r',label='Unfiltered')\n",
    "    plt.loglog(w2_bins,w2_pdf,'b--')"
   ]
  }
 ],
 "metadata": {
  "kernelspec": {
   "display_name": "Python 3",
   "language": "python",
   "name": "python3"
  },
  "language_info": {
   "codemirror_mode": {
    "name": "ipython",
    "version": 3
   },
   "file_extension": ".py",
   "mimetype": "text/x-python",
   "name": "python",
   "nbconvert_exporter": "python",
   "pygments_lexer": "ipython3",
   "version": "3.5.2"
  }
 },
 "nbformat": 4,
 "nbformat_minor": 0
}
