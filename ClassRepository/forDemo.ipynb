{
 "cells": [
  {
   "cell_type": "code",
   "execution_count": 1,
   "metadata": {
    "collapsed": false
   },
   "outputs": [],
   "source": [
    "#!ipcluster start -n 8 --engines=MPI --profile='mpi' # for parallel run: start the engines using terminal\n",
    "from ipyparallel import Client\n",
    "rc=Client(profile='mpi')"
   ]
  },
  {
   "cell_type": "code",
   "execution_count": 2,
   "metadata": {
    "collapsed": false
   },
   "outputs": [
    {
     "name": "stdout",
     "output_type": "stream",
     "text": [
      "[stdout:0] Starting with processors:8\n"
     ]
    }
   ],
   "source": [
    "%%px\n",
    "# Import main modules\n",
    "import pyfftw as ft \n",
    "import numpy as np\n",
    "from mpi4py import MPI\n",
    "import math\n",
    "import sys\n",
    "\n",
    "# Import modules of our interest\n",
    "from DatasetOnVM import DatasetOnVM\n",
    "from FFT3Dfield import FFT3Dfield\n",
    "from EnergySpectrum import EnergySpectrum\n",
    "from Filters import Filters\n",
    "\n",
    "comm = MPI.COMM_WORLD\n",
    "my_id = comm.Get_rank()\n",
    "nproc = comm.Get_size()\n",
    "\n",
    "if(my_id==0):\n",
    "    sys.stdout.write('Starting with processors:%d\\n' %(int(nproc)))"
   ]
  },
  {
   "cell_type": "code",
   "execution_count": 3,
   "metadata": {
    "collapsed": false
   },
   "outputs": [
    {
     "name": "stdout",
     "output_type": "stream",
     "text": [
      "[stdout:0] MPI id:0; divided on block size (Nx,Ny,Nz): (128,1024,1024)\n",
      "[stdout:1] MPI id:6; divided on block size (Nx,Ny,Nz): (128,1024,1024)\n",
      "[stdout:2] MPI id:1; divided on block size (Nx,Ny,Nz): (128,1024,1024)\n",
      "[stdout:3] MPI id:5; divided on block size (Nx,Ny,Nz): (128,1024,1024)\n",
      "[stdout:4] MPI id:7; divided on block size (Nx,Ny,Nz): (128,1024,1024)\n",
      "[stdout:5] MPI id:3; divided on block size (Nx,Ny,Nz): (128,1024,1024)\n",
      "[stdout:6] MPI id:2; divided on block size (Nx,Ny,Nz): (128,1024,1024)\n",
      "[stdout:7] MPI id:4; divided on block size (Nx,Ny,Nz): (128,1024,1024)\n"
     ]
    }
   ],
   "source": [
    "%%px\n",
    "# Domain info:\n",
    "nx=1024\n",
    "ny=1024\n",
    "nz=1024\n",
    "\n",
    "lx=nx//nproc\n",
    "ly=ny\n",
    "lz=nz\n",
    "nek=int(math.sqrt(2.0)/3*nx)\n",
    "\n",
    "sys.stdout.write('MPI id:%d; divided on block size (Nx,Ny,Nz): (%d,%d,%d)\\n' %(my_id,lx,ly,lz))"
   ]
  },
  {
   "cell_type": "code",
   "execution_count": 4,
   "metadata": {
    "collapsed": false
   },
   "outputs": [
    {
     "name": "stdout",
     "output_type": "stream",
     "text": [
      "[stdout:0] Load velocity fields cost: 15.79 seconds\n"
     ]
    }
   ],
   "source": [
    "%%px\n",
    "# load dataset from local drive:\n",
    "\n",
    "dirName='/home/idies/workspace/scratch/dataSnapshot/'\n",
    "fileNameInitial='veldata_myID'\n",
    "myDataset=DatasetOnVM()\n",
    "\n",
    "comm.Barrier(); t1=MPI.Wtime()\n",
    "#vx,vy,vz=myDataset.LoadDataFromVM(dirName,fileNameInitial,nproc,my_id)\n",
    "vx,vy,vz=myDataset.LoadDataFromVM(dirName,fileNameInitial,nproc,my_id,lx,ly,lz)\n",
    "comm.Barrier(); t2=MPI.Wtime()\n",
    "if(my_id==0):\n",
    "    sys.stdout.write('Load velocity fields cost: %0.2f seconds\\n' %(t2-t1))"
   ]
  },
  {
   "cell_type": "code",
   "execution_count": 5,
   "metadata": {
    "collapsed": false
   },
   "outputs": [
    {
     "name": "stdout",
     "output_type": "stream",
     "text": [
      "[stdout:0] 3 R-C FFTs cost: 74.57 seconds\n"
     ]
    }
   ],
   "source": [
    "%%px\n",
    "## Get velocity field in wavenumber space:\n",
    "comm.Barrier(); t1=MPI.Wtime()\n",
    "myFFT3Dfield=FFT3Dfield()\n",
    "cvx=myFFT3Dfield.GetFFT3Dfield(vx,lx,ly,lz,nproc,my_id)\n",
    "cvy=myFFT3Dfield.GetFFT3Dfield(vy,lx,ly,lz,nproc,my_id)\n",
    "cvz=myFFT3Dfield.GetFFT3Dfield(vz,lx,ly,lz,nproc,my_id)\n",
    "comm.Barrier(); t2=MPI.Wtime()\n",
    "if(my_id==0):\n",
    "    sys.stdout.write('3 R-C FFTs cost: %0.2f seconds\\n' %(t2-t1))"
   ]
  },
  {
   "cell_type": "code",
   "execution_count": 6,
   "metadata": {
    "collapsed": false
   },
   "outputs": [
    {
     "name": "stdout",
     "output_type": "stream",
     "text": [
      "[stdout:0] Wavenumber calculation cost: 10.37 seconds\n"
     ]
    }
   ],
   "source": [
    "%%px\n",
    "## Get wavenumber:\n",
    "comm.Barrier(); t1=MPI.Wtime()\n",
    "myEnergySpc=EnergySpectrum()\n",
    "out_res=myEnergySpc.FindWavenumber(lx,ly,lz,my_id)\n",
    "k2=out_res[0]\n",
    "comm.Barrier(); t2=MPI.Wtime()\n",
    "if(my_id==0):\n",
    "    sys.stdout.write('Wavenumber calculation cost: %0.2f seconds\\n' %(t2-t1))"
   ]
  },
  {
   "cell_type": "code",
   "execution_count": 7,
   "metadata": {
    "collapsed": false
   },
   "outputs": [
    {
     "name": "stdout",
     "output_type": "stream",
     "text": [
      "[stdout:0] Energy spec calculation cost: 27.23 seconds\n"
     ]
    }
   ],
   "source": [
    "%%px\n",
    "## Get energy spectrum in Fourier space\n",
    "comm.Barrier(); t1=MPI.Wtime()\n",
    "ek_all=myEnergySpc.GetSpectrumFromComplexField(cvx,cvy,cvz,k2,lx,ly,lz,nek,nproc,my_id)\n",
    "comm.Barrier(); t2=MPI.Wtime()\n",
    "if(my_id==0):\n",
    "    sys.stdout.write('Energy spec calculation cost: {0:.2f} seconds\\n'.format(t2-t1))"
   ]
  },
  {
   "cell_type": "code",
   "execution_count": 8,
   "metadata": {
    "collapsed": false
   },
   "outputs": [
    {
     "data": {
      "text/plain": [
       "[output:0]"
      ]
     },
     "metadata": {},
     "output_type": "display_data"
    },
    {
     "data": {
      "image/png": "[encoded data removed]",
      "text/plain": [
       "<matplotlib.figure.Figure at 0x7fde296bf0b8>"
      ]
     },
     "metadata": {
      "engine": 0
     },
     "output_type": "display_data"
    }
   ],
   "source": [
    "%%px\n",
    "%matplotlib inline\n",
    "import matplotlib\n",
    "import matplotlib.pyplot as plt\n",
    "\n",
    "if(my_id==0):\n",
    "    ks=np.linspace(1,nek,nek)\n",
    "    SIZE = 12\n",
    "    plt.rc('font', size=SIZE)  # controls default text sizes\n",
    "    plt.rc('axes', titlesize=SIZE+4)  # fontsize of the axes title\n",
    "    plt.rc('axes', labelsize=SIZE+4)  # fontsize of the x any y labels\n",
    "    plt.rc('xtick', labelsize=SIZE)  # fontsize of the tick labels\n",
    "    plt.rc('ytick', labelsize=SIZE)  # fontsize of the tick labels\n",
    "    plt.rc('legend', fontsize=SIZE+3)  # legend fontsize\n",
    "    #plt.rc('figure', titlesize=SIZE)  # # size of the figure title\n",
    "    plt.figure(figsize=(7,6))\n",
    "    plt.loglog(ks,ek_all,'r',label='Unfiltered')    \n",
    "    plt.loglog(ks,np.power(ks,-5/3),'k')    \n",
    "    plt.xlabel('$\\kappa$')\n",
    "    plt.ylabel('$E(\\kappa)$')\n",
    "    plt.axis([0.0,1000.0, 1e-10,1.0])\n",
    "    plt.legend(loc=0, shadow=True) #loc='upper center'\n",
    "    ax = plt.gca()\n",
    "    ax.set_autoscale_on(False)    "
   ]
  },
  {
   "cell_type": "code",
   "execution_count": 9,
   "metadata": {
    "collapsed": false
   },
   "outputs": [
    {
     "name": "stdout",
     "output_type": "stream",
     "text": [
      "[stdout:2] Gaussian filtering calculation cost: 36.67 seconds\n"
     ]
    }
   ],
   "source": [
    "%%px\n",
    "## Filter the velocity field using the GAUSSIAN filter\n",
    "kappa_c=100.0\n",
    "comm.Barrier(); t1=MPI.Wtime()\n",
    "myFilter=Filters()\n",
    "cvx1=myFilter.FilterTheComplexField(cvx,k2,kappa_c,'gaussian')\n",
    "cvy1=myFilter.FilterTheComplexField(cvy,k2,kappa_c,'gaussian')\n",
    "cvz1=myFilter.FilterTheComplexField(cvz,k2,kappa_c,'gaussian')\n",
    "comm.Barrier(); t2=MPI.Wtime()\n",
    "if(my_id==0):\n",
    "    sys.stdout.write('Gaussian filtering calculation cost: {0:.2f} seconds\\n'.format(t2-t1))\n",
    "    \n",
    "## Get energy spectrum in Fourier space\n",
    "ek_gaussian=myEnergySpc.GetSpectrumFromComplexField(cvx1,cvy1,cvz1,k2,lx,ly,lz,nek,nproc,my_id)\n",
    "\n",
    "del cvx1\n",
    "del cvy1\n",
    "del cvz1"
   ]
  },
  {
   "cell_type": "code",
   "execution_count": 10,
   "metadata": {
    "collapsed": false
   },
   "outputs": [
    {
     "data": {
      "text/plain": [
       "[output:2]"
      ]
     },
     "metadata": {},
     "output_type": "display_data"
    },
    {
     "data": {
      "image/png": "[encoded data removed]",
      "text/plain": [
       "<matplotlib.figure.Figure at 0x7faaab965d68>"
      ]
     },
     "metadata": {
      "engine": 2
     },
     "output_type": "display_data"
    }
   ],
   "source": [
    "%%px\n",
    "%matplotlib inline\n",
    "import matplotlib\n",
    "import matplotlib.pyplot as plt\n",
    "\n",
    "if(my_id==0):\n",
    "    ks=np.linspace(1,nek,nek)\n",
    "    SIZE = 12\n",
    "    plt.rc('font', size=SIZE)  # controls default text sizes\n",
    "    plt.rc('axes', titlesize=SIZE+4)  # fontsize of the axes title\n",
    "    plt.rc('axes', labelsize=SIZE+4)  # fontsize of the x any y labels\n",
    "    plt.rc('xtick', labelsize=SIZE)  # fontsize of the tick labels\n",
    "    plt.rc('ytick', labelsize=SIZE)  # fontsize of the tick labels\n",
    "    plt.rc('legend', fontsize=SIZE+3)  # legend fontsize\n",
    "    #plt.rc('figure', titlesize=SIZE)  # # size of the figure title\n",
    "    plt.figure(figsize=(7,6))\n",
    "    plt.loglog(ks,ek_gaussian,'r',label='Gaussian')    \n",
    "    plt.loglog(ks,np.power(ks,-5/3),'k')\n",
    "    plt.loglog([kappa_c,kappa_c],[1.e-10,1],'k--')\n",
    "    plt.xlabel('$\\kappa$')\n",
    "    plt.ylabel('$E(\\kappa)$')\n",
    "    plt.axis([0.0,1000.0, 1e-10,1.0])\n",
    "    plt.legend(loc=0, shadow=True) #loc='upper center'\n",
    "    ax = plt.gca()\n",
    "    ax.set_autoscale_on(False)"
   ]
  },
  {
   "cell_type": "code",
   "execution_count": 11,
   "metadata": {
    "collapsed": false
   },
   "outputs": [
    {
     "name": "stdout",
     "output_type": "stream",
     "text": [
      "[stdout:2] Sharp filtering calculation cost: 18.26 seconds\n"
     ]
    }
   ],
   "source": [
    "%%px\n",
    "## Filter the velocity field using the SHARP filter\n",
    "kappa_c=100.0\n",
    "comm.Barrier(); t1=MPI.Wtime()\n",
    "myFilter=Filters()\n",
    "cvx1=myFilter.FilterTheComplexField(cvx,k2,kappa_c,'sharp')\n",
    "cvy1=myFilter.FilterTheComplexField(cvy,k2,kappa_c,'sharp')\n",
    "cvz1=myFilter.FilterTheComplexField(cvz,k2,kappa_c,'sharp')\n",
    "comm.Barrier(); t2=MPI.Wtime()\n",
    "if(my_id==0):\n",
    "    sys.stdout.write('Sharp filtering calculation cost: {0:.2f} seconds\\n'.format(t2-t1))\n",
    "\n",
    "## Get energy spectrum in Fourier space\n",
    "ek_sharp=myEnergySpc.GetSpectrumFromComplexField(cvx1,cvy1,cvz1,k2,lx,ly,lz,nek,nproc,my_id)\n",
    "\n",
    "del cvx1\n",
    "del cvy1\n",
    "del cvz1"
   ]
  },
  {
   "cell_type": "code",
   "execution_count": 12,
   "metadata": {
    "collapsed": false
   },
   "outputs": [
    {
     "data": {
      "text/plain": [
       "[output:2]"
      ]
     },
     "metadata": {},
     "output_type": "display_data"
    },
    {
     "data": {
      "image/png": "[encoded data removed]",
      "text/plain": [
       "<matplotlib.figure.Figure at 0x7faaab960e10>"
      ]
     },
     "metadata": {
      "engine": 2
     },
     "output_type": "display_data"
    }
   ],
   "source": [
    "%%px\n",
    "%matplotlib inline\n",
    "import matplotlib\n",
    "import matplotlib.pyplot as plt\n",
    "\n",
    "if(my_id==0):\n",
    "    ks=np.linspace(1,nek,nek)\n",
    "    SIZE = 12\n",
    "    plt.rc('font', size=SIZE)  # controls default text sizes\n",
    "    plt.rc('axes', titlesize=SIZE+4)  # fontsize of the axes title\n",
    "    plt.rc('axes', labelsize=SIZE+4)  # fontsize of the x any y labels\n",
    "    plt.rc('xtick', labelsize=SIZE)  # fontsize of the tick labels\n",
    "    plt.rc('ytick', labelsize=SIZE)  # fontsize of the tick labels\n",
    "    plt.rc('legend', fontsize=SIZE+3)  # legend fontsize\n",
    "    #plt.rc('figure', titlesize=SIZE)  # # size of the figure title\n",
    "    plt.figure(figsize=(7,6))\n",
    "    plt.loglog(ks,ek_sharp,'r',label='Sharp')    \n",
    "    plt.loglog(ks,np.power(ks,-5/3),'k')\n",
    "    plt.loglog([kappa_c,kappa_c],[1.e-10,1],'k--')\n",
    "    plt.xlabel('$\\kappa$')\n",
    "    plt.ylabel('$E(\\kappa)$')\n",
    "    plt.axis([0.0,1000.0, 1e-10,1.0])\n",
    "    plt.legend(loc=0, shadow=True) #loc='upper center'\n",
    "    ax = plt.gca()\n",
    "    ax.set_autoscale_on(False)"
   ]
  },
  {
   "cell_type": "code",
   "execution_count": 13,
   "metadata": {
    "collapsed": false
   },
   "outputs": [
    {
     "name": "stdout",
     "output_type": "stream",
     "text": [
      "[stdout:2] Box filtering calculation cost: 44.96 seconds\n"
     ]
    }
   ],
   "source": [
    "%%px\n",
    "## Filter the velocity field using the BOX filter\n",
    "kappa_c=100.0\n",
    "comm.Barrier(); t1=MPI.Wtime()\n",
    "myFilter=Filters()\n",
    "cvx1=myFilter.FilterTheComplexField(cvx,k2,kappa_c,'box')\n",
    "cvy1=myFilter.FilterTheComplexField(cvy,k2,kappa_c,'box')\n",
    "cvz1=myFilter.FilterTheComplexField(cvz,k2,kappa_c,'box')\n",
    "comm.Barrier(); t2=MPI.Wtime()\n",
    "if(my_id==0):\n",
    "    sys.stdout.write('Box filtering calculation cost: {0:.2f} seconds\\n'.format(t2-t1))\n",
    "\n",
    "## Get energy spectrum in Fourier space\n",
    "ek_box=myEnergySpc.GetSpectrumFromComplexField(cvx1,cvy1,cvz1,k2,lx,ly,lz,nek,nproc,my_id)\n",
    "\n",
    "del cvx1\n",
    "del cvy1\n",
    "del cvz1"
   ]
  },
  {
   "cell_type": "code",
   "execution_count": 14,
   "metadata": {
    "collapsed": false
   },
   "outputs": [
    {
     "data": {
      "text/plain": [
       "[output:2]"
      ]
     },
     "metadata": {},
     "output_type": "display_data"
    },
    {
     "data": {
      "image/png": "[encoded data removed]",
      "text/plain": [
       "<matplotlib.figure.Figure at 0x7faaac02af60>"
      ]
     },
     "metadata": {
      "engine": 2
     },
     "output_type": "display_data"
    }
   ],
   "source": [
    "%%px\n",
    "%matplotlib inline\n",
    "import matplotlib\n",
    "import matplotlib.pyplot as plt\n",
    "\n",
    "if(my_id==0):\n",
    "    ks=np.linspace(1,nek,nek)\n",
    "    SIZE = 12\n",
    "    plt.rc('font', size=SIZE)  # controls default text sizes\n",
    "    plt.rc('axes', titlesize=SIZE+4)  # fontsize of the axes title\n",
    "    plt.rc('axes', labelsize=SIZE+4)  # fontsize of the x any y labels\n",
    "    plt.rc('xtick', labelsize=SIZE)  # fontsize of the tick labels\n",
    "    plt.rc('ytick', labelsize=SIZE)  # fontsize of the tick labels\n",
    "    plt.rc('legend', fontsize=SIZE+3)  # legend fontsize\n",
    "    #plt.rc('figure', titlesize=SIZE)  # # size of the figure title\n",
    "    plt.figure(figsize=(7,6))\n",
    "    plt.loglog(ks,ek_box,'r',label='Box')    \n",
    "    plt.loglog(ks,np.power(ks,-5/3),'k')\n",
    "    plt.loglog([kappa_c,kappa_c],[1.e-10,1],'k--')\n",
    "    plt.xlabel('$\\kappa$')\n",
    "    plt.ylabel('$E(\\kappa)$')\n",
    "    plt.axis([0.0,1000.0, 1e-10,1.0])\n",
    "    plt.legend(loc=0, shadow=True) #loc='upper center'\n",
    "    ax = plt.gca()\n",
    "    ax.set_autoscale_on(False)"
   ]
  }
 ],
 "metadata": {
  "kernelspec": {
   "display_name": "Python 3",
   "language": "python",
   "name": "python3"
  },
  "language_info": {
   "codemirror_mode": {
    "name": "ipython",
    "version": 3
   },
   "file_extension": ".py",
   "mimetype": "text/x-python",
   "name": "python",
   "nbconvert_exporter": "python",
   "pygments_lexer": "ipython3",
   "version": "3.5.2"
  }
 },
 "nbformat": 4,
 "nbformat_minor": 0
}
