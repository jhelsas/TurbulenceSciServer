{
 "cells": [
  {
   "cell_type": "code",
   "execution_count": 1,
   "metadata": {
    "collapsed": false
   },
   "outputs": [],
   "source": [
    "#!ipcluster start -n 8 --engines=MPI --profile='mpi' # for parallel run: start the engines using terminal\n",
    "from ipyparallel import Client\n",
    "rc = Client(profile='mpi')"
   ]
  },
  {
   "cell_type": "code",
   "execution_count": 2,
   "metadata": {
    "collapsed": false
   },
   "outputs": [],
   "source": [
    "%%px\n",
    "# Import the libraries\n",
    "import pyfftw as ft \n",
    "import numpy as np\n",
    "from mpi4py import MPI\n",
    "import math\n",
    "import sys\n",
    "import SOAPtdb\n",
    "\n",
    "from FFT3Dfield import FFT3Dfield\n",
    "from IFFT3Dfield import IFFT3Dfield\n",
    "from EnergySpectrum import EnergySpectrum\n",
    "from Filters import Filters\n",
    "from RandomNumberGenerator import RandomNumberGenerator\n",
    "from ipyparallel import Client\n",
    "\n",
    "rc = Client(profile='mpi')"
   ]
  },
  {
   "cell_type": "code",
   "execution_count": 3,
   "metadata": {
    "collapsed": false
   },
   "outputs": [
    {
     "name": "stdout",
     "output_type": "stream",
     "text": [
      "[stdout:0] my_id = 7\n",
      "[stdout:1] my_id = 6\n",
      "[stdout:2] my_id = 1\n",
      "[stdout:3] my_id = 5\n",
      "[stdout:4] my_id = 3\n",
      "[stdout:5] my_id = 2\n",
      "[stdout:6] \n",
      "n_proc = 8\n",
      "my_id = 0\n",
      "[stdout:7] my_id = 4\n"
     ]
    }
   ],
   "source": [
    "%%px\n",
    "\n",
    "comm = MPI.COMM_WORLD\n",
    "my_id = comm.Get_rank()\n",
    "nproc = comm.Get_size()\n",
    "if(my_id==0):\n",
    "    print(\"n_proc = \"+str(nproc))\n",
    "print(\"my_id = \"+str(my_id))"
   ]
  },
  {
   "cell_type": "code",
   "execution_count": 4,
   "metadata": {
    "collapsed": false
   },
   "outputs": [],
   "source": [
    "%%px\n",
    "# Computational Domain\n",
    "nx=1024\n",
    "ny=1024\n",
    "nz=1024\n",
    "\n",
    "lx=nx//nproc\n",
    "ly=ny\n",
    "lz=nz\n",
    "lz_half=lz//2\n",
    "nek=int(math.sqrt(2.0)/3*nx)"
   ]
  },
  {
   "cell_type": "code",
   "execution_count": 5,
   "metadata": {
    "collapsed": false
   },
   "outputs": [
    {
     "name": "stdout",
     "output_type": "stream",
     "text": [
      "[stdout:6] shape = (128, 1024, 1024)\n"
     ]
    }
   ],
   "source": [
    "%%px\n",
    "## Initialize the velocity field having a size of (lx,ly,lz)\n",
    "vx=ft.zeros_aligned((lx,ly,lz), dtype='float32')\n",
    "vy=ft.zeros_aligned((lx,ly,lz), dtype='float32')\n",
    "vz=ft.zeros_aligned((lx,ly,lz), dtype='float32')\n",
    "\n",
    "if(my_id==0):\n",
    "    print(\"shape = \"+str(vx.shape))"
   ]
  },
  {
   "cell_type": "code",
   "execution_count": 6,
   "metadata": {
    "collapsed": false
   },
   "outputs": [
    {
     "name": "stdout",
     "output_type": "stream",
     "text": [
      "[stdout:6] Load velocity field cost: 181.43 seconds\n"
     ]
    }
   ],
   "source": [
    "%%px\n",
    "# Populate velocity field from the Database\n",
    "comm.Barrier(); t1=MPI.Wtime()\n",
    "SOAPtdb.loadvel(vx,vy,vz,lx,ly,lz,my_id)\n",
    "comm.Barrier(); t2=MPI.Wtime()\n",
    "if(my_id==0):\n",
    "    sys.stdout.write('Load velocity field cost: {0:.2f} seconds\\n'.format(t2-t1))"
   ]
  },
  {
   "cell_type": "code",
   "execution_count": 7,
   "metadata": {
    "collapsed": false
   },
   "outputs": [
    {
     "name": "stdout",
     "output_type": "stream",
     "text": [
      "[stdout:6] Calculate associated wave numbers: 9.63 seconds\n"
     ]
    }
   ],
   "source": [
    "%%px\n",
    "comm.Barrier(); t1=MPI.Wtime()\n",
    "# Get wavenumber:\n",
    "myEnergySpc=EnergySpectrum()\n",
    "kx,ky,kz=myEnergySpc.FindWavenumber(lx,ly,lz,my_id)\n",
    "k2=np.zeros((lx,ly,lz_half+1), dtype='float32')\n",
    "np.copyto(k2,kx*kx+ky*ky+kz*kz)\n",
    "k2[0,0,0]=1e-6\n",
    "comm.Barrier(); t2=MPI.Wtime()\n",
    "if(my_id==0):\n",
    "    sys.stdout.write('Calculate associated wave numbers: {0:.2f} seconds\\n'.format(t2-t1))"
   ]
  },
  {
   "cell_type": "code",
   "execution_count": 8,
   "metadata": {
    "collapsed": false
   },
   "outputs": [
    {
     "name": "stdout",
     "output_type": "stream",
     "text": [
      "[stdout:6] Calculate 3D FFT: 72.81 seconds\n"
     ]
    }
   ],
   "source": [
    "%%px\n",
    "# Get velocity field in Fourier space:\n",
    "comm.Barrier(); t1 = MPI.Wtime()\n",
    "myFFT3Dfield=FFT3Dfield()\n",
    "cvx=myFFT3Dfield.GetFFT3Dfield(vx,lx,ly,lz,nproc,my_id)\n",
    "cvy=myFFT3Dfield.GetFFT3Dfield(vy,lx,ly,lz,nproc,my_id)\n",
    "cvz=myFFT3Dfield.GetFFT3Dfield(vz,lx,ly,lz,nproc,my_id)\n",
    "comm.Barrier(); t2=MPI.Wtime()\n",
    "if(my_id==0):\n",
    "    sys.stdout.write('Calculate 3D FFT: {0:.2f} seconds\\n'.format(t2-t1))"
   ]
  },
  {
   "cell_type": "code",
   "execution_count": 9,
   "metadata": {
    "collapsed": false
   },
   "outputs": [
    {
     "name": "stdout",
     "output_type": "stream",
     "text": [
      "[stdout:6] Get energy spectrum in Fourier space: 20.93 seconds\n"
     ]
    }
   ],
   "source": [
    "%%px\n",
    "## Get energy spectrum in Fourier space\n",
    "comm.Barrier(); t1 = MPI.Wtime()\n",
    "ek_unfltrd=myEnergySpc.GetSpectrumFromComplexField(cvx,cvy,cvz,k2,lx,ly,lz,nek,nproc,my_id)\n",
    "comm.Barrier(); t2=MPI.Wtime()\n",
    "if(my_id==0):\n",
    "    sys.stdout.write('Get energy spectrum in Fourier space: {0:.2f} seconds\\n'.format(t2-t1))"
   ]
  },
  {
   "cell_type": "code",
   "execution_count": 10,
   "metadata": {
    "collapsed": false
   },
   "outputs": [
    {
     "data": {
      "text/plain": [
       "[output:6]"
      ]
     },
     "metadata": {},
     "output_type": "display_data"
    },
    {
     "data": {
      "image/png": "[encoded data removed]",
      "text/plain": [
       "<matplotlib.figure.Figure at 0x7fef0003e860>"
      ]
     },
     "metadata": {
      "engine": 6
     },
     "output_type": "display_data"
    }
   ],
   "source": [
    "%%px\n",
    "%matplotlib inline\n",
    "import matplotlib\n",
    "import matplotlib.pyplot as plt\n",
    "import numpy as np\n",
    "import math\n",
    "if my_id==0:\n",
    "    SIZE = 12\n",
    "    plt.rc('font', size=SIZE)  # controls default text sizes\n",
    "    plt.rc('axes', titlesize=SIZE+4)  # fontsize of the axes title\n",
    "    plt.rc('axes', labelsize=SIZE+4)  # fontsize of the x any y labels\n",
    "    plt.rc('xtick', labelsize=SIZE)  # fontsize of the tick labels\n",
    "    plt.rc('ytick', labelsize=SIZE)  # fontsize of the tick labels\n",
    "    plt.rc('legend', fontsize=SIZE+3)  # legend fontsize\n",
    "    #plt.rc('figure', titlesize=SIZE)  # # size of the figure title\n",
    "    ks=np.linspace(1,nek,nek)\n",
    "    plt.figure(figsize=(6,6))\n",
    "\n",
    "    plt.loglog(ks,ek_unfltrd,'r',label='Unfiltered')"
   ]
  },
  {
   "cell_type": "code",
   "execution_count": 11,
   "metadata": {
    "collapsed": false,
    "scrolled": true
   },
   "outputs": [
    {
     "name": "stdout",
     "output_type": "stream",
     "text": [
      "[stdout:6] Get energy spectrum in Fourier space: 65.33 seconds\n"
     ]
    },
    {
     "data": {
      "text/plain": [
       "[output:6]"
      ]
     },
     "metadata": {},
     "output_type": "display_data"
    },
    {
     "data": {
      "image/png": "[encoded data removed]",
      "text/plain": [
       "<matplotlib.figure.Figure at 0x7fedb4cf1dd8>"
      ]
     },
     "metadata": {
      "engine": 6
     },
     "output_type": "display_data"
    }
   ],
   "source": [
    "%%px\n",
    "\n",
    "comm.Barrier(); t1 = MPI.Wtime()\n",
    "kappa_c=100.0\n",
    "## Filter the velocity field using the GAUSSIAN filter\n",
    "myFilter=Filters()\n",
    "cvx1=myFilter.FilterTheComplexField(cvx,k2,kappa_c,'gaussian')\n",
    "cvy1=myFilter.FilterTheComplexField(cvy,k2,kappa_c,'gaussian')\n",
    "cvz1=myFilter.FilterTheComplexField(cvz,k2,kappa_c,'gaussian')\n",
    "\n",
    "ek_gaussian=myEnergySpc.GetSpectrumFromComplexField(cvx1,cvy1,cvz1,k2,lx,ly,lz,nek,nproc,my_id)\n",
    "\n",
    "if my_id==0:\n",
    "    SIZE = 12\n",
    "    plt.rc('font', size=SIZE)  # controls default text sizes\n",
    "    plt.rc('axes', titlesize=SIZE+4)  # fontsize of the axes title\n",
    "    plt.rc('axes', labelsize=SIZE+4)  # fontsize of the x any y labels\n",
    "    plt.rc('xtick', labelsize=SIZE)  # fontsize of the tick labels\n",
    "    plt.rc('ytick', labelsize=SIZE)  # fontsize of the tick labels\n",
    "    plt.rc('legend', fontsize=SIZE+3)  # legend fontsize\n",
    "    #plt.rc('figure', titlesize=SIZE)  # # size of the figure title\n",
    "    ks=np.linspace(1,nek,nek)    \n",
    "\n",
    "    plt.loglog(ks,ek_gaussian,'g',label='Gaussian')\n",
    "    \n",
    "del cvx1\n",
    "del cvy1\n",
    "del cvz1\n",
    "\n",
    "comm.Barrier(); t2=MPI.Wtime()\n",
    "if(my_id==0):\n",
    "    sys.stdout.write('Get energy spectrum in Fourier space: {0:.2f} seconds\\n'.format(t2-t1))"
   ]
  },
  {
   "cell_type": "code",
   "execution_count": 12,
   "metadata": {
    "collapsed": false
   },
   "outputs": [
    {
     "data": {
      "text/plain": [
       "[output:6]"
      ]
     },
     "metadata": {},
     "output_type": "display_data"
    },
    {
     "data": {
      "image/png": "[encoded data removed]",
      "text/plain": [
       "<matplotlib.figure.Figure at 0x7fedb4cf3d68>"
      ]
     },
     "metadata": {
      "engine": 6
     },
     "output_type": "display_data"
    }
   ],
   "source": [
    "%%px\n",
    "kappa_c=100.0\n",
    "## Filter the velocity field using the GAUSSIAN filter\n",
    "myFilter=Filters()\n",
    "cvx1=myFilter.FilterTheComplexField(cvx,k2,kappa_c,'sharp')\n",
    "cvy1=myFilter.FilterTheComplexField(cvy,k2,kappa_c,'sharp')\n",
    "cvz1=myFilter.FilterTheComplexField(cvz,k2,kappa_c,'sharp')\n",
    "\n",
    "ek_sharp=myEnergySpc.GetSpectrumFromComplexField(cvx1,cvy1,cvz1,k2,lx,ly,lz,nek,nproc,my_id)\n",
    "\n",
    "if my_id==0:\n",
    "    SIZE = 12\n",
    "    plt.rc('font', size=SIZE)  # controls default text sizes\n",
    "    plt.rc('axes', titlesize=SIZE+4)  # fontsize of the axes title\n",
    "    plt.rc('axes', labelsize=SIZE+4)  # fontsize of the x any y labels\n",
    "    plt.rc('xtick', labelsize=SIZE)  # fontsize of the tick labels\n",
    "    plt.rc('ytick', labelsize=SIZE)  # fontsize of the tick labels\n",
    "    plt.rc('legend', fontsize=SIZE+3)  # legend fontsize\n",
    "    #plt.rc('figure', titlesize=SIZE)  # # size of the figure title\n",
    "    ks=np.linspace(1,nek,nek)    \n",
    "\n",
    "    plt.loglog(ks,ek_sharp,'b',label='sharp')\n",
    "    \n",
    "del cvx1\n",
    "del cvy1\n",
    "del cvz1"
   ]
  },
  {
   "cell_type": "code",
   "execution_count": 14,
   "metadata": {
    "collapsed": false
   },
   "outputs": [
    {
     "data": {
      "text/plain": [
       "[output:6]"
      ]
     },
     "metadata": {},
     "output_type": "display_data"
    },
    {
     "data": {
      "image/png": "[encoded data removed]",
      "text/plain": [
       "<matplotlib.figure.Figure at 0x7fedb491d4e0>"
      ]
     },
     "metadata": {
      "engine": 6
     },
     "output_type": "display_data"
    }
   ],
   "source": [
    "%%px\n",
    "\n",
    "kappa_c=100.0\n",
    "## Filter the velocity field using the GAUSSIAN filter\n",
    "myFilter=Filters()\n",
    "cvx1=myFilter.FilterTheComplexField(cvx,k2,kappa_c,'box')\n",
    "cvy1=myFilter.FilterTheComplexField(cvy,k2,kappa_c,'box')\n",
    "cvz1=myFilter.FilterTheComplexField(cvz,k2,kappa_c,'box')\n",
    "\n",
    "ek_box=myEnergySpc.GetSpectrumFromComplexField(cvx1,cvy1,cvz1,k2,lx,ly,lz,nek,nproc,my_id)\n",
    "\n",
    "if my_id==0:\n",
    "    SIZE = 12\n",
    "    plt.rc('font', size=SIZE)  # controls default text sizes\n",
    "    plt.rc('axes', titlesize=SIZE+4)  # fontsize of the axes title\n",
    "    plt.rc('axes', labelsize=SIZE+4)  # fontsize of the x any y labels\n",
    "    plt.rc('xtick', labelsize=SIZE)  # fontsize of the tick labels\n",
    "    plt.rc('ytick', labelsize=SIZE)  # fontsize of the tick labels\n",
    "    plt.rc('legend', fontsize=SIZE+3)  # legend fontsize\n",
    "    #plt.rc('figure', titlesize=SIZE)  # # size of the figure title\n",
    "    ks=np.linspace(1,nek,nek)    \n",
    "\n",
    "    plt.loglog(ks,ek_gaussian,'y',label='box')\n",
    "    \n",
    "del cvx1\n",
    "del cvy1\n",
    "del cvz1"
   ]
  },
  {
   "cell_type": "code",
   "execution_count": 15,
   "metadata": {
    "collapsed": false
   },
   "outputs": [
    {
     "name": "stderr",
     "output_type": "stream",
     "text": [
      "[stderr:6] \n",
      "/home/idies/anaconda3/lib/python3.5/site-packages/matplotlib/axes/_axes.py:519: UserWarning: No labelled objects found. Use label='...' kwarg on individual plots.\n",
      "  warnings.warn(\"No labelled objects found. \"\n"
     ]
    },
    {
     "data": {
      "text/plain": [
       "[output:6]"
      ]
     },
     "metadata": {},
     "output_type": "display_data"
    },
    {
     "data": {
      "image/png": "[encoded data removed]",
      "text/plain": [
       "<matplotlib.figure.Figure at 0x7fedb4d58630>"
      ]
     },
     "metadata": {
      "engine": 6
     },
     "output_type": "display_data"
    }
   ],
   "source": [
    "%%px\n",
    "if my_id==0:\n",
    "    plt.xlabel('$\\kappa$')\n",
    "    plt.ylabel('$E(\\kappa)$')\n",
    "    plt.axis([0.0,1000.0, 1e-10,1.0])\n",
    "    plt.legend(loc=0, shadow=True) #loc='upper center'\n",
    "    ax = plt.gca()\n",
    "    ax.set_autoscale_on(False)\n",
    "    #plt.savefig('EnrgySpec_all.eps', format='eps', dpi=1200)"
   ]
  },
  {
   "cell_type": "code",
   "execution_count": 17,
   "metadata": {
    "collapsed": false
   },
   "outputs": [
    {
     "ename": "CompositeError",
     "evalue": "one or more exceptions from call to method: execute\n[0:execute]: NameError: name 'view' is not defined\n[1:execute]: NameError: name 'view' is not defined\n[2:execute]: NameError: name 'view' is not defined\n[3:execute]: NameError: name 'view' is not defined\n.... 4 more exceptions ...",
     "output_type": "error",
     "traceback": [
      "[0:execute]: ",
      "\u001b[1;31m\u001b[0m\u001b[1;31mNameError\u001b[0mTraceback (most recent call last)\u001b[1;32m<ipython-input-15-45cdfc5fae1b>\u001b[0m in \u001b[0;36m<module>\u001b[1;34m()\u001b[0m",
      "\u001b[1;32m----> 1\u001b[1;33m \u001b[0msync\u001b[0m\u001b[1;33m=\u001b[0m\u001b[0mview\u001b[0m\u001b[1;33m.\u001b[0m\u001b[0mrun\u001b[0m\u001b[1;33m(\u001b[0m\u001b[1;34m'test4Class_Filters_all.py'\u001b[0m\u001b[1;33m)\u001b[0m\u001b[1;33m\u001b[0m\u001b[0m",
      "\u001b[0m\u001b[0;32m      2\u001b[0m \u001b[0msync\u001b[0m\u001b[1;33m.\u001b[0m\u001b[0mdisplay_outputs\u001b[0m\u001b[1;33m(\u001b[0m\u001b[1;33m)\u001b[0m\u001b[1;33m\u001b[0m\u001b[0m",
      "\u001b[1;31mNameError\u001b[0m: name 'view' is not defined",
      "",
      "[1:execute]: ",
      "\u001b[1;31m\u001b[0m\u001b[1;31mNameError\u001b[0mTraceback (most recent call last)\u001b[1;32m<ipython-input-15-45cdfc5fae1b>\u001b[0m in \u001b[0;36m<module>\u001b[1;34m()\u001b[0m",
      "\u001b[1;32m----> 1\u001b[1;33m \u001b[0msync\u001b[0m\u001b[1;33m=\u001b[0m\u001b[0mview\u001b[0m\u001b[1;33m.\u001b[0m\u001b[0mrun\u001b[0m\u001b[1;33m(\u001b[0m\u001b[1;34m'test4Class_Filters_all.py'\u001b[0m\u001b[1;33m)\u001b[0m\u001b[1;33m\u001b[0m\u001b[0m",
      "\u001b[0m\u001b[0;32m      2\u001b[0m \u001b[0msync\u001b[0m\u001b[1;33m.\u001b[0m\u001b[0mdisplay_outputs\u001b[0m\u001b[1;33m(\u001b[0m\u001b[1;33m)\u001b[0m\u001b[1;33m\u001b[0m\u001b[0m",
      "\u001b[1;31mNameError\u001b[0m: name 'view' is not defined",
      "",
      "[2:execute]: ",
      "\u001b[1;31m\u001b[0m\u001b[1;31mNameError\u001b[0mTraceback (most recent call last)\u001b[1;32m<ipython-input-15-45cdfc5fae1b>\u001b[0m in \u001b[0;36m<module>\u001b[1;34m()\u001b[0m",
      "\u001b[1;32m----> 1\u001b[1;33m \u001b[0msync\u001b[0m\u001b[1;33m=\u001b[0m\u001b[0mview\u001b[0m\u001b[1;33m.\u001b[0m\u001b[0mrun\u001b[0m\u001b[1;33m(\u001b[0m\u001b[1;34m'test4Class_Filters_all.py'\u001b[0m\u001b[1;33m)\u001b[0m\u001b[1;33m\u001b[0m\u001b[0m",
      "\u001b[0m\u001b[0;32m      2\u001b[0m \u001b[0msync\u001b[0m\u001b[1;33m.\u001b[0m\u001b[0mdisplay_outputs\u001b[0m\u001b[1;33m(\u001b[0m\u001b[1;33m)\u001b[0m\u001b[1;33m\u001b[0m\u001b[0m",
      "\u001b[1;31mNameError\u001b[0m: name 'view' is not defined",
      "",
      "[3:execute]: ",
      "\u001b[1;31m\u001b[0m\u001b[1;31mNameError\u001b[0mTraceback (most recent call last)\u001b[1;32m<ipython-input-15-45cdfc5fae1b>\u001b[0m in \u001b[0;36m<module>\u001b[1;34m()\u001b[0m",
      "\u001b[1;32m----> 1\u001b[1;33m \u001b[0msync\u001b[0m\u001b[1;33m=\u001b[0m\u001b[0mview\u001b[0m\u001b[1;33m.\u001b[0m\u001b[0mrun\u001b[0m\u001b[1;33m(\u001b[0m\u001b[1;34m'test4Class_Filters_all.py'\u001b[0m\u001b[1;33m)\u001b[0m\u001b[1;33m\u001b[0m\u001b[0m",
      "\u001b[0m\u001b[0;32m      2\u001b[0m \u001b[0msync\u001b[0m\u001b[1;33m.\u001b[0m\u001b[0mdisplay_outputs\u001b[0m\u001b[1;33m(\u001b[0m\u001b[1;33m)\u001b[0m\u001b[1;33m\u001b[0m\u001b[0m",
      "\u001b[1;31mNameError\u001b[0m: name 'view' is not defined",
      "",
      "... 4 more exceptions ..."
     ]
    }
   ],
   "source": [
    "%%px\n",
    "sync=view.run('test4Class_Filters_all.py')\n",
    "sync.display_outputs()"
   ]
  },
  {
   "cell_type": "code",
   "execution_count": null,
   "metadata": {
    "collapsed": true
   },
   "outputs": [],
   "source": [
    "%%px\n",
    "nproc=rc[0].get('nproc')\n",
    "for i in range(nproc):\n",
    "    if(rc[i].get('my_id')==0):\n",
    "        e0=rc[i]\n",
    "        id_e0=i\n",
    "        break"
   ]
  },
  {
   "cell_type": "code",
   "execution_count": 18,
   "metadata": {
    "collapsed": false
   },
   "outputs": [
    {
     "ename": "CompositeError",
     "evalue": "one or more exceptions from call to method: execute\n[0:execute]: NameError: name 'e0' is not defined\n[1:execute]: NameError: name 'e0' is not defined\n[2:execute]: NameError: name 'e0' is not defined\n[3:execute]: NameError: name 'e0' is not defined\n.... 4 more exceptions ...",
     "output_type": "error",
     "traceback": [
      "[0:execute]: ",
      "\u001b[1;31m\u001b[0m\u001b[1;31mNameError\u001b[0mTraceback (most recent call last)\u001b[1;32m<ipython-input-16-333f3541a034>\u001b[0m in \u001b[0;36m<module>\u001b[1;34m()\u001b[0m",
      "\u001b[0;32m     22\u001b[0m \u001b[1;33m\u001b[0m\u001b[0m",
      "\u001b[0;32m     23\u001b[0m \u001b[1;33m\u001b[0m\u001b[0m",
      "\u001b[1;32m---> 24\u001b[1;33m \u001b[0mnek\u001b[0m\u001b[1;33m=\u001b[0m\u001b[0me0\u001b[0m\u001b[1;33m.\u001b[0m\u001b[0mget\u001b[0m\u001b[1;33m(\u001b[0m\u001b[1;34m'nek'\u001b[0m\u001b[1;33m)\u001b[0m\u001b[1;33m\u001b[0m\u001b[0m",
      "\u001b[0m\u001b[0;32m     25\u001b[0m \u001b[0mks\u001b[0m\u001b[1;33m=\u001b[0m\u001b[0mnp\u001b[0m\u001b[1;33m.\u001b[0m\u001b[0mlinspace\u001b[0m\u001b[1;33m(\u001b[0m\u001b[1;36m1\u001b[0m\u001b[1;33m,\u001b[0m\u001b[0mnek\u001b[0m\u001b[1;33m,\u001b[0m\u001b[0mnek\u001b[0m\u001b[1;33m)\u001b[0m\u001b[1;33m\u001b[0m\u001b[0m",
      "\u001b[0;32m     26\u001b[0m \u001b[0mek_all\u001b[0m\u001b[1;33m=\u001b[0m\u001b[0me0\u001b[0m\u001b[1;33m.\u001b[0m\u001b[0mget\u001b[0m\u001b[1;33m(\u001b[0m\u001b[1;34m'ek_all'\u001b[0m\u001b[1;33m)\u001b[0m\u001b[1;33m\u001b[0m\u001b[0m",
      "\u001b[1;31mNameError\u001b[0m: name 'e0' is not defined",
      "",
      "[1:execute]: ",
      "\u001b[1;31m\u001b[0m\u001b[1;31mNameError\u001b[0mTraceback (most recent call last)\u001b[1;32m<ipython-input-16-333f3541a034>\u001b[0m in \u001b[0;36m<module>\u001b[1;34m()\u001b[0m",
      "\u001b[0;32m     22\u001b[0m \u001b[1;33m\u001b[0m\u001b[0m",
      "\u001b[0;32m     23\u001b[0m \u001b[1;33m\u001b[0m\u001b[0m",
      "\u001b[1;32m---> 24\u001b[1;33m \u001b[0mnek\u001b[0m\u001b[1;33m=\u001b[0m\u001b[0me0\u001b[0m\u001b[1;33m.\u001b[0m\u001b[0mget\u001b[0m\u001b[1;33m(\u001b[0m\u001b[1;34m'nek'\u001b[0m\u001b[1;33m)\u001b[0m\u001b[1;33m\u001b[0m\u001b[0m",
      "\u001b[0m\u001b[0;32m     25\u001b[0m \u001b[0mks\u001b[0m\u001b[1;33m=\u001b[0m\u001b[0mnp\u001b[0m\u001b[1;33m.\u001b[0m\u001b[0mlinspace\u001b[0m\u001b[1;33m(\u001b[0m\u001b[1;36m1\u001b[0m\u001b[1;33m,\u001b[0m\u001b[0mnek\u001b[0m\u001b[1;33m,\u001b[0m\u001b[0mnek\u001b[0m\u001b[1;33m)\u001b[0m\u001b[1;33m\u001b[0m\u001b[0m",
      "\u001b[0;32m     26\u001b[0m \u001b[0mek_all\u001b[0m\u001b[1;33m=\u001b[0m\u001b[0me0\u001b[0m\u001b[1;33m.\u001b[0m\u001b[0mget\u001b[0m\u001b[1;33m(\u001b[0m\u001b[1;34m'ek_all'\u001b[0m\u001b[1;33m)\u001b[0m\u001b[1;33m\u001b[0m\u001b[0m",
      "\u001b[1;31mNameError\u001b[0m: name 'e0' is not defined",
      "",
      "[2:execute]: ",
      "\u001b[1;31m\u001b[0m\u001b[1;31mNameError\u001b[0mTraceback (most recent call last)\u001b[1;32m<ipython-input-16-333f3541a034>\u001b[0m in \u001b[0;36m<module>\u001b[1;34m()\u001b[0m",
      "\u001b[0;32m     22\u001b[0m \u001b[1;33m\u001b[0m\u001b[0m",
      "\u001b[0;32m     23\u001b[0m \u001b[1;33m\u001b[0m\u001b[0m",
      "\u001b[1;32m---> 24\u001b[1;33m \u001b[0mnek\u001b[0m\u001b[1;33m=\u001b[0m\u001b[0me0\u001b[0m\u001b[1;33m.\u001b[0m\u001b[0mget\u001b[0m\u001b[1;33m(\u001b[0m\u001b[1;34m'nek'\u001b[0m\u001b[1;33m)\u001b[0m\u001b[1;33m\u001b[0m\u001b[0m",
      "\u001b[0m\u001b[0;32m     25\u001b[0m \u001b[0mks\u001b[0m\u001b[1;33m=\u001b[0m\u001b[0mnp\u001b[0m\u001b[1;33m.\u001b[0m\u001b[0mlinspace\u001b[0m\u001b[1;33m(\u001b[0m\u001b[1;36m1\u001b[0m\u001b[1;33m,\u001b[0m\u001b[0mnek\u001b[0m\u001b[1;33m,\u001b[0m\u001b[0mnek\u001b[0m\u001b[1;33m)\u001b[0m\u001b[1;33m\u001b[0m\u001b[0m",
      "\u001b[0;32m     26\u001b[0m \u001b[0mek_all\u001b[0m\u001b[1;33m=\u001b[0m\u001b[0me0\u001b[0m\u001b[1;33m.\u001b[0m\u001b[0mget\u001b[0m\u001b[1;33m(\u001b[0m\u001b[1;34m'ek_all'\u001b[0m\u001b[1;33m)\u001b[0m\u001b[1;33m\u001b[0m\u001b[0m",
      "\u001b[1;31mNameError\u001b[0m: name 'e0' is not defined",
      "",
      "[3:execute]: ",
      "\u001b[1;31m\u001b[0m\u001b[1;31mNameError\u001b[0mTraceback (most recent call last)\u001b[1;32m<ipython-input-16-333f3541a034>\u001b[0m in \u001b[0;36m<module>\u001b[1;34m()\u001b[0m",
      "\u001b[0;32m     22\u001b[0m \u001b[1;33m\u001b[0m\u001b[0m",
      "\u001b[0;32m     23\u001b[0m \u001b[1;33m\u001b[0m\u001b[0m",
      "\u001b[1;32m---> 24\u001b[1;33m \u001b[0mnek\u001b[0m\u001b[1;33m=\u001b[0m\u001b[0me0\u001b[0m\u001b[1;33m.\u001b[0m\u001b[0mget\u001b[0m\u001b[1;33m(\u001b[0m\u001b[1;34m'nek'\u001b[0m\u001b[1;33m)\u001b[0m\u001b[1;33m\u001b[0m\u001b[0m",
      "\u001b[0m\u001b[0;32m     25\u001b[0m \u001b[0mks\u001b[0m\u001b[1;33m=\u001b[0m\u001b[0mnp\u001b[0m\u001b[1;33m.\u001b[0m\u001b[0mlinspace\u001b[0m\u001b[1;33m(\u001b[0m\u001b[1;36m1\u001b[0m\u001b[1;33m,\u001b[0m\u001b[0mnek\u001b[0m\u001b[1;33m,\u001b[0m\u001b[0mnek\u001b[0m\u001b[1;33m)\u001b[0m\u001b[1;33m\u001b[0m\u001b[0m",
      "\u001b[0;32m     26\u001b[0m \u001b[0mek_all\u001b[0m\u001b[1;33m=\u001b[0m\u001b[0me0\u001b[0m\u001b[1;33m.\u001b[0m\u001b[0mget\u001b[0m\u001b[1;33m(\u001b[0m\u001b[1;34m'ek_all'\u001b[0m\u001b[1;33m)\u001b[0m\u001b[1;33m\u001b[0m\u001b[0m",
      "\u001b[1;31mNameError\u001b[0m: name 'e0' is not defined",
      "",
      "... 4 more exceptions ..."
     ]
    }
   ],
   "source": [
    "%%px\n",
    "%matplotlib inline\n",
    "import matplotlib\n",
    "import matplotlib.pyplot as plt\n",
    "import numpy as np\n",
    "import math\n",
    "\n",
    "#matplotlib.rcParams.update({'font.size': 18})\n",
    "#matplotlib.rc('xtick', labelsize=20) \n",
    "#matplotlib.rc('ytick', labelsize=20)\n",
    "#matplotlib.rc('xlabel', labelsize=20) \n",
    "#matplotlib.rc('ylabel', labelsize=20)\n",
    "#axis_font = {'size':'14'} #{'fontname':'Arial', 'size':'14'}\n",
    "\n",
    "SIZE = 12\n",
    "plt.rc('font', size=SIZE)  # controls default text sizes\n",
    "plt.rc('axes', titlesize=SIZE+4)  # fontsize of the axes title\n",
    "plt.rc('axes', labelsize=SIZE+4)  # fontsize of the x any y labels\n",
    "plt.rc('xtick', labelsize=SIZE)  # fontsize of the tick labels\n",
    "plt.rc('ytick', labelsize=SIZE)  # fontsize of the tick labels\n",
    "plt.rc('legend', fontsize=SIZE+3)  # legend fontsize\n",
    "#plt.rc('figure', titlesize=SIZE)  # # size of the figure title\n",
    "\n",
    "\n",
    "nek=e0.get('nek')\n",
    "ks=np.linspace(1,nek,nek)\n",
    "ek_all=e0.get('ek_all')\n",
    "ek_gaussian=e0.get('ek_gaussian')\n",
    "ek_sharp=e0.get('ek_sharp')\n",
    "ek_box=e0.get('ek_box')\n",
    "\n",
    "plt.figure(figsize=(6,6))\n",
    "plt.loglog(ks,ek_all,'r',label='Unfiltered')\n",
    "plt.loglog(ks,ek_gaussian,'b',label='Gaussian ($\\kappa_c=100$)')\n",
    "plt.loglog(ks,ek_sharp,'g',label='Sharp ($\\kappa_c=100$)')\n",
    "plt.loglog(ks,ek_box,'y',label='Box ($\\kappa_c=100$)')\n",
    "plt.loglog(ks,np.power(ks,-5/3),'k')\n",
    "plt.loglog([100,100],[1.e-10,1],'k--')\n",
    "plt.xlabel('$\\kappa$')\n",
    "plt.ylabel('$E(\\kappa)$')\n",
    "plt.axis([0.0,1000.0, 1e-10,1.0])\n",
    "plt.legend(loc=0, shadow=True) #loc='upper center'\n",
    "ax = plt.gca()\n",
    "ax.set_autoscale_on(False)\n",
    "plt.savefig('EnrgySpec_all.eps', format='eps', dpi=1200)"
   ]
  },
  {
   "cell_type": "code",
   "execution_count": null,
   "metadata": {
    "collapsed": true
   },
   "outputs": [],
   "source": []
  }
 ],
 "metadata": {
  "kernelspec": {
   "display_name": "Python 3",
   "language": "python",
   "name": "python3"
  },
  "language_info": {
   "codemirror_mode": {
    "name": "ipython",
    "version": 3
   },
   "file_extension": ".py",
   "mimetype": "text/x-python",
   "name": "python",
   "nbconvert_exporter": "python",
   "pygments_lexer": "ipython3",
   "version": "3.5.2"
  }
 },
 "nbformat": 4,
 "nbformat_minor": 0
}
