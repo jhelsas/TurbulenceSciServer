{
 "cells": [
  {
   "cell_type": "code",
   "execution_count": 1,
   "metadata": {
    "collapsed": false
   },
   "outputs": [],
   "source": [
    "#!ipcluster start -n 8 --engines=MPI --profile='mpi' # for parallel run: start the engines using terminal\n",
    "from ipyparallel import Client\n",
<<<<<<< HEAD
    "rc = Client(profile='mpi')"
=======
    "rc=Client(profile='mpi')"
>>>>>>> e2ede5dd0e6fdaf35f947fe267f858a4f8a21a3f
   ]
  },
  {
   "cell_type": "code",
   "execution_count": 2,
   "metadata": {
    "collapsed": false
   },
   "outputs": [
    {
     "name": "stdout",
     "output_type": "stream",
     "text": [
      "[stdout:0] Starting with processors:8\n"
     ]
    }
   ],
   "source": [
    "%%px\n",
<<<<<<< HEAD
    "# Import the libraries\n",
=======
    "# Import main modules\n",
>>>>>>> e2ede5dd0e6fdaf35f947fe267f858a4f8a21a3f
    "import pyfftw as ft \n",
    "import numpy as np\n",
    "from mpi4py import MPI\n",
    "import math\n",
    "import sys\n",
    "\n",
    "# Import modules of our interest\n",
    "from DatasetOnVM import DatasetOnVM\n",
    "from FFT3Dfield import FFT3Dfield\n",
    "from EnergySpectrum import EnergySpectrum\n",
    "from Filters import Filters\n",
<<<<<<< HEAD
    "from RandomNumberGenerator import RandomNumberGenerator\n",
    "from ipyparallel import Client\n",
    "\n",
    "rc = Client(profile='mpi')"
   ]
  },
  {
   "cell_type": "code",
   "execution_count": 3,
   "metadata": {
    "collapsed": false
   },
   "outputs": [
    {
     "name": "stdout",
     "output_type": "stream",
     "text": [
      "[stdout:0] my_id = 7\n",
      "[stdout:1] my_id = 6\n",
      "[stdout:2] my_id = 1\n",
      "[stdout:3] my_id = 5\n",
      "[stdout:4] my_id = 3\n",
      "[stdout:5] my_id = 2\n",
      "[stdout:6] \n",
      "n_proc = 8\n",
      "my_id = 0\n",
      "[stdout:7] my_id = 4\n"
     ]
    }
   ],
   "source": [
    "%%px\n",
=======
>>>>>>> e2ede5dd0e6fdaf35f947fe267f858a4f8a21a3f
    "\n",
    "comm = MPI.COMM_WORLD\n",
    "my_id = comm.Get_rank()\n",
    "nproc = comm.Get_size()\n",
<<<<<<< HEAD
    "if(my_id==0):\n",
    "    print(\"n_proc = \"+str(nproc))\n",
    "print(\"my_id = \"+str(my_id))"
=======
    "\n",
    "if(my_id==0):\n",
    "    sys.stdout.write('Starting with processors:%d\\n' %(int(nproc)))"
>>>>>>> e2ede5dd0e6fdaf35f947fe267f858a4f8a21a3f
   ]
  },
  {
   "cell_type": "code",
   "execution_count": 3,
   "metadata": {
    "collapsed": false
   },
   "outputs": [
    {
     "name": "stdout",
     "output_type": "stream",
     "text": [
      "[stdout:0] MPI id:0; divided on block size (Nx,Ny,Nz): (128,1024,1024)\n",
      "[stdout:1] MPI id:6; divided on block size (Nx,Ny,Nz): (128,1024,1024)\n",
      "[stdout:2] MPI id:1; divided on block size (Nx,Ny,Nz): (128,1024,1024)\n",
      "[stdout:3] MPI id:5; divided on block size (Nx,Ny,Nz): (128,1024,1024)\n",
      "[stdout:4] MPI id:7; divided on block size (Nx,Ny,Nz): (128,1024,1024)\n",
      "[stdout:5] MPI id:3; divided on block size (Nx,Ny,Nz): (128,1024,1024)\n",
      "[stdout:6] MPI id:2; divided on block size (Nx,Ny,Nz): (128,1024,1024)\n",
      "[stdout:7] MPI id:4; divided on block size (Nx,Ny,Nz): (128,1024,1024)\n"
     ]
    }
   ],
   "source": [
    "%%px\n",
<<<<<<< HEAD
    "# Computational Domain\n",
=======
    "# Domain info:\n",
>>>>>>> e2ede5dd0e6fdaf35f947fe267f858a4f8a21a3f
    "nx=1024\n",
    "ny=1024\n",
    "nz=1024\n",
    "\n",
    "lx=nx//nproc\n",
    "ly=ny\n",
    "lz=nz\n",
    "nek=int(math.sqrt(2.0)/3*nx)\n",
    "\n",
    "sys.stdout.write('MPI id:%d; divided on block size (Nx,Ny,Nz): (%d,%d,%d)\\n' %(my_id,lx,ly,lz))"
   ]
  },
  {
   "cell_type": "code",
   "execution_count": 4,
   "metadata": {
    "collapsed": false
   },
   "outputs": [
    {
     "name": "stdout",
     "output_type": "stream",
     "text": [
<<<<<<< HEAD
      "[stdout:6] shape = (128, 1024, 1024)\n"
=======
      "[stdout:0] Load velocity fields cost: 15.79 seconds\n"
>>>>>>> e2ede5dd0e6fdaf35f947fe267f858a4f8a21a3f
     ]
    }
   ],
   "source": [
    "%%px\n",
<<<<<<< HEAD
    "## Initialize the velocity field having a size of (lx,ly,lz)\n",
    "vx=ft.zeros_aligned((lx,ly,lz), dtype='float32')\n",
    "vy=ft.zeros_aligned((lx,ly,lz), dtype='float32')\n",
    "vz=ft.zeros_aligned((lx,ly,lz), dtype='float32')\n",
    "\n",
    "if(my_id==0):\n",
    "    print(\"shape = \"+str(vx.shape))"
   ]
  },
  {
   "cell_type": "code",
   "execution_count": 6,
   "metadata": {
    "collapsed": false
   },
   "outputs": [
    {
     "name": "stdout",
     "output_type": "stream",
     "text": [
      "[stdout:6] Load velocity field cost: 181.43 seconds\n"
     ]
    }
   ],
   "source": [
    "%%px\n",
    "# Populate velocity field from the Database\n",
=======
    "# load dataset from local drive:\n",
    "\n",
    "dirName='/home/idies/workspace/scratch/dataSnapshot/'\n",
    "fileNameInitial='veldata_myID'\n",
    "myDataset=DatasetOnVM()\n",
    "\n",
>>>>>>> e2ede5dd0e6fdaf35f947fe267f858a4f8a21a3f
    "comm.Barrier(); t1=MPI.Wtime()\n",
    "#vx,vy,vz=myDataset.LoadDataFromVM(dirName,fileNameInitial,nproc,my_id)\n",
    "vx,vy,vz=myDataset.LoadDataFromVM(dirName,fileNameInitial,nproc,my_id,lx,ly,lz)\n",
    "comm.Barrier(); t2=MPI.Wtime()\n",
    "if(my_id==0):\n",
    "    sys.stdout.write('Load velocity fields cost: %0.2f seconds\\n' %(t2-t1))"
   ]
  },
  {
   "cell_type": "code",
<<<<<<< HEAD
   "execution_count": 7,
=======
   "execution_count": 5,
>>>>>>> e2ede5dd0e6fdaf35f947fe267f858a4f8a21a3f
   "metadata": {
    "collapsed": false
   },
   "outputs": [
    {
     "name": "stdout",
     "output_type": "stream",
     "text": [
<<<<<<< HEAD
      "[stdout:6] Calculate associated wave numbers: 9.63 seconds\n"
=======
      "[stdout:0] 3 R-C FFTs cost: 74.57 seconds\n"
>>>>>>> e2ede5dd0e6fdaf35f947fe267f858a4f8a21a3f
     ]
    }
   ],
   "source": [
    "%%px\n",
<<<<<<< HEAD
    "comm.Barrier(); t1=MPI.Wtime()\n",
    "# Get wavenumber:\n",
    "myEnergySpc=EnergySpectrum()\n",
    "kx,ky,kz=myEnergySpc.FindWavenumber(lx,ly,lz,my_id)\n",
    "k2=np.zeros((lx,ly,lz_half+1), dtype='float32')\n",
    "np.copyto(k2,kx*kx+ky*ky+kz*kz)\n",
    "k2[0,0,0]=1e-6\n",
    "comm.Barrier(); t2=MPI.Wtime()\n",
    "if(my_id==0):\n",
    "    sys.stdout.write('Calculate associated wave numbers: {0:.2f} seconds\\n'.format(t2-t1))"
=======
    "## Get velocity field in wavenumber space:\n",
    "comm.Barrier(); t1=MPI.Wtime()\n",
    "myFFT3Dfield=FFT3Dfield()\n",
    "cvx=myFFT3Dfield.GetFFT3Dfield(vx,lx,ly,lz,nproc,my_id)\n",
    "cvy=myFFT3Dfield.GetFFT3Dfield(vy,lx,ly,lz,nproc,my_id)\n",
    "cvz=myFFT3Dfield.GetFFT3Dfield(vz,lx,ly,lz,nproc,my_id)\n",
    "comm.Barrier(); t2=MPI.Wtime()\n",
    "if(my_id==0):\n",
    "    sys.stdout.write('3 R-C FFTs cost: %0.2f seconds\\n' %(t2-t1))"
>>>>>>> e2ede5dd0e6fdaf35f947fe267f858a4f8a21a3f
   ]
  },
  {
   "cell_type": "code",
<<<<<<< HEAD
   "execution_count": 8,
=======
   "execution_count": 6,
>>>>>>> e2ede5dd0e6fdaf35f947fe267f858a4f8a21a3f
   "metadata": {
    "collapsed": false
   },
   "outputs": [
    {
     "name": "stdout",
     "output_type": "stream",
     "text": [
<<<<<<< HEAD
      "[stdout:6] Calculate 3D FFT: 72.81 seconds\n"
=======
      "[stdout:0] Wavenumber calculation cost: 10.37 seconds\n"
>>>>>>> e2ede5dd0e6fdaf35f947fe267f858a4f8a21a3f
     ]
    }
   ],
   "source": [
    "%%px\n",
<<<<<<< HEAD
    "# Get velocity field in Fourier space:\n",
    "comm.Barrier(); t1 = MPI.Wtime()\n",
    "myFFT3Dfield=FFT3Dfield()\n",
    "cvx=myFFT3Dfield.GetFFT3Dfield(vx,lx,ly,lz,nproc,my_id)\n",
    "cvy=myFFT3Dfield.GetFFT3Dfield(vy,lx,ly,lz,nproc,my_id)\n",
    "cvz=myFFT3Dfield.GetFFT3Dfield(vz,lx,ly,lz,nproc,my_id)\n",
    "comm.Barrier(); t2=MPI.Wtime()\n",
    "if(my_id==0):\n",
    "    sys.stdout.write('Calculate 3D FFT: {0:.2f} seconds\\n'.format(t2-t1))"
=======
    "## Get wavenumber:\n",
    "comm.Barrier(); t1=MPI.Wtime()\n",
    "myEnergySpc=EnergySpectrum()\n",
    "out_res=myEnergySpc.FindWavenumber(lx,ly,lz,my_id)\n",
    "k2=out_res[0]\n",
    "comm.Barrier(); t2=MPI.Wtime()\n",
    "if(my_id==0):\n",
    "    sys.stdout.write('Wavenumber calculation cost: %0.2f seconds\\n' %(t2-t1))"
>>>>>>> e2ede5dd0e6fdaf35f947fe267f858a4f8a21a3f
   ]
  },
  {
   "cell_type": "code",
<<<<<<< HEAD
   "execution_count": 9,
=======
   "execution_count": 7,
>>>>>>> e2ede5dd0e6fdaf35f947fe267f858a4f8a21a3f
   "metadata": {
    "collapsed": false
   },
   "outputs": [
    {
     "name": "stdout",
     "output_type": "stream",
     "text": [
<<<<<<< HEAD
      "[stdout:6] Get energy spectrum in Fourier space: 20.93 seconds\n"
=======
      "[stdout:0] Energy spec calculation cost: 27.23 seconds\n"
>>>>>>> e2ede5dd0e6fdaf35f947fe267f858a4f8a21a3f
     ]
    }
   ],
   "source": [
    "%%px\n",
    "## Get energy spectrum in Fourier space\n",
<<<<<<< HEAD
    "comm.Barrier(); t1 = MPI.Wtime()\n",
    "ek_unfltrd=myEnergySpc.GetSpectrumFromComplexField(cvx,cvy,cvz,k2,lx,ly,lz,nek,nproc,my_id)\n",
    "comm.Barrier(); t2=MPI.Wtime()\n",
    "if(my_id==0):\n",
    "    sys.stdout.write('Get energy spectrum in Fourier space: {0:.2f} seconds\\n'.format(t2-t1))"
=======
    "comm.Barrier(); t1=MPI.Wtime()\n",
    "ek_all=myEnergySpc.GetSpectrumFromComplexField(cvx,cvy,cvz,k2,lx,ly,lz,nek,nproc,my_id)\n",
    "comm.Barrier(); t2=MPI.Wtime()\n",
    "if(my_id==0):\n",
    "    sys.stdout.write('Energy spec calculation cost: {0:.2f} seconds\\n'.format(t2-t1))"
>>>>>>> e2ede5dd0e6fdaf35f947fe267f858a4f8a21a3f
   ]
  },
  {
   "cell_type": "code",
<<<<<<< HEAD
   "execution_count": 10,
=======
   "execution_count": 8,
>>>>>>> e2ede5dd0e6fdaf35f947fe267f858a4f8a21a3f
   "metadata": {
    "collapsed": false
   },
   "outputs": [
    {
     "data": {
      "text/plain": [
<<<<<<< HEAD
       "[output:6]"
=======
       "[output:0]"
>>>>>>> e2ede5dd0e6fdaf35f947fe267f858a4f8a21a3f
      ]
     },
     "metadata": {},
     "output_type": "display_data"
    },
    {
     "data": {
<<<<<<< HEAD
      "image/png": "iVBORw0KGgoAAAANSUhEUgAAAYYAAAF7CAYAAADWjCwiAAAABHNCSVQICAgIfAhkiAAAAAlwSFlz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\nIiLSgBKDiIg08P+t32YZu6KC6gAAAABJRU5ErkJggg==\n",
      "text/plain": [
       "<matplotlib.figure.Figure at 0x7fef0003e860>"
      ]
     },
     "metadata": {
      "engine": 6
=======
      "image/png": "iVBORw0KGgoAAAANSUhEUgAAAdwAAAGPCAYAAAD2uWGsAAAABHNCSVQICAgIfAhkiAAAAAlwSFlz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\n",
      "text/plain": [
       "<matplotlib.figure.Figure at 0x7fde296bf0b8>"
      ]
     },
     "metadata": {
      "engine": 0
>>>>>>> e2ede5dd0e6fdaf35f947fe267f858a4f8a21a3f
     },
     "output_type": "display_data"
    }
   ],
   "source": [
    "%%px\n",
    "%matplotlib inline\n",
    "import matplotlib\n",
    "import matplotlib.pyplot as plt\n",
    "\n",
    "if(my_id==0):\n",
    "    ks=np.linspace(1,nek,nek)\n",
    "    SIZE = 12\n",
    "    plt.rc('font', size=SIZE)  # controls default text sizes\n",
    "    plt.rc('axes', titlesize=SIZE+4)  # fontsize of the axes title\n",
    "    plt.rc('axes', labelsize=SIZE+4)  # fontsize of the x any y labels\n",
    "    plt.rc('xtick', labelsize=SIZE)  # fontsize of the tick labels\n",
    "    plt.rc('ytick', labelsize=SIZE)  # fontsize of the tick labels\n",
    "    plt.rc('legend', fontsize=SIZE+3)  # legend fontsize\n",
    "    #plt.rc('figure', titlesize=SIZE)  # # size of the figure title\n",
    "    plt.figure(figsize=(7,6))\n",
    "    plt.loglog(ks,ek_all,'r',label='Unfiltered')    \n",
    "    plt.loglog(ks,np.power(ks,-5/3),'k')    \n",
    "    plt.xlabel('$\\kappa$')\n",
    "    plt.ylabel('$E(\\kappa)$')\n",
    "    plt.axis([0.0,1000.0, 1e-10,1.0])\n",
    "    plt.legend(loc=0, shadow=True) #loc='upper center'\n",
    "    ax = plt.gca()\n",
    "    ax.set_autoscale_on(False)    "
   ]
  },
  {
   "cell_type": "code",
<<<<<<< HEAD
   "execution_count": 11,
   "metadata": {
    "collapsed": false,
    "scrolled": true
=======
   "execution_count": 9,
   "metadata": {
    "collapsed": false
>>>>>>> e2ede5dd0e6fdaf35f947fe267f858a4f8a21a3f
   },
   "outputs": [
    {
     "name": "stdout",
     "output_type": "stream",
     "text": [
<<<<<<< HEAD
      "[stdout:6] Get energy spectrum in Fourier space: 65.33 seconds\n"
     ]
    },
    {
     "data": {
      "text/plain": [
       "[output:6]"
      ]
     },
     "metadata": {},
     "output_type": "display_data"
    },
    {
     "data": {
      "image/png": "iVBORw0KGgoAAAANSUhEUgAAAYsAAAELCAYAAAAoUKpTAAAABHNCSVQICAgIfAhkiAAAAAlwSFlz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\n",
      "text/plain": [
       "<matplotlib.figure.Figure at 0x7fedb4cf1dd8>"
      ]
     },
     "metadata": {
      "engine": 6
     },
     "output_type": "display_data"
=======
      "[stdout:2] Gaussian filtering calculation cost: 36.67 seconds\n"
     ]
>>>>>>> e2ede5dd0e6fdaf35f947fe267f858a4f8a21a3f
    }
   ],
   "source": [
    "%%px\n",
<<<<<<< HEAD
    "\n",
    "comm.Barrier(); t1 = MPI.Wtime()\n",
    "kappa_c=100.0\n",
=======
>>>>>>> e2ede5dd0e6fdaf35f947fe267f858a4f8a21a3f
    "## Filter the velocity field using the GAUSSIAN filter\n",
    "kappa_c=100.0\n",
    "comm.Barrier(); t1=MPI.Wtime()\n",
    "myFilter=Filters()\n",
    "cvx1=myFilter.FilterTheComplexField(cvx,k2,kappa_c,'gaussian')\n",
    "cvy1=myFilter.FilterTheComplexField(cvy,k2,kappa_c,'gaussian')\n",
    "cvz1=myFilter.FilterTheComplexField(cvz,k2,kappa_c,'gaussian')\n",
    "comm.Barrier(); t2=MPI.Wtime()\n",
    "if(my_id==0):\n",
    "    sys.stdout.write('Gaussian filtering calculation cost: {0:.2f} seconds\\n'.format(t2-t1))\n",
    "    \n",
    "## Get energy spectrum in Fourier space\n",
    "ek_gaussian=myEnergySpc.GetSpectrumFromComplexField(cvx1,cvy1,cvz1,k2,lx,ly,lz,nek,nproc,my_id)\n",
    "\n",
    "del cvx1\n",
    "del cvy1\n",
    "del cvz1"
   ]
  },
  {
   "cell_type": "code",
   "execution_count": 10,
   "metadata": {
    "collapsed": false
   },
   "outputs": [
    {
     "data": {
      "text/plain": [
       "[output:2]"
      ]
     },
     "metadata": {},
     "output_type": "display_data"
    },
    {
     "data": {
      "image/png": "iVBORw0KGgoAAAANSUhEUgAAAdwAAAGPCAYAAAD2uWGsAAAABHNCSVQICAgIfAhkiAAAAAlwSFlz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\nAABJRU5ErkJggg==\n",
      "text/plain": [
       "<matplotlib.figure.Figure at 0x7faaab965d68>"
      ]
     },
     "metadata": {
      "engine": 2
     },
     "output_type": "display_data"
    }
   ],
   "source": [
    "%%px\n",
    "%matplotlib inline\n",
    "import matplotlib\n",
    "import matplotlib.pyplot as plt\n",
    "\n",
    "if(my_id==0):\n",
    "    ks=np.linspace(1,nek,nek)\n",
    "    SIZE = 12\n",
    "    plt.rc('font', size=SIZE)  # controls default text sizes\n",
    "    plt.rc('axes', titlesize=SIZE+4)  # fontsize of the axes title\n",
    "    plt.rc('axes', labelsize=SIZE+4)  # fontsize of the x any y labels\n",
    "    plt.rc('xtick', labelsize=SIZE)  # fontsize of the tick labels\n",
    "    plt.rc('ytick', labelsize=SIZE)  # fontsize of the tick labels\n",
    "    plt.rc('legend', fontsize=SIZE+3)  # legend fontsize\n",
    "    #plt.rc('figure', titlesize=SIZE)  # # size of the figure title\n",
<<<<<<< HEAD
    "    ks=np.linspace(1,nek,nek)    \n",
    "\n",
    "    plt.loglog(ks,ek_gaussian,'g',label='Gaussian')\n",
    "    \n",
    "del cvx1\n",
    "del cvy1\n",
    "del cvz1\n",
    "\n",
    "comm.Barrier(); t2=MPI.Wtime()\n",
    "if(my_id==0):\n",
    "    sys.stdout.write('Get energy spectrum in Fourier space: {0:.2f} seconds\\n'.format(t2-t1))"
=======
    "    plt.figure(figsize=(7,6))\n",
    "    plt.loglog(ks,ek_gaussian,'r',label='Gaussian')    \n",
    "    plt.loglog(ks,np.power(ks,-5/3),'k')\n",
    "    plt.loglog([kappa_c,kappa_c],[1.e-10,1],'k--')\n",
    "    plt.xlabel('$\\kappa$')\n",
    "    plt.ylabel('$E(\\kappa)$')\n",
    "    plt.axis([0.0,1000.0, 1e-10,1.0])\n",
    "    plt.legend(loc=0, shadow=True) #loc='upper center'\n",
    "    ax = plt.gca()\n",
    "    ax.set_autoscale_on(False)"
>>>>>>> e2ede5dd0e6fdaf35f947fe267f858a4f8a21a3f
   ]
  },
  {
   "cell_type": "code",
<<<<<<< HEAD
   "execution_count": 12,
=======
   "execution_count": 11,
>>>>>>> e2ede5dd0e6fdaf35f947fe267f858a4f8a21a3f
   "metadata": {
    "collapsed": false
   },
   "outputs": [
    {
<<<<<<< HEAD
     "data": {
      "text/plain": [
       "[output:6]"
      ]
     },
     "metadata": {},
     "output_type": "display_data"
    },
    {
     "data": {
      "image/png": "iVBORw0KGgoAAAANSUhEUgAAAYYAAAELCAYAAADdriHjAAAABHNCSVQICAgIfAhkiAAAAAlwSFlz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\ntKHEICIibSgxiIhIG0oMIiLSxv8Dyn4FnB4KdO8AAAAASUVORK5CYII=\n",
      "text/plain": [
       "<matplotlib.figure.Figure at 0x7fedb4cf3d68>"
      ]
     },
     "metadata": {
      "engine": 6
     },
     "output_type": "display_data"
=======
     "name": "stdout",
     "output_type": "stream",
     "text": [
      "[stdout:2] Sharp filtering calculation cost: 18.26 seconds\n"
     ]
>>>>>>> e2ede5dd0e6fdaf35f947fe267f858a4f8a21a3f
    }
   ],
   "source": [
    "%%px\n",
<<<<<<< HEAD
=======
    "## Filter the velocity field using the SHARP filter\n",
>>>>>>> e2ede5dd0e6fdaf35f947fe267f858a4f8a21a3f
    "kappa_c=100.0\n",
    "comm.Barrier(); t1=MPI.Wtime()\n",
    "myFilter=Filters()\n",
    "cvx1=myFilter.FilterTheComplexField(cvx,k2,kappa_c,'sharp')\n",
    "cvy1=myFilter.FilterTheComplexField(cvy,k2,kappa_c,'sharp')\n",
    "cvz1=myFilter.FilterTheComplexField(cvz,k2,kappa_c,'sharp')\n",
    "comm.Barrier(); t2=MPI.Wtime()\n",
    "if(my_id==0):\n",
    "    sys.stdout.write('Sharp filtering calculation cost: {0:.2f} seconds\\n'.format(t2-t1))\n",
    "\n",
    "## Get energy spectrum in Fourier space\n",
    "ek_sharp=myEnergySpc.GetSpectrumFromComplexField(cvx1,cvy1,cvz1,k2,lx,ly,lz,nek,nproc,my_id)\n",
    "\n",
    "del cvx1\n",
    "del cvy1\n",
    "del cvz1"
   ]
  },
  {
   "cell_type": "code",
<<<<<<< HEAD
   "execution_count": 14,
=======
   "execution_count": 12,
>>>>>>> e2ede5dd0e6fdaf35f947fe267f858a4f8a21a3f
   "metadata": {
    "collapsed": false
   },
   "outputs": [
    {
     "data": {
      "text/plain": [
<<<<<<< HEAD
       "[output:6]"
=======
       "[output:2]"
>>>>>>> e2ede5dd0e6fdaf35f947fe267f858a4f8a21a3f
      ]
     },
     "metadata": {},
     "output_type": "display_data"
    },
    {
     "data": {
<<<<<<< HEAD
      "image/png": "iVBORw0KGgoAAAANSUhEUgAAAYsAAAELCAYAAAAoUKpTAAAABHNCSVQICAgIfAhkiAAAAAlwSFlz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\nQkRExqWwEBGRcf1/r7jU5hSIQHsAAAAASUVORK5CYII=\n",
      "text/plain": [
       "<matplotlib.figure.Figure at 0x7fedb491d4e0>"
      ]
     },
     "metadata": {
      "engine": 6
=======
      "image/png": "iVBORw0KGgoAAAANSUhEUgAAAdwAAAGPCAYAAAD2uWGsAAAABHNCSVQICAgIfAhkiAAAAAlwSFlz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\nEYmBEq6IiEgM/j+NnWobo+rEEQAAAABJRU5ErkJggg==\n",
      "text/plain": [
       "<matplotlib.figure.Figure at 0x7faaab960e10>"
      ]
     },
     "metadata": {
      "engine": 2
>>>>>>> e2ede5dd0e6fdaf35f947fe267f858a4f8a21a3f
     },
     "output_type": "display_data"
    }
   ],
   "source": [
    "%%px\n",
<<<<<<< HEAD
    "\n",
    "kappa_c=100.0\n",
    "## Filter the velocity field using the GAUSSIAN filter\n",
    "myFilter=Filters()\n",
    "cvx1=myFilter.FilterTheComplexField(cvx,k2,kappa_c,'box')\n",
    "cvy1=myFilter.FilterTheComplexField(cvy,k2,kappa_c,'box')\n",
    "cvz1=myFilter.FilterTheComplexField(cvz,k2,kappa_c,'box')\n",
    "\n",
    "ek_box=myEnergySpc.GetSpectrumFromComplexField(cvx1,cvy1,cvz1,k2,lx,ly,lz,nek,nproc,my_id)\n",
=======
    "%matplotlib inline\n",
    "import matplotlib\n",
    "import matplotlib.pyplot as plt\n",
>>>>>>> e2ede5dd0e6fdaf35f947fe267f858a4f8a21a3f
    "\n",
    "if(my_id==0):\n",
    "    ks=np.linspace(1,nek,nek)\n",
    "    SIZE = 12\n",
    "    plt.rc('font', size=SIZE)  # controls default text sizes\n",
    "    plt.rc('axes', titlesize=SIZE+4)  # fontsize of the axes title\n",
    "    plt.rc('axes', labelsize=SIZE+4)  # fontsize of the x any y labels\n",
    "    plt.rc('xtick', labelsize=SIZE)  # fontsize of the tick labels\n",
    "    plt.rc('ytick', labelsize=SIZE)  # fontsize of the tick labels\n",
    "    plt.rc('legend', fontsize=SIZE+3)  # legend fontsize\n",
    "    #plt.rc('figure', titlesize=SIZE)  # # size of the figure title\n",
<<<<<<< HEAD
    "    ks=np.linspace(1,nek,nek)    \n",
    "\n",
    "    plt.loglog(ks,ek_gaussian,'y',label='box')\n",
    "    \n",
    "del cvx1\n",
    "del cvy1\n",
    "del cvz1"
   ]
  },
  {
   "cell_type": "code",
   "execution_count": 15,
   "metadata": {
    "collapsed": false
   },
   "outputs": [
    {
     "name": "stderr",
     "output_type": "stream",
     "text": [
      "[stderr:6] \n",
      "/home/idies/anaconda3/lib/python3.5/site-packages/matplotlib/axes/_axes.py:519: UserWarning: No labelled objects found. Use label='...' kwarg on individual plots.\n",
      "  warnings.warn(\"No labelled objects found. \"\n"
     ]
    },
    {
     "data": {
      "text/plain": [
       "[output:6]"
      ]
     },
     "metadata": {},
     "output_type": "display_data"
    },
    {
     "data": {
      "image/png": "iVBORw0KGgoAAAANSUhEUgAAAZwAAAEZCAYAAACjPJNSAAAABHNCSVQICAgIfAhkiAAAAAlwSFlz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\n",
      "text/plain": [
       "<matplotlib.figure.Figure at 0x7fedb4d58630>"
      ]
     },
     "metadata": {
      "engine": 6
     },
     "output_type": "display_data"
    }
   ],
   "source": [
    "%%px\n",
    "if my_id==0:\n",
=======
    "    plt.figure(figsize=(7,6))\n",
    "    plt.loglog(ks,ek_sharp,'r',label='Sharp')    \n",
    "    plt.loglog(ks,np.power(ks,-5/3),'k')\n",
    "    plt.loglog([kappa_c,kappa_c],[1.e-10,1],'k--')\n",
>>>>>>> e2ede5dd0e6fdaf35f947fe267f858a4f8a21a3f
    "    plt.xlabel('$\\kappa$')\n",
    "    plt.ylabel('$E(\\kappa)$')\n",
    "    plt.axis([0.0,1000.0, 1e-10,1.0])\n",
    "    plt.legend(loc=0, shadow=True) #loc='upper center'\n",
    "    ax = plt.gca()\n",
    "    ax.set_autoscale_on(False)"
   ]
  },
  {
   "cell_type": "code",
<<<<<<< HEAD
   "execution_count": 17,
=======
   "execution_count": 13,
>>>>>>> e2ede5dd0e6fdaf35f947fe267f858a4f8a21a3f
   "metadata": {
    "collapsed": false
   },
   "outputs": [
    {
<<<<<<< HEAD
     "ename": "CompositeError",
     "evalue": "one or more exceptions from call to method: execute\n[0:execute]: NameError: name 'view' is not defined\n[1:execute]: NameError: name 'view' is not defined\n[2:execute]: NameError: name 'view' is not defined\n[3:execute]: NameError: name 'view' is not defined\n.... 4 more exceptions ...",
     "output_type": "error",
     "traceback": [
      "[0:execute]: ",
      "\u001b[1;31m\u001b[0m\u001b[1;31mNameError\u001b[0mTraceback (most recent call last)\u001b[1;32m<ipython-input-15-45cdfc5fae1b>\u001b[0m in \u001b[0;36m<module>\u001b[1;34m()\u001b[0m",
      "\u001b[1;32m----> 1\u001b[1;33m \u001b[0msync\u001b[0m\u001b[1;33m=\u001b[0m\u001b[0mview\u001b[0m\u001b[1;33m.\u001b[0m\u001b[0mrun\u001b[0m\u001b[1;33m(\u001b[0m\u001b[1;34m'test4Class_Filters_all.py'\u001b[0m\u001b[1;33m)\u001b[0m\u001b[1;33m\u001b[0m\u001b[0m",
      "\u001b[0m\u001b[0;32m      2\u001b[0m \u001b[0msync\u001b[0m\u001b[1;33m.\u001b[0m\u001b[0mdisplay_outputs\u001b[0m\u001b[1;33m(\u001b[0m\u001b[1;33m)\u001b[0m\u001b[1;33m\u001b[0m\u001b[0m",
      "\u001b[1;31mNameError\u001b[0m: name 'view' is not defined",
      "",
      "[1:execute]: ",
      "\u001b[1;31m\u001b[0m\u001b[1;31mNameError\u001b[0mTraceback (most recent call last)\u001b[1;32m<ipython-input-15-45cdfc5fae1b>\u001b[0m in \u001b[0;36m<module>\u001b[1;34m()\u001b[0m",
      "\u001b[1;32m----> 1\u001b[1;33m \u001b[0msync\u001b[0m\u001b[1;33m=\u001b[0m\u001b[0mview\u001b[0m\u001b[1;33m.\u001b[0m\u001b[0mrun\u001b[0m\u001b[1;33m(\u001b[0m\u001b[1;34m'test4Class_Filters_all.py'\u001b[0m\u001b[1;33m)\u001b[0m\u001b[1;33m\u001b[0m\u001b[0m",
      "\u001b[0m\u001b[0;32m      2\u001b[0m \u001b[0msync\u001b[0m\u001b[1;33m.\u001b[0m\u001b[0mdisplay_outputs\u001b[0m\u001b[1;33m(\u001b[0m\u001b[1;33m)\u001b[0m\u001b[1;33m\u001b[0m\u001b[0m",
      "\u001b[1;31mNameError\u001b[0m: name 'view' is not defined",
      "",
      "[2:execute]: ",
      "\u001b[1;31m\u001b[0m\u001b[1;31mNameError\u001b[0mTraceback (most recent call last)\u001b[1;32m<ipython-input-15-45cdfc5fae1b>\u001b[0m in \u001b[0;36m<module>\u001b[1;34m()\u001b[0m",
      "\u001b[1;32m----> 1\u001b[1;33m \u001b[0msync\u001b[0m\u001b[1;33m=\u001b[0m\u001b[0mview\u001b[0m\u001b[1;33m.\u001b[0m\u001b[0mrun\u001b[0m\u001b[1;33m(\u001b[0m\u001b[1;34m'test4Class_Filters_all.py'\u001b[0m\u001b[1;33m)\u001b[0m\u001b[1;33m\u001b[0m\u001b[0m",
      "\u001b[0m\u001b[0;32m      2\u001b[0m \u001b[0msync\u001b[0m\u001b[1;33m.\u001b[0m\u001b[0mdisplay_outputs\u001b[0m\u001b[1;33m(\u001b[0m\u001b[1;33m)\u001b[0m\u001b[1;33m\u001b[0m\u001b[0m",
      "\u001b[1;31mNameError\u001b[0m: name 'view' is not defined",
      "",
      "[3:execute]: ",
      "\u001b[1;31m\u001b[0m\u001b[1;31mNameError\u001b[0mTraceback (most recent call last)\u001b[1;32m<ipython-input-15-45cdfc5fae1b>\u001b[0m in \u001b[0;36m<module>\u001b[1;34m()\u001b[0m",
      "\u001b[1;32m----> 1\u001b[1;33m \u001b[0msync\u001b[0m\u001b[1;33m=\u001b[0m\u001b[0mview\u001b[0m\u001b[1;33m.\u001b[0m\u001b[0mrun\u001b[0m\u001b[1;33m(\u001b[0m\u001b[1;34m'test4Class_Filters_all.py'\u001b[0m\u001b[1;33m)\u001b[0m\u001b[1;33m\u001b[0m\u001b[0m",
      "\u001b[0m\u001b[0;32m      2\u001b[0m \u001b[0msync\u001b[0m\u001b[1;33m.\u001b[0m\u001b[0mdisplay_outputs\u001b[0m\u001b[1;33m(\u001b[0m\u001b[1;33m)\u001b[0m\u001b[1;33m\u001b[0m\u001b[0m",
      "\u001b[1;31mNameError\u001b[0m: name 'view' is not defined",
      "",
      "... 4 more exceptions ..."
     ]
    }
   ],
   "source": [
    "%%px\n",
    "sync=view.run('test4Class_Filters_all.py')\n",
    "sync.display_outputs()"
   ]
  },
  {
   "cell_type": "code",
   "execution_count": null,
   "metadata": {
    "collapsed": true
   },
   "outputs": [],
   "source": [
    "%%px\n",
    "nproc=rc[0].get('nproc')\n",
    "for i in range(nproc):\n",
    "    if(rc[i].get('my_id')==0):\n",
    "        e0=rc[i]\n",
    "        id_e0=i\n",
    "        break"
=======
     "name": "stdout",
     "output_type": "stream",
     "text": [
      "[stdout:2] Box filtering calculation cost: 44.96 seconds\n"
     ]
    }
   ],
   "source": [
    "%%px\n",
    "## Filter the velocity field using the BOX filter\n",
    "kappa_c=100.0\n",
    "comm.Barrier(); t1=MPI.Wtime()\n",
    "myFilter=Filters()\n",
    "cvx1=myFilter.FilterTheComplexField(cvx,k2,kappa_c,'box')\n",
    "cvy1=myFilter.FilterTheComplexField(cvy,k2,kappa_c,'box')\n",
    "cvz1=myFilter.FilterTheComplexField(cvz,k2,kappa_c,'box')\n",
    "comm.Barrier(); t2=MPI.Wtime()\n",
    "if(my_id==0):\n",
    "    sys.stdout.write('Box filtering calculation cost: {0:.2f} seconds\\n'.format(t2-t1))\n",
    "\n",
    "## Get energy spectrum in Fourier space\n",
    "ek_box=myEnergySpc.GetSpectrumFromComplexField(cvx1,cvy1,cvz1,k2,lx,ly,lz,nek,nproc,my_id)\n",
    "\n",
    "del cvx1\n",
    "del cvy1\n",
    "del cvz1"
>>>>>>> e2ede5dd0e6fdaf35f947fe267f858a4f8a21a3f
   ]
  },
  {
   "cell_type": "code",
<<<<<<< HEAD
   "execution_count": 18,
=======
   "execution_count": 14,
>>>>>>> e2ede5dd0e6fdaf35f947fe267f858a4f8a21a3f
   "metadata": {
    "collapsed": false
   },
   "outputs": [
    {
<<<<<<< HEAD
     "ename": "CompositeError",
     "evalue": "one or more exceptions from call to method: execute\n[0:execute]: NameError: name 'e0' is not defined\n[1:execute]: NameError: name 'e0' is not defined\n[2:execute]: NameError: name 'e0' is not defined\n[3:execute]: NameError: name 'e0' is not defined\n.... 4 more exceptions ...",
     "output_type": "error",
     "traceback": [
      "[0:execute]: ",
      "\u001b[1;31m\u001b[0m\u001b[1;31mNameError\u001b[0mTraceback (most recent call last)\u001b[1;32m<ipython-input-16-333f3541a034>\u001b[0m in \u001b[0;36m<module>\u001b[1;34m()\u001b[0m",
      "\u001b[0;32m     22\u001b[0m \u001b[1;33m\u001b[0m\u001b[0m",
      "\u001b[0;32m     23\u001b[0m \u001b[1;33m\u001b[0m\u001b[0m",
      "\u001b[1;32m---> 24\u001b[1;33m \u001b[0mnek\u001b[0m\u001b[1;33m=\u001b[0m\u001b[0me0\u001b[0m\u001b[1;33m.\u001b[0m\u001b[0mget\u001b[0m\u001b[1;33m(\u001b[0m\u001b[1;34m'nek'\u001b[0m\u001b[1;33m)\u001b[0m\u001b[1;33m\u001b[0m\u001b[0m",
      "\u001b[0m\u001b[0;32m     25\u001b[0m \u001b[0mks\u001b[0m\u001b[1;33m=\u001b[0m\u001b[0mnp\u001b[0m\u001b[1;33m.\u001b[0m\u001b[0mlinspace\u001b[0m\u001b[1;33m(\u001b[0m\u001b[1;36m1\u001b[0m\u001b[1;33m,\u001b[0m\u001b[0mnek\u001b[0m\u001b[1;33m,\u001b[0m\u001b[0mnek\u001b[0m\u001b[1;33m)\u001b[0m\u001b[1;33m\u001b[0m\u001b[0m",
      "\u001b[0;32m     26\u001b[0m \u001b[0mek_all\u001b[0m\u001b[1;33m=\u001b[0m\u001b[0me0\u001b[0m\u001b[1;33m.\u001b[0m\u001b[0mget\u001b[0m\u001b[1;33m(\u001b[0m\u001b[1;34m'ek_all'\u001b[0m\u001b[1;33m)\u001b[0m\u001b[1;33m\u001b[0m\u001b[0m",
      "\u001b[1;31mNameError\u001b[0m: name 'e0' is not defined",
      "",
      "[1:execute]: ",
      "\u001b[1;31m\u001b[0m\u001b[1;31mNameError\u001b[0mTraceback (most recent call last)\u001b[1;32m<ipython-input-16-333f3541a034>\u001b[0m in \u001b[0;36m<module>\u001b[1;34m()\u001b[0m",
      "\u001b[0;32m     22\u001b[0m \u001b[1;33m\u001b[0m\u001b[0m",
      "\u001b[0;32m     23\u001b[0m \u001b[1;33m\u001b[0m\u001b[0m",
      "\u001b[1;32m---> 24\u001b[1;33m \u001b[0mnek\u001b[0m\u001b[1;33m=\u001b[0m\u001b[0me0\u001b[0m\u001b[1;33m.\u001b[0m\u001b[0mget\u001b[0m\u001b[1;33m(\u001b[0m\u001b[1;34m'nek'\u001b[0m\u001b[1;33m)\u001b[0m\u001b[1;33m\u001b[0m\u001b[0m",
      "\u001b[0m\u001b[0;32m     25\u001b[0m \u001b[0mks\u001b[0m\u001b[1;33m=\u001b[0m\u001b[0mnp\u001b[0m\u001b[1;33m.\u001b[0m\u001b[0mlinspace\u001b[0m\u001b[1;33m(\u001b[0m\u001b[1;36m1\u001b[0m\u001b[1;33m,\u001b[0m\u001b[0mnek\u001b[0m\u001b[1;33m,\u001b[0m\u001b[0mnek\u001b[0m\u001b[1;33m)\u001b[0m\u001b[1;33m\u001b[0m\u001b[0m",
      "\u001b[0;32m     26\u001b[0m \u001b[0mek_all\u001b[0m\u001b[1;33m=\u001b[0m\u001b[0me0\u001b[0m\u001b[1;33m.\u001b[0m\u001b[0mget\u001b[0m\u001b[1;33m(\u001b[0m\u001b[1;34m'ek_all'\u001b[0m\u001b[1;33m)\u001b[0m\u001b[1;33m\u001b[0m\u001b[0m",
      "\u001b[1;31mNameError\u001b[0m: name 'e0' is not defined",
      "",
      "[2:execute]: ",
      "\u001b[1;31m\u001b[0m\u001b[1;31mNameError\u001b[0mTraceback (most recent call last)\u001b[1;32m<ipython-input-16-333f3541a034>\u001b[0m in \u001b[0;36m<module>\u001b[1;34m()\u001b[0m",
      "\u001b[0;32m     22\u001b[0m \u001b[1;33m\u001b[0m\u001b[0m",
      "\u001b[0;32m     23\u001b[0m \u001b[1;33m\u001b[0m\u001b[0m",
      "\u001b[1;32m---> 24\u001b[1;33m \u001b[0mnek\u001b[0m\u001b[1;33m=\u001b[0m\u001b[0me0\u001b[0m\u001b[1;33m.\u001b[0m\u001b[0mget\u001b[0m\u001b[1;33m(\u001b[0m\u001b[1;34m'nek'\u001b[0m\u001b[1;33m)\u001b[0m\u001b[1;33m\u001b[0m\u001b[0m",
      "\u001b[0m\u001b[0;32m     25\u001b[0m \u001b[0mks\u001b[0m\u001b[1;33m=\u001b[0m\u001b[0mnp\u001b[0m\u001b[1;33m.\u001b[0m\u001b[0mlinspace\u001b[0m\u001b[1;33m(\u001b[0m\u001b[1;36m1\u001b[0m\u001b[1;33m,\u001b[0m\u001b[0mnek\u001b[0m\u001b[1;33m,\u001b[0m\u001b[0mnek\u001b[0m\u001b[1;33m)\u001b[0m\u001b[1;33m\u001b[0m\u001b[0m",
      "\u001b[0;32m     26\u001b[0m \u001b[0mek_all\u001b[0m\u001b[1;33m=\u001b[0m\u001b[0me0\u001b[0m\u001b[1;33m.\u001b[0m\u001b[0mget\u001b[0m\u001b[1;33m(\u001b[0m\u001b[1;34m'ek_all'\u001b[0m\u001b[1;33m)\u001b[0m\u001b[1;33m\u001b[0m\u001b[0m",
      "\u001b[1;31mNameError\u001b[0m: name 'e0' is not defined",
      "",
      "[3:execute]: ",
      "\u001b[1;31m\u001b[0m\u001b[1;31mNameError\u001b[0mTraceback (most recent call last)\u001b[1;32m<ipython-input-16-333f3541a034>\u001b[0m in \u001b[0;36m<module>\u001b[1;34m()\u001b[0m",
      "\u001b[0;32m     22\u001b[0m \u001b[1;33m\u001b[0m\u001b[0m",
      "\u001b[0;32m     23\u001b[0m \u001b[1;33m\u001b[0m\u001b[0m",
      "\u001b[1;32m---> 24\u001b[1;33m \u001b[0mnek\u001b[0m\u001b[1;33m=\u001b[0m\u001b[0me0\u001b[0m\u001b[1;33m.\u001b[0m\u001b[0mget\u001b[0m\u001b[1;33m(\u001b[0m\u001b[1;34m'nek'\u001b[0m\u001b[1;33m)\u001b[0m\u001b[1;33m\u001b[0m\u001b[0m",
      "\u001b[0m\u001b[0;32m     25\u001b[0m \u001b[0mks\u001b[0m\u001b[1;33m=\u001b[0m\u001b[0mnp\u001b[0m\u001b[1;33m.\u001b[0m\u001b[0mlinspace\u001b[0m\u001b[1;33m(\u001b[0m\u001b[1;36m1\u001b[0m\u001b[1;33m,\u001b[0m\u001b[0mnek\u001b[0m\u001b[1;33m,\u001b[0m\u001b[0mnek\u001b[0m\u001b[1;33m)\u001b[0m\u001b[1;33m\u001b[0m\u001b[0m",
      "\u001b[0;32m     26\u001b[0m \u001b[0mek_all\u001b[0m\u001b[1;33m=\u001b[0m\u001b[0me0\u001b[0m\u001b[1;33m.\u001b[0m\u001b[0mget\u001b[0m\u001b[1;33m(\u001b[0m\u001b[1;34m'ek_all'\u001b[0m\u001b[1;33m)\u001b[0m\u001b[1;33m\u001b[0m\u001b[0m",
      "\u001b[1;31mNameError\u001b[0m: name 'e0' is not defined",
      "",
      "... 4 more exceptions ..."
     ]
=======
     "data": {
      "text/plain": [
       "[output:2]"
      ]
     },
     "metadata": {},
     "output_type": "display_data"
    },
    {
     "data": {
      "image/png": "iVBORw0KGgoAAAANSUhEUgAAAdwAAAGPCAYAAAD2uWGsAAAABHNCSVQICAgIfAhkiAAAAAlwSFlz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\n",
      "text/plain": [
       "<matplotlib.figure.Figure at 0x7faaac02af60>"
      ]
     },
     "metadata": {
      "engine": 2
     },
     "output_type": "display_data"
>>>>>>> e2ede5dd0e6fdaf35f947fe267f858a4f8a21a3f
    }
   ],
   "source": [
    "%%px\n",
    "%matplotlib inline\n",
    "import matplotlib\n",
    "import matplotlib.pyplot as plt\n",
    "\n",
    "if(my_id==0):\n",
    "    ks=np.linspace(1,nek,nek)\n",
    "    SIZE = 12\n",
    "    plt.rc('font', size=SIZE)  # controls default text sizes\n",
    "    plt.rc('axes', titlesize=SIZE+4)  # fontsize of the axes title\n",
    "    plt.rc('axes', labelsize=SIZE+4)  # fontsize of the x any y labels\n",
    "    plt.rc('xtick', labelsize=SIZE)  # fontsize of the tick labels\n",
    "    plt.rc('ytick', labelsize=SIZE)  # fontsize of the tick labels\n",
    "    plt.rc('legend', fontsize=SIZE+3)  # legend fontsize\n",
    "    #plt.rc('figure', titlesize=SIZE)  # # size of the figure title\n",
    "    plt.figure(figsize=(7,6))\n",
    "    plt.loglog(ks,ek_box,'r',label='Box')    \n",
    "    plt.loglog(ks,np.power(ks,-5/3),'k')\n",
    "    plt.loglog([kappa_c,kappa_c],[1.e-10,1],'k--')\n",
    "    plt.xlabel('$\\kappa$')\n",
    "    plt.ylabel('$E(\\kappa)$')\n",
    "    plt.axis([0.0,1000.0, 1e-10,1.0])\n",
    "    plt.legend(loc=0, shadow=True) #loc='upper center'\n",
    "    ax = plt.gca()\n",
    "    ax.set_autoscale_on(False)"
   ]
  }
 ],
 "metadata": {
  "kernelspec": {
   "display_name": "Python 3",
   "language": "python",
   "name": "python3"
  },
  "language_info": {
   "codemirror_mode": {
    "name": "ipython",
    "version": 3
   },
   "file_extension": ".py",
   "mimetype": "text/x-python",
   "name": "python",
   "nbconvert_exporter": "python",
   "pygments_lexer": "ipython3",
   "version": "3.5.2"
  }
 },
 "nbformat": 4,
 "nbformat_minor": 0
}
