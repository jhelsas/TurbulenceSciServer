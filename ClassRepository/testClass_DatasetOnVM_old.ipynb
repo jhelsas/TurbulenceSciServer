{
 "cells": [
  {
   "cell_type": "code",
   "execution_count": null,
   "metadata": {
    "collapsed": false
   },
   "outputs": [],
   "source": [
    "#!ipcluster start -n 8 --engines=MPI --profile='mpi' # for parallel run: start the engines using terminal"
   ]
  },
  {
   "cell_type": "code",
   "execution_count": 11,
   "metadata": {
    "collapsed": true
   },
   "outputs": [],
   "source": [
    "# Import the libraries\n",
    "import pyfftw as ft \n",
    "import numpy as np\n",
    "from mpi4py import MPI\n",
    "import math\n",
    "import sys\n",
    "#import SOAPtdb\n",
    "\n",
    "from DatasetOnVM import DatasetOnVM\n",
    "from IFFT3Dfield import IFFT3Dfield\n",
    "from EnergySpectrum import EnergySpectrum\n",
    "from Filters import Filters\n",
    "#from RandomNumberGenerator import RandomNumberGenerator"
   ]
  },
  {
   "cell_type": "code",
   "execution_count": 12,
   "metadata": {
    "collapsed": false
   },
   "outputs": [
    {
     "name": "stdout",
     "output_type": "stream",
     "text": [
      "1\n"
     ]
    }
   ],
   "source": [
    "from ipyparallel import Client\n",
    "Client(profile='mpi')\n",
    "comm = MPI.COMM_WORLD\n",
    "my_id = comm.Get_rank()\n",
    "nproc = comm.Get_size()\n",
    "print(nproc)"
   ]
  },
  {
   "cell_type": "code",
   "execution_count": 8,
   "metadata": {
    "collapsed": false
   },
   "outputs": [
    {
     "name": "stdout",
     "output_type": "stream",
     "text": [
      "1024\n"
     ]
    }
   ],
   "source": [
    "# Computational Domain\n",
    "nx=1024\n",
    "ny=1024\n",
    "nz=1024\n",
    "\n",
    "lx=nx//nproc\n",
    "print(lx)\n",
    "ly=ny\n",
    "lz=nz\n",
    "lz_half=lz//2\n",
    "nek=int(math.sqrt(2.0)/3*nx)\n"
   ]
  },
  {
   "cell_type": "code",
   "execution_count": 4,
   "metadata": {
    "collapsed": false
   },
   "outputs": [
    {
     "name": "stdout",
     "output_type": "stream",
     "text": [
      "Oops!  Unmatched nproc.  Try again with nproc= 8\n"
     ]
    },
    {
     "ename": "TypeError",
     "evalue": "'NoneType' object is not iterable",
     "output_type": "error",
     "traceback": [
      "\u001b[1;31m\u001b[0m",
      "\u001b[1;31mTypeError\u001b[0mTraceback (most recent call last)",
      "\u001b[1;32m<ipython-input-4-b8490aebd5c1>\u001b[0m in \u001b[0;36m<module>\u001b[1;34m()\u001b[0m\n\u001b[0;32m      4\u001b[0m \u001b[0mmyDataset\u001b[0m\u001b[1;33m=\u001b[0m\u001b[0mDatasetOnVM\u001b[0m\u001b[1;33m(\u001b[0m\u001b[1;33m)\u001b[0m\u001b[1;33m\u001b[0m\u001b[0m\n\u001b[0;32m      5\u001b[0m \u001b[0mcomm\u001b[0m\u001b[1;33m.\u001b[0m\u001b[0mBarrier\u001b[0m\u001b[1;33m(\u001b[0m\u001b[1;33m)\u001b[0m\u001b[1;33m;\u001b[0m \u001b[0mt1\u001b[0m\u001b[1;33m=\u001b[0m\u001b[0mMPI\u001b[0m\u001b[1;33m.\u001b[0m\u001b[0mWtime\u001b[0m\u001b[1;33m(\u001b[0m\u001b[1;33m)\u001b[0m\u001b[1;33m\u001b[0m\u001b[0m\n\u001b[1;32m----> 6\u001b[1;33m \u001b[0mvx\u001b[0m\u001b[1;33m,\u001b[0m\u001b[0mvy\u001b[0m\u001b[1;33m,\u001b[0m\u001b[0mvz\u001b[0m\u001b[1;33m=\u001b[0m\u001b[0mmyDataset\u001b[0m\u001b[1;33m.\u001b[0m\u001b[0mLoadDataFromVM\u001b[0m\u001b[1;33m(\u001b[0m\u001b[0mdirName\u001b[0m\u001b[1;33m,\u001b[0m\u001b[0mfileName\u001b[0m\u001b[1;33m,\u001b[0m\u001b[0mnproc\u001b[0m\u001b[1;33m)\u001b[0m\u001b[1;33m\u001b[0m\u001b[0m\n\u001b[0m\u001b[0;32m      7\u001b[0m \u001b[0mcomm\u001b[0m\u001b[1;33m.\u001b[0m\u001b[0mBarrier\u001b[0m\u001b[1;33m(\u001b[0m\u001b[1;33m)\u001b[0m\u001b[1;33m;\u001b[0m \u001b[0mt2\u001b[0m\u001b[1;33m=\u001b[0m\u001b[0mMPI\u001b[0m\u001b[1;33m.\u001b[0m\u001b[0mWtime\u001b[0m\u001b[1;33m(\u001b[0m\u001b[1;33m)\u001b[0m\u001b[1;33m\u001b[0m\u001b[0m\n\u001b[0;32m      8\u001b[0m \u001b[1;32mif\u001b[0m\u001b[1;33m(\u001b[0m\u001b[0mmy_id\u001b[0m\u001b[1;33m==\u001b[0m\u001b[1;36m0\u001b[0m\u001b[1;33m)\u001b[0m\u001b[1;33m:\u001b[0m\u001b[1;33m\u001b[0m\u001b[0m\n",
      "\u001b[1;31mTypeError\u001b[0m: 'NoneType' object is not iterable"
     ]
    }
   ],
   "source": [
    "# load dataset from local drive:\n",
    "dirName='/home/idies/workspace/persistent/dataSnapshot/'\n",
    "fileName='veldata_myID_'+str(my_id)+'.npz'\n",
    "myDataset=DatasetOnVM()\n",
    "comm.Barrier(); t1=MPI.Wtime()\n",
    "vx,vy,vz=myDataset.LoadDataFromVM(dirName,fileName,nproc)\n",
    "comm.Barrier(); t2=MPI.Wtime()\n",
    "if(my_id==0):\n",
    "    sys.stdout.write('Load velocity field cost: {0:.2f} seconds\\n'.format(t2-t1))"
   ]
  },
  {
   "cell_type": "code",
   "execution_count": null,
   "metadata": {
    "collapsed": false
   },
   "outputs": [],
   "source": [
    "## Initialize the velocity field having a size of (lx,ly,lz)\n",
    "#vx=ft.zeros_aligned((lx,ly,lz), dtype='float32')\n",
    "#vy=ft.zeros_aligned((lx,ly,lz), dtype='float32')\n",
    "#vz=ft.zeros_aligned((lx,ly,lz), dtype='float32')\n",
    "# Populate velocity field from the Database\n",
    "#comm.Barrier(); t1=MPI.Wtime()\n",
    "#SOAPtdb.loadvel(vx,vy,vz,lx,ly,lz,my_id)\n",
    "#comm.Barrier(); t2=MPI.Wtime()\n",
    "#if(my_id==0):\n",
    "#    sys.stdout.write('Load velocity field cost: {0:.2f} seconds\\n'.format(t2-t1))"
   ]
  },
  {
   "cell_type": "code",
   "execution_count": null,
   "metadata": {
    "collapsed": false
   },
   "outputs": [],
   "source": [
    "# Get wavenumber:\n",
    "myEnergySpc=EnergySpectrum()\n",
    "kx,ky,kz=myEnergySpc.FindWavenumber(lx,ly,lz,my_id)\n",
    "k2=np.zeros((lx,ly,lz_half+1), dtype='float32')\n",
    "np.copyto(k2,kx*kx+ky*ky+kz*kz)\n",
    "k2[0,0,0]=1e-6"
   ]
  },
  {
   "cell_type": "code",
   "execution_count": null,
   "metadata": {
    "collapsed": false
   },
   "outputs": [],
   "source": [
    "# Get velocity field in Fourier space:\n",
    "myFFT3Dfield=FFT3Dfield()\n",
    "comm.Barrier(); t1=MPI.Wtime()\n",
    "cvx=myFFT3Dfield.GetFFT3Dfield(vx,lx,ly,lz,nproc,my_id)\n",
    "cvy=myFFT3Dfield.GetFFT3Dfield(vy,lx,ly,lz,nproc,my_id)\n",
    "cvz=myFFT3Dfield.GetFFT3Dfield(vz,lx,ly,lz,nproc,my_id)\n",
    "comm.Barrier(); t2=MPI.Wtime()\n",
    "if(my_id==0):\n",
    "    sys.stdout.write('FFT cost: {0:.2f} seconds\\n'.format(t2-t1))"
   ]
  },
  {
   "cell_type": "code",
   "execution_count": null,
   "metadata": {
    "collapsed": true
   },
   "outputs": [],
   "source": [
    "## Get energy spectrum in Fourier space\n",
    "ek_unfltrd=myEnergySpc.GetSpectrumFromComplexField(cvx,cvy,cvz,k2,lx,ly,lz,nek,nproc,my_id)"
   ]
  },
  {
   "cell_type": "code",
   "execution_count": null,
   "metadata": {
    "collapsed": false
   },
   "outputs": [],
   "source": [
    "%matplotlib inline\n",
    "import matplotlib\n",
    "import matplotlib.pyplot as plt\n",
    "import numpy as np\n",
    "import math\n",
    "if my_id==0:\n",
    "    SIZE = 12\n",
    "    plt.rc('font', size=SIZE)  # controls default text sizes\n",
    "    plt.rc('axes', titlesize=SIZE+4)  # fontsize of the axes title\n",
    "    plt.rc('axes', labelsize=SIZE+4)  # fontsize of the x any y labels\n",
    "    plt.rc('xtick', labelsize=SIZE)  # fontsize of the tick labels\n",
    "    plt.rc('ytick', labelsize=SIZE)  # fontsize of the tick labels\n",
    "    plt.rc('legend', fontsize=SIZE+3)  # legend fontsize\n",
    "    #plt.rc('figure', titlesize=SIZE)  # # size of the figure title\n",
    "    ks=np.linspace(1,nek,nek)\n",
    "    plt.figure(figsize=(6,6))\n",
    "\n",
    "    plt.loglog(ks,ek_unfltrd,'r',label='Unfiltered')"
   ]
  },
  {
   "cell_type": "code",
   "execution_count": null,
   "metadata": {
    "collapsed": true
   },
   "outputs": [],
   "source": [
    "kappa_c=100.0\n",
    "## Filter the velocity field using the GAUSSIAN filter\n",
    "myFilter=Filters()\n",
    "cvx1=myFilter.FilterTheComplexField(cvx,k2,kappa_c,'gaussian')\n",
    "cvy1=myFilter.FilterTheComplexField(cvy,k2,kappa_c,'gaussian')\n",
    "cvz1=myFilter.FilterTheComplexField(cvz,k2,kappa_c,'gaussian')\n",
    "\n",
    "ek_gaussian=myEnergySpc.GetSpectrumFromComplexField(cvx1,cvy1,cvz1,k2,lx,ly,lz,nek,nproc,my_id)\n",
    "\n",
    "if my_id==0:\n",
    "    SIZE = 12\n",
    "    plt.rc('font', size=SIZE)  # controls default text sizes\n",
    "    plt.rc('axes', titlesize=SIZE+4)  # fontsize of the axes title\n",
    "    plt.rc('axes', labelsize=SIZE+4)  # fontsize of the x any y labels\n",
    "    plt.rc('xtick', labelsize=SIZE)  # fontsize of the tick labels\n",
    "    plt.rc('ytick', labelsize=SIZE)  # fontsize of the tick labels\n",
    "    plt.rc('legend', fontsize=SIZE+3)  # legend fontsize\n",
    "    #plt.rc('figure', titlesize=SIZE)  # # size of the figure title\n",
    "    ks=np.linspace(1,nek,nek)    \n",
    "\n",
    "    plt.loglog(ks,ek_gaussian,'g',label='Gaussian')\n",
    "    \n",
    "del cvx1\n",
    "del cvy1\n",
    "del cvz1"
   ]
  },
  {
   "cell_type": "code",
   "execution_count": null,
   "metadata": {
    "collapsed": true
   },
   "outputs": [],
   "source": [
    "kappa_c=100.0\n",
    "## Filter the velocity field using the GAUSSIAN filter\n",
    "myFilter=Filters()\n",
    "cvx1=myFilter.FilterTheComplexField(cvx,k2,kappa_c,'sharp')\n",
    "cvy1=myFilter.FilterTheComplexField(cvy,k2,kappa_c,'sharp')\n",
    "cvz1=myFilter.FilterTheComplexField(cvz,k2,kappa_c,'sharp')\n",
    "\n",
    "ek_sharp=myEnergySpc.GetSpectrumFromComplexField(cvx1,cvy1,cvz1,k2,lx,ly,lz,nek,nproc,my_id)\n",
    "\n",
    "if my_id==0:\n",
    "    SIZE = 12\n",
    "    plt.rc('font', size=SIZE)  # controls default text sizes\n",
    "    plt.rc('axes', titlesize=SIZE+4)  # fontsize of the axes title\n",
    "    plt.rc('axes', labelsize=SIZE+4)  # fontsize of the x any y labels\n",
    "    plt.rc('xtick', labelsize=SIZE)  # fontsize of the tick labels\n",
    "    plt.rc('ytick', labelsize=SIZE)  # fontsize of the tick labels\n",
    "    plt.rc('legend', fontsize=SIZE+3)  # legend fontsize\n",
    "    #plt.rc('figure', titlesize=SIZE)  # # size of the figure title\n",
    "    ks=np.linspace(1,nek,nek)    \n",
    "\n",
    "    plt.loglog(ks,ek_sharp,'b',label='sharp')\n",
    "    \n",
    "del cvx1\n",
    "del cvy1\n",
    "del cvz1"
   ]
  },
  {
   "cell_type": "code",
   "execution_count": null,
   "metadata": {
    "collapsed": true
   },
   "outputs": [],
   "source": [
    "kappa_c=100.0\n",
    "## Filter the velocity field using the GAUSSIAN filter\n",
    "myFilter=Filters()\n",
    "cvx1=myFilter.FilterTheComplexField(cvx,k2,kappa_c,'box')\n",
    "cvy1=myFilter.FilterTheComplexField(cvy,k2,kappa_c,'box')\n",
    "cvz1=myFilter.FilterTheComplexField(cvz,k2,kappa_c,'box')\n",
    "\n",
    "ek_box=myEnergySpc.GetSpectrumFromComplexField(cvx1,cvy1,cvz1,k2,lx,ly,lz,nek,nproc,my_id)\n",
    "\n",
    "if my_id==0:\n",
    "    SIZE = 12\n",
    "    plt.rc('font', size=SIZE)  # controls default text sizes\n",
    "    plt.rc('axes', titlesize=SIZE+4)  # fontsize of the axes title\n",
    "    plt.rc('axes', labelsize=SIZE+4)  # fontsize of the x any y labels\n",
    "    plt.rc('xtick', labelsize=SIZE)  # fontsize of the tick labels\n",
    "    plt.rc('ytick', labelsize=SIZE)  # fontsize of the tick labels\n",
    "    plt.rc('legend', fontsize=SIZE+3)  # legend fontsize\n",
    "    #plt.rc('figure', titlesize=SIZE)  # # size of the figure title\n",
    "    ks=np.linspace(1,nek,nek)    \n",
    "\n",
    "    plt.loglog(ks,ek_gaussian,'y',label='box')\n",
    "    \n",
    "del cvx1\n",
    "del cvy1\n",
    "del cvz1"
   ]
  },
  {
   "cell_type": "code",
   "execution_count": null,
   "metadata": {
    "collapsed": true
   },
   "outputs": [],
   "source": [
    "if my_id==0:\n",
    "    plt.xlabel('$\\kappa$')\n",
    "    plt.ylabel('$E(\\kappa)$')\n",
    "    plt.axis([0.0,1000.0, 1e-10,1.0])\n",
    "    plt.legend(loc=0, shadow=True) #loc='upper center'\n",
    "    ax = plt.gca()\n",
    "    ax.set_autoscale_on(False)\n",
    "    #plt.savefig('EnrgySpec_all.eps', format='eps', dpi=1200)"
   ]
  },
  {
   "cell_type": "code",
   "execution_count": null,
   "metadata": {
    "collapsed": false
   },
   "outputs": [],
   "source": [
    "sync=view.run('test4Class_Filters_all.py')\n",
    "sync.display_outputs()"
   ]
  },
  {
   "cell_type": "code",
   "execution_count": null,
   "metadata": {
    "collapsed": true
   },
   "outputs": [],
   "source": [
    "nproc=rc[0].get('nproc')\n",
    "for i in range(nproc):\n",
    "    if(rc[i].get('my_id')==0):\n",
    "        e0=rc[i]\n",
    "        id_e0=i\n",
    "        break"
   ]
  },
  {
   "cell_type": "code",
   "execution_count": null,
   "metadata": {
    "collapsed": false
   },
   "outputs": [],
   "source": [
    "%matplotlib inline\n",
    "import matplotlib\n",
    "import matplotlib.pyplot as plt\n",
    "import numpy as np\n",
    "import math\n",
    "\n",
    "#matplotlib.rcParams.update({'font.size': 18})\n",
    "#matplotlib.rc('xtick', labelsize=20) \n",
    "#matplotlib.rc('ytick', labelsize=20)\n",
    "#matplotlib.rc('xlabel', labelsize=20) \n",
    "#matplotlib.rc('ylabel', labelsize=20)\n",
    "#axis_font = {'size':'14'} #{'fontname':'Arial', 'size':'14'}\n",
    "\n",
    "SIZE = 12\n",
    "plt.rc('font', size=SIZE)  # controls default text sizes\n",
    "plt.rc('axes', titlesize=SIZE+4)  # fontsize of the axes title\n",
    "plt.rc('axes', labelsize=SIZE+4)  # fontsize of the x any y labels\n",
    "plt.rc('xtick', labelsize=SIZE)  # fontsize of the tick labels\n",
    "plt.rc('ytick', labelsize=SIZE)  # fontsize of the tick labels\n",
    "plt.rc('legend', fontsize=SIZE+3)  # legend fontsize\n",
    "#plt.rc('figure', titlesize=SIZE)  # # size of the figure title\n",
    "\n",
    "\n",
    "nek=e0.get('nek')\n",
    "ks=np.linspace(1,nek,nek)\n",
    "ek_all=e0.get('ek_all')\n",
    "ek_gaussian=e0.get('ek_gaussian')\n",
    "ek_sharp=e0.get('ek_sharp')\n",
    "ek_box=e0.get('ek_box')\n",
    "\n",
    "plt.figure(figsize=(6,6))\n",
    "plt.loglog(ks,ek_all,'r',label='Unfiltered')\n",
    "plt.loglog(ks,ek_gaussian,'b',label='Gaussian ($\\kappa_c=100$)')\n",
    "plt.loglog(ks,ek_sharp,'g',label='Sharp ($\\kappa_c=100$)')\n",
    "plt.loglog(ks,ek_box,'y',label='Box ($\\kappa_c=100$)')\n",
    "plt.loglog(ks,np.power(ks,-5/3),'k')\n",
    "plt.loglog([100,100],[1.e-10,1],'k--')\n",
    "plt.xlabel('$\\kappa$')\n",
    "plt.ylabel('$E(\\kappa)$')\n",
    "plt.axis([0.0,1000.0, 1e-10,1.0])\n",
    "plt.legend(loc=0, shadow=True) #loc='upper center'\n",
    "ax = plt.gca()\n",
    "ax.set_autoscale_on(False)\n",
    "plt.savefig('EnrgySpec_all.eps', format='eps', dpi=1200)"
   ]
  },
  {
   "cell_type": "code",
   "execution_count": null,
   "metadata": {
    "collapsed": true
   },
   "outputs": [],
   "source": []
  }
 ],
 "metadata": {
  "kernelspec": {
   "display_name": "Python 3",
   "language": "python",
   "name": "python3"
  },
  "language_info": {
   "codemirror_mode": {
    "name": "ipython",
    "version": 3
   },
   "file_extension": ".py",
   "mimetype": "text/x-python",
   "name": "python",
   "nbconvert_exporter": "python",
   "pygments_lexer": "ipython3",
   "version": "3.5.2"
  }
 },
 "nbformat": 4,
 "nbformat_minor": 0
}
