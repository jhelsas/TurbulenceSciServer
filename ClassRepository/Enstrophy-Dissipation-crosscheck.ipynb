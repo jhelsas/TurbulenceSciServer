{
 "cells": [
  {
   "cell_type": "code",
   "execution_count": 2,
   "metadata": {
    "collapsed": false
   },
   "outputs": [],
   "source": [
    "#!ipcluster start -n 8 --engines=MPI --profile='mpi' # for parallel run: start the engines using terminal\n",
    "from ipyparallel import Client\n",
    "rc = Client(profile='default')"
   ]
  },
  {
   "cell_type": "code",
   "execution_count": 4,
   "metadata": {
    "collapsed": false
   },
   "outputs": [
    {
     "ename": "CompositeError",
     "evalue": "one or more exceptions from call to method: execute\n[0:execute]: ImportError: No module named 'fft3d'\n[1:execute]: ImportError: No module named 'fft3d'\n[2:execute]: ImportError: No module named 'fft3d'\n[3:execute]: ImportError: No module named 'fft3d'\n.... 4 more exceptions ...",
     "output_type": "error",
     "traceback": [
      "[0:execute]: ",
      "\u001b[1;31m\u001b[0m\u001b[1;31mImportError\u001b[0mTraceback (most recent call last)\u001b[1;32m<ipython-input-1-ab18bf4e5f2b>\u001b[0m in \u001b[0;36m<module>\u001b[1;34m()\u001b[0m",
      "\u001b[0;32m     13\u001b[0m \u001b[1;32mfrom\u001b[0m \u001b[0mpyJHTDB\u001b[0m \u001b[1;32mimport\u001b[0m \u001b[0mlibJHTDB\u001b[0m\u001b[1;33m\u001b[0m\u001b[0m",
      "\u001b[0;32m     14\u001b[0m \u001b[1;33m\u001b[0m\u001b[0m",
      "\u001b[1;32m---> 15\u001b[1;33m \u001b[1;32mfrom\u001b[0m \u001b[0mfft3d\u001b[0m \u001b[1;32mimport\u001b[0m \u001b[0mFFT3Dfield_new\u001b[0m\u001b[1;33m\u001b[0m\u001b[0m",
      "\u001b[0m\u001b[0;32m     16\u001b[0m \u001b[1;32mfrom\u001b[0m \u001b[0mEnergySpectrum\u001b[0m \u001b[1;32mimport\u001b[0m \u001b[0mEnergySpectrum\u001b[0m\u001b[1;33m\u001b[0m\u001b[0m",
      "\u001b[1;31mImportError\u001b[0m: No module named 'fft3d'",
      "",
      "[1:execute]: ",
      "\u001b[1;31m\u001b[0m\u001b[1;31mImportError\u001b[0mTraceback (most recent call last)\u001b[1;32m<ipython-input-1-ab18bf4e5f2b>\u001b[0m in \u001b[0;36m<module>\u001b[1;34m()\u001b[0m",
      "\u001b[0;32m     13\u001b[0m \u001b[1;32mfrom\u001b[0m \u001b[0mpyJHTDB\u001b[0m \u001b[1;32mimport\u001b[0m \u001b[0mlibJHTDB\u001b[0m\u001b[1;33m\u001b[0m\u001b[0m",
      "\u001b[0;32m     14\u001b[0m \u001b[1;33m\u001b[0m\u001b[0m",
      "\u001b[1;32m---> 15\u001b[1;33m \u001b[1;32mfrom\u001b[0m \u001b[0mfft3d\u001b[0m \u001b[1;32mimport\u001b[0m \u001b[0mFFT3Dfield_new\u001b[0m\u001b[1;33m\u001b[0m\u001b[0m",
      "\u001b[0m\u001b[0;32m     16\u001b[0m \u001b[1;32mfrom\u001b[0m \u001b[0mEnergySpectrum\u001b[0m \u001b[1;32mimport\u001b[0m \u001b[0mEnergySpectrum\u001b[0m\u001b[1;33m\u001b[0m\u001b[0m",
      "\u001b[1;31mImportError\u001b[0m: No module named 'fft3d'",
      "",
      "[2:execute]: ",
      "\u001b[1;31m\u001b[0m\u001b[1;31mImportError\u001b[0mTraceback (most recent call last)\u001b[1;32m<ipython-input-1-ab18bf4e5f2b>\u001b[0m in \u001b[0;36m<module>\u001b[1;34m()\u001b[0m",
      "\u001b[0;32m     13\u001b[0m \u001b[1;32mfrom\u001b[0m \u001b[0mpyJHTDB\u001b[0m \u001b[1;32mimport\u001b[0m \u001b[0mlibJHTDB\u001b[0m\u001b[1;33m\u001b[0m\u001b[0m",
      "\u001b[0;32m     14\u001b[0m \u001b[1;33m\u001b[0m\u001b[0m",
      "\u001b[1;32m---> 15\u001b[1;33m \u001b[1;32mfrom\u001b[0m \u001b[0mfft3d\u001b[0m \u001b[1;32mimport\u001b[0m \u001b[0mFFT3Dfield_new\u001b[0m\u001b[1;33m\u001b[0m\u001b[0m",
      "\u001b[0m\u001b[0;32m     16\u001b[0m \u001b[1;32mfrom\u001b[0m \u001b[0mEnergySpectrum\u001b[0m \u001b[1;32mimport\u001b[0m \u001b[0mEnergySpectrum\u001b[0m\u001b[1;33m\u001b[0m\u001b[0m",
      "\u001b[1;31mImportError\u001b[0m: No module named 'fft3d'",
      "",
      "[3:execute]: ",
      "\u001b[1;31m\u001b[0m\u001b[1;31mImportError\u001b[0mTraceback (most recent call last)\u001b[1;32m<ipython-input-1-ab18bf4e5f2b>\u001b[0m in \u001b[0;36m<module>\u001b[1;34m()\u001b[0m",
      "\u001b[0;32m     13\u001b[0m \u001b[1;32mfrom\u001b[0m \u001b[0mpyJHTDB\u001b[0m \u001b[1;32mimport\u001b[0m \u001b[0mlibJHTDB\u001b[0m\u001b[1;33m\u001b[0m\u001b[0m",
      "\u001b[0;32m     14\u001b[0m \u001b[1;33m\u001b[0m\u001b[0m",
      "\u001b[1;32m---> 15\u001b[1;33m \u001b[1;32mfrom\u001b[0m \u001b[0mfft3d\u001b[0m \u001b[1;32mimport\u001b[0m \u001b[0mFFT3Dfield_new\u001b[0m\u001b[1;33m\u001b[0m\u001b[0m",
      "\u001b[0m\u001b[0;32m     16\u001b[0m \u001b[1;32mfrom\u001b[0m \u001b[0mEnergySpectrum\u001b[0m \u001b[1;32mimport\u001b[0m \u001b[0mEnergySpectrum\u001b[0m\u001b[1;33m\u001b[0m\u001b[0m",
      "\u001b[1;31mImportError\u001b[0m: No module named 'fft3d'",
      "",
      "... 4 more exceptions ..."
     ]
    }
   ],
   "source": [
    "%%px\n",
    "# Import the libraries\n",
    "\n",
    "import os\n",
    "import sys\n",
    "import math\n",
    "import numpy as np\n",
    "import pyfftw as ft \n",
    "from mpi4py import MPI\n",
    "import matplotlib\n",
    "import matplotlib.pyplot as plt\n",
    "import pyJHTDB\n",
    "from pyJHTDB.dbinfo import isotropic1024coarse\n",
    "from pyJHTDB import libJHTDB\n",
    "\n",
    "from fft3d import FFT3Dfield_new\n",
    "from EnergySpectrum import EnergySpectrum"
   ]
  },
  {
   "cell_type": "code",
   "execution_count": 3,
   "metadata": {
    "collapsed": false
   },
   "outputs": [
    {
     "name": "stdout",
     "output_type": "stream",
     "text": [
      "[stdout:1] \n",
      "n_proc = 8\n",
      "rank = 0\n"
     ]
    }
   ],
   "source": [
    "%%px\n",
    "\n",
    "comm = MPI.COMM_WORLD; rank = comm.Get_rank(); nproc = comm.Get_size()\n",
    "if(rank==0):\n",
    "    print(\"n_proc = \"+str(nproc))\n",
    "    print(\"rank = \"+str(rank))\n",
    "\n",
    "# pyJHTDB parameters\n",
    "    \n",
    "Nx = isotropic1024coarse['nx']; Ny = isotropic1024coarse['ny']; Nz = isotropic1024coarse['nz']\n",
    "Lx = isotropic1024coarse['lx']; Ly = isotropic1024coarse['ly']; Lz = isotropic1024coarse['lz']\n",
    "auth_key = \"com.gmail.jhelsas-b854269a\"\n",
    " \n",
    "# Computational Domain\n",
    "\n",
    "nx=Nx//nproc; ny=Ny; nz=Nz\n",
    "nek=int(math.sqrt(2.0)/3*Nx)\n",
    "time = 0.0\n",
    "\n",
    "chkSz = 32\n",
    "slabs = nx//chkSz"
   ]
  },
  {
   "cell_type": "code",
   "execution_count": 4,
   "metadata": {
    "collapsed": false
   },
   "outputs": [
    {
     "name": "stdout",
     "output_type": "stream",
     "text": [
      "[stdout:1] \n",
      "Starting the loading process\n",
      "Finished loading\n",
      "Load from disk: 292.18 seconds\n",
      "vx shape = (128, 1024, 1024)\n"
     ]
    }
   ],
   "source": [
    "%%px\n",
    "\n",
    "vx = ft.zeros_aligned((nx,ny,nz), dtype='float32')\n",
    "vy = ft.zeros_aligned((nx,ny,nz), dtype='float32')\n",
    "vz = ft.zeros_aligned((nx,ny,nz), dtype='float32')\n",
    "\n",
    "# Populate velocity field from the Database\n",
    "\n",
    "if(rank==0):\n",
    "    print(\"Starting the loading process\")\n",
    "\n",
    "##########################################\n",
    "load_from_file = True\n",
    "\n",
    "folder = \"/home/idies/workspace/scratch\"\n",
    "filename = \"check-isotropic1024coarse-\"+str(rank)+\"-(t=\"+str(time)+\")\"+\".npz\"\n",
    "file = folder + \"/\" + filename\n",
    "\n",
    "if(load_from_file):\n",
    "    comm.Barrier(); t1=MPI.Wtime()\n",
    "    content = np.load(file)\n",
    "    if(int(content['nproc'])!=nproc):\n",
    "        print(\"Unmatched number of processes. Must first pre-process to adequate number of process\")\n",
    "    vx = content['vx']\n",
    "    vy = content['vy']\n",
    "    vz = content['vz']\n",
    "    comm.Barrier(); t2=MPI.Wtime()\n",
    "    if(rank==0):\n",
    "        print(\"Finished loading\")\n",
    "        sys.stdout.write('Load from disk: {0:.2f} seconds\\n'.format(t2-t1))\n",
    "else:\n",
    "    comm.Barrier(); t1=MPI.Wtime()\n",
    "    lJHTDB = libJHTDB()\n",
    "    lJHTDB.initialize()\n",
    "    ud = []\n",
    "    for k in range(slabs):\n",
    "        if(rank==0):\n",
    "            print(k)\n",
    "        start = np.array([rank*nx+k*chkSz, 0, 0],dtype=np.int)\n",
    "        width = np.array([chkSz,ny,nz],dtype=np.int)\n",
    "        #start = np.array([ 0, 0, rank*nx+k*chkSz],dtype=np.int)\n",
    "        ud.append(lJHTDB.getRawData(time,start,width, \n",
    "                                    data_set = 'isotropic1024coarse',\n",
    "                                    getFunction = 'Velocity') )\n",
    "    \n",
    "    lJHTDB.finalize()\n",
    "    comm.Barrier(); t2=MPI.Wtime()\n",
    "    if(rank==0):\n",
    "        print(\"Finished loading\")\n",
    "        sys.stdout.write('Load field from database: {0:.2f} seconds\\n'.format(t2-t1))\n",
    "    \n",
    "    u = np.concatenate(ud,axis=2)\n",
    "    comm.Barrier(); t1=MPI.Wtime()\n",
    "    if(rank==0):\n",
    "        sys.stdout.write('Concatenate: {0:.2f} seconds\\n'.format(t1-t2))\n",
    "    \n",
    "    rsh = np.transpose(u,(2,1,0,3))\n",
    "    comm.Barrier(); t2=MPI.Wtime()\n",
    "    if(rank==0):\n",
    "        sys.stdout.write('Transpose: {0:.2f} seconds\\n'.format(t2-t1))\n",
    "    ##########################################\n",
    "    \n",
    "    vx[:,:,:] = rsh[:,:,:,0]\n",
    "    vy[:,:,:] = rsh[:,:,:,1]\n",
    "    vz[:,:,:] = rsh[:,:,:,2]\n",
    "    comm.Barrier(); t1=MPI.Wtime()\n",
    "    if(rank==0):\n",
    "        sys.stdout.write('Splitting: {0:.2f} seconds\\n'.format(t1-t2))\n",
    "    \n",
    "    np.savez(file,vx=vx,vy=vy,vz=vz,nproc=nproc)\n",
    "    comm.Barrier(); t2=MPI.Wtime()\n",
    "    if(rank==0):\n",
    "        sys.stdout.write('Caching the data: {0:.2f} seconds\\n'.format(t2-t1))\n",
    "\n",
    "\n",
    "if(rank==0):\n",
    "    print(\"vx shape = \"+str(vx.shape))       "
   ]
  },
  {
   "cell_type": "code",
   "execution_count": 6,
   "metadata": {
    "collapsed": false
   },
   "outputs": [
    {
     "name": "stdout",
     "output_type": "stream",
     "text": [
      "[stdout:1] Calculate all wavenumbers: 29.12 seconds\n"
     ]
    }
   ],
   "source": [
    "%%px\n",
    "\n",
    "comm.Barrier(); t1=MPI.Wtime()\n",
    "# Get wavenumber:\n",
    "myEnergySpc=EnergySpectrum()\n",
    "kx,ky,kz=myEnergySpc.FindWavenumber(nx,ny,nz,rank)\n",
    "k2=np.zeros((nx,ny,(nz//2)+1), dtype='float32')\n",
    "np.copyto(k2,kx*kx+ky*ky+kz*kz)\n",
    "k2[0,0,0]=1e-6\n",
    "\n",
    "comm.Barrier(); t2=MPI.Wtime()\n",
    "if(rank==0):\n",
    "    sys.stdout.write('Calculate all wavenumbers: {0:.2f} seconds\\n'.format(t2-t1))"
   ]
  },
  {
   "cell_type": "code",
   "execution_count": 7,
   "metadata": {
    "collapsed": true
   },
   "outputs": [],
   "source": [
    "%%px \n",
    "\n",
    "fft = FFT3Dfield_new(nx,ny,nz,nproc,rank)"
   ]
  },
  {
   "cell_type": "code",
   "execution_count": 8,
   "metadata": {
    "collapsed": true
   },
   "outputs": [],
   "source": [
    "%%px\n",
    "\n",
    "cvx = ft.zeros_aligned((nx,ny,1+(nz//2)), dtype='complex64')\n",
    "cvy = ft.zeros_aligned((nx,ny,1+(nz//2)), dtype='complex64')\n",
    "cvz = ft.zeros_aligned((nx,ny,1+(nz//2)), dtype='complex64')"
   ]
  },
  {
   "cell_type": "code",
   "execution_count": 9,
   "metadata": {
    "collapsed": false
   },
   "outputs": [
    {
     "name": "stdout",
     "output_type": "stream",
     "text": [
      "[stdout:1] Calculate 3D spatial FFT: 185.30 seconds\n"
     ]
    }
   ],
   "source": [
    "%%px\n",
    "comm.Barrier(); t1=MPI.Wtime()\n",
    "\n",
    "cvx[:,:,:] = fft.forward3Dfft(vx,nx,ny,nz,nproc,rank)\n",
    "cvy[:,:,:] = fft.forward3Dfft(vy,nx,ny,nz,nproc,rank)\n",
    "cvz[:,:,:] = fft.forward3Dfft(vz,nx,ny,nz,nproc,rank)\n",
    "\n",
    "comm.Barrier(); t2=MPI.Wtime()\n",
    "if(rank==0):\n",
    "    sys.stdout.write('Calculate 3D spatial FFT: {0:.2f} seconds\\n'.format(t2-t1))"
   ]
  },
  {
   "cell_type": "code",
   "execution_count": 10,
   "metadata": {
    "collapsed": false
   },
   "outputs": [
    {
     "name": "stdout",
     "output_type": "stream",
     "text": [
      "[stdout:1] Calculate vorticity in k space: 98.67 seconds\n"
     ]
    }
   ],
   "source": [
    "%%px\n",
    "comm.Barrier(); t1=MPI.Wtime()\n",
    "\n",
    "cwx=0.5*np.complex64(0.0+1.0j)*(ky*cvz-kz*cvy)\n",
    "cwy=0.5*np.complex64(0.0+1.0j)*(kz*cvx-kx*cvz)\n",
    "cwz=0.5*np.complex64(0.0+1.0j)*(kx*cvy-ky*cvx)\n",
    "\n",
    "comm.Barrier(); t2=MPI.Wtime()\n",
    "if(rank==0):\n",
    "    sys.stdout.write('Calculate vorticity in k space: {0:.2f} seconds\\n'.format(t2-t1))"
   ]
  },
  {
   "cell_type": "code",
   "execution_count": 12,
   "metadata": {
    "collapsed": false
   },
   "outputs": [
    {
     "name": "stdout",
     "output_type": "stream",
     "text": [
      "[stdout:1] Calculate strain-rate in k space: 210.52 seconds\n"
     ]
    }
   ],
   "source": [
    "%%px\n",
    "comm.Barrier(); t1=MPI.Wtime()\n",
    "\n",
    "cSxx=np.complex64(0.0+1.0j)*(kx*cvx)\n",
    "cSyy=np.complex64(0.0+1.0j)*(ky*cvy)\n",
    "cSzz=np.complex64(0.0+1.0j)*(kz*cvz)\n",
    "\n",
    "cSxy=0.5*np.complex64(0.0+1.0j)*(kx*cvy+ky*cvx)\n",
    "cSyz=0.5*np.complex64(0.0+1.0j)*(ky*cvz+kz*cvy)\n",
    "cSxz=0.5*np.complex64(0.0+1.0j)*(kx*cvz+kz*cvx)\n",
    "\n",
    "comm.Barrier(); t2=MPI.Wtime()\n",
    "if(rank==0):\n",
    "    sys.stdout.write('Calculate strain-rate in k space: {0:.2f} seconds\\n'.format(t2-t1))"
   ]
  },
  {
   "cell_type": "code",
   "execution_count": null,
   "metadata": {
    "collapsed": true
   },
   "outputs": [],
   "source": [
    "%%px\n",
    "comm.Barrier(); t1=MPI.Wtime()\n",
    "\n",
    "wx = ft.zeros_aligned((nx,ny,nz), dtype='float32')\n",
    "wy = ft.zeros_aligned((nx,ny,nz), dtype='float32')\n",
    "wz = ft.zeros_aligned((nx,ny,nz), dtype='float32')\n",
    "\n",
    "Sxx = ft.zeros_aligned((nx,ny,nz), dtype='float32')\n",
    "Syy = ft.zeros_aligned((nx,ny,nz), dtype='float32')\n",
    "Szz = ft.zeros_aligned((nx,ny,nz), dtype='float32')\n",
    "\n",
    "Sxy = ft.zeros_aligned((nx,ny,nz), dtype='float32')\n",
    "Syz = ft.zeros_aligned((nx,ny,nz), dtype='float32')\n",
    "Sxz = ft.zeros_aligned((nx,ny,nz), dtype='float32')\n",
    "\n",
    "cwx[kz==(Nz//2)] = 0.\n",
    "cwy[kz==(Nz//2)] = 0.\n",
    "cwz[kz==(Nz//2)] = 0.\n",
    "\n",
    "cSxx[kz==(Nz//2)] = 0.\n",
    "cSyy[kz==(Nz//2)] = 0.\n",
    "cSzz[kz==(Nz//2)] = 0.\n",
    "\n",
    "cSxy[kz==(Nz//2)] = 0.\n",
    "cSyz[kz==(Nz//2)] = 0.\n",
    "cSxz[kz==(Nz//2)] = 0.\n",
    "\n",
    "comm.Barrier(); t2=MPI.Wtime()\n",
    "if(rank==0):\n",
    "    sys.stdout.write('Alocating memory in real space and cleaning odd-ball wavenumber: {0:.2f} seconds\\n'.format(t2-t1))"
   ]
  },
  {
   "cell_type": "code",
   "execution_count": 16,
   "metadata": {
    "collapsed": false
   },
   "outputs": [
    {
     "name": "stdout",
     "output_type": "stream",
     "text": [
      "[stdout:1] Calculate 3D spatial inverse FFT: 164.41 seconds\n"
     ]
    }
   ],
   "source": [
    "%%px\n",
    "comm.Barrier(); t1=MPI.Wtime()\n",
    "\n",
    "wx[:,:,:]=fft.backward3Dfft(cwx,nx,ny,nz,nproc,rank)\n",
    "wy[:,:,:]=fft.backward3Dfft(cwy,nx,ny,nz,nproc,rank)\n",
    "wz[:,:,:]=fft.backward3Dfft(cwz,nx,ny,nz,nproc,rank)\n",
    "\n",
    "comm.Barrier(); t2=MPI.Wtime()\n",
    "if(rank==0):\n",
    "    sys.stdout.write('Calculate 3D spatial inverse FFT: {0:.2f} seconds\\n'.format(t2-t1))"
   ]
  },
  {
   "cell_type": "code",
   "execution_count": 17,
   "metadata": {
    "collapsed": false
   },
   "outputs": [
    {
     "name": "stdout",
     "output_type": "stream",
     "text": [
      "[stdout:1] Calculate 3D spatial inverse FFT: 423.95 seconds\n"
     ]
    }
   ],
   "source": [
    "%%px\n",
    "comm.Barrier(); t1=MPI.Wtime()\n",
    "\n",
    "Sxx[:,:,:]=fft.backward3Dfft(cSxx,nx,ny,nz,nproc,rank)\n",
    "Syy[:,:,:]=fft.backward3Dfft(cSyy,nx,ny,nz,nproc,rank)\n",
    "Szz[:,:,:]=fft.backward3Dfft(cSzz,nx,ny,nz,nproc,rank)\n",
    "\n",
    "Sxy[:,:,:]=fft.backward3Dfft(cSxy,nx,ny,nz,nproc,rank)\n",
    "Syz[:,:,:]=fft.backward3Dfft(cSyz,nx,ny,nz,nproc,rank)\n",
    "Sxz[:,:,:]=fft.backward3Dfft(cSxz,nx,ny,nz,nproc,rank)\n",
    "\n",
    "comm.Barrier(); t2=MPI.Wtime()\n",
    "if(rank==0):\n",
    "    sys.stdout.write('Calculate 3D spatial inverse FFT: {0:.2f} seconds\\n'.format(t2-t1))"
   ]
  },
  {
   "cell_type": "code",
   "execution_count": null,
   "metadata": {
    "collapsed": true
   },
   "outputs": [],
   "source": [
    "%%px\n",
    "comm.Barrier(); t1=MPI.Wtime()\n",
    "\n",
    "w2 = 2.0*(wx**2+wy**2+wz**2)\n",
    "S2 = Sxx**2+Syy**2+Sz**2+2.0*(Sxy**2+Syz**2+Sxz**2)\n",
    "\n",
    "slabEnstrophy  = np.average(w2)\n",
    "slabStrainrate = np.average(S2)\n",
    "\n",
    "comm.Barrier(); t2=MPI.Wtime()\n",
    "if(rank==0):\n",
    "    sys.stdout.write('Calculate 3D spatial inverse FFT: {0:.2f} seconds\\n'.format(t2-t1))"
   ]
  },
  {
   "cell_type": "code",
   "execution_count": null,
   "metadata": {
    "collapsed": true
   },
   "outputs": [],
   "source": [
    "%%px\n",
    "\n",
    "avgStrain=np.zeros(1,dtype='float32')\n",
    "\n",
    "comm.Reduce([slabStrainrate,MPI.REAL],[avgStrain,MPI.REAL],op=MPI.SUM)\n",
    "avgStrain = avgStrain[0]/nproc\n",
    "avgStrain = comm.bcast(avgStrain, root=0)"
   ]
  },
  {
   "cell_type": "code",
   "execution_count": null,
   "metadata": {
    "collapsed": true
   },
   "outputs": [],
   "source": [
    "%%px\n",
    "\n",
    "avgEnstrophy=np.zeros(1,dtype='float32')\n",
    "\n",
    "comm.Reduce([slabEnstrophy,MPI.REAL],[avgEnstrophy,MPI.REAL],op=MPI.SUM)\n",
    "avgEnstrophy = avgEnstrophy[0]/nproc\n",
    "avgEnstrophy = comm.bcast(avgEnstrophy, root=0)"
   ]
  },
  {
   "cell_type": "code",
   "execution_count": null,
   "metadata": {
    "collapsed": true
   },
   "outputs": [],
   "source": [
    "%%px\n",
    "\n",
    "cacheEnstrophyData = False\n",
    "loadEnstrophyFromCache = True\n",
    "\n",
    "folder = \"/home/idies/workspace/scratch\"\n",
    "filename = \"enstrophy-newFFT-isotropic1024coarse-\"+str(rank)+\"-(t=\"+str(time)+\")\"+\".npz\"\n",
    "file = folder + \"/\" + filename\n",
    "\n",
    "if(loadEnstrophyFromCache):\n",
    "    comm.Barrier(); t1=MPI.Wtime()\n",
    "    content = np.load(file)\n",
    "    \n",
    "    w2 = ft.zeros_aligned((nx,ny,nz), dtype='float32')\n",
    "    \n",
    "    if(int(content['nproc'])!=nproc):\n",
    "        print(\"Unmatched number of processes. Must first pre-process to adequate number of process\")\n",
    "    w2[:,:,:] = content['w2']\n",
    "    \n",
    "    comm.Barrier(); t2=MPI.Wtime()\n",
    "    if(rank==0):\n",
    "        print(\"Finished loading\")\n",
    "        sys.stdout.write('Load from disk: {0:.2f} seconds\\n'.format(t2-t1))\n",
    "\n",
    "if(cacheEnstrophyData):\n",
    "    \n",
    "    comm.Barrier(); t1=MPI.Wtime()\n",
    "    np.savez(file,w2=w2,nproc=nproc)\n",
    "    comm.Barrier(); t2=MPI.Wtime()\n",
    "    if(rank==0):\n",
    "        sys.stdout.write('Caching the data: {0:.2f} seconds\\n'.format(t2-t1))"
   ]
  },
  {
   "cell_type": "code",
   "execution_count": null,
   "metadata": {
    "collapsed": true
   },
   "outputs": [],
   "source": [
    "%%px\n",
    "\n",
    "cacheEnstrophyData = False\n",
    "loadEnstrophyFromCache = True\n",
    "\n",
    "folder = \"/home/idies/workspace/scratch\"\n",
    "filename = \"strainrate-newFFT-isotropic1024coarse-\"+str(rank)+\"-(t=\"+str(time)+\")\"+\".npz\"\n",
    "file = folder + \"/\" + filename\n",
    "\n",
    "if(loadEnstrophyFromCache):\n",
    "    comm.Barrier(); t1=MPI.Wtime()\n",
    "    content = np.load(file)\n",
    "    \n",
    "    w2 = ft.zeros_aligned((nx,ny,nz), dtype='float32')\n",
    "    \n",
    "    if(int(content['nproc'])!=nproc):\n",
    "        print(\"Unmatched number of processes. Must first pre-process to adequate number of process\")\n",
    "    w2[:,:,:] = content['w2']\n",
    "    \n",
    "    comm.Barrier(); t2=MPI.Wtime()\n",
    "    if(rank==0):\n",
    "        print(\"Finished loading\")\n",
    "        sys.stdout.write('Load from disk: {0:.2f} seconds\\n'.format(t2-t1))\n",
    "\n",
    "if(cacheEnstrophyData):\n",
    "    \n",
    "    comm.Barrier(); t1=MPI.Wtime()\n",
    "    np.savez(file,w2=w2,nproc=nproc)\n",
    "    comm.Barrier(); t2=MPI.Wtime()\n",
    "    if(rank==0):\n",
    "        sys.stdout.write('Caching the data: {0:.2f} seconds\\n'.format(t2-t1))"
   ]
  }
 ],
 "metadata": {
  "kernelspec": {
   "display_name": "Python 3",
   "language": "python",
   "name": "python3"
  },
  "language_info": {
   "codemirror_mode": {
    "name": "ipython",
    "version": 3
   },
   "file_extension": ".py",
   "mimetype": "text/x-python",
   "name": "python",
   "nbconvert_exporter": "python",
   "pygments_lexer": "ipython3",
   "version": "3.5.2"
  }
 },
 "nbformat": 4,
 "nbformat_minor": 0
}
