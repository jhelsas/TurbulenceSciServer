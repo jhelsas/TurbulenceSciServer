{
 "cells": [
  {
   "cell_type": "code",
   "execution_count": null,
   "metadata": {
    "collapsed": true
   },
   "outputs": [],
   "source": [
    "# ipcluster start -n 4 --engines=MPI --profile='mpi' # for parallel run: start the engines using terminal"
   ]
  },
  {
   "cell_type": "code",
   "execution_count": 5,
   "metadata": {
    "collapsed": true
   },
   "outputs": [],
   "source": [
    "from ipyparallel import Client\n",
    "rc=Client(profile='mpi')\n",
    "view=rc[:]\n",
    "view.block=True"
   ]
  },
  {
   "cell_type": "code",
   "execution_count": 6,
   "metadata": {
    "collapsed": false
   },
   "outputs": [
    {
     "name": "stdout",
     "output_type": "stream",
     "text": [
      "[stdout:0] \n",
      "MPI id=   3 nx=  1024 ny=  1024 nz=  1024\n",
      "8\n",
      "128\n",
      "[stdout:1] \n",
      "MPI id=   2 nx=  1024 ny=  1024 nz=  1024\n",
      "8\n",
      "128\n",
      "[stdout:2] \n",
      "MPI id=   0 nx=  1024 ny=  1024 nz=  1024\n",
      "8\n",
      "128\n",
      "Load velocity field cost: 16.70 seconds\n",
      "[stdout:3] \n",
      "MPI id=   1 nx=  1024 ny=  1024 nz=  1024\n",
      "8\n",
      "128\n",
      "[stdout:4] \n",
      "MPI id=   4 nx=  1024 ny=  1024 nz=  1024\n",
      "8\n",
      "128\n",
      "[stdout:5] \n",
      "MPI id=   5 nx=  1024 ny=  1024 nz=  1024\n",
      "8\n",
      "128\n",
      "[stdout:6] \n",
      "MPI id=   7 nx=  1024 ny=  1024 nz=  1024\n",
      "8\n",
      "128\n",
      "[stdout:7] \n",
      "MPI id=   6 nx=  1024 ny=  1024 nz=  1024\n",
      "8\n",
      "128\n"
     ]
    }
   ],
   "source": [
    "sync=view.run('test4Class_DatasetOnVM.py')\n",
    "sync.display_outputs()"
   ]
  },
  {
   "cell_type": "code",
   "execution_count": null,
   "metadata": {
    "collapsed": true
   },
   "outputs": [],
   "source": []
  }
 ],
 "metadata": {
  "kernelspec": {
   "display_name": "Python 3",
   "language": "python",
   "name": "python3"
  },
  "language_info": {
   "codemirror_mode": {
    "name": "ipython",
    "version": 3
   },
   "file_extension": ".py",
   "mimetype": "text/x-python",
   "name": "python",
   "nbconvert_exporter": "python",
   "pygments_lexer": "ipython3",
   "version": "3.5.2"
  }
 },
 "nbformat": 4,
 "nbformat_minor": 0
}
