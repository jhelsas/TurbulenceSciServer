{
 "cells": [
  {
   "cell_type": "code",
   "execution_count": 3,
   "metadata": {
    "collapsed": false
   },
   "outputs": [
    {
     "name": "stdout",
     "output_type": "stream",
     "text": [
      "2016-10-20 21:54:43.512 [IPClusterStart] Removing pid file: /home/idies/.ipython/profile_mpi/pid/ipcluster.pid\n",
      "2016-10-20 21:54:43.513 [IPClusterStart] Starting ipcluster with [daemon=False]\n",
      "2016-10-20 21:54:43.515 [IPClusterStart] Creating pid file: /home/idies/.ipython/profile_mpi/pid/ipcluster.pid\n",
      "2016-10-20 21:54:43.515 [IPClusterStart] Starting Controller with LocalControllerLauncher\n",
      "2016-10-20 21:54:44.532 [IPClusterStart] Starting 8 Engines with MPI\n",
      "2016-10-20 21:55:14.561 [IPClusterStart] Engines appear to have started successfully\n",
      "^C\n",
      "2016-10-20 22:36:22.584 [IPClusterStart] ERROR | IPython cluster: stopping\n",
      "2016-10-20 22:36:22.658 [IPClusterStart] Stopping Engines...\n"
     ]
    }
   ],
   "source": [
    "!ipcluster start -n 8 --engines=MPI --profile='mpi' # for parallel run: start the engines using terminal"
   ]
  },
  {
   "cell_type": "code",
   "execution_count": null,
   "metadata": {
    "collapsed": true
   },
   "outputs": [],
   "source": []
  },
  {
   "cell_type": "code",
   "execution_count": null,
   "metadata": {
    "collapsed": true
   },
   "outputs": [],
   "source": []
  }
 ],
 "metadata": {
  "kernelspec": {
   "display_name": "Python 3",
   "language": "python",
   "name": "python3"
  },
  "language_info": {
   "codemirror_mode": {
    "name": "ipython",
    "version": 3
   },
   "file_extension": ".py",
   "mimetype": "text/x-python",
   "name": "python",
   "nbconvert_exporter": "python",
   "pygments_lexer": "ipython3",
   "version": "3.5.2"
  }
 },
 "nbformat": 4,
 "nbformat_minor": 0
}
