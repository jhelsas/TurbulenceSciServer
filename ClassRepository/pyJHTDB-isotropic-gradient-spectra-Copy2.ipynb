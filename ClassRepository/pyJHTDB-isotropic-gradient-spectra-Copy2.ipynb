{
 "cells": [
  {
   "cell_type": "markdown",
   "metadata": {},
   "source": [
    "This notebook is an example of use of 3D FFTs on the Johns Hopkins turbulence databases to calculate vorticity and dissipation rate (strain rate) level curves using spectral derivatives. It is very important that the commented line below, refering to 'ipcluster' to be run in a separate notebook, to start an ipcluster mpi enviroment. Also, the cell magic '%%px' must be present in all cells using mpi."
   ]
  },
  {
   "cell_type": "code",
   "execution_count": 1,
   "metadata": {
    "collapsed": true
   },
   "outputs": [],
   "source": [
    "#!ipcluster start -n 8 --engines=MPI --profile='mpi' # for parallel run: start the engines using terminal\n",
    "from ipyparallel import Client\n",
    "rc = Client(profile='mpi')\n"
   ]
  },
  {
   "cell_type": "markdown",
   "metadata": {},
   "source": [
    "Before anything else, it is necessary to import all libraries, which includes, numpy, pyFFTW for Fourier transform, mpi4py for paralellism, pyJHTDB for download, and the remainder Kun's libraries, FFT3D, IFFT3D and energy spectrum."
   ]
  },
  {
   "cell_type": "code",
   "execution_count": 2,
   "metadata": {
    "collapsed": false
   },
   "outputs": [],
   "source": [
    "%%px\n",
    "# Import the libraries\n",
    "\n",
    "import pyfftw as ft \n",
    "import numpy as np\n",
    "from mpi4py import MPI\n",
    "import math\n",
    "import sys\n",
    "import os\n",
    "import pyJHTDB\n",
    "from pyJHTDB.dbinfo import isotropic1024coarse\n",
    "from pyJHTDB import libJHTDB\n",
    "\n",
    "from FFT3Dfield import FFT3Dfield\n",
    "from IFFT3Dfield import IFFT3Dfield\n",
    "from EnergySpectrum import EnergySpectrum"
   ]
  },
  {
   "cell_type": "markdown",
   "metadata": {},
   "source": [
    "Then we set the parameters related to the dataset we are interested in, which include $N_x$,$N_y$ and $N_z$ for the domain grid, $L_x$,$L_y$ and $L_z$ for the size."
   ]
  },
  {
   "cell_type": "code",
   "execution_count": 3,
   "metadata": {
    "collapsed": true
   },
   "outputs": [],
   "source": [
    "%%px\n",
    "\n",
    "Nx = isotropic1024coarse['nx']\n",
    "Ny = isotropic1024coarse['ny']\n",
    "Nz = isotropic1024coarse['nz']\n",
    "Lx = isotropic1024coarse['lx']\n",
    "Ly = isotropic1024coarse['ly']\n",
    "Lz = isotropic1024coarse['lz']"
   ]
  },
  {
   "cell_type": "markdown",
   "metadata": {},
   "source": [
    "It is necessary to get the data from the MPI communicator, in this case MPI.COMM_WORLD, and inquire each process rank (my_id) and the number of processes."
   ]
  },
  {
   "cell_type": "code",
   "execution_count": 4,
   "metadata": {
    "collapsed": false
   },
   "outputs": [
    {
     "name": "stdout",
     "output_type": "stream",
     "text": [
      "[stdout:2] \n",
      "n_proc = 4\n",
      "my_id = 0\n"
     ]
    }
   ],
   "source": [
    "%%px\n",
    "\n",
    "comm = MPI.COMM_WORLD\n",
    "my_id = comm.Get_rank()\n",
    "nproc = comm.Get_size()\n",
    "if(my_id==0):\n",
    "    print(\"n_proc = \"+str(nproc))\n",
    "    print(\"my_id = \"+str(my_id))"
   ]
  },
  {
   "cell_type": "markdown",
   "metadata": {},
   "source": [
    "The input for Kun's libraries are the local domains, not the complete domains, among processes, do nx is to be split among the number os processes. Ny and Nz are kept, and for the FFT, it is stored only half of the points, via nz_half. "
   ]
  },
  {
   "cell_type": "code",
   "execution_count": 5,
   "metadata": {
    "collapsed": true
   },
   "outputs": [],
   "source": [
    "%%px \n",
    "# Computational Domain\n",
    "\n",
    "nx=Nx//nproc\n",
    "ny=Ny\n",
    "nz=Nz#//nproc\n",
    "nz_half=nz//2\n",
    "nek=int(math.sqrt(2.0)/3*Nx)"
   ]
  },
  {
   "cell_type": "markdown",
   "metadata": {},
   "source": [
    "The maximum chunk size the database can download on a single function call is $1024 \\times 1024 \\times 32$, so we must divide the domain in 32 points wide slabs. The number of slabs is, thefore $n_x/32 = (N_x/nprocs)/32$"
   ]
  },
  {
   "cell_type": "code",
   "execution_count": 6,
   "metadata": {
    "collapsed": false
   },
   "outputs": [
    {
     "name": "stdout",
     "output_type": "stream",
     "text": [
      "[stdout:2] Preparing the appropiate widths\n"
     ]
    }
   ],
   "source": [
    "%%px \n",
    "\n",
    "time = 0.0\n",
    "\n",
    "chkSz = 32\n",
    "slabs = nx//chkSz\n",
    "\n",
    "##########################################\n",
    "\n",
    "if(my_id==0):\n",
    "    print(\"Preparing the appropiate widths\")\n",
    "    \n",
    "##########################################"
   ]
  },
  {
   "cell_type": "markdown",
   "metadata": {},
   "source": [
    "Here is the part that queries the database. Each process calls the database separately using getRawVelocity, similarly to the cutout service. The input must be the queried time, the list of the leftmost corner of the cube, the width of the cube, the dataset and the field required. Here we query the 'isotropic1024coarse' dabase for the velocity field."
   ]
  },
  {
   "cell_type": "code",
   "execution_count": 7,
   "metadata": {
    "collapsed": false
   },
   "outputs": [
    {
     "name": "stdout",
     "output_type": "stream",
     "text": [
      "[stdout:2] \n",
      "Starting the loading process\n",
      "0\n",
      "1\n",
      "2\n",
      "3\n",
      "4\n",
      "5\n",
      "6\n",
      "7\n",
      "Finished loading\n",
      "Load velocity field cost: 271.26 seconds\n"
     ]
    }
   ],
   "source": [
    "%%px\n",
    "# Populate velocity field from the Database\n",
    "comm.Barrier(); t1=MPI.Wtime()\n",
    "\n",
    "if(my_id==0):\n",
    "    print(\"Starting the loading process\")\n",
    "\n",
    "##########################################\n",
    "\n",
    "lJHTDB = libJHTDB()\n",
    "lJHTDB.initialize()\n",
    "ud = []\n",
    "for k in range(slabs):\n",
    "    if(my_id==0):\n",
    "        print(k)\n",
    "    start = np.array([my_id*nx+k*chkSz, 0, 0],dtype=np.int)\n",
    "    width = np.array([chkSz,ny,nz],dtype=np.int)\n",
    "    #start = np.array([ 0, 0, my_id*nx+k*chkSz],dtype=np.int)\n",
    "    ud.append(lJHTDB.getRawData(time,start,width, \n",
    "                               data_set = 'isotropic1024coarse',\n",
    "                               getFunction = 'Velocity') )\n",
    "\n",
    "lJHTDB.finalize()\n",
    "\n",
    "if(my_id==0):\n",
    "    print(\"Finished loading\")\n",
    "\n",
    "comm.Barrier(); t2=MPI.Wtime()\n",
    "if(my_id==0):\n",
    "    sys.stdout.write('Load velocity field cost: {0:.2f} seconds\\n'.format(t2-t1))"
   ]
  },
  {
   "cell_type": "markdown",
   "metadata": {},
   "source": [
    "Afterward, the downloaded data must be concatenated in a single array for each process."
   ]
  },
  {
   "cell_type": "code",
   "execution_count": 8,
   "metadata": {
    "collapsed": false
   },
   "outputs": [
    {
     "name": "stdout",
     "output_type": "stream",
     "text": [
      "[stdout:2] \n",
      "u.shape: seconds\n",
      "(1024, 1024, 256, 3)\n",
      "Concatenate loaded vectors: 14.03 seconds\n"
     ]
    }
   ],
   "source": [
    "%%px\n",
    "\n",
    "comm.Barrier(); t1=MPI.Wtime()\n",
    "u = np.concatenate(ud,axis=2)\n",
    "#u = np.concatenate(ud,axis=0)\n",
    "\n",
    "if(my_id==0):\n",
    "    print('u.shape: seconds\\n'+str(u.shape))\n",
    "\n",
    "comm.Barrier(); t2=MPI.Wtime()\n",
    "if(my_id==0):\n",
    "    sys.stdout.write('Concatenate loaded vectors: {0:.2f} seconds\\n'.format(t2-t1))"
   ]
  },
  {
   "cell_type": "markdown",
   "metadata": {},
   "source": [
    "And then reshaped to properly be manipulated by the fourier transform. The way the downloads stores the data is slightly different from what the library suposed."
   ]
  },
  {
   "cell_type": "code",
   "execution_count": 9,
   "metadata": {
    "collapsed": false
   },
   "outputs": [
    {
     "name": "stdout",
     "output_type": "stream",
     "text": [
      "[stdout:2] Transpose: 0.00 seconds\n"
     ]
    }
   ],
   "source": [
    "%%px\n",
    "\n",
    "comm.Barrier(); t1=MPI.Wtime()\n",
    "\n",
    "rsh = np.transpose(u,(2,1,0,3)) #u.reshape((nx,ny,nz, 3))\n",
    "\n",
    "comm.Barrier(); t2=MPI.Wtime()\n",
    "if(my_id==0):\n",
    "    sys.stdout.write('Transpose: {0:.2f} seconds\\n'.format(t2-t1))"
   ]
  },
  {
   "cell_type": "markdown",
   "metadata": {},
   "source": [
    "Next, it is necessary to split the original 3 component vector field into 3 single component fields, because that is \n",
    "how the FFT library requests it's inputs. Also, it also requires that the input vectors a aligned. "
   ]
  },
  {
   "cell_type": "code",
   "execution_count": 10,
   "metadata": {
    "collapsed": false
   },
   "outputs": [
    {
     "name": "stdout",
     "output_type": "stream",
     "text": [
      "[stdout:2] \n",
      "vx shape = (256, 1024, 1024)\n",
      "Spliting\n",
      "Split the loaded vector on float32 aligned vectors: 125.11 seconds\n"
     ]
    }
   ],
   "source": [
    "%%px\n",
    "\n",
    "comm.Barrier(); t1=MPI.Wtime()\n",
    "##########################################\n",
    "vx = ft.zeros_aligned((nx,ny,nz), dtype='float32')\n",
    "vy = ft.zeros_aligned((nx,ny,nz), dtype='float32')\n",
    "vz = ft.zeros_aligned((nx,ny,nz), dtype='float32')\n",
    "\n",
    "vx[:,:,:] = rsh[:,:,:,0]\n",
    "vy[:,:,:] = rsh[:,:,:,1]\n",
    "vz[:,:,:] = rsh[:,:,:,2]\n",
    "\n",
    "if(my_id==0):\n",
    "    print(\"vx shape = \"+str(vx.shape))\n",
    "\n",
    "if(my_id==0):\n",
    "    print(\"Spliting\")\n",
    "    \n",
    "comm.Barrier(); t2=MPI.Wtime()\n",
    "if(my_id==0):\n",
    "    sys.stdout.write('Split the loaded vector on float32 aligned vectors: {0:.2f} seconds\\n'.format(t2-t1))\n",
    "\n",
    "##########################################"
   ]
  },
  {
   "cell_type": "markdown",
   "metadata": {},
   "source": [
    "Than, it is necessary to calculate the associated wave-numbers."
   ]
  },
  {
   "cell_type": "code",
   "execution_count": 11,
   "metadata": {
    "collapsed": false
   },
   "outputs": [
    {
     "name": "stdout",
     "output_type": "stream",
     "text": [
      "[stdout:2] Calculate all wavenumbers: 24.45 seconds\n"
     ]
    }
   ],
   "source": [
    "%%px\n",
    "comm.Barrier(); t1=MPI.Wtime()\n",
    "# Get wavenumber:\n",
    "myEnergySpc=EnergySpectrum()\n",
    "kx,ky,kz=myEnergySpc.FindWavenumber(nx,ny,nz,my_id)\n",
    "k2=np.zeros((nx,ny,nz_half+1), dtype='float32')\n",
    "np.copyto(k2,kx*kx+ky*ky+kz*kz)\n",
    "k2[0,0,0]=1e-6\n",
    "\n",
    "comm.Barrier(); t2=MPI.Wtime()\n",
    "if(my_id==0):\n",
    "    sys.stdout.write('Calculate all wavenumbers: {0:.2f} seconds\\n'.format(t2-t1))"
   ]
  },
  {
   "cell_type": "code",
   "execution_count": 12,
   "metadata": {
    "collapsed": false
   },
   "outputs": [
    {
     "name": "stdout",
     "output_type": "stream",
     "text": [
      "[stdout:2] Calculate 3D spatial FFT: 146.86 seconds\n"
     ]
    }
   ],
   "source": [
    "%%px\n",
    "comm.Barrier(); t1=MPI.Wtime()\n",
    "# Get velocity field in Fourier space:\n",
    "myFFT3Dfield=FFT3Dfield()\n",
    "cvx=myFFT3Dfield.GetFFT3Dfield(vx,nx,ny,nz,nproc,my_id)\n",
    "cvy=myFFT3Dfield.GetFFT3Dfield(vy,nx,ny,nz,nproc,my_id)\n",
    "cvz=myFFT3Dfield.GetFFT3Dfield(vz,nx,ny,nz,nproc,my_id)\n",
    "\n",
    "comm.Barrier(); t2=MPI.Wtime()\n",
    "if(my_id==0):\n",
    "    sys.stdout.write('Calculate 3D spatial FFT: {0:.2f} seconds\\n'.format(t2-t1))"
   ]
  },
  {
   "cell_type": "code",
   "execution_count": 13,
   "metadata": {
    "collapsed": false
   },
   "outputs": [
    {
     "name": "stdout",
     "output_type": "stream",
     "text": [
      "[stdout:2] Calculate vorticity in k space: 35.89 seconds\n"
     ]
    }
   ],
   "source": [
    "%%px\n",
    "comm.Barrier(); t1=MPI.Wtime()\n",
    "\n",
    "cwx=np.complex64(0.0+1.0j)*(ky*cvz-kz*cvy)\n",
    "cwy=np.complex64(0.0+1.0j)*(kx*cvz-kz*cvx)\n",
    "cwz=np.complex64(0.0+1.0j)*(kx*cvy-ky*cvx)\n",
    "\n",
    "comm.Barrier(); t2=MPI.Wtime()\n",
    "if(my_id==0):\n",
    "    sys.stdout.write('Calculate vorticity in k space: {0:.2f} seconds\\n'.format(t2-t1))"
   ]
  },
  {
   "cell_type": "code",
   "execution_count": 14,
   "metadata": {
    "collapsed": false
   },
   "outputs": [
    {
     "name": "stdout",
     "output_type": "stream",
     "text": [
      "[stdout:2] \n",
      "cwx.shape = (256, 1024, 513)\n",
      "cwx.shape = (256, 1024, 513)\n",
      "cwx.shape = (256, 1024, 513)\n"
     ]
    }
   ],
   "source": [
    "%%px\n",
    "if(my_id==0):\n",
    "    print(\"cwx.shape = \"+str(cwx.shape))\n",
    "    print(\"cwx.shape = \"+str(cwy.shape))\n",
    "    print(\"cwx.shape = \"+str(cwz.shape))"
   ]
  },
  {
   "cell_type": "code",
   "execution_count": 15,
   "metadata": {
    "collapsed": false
   },
   "outputs": [
    {
     "name": "stdout",
     "output_type": "stream",
     "text": [
      "[stdout:2] Calculate 3d spectra from the spatial vectors: 42.47 seconds\n"
     ]
    }
   ],
   "source": [
    "%%px\n",
    "comm.Barrier(); t1=MPI.Wtime()\n",
    "## Get energy spectrum in Fourier space\n",
    "\n",
    "ek_unfltrd=myEnergySpc.GetSpectrumFromComplexField(cwx,cwy,cwz,k2,nx,ny,nz,nek,nproc,my_id) \n",
    "\n",
    "comm.Barrier(); t2=MPI.Wtime()\n",
    "if(my_id==0):\n",
    "    sys.stdout.write('Calculate 3d spectra from the spatial vectors: {0:.2f} seconds\\n'.format(t2-t1))"
   ]
  },
  {
   "cell_type": "code",
   "execution_count": 16,
   "metadata": {
    "collapsed": false
   },
   "outputs": [
    {
     "data": {
      "text/plain": [
       "[output:2]"
      ]
     },
     "metadata": {},
     "output_type": "display_data"
    },
    {
     "data": {
      "image/png": "[encoded data removed]",
      "text/plain": [
       "<matplotlib.figure.Figure at 0x7f519c18b588>"
      ]
     },
     "metadata": {
      "engine": 2
     },
     "output_type": "display_data"
    }
   ],
   "source": [
    "%%px\n",
    "%matplotlib inline\n",
    "import matplotlib\n",
    "import matplotlib.pyplot as plt\n",
    "import numpy as np\n",
    "import math\n",
    "if my_id==0:\n",
    "    SIZE = 12\n",
    "    plt.rc('font', size=SIZE)  # controls default text sizes\n",
    "    plt.rc('axes', titlesize=SIZE+4)  # fontsize of the axes title\n",
    "    plt.rc('axes', labelsize=SIZE+4)  # fontsize of the x any y labels\n",
    "    plt.rc('xtick', labelsize=SIZE)  # fontsize of the tick labels\n",
    "    plt.rc('ytick', labelsize=SIZE)  # fontsize of the tick labels\n",
    "    plt.rc('legend', fontsize=SIZE+3)  # legend fontsize\n",
    "    #plt.rc('figure', titlesize=SIZE)  # # size of the figure title\n",
    "    ks=np.linspace(1,nek,nek)\n",
    "    plt.figure(figsize=(6,6))\n",
    "\n",
    "    plt.loglog(ks,ek_unfltrd,'r',label='Unfiltered')"
   ]
  },
  {
   "cell_type": "code",
   "execution_count": 18,
   "metadata": {
    "collapsed": false
   },
   "outputs": [
    {
     "name": "stdout",
     "output_type": "stream",
     "text": [
      "[stdout:0] Calculate 3D spatial inverse FFT: 90.51 seconds\n"
     ]
    }
   ],
   "source": [
    "%%px\n",
    "comm.Barrier(); t1=MPI.Wtime()\n",
    "# Get velocity field in Fourier space:\n",
    "\n",
    "miFFT3Dfield=IFFT3Dfield()\n",
    "wx=miFFT3Dfield.GetIFFT3Dfield(cwx,nx,ny,nz,nproc,my_id)\n",
    "wy=miFFT3Dfield.GetIFFT3Dfield(cwy,nx,ny,nz,nproc,my_id)\n",
    "wz=miFFT3Dfield.GetIFFT3Dfield(cwz,nx,ny,nz,nproc,my_id)\n",
    "\n",
    "comm.Barrier(); t2=MPI.Wtime()\n",
    "if(my_id==0):\n",
    "    sys.stdout.write('Calculate 3D spatial inverse FFT: {0:.2f} seconds\\n'.format(t2-t1))"
   ]
  },
  {
   "cell_type": "code",
   "execution_count": 19,
   "metadata": {
    "collapsed": false
   },
   "outputs": [],
   "source": [
    "%%px\n",
    "sigma2_w = np.average(wx**2+wy**2+wz**2)"
   ]
  },
  {
   "cell_type": "code",
   "execution_count": 20,
   "metadata": {
    "collapsed": false
   },
   "outputs": [
    {
     "name": "stdout",
     "output_type": "stream",
     "text": [
      "[stdout:0] sigma2 - 0: 259.287\n",
      "[stdout:1] sigma2 - 4: 234.726\n",
      "[stdout:2] sigma2 - 1: 237.589\n",
      "[stdout:3] sigma2 - 7: 254.313\n",
      "[stdout:4] sigma2 - 6: 257.141\n",
      "[stdout:5] sigma2 - 5: 216.478\n",
      "[stdout:6] sigma2 - 2: 206.276\n",
      "[stdout:7] sigma2 - 3: 199.088\n"
     ]
    }
   ],
   "source": [
    "%%px\n",
    "print(\"sigma2 - \"+str(my_id)+\": \"+str(sigma2_w))"
   ]
  },
  {
   "cell_type": "code",
   "execution_count": 21,
   "metadata": {
    "collapsed": false
   },
   "outputs": [],
   "source": [
    "%%px\n",
    "\n",
    "sw2 = []\n",
    "if(my_id==0):\n",
    "    sw2.append(sigma2_w)\n",
    "    for j in range(1,nproc):\n",
    "        sigma2_w = comm.recv(source=j,tag=11)\n",
    "        sw2.append(sigma2_w)\n",
    "else:\n",
    "    comm.send(sigma2_w,dest=0,tag=11)"
   ]
  },
  {
   "cell_type": "code",
   "execution_count": 22,
   "metadata": {
    "collapsed": false
   },
   "outputs": [
    {
     "name": "stdout",
     "output_type": "stream",
     "text": [
      "[stdout:0] \n",
      "[259.28671, 237.5885, 206.27568, 199.0881, 234.72603, 216.47806, 257.14105, 254.31326]\n",
      "233.112\n",
      "RMS vorticity = \\omega_{rms} = 15.2680117441 s^{-1}\n"
     ]
    }
   ],
   "source": [
    "%%px\n",
    "wrms = 0\n",
    "if(my_id==0):\n",
    "    print(sw2)\n",
    "    sigma2 = np.average(np.array(sw2))\n",
    "    print(sigma2)\n",
    "    wrms = sigma2**0.5\n",
    "    print(\"RMS vorticity = \\omega_{rms} = \"+str(wrms)+\" s^{-1}\")\n",
    "    for j in range(1,nproc):\n",
    "        comm.send(wrms,dest=j,tag=11)\n",
    "else:\n",
    "    wrms = comm.recv(source=0,tag=11)"
   ]
  },
  {
   "cell_type": "code",
   "execution_count": 23,
   "metadata": {
    "collapsed": false
   },
   "outputs": [],
   "source": [
    "%%px \n",
    "wmod = (wx**2+wy**2+wz**2)**0.5"
   ]
  },
  {
   "cell_type": "code",
   "execution_count": 35,
   "metadata": {
    "collapsed": false
   },
   "outputs": [
    {
     "name": "stdout",
     "output_type": "stream",
     "text": [
      "[stdout:0] \n",
      "Process - 0\n",
      "# of points > 20 sigma: 2\n",
      "# of points > 19 sigma: 5\n",
      "# of points > 18 sigma: 65\n",
      "# of points > 17 sigma: 150\n",
      "# of points > 16 sigma: 225\n",
      "# of points > 15 sigma: 313\n",
      "# of points > 14 sigma: 432\n",
      "# of points > 13 sigma: 614\n",
      "# of points > 12 sigma: 945\n",
      "# of points > 11 sigma: 1626\n",
      "# of points > 10 sigma: 3213\n",
      "# of points > 9 sigma: 6882\n",
      "# of points > 8 sigma: 15101\n",
      "# of points > 7 sigma: 34327\n",
      "# of points > 6 sigma: 82219\n",
      "# of points > 5 sigma: 209654\n",
      "# of points > 4 sigma: 594035\n",
      "# of points > 3 sigma: 1929587\n",
      "# of points > 2 sigma: 7496308\n",
      "[stdout:1] \n",
      "Process - 4\n",
      "# of points > 20 sigma: 0\n",
      "# of points > 19 sigma: 0\n",
      "# of points > 18 sigma: 0\n",
      "# of points > 17 sigma: 1\n",
      "# of points > 16 sigma: 28\n",
      "# of points > 15 sigma: 113\n",
      "# of points > 14 sigma: 219\n",
      "# of points > 13 sigma: 377\n",
      "# of points > 12 sigma: 806\n",
      "# of points > 11 sigma: 1675\n",
      "# of points > 10 sigma: 2848\n",
      "# of points > 9 sigma: 5033\n",
      "# of points > 8 sigma: 10153\n",
      "# of points > 7 sigma: 22715\n",
      "# of points > 6 sigma: 56002\n",
      "# of points > 5 sigma: 149943\n",
      "# of points > 4 sigma: 447741\n",
      "# of points > 3 sigma: 1543644\n",
      "# of points > 2 sigma: 6420820\n",
      "[stdout:2] \n",
      "Process - 1\n",
      "# of points > 20 sigma: 0\n",
      "# of points > 19 sigma: 0\n",
      "# of points > 18 sigma: 2\n",
      "# of points > 17 sigma: 4\n",
      "# of points > 16 sigma: 9\n",
      "# of points > 15 sigma: 18\n",
      "# of points > 14 sigma: 48\n",
      "# of points > 13 sigma: 134\n",
      "# of points > 12 sigma: 308\n",
      "# of points > 11 sigma: 678\n",
      "# of points > 10 sigma: 1403\n",
      "# of points > 9 sigma: 3015\n",
      "# of points > 8 sigma: 6929\n",
      "# of points > 7 sigma: 17254\n",
      "# of points > 6 sigma: 45113\n",
      "# of points > 5 sigma: 129322\n",
      "# of points > 4 sigma: 409730\n",
      "# of points > 3 sigma: 1486808\n",
      "# of points > 2 sigma: 6475033\n",
      "[stdout:3] \n",
      "Process - 7\n",
      "# of points > 20 sigma: 10\n",
      "# of points > 19 sigma: 22\n",
      "# of points > 18 sigma: 47\n",
      "# of points > 17 sigma: 107\n",
      "# of points > 16 sigma: 162\n",
      "# of points > 15 sigma: 250\n",
      "# of points > 14 sigma: 392\n",
      "# of points > 13 sigma: 596\n",
      "# of points > 12 sigma: 1007\n",
      "# of points > 11 sigma: 1841\n",
      "# of points > 10 sigma: 3495\n",
      "# of points > 9 sigma: 6995\n",
      "# of points > 8 sigma: 14319\n",
      "# of points > 7 sigma: 31977\n",
      "# of points > 6 sigma: 75626\n",
      "# of points > 5 sigma: 194496\n",
      "# of points > 4 sigma: 557321\n",
      "# of points > 3 sigma: 1833469\n",
      "# of points > 2 sigma: 7271880\n",
      "[stdout:4] \n",
      "Process - 6\n",
      "# of points > 20 sigma: 20\n",
      "# of points > 19 sigma: 34\n",
      "# of points > 18 sigma: 51\n",
      "# of points > 17 sigma: 73\n",
      "# of points > 16 sigma: 109\n",
      "# of points > 15 sigma: 138\n",
      "# of points > 14 sigma: 204\n",
      "# of points > 13 sigma: 324\n",
      "# of points > 12 sigma: 586\n",
      "# of points > 11 sigma: 1190\n",
      "# of points > 10 sigma: 2545\n",
      "# of points > 9 sigma: 5206\n",
      "# of points > 8 sigma: 11352\n",
      "# of points > 7 sigma: 26236\n",
      "# of points > 6 sigma: 65716\n",
      "# of points > 5 sigma: 180810\n",
      "# of points > 4 sigma: 544297\n",
      "# of points > 3 sigma: 1842773\n",
      "# of points > 2 sigma: 7386407\n",
      "[stdout:5] \n",
      "Process - 5\n",
      "# of points > 20 sigma: 7\n",
      "# of points > 19 sigma: 16\n",
      "# of points > 18 sigma: 24\n",
      "# of points > 17 sigma: 30\n",
      "# of points > 16 sigma: 42\n",
      "# of points > 15 sigma: 59\n",
      "# of points > 14 sigma: 90\n",
      "# of points > 13 sigma: 155\n",
      "# of points > 12 sigma: 349\n",
      "# of points > 11 sigma: 895\n",
      "# of points > 10 sigma: 1778\n",
      "# of points > 9 sigma: 3446\n",
      "# of points > 8 sigma: 6925\n",
      "# of points > 7 sigma: 15188\n",
      "# of points > 6 sigma: 37184\n",
      "# of points > 5 sigma: 101934\n",
      "# of points > 4 sigma: 319526\n",
      "# of points > 3 sigma: 1192356\n",
      "# of points > 2 sigma: 5526991\n",
      "[stdout:6] \n",
      "Process - 2\n",
      "# of points > 20 sigma: 1\n",
      "# of points > 19 sigma: 1\n",
      "# of points > 18 sigma: 7\n",
      "# of points > 17 sigma: 11\n",
      "# of points > 16 sigma: 35\n",
      "# of points > 15 sigma: 83\n",
      "# of points > 14 sigma: 161\n",
      "# of points > 13 sigma: 377\n",
      "# of points > 12 sigma: 687\n",
      "# of points > 11 sigma: 1193\n",
      "# of points > 10 sigma: 1957\n",
      "# of points > 9 sigma: 3522\n",
      "# of points > 8 sigma: 6789\n",
      "# of points > 7 sigma: 14700\n",
      "# of points > 6 sigma: 35429\n",
      "# of points > 5 sigma: 96207\n",
      "# of points > 4 sigma: 301940\n",
      "# of points > 3 sigma: 1130685\n",
      "# of points > 2 sigma: 5200479\n",
      "[stdout:7] \n",
      "Process - 3\n",
      "# of points > 20 sigma: 2\n",
      "# of points > 19 sigma: 8\n",
      "# of points > 18 sigma: 18\n",
      "# of points > 17 sigma: 33\n",
      "# of points > 16 sigma: 92\n",
      "# of points > 15 sigma: 192\n",
      "# of points > 14 sigma: 364\n",
      "# of points > 13 sigma: 642\n",
      "# of points > 12 sigma: 1158\n",
      "# of points > 11 sigma: 1973\n",
      "# of points > 10 sigma: 3029\n",
      "# of points > 9 sigma: 4882\n",
      "# of points > 8 sigma: 8944\n",
      "# of points > 7 sigma: 18383\n",
      "# of points > 6 sigma: 42254\n",
      "# of points > 5 sigma: 107257\n",
      "# of points > 4 sigma: 317866\n",
      "# of points > 3 sigma: 1119610\n",
      "# of points > 2 sigma: 4932115\n"
     ]
    }
   ],
   "source": [
    "%%px\n",
    "print(\"Process - \"+str(my_id))\n",
    "for i in range(20,1,-1):\n",
    "    wtrsh = wmod[wmod>i*wrms]\n",
    "    print(\"# of points > \"+str(i)+\" sigma: \"+str(wtrsh.shape[0]))"
   ]
  },
  {
   "cell_type": "code",
   "execution_count": 25,
   "metadata": {
    "collapsed": false
   },
   "outputs": [
    {
     "name": "stdout",
     "output_type": "stream",
     "text": [
      "[stdout:0] Calculate vorticity in k space: 34.56 seconds\n"
     ]
    }
   ],
   "source": [
    "%%px\n",
    "comm.Barrier(); t1=MPI.Wtime()\n",
    "\n",
    "cSxx=np.complex64(0.0+0.5j)*(kx*cvx+kx*cvx)\n",
    "cSyy=np.complex64(0.0+0.5j)*(ky*cvy+ky*cvy)\n",
    "cSzz=np.complex64(0.0+0.5j)*(kz*cvz+kz*cvz)\n",
    "cSyz=np.complex64(0.0+0.5j)*(ky*cvz+kz*cvy)\n",
    "cSxz=np.complex64(0.0+0.5j)*(kx*cvz+kz*cvx)\n",
    "cSxy=np.complex64(0.0+0.5j)*(kx*cvy+ky*cvx)\n",
    "\n",
    "comm.Barrier(); t2=MPI.Wtime()\n",
    "if(my_id==0):\n",
    "    sys.stdout.write('Calculate vorticity in k space: {0:.2f} seconds\\n'.format(t2-t1))"
   ]
  },
  {
   "cell_type": "code",
   "execution_count": 26,
   "metadata": {
    "collapsed": false
   },
   "outputs": [
    {
     "name": "stdout",
     "output_type": "stream",
     "text": [
      "[stdout:0] Calculate 3D spatial inverse FFT: 166.20 seconds\n"
     ]
    }
   ],
   "source": [
    "%%px\n",
    "comm.Barrier(); t1=MPI.Wtime()\n",
    "# Get velocity field in Fourier space:\n",
    "\n",
    "miFFT3Dfield=IFFT3Dfield()\n",
    "Sxx=miFFT3Dfield.GetIFFT3Dfield(cSxx,nx,ny,nz,nproc,my_id)\n",
    "Syy=miFFT3Dfield.GetIFFT3Dfield(cSyy,nx,ny,nz,nproc,my_id)\n",
    "Szz=miFFT3Dfield.GetIFFT3Dfield(cSzz,nx,ny,nz,nproc,my_id)\n",
    "Syz=miFFT3Dfield.GetIFFT3Dfield(cSyz,nx,ny,nz,nproc,my_id)\n",
    "Sxz=miFFT3Dfield.GetIFFT3Dfield(cSxz,nx,ny,nz,nproc,my_id)\n",
    "Sxy=miFFT3Dfield.GetIFFT3Dfield(cSxy,nx,ny,nz,nproc,my_id)\n",
    "\n",
    "comm.Barrier(); t2=MPI.Wtime()\n",
    "if(my_id==0):\n",
    "    sys.stdout.write('Calculate 3D spatial inverse FFT: {0:.2f} seconds\\n'.format(t2-t1))"
   ]
  },
  {
   "cell_type": "code",
   "execution_count": 28,
   "metadata": {
    "collapsed": false
   },
   "outputs": [],
   "source": [
    "%%px\n",
    "S2 = Sxx**2+ Syy**2+ Szz**2+ Sxy**2+ Syz**2 +Sxz**2\n",
    "S2avg = np.average(S2)"
   ]
  },
  {
   "cell_type": "code",
   "execution_count": 30,
   "metadata": {
    "collapsed": false
   },
   "outputs": [
    {
     "name": "stdout",
     "output_type": "stream",
     "text": [
      "[stdout:0] S2avg = 265.793\n",
      "[stdout:1] S2avg = 248.121\n",
      "[stdout:2] S2avg = 243.21\n",
      "[stdout:3] S2avg = 260.263\n",
      "[stdout:4] S2avg = 267.624\n",
      "[stdout:5] S2avg = 226.689\n",
      "[stdout:6] S2avg = 211.309\n",
      "[stdout:7] S2avg = 208.394\n"
     ]
    }
   ],
   "source": [
    "%%px\n",
    "print(\"S2avg = \"+str(S2avg))"
   ]
  },
  {
   "cell_type": "code",
   "execution_count": 31,
   "metadata": {
    "collapsed": true
   },
   "outputs": [],
   "source": [
    "%%px\n",
    "\n",
    "s2sum = []\n",
    "if(my_id==0):\n",
    "    s2sum.append(S2avg)\n",
    "    for j in range(1,nproc):\n",
    "        s2part = comm.recv(source=j,tag=11)\n",
    "        s2sum.append(s2part)\n",
    "else:\n",
    "    comm.send(sigma2_w,dest=0,tag=11)"
   ]
  },
  {
   "cell_type": "code",
   "execution_count": 32,
   "metadata": {
    "collapsed": false
   },
   "outputs": [
    {
     "name": "stdout",
     "output_type": "stream",
     "text": [
      "[stdout:0] \n",
      "[265.79257, 237.5885, 206.27568, 199.0881, 234.72603, 216.47806, 257.14105, 254.31326]\n",
      "233.925\n",
      "RMS strain = S_{rms} = 15.2946204608 s^{-1}\n"
     ]
    }
   ],
   "source": [
    "%%px\n",
    "Srms = 0\n",
    "if(my_id==0):\n",
    "    print(s2sum)\n",
    "    Ssigma2 = np.average(np.array(s2sum))\n",
    "    print(Ssigma2)\n",
    "    Srms = Ssigma2**0.5\n",
    "    print(\"RMS strain = S_{rms} = \"+str(Srms)+\" s^{-1}\")\n",
    "    for j in range(1,nproc):\n",
    "        comm.send(Srms,dest=j,tag=11)\n",
    "else:\n",
    "    Srms = comm.recv(source=0,tag=11)"
   ]
  },
  {
   "cell_type": "code",
   "execution_count": 33,
   "metadata": {
    "collapsed": true
   },
   "outputs": [],
   "source": [
    "%%px \n",
    "Smod = S2**0.5"
   ]
  },
  {
   "cell_type": "code",
   "execution_count": 36,
   "metadata": {
    "collapsed": false
   },
   "outputs": [
    {
     "name": "stdout",
     "output_type": "stream",
     "text": [
      "[stdout:0] \n",
      "Process - 0\n",
      "# of points > 20 sigma: 2\n",
      "# of points > 19 sigma: 6\n",
      "# of points > 18 sigma: 11\n",
      "# of points > 17 sigma: 14\n",
      "# of points > 16 sigma: 25\n",
      "# of points > 15 sigma: 40\n",
      "# of points > 14 sigma: 76\n",
      "# of points > 13 sigma: 166\n",
      "# of points > 12 sigma: 363\n",
      "# of points > 11 sigma: 886\n",
      "# of points > 10 sigma: 2054\n",
      "# of points > 9 sigma: 4654\n",
      "# of points > 8 sigma: 10845\n",
      "# of points > 7 sigma: 25770\n",
      "# of points > 6 sigma: 63466\n",
      "# of points > 5 sigma: 167895\n",
      "# of points > 4 sigma: 493523\n",
      "# of points > 3 sigma: 1691176\n",
      "# of points > 2 sigma: 7058028\n",
      "[stdout:1] \n",
      "Process - 4\n",
      "# of points > 20 sigma: 0\n",
      "# of points > 19 sigma: 0\n",
      "# of points > 18 sigma: 0\n",
      "# of points > 17 sigma: 0\n",
      "# of points > 16 sigma: 3\n",
      "# of points > 15 sigma: 20\n",
      "# of points > 14 sigma: 47\n",
      "# of points > 13 sigma: 98\n",
      "# of points > 12 sigma: 217\n",
      "# of points > 11 sigma: 508\n",
      "# of points > 10 sigma: 1240\n",
      "# of points > 9 sigma: 3030\n",
      "# of points > 8 sigma: 7532\n",
      "# of points > 7 sigma: 18437\n",
      "# of points > 6 sigma: 47286\n",
      "# of points > 5 sigma: 129696\n",
      "# of points > 4 sigma: 393064\n",
      "# of points > 3 sigma: 1401551\n",
      "# of points > 2 sigma: 6252609\n",
      "[stdout:2] \n",
      "Process - 1\n",
      "# of points > 20 sigma: 0\n",
      "# of points > 19 sigma: 0\n",
      "# of points > 18 sigma: 0\n",
      "# of points > 17 sigma: 1\n",
      "# of points > 16 sigma: 3\n",
      "# of points > 15 sigma: 14\n",
      "# of points > 14 sigma: 28\n",
      "# of points > 13 sigma: 69\n",
      "# of points > 12 sigma: 154\n",
      "# of points > 11 sigma: 358\n",
      "# of points > 10 sigma: 836\n",
      "# of points > 9 sigma: 1966\n",
      "# of points > 8 sigma: 4871\n",
      "# of points > 7 sigma: 12485\n",
      "# of points > 6 sigma: 34583\n",
      "# of points > 5 sigma: 102172\n",
      "# of points > 4 sigma: 334684\n",
      "# of points > 3 sigma: 1261237\n",
      "# of points > 2 sigma: 5923403\n",
      "[stdout:3] \n",
      "Process - 7\n",
      "# of points > 20 sigma: 2\n",
      "# of points > 19 sigma: 4\n",
      "# of points > 18 sigma: 6\n",
      "# of points > 17 sigma: 10\n",
      "# of points > 16 sigma: 16\n",
      "# of points > 15 sigma: 43\n",
      "# of points > 14 sigma: 87\n",
      "# of points > 13 sigma: 157\n",
      "# of points > 12 sigma: 313\n",
      "# of points > 11 sigma: 731\n",
      "# of points > 10 sigma: 1659\n",
      "# of points > 9 sigma: 3764\n",
      "# of points > 8 sigma: 8954\n",
      "# of points > 7 sigma: 21966\n",
      "# of points > 6 sigma: 55750\n",
      "# of points > 5 sigma: 149746\n",
      "# of points > 4 sigma: 449945\n",
      "# of points > 3 sigma: 1570019\n",
      "# of points > 2 sigma: 6762135\n",
      "[stdout:4] \n",
      "Process - 6\n",
      "# of points > 20 sigma: 0\n",
      "# of points > 19 sigma: 0\n",
      "# of points > 18 sigma: 1\n",
      "# of points > 17 sigma: 1\n",
      "# of points > 16 sigma: 9\n",
      "# of points > 15 sigma: 24\n",
      "# of points > 14 sigma: 48\n",
      "# of points > 13 sigma: 125\n",
      "# of points > 12 sigma: 278\n",
      "# of points > 11 sigma: 617\n",
      "# of points > 10 sigma: 1460\n",
      "# of points > 9 sigma: 3406\n",
      "# of points > 8 sigma: 8241\n",
      "# of points > 7 sigma: 20511\n",
      "# of points > 6 sigma: 52199\n",
      "# of points > 5 sigma: 147156\n",
      "# of points > 4 sigma: 459284\n",
      "# of points > 3 sigma: 1630684\n",
      "# of points > 2 sigma: 7046069\n",
      "[stdout:5] \n",
      "Process - 5\n",
      "# of points > 20 sigma: 0\n",
      "# of points > 19 sigma: 0\n",
      "# of points > 18 sigma: 4\n",
      "# of points > 17 sigma: 6\n",
      "# of points > 16 sigma: 12\n",
      "# of points > 15 sigma: 22\n",
      "# of points > 14 sigma: 46\n",
      "# of points > 13 sigma: 90\n",
      "# of points > 12 sigma: 203\n",
      "# of points > 11 sigma: 442\n",
      "# of points > 10 sigma: 934\n",
      "# of points > 9 sigma: 1950\n",
      "# of points > 8 sigma: 4288\n",
      "# of points > 7 sigma: 10346\n",
      "# of points > 6 sigma: 27183\n",
      "# of points > 5 sigma: 79779\n",
      "# of points > 4 sigma: 264358\n",
      "# of points > 3 sigma: 1044180\n",
      "# of points > 2 sigma: 5211230\n",
      "[stdout:6] \n",
      "Process - 2\n",
      "# of points > 20 sigma: 3\n",
      "# of points > 19 sigma: 6\n",
      "# of points > 18 sigma: 9\n",
      "# of points > 17 sigma: 12\n",
      "# of points > 16 sigma: 25\n",
      "# of points > 15 sigma: 42\n",
      "# of points > 14 sigma: 94\n",
      "# of points > 13 sigma: 155\n",
      "# of points > 12 sigma: 243\n",
      "# of points > 11 sigma: 452\n",
      "# of points > 10 sigma: 888\n",
      "# of points > 9 sigma: 1817\n",
      "# of points > 8 sigma: 4037\n",
      "# of points > 7 sigma: 9816\n",
      "# of points > 6 sigma: 25503\n",
      "# of points > 5 sigma: 74492\n",
      "# of points > 4 sigma: 246628\n",
      "# of points > 3 sigma: 960795\n",
      "# of points > 2 sigma: 4720902\n",
      "[stdout:7] \n",
      "Process - 3\n",
      "# of points > 20 sigma: 0\n",
      "# of points > 19 sigma: 1\n",
      "# of points > 18 sigma: 7\n",
      "# of points > 17 sigma: 21\n",
      "# of points > 16 sigma: 37\n",
      "# of points > 15 sigma: 85\n",
      "# of points > 14 sigma: 177\n",
      "# of points > 13 sigma: 321\n",
      "# of points > 12 sigma: 559\n",
      "# of points > 11 sigma: 1014\n",
      "# of points > 10 sigma: 1893\n",
      "# of points > 9 sigma: 3523\n",
      "# of points > 8 sigma: 6944\n",
      "# of points > 7 sigma: 15106\n",
      "# of points > 6 sigma: 36032\n",
      "# of points > 5 sigma: 93751\n",
      "# of points > 4 sigma: 281039\n",
      "# of points > 3 sigma: 1003725\n",
      "# of points > 2 sigma: 4650301\n"
     ]
    }
   ],
   "source": [
    "%%px\n",
    "print(\"Process - \"+str(my_id))\n",
    "for i in range(20,1,-1):\n",
    "    wtrsh = Smod[Smod>i*Srms]\n",
    "    print(\"# of points > \"+str(i)+\" sigma: \"+str(wtrsh.shape[0]))"
   ]
  },
  {
   "cell_type": "code",
   "execution_count": null,
   "metadata": {
    "collapsed": true
   },
   "outputs": [],
   "source": []
  }
 ],
 "metadata": {
  "kernelspec": {
   "display_name": "Python 3",
   "language": "python",
   "name": "python3"
  },
  "language_info": {
   "codemirror_mode": {
    "name": "ipython",
    "version": 3
   },
   "file_extension": ".py",
   "mimetype": "text/x-python",
   "name": "python",
   "nbconvert_exporter": "python",
   "pygments_lexer": "ipython3",
   "version": "3.5.2"
  }
 },
 "nbformat": 4,
 "nbformat_minor": 0
}
