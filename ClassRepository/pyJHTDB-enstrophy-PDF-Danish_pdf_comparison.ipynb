{
 "cells": [
  {
   "cell_type": "code",
   "execution_count": 1,
   "metadata": {
    "collapsed": true
   },
   "outputs": [],
   "source": [
    "#!ipcluster start -n 8 --engines=MPI --profile='mpi' # for parallel run: start the engines using terminal\n",
    "from ipyparallel import Client\n",
    "rc = Client(profile='mpi')"
   ]
  },
  {
   "cell_type": "code",
   "execution_count": 2,
   "metadata": {
    "collapsed": true
   },
   "outputs": [],
   "source": [
    "%%px\n",
    "# Import the libraries\n",
    "\n",
    "import numpy as np\n",
    "import pyfftw as ft \n",
    "from mpi4py import MPI\n",
    "import math\n",
    "import sys\n",
    "import os\n",
    "import pyJHTDB\n",
    "from pyJHTDB.dbinfo import isotropic1024coarse\n",
    "from pyJHTDB import libJHTDB\n",
    "import matplotlib\n",
    "import matplotlib.pyplot as plt\n",
    "\n",
    "from FFT3Dfield import FFT3Dfield\n",
    "from IFFT3Dfield import IFFT3Dfield\n",
    "from EnergySpectrum import EnergySpectrum"
   ]
  },
  {
   "cell_type": "code",
   "execution_count": 3,
   "metadata": {
    "collapsed": true
   },
   "outputs": [],
   "source": [
    "%%px\n",
    "\n",
    "Nx = isotropic1024coarse['nx']\n",
    "Ny = isotropic1024coarse['ny']\n",
    "Nz = isotropic1024coarse['nz']\n",
    "Lx = isotropic1024coarse['lx']\n",
    "Ly = isotropic1024coarse['ly']\n",
    "Lz = isotropic1024coarse['lz']"
   ]
  },
  {
   "cell_type": "code",
   "execution_count": 4,
   "metadata": {
    "collapsed": false
   },
   "outputs": [
    {
     "name": "stdout",
     "output_type": "stream",
     "text": [
      "[stdout:5] \n",
      "n_proc = 8\n",
      "rank = 0\n"
     ]
    }
   ],
   "source": [
    "%%px\n",
    "\n",
    "comm = MPI.COMM_WORLD\n",
    "rank = comm.Get_rank()\n",
    "nproc = comm.Get_size()\n",
    "if(rank==0):\n",
    "    print(\"n_proc = \"+str(nproc))\n",
    "    print(\"rank = \"+str(rank))"
   ]
  },
  {
   "cell_type": "code",
   "execution_count": 5,
   "metadata": {
    "collapsed": true
   },
   "outputs": [],
   "source": [
    "%%px \n",
    "# Computational Domain\n",
    "\n",
    "nx=Nx//nproc\n",
    "ny=Ny\n",
    "nz=Nz\n",
    "nz_half=nz//2\n",
    "nek=int(math.sqrt(2.0)/3*Nx)\n",
    "time = 0.0\n",
    "\n",
    "chkSz = 32\n",
    "slabs = nx//chkSz"
   ]
  },
  {
   "cell_type": "code",
   "execution_count": 6,
   "metadata": {
    "collapsed": false
   },
   "outputs": [
    {
     "name": "stdout",
     "output_type": "stream",
     "text": [
      "[stdout:5] \n",
      "Finished loading\n",
      "Load from disk: 8.77 seconds\n"
     ]
    }
   ],
   "source": [
    "%%px\n",
    "\n",
    "cacheEnstrophyData = False\n",
    "loadEnstrophyFromCache = True\n",
    "\n",
    "folder = \"/home/idies/workspace/scratch\"\n",
    "filename = \"enstrophy-newFFT-isotropic1024coarse-\"+str(rank)+\"-(t=\"+str(time)+\")\"+\".npz\"\n",
    "file = folder + \"/\" + filename\n",
    "\n",
    "if(loadEnstrophyFromCache):\n",
    "    comm.Barrier(); t1=MPI.Wtime()\n",
    "    content = np.load(file)\n",
    "    \n",
    "    w2 = ft.zeros_aligned((nx,ny,nz), dtype='float32')\n",
    "    \n",
    "    if(int(content['nproc'])!=nproc):\n",
    "        print(\"Unmatched number of processes. Must first pre-process to adequate number of process\")\n",
    "    w2[:,:,:] = content['w2']\n",
    "    \n",
    "    comm.Barrier(); t2=MPI.Wtime()\n",
    "    if(rank==0):\n",
    "        print(\"Finished loading\")\n",
    "        sys.stdout.write('Load from disk: {0:.2f} seconds\\n'.format(t2-t1))\n",
    "\n",
    "if(cacheEnstrophyData):\n",
    "    \n",
    "    comm.Barrier(); t1=MPI.Wtime()\n",
    "    np.savez(file,w2=w2,nproc=nproc)\n",
    "    comm.Barrier(); t2=MPI.Wtime()\n",
    "    if(rank==0):\n",
    "        sys.stdout.write('Caching the data: {0:.2f} seconds\\n'.format(t2-t1))"
   ]
  },
  {
   "cell_type": "code",
   "execution_count": 24,
   "metadata": {
    "collapsed": true
   },
   "outputs": [],
   "source": [
    "%%px\n",
    "sigma2_w = np.sum(w2)\n",
    "sigma2_g = np.zeros(1,dtype='float32')\n",
    "comm.Reduce([sigma2_w,MPI.REAL],[sigma2_g,MPI.REAL],op=MPI.SUM)\n",
    "\n",
    "sigma2_g = sigma2_g/(1024.0**3)\n",
    "sigma2_g = comm.bcast(sigma2_g,root=0)\n",
    "sigma2_g = sigma2_g[0]"
   ]
  },
  {
   "cell_type": "code",
   "execution_count": 8,
   "metadata": {
    "collapsed": false
   },
   "outputs": [
    {
     "name": "stdout",
     "output_type": "stream",
     "text": [
      "[stdout:5] \n",
      "minw = 9.39153e-08\n",
      "maxw = 460.222\n"
     ]
    }
   ],
   "source": [
    "%%px\n",
    "comm.Barrier()\n",
    "minw2 = w2.min()\n",
    "maxw2 = w2.max()\n",
    "\n",
    "comm.Barrier()\n",
    "\n",
    "minwl = []\n",
    "if(rank==0):\n",
    "    minwl.append(minw2)\n",
    "    for j in range(1,nproc):\n",
    "        minw_r = comm.recv(source=j,tag=11)\n",
    "        minwl.append(minw_r)\n",
    "else:\n",
    "    comm.send(minw2,dest=0,tag=11)\n",
    "\n",
    "comm.Barrier()\n",
    "\n",
    "maxwl = []\n",
    "if(rank==0):\n",
    "    maxwl.append(maxw2)\n",
    "    for j in range(1,nproc):\n",
    "        maxw_r = comm.recv(source=j,tag=11)\n",
    "        maxwl.append(maxw_r)\n",
    "else:\n",
    "    comm.send(maxw2,dest=0,tag=11)\n",
    "\n",
    "comm.Barrier()\n",
    "\n",
    "if(rank==0):\n",
    "    m = min(minwl)\n",
    "    M = max(maxwl)\n",
    "    \n",
    "comm.Barrier()\n",
    "\n",
    "if(rank==0):\n",
    "    for j in range(1,nproc):\n",
    "        comm.send(m,dest=j,tag=22)\n",
    "else:\n",
    "    m=comm.recv(source=0,tag=22)\n",
    "    \n",
    "comm.Barrier()\n",
    "\n",
    "if(rank==0):\n",
    "    for j in range(1,nproc):\n",
    "        comm.send(M,dest=j,tag=22)\n",
    "else:\n",
    "    M=comm.recv(source=0,tag=22)\n",
    "    \n",
    "comm.Barrier()\n",
    "\n",
    "if(rank==0):\n",
    "    print(\"minw = \"+str(m/sigma2g))\n",
    "    print(\"maxw = \"+str(M/sigma2g))\n"
   ]
  },
  {
   "cell_type": "code",
   "execution_count": 9,
   "metadata": {
    "collapsed": true
   },
   "outputs": [],
   "source": [
    "%%px\n",
    "\n",
    "from Statistics import Statistics"
   ]
  },
  {
   "cell_type": "code",
   "execution_count": 10,
   "metadata": {
    "collapsed": true
   },
   "outputs": [],
   "source": [
    "%%px \n",
    "\n",
    "st = Statistics()"
   ]
  },
  {
   "cell_type": "code",
   "execution_count": 11,
   "metadata": {
    "collapsed": true
   },
   "outputs": [],
   "source": [
    "%%px\n",
    "Nbins = 3200\n",
    "pdf=st.FindPDF(w2/sigma2g,m/sigma2g,M/sigma2g,Nbins,nx,ny,nz,nproc)"
   ]
  },
  {
   "cell_type": "code",
   "execution_count": 12,
   "metadata": {
    "collapsed": false
   },
   "outputs": [
    {
     "data": {
      "text/plain": [
       "[output:5]"
      ]
     },
     "metadata": {},
     "output_type": "display_data"
    },
    {
     "data": {
      "image/png": "[encoded data removed]",
      "text/plain": [
       "<matplotlib.figure.Figure at 0x7f04626cf748>"
      ]
     },
     "metadata": {
      "engine": 5
     },
     "output_type": "display_data"
    }
   ],
   "source": [
    "%%px\n",
    "%matplotlib inline\n",
    "import matplotlib\n",
    "import matplotlib.pyplot as plt\n",
    "w2histo[-1] = 0\n",
    "if rank==0:\n",
    "    SIZE = 12\n",
    "    plt.rc('font', size=SIZE)  # controls default text sizes\n",
    "    plt.rc('axes', titlesize=SIZE+4)  # fontsize of the axes title\n",
    "    plt.rc('axes', labelsize=SIZE+4)  # fontsize of the x any y labels\n",
    "    plt.rc('xtick', labelsize=SIZE)  # fontsize of the tick labels\n",
    "    plt.rc('ytick', labelsize=SIZE)  # fontsize of the tick labels\n",
    "    plt.rc('legend', fontsize=SIZE+3)  # legend fontsize\n",
    "    plt.rc('figure', titlesize=SIZE)  # # size of the figure title\n",
    "    plt.xlabel(r'$\\omega^2/{\\langle \\omega^2\\rangle}$')\n",
    "    plt.ylabel(r'$P_{\\omega^2}$')\n",
    "    #ks=np.linspace(1,101,100)\n",
    "    #plt.xlabel('$\\langle \\omega^2\\rangle$')\n",
    "    #plt.ylabel('Bin-count')\n",
    "\n",
    "    plt.semilogy(pdf[0,:],pdf[1,:],'r',label='Unfiltered')"
   ]
  },
  {
   "cell_type": "code",
   "execution_count": 13,
   "metadata": {
    "collapsed": true
   },
   "outputs": [],
   "source": [
    "%%px\n",
    "\n",
    "w2temp = w2[w2<=5*sigma2g]\n",
    "Nbins = 400\n",
    "pdf=st.FindPDF(w2temp/sigma2g,m/sigma2g,5,Nbins,nx,ny,nz,nproc)"
   ]
  },
  {
   "cell_type": "code",
   "execution_count": 18,
   "metadata": {
    "collapsed": true
   },
   "outputs": [],
   "source": [
    "%%px\n",
    "Nbins = 400\n",
    "wtemp = w2[w2<=5*sigma2g] \n",
    "w2red=np.zeros(Nbins,dtype='int')\n",
    "histred,edgesred = np.histogram(wtemp/sigma2g,np.linspace(m/sigma2g, 5, Nbins))\n",
    "#hist,edges = np.histogram(w2/sigma2g,10 ** np.linspace(np.log10(m/sigma2g), np.log10(M/sigma2g), Nbins))"
   ]
  },
  {
   "cell_type": "code",
   "execution_count": 19,
   "metadata": {
    "collapsed": true
   },
   "outputs": [],
   "source": [
    "%%px\n",
    "blocks = Nbins//100\n",
    "comm.Barrier()\n",
    "for i in range(blocks):\n",
    "    comm.Reduce([histred[i*100:(i+1)*100],MPI.INT],[w2red[i*100:(i+1)*100],MPI.INT],op=MPI.SUM)\n",
    "    comm.Barrier()"
   ]
  },
  {
   "cell_type": "code",
   "execution_count": 21,
   "metadata": {
    "collapsed": false
   },
   "outputs": [
    {
     "data": {
      "text/plain": [
       "[output:5]"
      ]
     },
     "metadata": {},
     "output_type": "display_data"
    },
    {
     "data": {
      "image/png": "[encoded data removed]",
      "text/plain": [
       "<matplotlib.figure.Figure at 0x7f04626df7f0>"
      ]
     },
     "metadata": {
      "engine": 5
     },
     "output_type": "display_data"
    }
   ],
   "source": [
    "%%px\n",
    "%matplotlib inline\n",
    "import matplotlib\n",
    "import matplotlib.pyplot as plt\n",
    "w2histo[-1] = 0\n",
    "if rank==0:\n",
    "    w2_bins = np.load('enstrophy_bins.npy')\n",
    "    w2_pdf = np.load('enstrophy_pdf.npy')\n",
    "    \n",
    "    SIZE = 12\n",
    "    plt.rc('font', size=SIZE)  # controls default text sizes\n",
    "    plt.rc('axes', titlesize=SIZE+4)  # fontsize of the axes title\n",
    "    plt.rc('axes', labelsize=SIZE+4)  # fontsize of the x any y labels\n",
    "    plt.rc('xtick', labelsize=SIZE)  # fontsize of the tick labels\n",
    "    plt.rc('ytick', labelsize=SIZE)  # fontsize of the tick labels\n",
    "    plt.rc('legend', fontsize=SIZE+3)  # legend fontsize\n",
    "    plt.rc('figure', titlesize=SIZE)  # # size of the figure title\n",
    "    plt.xlabel(r'$\\omega^2/{\\langle \\omega^2\\rangle}$')\n",
    "    plt.ylabel(r'$P_{\\omega^2}$')\n",
    "    #ks=np.linspace(1,101,100)\n",
    "    #plt.xlabel('$\\langle \\omega^2\\rangle$')\n",
    "    #plt.ylabel('Bin-count')\n",
    "\n",
    "    plt.semilogy(pdf[0,:],pdf[1,:],'r',label='Unfiltered')\n",
    "    plt.semilogy(w2_bins[w2_bins<=5],w2_pdf[w2_bins<=5],'b--')\n",
    "    plt.semilogy(edgesred,(w2red*(1024**(-3)))/((5*sigma2g-m)/(sigma2g*Nbins)),'g--',label='Unfiltered')"
   ]
  },
  {
   "cell_type": "code",
   "execution_count": null,
   "metadata": {
    "collapsed": true
   },
   "outputs": [],
   "source": []
  }
 ],
 "metadata": {
  "kernelspec": {
   "display_name": "Python 3",
   "language": "python",
   "name": "python3"
  },
  "language_info": {
   "codemirror_mode": {
    "name": "ipython",
    "version": 3
   },
   "file_extension": ".py",
   "mimetype": "text/x-python",
   "name": "python",
   "nbconvert_exporter": "python",
   "pygments_lexer": "ipython3",
   "version": "3.5.2"
  }
 },
 "nbformat": 4,
 "nbformat_minor": 0
}
