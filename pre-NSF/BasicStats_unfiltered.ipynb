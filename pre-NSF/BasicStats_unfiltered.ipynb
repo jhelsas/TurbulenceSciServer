{
 "cells": [
  {
   "cell_type": "markdown",
   "metadata": {},
   "source": [
    "1. First start the ipcluster using the notebook $\\color{blue}{\\text{start_ipcluster.ipynb}}$. Change the number if more cores are required.\n",
    "2. Import the ipyparallel Client"
   ]
  },
  {
   "cell_type": "code",
   "execution_count": 1,
   "metadata": {
    "collapsed": true
   },
   "outputs": [],
   "source": [
    "from ipyparallel import Client\n",
    "rc=Client(profile='mpi')"
   ]
  },
  {
   "cell_type": "markdown",
   "metadata": {},
   "source": [
    "1. Start each cell with the magic command $\\color{red}{\\%\\%px}$, else the cell won't run in parallel!!\n",
    "2. Load standard modules like 'pyfftw', 'numpy', etc.\n",
    "3. Load modules for current computations from the folder: $\\color{red}{\\text{'ClassRepository'}}$ \n",
    "4. Start the MPI communicator"
   ]
  },
  {
   "cell_type": "code",
   "execution_count": 2,
   "metadata": {
    "collapsed": false
   },
   "outputs": [
    {
     "name": "stdout",
     "output_type": "stream",
     "text": [
      "[stdout:1] Starting with processors:8\n"
     ]
    }
   ],
   "source": [
    "%%px\n",
    "#2.\n",
    "import pyfftw as ft \n",
    "import numpy as np\n",
    "from mpi4py import MPI\n",
    "import math\n",
    "import sys\n",
    "#3.\n",
    "#sys.path.insert(0,'ClassRepository')\n",
    "from DataDownload import DataDownload\n",
    "#from QuantitiesOfInterest import QuantitiesOfInterest\n",
    "#from FourierOperations import FourierOperations\n",
    "from FlowStatistics import FlowStatistics\n",
    "\n",
    "from fft3d import FFT3Dfield_new\n",
    "from EnergySpectrum import EnergySpectrum\n",
    "#4.\n",
    "comm = MPI.COMM_WORLD\n",
    "my_id = comm.Get_rank()\n",
    "nproc = comm.Get_size()\n",
    "\n",
    "if(my_id==0):\n",
    "    sys.stdout.write('Starting with processors:%d\\n' %(int(nproc)))"
   ]
  },
  {
   "cell_type": "markdown",
   "metadata": {},
   "source": [
    "1. NxNxN is the number of grid points used in DNS computations.\n",
    "2. Divide X-axis equally in all processors (nx=N/8).\n",
    "3. Create objects/instances of the classes to be used later in the computations"
   ]
  },
  {
   "cell_type": "code",
   "execution_count": 3,
   "metadata": {
    "collapsed": false
   },
   "outputs": [
    {
     "name": "stdout",
     "output_type": "stream",
     "text": [
      "[stdout:0] MPI id:3; divided on block size (Nx,Ny,Nz): (128,1024,1024)\n",
      "[stdout:1] MPI id:0; divided on block size (Nx,Ny,Nz): (128,1024,1024)\n",
      "[stdout:2] MPI id:6; divided on block size (Nx,Ny,Nz): (128,1024,1024)\n",
      "[stdout:3] MPI id:7; divided on block size (Nx,Ny,Nz): (128,1024,1024)\n",
      "[stdout:4] MPI id:1; divided on block size (Nx,Ny,Nz): (128,1024,1024)\n",
      "[stdout:5] MPI id:2; divided on block size (Nx,Ny,Nz): (128,1024,1024)\n",
      "[stdout:6] MPI id:4; divided on block size (Nx,Ny,Nz): (128,1024,1024)\n",
      "[stdout:7] MPI id:5; divided on block size (Nx,Ny,Nz): (128,1024,1024)\n"
     ]
    }
   ],
   "source": [
    "%%px\n",
    "#1.\n",
    "N=1024\n",
    "#2.\n",
    "nx=N//nproc\n",
    "ny=N\n",
    "nz=N\n",
    "#3.\n",
    "myDDL=DataDownload()\n",
    "#myQOI=QuantitiesOfInterest(nx,ny,nz,nproc,my_id)\n",
    "#myFO=FourierOperations(nx,ny,nz,nproc,my_id)\n",
    "fft = FFT3Dfield_new(nx,ny,nz,nproc,my_id)\n",
    "\n",
    "\n",
    "myStats=FlowStatistics()\n",
    "sys.stdout.write('MPI id:%d; divided on block size (Nx,Ny,Nz): (%d,%d,%d)\\n' %(my_id,nx,ny,nz))"
   ]
  },
  {
   "cell_type": "markdown",
   "metadata": {},
   "source": [
    "#### Load velocity fields u, v, and w from the $\\color{red}{\\text{scratch}}$ folder. If the data is not available then first download the data using notebook $\\color{blue}{\\text{DownloadAndSaveDNSdataset.ipynb}}$"
   ]
  },
  {
   "cell_type": "code",
   "execution_count": 4,
   "metadata": {
    "collapsed": false
   },
   "outputs": [
    {
     "name": "stdout",
     "output_type": "stream",
     "text": [
      "[stdout:1] Done!! Cost= 287.22 seconds\n"
     ]
    }
   ],
   "source": [
    "%%px\n",
    "dirName='/home/idies/workspace/scratch/dataSnapshot/'\n",
    "fileNameInitial='veldata_t1p0_myID'\n",
    "comm.Barrier(); t1=MPI.Wtime()\n",
    "#u,v,w=myDDL.LoadDataFromSinglefile(dirName,fileNameInitial,nproc,my_id,N)\n",
    "time = 0.0\n",
    "auth_token = \"com.gmail.jhelsas-b854269a\"\n",
    "u,v,w = myDDL.DownldData_pyJHTDB('isotropic1024coarse',time,nx,ny,nz,nproc,my_id,auth_token)\n",
    "#u,v,w=myDDL.LoadDataFromVM(dirName,fileNameInitial,nproc,my_id)\n",
    "comm.Barrier(); t2=MPI.Wtime()\n",
    "if(my_id==0):\n",
    "    sys.stdout.write('Done!! Cost= %0.2f seconds\\n' %(t2-t1))"
   ]
  },
  {
   "cell_type": "code",
   "execution_count": 5,
   "metadata": {
    "collapsed": true
   },
   "outputs": [],
   "source": [
    "%%px\n",
    "\n",
    "cu = ft.zeros_aligned((nx,ny,1+(nz//2)), dtype='complex64')\n",
    "cv = ft.zeros_aligned((nx,ny,1+(nz//2)), dtype='complex64')\n",
    "cw = ft.zeros_aligned((nx,ny,1+(nz//2)), dtype='complex64')"
   ]
  },
  {
   "cell_type": "markdown",
   "metadata": {},
   "source": [
    "#### Transform velocity field from $\\color{red}{\\text{physical}}$ to $\\color{blue}{\\text{Fourier space}}$"
   ]
  },
  {
   "cell_type": "code",
   "execution_count": 6,
   "metadata": {
    "collapsed": false
   },
   "outputs": [
    {
     "name": "stdout",
     "output_type": "stream",
     "text": [
      "[stdout:1] Calculate 3D spatial FFT: 97.30 seconds\n"
     ]
    }
   ],
   "source": [
    "%%px\n",
    "\n",
    "#%%px\n",
    "#comm.Barrier(); t1=MPI.Wtime()\n",
    "#cu=myFO.GetFFT3Dfield(u)\n",
    "#cv=myFO.GetFFT3Dfield(v)\n",
    "#cw=myFO.GetFFT3Dfield(w)\n",
    "#comm.Barrier(); t2=MPI.Wtime()\n",
    "#if(my_id==0):\n",
    "#    sys.stdout.write('Done!! Cost= %0.2f seconds\\n' %(t2-t1))\n",
    "\n",
    "comm.Barrier(); t1=MPI.Wtime()\n",
    "\n",
    "cu[:,:,:] = fft.forward3Dfft(u,nx,ny,nz,nproc,my_id)\n",
    "cv[:,:,:] = fft.forward3Dfft(v,nx,ny,nz,nproc,my_id)\n",
    "cw[:,:,:] = fft.forward3Dfft(w,nx,ny,nz,nproc,my_id)\n",
    "\n",
    "comm.Barrier(); t2=MPI.Wtime()\n",
    "if(my_id==0):\n",
    "    sys.stdout.write('Calculate 3D spatial FFT: {0:.2f} seconds\\n'.format(t2-t1))"
   ]
  },
  {
   "cell_type": "markdown",
   "metadata": {},
   "source": [
    "#### Get the wavenumber grids"
   ]
  },
  {
   "cell_type": "code",
   "execution_count": 7,
   "metadata": {
    "collapsed": false
   },
   "outputs": [
    {
     "name": "stdout",
     "output_type": "stream",
     "text": [
      "[stdout:1] Done!! Cost= 40.64 seconds\n"
     ]
    }
   ],
   "source": [
    "%%px\n",
    "## IMPORTANT - not executed ant not to be executed\n",
    "\n",
    "comm.Barrier(); t1=MPI.Wtime()\n",
    "#k2,kx,ky,kz=myFO.GetWavenumbers()\n",
    "myEnergySpc=EnergySpectrum()\n",
    "k2,kx,ky,kz=myEnergySpc.GetWavenumbers(nx,ny,nz,my_id)\n",
    "\n",
    "comm.Barrier(); t2=MPI.Wtime()\n",
    "if(my_id==0):\n",
    "    sys.stdout.write('Done!! Cost= %0.2f seconds\\n' %(t2-t1))"
   ]
  },
  {
   "cell_type": "markdown",
   "metadata": {},
   "source": [
    "#### Calculate radial energy in wavenumber space and plot its spectrum"
   ]
  },
  {
   "cell_type": "code",
   "execution_count": 8,
   "metadata": {
    "collapsed": false
   },
   "outputs": [
    {
     "name": "stdout",
     "output_type": "stream",
     "text": [
      "[stdout:1] Done!! Cost: 29.70 seconds\n"
     ]
    }
   ],
   "source": [
    "%%px\n",
    "from QuantitiesOfInterest import QuantitiesOfInterest\n",
    "myQOI=QuantitiesOfInterest(nx,ny,nz,nproc,my_id)\n",
    "\n",
    "#1.\n",
    "comm.Barrier(); t1=MPI.Wtime()\n",
    "ek_unfltrd=myQOI.GetEnergySpectrum(cu,cv,cw,k2)\n",
    "comm.Barrier(); t2=MPI.Wtime()\n",
    "if(my_id==0):\n",
    "    sys.stdout.write('Done!! Cost: {0:.2f} seconds\\n'.format(t2-t1))"
   ]
  },
  {
   "cell_type": "code",
   "execution_count": 9,
   "metadata": {
    "collapsed": false
   },
   "outputs": [
    {
     "data": {
      "text/plain": [
       "[output:1]"
      ]
     },
     "metadata": {},
     "output_type": "display_data"
    },
    {
     "data": {
      "image/png": "[encoded data removed]",
      "text/plain": [
       "<matplotlib.figure.Figure at 0x7efb505d23c8>"
      ]
     },
     "metadata": {
      "engine": 1
     },
     "output_type": "display_data"
    }
   ],
   "source": [
    "%%px\n",
    "%matplotlib inline\n",
    "\n",
    "nek=int(math.sqrt(2.0)/3*N)\n",
    "    \n",
    "import matplotlib\n",
    "import matplotlib.pyplot as plt\n",
    "if(my_id==0):    \n",
    "    SIZE = 12\n",
    "    ks=np.linspace(1,nek,nek)\n",
    "    plt.rc('font', size=SIZE)  # controls default text sizes\n",
    "    plt.rc('axes', titlesize=SIZE+4)  # fontsize of the axes title\n",
    "    plt.rc('axes', labelsize=SIZE+8)  # fontsize of the x any y labels\n",
    "    plt.rc('xtick', labelsize=SIZE+2)  # fontsize of the tick labels\n",
    "    plt.rc('ytick', labelsize=SIZE+2)  # fontsize of the tick labels\n",
    "    plt.rc('legend', fontsize=SIZE+6.5)   # legend fontsize\n",
    "    plt.rc('figure', titlesize=SIZE+4)  # size of the figure title\n",
    "    plt.figure(figsize=(7,6))\n",
    "    symbPos=[1,4,16];lw=2;ms=10\n",
    "    plt.loglog(ks,ek_unfltrd,'-k',linewidth=lw,markersize=ms,fillstyle='full',label='Unfiltered')\n",
    "    plt.loglog(ks,np.power(ks,-5/3),'-k',linewidth=2)\n",
    "    plt.xlabel('$\\kappa$')\n",
    "    plt.ylabel('$E(\\kappa)$')\n",
    "    plt.title('Energy spectrum (Unfiltered)\\n')\n",
    "    plt.axis([0.0,1000.0, 1e-8,1.0e0])\n",
    "    plt.legend(loc=0,bbox_to_anchor=(1.0, 1.01),ncol=1,fancybox=False,shadow=False)\n",
    "    #plt.legend(loc='outside', shadow=True) #loc='upper center'\n",
    "    ax = plt.gca()\n",
    "    ax.set_autoscale_on(False)"
   ]
  },
  {
   "cell_type": "markdown",
   "metadata": {},
   "source": [
    "#### Get velocity gradient tensor in Physical space"
   ]
  },
  {
   "cell_type": "code",
   "execution_count": 10,
   "metadata": {
    "collapsed": true
   },
   "outputs": [],
   "source": [
    "%%px\n",
    "\n",
    "cA11 = ft.zeros_aligned((nx,ny,1+(nz//2)), dtype='complex64')\n",
    "cA12 = ft.zeros_aligned((nx,ny,1+(nz//2)), dtype='complex64')\n",
    "cA13 = ft.zeros_aligned((nx,ny,1+(nz//2)), dtype='complex64')\n",
    "cA21 = ft.zeros_aligned((nx,ny,1+(nz//2)), dtype='complex64')\n",
    "cA22 = ft.zeros_aligned((nx,ny,1+(nz//2)), dtype='complex64')\n",
    "cA23 = ft.zeros_aligned((nx,ny,1+(nz//2)), dtype='complex64')\n",
    "cA31 = ft.zeros_aligned((nx,ny,1+(nz//2)), dtype='complex64')\n",
    "cA32 = ft.zeros_aligned((nx,ny,1+(nz//2)), dtype='complex64')\n",
    "cA33 = ft.zeros_aligned((nx,ny,1+(nz//2)), dtype='complex64')"
   ]
  },
  {
   "cell_type": "code",
   "execution_count": 11,
   "metadata": {
    "collapsed": false
   },
   "outputs": [
    {
     "name": "stdout",
     "output_type": "stream",
     "text": [
      "[stdout:1] Done!! cost= 133.63 seconds\n"
     ]
    }
   ],
   "source": [
    "%%px\n",
    "#1.\n",
    "comm.Barrier(); t1=MPI.Wtime()\n",
    "\n",
    "#A11=myQOI.GetVelocityGradient(cu,kx)\n",
    "#A12=myQOI.GetVelocityGradient(cu,ky)\n",
    "#A13=myQOI.GetVelocityGradient(cu,kz)\n",
    "#A21=myQOI.GetVelocityGradient(cv,kx)\n",
    "#A22=myQOI.GetVelocityGradient(cv,ky)\n",
    "#A23=myQOI.GetVelocityGradient(cv,kz)\n",
    "#A31=myQOI.GetVelocityGradient(cw,kx)\n",
    "#A32=myQOI.GetVelocityGradient(cw,ky)\n",
    "#A33=myQOI.GetVelocityGradient(cw,kz)\n",
    "\n",
    "cA11 = np.complex64(0.0+1.0j)*kx*cu\n",
    "cA12 = np.complex64(0.0+1.0j)*ky*cu\n",
    "cA13 = np.complex64(0.0+1.0j)*kz*cu\n",
    "cA21 = np.complex64(0.0+1.0j)*kx*cv\n",
    "cA22 = np.complex64(0.0+1.0j)*ky*cv\n",
    "cA23 = np.complex64(0.0+1.0j)*kz*cv\n",
    "cA31 = np.complex64(0.0+1.0j)*kx*cw\n",
    "cA32 = np.complex64(0.0+1.0j)*ky*cw\n",
    "cA33 = np.complex64(0.0+1.0j)*kz*cw\n",
    "\n",
    "comm.Barrier(); t2=MPI.Wtime()\n",
    "if(my_id==0):\n",
    "    sys.stdout.write('Done!! cost= %0.2f seconds\\n' %(t2-t1))"
   ]
  },
  {
   "cell_type": "code",
   "execution_count": 12,
   "metadata": {
    "collapsed": true
   },
   "outputs": [],
   "source": [
    "%%px\n",
    "\n",
    "A11 = ft.zeros_aligned((nx,ny,nz), dtype='float32')\n",
    "A12 = ft.zeros_aligned((nx,ny,nz), dtype='float32')\n",
    "A13 = ft.zeros_aligned((nx,ny,nz), dtype='float32')\n",
    "A21 = ft.zeros_aligned((nx,ny,nz), dtype='float32')\n",
    "A22 = ft.zeros_aligned((nx,ny,nz), dtype='float32')\n",
    "A23 = ft.zeros_aligned((nx,ny,nz), dtype='float32')\n",
    "A31 = ft.zeros_aligned((nx,ny,nz), dtype='float32')\n",
    "A32 = ft.zeros_aligned((nx,ny,nz), dtype='float32')\n",
    "A33 = ft.zeros_aligned((nx,ny,nz), dtype='float32')"
   ]
  },
  {
   "cell_type": "code",
   "execution_count": 13,
   "metadata": {
    "collapsed": false
   },
   "outputs": [],
   "source": [
    "%%px \n",
    "\n",
    "cA11[kz==(N//2)] = 0.\n",
    "cA12[kz==(N//2)] = 0.\n",
    "cA13[kz==(N//2)] = 0.\n",
    "cA21[kz==(N//2)] = 0.\n",
    "cA22[kz==(N//2)] = 0.\n",
    "cA23[kz==(N//2)] = 0.\n",
    "cA31[kz==(N//2)] = 0.\n",
    "cA32[kz==(N//2)] = 0.\n",
    "cA33[kz==(N//2)] = 0."
   ]
  },
  {
   "cell_type": "code",
   "execution_count": 14,
   "metadata": {
    "collapsed": false
   },
   "outputs": [
    {
     "name": "stdout",
     "output_type": "stream",
     "text": [
      "[stdout:1] Calculate 3D spatial inverse FFT: 283.20 seconds\n"
     ]
    }
   ],
   "source": [
    "%%px\n",
    "\n",
    "comm.Barrier(); t1=MPI.Wtime()\n",
    "# Get velocity field in Fourier space:\n",
    "\n",
    "A11[:,:,:]=fft.backward3Dfft(cA11,nx,ny,nz,nproc,my_id)\n",
    "A12[:,:,:]=fft.backward3Dfft(cA12,nx,ny,nz,nproc,my_id)\n",
    "A13[:,:,:]=fft.backward3Dfft(cA13,nx,ny,nz,nproc,my_id)\n",
    "A21[:,:,:]=fft.backward3Dfft(cA21,nx,ny,nz,nproc,my_id)\n",
    "A22[:,:,:]=fft.backward3Dfft(cA22,nx,ny,nz,nproc,my_id)\n",
    "A23[:,:,:]=fft.backward3Dfft(cA23,nx,ny,nz,nproc,my_id)\n",
    "A31[:,:,:]=fft.backward3Dfft(cA31,nx,ny,nz,nproc,my_id)\n",
    "A32[:,:,:]=fft.backward3Dfft(cA32,nx,ny,nz,nproc,my_id)\n",
    "A33[:,:,:]=fft.backward3Dfft(cA33,nx,ny,nz,nproc,my_id)\n",
    "\n",
    "#wy[:,:,:]=fft.backward3Dfft(cwy,nx,ny,nz,nproc,rank)\n",
    "#wz[:,:,:]=fft.backward3Dfft(cwz,nx,ny,nz,nproc,rank)\n",
    "\n",
    "comm.Barrier(); t2=MPI.Wtime()\n",
    "if(my_id==0):\n",
    "    sys.stdout.write('Calculate 3D spatial inverse FFT: {0:.2f} seconds\\n'.format(t2-t1))"
   ]
  },
  {
   "cell_type": "markdown",
   "metadata": {},
   "source": [
    "#### Reduce the sample size to avoid any memory related issue"
   ]
  },
  {
   "cell_type": "code",
   "execution_count": 15,
   "metadata": {
    "collapsed": false
   },
   "outputs": [],
   "source": [
    "%%px\n",
    "#2.\n",
    "Nchosen=(nx*ny*nz)//8\n",
    "rng=np.random.randint(nx*ny*nz,size=Nchosen)"
   ]
  },
  {
   "cell_type": "code",
   "execution_count": 16,
   "metadata": {
    "collapsed": true
   },
   "outputs": [],
   "source": [
    "%%px\n",
    "\n",
    "grid = np.indices((nx, ny, nz))"
   ]
  },
  {
   "cell_type": "code",
   "execution_count": 17,
   "metadata": {
    "collapsed": false
   },
   "outputs": [
    {
     "name": "stdout",
     "output_type": "stream",
     "text": [
      "[stdout:0] (128, 1024, 1024)\n",
      "[stdout:1] (128, 1024, 1024)\n",
      "[stdout:2] (128, 1024, 1024)\n",
      "[stdout:3] (128, 1024, 1024)\n",
      "[stdout:4] (128, 1024, 1024)\n",
      "[stdout:5] (128, 1024, 1024)\n",
      "[stdout:6] (128, 1024, 1024)\n",
      "[stdout:7] (128, 1024, 1024)\n"
     ]
    }
   ],
   "source": [
    "%%px\n",
    "\n",
    "print(grid[0].shape)"
   ]
  },
  {
   "cell_type": "code",
   "execution_count": 19,
   "metadata": {
    "collapsed": true
   },
   "outputs": [],
   "source": [
    "%%px \n",
    "\n",
    "del cu,cv,cw\n",
    "\n",
    "del cA11,cA12,cA13\n",
    "del cA21,cA22,cA23\n",
    "del cA31,cA32,cA33"
   ]
  },
  {
   "cell_type": "code",
   "execution_count": 18,
   "metadata": {
    "collapsed": false
   },
   "outputs": [],
   "source": [
    "%%px\n",
    "\n",
    "fa11=A11.flatten()\n",
    "fa12=A12.flatten()\n",
    "fa13=A13.flatten()\n",
    "fa21=A21.flatten()\n",
    "fa22=A22.flatten()\n",
    "fa23=A23.flatten()\n",
    "fa31=A31.flatten()\n",
    "fa32=A32.flatten()\n",
    "fa33=A33.flatten()\n",
    "\n",
    "#idx = np.random.choice(grid, 1000, replace=False)"
   ]
  },
  {
   "cell_type": "code",
   "execution_count": 20,
   "metadata": {
    "collapsed": false
   },
   "outputs": [],
   "source": [
    "%%px\n",
    "\n",
    "a11=fa11[rng]\n",
    "a12=fa12[rng]\n",
    "a13=fa13[rng]\n",
    "a21=fa21[rng]\n",
    "a22=fa22[rng]\n",
    "a23=fa23[rng]\n",
    "a31=fa31[rng]\n",
    "a32=fa32[rng]\n",
    "a33=fa33[rng]"
   ]
  },
  {
   "cell_type": "code",
   "execution_count": 21,
   "metadata": {
    "collapsed": true
   },
   "outputs": [],
   "source": [
    "%%px\n",
    "\n",
    "del A11,A12,A13\n",
    "del A21,A22,A23\n",
    "del A31,A32,A33"
   ]
  },
  {
   "cell_type": "markdown",
   "metadata": {},
   "source": [
    "#### Obtain second and third invariants of velocity gradient tensor"
   ]
  },
  {
   "cell_type": "code",
   "execution_count": 22,
   "metadata": {
    "collapsed": false
   },
   "outputs": [
    {
     "name": "stdout",
     "output_type": "stream",
     "text": [
      "[stdout:1] Done!! cost= 0.50 minutes\n"
     ]
    }
   ],
   "source": [
    "%%px\n",
    "comm.Barrier(); t1=MPI.Wtime()\n",
    "#3.\n",
    "q=myQOI.GetQ(a11,a12,a13,a21,a22,a23,a31,a32,a33)\n",
    "r=myQOI.GetR(a11,a12,a13,a21,a22,a23,a31,a32,a33)\n",
    "#4.\n",
    "qwAvg_unfltrd=myQOI.GetQwAvg(a12,a21,a13,a31,a23,a32)\n",
    "q=q/qwAvg_unfltrd\n",
    "r=r/(qwAvg_unfltrd**1.5)\n",
    "#5.\n",
    "#topoFrac_unfltrd=myQOI.GetTopologyFraction(q,r)\n",
    "comm.Barrier(); t2=MPI.Wtime()\n",
    "if(my_id==0):\n",
    "    sys.stdout.write('Done!! cost= %0.2f minutes\\n' %(((t2-t1)/60.)))"
   ]
  },
  {
   "cell_type": "markdown",
   "metadata": {},
   "source": [
    "#### Get the joint probability distribution function of Q and R, and plot its well-known tear-drop shape"
   ]
  },
  {
   "cell_type": "code",
   "execution_count": 23,
   "metadata": {
    "collapsed": false
   },
   "outputs": [
    {
     "name": "stdout",
     "output_type": "stream",
     "text": [
      "[stdout:1] Done!! cost= 0.19 minutes\n"
     ]
    }
   ],
   "source": [
    "%%px\n",
    "comm.Barrier(); t1=MPI.Wtime()\n",
    "Ngrid=250;rmin=-25.0;rmax=25.0;qmin=-25.0;qmax=25.0 # Constants for jPDF\n",
    "jPDF_unfltrd,xedges_unfltrd,yedges_unfltrd=\\\n",
    "myStats.FindJointPDF(r.flatten(),q.flatten(),rmin,rmax,qmin,qmax,Ngrid,Ngrid,nproc)\n",
    "comm.Barrier(); t2=MPI.Wtime()\n",
    "if(my_id==0):\n",
    "    sys.stdout.write('Done!! cost= %0.2f minutes\\n' %(((t2-t1)/60.)))"
   ]
  },
  {
   "cell_type": "markdown",
   "metadata": {},
   "source": [
    "This is Danish's original QR plot"
   ]
  },
  {
   "cell_type": "code",
   "execution_count": null,
   "metadata": {
    "collapsed": false
   },
   "outputs": [],
   "source": [
    "##%%px\n",
    "## IMPORTANT - do not run this cell\n",
    "%matplotlib inline\n",
    "import matplotlib\n",
    "import matplotlib.cm as cm\n",
    "import matplotlib.mlab as mlab\n",
    "import matplotlib.pyplot as plt\n",
    "if(my_id==0):\n",
    "    fmt={}\n",
    "    plt.figure()\n",
    "    SIZE = 12\n",
    "    plt.rc('font', size=SIZE)  # controls default text sizes\n",
    "    plt.rc('axes', titlesize=SIZE+4)  # fontsize of the axes title\n",
    "    plt.rc('axes', labelsize=SIZE+8)  # fontsize of the x any y labels\n",
    "    plt.rc('xtick', labelsize=SIZE+2)  # fontsize of the tick labels\n",
    "    plt.rc('ytick', labelsize=SIZE+2)  # fontsize of the tick labels\n",
    "    plt.rc('legend', fontsize=SIZE)  # legend fontsize\n",
    "    plt.rc('figure', titlesize=SIZE+4)  # # size of the figure title\n",
    "    plt.figure(figsize=(8,6))\n",
    "\n",
    "    X,Y=np.meshgrid(xedges_unfltrd[0:Ngrid-1],yedges_unfltrd[0:Ngrid-1])\n",
    "\n",
    "    levels=np.logspace(-5.,-1,num=5,base=10.0)#np.logspace[1e-5,1e-4,1e-3,1e-2,1e-1]\n",
    "    CS=plt.contour(X,Y,jPDF_unfltrd,levels,colors='k')#[1::2] #extent=(-15,15,-15,15)\n",
    "    strs=['-5','-4','-3','-2','-1']\n",
    "    for l,s in zip(CS.levels,strs):\n",
    "        fmt[l]=s\n",
    "    plt.clabel(CS,levels,inline=True,fmt=fmt,fontsize=16,colors='r')\n",
    "    #plt.colorbar()\n",
    "\n",
    "    # lines\n",
    "    Qc=np.linspace(qmin,0,50)\n",
    "    Rc1=-(2./27.)*((-3.*Qc)**1.5)\n",
    "    Rc2=(2./27.)*((-3.*Qc)**1.5)\n",
    "    plt.plot(Rc1,Qc,'--k')\n",
    "    plt.plot(Rc2,Qc,'--k')\n",
    "    plt.plot([0,0],[qmin,qmax],'--k')\n",
    "    plt.plot([rmin,rmax],[0,0],'--k')\n",
    "    plt.axis([-20,20,-20,20])#rmin,rmax,qmin,qmax\n",
    "    plt.xlabel('$R_A/<Q_W>^{3/2}$')#/\\langle Q_W\\rangle^{3/2}\n",
    "    plt.ylabel('$Q_A/<Q_W>$')#/\\langle Q_W\\rangle\n",
    "    plt.title('Unfiltered\\n')\n",
    "    plt.show()"
   ]
  },
  {
   "cell_type": "markdown",
   "metadata": {},
   "source": [
    "This is my QR plot"
   ]
  },
  {
   "cell_type": "code",
   "execution_count": 24,
   "metadata": {
    "collapsed": false
   },
   "outputs": [
    {
     "data": {
      "text/plain": [
       "[output:1]"
      ]
     },
     "metadata": {},
     "output_type": "display_data"
    },
    {
     "data": {
      "text/plain": [
       "<matplotlib.figure.Figure at 0x7efb505d24a8>"
      ]
     },
     "metadata": {
      "engine": 1
     },
     "output_type": "display_data"
    },
    {
     "data": {
      "image/png": "[encoded data removed]",
      "text/plain": [
       "<matplotlib.figure.Figure at 0x7efb4e1e4550>"
      ]
     },
     "metadata": {
      "engine": 1
     },
     "output_type": "display_data"
    }
   ],
   "source": [
    "%%px\n",
    "%matplotlib inline\n",
    "import matplotlib\n",
    "import matplotlib.cm as cm\n",
    "import matplotlib.mlab as mlab\n",
    "import matplotlib.pyplot as plt\n",
    "if(my_id==0):\n",
    "    fmt={}\n",
    "    plt.figure()\n",
    "    SIZE = 12\n",
    "    plt.rc('font', size=SIZE)  # controls default text sizes\n",
    "    plt.rc('axes', titlesize=SIZE+4)  # fontsize of the axes title\n",
    "    plt.rc('axes', labelsize=SIZE+8)  # fontsize of the x any y labels\n",
    "    plt.rc('xtick', labelsize=SIZE+2)  # fontsize of the tick labels\n",
    "    plt.rc('ytick', labelsize=SIZE+2)  # fontsize of the tick labels\n",
    "    plt.rc('legend', fontsize=SIZE)  # legend fontsize\n",
    "    plt.rc('figure', titlesize=SIZE+4)  # # size of the figure title\n",
    "    plt.figure(figsize=(8,6))\n",
    "\n",
    "    X,Y=np.meshgrid(xedges_unfltrd[0:Ngrid-1],yedges_unfltrd[0:Ngrid-1])\n",
    "\n",
    "    levels=np.logspace(-5.,-1,num=5,base=10.0)#np.logspace[1e-5,1e-4,1e-3,1e-2,1e-1]\n",
    "    CS=plt.contour(X,Y,jPDF_unfltrd,levels,colors='k')#[1::2] #extent=(-15,15,-15,15)\n",
    "    strs=['-5','-4','-3','-2','-1']\n",
    "    for l,s in zip(CS.levels,strs):\n",
    "        fmt[l]=s\n",
    "    plt.clabel(CS,levels,inline=True,fmt=fmt,fontsize=16,colors='r')\n",
    "    #plt.colorbar()\n",
    "\n",
    "    # lines\n",
    "    Qc=np.linspace(qmin,0,50)\n",
    "    Rc1=-(2./27.)*((-3.*Qc)**1.5)\n",
    "    Rc2=(2./27.)*((-3.*Qc)**1.5)\n",
    "    plt.plot(Rc1,Qc,'--k')\n",
    "    plt.plot(Rc2,Qc,'--k')\n",
    "    plt.plot([0,0],[qmin,qmax],'--k')\n",
    "    plt.plot([rmin,rmax],[0,0],'--k')\n",
    "    plt.axis([-20,20,-20,20])#rmin,rmax,qmin,qmax\n",
    "    plt.xlabel('$R_A/<Q_W>^{3/2}$')#/\\langle Q_W\\rangle^{3/2}\n",
    "    plt.ylabel('$Q_A/<Q_W>$')#/\\langle Q_W\\rangle\n",
    "    plt.title('Unfiltered\\n')\n",
    "    plt.show()"
   ]
  },
  {
   "cell_type": "code",
   "execution_count": null,
   "metadata": {
    "collapsed": true
   },
   "outputs": [],
   "source": []
  }
 ],
 "metadata": {
  "kernelspec": {
   "display_name": "Python 3",
   "language": "python",
   "name": "python3"
  },
  "language_info": {
   "codemirror_mode": {
    "name": "ipython",
    "version": 3
   },
   "file_extension": ".py",
   "mimetype": "text/x-python",
   "name": "python",
   "nbconvert_exporter": "python",
   "pygments_lexer": "ipython3",
   "version": "3.5.2"
  }
 },
 "nbformat": 4,
 "nbformat_minor": 0
}
