{
 "cells": [
  {
   "cell_type": "code",
   "execution_count": 1,
   "metadata": {
    "collapsed": true
   },
   "outputs": [],
   "source": [
    "#!ipcluster start -n 8 --engines=MPI --profile='mpi' # for parallel run: start the engines using terminal\n",
    "from ipyparallel import Client\n",
    "rc = Client(profile='mpi')"
   ]
  },
  {
   "cell_type": "code",
   "execution_count": 2,
   "metadata": {
    "collapsed": true
   },
   "outputs": [],
   "source": [
    "%%px\n",
    "# Import the libraries\n",
    "\n",
    "import os\n",
    "import sys\n",
    "import math\n",
    "import numpy as np\n",
    "import pyfftw as ft \n",
    "from mpi4py import MPI\n",
    "import matplotlib\n",
    "import matplotlib.pyplot as plt\n",
    "import pyJHTDB\n",
    "from pyJHTDB.dbinfo import isotropic1024coarse\n",
    "from pyJHTDB import libJHTDB\n",
    "\n",
    "from fft3d import FFT3Dfield_new\n",
    "from EnergySpectrum import EnergySpectrum"
   ]
  },
  {
   "cell_type": "code",
   "execution_count": 3,
   "metadata": {
    "collapsed": false
   },
   "outputs": [
    {
     "name": "stdout",
     "output_type": "stream",
     "text": [
      "[stdout:4] \n",
      "n_proc = 8\n",
      "rank = 0\n"
     ]
    }
   ],
   "source": [
    "%%px\n",
    "\n",
    "Nx = isotropic1024coarse['nx']\n",
    "Ny = isotropic1024coarse['ny']\n",
    "Nz = isotropic1024coarse['nz']\n",
    "Lx = isotropic1024coarse['lx']\n",
    "Ly = isotropic1024coarse['ly']\n",
    "Lz = isotropic1024coarse['lz']\n",
    "\n",
    "comm = MPI.COMM_WORLD\n",
    "rank = comm.Get_rank()\n",
    "nproc = comm.Get_size()\n",
    "if(rank==0):\n",
    "    print(\"n_proc = \"+str(nproc))\n",
    "    print(\"rank = \"+str(rank))\n",
    "    \n",
    "# Computational Domain\n",
    "\n",
    "nx=Nx//nproc\n",
    "ny=Ny\n",
    "nz=Nz\n",
    "nz_half=nz//2\n",
    "nek=int(math.sqrt(2.0)/3*Nx)\n",
    "time = 0.0\n",
    "\n",
    "chkSz = 32\n",
    "slabs = nx//chkSz"
   ]
  },
  {
   "cell_type": "code",
   "execution_count": 4,
   "metadata": {
    "collapsed": false
   },
   "outputs": [
    {
     "name": "stdout",
     "output_type": "stream",
     "text": [
      "[stdout:4] \n",
      "Finished loading\n",
      "Load from disk: 18.26 seconds\n"
     ]
    }
   ],
   "source": [
    "%%px\n",
    "\n",
    "folder = \"/home/idies/workspace/scratch\"\n",
    "filename = \"ref-strainrate-\"+str(rank)+\".npz\"\n",
    "file = folder + \"/\" + filename\n",
    "\n",
    "comm.Barrier(); t1=MPI.Wtime()\n",
    "content = np.load(file)\n",
    "    \n",
    "S2 = ft.zeros_aligned((nx,ny,nz), dtype='float32')\n",
    "    \n",
    "if(int(content['nproc'])!=nproc):\n",
    "    print(\"Unmatched number of processes. Must first pre-process to adequate number of process\")\n",
    "S2[:,:,:] = content['S2']\n",
    "    \n",
    "comm.Barrier(); t2=MPI.Wtime()\n",
    "if(rank==0):\n",
    "    print(\"Finished loading\")\n",
    "    sys.stdout.write('Load from disk: {0:.2f} seconds\\n'.format(t2-t1))"
   ]
  },
  {
   "cell_type": "code",
   "execution_count": 5,
   "metadata": {
    "collapsed": false
   },
   "outputs": [
    {
     "name": "stdout",
     "output_type": "stream",
     "text": [
      "[stdout:4] \n",
      "Finished loading\n",
      "Load from disk: 22.49 seconds\n"
     ]
    }
   ],
   "source": [
    "%%px\n",
    "\n",
    "folder = \"/home/idies/workspace/scratch\"\n",
    "filename = \"ref-enstrophy-\"+str(rank)+\".npz\"\n",
    "file = folder + \"/\" + filename\n",
    "\n",
    "comm.Barrier(); t1=MPI.Wtime()\n",
    "content = np.load(file)\n",
    "    \n",
    "w2 = ft.zeros_aligned((nx,ny,nz), dtype='float32')\n",
    "    \n",
    "if(int(content['nproc'])!=nproc):\n",
    "    print(\"Unmatched number of processes. Must first pre-process to adequate number of process\")\n",
    "w2[:,:,:] = content['w2']\n",
    "    \n",
    "comm.Barrier(); t2=MPI.Wtime()\n",
    "if(rank==0):\n",
    "    print(\"Finished loading\")\n",
    "    sys.stdout.write('Load from disk: {0:.2f} seconds\\n'.format(t2-t1))"
   ]
  },
  {
   "cell_type": "code",
   "execution_count": 10,
   "metadata": {
    "collapsed": false
   },
   "outputs": [],
   "source": [
    "%%px\n",
    "\n",
    "fw2 = w2.flatten()"
   ]
  },
  {
   "cell_type": "code",
   "execution_count": 11,
   "metadata": {
    "collapsed": true
   },
   "outputs": [],
   "source": [
    "%%px\n",
    "\n",
    "fS2 = S2.flatten()"
   ]
  },
  {
   "cell_type": "code",
   "execution_count": 12,
   "metadata": {
    "collapsed": false
   },
   "outputs": [],
   "source": [
    "%%px\n",
    "\n",
    "jw2s2 = np.dstack((fw2,fS2))"
   ]
  },
  {
   "cell_type": "code",
   "execution_count": 14,
   "metadata": {
    "collapsed": false
   },
   "outputs": [
    {
     "name": "stdout",
     "output_type": "stream",
     "text": [
      "[stdout:0] (134217728, 2)\n",
      "[stdout:1] (134217728, 2)\n",
      "[stdout:2] (134217728, 2)\n",
      "[stdout:3] (134217728, 2)\n",
      "[stdout:4] (134217728, 2)\n",
      "[stdout:5] (134217728, 2)\n",
      "[stdout:6] (134217728, 2)\n",
      "[stdout:7] (134217728, 2)\n"
     ]
    }
   ],
   "source": [
    "%%px \n",
    "\n",
    "print(jw2s2[0].shape)"
   ]
  },
  {
   "cell_type": "code",
   "execution_count": 17,
   "metadata": {
    "collapsed": false
   },
   "outputs": [
    {
     "name": "stdout",
     "output_type": "stream",
     "text": [
      "[stdout:4] \n",
      "<S_ij S_ij> : 249.217727661\n",
      "min epsilon/<epsilon> : 3.98489813944e-05\n",
      "min epsilon/<epsilon> : 225.010358768\n"
     ]
    }
   ],
   "source": [
    "%%px\n",
    "\n",
    "avgEpsilon = np.average(S2)\n",
    "avgEpsilonGl=np.zeros(1,dtype='float32')\n",
    "\n",
    "comm.Reduce([avgEpsilon,MPI.REAL],[avgEpsilonGl,MPI.REAL],op=MPI.SUM)\n",
    "avgEpsilon = avgEpsilonGl[0]/nproc\n",
    "avgEpsilon = comm.bcast(avgEpsilon, root=0)\n",
    "\n",
    "##########################\n",
    "\n",
    "minS2 = S2.min()\n",
    "maxS2 = S2.max()\n",
    "\n",
    "minS2Gl=np.zeros(nproc,dtype='float32')\n",
    "maxS2Gl=np.zeros(nproc,dtype='float32')\n",
    "\n",
    "comm.Allgather([minS2,MPI.REAL],[minS2Gl,MPI.REAL])\n",
    "comm.Allgather([maxS2,MPI.REAL],[maxS2Gl,MPI.REAL])\n",
    "\n",
    "minS2 = minS2Gl.min()\n",
    "maxS2 = maxS2Gl.max()\n",
    "\n",
    "comm.Barrier()\n",
    "\n",
    "if rank==0:\n",
    "    print(\"<S_ij S_ij> : \"+str(avgEpsilon))\n",
    "    print(\"min epsilon/<epsilon> : \"+str(minS2/avgEpsilon))\n",
    "    print(\"min epsilon/<epsilon> : \"+str(maxS2/avgEpsilon))"
   ]
  },
  {
   "cell_type": "code",
   "execution_count": 19,
   "metadata": {
    "collapsed": false
   },
   "outputs": [
    {
     "name": "stdout",
     "output_type": "stream",
     "text": [
      "[stdout:4] \n",
      "<0.5*omega^2> : 249.21774292\n",
      "min w2/<w^2> : 1.43020472082e-07\n",
      "min w2/<w^2> : 675.170126447\n"
     ]
    }
   ],
   "source": [
    "%%px\n",
    "\n",
    "avgOmega = np.average(w2)\n",
    "avgOmegaGl=np.zeros(1,dtype='float32')\n",
    "\n",
    "comm.Reduce([avgOmega,MPI.REAL],[avgOmegaGl,MPI.REAL],op=MPI.SUM)\n",
    "avgOmega = avgOmegaGl[0]/nproc\n",
    "avgOmega = comm.bcast(avgOmega, root=0)\n",
    "\n",
    "##########################\n",
    "\n",
    "minw2 = w2.min()\n",
    "maxw2 = w2.max()\n",
    "\n",
    "minw2Gl=np.zeros(nproc,dtype='float32')\n",
    "maxw2Gl=np.zeros(nproc,dtype='float32')\n",
    "\n",
    "comm.Allgather([minw2,MPI.REAL],[minw2Gl,MPI.REAL])\n",
    "comm.Allgather([maxw2,MPI.REAL],[maxw2Gl,MPI.REAL])\n",
    "\n",
    "minw2 = minw2Gl.min()\n",
    "maxw2 = maxw2Gl.max()\n",
    "\n",
    "comm.Barrier()\n",
    "\n",
    "if rank==0:\n",
    "    print(\"<0.5*omega^2> : \"+str(avgOmega/2))\n",
    "    print(\"min w2/<w^2> : \"+str(minw2/avgOmega))\n",
    "    print(\"min w2/<w^2> : \"+str(maxw2/avgOmega))"
   ]
  },
  {
   "cell_type": "code",
   "execution_count": 20,
   "metadata": {
    "collapsed": true
   },
   "outputs": [],
   "source": [
    "%%px\n",
    "\n",
    "#numpy.linspace(start, stop, num=50, endpoint=True, retstep=False, dtype=None)\n",
    "\n",
    "nE = 100\n",
    "nO = 100\n",
    "\n",
    "linE = np.linspace(minS2/avgEpsilon,maxS2/avgEpsilon, nE)\n",
    "linO = np.linspace(minw2/avgOmega,maxw2/avgOmega, nO)"
   ]
  },
  {
   "cell_type": "code",
   "execution_count": null,
   "metadata": {
    "collapsed": true
   },
   "outputs": [],
   "source": [
    "%%px\n",
    "\n"
   ]
  }
 ],
 "metadata": {
  "kernelspec": {
   "display_name": "Python 3",
   "language": "python",
   "name": "python3"
  },
  "language_info": {
   "codemirror_mode": {
    "name": "ipython",
    "version": 3
   },
   "file_extension": ".py",
   "mimetype": "text/x-python",
   "name": "python",
   "nbconvert_exporter": "python",
   "pygments_lexer": "ipython3",
   "version": "3.5.2"
  }
 },
 "nbformat": 4,
 "nbformat_minor": 0
}
