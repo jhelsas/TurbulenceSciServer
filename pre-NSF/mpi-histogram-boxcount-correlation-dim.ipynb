{
 "cells": [
  {
   "cell_type": "code",
   "execution_count": 1,
   "metadata": {
    "collapsed": false
   },
   "outputs": [],
   "source": [
    "#!ipcluster start -n 8 --engines=MPI --profile='mpi' # for parallel run: start the engines using terminal\n",
    "from ipyparallel import Client\n",
    "rc = Client(profile='mpi')"
   ]
  },
  {
   "cell_type": "code",
   "execution_count": 2,
   "metadata": {
    "collapsed": false
   },
   "outputs": [],
   "source": [
    "%%px\n",
    "# Import the libraries\n",
    "\n",
    "import os\n",
    "import sys\n",
    "import math\n",
    "import numpy as np\n",
    "import pyfftw as ft \n",
    "from mpi4py import MPI\n",
    "import matplotlib\n",
    "import matplotlib.pyplot as plt\n",
    "import pyJHTDB\n",
    "from pyJHTDB.dbinfo import isotropic1024coarse\n",
    "from pyJHTDB import libJHTDB\n",
    "\n",
    "from fft3d import FFT3Dfield_new\n",
    "from EnergySpectrum import EnergySpectrum"
   ]
  },
  {
   "cell_type": "code",
   "execution_count": 3,
   "metadata": {
    "collapsed": false
   },
   "outputs": [
    {
     "name": "stdout",
     "output_type": "stream",
     "text": [
      "[stdout:0] \n",
      "n_proc = 8\n",
      "rank = 0\n"
     ]
    }
   ],
   "source": [
    "%%px\n",
    "\n",
    "Nx = isotropic1024coarse['nx']; Ny = isotropic1024coarse['ny']; Nz = isotropic1024coarse['nz']\n",
    "Lx = isotropic1024coarse['lx']; Ly = isotropic1024coarse['ly']; Lz = isotropic1024coarse['lz']\n",
    "\n",
    "comm = MPI.COMM_WORLD\n",
    "rank = comm.Get_rank()\n",
    "nproc = comm.Get_size()\n",
    "if(rank==0):\n",
    "    print(\"n_proc = \"+str(nproc))\n",
    "    print(\"rank = \"+str(rank))\n",
    "\n",
    "# Computational Domain\n",
    "\n",
    "nx=Nx//nproc; ny=Ny; nz=Nz\n",
    "nz_half=nz//2\n",
    "nek=int(math.sqrt(2.0)/3*Nx)\n",
    "time = 0.0\n",
    "\n",
    "chkSz = 32\n",
    "slabs = nx//chkSz"
   ]
  },
  {
   "cell_type": "code",
   "execution_count": 4,
   "metadata": {
    "collapsed": false
   },
   "outputs": [
    {
     "name": "stdout",
     "output_type": "stream",
     "text": [
      "[stdout:0] \n",
      "Finished loading\n",
      "Load from disk: 67.84 seconds\n"
     ]
    }
   ],
   "source": [
    "%%px\n",
    "\n",
    "cacheEnstrophyData = False\n",
    "loadEnstrophyFromCache = True\n",
    "\n",
    "folder = \"/home/idies/workspace/scratch\"\n",
    "filename = \"ref-enstrophy-\"+str(rank)+\".npz\"\n",
    "file = folder + \"/\" + filename\n",
    "\n",
    "if(loadEnstrophyFromCache):\n",
    "    comm.Barrier(); t1=MPI.Wtime()\n",
    "    content = np.load(file)\n",
    "    \n",
    "    w2 = ft.zeros_aligned((nx,ny,nz), dtype='float32')\n",
    "    \n",
    "    if(int(content['nproc'])!=nproc):\n",
    "        print(\"Unmatched number of processes. Must first pre-process to adequate number of process\")\n",
    "    w2[:,:,:] = content['w2']\n",
    "    \n",
    "    comm.Barrier(); t2=MPI.Wtime()\n",
    "    if(rank==0):\n",
    "        print(\"Finished loading\")\n",
    "        sys.stdout.write('Load from disk: {0:.2f} seconds\\n'.format(t2-t1))\n",
    "\n",
    "if(cacheEnstrophyData):\n",
    "    \n",
    "    comm.Barrier(); t1=MPI.Wtime()\n",
    "    np.savez(file,w2=w2,nproc=nproc)\n",
    "    comm.Barrier(); t2=MPI.Wtime()\n",
    "    if(rank==0):\n",
    "        sys.stdout.write('Caching the data: {0:.2f} seconds\\n'.format(t2-t1))"
   ]
  },
  {
   "cell_type": "code",
   "execution_count": 5,
   "metadata": {
    "collapsed": true
   },
   "outputs": [],
   "source": [
    "%%px\n",
    "\n",
    "w2 = 0.5*w2"
   ]
  },
  {
   "cell_type": "code",
   "execution_count": 6,
   "metadata": {
    "collapsed": false
   },
   "outputs": [
    {
     "name": "stdout",
     "output_type": "stream",
     "text": [
      "[stdout:0] \n",
      "<w^2>/2 : 249.21774292\n",
      "min w2/<w^2> : 1.43020472082e-07\n",
      "min w2/<w^2> : 675.170126447\n"
     ]
    }
   ],
   "source": [
    "%%px\n",
    "\n",
    "avgOmega = np.average(w2)\n",
    "avgOmegaGl=np.zeros(1,dtype='float32')\n",
    "\n",
    "comm.Reduce([avgOmega,MPI.REAL],[avgOmegaGl,MPI.REAL],op=MPI.SUM)\n",
    "avgOmega = avgOmegaGl[0]/nproc\n",
    "avgOmega = comm.bcast(avgOmega, root=0)\n",
    "\n",
    "##########################\n",
    "\n",
    "minw2 = w2.min()\n",
    "maxw2 = w2.max()\n",
    "\n",
    "minwGl=np.zeros(nproc,dtype='float32')\n",
    "maxwGl=np.zeros(nproc,dtype='float32')\n",
    "\n",
    "comm.Allgather([minw2,MPI.REAL],[minwGl,MPI.REAL])\n",
    "comm.Allgather([maxw2,MPI.REAL],[maxwGl,MPI.REAL])\n",
    "\n",
    "minw2 = minwGl.min()\n",
    "maxw2 = maxwGl.max()\n",
    "\n",
    "comm.Barrier()\n",
    "\n",
    "if rank==0:\n",
    "    print(\"<w^2>/2 : \"+str(avgOmega))\n",
    "    print(\"min w2/<w^2> : \"+str(minw2/avgOmega))\n",
    "    print(\"min w2/<w^2> : \"+str(maxw2/avgOmega))"
   ]
  },
  {
   "cell_type": "code",
   "execution_count": 7,
   "metadata": {
    "collapsed": false
   },
   "outputs": [
    {
     "name": "stdout",
     "output_type": "stream",
     "text": [
      "[stdout:0] Alocating vectors: 1.33 seconds\n"
     ]
    }
   ],
   "source": [
    "%%px\n",
    "\n",
    "dx = isotropic1024coarse['dx']\n",
    "ner = int(1024*np.sqrt(3))\n",
    "rbins = np.linspace(-0.5*dx,2*np.pi*np.sqrt(3)+0.5*dx,ner+1)\n",
    "\n",
    "comm.Barrier(); t1=MPI.Wtime()\n",
    "\n",
    "X = np.zeros((nx,ny,nz), dtype='float32')\n",
    "Y = np.zeros((nx,ny,nz), dtype='float32')\n",
    "Z = np.zeros((nx,ny,nz), dtype='float32')\n",
    "r2 = np.zeros((nx,ny,nz), dtype='float32')\n",
    "\n",
    "chi = ft.zeros_aligned((nx,ny,nz), dtype='float32')\n",
    "\n",
    "comm.Barrier(); t2=MPI.Wtime()\n",
    "if(rank==0):\n",
    "    sys.stdout.write('Alocating vectors: {0:.2f} seconds\\n'.format(t2-t1))"
   ]
  },
  {
   "cell_type": "code",
   "execution_count": 8,
   "metadata": {
    "collapsed": false
   },
   "outputs": [
    {
     "name": "stdout",
     "output_type": "stream",
     "text": [
      "[stdout:0] Preparing the real domain for radial integration: 194.66 seconds\n"
     ]
    }
   ],
   "source": [
    "%%px\n",
    "\n",
    "comm.Barrier(); t1=MPI.Wtime()\n",
    "for i in range(nx):\n",
    "    X[i,:,:] = (i+rank*nx)*isotropic1024coarse['dx']\n",
    "    \n",
    "for j in range(ny):\n",
    "    Y[:,j,:] = j*isotropic1024coarse['dy']\n",
    "    \n",
    "for k in range(nz):\n",
    "    Z[:,:,k] = k*isotropic1024coarse['dz']\n",
    "    \n",
    "r2[:,:,:] = X[:,:,:]**2+Y[:,:,:]**2+Z[:,:,:]**2\n",
    "\n",
    "r2rt = np.sqrt(r2)\n",
    "comm.Barrier(); t2=MPI.Wtime()\n",
    "if(rank==0):\n",
    "    sys.stdout.write('Preparing the real domain for radial integration: {0:.2f} seconds\\n'.format(t2-t1))"
   ]
  },
  {
   "cell_type": "code",
   "execution_count": 9,
   "metadata": {
    "collapsed": true
   },
   "outputs": [],
   "source": [
    "%%px\n",
    "\n",
    "BoxL = isotropic1024coarse['lx']\n",
    "x0 = y0 = z0 = 0.\n",
    "t = 5\n",
    "\n",
    "L = BoxL/2.\n",
    "\n",
    "x1 = x0+isotropic1024coarse['lx']\n",
    "y1 = y0+isotropic1024coarse['ly']\n",
    "z1 = z0+isotropic1024coarse['lz']\n",
    "\n",
    "nx = int((x1-x0)/L)+1\n",
    "ny = int((y1-y0)/L)+1\n",
    "nz = int((z1-z0)/L)+1\n",
    "\n",
    "x1 = x0 + nx*L\n",
    "y1 = y0 + ny*L \n",
    "z1 = z0 + nz*L"
   ]
  },
  {
   "cell_type": "code",
   "execution_count": 15,
   "metadata": {
    "collapsed": false,
    "scrolled": false
   },
   "outputs": [
    {
     "name": "stdout",
     "output_type": "stream",
     "text": [
      "[stdout:0] \n",
      "(360925,)\n",
      "Computing boxcounting numbers: 960.50 seconds\n",
      "(316110,)\n",
      "Computing boxcounting numbers: 989.50 seconds\n",
      "(269411,)\n",
      "Computing boxcounting numbers: 998.50 seconds\n",
      "(148350,)\n",
      "Computing boxcounting numbers: 931.04 seconds\n",
      "(84577,)\n",
      "Computing boxcounting numbers: 932.29 seconds\n",
      "(45361,)\n",
      "Computing boxcounting numbers: 919.62 seconds\n",
      "(23344,)\n",
      "Computing boxcounting numbers: 885.62 seconds\n",
      "(9529,)\n",
      "Computing boxcounting numbers: 921.29 seconds\n",
      "(4833,)\n",
      "Computing boxcounting numbers: 980.31 seconds\n",
      "[stdout:1] \n",
      "(193732,)\n",
      "(173003,)\n",
      "(149582,)\n",
      "(84963,)\n",
      "(48491,)\n",
      "(25965,)\n",
      "(13428,)\n",
      "(5503,)\n",
      "(2811,)\n",
      "[stdout:2] \n",
      "(260902,)\n",
      "(230999,)\n",
      "(198610,)\n",
      "(111533,)\n",
      "(63859,)\n",
      "(34178,)\n",
      "(17595,)\n",
      "(7234,)\n",
      "(3703,)\n",
      "[stdout:3] \n",
      "(338735,)\n",
      "(296937,)\n",
      "(253206,)\n",
      "(140076,)\n",
      "(79558,)\n",
      "(42401,)\n",
      "(21912,)\n",
      "(8900,)\n",
      "(4459,)\n",
      "[stdout:4] \n",
      "(345435,)\n",
      "(304112,)\n",
      "(259664,)\n",
      "(143512,)\n",
      "(81225,)\n",
      "(43379,)\n",
      "(22421,)\n",
      "(9193,)\n",
      "(4651,)\n",
      "[stdout:5] \n",
      "(294874,)\n",
      "(259579,)\n",
      "(222180,)\n",
      "(123123,)\n",
      "(70034,)\n",
      "(37434,)\n",
      "(19602,)\n",
      "(8134,)\n",
      "(4158,)\n",
      "[stdout:6] \n",
      "(203090,)\n",
      "(179362,)\n",
      "(154024,)\n",
      "(85682,)\n",
      "(48618,)\n",
      "(25954,)\n",
      "(13534,)\n",
      "(5625,)\n",
      "(2872,)\n",
      "[stdout:7] \n",
      "(208950,)\n",
      "(186080,)\n",
      "(160668,)\n",
      "(90732,)\n",
      "(52188,)\n",
      "(27807,)\n",
      "(14389,)\n",
      "(5787,)\n",
      "(2899,)\n"
     ]
    }
   ],
   "source": [
    "%%px\n",
    "tl = [1,2,3,4,5,6]\n",
    "dtl = [1,0.7,0.5,0.2,0.1,0.05,0.025,0.01,0.005]\n",
    "\n",
    "lcorr = []\n",
    "llogr = []\n",
    "\n",
    "eta = 0.00287\n",
    "\n",
    "dt = 0.05\n",
    "tboxes = []\n",
    "\n",
    "t=20\n",
    "for dt in dtl:\n",
    "    comm.Barrier(); t1=MPI.Wtime()\n",
    "    \n",
    "    Xs = X[(w2 > t*avgOmega)&(w2 < t*(1+dt)*avgOmega)]\n",
    "    Ys = Y[(w2 > t*avgOmega)&(w2 < t*(1+dt)*avgOmega)]\n",
    "    Zs = Z[(w2 > t*avgOmega)&(w2 < t*(1+dt)*avgOmega)]\n",
    "    \n",
    "    print(Xs.shape)\n",
    "    \n",
    "    hist = np.zeros((Xs.shape[0],3))\n",
    "    \n",
    "    hist[:,0] = Xs[:]\n",
    "    hist[:,1] = Ys[:]\n",
    "    hist[:,2] = Zs[:]\n",
    "    \n",
    "    count = []\n",
    "    scales = np.logspace(np.log(2*425*eta),np.log(0.1*42.5*eta), num=250, endpoint=True, base=np.e)\n",
    "    #scales = [0.1*42.5*eta,0.3*42.5*eta]\n",
    "    \n",
    "    for L in scales:\n",
    "        x1 = x0+isotropic1024coarse['lx']\n",
    "        y1 = y0+isotropic1024coarse['ly']\n",
    "        z1 = z0+isotropic1024coarse['lz']\n",
    "        \n",
    "        nx = int((x1-x0)/L)+1\n",
    "        ny = int((y1-y0)/L)+1\n",
    "        nz = int((z1-z0)/L)+1\n",
    "        \n",
    "        x1 = x0 + nx*L\n",
    "        y1 = y0 + ny*L \n",
    "        z1 = z0 + nz*L\n",
    "        \n",
    "        H, edges = np.histogramdd(hist, bins=(nx,ny,nz), range=((x0,x1),(y0,y1),(z0,z1)))\n",
    "        \n",
    "        Hglobal = np.zeros(H.shape,dtype='float64')\n",
    "        comm.Allreduce([H.astype('float64'),MPI.DOUBLE],[Hglobal,MPI.DOUBLE],op=MPI.SUM)\n",
    "        \n",
    "        Hn = Hglobal[:,:,:]\n",
    "        Sn = Hglobal[:,:,:]\n",
    "        Bn = Hglobal[:,:,:]\n",
    "        ###############################################################\n",
    "        # Here is where boxcouting and correlation dimension differs. #\n",
    "        ###############################################################\n",
    "        Bn[Bn>0] = 1\n",
    "        numBox = np.sum(Bn)\n",
    "        numPts = np.sum(Sn)\n",
    "        Hn[:,:,:] = Hn[:,:,:]/(numPts)\n",
    "        corrBox = np.sum(Hn**2)\n",
    "        ###############################################################\n",
    "        gbox = np.zeros(1,dtype='float32')\n",
    "        gbox[0] = corrBox#/numBox\n",
    "        gbox = gbox[0]\n",
    "        ###############################################################\n",
    "        count.append(gbox)\n",
    "    \n",
    "    acount = np.array(count)\n",
    "    \n",
    "    tboxes.append(acount[:])\n",
    "        \n",
    "    comm.Barrier(); t2=MPI.Wtime()\n",
    "    if(rank==0):\n",
    "        sys.stdout.write('Computing boxcounting numbers: {0:.2f} seconds\\n'.format(t2-t1))"
   ]
  },
  {
   "cell_type": "code",
   "execution_count": 16,
   "metadata": {
    "collapsed": false
   },
   "outputs": [
    {
     "name": "stdout",
     "output_type": "stream",
     "text": [
      "[stdout:0] \n",
      "[  3.70370373e-02   3.70370373e-02   3.70370373e-02   3.70370373e-02\n",
      "   3.70370373e-02   3.70370373e-02   3.70370373e-02   3.70370373e-02\n",
      "   1.56250000e-02   1.56250000e-02   1.56250000e-02   1.56250000e-02\n",
      "   1.56250000e-02   1.56250000e-02   1.56250000e-02   1.56250000e-02\n",
      "   1.56250000e-02   1.56250000e-02   1.56250000e-02   1.56250000e-02\n",
      "   1.56250000e-02   8.33333377e-03   8.06451589e-03   8.00000038e-03\n",
      "   8.00000038e-03   8.00000038e-03   8.00000038e-03   8.00000038e-03\n",
      "   8.00000038e-03   8.00000038e-03   8.00000038e-03   8.00000038e-03\n",
      "   4.65116277e-03   4.62962966e-03   4.62962966e-03   4.62962966e-03\n",
      "   4.62962966e-03   4.62962966e-03   4.62962966e-03   4.62962966e-03\n",
      "   3.02114803e-03   2.92397663e-03   2.91545200e-03   2.91545200e-03\n",
      "   2.91545200e-03   2.91545200e-03   2.91545200e-03   2.91545200e-03\n",
      "   1.96850393e-03   1.95694715e-03   1.95694715e-03   1.95312500e-03\n",
      "   1.95312500e-03   1.95312500e-03   1.38888892e-03   1.37362641e-03\n",
      "   1.37551583e-03   1.37931039e-03   1.37931039e-03   1.06044544e-03\n",
      "   1.01832999e-03   1.00806449e-03   1.00603618e-03   1.00401603e-03\n",
      "   8.01924616e-04   7.71010004e-04   7.63941964e-04   7.69230770e-04\n",
      "   7.64526019e-04   6.07164518e-04   5.93824254e-04   5.92417084e-04\n",
      "   5.94177051e-04   4.85436904e-04   4.73933644e-04   4.75737383e-04\n",
      "   4.75059380e-04   3.89408087e-04   3.86100379e-04   3.84763378e-04\n",
      "   3.29706556e-04   3.20307503e-04   3.18471342e-04   2.80583627e-04\n",
      "   2.71444093e-04   2.69687152e-04   2.41896472e-04   2.31588696e-04\n",
      "   2.29357800e-04   2.04415366e-04   1.98530877e-04   1.97745700e-04\n",
      "   1.75746929e-04   1.73310225e-04   1.60771699e-04   1.54083202e-04\n",
      "   1.52718392e-04   1.37098992e-04   1.35391281e-04   1.23869686e-04\n",
      "   1.20540019e-04   1.12397436e-04   1.09685207e-04   1.03573278e-04\n",
      "   9.98103569e-05   9.36329598e-05   9.07029462e-05   8.48968484e-05\n",
      "   8.34585226e-05   7.73036518e-05   7.65052391e-05   7.12910842e-05\n",
      "   7.06464125e-05   6.59630605e-05   6.26566398e-05   6.17894184e-05\n",
      "   5.77067331e-05   5.55833467e-05   5.39578068e-05   5.09087222e-05\n",
      "   4.86973477e-05   4.77258618e-05   4.53947068e-05   4.31015906e-05\n",
      "   4.14886126e-05   4.09098357e-05   3.86832216e-05   3.70892376e-05\n",
      "   3.55454431e-05   3.42454041e-05   3.36541707e-05   3.23394343e-05\n",
      "   3.10723044e-05   2.97070874e-05   2.86689028e-05   2.75444145e-05\n",
      "   2.66816078e-05   2.57566007e-05   2.47899061e-05   2.40159461e-05\n",
      "   2.31438626e-05   2.23979223e-05   2.17400757e-05   2.10779253e-05\n",
      "   2.01422044e-05   1.94855802e-05   1.88412632e-05   1.83891134e-05\n",
      "   1.79028593e-05   1.70864223e-05   1.66096397e-05   1.62035158e-05\n",
      "   1.55366361e-05   1.51402746e-05   1.44994783e-05   1.41586906e-05\n",
      "   1.36720355e-05   1.33281801e-05   1.28055726e-05   1.25440611e-05\n",
      "   1.21250332e-05   1.17094651e-05   1.14900267e-05   1.10800866e-05\n",
      "   1.07470260e-05   1.04009569e-05   1.02042895e-05   9.88357169e-06\n",
      "   9.59748195e-06   9.32235798e-06   9.05026536e-06   8.81795313e-06\n",
      "   8.56274346e-06   8.25695679e-06   8.05574564e-06   7.84172244e-06\n",
      "   7.66641915e-06   7.39710640e-06   7.22945560e-06   6.99883140e-06\n",
      "   6.81175698e-06   6.62273578e-06   6.48478999e-06   6.27576992e-06\n",
      "   6.09458812e-06   5.96826067e-06   5.80878623e-06   5.63720096e-06\n",
      "   5.48209528e-06   5.34928131e-06   5.21150923e-06   5.07670893e-06\n",
      "   4.92092067e-06   4.79243954e-06   4.67466680e-06   4.54574365e-06\n",
      "   4.42587543e-06   4.30466707e-06   4.21128880e-06   4.09873019e-06\n",
      "   3.98282600e-06   3.88283161e-06   3.77395509e-06   3.68040810e-06\n",
      "   3.58384409e-06   3.49222978e-06   3.39382245e-06   3.31170781e-06\n",
      "   3.21978223e-06   3.14291469e-06   3.05865592e-06   2.97712972e-06\n",
      "   2.89880290e-06   2.82082669e-06   2.74963986e-06   2.68059853e-06\n",
      "   2.60995080e-06   2.53818712e-06   2.46700984e-06   2.40817053e-06\n",
      "   2.34501226e-06   2.28505087e-06   2.22159019e-06   2.16709600e-06\n",
      "   2.10296548e-06   2.05129891e-06   1.99395822e-06   1.93911183e-06\n",
      "   1.88359741e-06   1.83361419e-06   1.78663947e-06   1.74151103e-06\n",
      "   1.69144630e-06   1.64472874e-06   1.60628895e-06   1.55751104e-06\n",
      "   1.51684537e-06   1.47650951e-06   1.43787031e-06   1.40015823e-06\n",
      "   1.36097935e-06   1.32006926e-06   1.28495731e-06   1.25110409e-06\n",
      "   1.21652283e-06   1.18122466e-06   1.15010084e-06   1.11466693e-06\n",
      "   1.08607469e-06   1.05497145e-06]\n",
      "[[  3.70370373e-02   3.70370373e-02   3.70370373e-02 ...,   1.11466693e-06\n",
      "    1.08607469e-06   1.05497145e-06]\n",
      " [  3.70370373e-02   3.70370373e-02   3.70370373e-02 ...,   1.14404304e-06\n",
      "    1.11608767e-06   1.08601103e-06]\n",
      " [  3.70370373e-02   3.70370373e-02   3.70370373e-02 ...,   1.19770380e-06\n",
      "    1.17026127e-06   1.14104580e-06]\n",
      " ..., \n",
      " [  3.70370373e-02   3.70370373e-02   3.70370373e-02 ...,   7.27674933e-06\n",
      "    7.25315704e-06   7.22950790e-06]\n",
      " [  3.70370373e-02   3.70370373e-02   3.70370373e-02 ...,   1.71144966e-05\n",
      "    1.71027878e-05   1.70858384e-05]\n",
      " [  3.70370373e-02   3.70370373e-02   3.70370373e-02 ...,   3.33066891e-05\n",
      "    3.33077987e-05   3.32944910e-05]]\n"
     ]
    }
   ],
   "source": [
    "%%px \n",
    "\n",
    "if rank==0:\n",
    "    print(tboxes[0])\n",
    "    #print(tboxes[1])\n",
    "    tfboxes = np.array(tboxes)\n",
    "    print(tfboxes)\n",
    "    np.savez('boxcount-corr-dims-shells.npz',tfboxes = tfboxes)"
   ]
  },
  {
   "cell_type": "code",
   "execution_count": null,
   "metadata": {
    "collapsed": true
   },
   "outputs": [],
   "source": []
  }
 ],
 "metadata": {
  "kernelspec": {
   "display_name": "Python 3",
   "language": "python",
   "name": "python3"
  },
  "language_info": {
   "codemirror_mode": {
    "name": "ipython",
    "version": 3
   },
   "file_extension": ".py",
   "mimetype": "text/x-python",
   "name": "python",
   "nbconvert_exporter": "python",
   "pygments_lexer": "ipython3",
   "version": "3.5.2"
  }
 },
 "nbformat": 4,
 "nbformat_minor": 0
}
