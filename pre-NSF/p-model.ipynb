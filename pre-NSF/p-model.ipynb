{
 "cells": [
  {
   "cell_type": "code",
   "execution_count": 1,
   "metadata": {
    "collapsed": true
   },
   "outputs": [],
   "source": [
    "import os\n",
    "import sys\n",
    "import math\n",
    "import numpy as np\n",
    "import numpy.fft as fft\n",
    "import matplotlib\n",
    "import matplotlib.pyplot as plt"
   ]
  },
  {
   "cell_type": "code",
   "execution_count": 2,
   "metadata": {
    "collapsed": true
   },
   "outputs": [],
   "source": [
    "Lv = 24\n",
    "N = 2**Lv"
   ]
  },
  {
   "cell_type": "code",
   "execution_count": 3,
   "metadata": {
    "collapsed": false
   },
   "outputs": [
    {
     "name": "stdout",
     "output_type": "stream",
     "text": [
      "16777216\n"
     ]
    }
   ],
   "source": [
    "print(N)"
   ]
  },
  {
   "cell_type": "code",
   "execution_count": 4,
   "metadata": {
    "collapsed": true
   },
   "outputs": [],
   "source": [
    "epsilon = np.zeros(N,dtype='float64')"
   ]
  },
  {
   "cell_type": "code",
   "execution_count": 5,
   "metadata": {
    "collapsed": true
   },
   "outputs": [],
   "source": [
    "epsilon[:] = 1."
   ]
  },
  {
   "cell_type": "code",
   "execution_count": 6,
   "metadata": {
    "collapsed": false
   },
   "outputs": [],
   "source": [
    "s = np.random.uniform(0,1,10**6)"
   ]
  },
  {
   "cell_type": "code",
   "execution_count": 7,
   "metadata": {
    "collapsed": false
   },
   "outputs": [
    {
     "name": "stdout",
     "output_type": "stream",
     "text": [
      "0.6\n",
      "0.4\n"
     ]
    }
   ],
   "source": [
    "p = 0.6\n",
    "\n",
    "print(p)\n",
    "print(1-p)"
   ]
  },
  {
   "cell_type": "code",
   "execution_count": 8,
   "metadata": {
    "collapsed": false
   },
   "outputs": [],
   "source": [
    "chg = 0\n",
    "Nv = 1\n",
    "epsilon[:] = 1.\n",
    "for k in range(Nv):\n",
    "    div = 2**(k+1)\n",
    "    chk = N//div\n",
    "    for i in range(div//2):\n",
    "        rnd = s[chg]\n",
    "        chg += 1\n",
    "        if(rnd >= 0.5):\n",
    "            #print(\"left\")\n",
    "            epsilon[(2*i+0)*chk:(2*i+1)*chk] *= p\n",
    "            epsilon[(2*i+1)*chk:(2*i+2)*chk] *= (1-p)\n",
    "        else:\n",
    "            #print(\"right\")\n",
    "            epsilon[(2*i+0)*chk:(2*i+1)*chk] *= (1-p)\n",
    "            epsilon[(2*i+1)*chk:(2*i+2)*chk] *= p"
   ]
  },
  {
   "cell_type": "code",
   "execution_count": 9,
   "metadata": {
    "collapsed": false
   },
   "outputs": [
    {
     "data": {
      "text/plain": [
       "[<matplotlib.lines.Line2D at 0x7f80dcd45ef0>]"
      ]
     },
     "execution_count": 9,
     "metadata": {},
     "output_type": "execute_result"
    },
    {
     "data": {
      "image/png": "[encoded data removed]",
      "text/plain": [
       "<matplotlib.figure.Figure at 0x7f80dd58d518>"
      ]
     },
     "metadata": {},
     "output_type": "display_data"
    }
   ],
   "source": [
    "x = np.arange(0,N)\n",
    "x = x/N\n",
    "epsAvg = np.average(epsilon)\n",
    "plt.xlim(-0.1,1.1)\n",
    "plt.ylim(0,5)\n",
    "plt.plot(x,epsilon/epsAvg)"
   ]
  },
  {
   "cell_type": "code",
   "execution_count": 10,
   "metadata": {
    "collapsed": true
   },
   "outputs": [],
   "source": [
    "chg = 0\n",
    "Nv = 2\n",
    "epsilon[:] = 1.\n",
    "for k in range(Nv):\n",
    "    div = 2**(k+1)\n",
    "    chk = N//div\n",
    "    for i in range(div//2):\n",
    "        rnd = s[chg]\n",
    "        chg += 1\n",
    "        if(rnd >= 0.5):\n",
    "            #print(\"left\")\n",
    "            epsilon[(2*i+0)*chk:(2*i+1)*chk] *= p\n",
    "            epsilon[(2*i+1)*chk:(2*i+2)*chk] *= (1-p)\n",
    "        else:\n",
    "            #print(\"right\")\n",
    "            epsilon[(2*i+0)*chk:(2*i+1)*chk] *= (1-p)\n",
    "            epsilon[(2*i+1)*chk:(2*i+2)*chk] *= p"
   ]
  },
  {
   "cell_type": "code",
   "execution_count": 11,
   "metadata": {
    "collapsed": false
   },
   "outputs": [
    {
     "data": {
      "text/plain": [
       "[<matplotlib.lines.Line2D at 0x7f80dcb2b7b8>]"
      ]
     },
     "execution_count": 11,
     "metadata": {},
     "output_type": "execute_result"
    },
    {
     "data": {
      "image/png": "[encoded data removed]",
      "text/plain": [
       "<matplotlib.figure.Figure at 0x7f80dcb2b6a0>"
      ]
     },
     "metadata": {},
     "output_type": "display_data"
    }
   ],
   "source": [
    "x = np.arange(0,N)\n",
    "x = x/N\n",
    "epsAvg = np.average(epsilon)\n",
    "plt.ylim(0,5)\n",
    "plt.plot(x,epsilon/epsAvg)"
   ]
  },
  {
   "cell_type": "code",
   "execution_count": 12,
   "metadata": {
    "collapsed": false
   },
   "outputs": [],
   "source": [
    "chg = 0\n",
    "Nv = 9\n",
    "epsilon[:] = 1.\n",
    "for k in range(Nv):\n",
    "    div = 2**(k+1)\n",
    "    chk = N//div\n",
    "    for i in range(div//2):\n",
    "        rnd = s[chg]\n",
    "        chg += 1\n",
    "        if(rnd >= 0.5):\n",
    "            #print(\"left\")\n",
    "            epsilon[(2*i+0)*chk:(2*i+1)*chk] *= p\n",
    "            epsilon[(2*i+1)*chk:(2*i+2)*chk] *= (1-p)\n",
    "        else:\n",
    "            #print(\"right\")\n",
    "            epsilon[(2*i+0)*chk:(2*i+1)*chk] *= (1-p)\n",
    "            epsilon[(2*i+1)*chk:(2*i+2)*chk] *= p"
   ]
  },
  {
   "cell_type": "code",
   "execution_count": 13,
   "metadata": {
    "collapsed": false
   },
   "outputs": [
    {
     "data": {
      "text/plain": [
       "[<matplotlib.lines.Line2D at 0x7f80dca52a20>]"
      ]
     },
     "execution_count": 13,
     "metadata": {},
     "output_type": "execute_result"
    },
    {
     "data": {
      "image/png": "[encoded data removed]",
      "text/plain": [
       "<matplotlib.figure.Figure at 0x7f80dcac2b00>"
      ]
     },
     "metadata": {},
     "output_type": "display_data"
    }
   ],
   "source": [
    "x = np.arange(0,N)\n",
    "x = x/N\n",
    "epsAvg = np.average(epsilon)\n",
    "plt.plot(x,epsilon/epsAvg)"
   ]
  },
  {
   "cell_type": "code",
   "execution_count": 14,
   "metadata": {
    "collapsed": true
   },
   "outputs": [],
   "source": [
    "chg = 0\n",
    "Nv = 13\n",
    "epsilon[:] = 1.\n",
    "for k in range(Nv):\n",
    "    div = 2**(k+1)\n",
    "    chk = N//div\n",
    "    for i in range(div//2):\n",
    "        rnd = s[chg]\n",
    "        chg += 1\n",
    "        if(rnd >= 0.5):\n",
    "            #print(\"left\")\n",
    "            epsilon[(2*i+0)*chk:(2*i+1)*chk] *= p\n",
    "            epsilon[(2*i+1)*chk:(2*i+2)*chk] *= (1-p)\n",
    "        else:\n",
    "            #print(\"right\")\n",
    "            epsilon[(2*i+0)*chk:(2*i+1)*chk] *= (1-p)\n",
    "            epsilon[(2*i+1)*chk:(2*i+2)*chk] *= p"
   ]
  },
  {
   "cell_type": "code",
   "execution_count": 15,
   "metadata": {
    "collapsed": false
   },
   "outputs": [
    {
     "data": {
      "text/plain": [
       "[<matplotlib.lines.Line2D at 0x7f80dca35908>]"
      ]
     },
     "execution_count": 15,
     "metadata": {},
     "output_type": "execute_result"
    },
    {
     "data": {
      "image/png": "[encoded data removed]",
      "text/plain": [
       "<matplotlib.figure.Figure at 0x7f80dca6ebe0>"
      ]
     },
     "metadata": {},
     "output_type": "display_data"
    }
   ],
   "source": [
    "x = np.arange(0,N)\n",
    "x = x/N\n",
    "epsAvg = np.average(epsilon)\n",
    "plt.plot(x,epsilon/epsAvg)"
   ]
  },
  {
   "cell_type": "code",
   "execution_count": 16,
   "metadata": {
    "collapsed": true
   },
   "outputs": [],
   "source": [
    "chi = np.zeros(N,dtype='float64')"
   ]
  },
  {
   "cell_type": "code",
   "execution_count": 17,
   "metadata": {
    "collapsed": true
   },
   "outputs": [],
   "source": [
    "chi[:] = 0\n",
    "chi[epsilon > 2*epsAvg] = 1"
   ]
  },
  {
   "cell_type": "code",
   "execution_count": 18,
   "metadata": {
    "collapsed": false
   },
   "outputs": [
    {
     "data": {
      "text/plain": [
       "[<matplotlib.lines.Line2D at 0x7f80dc9993c8>]"
      ]
     },
     "execution_count": 18,
     "metadata": {},
     "output_type": "execute_result"
    },
    {
     "data": {
      "image/png": "[encoded data removed]",
      "text/plain": [
       "<matplotlib.figure.Figure at 0x7f80dca6bd68>"
      ]
     },
     "metadata": {},
     "output_type": "display_data"
    }
   ],
   "source": [
    "\n",
    "plt.plot(x[epsilon > 2*epsAvg],epsilon[epsilon > 2*epsAvg]/epsAvg)"
   ]
  },
  {
   "cell_type": "code",
   "execution_count": 19,
   "metadata": {
    "collapsed": true
   },
   "outputs": [],
   "source": [
    "chi[:] = 0\n",
    "chi[epsilon > 1*epsAvg] = 1"
   ]
  },
  {
   "cell_type": "code",
   "execution_count": 20,
   "metadata": {
    "collapsed": true
   },
   "outputs": [],
   "source": [
    "cchi = fft.rfft(chi)"
   ]
  },
  {
   "cell_type": "code",
   "execution_count": 21,
   "metadata": {
    "collapsed": false
   },
   "outputs": [],
   "source": [
    "tmp = cchi*(cchi.conj())"
   ]
  },
  {
   "cell_type": "code",
   "execution_count": 22,
   "metadata": {
    "collapsed": false
   },
   "outputs": [],
   "source": [
    "corr = fft.irfft(tmp)"
   ]
  },
  {
   "cell_type": "code",
   "execution_count": 23,
   "metadata": {
    "collapsed": false
   },
   "outputs": [],
   "source": [
    "r = np.linspace(0,2*np.pi,N,endpoint=False)"
   ]
  },
  {
   "cell_type": "code",
   "execution_count": 24,
   "metadata": {
    "collapsed": true
   },
   "outputs": [],
   "source": [
    "rs = r[r <= np.pi]"
   ]
  },
  {
   "cell_type": "code",
   "execution_count": 25,
   "metadata": {
    "collapsed": false
   },
   "outputs": [],
   "source": [
    "c0 = corr[0:1]\n",
    "c1 = corr[1:N//2]\n",
    "c2 = corr[(N//2):(N//2+1)]\n",
    "c3 = corr[(N//2+1):N]"
   ]
  },
  {
   "cell_type": "code",
   "execution_count": 27,
   "metadata": {
    "collapsed": false
   },
   "outputs": [
    {
     "name": "stdout",
     "output_type": "stream",
     "text": [
      "[ 4874240.]\n",
      "[ 4873389.  4872538.  4871687. ...,  1056846.  1056820.  1056794.]\n",
      "[ 1056768.]\n",
      "[ 4873389.  4872538.  4871687. ...,  1056846.  1056820.  1056794.]\n"
     ]
    }
   ],
   "source": [
    "print(c0)\n",
    "print(c1)\n",
    "print(c2)\n",
    "print(c3[::-1])"
   ]
  },
  {
   "cell_type": "code",
   "execution_count": 28,
   "metadata": {
    "collapsed": true
   },
   "outputs": [],
   "source": [
    "Corr = np.concatenate((c0,c1,c2))"
   ]
  },
  {
   "cell_type": "code",
   "execution_count": 30,
   "metadata": {
    "collapsed": false
   },
   "outputs": [
    {
     "name": "stdout",
     "output_type": "stream",
     "text": [
      "[ 4874240.  4873389.  4872538. ...,  1056820.  1056794.  1056768.]\n",
      "(8388609,)\n"
     ]
    }
   ],
   "source": [
    "print(Corr)\n",
    "print(Corr.shape)"
   ]
  },
  {
   "cell_type": "code",
   "execution_count": 61,
   "metadata": {
    "collapsed": false
   },
   "outputs": [
    {
     "name": "stdout",
     "output_type": "stream",
     "text": [
      "16777216\n",
      "8388609\n",
      "8388609\n"
     ]
    }
   ],
   "source": [
    "print(r.shape[0])\n",
    "print(r.shape[0]//2+1)\n",
    "print(rs.shape[0])"
   ]
  },
  {
   "cell_type": "code",
   "execution_count": 32,
   "metadata": {
    "collapsed": false
   },
   "outputs": [
    {
     "data": {
      "text/plain": [
       "[<matplotlib.lines.Line2D at 0x7f80dc975ba8>]"
      ]
     },
     "execution_count": 32,
     "metadata": {},
     "output_type": "execute_result"
    },
    {
     "data": {
      "image/png": "[encoded data removed]",
      "text/plain": [
       "<matplotlib.figure.Figure at 0x7f80dc566c88>"
      ]
     },
     "metadata": {},
     "output_type": "display_data"
    }
   ],
   "source": [
    "plt.ylim(0.1,1.1)\n",
    "plt.xlim(10**(-7),2*np.pi)\n",
    "plt.loglog(rs,Corr/Corr[0],'b')"
   ]
  },
  {
   "cell_type": "code",
   "execution_count": 36,
   "metadata": {
    "collapsed": false
   },
   "outputs": [
    {
     "data": {
      "text/plain": [
       "[<matplotlib.lines.Line2D at 0x7f80dc57fda0>]"
      ]
     },
     "execution_count": 36,
     "metadata": {},
     "output_type": "execute_result"
    },
    {
     "data": {
      "image/png": "[encoded data removed]",
      "text/plain": [
       "<matplotlib.figure.Figure at 0x7f80dc3193c8>"
      ]
     },
     "metadata": {},
     "output_type": "display_data"
    }
   ],
   "source": [
    "plt.ylim(0.1,1.1)\n",
    "plt.xlim(0.1*10**(-3),4*10**(-1))\n",
    "plt.loglog(rs,Corr/Corr[0],'b')"
   ]
  },
  {
   "cell_type": "code",
   "execution_count": 35,
   "metadata": {
    "collapsed": false
   },
   "outputs": [
    {
     "data": {
      "text/plain": [
       "[<matplotlib.lines.Line2D at 0x7f80dc346390>]"
      ]
     },
     "execution_count": 35,
     "metadata": {},
     "output_type": "execute_result"
    },
    {
     "data": {
      "image/png": "[encoded data removed]",
      "text/plain": [
       "<matplotlib.figure.Figure at 0x7f80dc346cc0>"
      ]
     },
     "metadata": {},
     "output_type": "display_data"
    }
   ],
   "source": [
    "fig = plt.\n",
    "plt.ylim(0.1,1.1)\n",
    "plt.xlim(0.0,2*np.pi)\n",
    "plt.semilogy(r,corr/corr[0],'b')"
   ]
  },
  {
   "cell_type": "code",
   "execution_count": null,
   "metadata": {
    "collapsed": true
   },
   "outputs": [],
   "source": []
  }
 ],
 "metadata": {
  "kernelspec": {
   "display_name": "Python 3",
   "language": "python",
   "name": "python3"
  },
  "language_info": {
   "codemirror_mode": {
    "name": "ipython",
    "version": 3
   },
   "file_extension": ".py",
   "mimetype": "text/x-python",
   "name": "python",
   "nbconvert_exporter": "python",
   "pygments_lexer": "ipython3",
   "version": "3.5.2"
  }
 },
 "nbformat": 4,
 "nbformat_minor": 0
}
