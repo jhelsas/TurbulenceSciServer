{
 "cells": [
  {
   "cell_type": "code",
   "execution_count": 1,
   "metadata": {
    "collapsed": true
   },
   "outputs": [],
   "source": [
    "import os\n",
    "import sys\n",
    "import math\n",
    "import numpy as np\n",
    "import numpy.fft as fft\n",
    "import matplotlib\n",
    "import matplotlib.pyplot as plt"
   ]
  },
  {
   "cell_type": "code",
   "execution_count": 8,
   "metadata": {
    "collapsed": true
   },
   "outputs": [],
   "source": [
    "Lv = 20\n",
    "N = 2**Lv"
   ]
  },
  {
   "cell_type": "code",
   "execution_count": 9,
   "metadata": {
    "collapsed": false
   },
   "outputs": [
    {
     "name": "stdout",
     "output_type": "stream",
     "text": [
      "1048576\n"
     ]
    }
   ],
   "source": [
    "print(N)"
   ]
  },
  {
   "cell_type": "code",
   "execution_count": 10,
   "metadata": {
    "collapsed": true
   },
   "outputs": [],
   "source": [
    "epsilon = np.zeros(N,dtype='float64')"
   ]
  },
  {
   "cell_type": "code",
   "execution_count": 11,
   "metadata": {
    "collapsed": true
   },
   "outputs": [],
   "source": [
    "epsilon[:] = 1."
   ]
  },
  {
   "cell_type": "code",
   "execution_count": 12,
   "metadata": {
    "collapsed": false
   },
   "outputs": [],
   "source": [
    "s = np.random.uniform(0,1,10**6)"
   ]
  },
  {
   "cell_type": "code",
   "execution_count": 13,
   "metadata": {
    "collapsed": false
   },
   "outputs": [
    {
     "name": "stdout",
     "output_type": "stream",
     "text": [
      "0.6\n",
      "0.4\n"
     ]
    }
   ],
   "source": [
    "p = 0.6\n",
    "\n",
    "print(p)\n",
    "print(1-p)"
   ]
  },
  {
   "cell_type": "code",
   "execution_count": 14,
   "metadata": {
    "collapsed": false
   },
   "outputs": [],
   "source": [
    "chg = 0\n",
    "Nv = 1\n",
    "epsilon[:] = 1.\n",
    "for k in range(Nv):\n",
    "    div = 2**(k+1)\n",
    "    chk = N//div\n",
    "    for i in range(div//2):\n",
    "        rnd = s[chg]\n",
    "        chg += 1\n",
    "        if(rnd >= 0.5):\n",
    "            #print(\"left\")\n",
    "            epsilon[(2*i+0)*chk:(2*i+1)*chk] *= p\n",
    "            epsilon[(2*i+1)*chk:(2*i+2)*chk] *= (1-p)\n",
    "        else:\n",
    "            #print(\"right\")\n",
    "            epsilon[(2*i+0)*chk:(2*i+1)*chk] *= (1-p)\n",
    "            epsilon[(2*i+1)*chk:(2*i+2)*chk] *= p"
   ]
  },
  {
   "cell_type": "code",
   "execution_count": 15,
   "metadata": {
    "collapsed": false
   },
   "outputs": [
    {
     "data": {
      "text/plain": [
       "[<matplotlib.lines.Line2D at 0x7f4c7034aa90>]"
      ]
     },
     "execution_count": 15,
     "metadata": {},
     "output_type": "execute_result"
    },
    {
     "data": {
      "image/png": "[encoded data removed]",
      "text/plain": [
       "<matplotlib.figure.Figure at 0x7f4c703ed6a0>"
      ]
     },
     "metadata": {},
     "output_type": "display_data"
    }
   ],
   "source": [
    "x = np.arange(0,N)\n",
    "x = x/N\n",
    "epsAvg = np.average(epsilon)\n",
    "plt.xlim(-0.1,1.1)\n",
    "plt.ylim(0,5)\n",
    "plt.plot(x,epsilon/epsAvg)"
   ]
  },
  {
   "cell_type": "code",
   "execution_count": 16,
   "metadata": {
    "collapsed": true
   },
   "outputs": [],
   "source": [
    "chg = 0\n",
    "Nv = 2\n",
    "epsilon[:] = 1.\n",
    "for k in range(Nv):\n",
    "    div = 2**(k+1)\n",
    "    chk = N//div\n",
    "    for i in range(div//2):\n",
    "        rnd = s[chg]\n",
    "        chg += 1\n",
    "        if(rnd >= 0.5):\n",
    "            #print(\"left\")\n",
    "            epsilon[(2*i+0)*chk:(2*i+1)*chk] *= p\n",
    "            epsilon[(2*i+1)*chk:(2*i+2)*chk] *= (1-p)\n",
    "        else:\n",
    "            #print(\"right\")\n",
    "            epsilon[(2*i+0)*chk:(2*i+1)*chk] *= (1-p)\n",
    "            epsilon[(2*i+1)*chk:(2*i+2)*chk] *= p"
   ]
  },
  {
   "cell_type": "code",
   "execution_count": 17,
   "metadata": {
    "collapsed": false
   },
   "outputs": [
    {
     "data": {
      "text/plain": [
       "[<matplotlib.lines.Line2D at 0x7f4c70132518>]"
      ]
     },
     "execution_count": 17,
     "metadata": {},
     "output_type": "execute_result"
    },
    {
     "data": {
      "image/png": "[encoded data removed]",
      "text/plain": [
       "<matplotlib.figure.Figure at 0x7f4c70132588>"
      ]
     },
     "metadata": {},
     "output_type": "display_data"
    }
   ],
   "source": [
    "x = np.arange(0,N)\n",
    "x = x/N\n",
    "epsAvg = np.average(epsilon)\n",
    "plt.ylim(0,5)\n",
    "plt.plot(x,epsilon/epsAvg)"
   ]
  },
  {
   "cell_type": "code",
   "execution_count": 18,
   "metadata": {
    "collapsed": false
   },
   "outputs": [],
   "source": [
    "chg = 0\n",
    "Nv = 9\n",
    "epsilon[:] = 1.\n",
    "for k in range(Nv):\n",
    "    div = 2**(k+1)\n",
    "    chk = N//div\n",
    "    for i in range(div//2):\n",
    "        rnd = s[chg]\n",
    "        chg += 1\n",
    "        if(rnd >= 0.5):\n",
    "            #print(\"left\")\n",
    "            epsilon[(2*i+0)*chk:(2*i+1)*chk] *= p\n",
    "            epsilon[(2*i+1)*chk:(2*i+2)*chk] *= (1-p)\n",
    "        else:\n",
    "            #print(\"right\")\n",
    "            epsilon[(2*i+0)*chk:(2*i+1)*chk] *= (1-p)\n",
    "            epsilon[(2*i+1)*chk:(2*i+2)*chk] *= p"
   ]
  },
  {
   "cell_type": "code",
   "execution_count": 19,
   "metadata": {
    "collapsed": false
   },
   "outputs": [
    {
     "data": {
      "text/plain": [
       "[<matplotlib.lines.Line2D at 0x7f4c700565f8>]"
      ]
     },
     "execution_count": 19,
     "metadata": {},
     "output_type": "execute_result"
    },
    {
     "data": {
      "image/png": "[encoded data removed]",
      "text/plain": [
       "<matplotlib.figure.Figure at 0x7f4c70090940>"
      ]
     },
     "metadata": {},
     "output_type": "display_data"
    }
   ],
   "source": [
    "x = np.arange(0,N)\n",
    "x = x/N\n",
    "epsAvg = np.average(epsilon)\n",
    "plt.plot(x,epsilon/epsAvg)"
   ]
  },
  {
   "cell_type": "code",
   "execution_count": 20,
   "metadata": {
    "collapsed": true
   },
   "outputs": [],
   "source": [
    "chg = 0\n",
    "Nv = 13\n",
    "epsilon[:] = 1.\n",
    "for k in range(Nv):\n",
    "    div = 2**(k+1)\n",
    "    chk = N//div\n",
    "    for i in range(div//2):\n",
    "        rnd = s[chg]\n",
    "        chg += 1\n",
    "        if(rnd >= 0.5):\n",
    "            #print(\"left\")\n",
    "            epsilon[(2*i+0)*chk:(2*i+1)*chk] *= p\n",
    "            epsilon[(2*i+1)*chk:(2*i+2)*chk] *= (1-p)\n",
    "        else:\n",
    "            #print(\"right\")\n",
    "            epsilon[(2*i+0)*chk:(2*i+1)*chk] *= (1-p)\n",
    "            epsilon[(2*i+1)*chk:(2*i+2)*chk] *= p"
   ]
  },
  {
   "cell_type": "code",
   "execution_count": 21,
   "metadata": {
    "collapsed": false
   },
   "outputs": [
    {
     "data": {
      "text/plain": [
       "[<matplotlib.lines.Line2D at 0x7f4c6b85b6d8>]"
      ]
     },
     "execution_count": 21,
     "metadata": {},
     "output_type": "execute_result"
    },
    {
     "data": {
      "image/png": "[encoded data removed]",
      "text/plain": [
       "<matplotlib.figure.Figure at 0x7f4c7006a5c0>"
      ]
     },
     "metadata": {},
     "output_type": "display_data"
    }
   ],
   "source": [
    "x = np.arange(0,N)\n",
    "x = x/N\n",
    "epsAvg = np.average(epsilon)\n",
    "plt.plot(x,epsilon/epsAvg)"
   ]
  },
  {
   "cell_type": "code",
   "execution_count": 22,
   "metadata": {
    "collapsed": true
   },
   "outputs": [],
   "source": [
    "chi = np.zeros(N,dtype='float64')"
   ]
  },
  {
   "cell_type": "code",
   "execution_count": 23,
   "metadata": {
    "collapsed": true
   },
   "outputs": [],
   "source": [
    "chi[:] = 0\n",
    "chi[epsilon > 2*epsAvg] = 1"
   ]
  },
  {
   "cell_type": "code",
   "execution_count": 24,
   "metadata": {
    "collapsed": false
   },
   "outputs": [
    {
     "data": {
      "text/plain": [
       "[<matplotlib.lines.Line2D at 0x7f4c6b7bf2b0>]"
      ]
     },
     "execution_count": 24,
     "metadata": {},
     "output_type": "execute_result"
    },
    {
     "data": {
      "image/png": "[encoded data removed]",
      "text/plain": [
       "<matplotlib.figure.Figure at 0x7f4c6b82e9b0>"
      ]
     },
     "metadata": {},
     "output_type": "display_data"
    }
   ],
   "source": [
    "\n",
    "plt.plot(x[epsilon > 2*epsAvg],epsilon[epsilon > 2*epsAvg]/epsAvg)"
   ]
  },
  {
   "cell_type": "code",
   "execution_count": 51,
   "metadata": {
    "collapsed": true
   },
   "outputs": [],
   "source": [
    "chi[:] = 0\n",
    "chi[epsilon > 1*epsAvg] = 1"
   ]
  },
  {
   "cell_type": "code",
   "execution_count": 52,
   "metadata": {
    "collapsed": true
   },
   "outputs": [],
   "source": [
    "cchi = fft.rfft(chi)"
   ]
  },
  {
   "cell_type": "code",
   "execution_count": 53,
   "metadata": {
    "collapsed": false
   },
   "outputs": [],
   "source": [
    "tmp = cchi*(cchi.conj())"
   ]
  },
  {
   "cell_type": "code",
   "execution_count": 54,
   "metadata": {
    "collapsed": false
   },
   "outputs": [],
   "source": [
    "corr = fft.irfft(tmp)"
   ]
  },
  {
   "cell_type": "code",
   "execution_count": 55,
   "metadata": {
    "collapsed": false
   },
   "outputs": [],
   "source": [
    "r = np.linspace(0,2*np.pi,N,endpoint=False)"
   ]
  },
  {
   "cell_type": "code",
   "execution_count": 56,
   "metadata": {
    "collapsed": true
   },
   "outputs": [],
   "source": [
    "rs = r[r <= np.pi]"
   ]
  },
  {
   "cell_type": "code",
   "execution_count": 57,
   "metadata": {
    "collapsed": false
   },
   "outputs": [],
   "source": [
    "c0 = corr[0:1]\n",
    "c1 = corr[1:N//2]\n",
    "c2 = corr[(N//2):(N//2+1)]\n",
    "c3 = corr[(N//2+1):N]"
   ]
  },
  {
   "cell_type": "code",
   "execution_count": 58,
   "metadata": {
    "collapsed": false
   },
   "outputs": [
    {
     "name": "stdout",
     "output_type": "stream",
     "text": [
      "[ 304640.]\n",
      "[ 303787.  302934.  302081. ...,   69819.   69842.   69865.]\n",
      "[ 69888.]\n",
      "[ 303787.  302934.  302081. ...,   69819.   69842.   69865.]\n"
     ]
    }
   ],
   "source": [
    "print(c0)\n",
    "print(c1)\n",
    "print(c2)\n",
    "print(c3[::-1])"
   ]
  },
  {
   "cell_type": "code",
   "execution_count": 59,
   "metadata": {
    "collapsed": true
   },
   "outputs": [],
   "source": [
    "Corr = np.concatenate((c0,c1,c2))"
   ]
  },
  {
   "cell_type": "code",
   "execution_count": 60,
   "metadata": {
    "collapsed": false
   },
   "outputs": [
    {
     "name": "stdout",
     "output_type": "stream",
     "text": [
      "[ 304640.  303787.  302934. ...,   69842.   69865.   69888.]\n",
      "(524289,)\n"
     ]
    }
   ],
   "source": [
    "print(Corr)\n",
    "print(Corr.shape)"
   ]
  },
  {
   "cell_type": "code",
   "execution_count": 61,
   "metadata": {
    "collapsed": false
   },
   "outputs": [
    {
     "name": "stdout",
     "output_type": "stream",
     "text": [
      "1048576\n",
      "524289\n",
      "524289\n"
     ]
    }
   ],
   "source": [
    "print(r.shape[0])\n",
    "print(r.shape[0]//2+1)\n",
    "print(rs.shape[0])"
   ]
  },
  {
   "cell_type": "code",
   "execution_count": 62,
   "metadata": {
    "collapsed": false
   },
   "outputs": [
    {
     "data": {
      "text/plain": [
       "[<matplotlib.lines.Line2D at 0x7f4c6b1749b0>]"
      ]
     },
     "execution_count": 62,
     "metadata": {},
     "output_type": "execute_result"
    },
    {
     "data": {
      "image/png": "[encoded data removed]",
      "text/plain": [
       "<matplotlib.figure.Figure at 0x7f4c6b1db780>"
      ]
     },
     "metadata": {},
     "output_type": "display_data"
    }
   ],
   "source": [
    "plt.ylim(0.1,1.1)\n",
    "plt.xlim(10**(-7),2*np.pi)\n",
    "plt.loglog(rs,Corr/Corr[0],'b')"
   ]
  },
  {
   "cell_type": "code",
   "execution_count": 78,
   "metadata": {
    "collapsed": false
   },
   "outputs": [
    {
     "name": "stdout",
     "output_type": "stream",
     "text": [
      "[-0.11039624 -1.17471493]\n"
     ]
    },
    {
     "data": {
      "text/plain": [
       "[<matplotlib.lines.Line2D at 0x7f4c60a222b0>]"
      ]
     },
     "execution_count": 78,
     "metadata": {},
     "output_type": "execute_result"
    },
    {
     "data": {
      "image/png": "[encoded data removed]",
      "text/plain": [
       "<matplotlib.figure.Figure at 0x7f4c60869b00>"
      ]
     },
     "metadata": {},
     "output_type": "display_data"
    }
   ],
   "source": [
    "tempRp = rs[(rs>10**(-3))&(rs<10**(-1))]\n",
    "tempCorr = Corr[(rs>10**(-3))&(rs<10**(-1))]\n",
    "\n",
    "fit = np.polyfit(np.log(tempRp),np.log(tempCorr/Corr[0]),1)\n",
    "print(fit)\n",
    "\n",
    "plt.ylim(0.1,1.1)\n",
    "plt.xlim(0.1*10**(-3),4*10**(-1))\n",
    "\n",
    "tempRp = rs[(rs>10**(-4))&(rs<4*10**(-1))]\n",
    "\n",
    "plt.loglog(rs,Corr/Corr[0],'b')\n",
    "plt.loglog(tempRp,np.exp(fit[1])*(tempRp**(fit[0])),'k--')"
   ]
  },
  {
   "cell_type": "code",
   "execution_count": 83,
   "metadata": {
    "collapsed": false
   },
   "outputs": [
    {
     "name": "stdout",
     "output_type": "stream",
     "text": [
      "[-0.18610442 -1.90468428]\n"
     ]
    },
    {
     "data": {
      "text/plain": [
       "[<matplotlib.lines.Line2D at 0x7f4c603049e8>]"
      ]
     },
     "execution_count": 83,
     "metadata": {},
     "output_type": "execute_result"
    },
    {
     "data": {
      "image/png": "[encoded data removed]",
      "text/plain": [
       "<matplotlib.figure.Figure at 0x7f4c60304550>"
      ]
     },
     "metadata": {},
     "output_type": "display_data"
    }
   ],
   "source": [
    "chi[:] = 0\n",
    "chi[epsilon > 1.5*epsAvg] = 1\n",
    "cchi = fft.rfft(chi)\n",
    "tmp = cchi*(cchi.conj())\n",
    "corr = fft.irfft(tmp)\n",
    "r = np.linspace(0,2*np.pi,N,endpoint=False)\n",
    "\n",
    "c0 = corr[0:1]\n",
    "c1 = corr[1:N//2]\n",
    "c2 = corr[(N//2):(N//2+1)]\n",
    "c3 = corr[(N//2+1):N]\n",
    "\n",
    "Corr = np.concatenate((c0,c1,c2))\n",
    "\n",
    "tempRp = rs[(rs>10**(-3))&(rs<10**(-1))]\n",
    "tempCorr = Corr[(rs>10**(-3))&(rs<10**(-1))]\n",
    "\n",
    "fit = np.polyfit(np.log(tempRp),np.log(tempCorr/Corr[0]),1)\n",
    "print(fit)\n",
    "\n",
    "plt.ylim(0.1,1.1)\n",
    "plt.xlim(0.1*10**(-3),4*10**(-1))\n",
    "\n",
    "tempRp = rs[(rs>10**(-4))&(rs<4*10**(-1))]\n",
    "\n",
    "plt.loglog(rs,Corr/Corr[0],'b')\n",
    "plt.loglog(tempRp,np.exp(fit[1])*(tempRp**(fit[0])),'k--')"
   ]
  },
  {
   "cell_type": "code",
   "execution_count": 91,
   "metadata": {
    "collapsed": false
   },
   "outputs": [
    {
     "name": "stdout",
     "output_type": "stream",
     "text": [
      "[-0.29942038 -2.94121096]\n"
     ]
    },
    {
     "data": {
      "text/plain": [
       "[<matplotlib.lines.Line2D at 0x7f4bfffa76a0>]"
      ]
     },
     "execution_count": 91,
     "metadata": {},
     "output_type": "execute_result"
    },
    {
     "data": {
      "image/png": "[encoded data removed]",
      "text/plain": [
       "<matplotlib.figure.Figure at 0x7f4bfffa7588>"
      ]
     },
     "metadata": {},
     "output_type": "display_data"
    }
   ],
   "source": [
    "chi[:] = 0.\n",
    "chi[epsilon > 3.*epsAvg] = 1.\n",
    "cchi = fft.rfft(chi)\n",
    "tmp = cchi*(cchi.conj())\n",
    "corr = fft.irfft(tmp)\n",
    "r = np.linspace(0,2*np.pi,N,endpoint=False)\n",
    "\n",
    "c0 = corr[0:1]\n",
    "c1 = corr[1:N//2]\n",
    "c2 = corr[(N//2):(N//2+1)]\n",
    "c3 = corr[(N//2+1):N]\n",
    "\n",
    "Corr = np.concatenate((c0,c1,c2))\n",
    "\n",
    "tempRp = rs[(rs>10**(-3))&(rs<10**(-1))]\n",
    "tempCorr = Corr[(rs>10**(-3))&(rs<10**(-1))]\n",
    "\n",
    "fit = np.polyfit(np.log(tempRp),np.log(tempCorr/Corr[0]),1)\n",
    "print(fit)\n",
    "\n",
    "plt.ylim(0.1,1.1)\n",
    "#plt.xlim(0.1*10**(-3),4*10**(-1))\n",
    "\n",
    "tempRp = rs[(rs>10**(-4))&(rs<4*10**(-1))]\n",
    "\n",
    "plt.loglog(rs,Corr/Corr[0],'b')\n",
    "plt.loglog(tempRp,np.exp(fit[1])*(tempRp**(fit[0])),'k--')"
   ]
  },
  {
   "cell_type": "code",
   "execution_count": null,
   "metadata": {
    "collapsed": true
   },
   "outputs": [],
   "source": []
  }
 ],
 "metadata": {
  "kernelspec": {
   "display_name": "Python 3",
   "language": "python",
   "name": "python3"
  },
  "language_info": {
   "codemirror_mode": {
    "name": "ipython",
    "version": 3
   },
   "file_extension": ".py",
   "mimetype": "text/x-python",
   "name": "python",
   "nbconvert_exporter": "python",
   "pygments_lexer": "ipython3",
   "version": "3.5.2"
  }
 },
 "nbformat": 4,
 "nbformat_minor": 0
}
