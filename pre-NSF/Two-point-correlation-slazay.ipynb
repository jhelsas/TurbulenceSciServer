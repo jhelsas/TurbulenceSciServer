{
 "cells": [
  {
   "cell_type": "code",
   "execution_count": 1,
   "metadata": {
    "collapsed": true
   },
   "outputs": [],
   "source": [
    "#!ipcluster start -n 8 --engines=MPI --profile='mpi' # for parallel run: start the engines using terminal\n",
    "from ipyparallel import Client\n",
    "rc = Client(profile='mpi')"
   ]
  },
  {
   "cell_type": "code",
   "execution_count": null,
   "metadata": {
    "collapsed": true
   },
   "outputs": [],
   "source": [
    "%%px\n",
    "# Import the libraries\n",
    "\n",
    "import os\n",
    "import sys\n",
    "import math\n",
    "import numpy as np\n",
    "import pyfftw as ft \n",
    "from mpi4py import MPI\n",
    "import matplotlib\n",
    "import matplotlib.pyplot as plt\n",
    "import pyJHTDB\n",
    "from pyJHTDB.dbinfo import isotropic1024coarse\n",
    "from pyJHTDB import libJHTDB\n",
    "\n",
    "from fft3d import FFT3Dfield_new\n",
    "from EnergySpectrum import EnergySpectrum"
   ]
  },
  {
   "cell_type": "code",
   "execution_count": 3,
   "metadata": {
    "collapsed": false
   },
   "outputs": [
    {
     "name": "stdout",
     "output_type": "stream",
     "text": [
      "[stdout:1] \n",
      "n_proc = 8\n",
      "rank = 0\n"
     ]
    }
   ],
   "source": [
    "%%px\n",
    "\n",
    "Nx = isotropic1024coarse['nx']; Ny = isotropic1024coarse['ny']; Nz = isotropic1024coarse['nz']\n",
    "Lx = isotropic1024coarse['lx']; Ly = isotropic1024coarse['ly']; Lz = isotropic1024coarse['lz']\n",
    "\n",
    "comm = MPI.COMM_WORLD\n",
    "rank = comm.Get_rank()\n",
    "nproc = comm.Get_size()\n",
    "if(rank==0):\n",
    "    print(\"n_proc = \"+str(nproc))\n",
    "    print(\"rank = \"+str(rank))\n",
    "\n",
    "# Computational Domain\n",
    "\n",
    "nx=Nx//nproc; ny=Ny; nz=Nz\n",
    "nz_half=nz//2\n",
    "nek=int(math.sqrt(2.0)/3*Nx)\n",
    "time = 0.0\n",
    "\n",
    "chkSz = 32\n",
    "slabs = nx//chkSz"
   ]
  },
  {
   "cell_type": "code",
   "execution_count": 4,
   "metadata": {
    "collapsed": false
   },
   "outputs": [
    {
     "name": "stdout",
     "output_type": "stream",
     "text": [
      "[stdout:1] \n",
      "Finished loading\n",
      "Load from disk: 4.34 seconds\n"
     ]
    }
   ],
   "source": [
    "%%px\n",
    "\n",
    "cacheEnstrophyData = False\n",
    "loadEnstrophyFromCache = True\n",
    "\n",
    "folder = \"/home/idies/workspace/scratch\"\n",
    "filename = \"enstrophy-szalay-\"+str(rank)+\".npz\"\n",
    "\n",
    "file = folder + \"/\" + filename\n",
    "\n",
    "if(loadEnstrophyFromCache):\n",
    "    comm.Barrier(); t1=MPI.Wtime()\n",
    "    content = np.load(file)\n",
    "    \n",
    "    w2 = ft.zeros_aligned((nx,ny,nz), dtype='float32')\n",
    "    \n",
    "    #if(int(content['nproc'])!=nproc):\n",
    "    #    print(\"Unmatched number of processes. Must first pre-process to adequate number of process\")\n",
    "    w2[:,:,:] = content['w2']\n",
    "    \n",
    "    comm.Barrier(); t2=MPI.Wtime()\n",
    "    if(rank==0):\n",
    "        print(\"Finished loading\")\n",
    "        sys.stdout.write('Load from disk: {0:.2f} seconds\\n'.format(t2-t1))\n",
    "\n",
    "if(cacheEnstrophyData):\n",
    "    \n",
    "    comm.Barrier(); t1=MPI.Wtime()\n",
    "    np.savez(file,w2=w2,nproc=nproc)\n",
    "    comm.Barrier(); t2=MPI.Wtime()\n",
    "    if(rank==0):\n",
    "        sys.stdout.write('Caching the data: {0:.2f} seconds\\n'.format(t2-t1))"
   ]
  },
  {
   "cell_type": "code",
   "execution_count": 5,
   "metadata": {
    "collapsed": false
   },
   "outputs": [
    {
     "name": "stdout",
     "output_type": "stream",
     "text": [
      "[stdout:1] \n",
      "0.5 <w^2> : 245.580307007\n",
      "<w^2> : 491.160614014\n",
      "min w2 : 9.39717e-06\n",
      "max w2 : 258231.0\n",
      "min w2/<w^2> : 1.91325866702e-08\n",
      "min w2/<w^2> : 525.757337839\n"
     ]
    }
   ],
   "source": [
    "%%px\n",
    "\n",
    "avgOmega = np.average(w2)\n",
    "avgOmegaGl=np.zeros(1,dtype='float32')\n",
    "\n",
    "comm.Reduce([avgOmega,MPI.REAL],[avgOmegaGl,MPI.REAL],op=MPI.SUM)\n",
    "avgOmega = avgOmegaGl[0]/nproc\n",
    "avgOmega = comm.bcast(avgOmega, root=0)\n",
    "\n",
    "##########################\n",
    "\n",
    "minw2 = w2.min()\n",
    "maxw2 = w2.max()\n",
    "\n",
    "minwGl=np.zeros(nproc,dtype='float32')\n",
    "maxwGl=np.zeros(nproc,dtype='float32')\n",
    "\n",
    "comm.Allgather([minw2,MPI.REAL],[minwGl,MPI.REAL])\n",
    "comm.Allgather([maxw2,MPI.REAL],[maxwGl,MPI.REAL])\n",
    "\n",
    "minw2 = minwGl.min()\n",
    "maxw2 = maxwGl.max()\n",
    "\n",
    "comm.Barrier()\n",
    "\n",
    "if rank==0:\n",
    "    print(\"0.5 <w^2> : \"+str(avgOmega/2))\n",
    "    print(\"<w^2> : \"+str(avgOmega))\n",
    "    print(\"min w2 : \"+str(minw2))\n",
    "    print(\"max w2 : \"+str(maxw2))\n",
    "    print(\"min w2/<w^2> : \"+str(minw2/avgOmega))\n",
    "    print(\"min w2/<w^2> : \"+str(maxw2/avgOmega))"
   ]
  },
  {
   "cell_type": "code",
   "execution_count": 6,
   "metadata": {
    "collapsed": false
   },
   "outputs": [
    {
     "name": "stdout",
     "output_type": "stream",
     "text": [
      "[stdout:1] Alocating vectors: 24.32 seconds\n"
     ]
    }
   ],
   "source": [
    "%%px\n",
    "\n",
    "dx = isotropic1024coarse['dx']\n",
    "ner = int(1024*np.sqrt(3))\n",
    "rbins = np.linspace(-0.5*dx,2*np.pi*np.sqrt(3)+0.5*dx,ner+1)\n",
    "\n",
    "comm.Barrier(); t1=MPI.Wtime()\n",
    "\n",
    "fft = FFT3Dfield_new(nx,ny,nz,nproc,rank)\n",
    "\n",
    "chi = ft.zeros_aligned((nx,ny,nz), dtype='float32')\n",
    "cchi = ft.zeros_aligned((nx,ny,1+(nz//2)), dtype='complex64')\n",
    "corr = ft.zeros_aligned((nx,ny,nz),dtype='float32')\n",
    "\n",
    "comm.Barrier(); t2=MPI.Wtime()\n",
    "if(rank==0):\n",
    "    sys.stdout.write('Alocating vectors: {0:.2f} seconds\\n'.format(t2-t1))"
   ]
  },
  {
   "cell_type": "code",
   "execution_count": 7,
   "metadata": {
    "collapsed": false
   },
   "outputs": [
    {
     "name": "stdout",
     "output_type": "stream",
     "text": [
      "[stdout:1] 37259068\n"
     ]
    }
   ],
   "source": [
    "%%px\n",
    "\n",
    "t = 5\n",
    "\n",
    "chi[:,:,:] = 0\n",
    "chi[w2 > t*avgOmega] = 1\n",
    "\n",
    "N = np.sum(chi)\n",
    "NGl=np.zeros(1,dtype='float32')\n",
    "\n",
    "comm.Allreduce([N,MPI.REAL],[NGl,MPI.REAL],op=MPI.SUM)\n",
    "\n",
    "if rank==0:\n",
    "    print(int(NGl[0]))"
   ]
  },
  {
   "cell_type": "code",
   "execution_count": 8,
   "metadata": {
    "collapsed": true
   },
   "outputs": [],
   "source": [
    "%%px\n",
    "\n",
    "t = 5\n",
    "c = 'r'\n",
    "\n",
    "chi[:,:,:] = 0\n",
    "chi[w2 > t*avgOmega] = 1"
   ]
  },
  {
   "cell_type": "code",
   "execution_count": 9,
   "metadata": {
    "collapsed": true
   },
   "outputs": [],
   "source": [
    "%%px\n",
    "\n",
    "cchi[:,:,:] = fft.forward3Dfft(chi,nx,ny,nz,nproc,rank)"
   ]
  },
  {
   "cell_type": "code",
   "execution_count": 10,
   "metadata": {
    "collapsed": true
   },
   "outputs": [],
   "source": [
    "%%px\n",
    "\n",
    "tmp = cchi*(cchi.conj())"
   ]
  },
  {
   "cell_type": "code",
   "execution_count": 11,
   "metadata": {
    "collapsed": false
   },
   "outputs": [
    {
     "name": "stdout",
     "output_type": "stream",
     "text": [
      "[stdout:1] \n",
      "Global min: 2.47349e-10\n",
      "Global max: 0.0347002\n",
      "Global ratio: 1.40288e+08\n"
     ]
    }
   ],
   "source": [
    "%%px\n",
    "\n",
    "minAbs = np.min(np.sqrt(tmp.real))\n",
    "maxAbs = np.max(np.sqrt(tmp.real))\n",
    "\n",
    "minGl=np.zeros(nproc,dtype='float32')\n",
    "maxGl=np.zeros(nproc,dtype='float32')\n",
    "\n",
    "comm.Allgather([minAbs,MPI.REAL],[minGl,MPI.REAL])\n",
    "comm.Allgather([maxAbs,MPI.REAL],[maxGl,MPI.REAL])\n",
    "\n",
    "ming = minGl.min()\n",
    "maxg = maxGl.max()\n",
    "\n",
    "if rank==0:\n",
    "    print(\"Global min: \"+str(ming))\n",
    "    print(\"Global max: \"+str(maxg))\n",
    "    print(\"Global ratio: \"+str(maxg/ming) )"
   ]
  },
  {
   "cell_type": "code",
   "execution_count": 12,
   "metadata": {
    "collapsed": false
   },
   "outputs": [
    {
     "name": "stdout",
     "output_type": "stream",
     "text": [
      "[stdout:1] \n",
      "(0.0012041+0j)\n",
      "0j\n"
     ]
    }
   ],
   "source": [
    "%%px\n",
    "\n",
    "if rank==0:\n",
    "    print(tmp[0,0,0])\n",
    "    tmp[0,0,0] = np.complex64(0+0.0j)\n",
    "    print(tmp[0,0,0])"
   ]
  },
  {
   "cell_type": "code",
   "execution_count": 13,
   "metadata": {
    "collapsed": true
   },
   "outputs": [],
   "source": [
    "%%px\n",
    "\n",
    "corr[:,:,:] = fft.backward3Dfft(tmp,nx,ny,nz,nproc,rank)"
   ]
  },
  {
   "cell_type": "code",
   "execution_count": 14,
   "metadata": {
    "collapsed": true
   },
   "outputs": [],
   "source": [
    "%%px\n",
    "\n",
    "fct = 1024**3/37259068\n",
    "\n",
    "corr[0,0,0] *= fct"
   ]
  },
  {
   "cell_type": "code",
   "execution_count": 15,
   "metadata": {
    "collapsed": false
   },
   "outputs": [
    {
     "name": "stdout",
     "output_type": "stream",
     "text": [
      "[stdout:1] 0.9653\n"
     ]
    }
   ],
   "source": [
    "%%px\n",
    "\n",
    "if rank==0:\n",
    "    print(corr[0,0,0])"
   ]
  },
  {
   "cell_type": "code",
   "execution_count": 16,
   "metadata": {
    "collapsed": true
   },
   "outputs": [],
   "source": [
    "%%px\n",
    "\n",
    "iCorr = ft.zeros_aligned((nx,ny//2,nz//2),dtype='float32')\n",
    "\n",
    "X  = np.zeros((nx,ny//2,nz//2), dtype='float32')\n",
    "Y  = np.zeros((nx,ny//2,nz//2), dtype='float32')\n",
    "Z  = np.zeros((nx,ny//2,nz//2), dtype='float32')\n",
    "\n",
    "r2 = np.zeros((nx,ny//2,nz//2), dtype='float32')"
   ]
  },
  {
   "cell_type": "code",
   "execution_count": 17,
   "metadata": {
    "collapsed": true
   },
   "outputs": [],
   "source": [
    "%%px\n",
    "\n",
    "islog = False"
   ]
  },
  {
   "cell_type": "code",
   "execution_count": 45,
   "metadata": {
    "collapsed": false
   },
   "outputs": [
    {
     "name": "stdout",
     "output_type": "stream",
     "text": [
      "[stdout:1] Preparing the real domain for radial integration: 3.29 seconds\n"
     ]
    }
   ],
   "source": [
    "%%px\n",
    "\n",
    "comm.Barrier(); t1=MPI.Wtime()\n",
    "\n",
    "if rank<4:\n",
    "    for i in range(nx):\n",
    "        X[i,:,:] = (i+rank*nx+0.5)*isotropic1024coarse['dx']\n",
    "        \n",
    "    for j in range(ny//2):\n",
    "        Y[:,j,:] = (j+0.5)*isotropic1024coarse['dy']\n",
    "        \n",
    "    for k in range(nz//2):\n",
    "        Z[:,:,k] = (k+0.5)*isotropic1024coarse['dz']\n",
    "        \n",
    "    r2[:,:,:] = X[:,:,:]**2+Y[:,:,:]**2+Z[:,:,:]**2\n",
    "\n",
    "else:\n",
    "    r2[:,:,:] = 0.\n",
    "\n",
    "r2rt = np.sqrt(r2)\n",
    "if(islog==True):\n",
    "    if rank<4:\n",
    "        r2rt = np.log(r2rt)\n",
    "    else:\n",
    "        r2rt[:,:,:] = -100.\n",
    "    \n",
    "comm.Barrier(); t2=MPI.Wtime()\n",
    "if(rank==0):\n",
    "    sys.stdout.write('Preparing the real domain for radial integration: {0:.2f} seconds\\n'.format(t2-t1))"
   ]
  },
  {
   "cell_type": "markdown",
   "metadata": {},
   "source": [
    "    % compute the bin size\n",
    "    rmax = max(max(max(rr)));\n",
    "    rmin = min(min(min(rr)));"
   ]
  },
  {
   "cell_type": "code",
   "execution_count": 54,
   "metadata": {
    "collapsed": true
   },
   "outputs": [],
   "source": [
    "%%px\n",
    "\n",
    "minr2rt = r2rt.min()\n",
    "maxr2rt = r2rt.max()"
   ]
  },
  {
   "cell_type": "code",
   "execution_count": 55,
   "metadata": {
    "collapsed": true
   },
   "outputs": [],
   "source": [
    "%%px\n",
    "\n",
    "if rank>=4:\n",
    "    minr2rt =  10**3\n",
    "    maxr2rt = -10**3    "
   ]
  },
  {
   "cell_type": "code",
   "execution_count": 57,
   "metadata": {
    "collapsed": true
   },
   "outputs": [],
   "source": [
    "%%px\n",
    "\n",
    "minr2rtGl=np.zeros(nproc,dtype='float32')\n",
    "maxr2rtGl=np.zeros(nproc,dtype='float32')"
   ]
  },
  {
   "cell_type": "code",
   "execution_count": 58,
   "metadata": {
    "collapsed": true
   },
   "outputs": [],
   "source": [
    "%%px\n",
    "\n",
    "minrt = np.zeros(1,dtype='float32')\n",
    "maxrt = np.zeros(1,dtype='float32')\n",
    "\n",
    "minrt[0] = minr2rt\n",
    "maxrt[0] = maxr2rt"
   ]
  },
  {
   "cell_type": "code",
   "execution_count": 60,
   "metadata": {
    "collapsed": false
   },
   "outputs": [],
   "source": [
    "%%px\n",
    "\n",
    "comm.Allgather([minrt,MPI.REAL],[minr2rtGl,MPI.REAL])\n",
    "comm.Allgather([maxrt,MPI.REAL],[maxr2rtGl,MPI.REAL])"
   ]
  },
  {
   "cell_type": "code",
   "execution_count": 69,
   "metadata": {
    "collapsed": true
   },
   "outputs": [],
   "source": [
    "%%px\n",
    "\n",
    "mingrt = minr2rtGl.min()\n",
    "maxgrt = maxr2rtGl.max()"
   ]
  },
  {
   "cell_type": "markdown",
   "metadata": {},
   "source": [
    "\n",
    "    sc   = (rmax-rmin)/(nbins-1);\n",
    "    bins = 1 + int16(floor((rr-rmin)/sc));\n",
    "    s1   = rmin + (single(bins)-1)*sc;\n",
    "    s    = unique(s1(:));\n",
    "end    "
   ]
  },
  {
   "cell_type": "code",
   "execution_count": 71,
   "metadata": {
    "collapsed": true
   },
   "outputs": [],
   "source": [
    "%%px\n",
    "\n",
    "nbins = 16"
   ]
  },
  {
   "cell_type": "code",
   "execution_count": 72,
   "metadata": {
    "collapsed": true
   },
   "outputs": [],
   "source": [
    "%%px\n",
    "\n",
    "sc = (maxgrt-mingrt)/(nbins-1)"
   ]
  },
  {
   "cell_type": "code",
   "execution_count": 73,
   "metadata": {
    "collapsed": true
   },
   "outputs": [],
   "source": [
    "%%px\n",
    "\n",
    "bins = np.zeros(nbins,dtype='float32')"
   ]
  },
  {
   "cell_type": "code",
   "execution_count": 74,
   "metadata": {
    "collapsed": false
   },
   "outputs": [],
   "source": [
    "%%px\n",
    "\n",
    "for i in range(nbins):\n",
    "    bins[i] = mingrt + i*sc"
   ]
  },
  {
   "cell_type": "code",
   "execution_count": 58,
   "metadata": {
    "collapsed": true
   },
   "outputs": [],
   "source": [
    "%%px \n",
    "\n",
    "if rank<4:\n",
    "    iCorr[0:nx,0:(ny//2),0:(nz//2)] = corr[0:nx,0:(ny//2),0:(nz//2)]\n",
    "else:\n",
    "    iCorr[:,:,:] = 0."
   ]
  },
  {
   "cell_type": "code",
   "execution_count": 59,
   "metadata": {
    "collapsed": false
   },
   "outputs": [
    {
     "name": "stdout",
     "output_type": "stream",
     "text": [
      "[stdout:6] \n",
      "[  7.07106781e-01   1.01017909e+00   1.44315090e+00   2.06169831e+00\n",
      "   2.94536068e+00   4.20776867e+00   6.01125604e+00   8.58773427e+00\n",
      "   1.22685142e+01   1.75269093e+01   2.50390997e+01   3.57710823e+01\n",
      "   5.11028888e+01   7.30060450e+01   1.04297090e+02   1.48999758e+02\n",
      "   2.12862390e+02   3.04097118e+02   4.34435869e+02   6.20638977e+02\n",
      "   8.86650406e+02]\n"
     ]
    }
   ],
   "source": [
    "%%px\n",
    "\n",
    "if rank==0:\n",
    "    print(logrbins/dx)"
   ]
  },
  {
   "cell_type": "code",
   "execution_count": 60,
   "metadata": {
    "collapsed": false
   },
   "outputs": [],
   "source": [
    "%%px\n",
    "\n",
    "if rank<4:\n",
    "    corrLoc,redges = np.histogram(r2rt,range=(minr2rt,maxr2rt),bins = logrbins,weights=iCorr)\n",
    "    \n",
    "    r2Loc,r2edges = np.histogram(r2rt,range=(minr2rt,maxr2rt),bins = logrbins)"
   ]
  },
  {
   "cell_type": "code",
   "execution_count": 61,
   "metadata": {
    "collapsed": false
   },
   "outputs": [
    {
     "name": "stdout",
     "output_type": "stream",
     "text": [
      "[stdout:6] \n",
      "(20,)\n",
      "float32\n",
      "(21,)\n",
      "float64\n"
     ]
    }
   ],
   "source": [
    "%%px\n",
    "\n",
    "if rank==0:\n",
    "    print(corrLoc.shape)\n",
    "    print(corrLoc.dtype)\n",
    "    print(redges.shape)\n",
    "    print(redges.dtype)"
   ]
  },
  {
   "cell_type": "code",
   "execution_count": 62,
   "metadata": {
    "collapsed": true
   },
   "outputs": [],
   "source": [
    "%%px\n",
    "\n",
    "if rank>=4:\n",
    "    corrLoc = np.zeros(20,dtype='float32')\n",
    "    redges = np.zeros(20,dtype='float32')\n",
    "    \n",
    "    r2Loc = np.zeros(20,dtype='float32')\n",
    "    r2edges = np.zeros(20,dtype='float32')"
   ]
  },
  {
   "cell_type": "code",
   "execution_count": 63,
   "metadata": {
    "collapsed": false
   },
   "outputs": [],
   "source": [
    "%%px\n",
    "\n",
    "corrSum = np.zeros(corrLoc.shape[0],dtype='float32')\n",
    "r2Sum = np.zeros(corrLoc.shape[0],dtype='float32')\n",
    "\n",
    "corrF = np.zeros(corrLoc.shape[0],dtype='float32')\n",
    "r2F = np.zeros(corrLoc.shape[0],dtype='float32')"
   ]
  },
  {
   "cell_type": "code",
   "execution_count": 64,
   "metadata": {
    "collapsed": false
   },
   "outputs": [
    {
     "name": "stdout",
     "output_type": "stream",
     "text": [
      "[stdout:6] \n",
      "(20,)\n",
      "(20,)\n"
     ]
    }
   ],
   "source": [
    "%%px\n",
    "\n",
    "if rank==0:\n",
    "    print(corrF.shape)\n",
    "    print(corrSum.shape)"
   ]
  },
  {
   "cell_type": "code",
   "execution_count": 65,
   "metadata": {
    "collapsed": true
   },
   "outputs": [],
   "source": [
    "%%px\n",
    "\n",
    "corrLoc=np.float32(corrLoc)\n",
    "comm.Allreduce([corrLoc,MPI.REAL],[corrSum,MPI.REAL],op=MPI.SUM)"
   ]
  },
  {
   "cell_type": "code",
   "execution_count": 51,
   "metadata": {
    "collapsed": false
   },
   "outputs": [
    {
     "name": "stdout",
     "output_type": "stream",
     "text": [
      "[stdout:6] \n",
      "(20,)\n",
      "(21,)\n",
      "[  4.33875287e-03   6.19838124e-03   8.85506300e-03   1.26504224e-02\n",
      "   1.80725068e-02   2.58185452e-02   3.68846051e-02   5.26936775e-02\n",
      "   7.52786600e-02   1.07543768e-01   1.53637992e-01   2.19488612e-01\n",
      "   3.13563399e-01   4.47959482e-01   6.39958931e-01   9.14251066e-01\n",
      "   1.30610727e+00   1.86591655e+00   2.66566511e+00   3.80819307e+00\n",
      "   5.44041875e+00]\n"
     ]
    }
   ],
   "source": [
    "%%px\n",
    "\n",
    "if rank==0:\n",
    "    print(corrSum.shape)\n",
    "    print(logrbins.shape)\n",
    "    print(logrbins)"
   ]
  },
  {
   "cell_type": "code",
   "execution_count": 75,
   "metadata": {
    "collapsed": false
   },
   "outputs": [
    {
     "name": "stdout",
     "output_type": "stream",
     "text": [
      "[stdout:6] (20,)\n"
     ]
    }
   ],
   "source": [
    "%%px\n",
    "\n",
    "if rank == 0:\n",
    "    size = logrbins.shape[0]\n",
    "    bincenter = np.sqrt(logrbins[0:size-1]*logrbins[1:size])\n",
    "    binratio  = logrbins[1:size]/logrbins[0:size-1]\n",
    "    print(bincenter.shape)"
   ]
  },
  {
   "cell_type": "code",
   "execution_count": 76,
   "metadata": {
    "collapsed": false
   },
   "outputs": [
    {
     "data": {
      "text/plain": [
       "[output:6]"
      ]
     },
     "metadata": {},
     "output_type": "display_data"
    },
    {
     "data": {
      "image/png": "[encoded data removed]",
      "text/plain": [
       "<matplotlib.figure.Figure at 0x7f2197f04d30>"
      ]
     },
     "metadata": {
      "engine": 6
     },
     "output_type": "display_data"
    }
   ],
   "source": [
    "%%px\n",
    "%matplotlib inline\n",
    "\n",
    "eta = 0.00280\n",
    "\n",
    "if(rank==0):\n",
    "    matplotlib.rc('xtick', labelsize=20)\n",
    "    matplotlib.rc('ytick', labelsize=20)\n",
    "    \n",
    "    rp = bincenter\n",
    "    \n",
    "    plt.figure(figsize=(12,12))\n",
    "    plt.xlabel(r'$r/\\eta$', fontsize=20)\n",
    "    plt.ylabel(r'$\\frac{C(r)}{C(0)} = \\frac{1}{C(0)} \\int_{S^2} \\langle \\chi({\\bf x}) \\chi({\\bf x}+{\\bf r}) \\rangle d\\Omega$', fontsize=20)\n",
    "    #plt.xlim([7*10**(-3)/eta,np.pi/eta])\n",
    "        \n",
    "    plt.plot(rp/eta,(corrSum/binratio),'g^',label=r'$\\omega^2 > '+str(5)\n",
    "                                               +r'\\langle \\omega^2\\rangle$')\n",
    "        \n",
    "    plt.grid()\n",
    "        \n",
    "    plt.legend(loc='lower left',prop={'size':16})"
   ]
  },
  {
   "cell_type": "code",
   "execution_count": null,
   "metadata": {
    "collapsed": true
   },
   "outputs": [],
   "source": []
  },
  {
   "cell_type": "code",
   "execution_count": null,
   "metadata": {
    "collapsed": true
   },
   "outputs": [],
   "source": []
  },
  {
   "cell_type": "code",
   "execution_count": null,
   "metadata": {
    "collapsed": true
   },
   "outputs": [],
   "source": []
  }
 ],
 "metadata": {
  "kernelspec": {
   "display_name": "Python 3",
   "language": "python",
   "name": "python3"
  },
  "language_info": {
   "codemirror_mode": {
    "name": "ipython",
    "version": 3
   },
   "file_extension": ".py",
   "mimetype": "text/x-python",
   "name": "python",
   "nbconvert_exporter": "python",
   "pygments_lexer": "ipython3",
   "version": "3.5.2"
  }
 },
 "nbformat": 4,
 "nbformat_minor": 0
}
