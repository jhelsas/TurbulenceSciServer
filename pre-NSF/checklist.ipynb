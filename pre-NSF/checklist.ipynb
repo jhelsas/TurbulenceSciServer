{
 "cells": [
  {
   "cell_type": "code",
   "execution_count": 1,
   "metadata": {
    "collapsed": false
   },
   "outputs": [],
   "source": [
    "#!ipcluster start -n 8 --engines=MPI --profile='mpi' # for parallel run: start the engines using terminal\n",
    "from ipyparallel import Client\n",
    "rc = Client(profile='mpi')"
   ]
  },
  {
   "cell_type": "code",
   "execution_count": 2,
   "metadata": {
    "collapsed": false
   },
   "outputs": [],
   "source": [
    "%%px\n",
    "# Import the libraries\n",
    "\n",
    "import numpy as np\n",
    "import pyfftw as ft \n",
    "from mpi4py import MPI\n",
    "import math\n",
    "import sys\n",
    "import os\n",
    "import pyJHTDB\n",
    "from pyJHTDB.dbinfo import isotropic1024coarse\n",
    "from pyJHTDB import libJHTDB\n",
    "\n",
    "#sys.path.insert(0,'ClassRepository')\n",
    "from fft3d import FFT3Dfield_new\n",
    "from EnergySpectrum import EnergySpectrum"
   ]
  },
  {
   "cell_type": "code",
   "execution_count": 3,
   "metadata": {
    "collapsed": false
   },
   "outputs": [
    {
     "name": "stdout",
     "output_type": "stream",
     "text": [
      "[stdout:6] \n",
      "n_proc = 8\n",
      "rank = 0\n"
     ]
    }
   ],
   "source": [
    "%%px\n",
    "\n",
    "Nx = isotropic1024coarse['nx']\n",
    "Ny = isotropic1024coarse['ny']\n",
    "Nz = isotropic1024coarse['nz']\n",
    "Lx = isotropic1024coarse['lx']\n",
    "Ly = isotropic1024coarse['ly']\n",
    "Lz = isotropic1024coarse['lz']\n",
    "nu = isotropic1024coarse['nu']\n",
    "\n",
    "comm = MPI.COMM_WORLD\n",
    "rank = comm.Get_rank()\n",
    "nproc = comm.Get_size()\n",
    "if(rank==0):\n",
    "    print(\"n_proc = \"+str(nproc))\n",
    "    print(\"rank = \"+str(rank))\n",
    "\n",
    "nx=Nx//nproc\n",
    "ny=Ny\n",
    "nz=Nz\n",
    "nz_half=nz//2\n",
    "nek=int(math.sqrt(2.0)/3*Nx)\n",
    "time = 0.0 #1.024# 0.0\n",
    "\n",
    "chkSz = 32\n",
    "slabs = nx//chkSz"
   ]
  },
  {
   "cell_type": "code",
   "execution_count": 4,
   "metadata": {
    "collapsed": false
   },
   "outputs": [
    {
     "name": "stdout",
     "output_type": "stream",
     "text": [
      "[stdout:6] \n",
      "Starting the loading process\n",
      "Finished loading\n",
      "Load from disk: 8.12 seconds\n",
      "vx shape = (128, 1024, 1024)\n"
     ]
    }
   ],
   "source": [
    "%%px\n",
    "\n",
    "from DataDownload import DataDownload\n",
    "\n",
    "# Populate velocity field from the Database\n",
    "\n",
    "if(rank==0):\n",
    "    print(\"Starting the loading process\")\n",
    "\n",
    "##########################################\n",
    "load_from_file = True\n",
    "store_on_file = False\n",
    "auth_token = \"com.gmail.jhelsas-b854269a\"\n",
    "\n",
    "folder = \"/home/idies/workspace/scratch\"\n",
    "filename = \"ref-isotropic1024coarse-\"+str(rank)+\"-(t=\"+str(time)+\")\"+\".npz\"\n",
    "file = folder + \"/\" + filename\n",
    "\n",
    "if(load_from_file):\n",
    "    vx = ft.zeros_aligned((nx,ny,nz), dtype='float32')\n",
    "    vy = ft.zeros_aligned((nx,ny,nz), dtype='float32')\n",
    "    vz = ft.zeros_aligned((nx,ny,nz), dtype='float32')\n",
    "\n",
    "    comm.Barrier(); t1=MPI.Wtime()\n",
    "    content = np.load(file)\n",
    "    if(int(content['nproc'])!=nproc):\n",
    "        print(\"Unmatched number of processes. Must first pre-process to adequate number of process\")\n",
    "    vx = content['vx']\n",
    "    vy = content['vy']\n",
    "    vz = content['vz']\n",
    "    comm.Barrier(); t2=MPI.Wtime()\n",
    "    if(rank==0):\n",
    "        print(\"Finished loading\")\n",
    "        sys.stdout.write('Load from disk: {0:.2f} seconds\\n'.format(t2-t1))\n",
    "else:\n",
    "    comm.Barrier(); t1=MPI.Wtime()\n",
    "    \n",
    "    ddwnld = DataDownload()\n",
    "    vx,vy,vz = ddwnld.DownldData_pyJHTDB('isotropic1024coarse',time,nx,ny,nz,nproc,rank,auth_token)\n",
    "    \n",
    "    comm.Barrier(); t2=MPI.Wtime()\n",
    "    if(rank==0):\n",
    "        print(\"Finished loading\")\n",
    "        sys.stdout.write('Load field from database: {0:.2f} seconds\\n'.format(t2-t1))\n",
    "    \n",
    "    comm.Barrier(); t1=MPI.Wtime()\n",
    "    \n",
    "    np.savez(file,vx=vx,vy=vy,vz=vz,nproc=nproc)\n",
    "    comm.Barrier(); t2=MPI.Wtime()\n",
    "    if(rank==0):\n",
    "        sys.stdout.write('Caching the data: {0:.2f} seconds\\n'.format(t2-t1))\n",
    "\n",
    "\n",
    "if(rank==0):\n",
    "    print(\"vx shape = \"+str(vx.shape))       "
   ]
  },
  {
   "cell_type": "code",
   "execution_count": 5,
   "metadata": {
    "collapsed": false
   },
   "outputs": [
    {
     "name": "stdout",
     "output_type": "stream",
     "text": [
      "[stdout:6] kinectic energy = 0.682719171047\n"
     ]
    }
   ],
   "source": [
    "%%px\n",
    "\n",
    "K = 0.5*(vx**2+vy**2+vz**2)\n",
    "\n",
    "slabK = np.sum(K)\n",
    "\n",
    "avgK=np.zeros(1,dtype='float32')\n",
    "\n",
    "comm.Reduce([slabK,MPI.REAL],[avgK,MPI.REAL],op=MPI.SUM)\n",
    "avgK = avgK[0]*(1024**(-3))\n",
    "avgK = comm.bcast(avgK, root=0)\n",
    "\n",
    "if rank==0:\n",
    "    print(\"kinectic energy = \"+str(avgK))"
   ]
  },
  {
   "cell_type": "code",
   "execution_count": 6,
   "metadata": {
    "collapsed": false
   },
   "outputs": [
    {
     "name": "stdout",
     "output_type": "stream",
     "text": [
      "[stdout:6] Calculate all wavenumbers: 8.64 seconds\n"
     ]
    }
   ],
   "source": [
    "%%px\n",
    "\n",
    "comm.Barrier(); t1=MPI.Wtime()\n",
    "# Get wavenumber:\n",
    "myEnergySpc=EnergySpectrum()\n",
    "k2,kx,ky,kz=myEnergySpc.FindWavenumber(nx,ny,nz,rank)\n",
    "\n",
    "comm.Barrier(); t2=MPI.Wtime()\n",
    "if(rank==0):\n",
    "    sys.stdout.write('Calculate all wavenumbers: {0:.2f} seconds\\n'.format(t2-t1))"
   ]
  },
  {
   "cell_type": "code",
   "execution_count": 7,
   "metadata": {
    "collapsed": true
   },
   "outputs": [],
   "source": [
    "%%px \n",
    "\n",
    "fft = FFT3Dfield_new(nx,ny,nz,nproc,rank)\n",
    "\n",
    "cvx = ft.zeros_aligned((nx,ny,1+(nz//2)), dtype='complex64')\n",
    "cvy = ft.zeros_aligned((nx,ny,1+(nz//2)), dtype='complex64')\n",
    "cvz = ft.zeros_aligned((nx,ny,1+(nz//2)), dtype='complex64')"
   ]
  },
  {
   "cell_type": "code",
   "execution_count": 8,
   "metadata": {
    "collapsed": false
   },
   "outputs": [
    {
     "name": "stdout",
     "output_type": "stream",
     "text": [
      "[stdout:6] Calculate 3D spatial FFT: 74.71 seconds\n"
     ]
    }
   ],
   "source": [
    "%%px\n",
    "comm.Barrier(); t1=MPI.Wtime()\n",
    "\n",
    "cvx[:,:,:] = fft.forward3Dfft(vx,nx,ny,nz,nproc,rank)\n",
    "cvy[:,:,:] = fft.forward3Dfft(vy,nx,ny,nz,nproc,rank)\n",
    "cvz[:,:,:] = fft.forward3Dfft(vz,nx,ny,nz,nproc,rank)\n",
    "\n",
    "comm.Barrier(); t2=MPI.Wtime()\n",
    "if(rank==0):\n",
    "    sys.stdout.write('Calculate 3D spatial FFT: {0:.2f} seconds\\n'.format(t2-t1))"
   ]
  },
  {
   "cell_type": "code",
   "execution_count": 9,
   "metadata": {
    "collapsed": true
   },
   "outputs": [],
   "source": [
    "%%px\n",
    "\n",
    "cA11 = ft.zeros_aligned((nx,ny,1+(nz//2)), dtype='complex64')\n",
    "cA12 = ft.zeros_aligned((nx,ny,1+(nz//2)), dtype='complex64')\n",
    "cA13 = ft.zeros_aligned((nx,ny,1+(nz//2)), dtype='complex64')\n",
    "cA21 = ft.zeros_aligned((nx,ny,1+(nz//2)), dtype='complex64')\n",
    "cA22 = ft.zeros_aligned((nx,ny,1+(nz//2)), dtype='complex64')\n",
    "cA23 = ft.zeros_aligned((nx,ny,1+(nz//2)), dtype='complex64')\n",
    "cA31 = ft.zeros_aligned((nx,ny,1+(nz//2)), dtype='complex64')\n",
    "cA32 = ft.zeros_aligned((nx,ny,1+(nz//2)), dtype='complex64')\n",
    "cA33 = ft.zeros_aligned((nx,ny,1+(nz//2)), dtype='complex64')"
   ]
  },
  {
   "cell_type": "code",
   "execution_count": 10,
   "metadata": {
    "collapsed": false
   },
   "outputs": [
    {
     "name": "stdout",
     "output_type": "stream",
     "text": [
      "[stdout:6] Calculate velocity gradient: 25.29 seconds\n"
     ]
    }
   ],
   "source": [
    "%%px\n",
    "comm.Barrier(); t1=MPI.Wtime()\n",
    "\n",
    "cA11[:,:,:] = np.complex64(0.0+1.0j)*kx[:,:,:]*cvx[:,:,:]\n",
    "cA12[:,:,:] = np.complex64(0.0+1.0j)*kx[:,:,:]*cvy[:,:,:]\n",
    "cA13[:,:,:] = np.complex64(0.0+1.0j)*kx[:,:,:]*cvz[:,:,:]\n",
    "\n",
    "cA21[:,:,:] = np.complex64(0.0+1.0j)*ky[:,:,:]*cvx[:,:,:]\n",
    "cA22[:,:,:] = np.complex64(0.0+1.0j)*ky[:,:,:]*cvy[:,:,:]\n",
    "cA23[:,:,:] = np.complex64(0.0+1.0j)*ky[:,:,:]*cvz[:,:,:]\n",
    "\n",
    "cA31[:,:,:] = np.complex64(0.0+1.0j)*kz[:,:,:]*cvx[:,:,:]\n",
    "cA32[:,:,:] = np.complex64(0.0+1.0j)*kz[:,:,:]*cvy[:,:,:]\n",
    "cA33[:,:,:] = np.complex64(0.0+1.0j)*kz[:,:,:]*cvz[:,:,:]\n",
    "\n",
    "comm.Barrier(); t2=MPI.Wtime()\n",
    "if(rank==0):\n",
    "    sys.stdout.write('Calculate velocity gradient: {0:.2f} seconds\\n'.format(t2-t1))"
   ]
  },
  {
   "cell_type": "code",
   "execution_count": 11,
   "metadata": {
    "collapsed": true
   },
   "outputs": [],
   "source": [
    "%%px\n",
    "\n",
    "A11 = ft.zeros_aligned((nx,ny,nz), dtype='float32')\n",
    "A12 = ft.zeros_aligned((nx,ny,nz), dtype='float32')\n",
    "A13 = ft.zeros_aligned((nx,ny,nz), dtype='float32')\n",
    "A21 = ft.zeros_aligned((nx,ny,nz), dtype='float32')\n",
    "A22 = ft.zeros_aligned((nx,ny,nz), dtype='float32')\n",
    "A23 = ft.zeros_aligned((nx,ny,nz), dtype='float32')\n",
    "A31 = ft.zeros_aligned((nx,ny,nz), dtype='float32')\n",
    "A32 = ft.zeros_aligned((nx,ny,nz), dtype='float32')\n",
    "A33 = ft.zeros_aligned((nx,ny,nz), dtype='float32')"
   ]
  },
  {
   "cell_type": "code",
   "execution_count": 12,
   "metadata": {
    "collapsed": false
   },
   "outputs": [
    {
     "name": "stdout",
     "output_type": "stream",
     "text": [
      "[stdout:6] Calculate inverse 3D spatial FFT - velocity gradients: 198.92 seconds\n"
     ]
    }
   ],
   "source": [
    "%%px\n",
    "comm.Barrier(); t1=MPI.Wtime()\n",
    "\n",
    "A11[:,:,:] = fft.backward3Dfft(cA11,nx,ny,nz,nproc,rank)\n",
    "A12[:,:,:] = fft.backward3Dfft(cA12,nx,ny,nz,nproc,rank)\n",
    "A13[:,:,:] = fft.backward3Dfft(cA13,nx,ny,nz,nproc,rank)\n",
    "A21[:,:,:] = fft.backward3Dfft(cA21,nx,ny,nz,nproc,rank)\n",
    "A22[:,:,:] = fft.backward3Dfft(cA22,nx,ny,nz,nproc,rank)\n",
    "A23[:,:,:] = fft.backward3Dfft(cA23,nx,ny,nz,nproc,rank)\n",
    "A31[:,:,:] = fft.backward3Dfft(cA31,nx,ny,nz,nproc,rank)\n",
    "A32[:,:,:] = fft.backward3Dfft(cA32,nx,ny,nz,nproc,rank)\n",
    "A33[:,:,:] = fft.backward3Dfft(cA33,nx,ny,nz,nproc,rank)\n",
    "\n",
    "comm.Barrier(); t2=MPI.Wtime()\n",
    "if(rank==0):\n",
    "    sys.stdout.write('Calculate inverse 3D spatial FFT - velocity gradients: {0:.2f} seconds\\n'.format(t2-t1))"
   ]
  },
  {
   "cell_type": "code",
   "execution_count": 13,
   "metadata": {
    "collapsed": false
   },
   "outputs": [
    {
     "name": "stdout",
     "output_type": "stream",
     "text": [
      "[stdout:6] \n",
      "<A11> = 3.80251385934e-12\n",
      "<A12> = -5.90303361747e-11\n",
      "<A13> = -4.72720751432e-11\n",
      "<A21> = -4.37694325228e-10\n",
      "<A22> = -2.86235035674e-10\n",
      "<A23> = -1.67187863553e-09\n",
      "<A31> = 3.42197381542e-11\n",
      "<A32> = -1.78813934326e-07\n",
      "<A33> = 4.17232513428e-07\n"
     ]
    }
   ],
   "source": [
    "%%px \n",
    "\n",
    "A  = [A11,A12,A13,A21,A22,A23,A31,A32,A33]\n",
    "la = ['A11','A12','A13','A21','A22','A23','A31','A32','A33']\n",
    "\n",
    "for i in range(9):\n",
    "    Aav = np.average(A[i])\n",
    "    slabAavg = np.sum(Aav)\n",
    "    \n",
    "    avgA =np.zeros(1,dtype='float32')\n",
    "    \n",
    "    comm.Reduce([slabAavg,MPI.REAL],[avgA,MPI.REAL],op=MPI.SUM)\n",
    "    avgA = avgA[0]/nproc #avgK[0]*(1024**(-3))\n",
    "    avgA = comm.bcast(avgA, root=0)\n",
    "    \n",
    "    if rank==0:\n",
    "        print(\"<\"+la[i]+\"> = \"+str(avgA))"
   ]
  },
  {
   "cell_type": "code",
   "execution_count": 14,
   "metadata": {
    "collapsed": false
   },
   "outputs": [
    {
     "name": "stdout",
     "output_type": "stream",
     "text": [
      "[stdout:6] \n",
      "<A11^2> = 66.6280975342\n",
      "<A12^2> = 66.7571334839\n",
      "<A13^2> = 33.2177276611\n",
      "<A21^2> = 65.7715530396\n",
      "<A22^2> = 33.0682907104\n",
      "<A23^2> = 65.7397689819\n",
      "<A31^2> = 33.2611160278\n",
      "<A32^2> = 66.9627380371\n",
      "<A33^2> = 67.0288925171\n"
     ]
    }
   ],
   "source": [
    "%%px \n",
    "\n",
    "A  = [A11,A12,A13,A21,A22,A23,A31,A32,A33]\n",
    "la = ['A11','A12','A13','A21','A22','A23','A31','A32','A33']\n",
    "\n",
    "for i in range(9):\n",
    "    A2av = np.average(A[i]**2)\n",
    "    \n",
    "    avgA2 =np.zeros(1,dtype='float32')\n",
    "    \n",
    "    comm.Reduce([A2av,MPI.REAL],[avgA2,MPI.REAL],op=MPI.SUM)\n",
    "    avgA2 = avgA2[0]/nproc #avgK[0]*(1024**(-3))\n",
    "    avgA2 = comm.bcast(avgA2, root=0)\n",
    "    \n",
    "    if rank==0:\n",
    "        print(\"<\"+la[i]+\"^2> = \"+str(avgA2))"
   ]
  },
  {
   "cell_type": "code",
   "execution_count": 15,
   "metadata": {
    "collapsed": false
   },
   "outputs": [
    {
     "name": "stdout",
     "output_type": "stream",
     "text": [
      "[stdout:6] \n",
      "skewness = <A11^3>/<A11^2>^(3/2) = 0.00386567511143\n",
      "skewness = <A12^3>/<A12^2>^(3/2) = 0.00726924441985\n",
      "skewness = <A13^3>/<A13^2>^(3/2) = -0.576320610589\n",
      "skewness = <A21^3>/<A21^2>^(3/2) = -0.00580452084313\n",
      "skewness = <A22^3>/<A22^2>^(3/2) = -0.553908776151\n",
      "skewness = <A23^3>/<A23^2>^(3/2) = -0.0494113065275\n",
      "skewness = <A31^3>/<A31^2>^(3/2) = -0.590255594168\n",
      "skewness = <A32^3>/<A32^2>^(3/2) = -0.0262069533984\n",
      "skewness = <A33^3>/<A33^2>^(3/2) = -0.0446001002646\n"
     ]
    }
   ],
   "source": [
    "%%px \n",
    "\n",
    "A  = [A11,A12,A13,A21,A22,A23,A31,A32,A33]\n",
    "la = ['A11','A12','A13','A21','A22','A23','A31','A32','A33']\n",
    "\n",
    "for i in range(9):  \n",
    "    A2av = np.average(A[i]**2)\n",
    "    A3av = np.average(A[i]**3)  \n",
    "    \n",
    "    avgA2 =np.zeros(1,dtype='float32')\n",
    "    avgA3 =np.zeros(1,dtype='float32')\n",
    "    \n",
    "    comm.Reduce([A2av,MPI.REAL],[avgA2,MPI.REAL],op=MPI.SUM)\n",
    "    comm.Reduce([A3av,MPI.REAL],[avgA3,MPI.REAL],op=MPI.SUM)\n",
    "    \n",
    "    avgA2 = avgA2[0]/nproc \n",
    "    avgA2 = comm.bcast(avgA2, root=0)\n",
    "    avgA3 = avgA3[0]/nproc \n",
    "    avgA3 = comm.bcast(avgA3, root=0)\n",
    "    \n",
    "    if rank==0:\n",
    "        print(\"skewness = <\"+la[i]+\"^3>/\"+\"<\"+la[i]+\"^2>^(3/2) \"+\"= \"+str(avgA3/(avgA2**(3/2))) )"
   ]
  },
  {
   "cell_type": "code",
   "execution_count": 16,
   "metadata": {
    "collapsed": false
   },
   "outputs": [
    {
     "name": "stdout",
     "output_type": "stream",
     "text": [
      "[stdout:6] <(div v)^2> = 133.161956787\n"
     ]
    }
   ],
   "source": [
    "%%px \n",
    "\n",
    "div = A11+A22+A33 \n",
    "\n",
    "div2av = np.average(div**2)\n",
    "    \n",
    "avgdiv2 =np.zeros(1,dtype='float32')\n",
    "   \n",
    "comm.Reduce([div2av,MPI.REAL],[avgdiv2,MPI.REAL],op=MPI.SUM)\n",
    "avgdiv2 = avgdiv2[0]/nproc \n",
    "avgdiv2 = comm.bcast(avgdiv2, root=0)\n",
    "\n",
    "if rank==0:\n",
    "    print(\"<(div v)^2> = \"+str(avgdiv2))"
   ]
  },
  {
   "cell_type": "code",
   "execution_count": 17,
   "metadata": {
    "collapsed": false
   },
   "outputs": [
    {
     "name": "stdout",
     "output_type": "stream",
     "text": [
      "[stdout:6] <(div v)^2> = 5.5340358962e-09\n"
     ]
    }
   ],
   "source": [
    "%%px \n",
    "\n",
    "div = A13+A22+A31 \n",
    "\n",
    "div2av = np.average(div**2)\n",
    "    \n",
    "avgdiv2 =np.zeros(1,dtype='float32')\n",
    "   \n",
    "comm.Reduce([div2av,MPI.REAL],[avgdiv2,MPI.REAL],op=MPI.SUM)\n",
    "avgdiv2 = avgdiv2[0]/nproc \n",
    "avgdiv2 = comm.bcast(avgdiv2, root=0)\n",
    "\n",
    "if rank==0:\n",
    "    print(\"<(div v)^2> = \"+str(avgdiv2))"
   ]
  },
  {
   "cell_type": "code",
   "execution_count": 18,
   "metadata": {
    "collapsed": false
   },
   "outputs": [
    {
     "name": "stdout",
     "output_type": "stream",
     "text": [
      "[stdout:6] \n",
      "(1024,)\n",
      "(1024,)\n",
      "(1024,)\n"
     ]
    }
   ],
   "source": [
    "%%px\n",
    "\n",
    "vx_xlp = vx[:,0,0]\n",
    "\n",
    "vx_xl = comm.gather(vx_xlp,root=0)\n",
    "if rank==0:\n",
    "    l = tuple(vx_xl)\n",
    "    vx_xl = np.concatenate(l)\n",
    "\n",
    "vx_yl = vx[0,:,0]\n",
    "vx_zl = vx[0,0,:]\n",
    "\n",
    "if rank==0:\n",
    "    print(vx_xl.shape)\n",
    "    print(vx_yl.shape)\n",
    "    print(vx_zl.shape)"
   ]
  },
  {
   "cell_type": "code",
   "execution_count": 59,
   "metadata": {
    "collapsed": false
   },
   "outputs": [],
   "source": [
    "%%px\n",
    "\n",
    "vx_xlpdx = A11[:,0,0]\n",
    "\n",
    "vx_xldx = comm.gather(vx_xlpdx,root=0)\n",
    "if rank==0:\n",
    "    ldx = tuple(vx_xldx)\n",
    "    vx_xldx = np.concatenate(ldx)\n",
    "\n",
    "vx_yldx = A21[0,:,0]\n",
    "vx_zldx = A31[0,0,:]\n",
    "\n",
    "########################\n",
    "\n",
    "vy_xlpdx = A12[:,0,0]\n",
    "\n",
    "vy_xldx = comm.gather(vy_xlpdx,root=0)\n",
    "if rank==0:\n",
    "    ldy = tuple(vy_xldx)\n",
    "    vy_xldx = np.concatenate(ldy)\n",
    "\n",
    "vy_yldx = A22[0,:,0]\n",
    "vy_zldx = A32[0,0,:]\n",
    "\n",
    "########################\n",
    "\n",
    "\n",
    "vz_xlpdx = A13[:,0,0]\n",
    "\n",
    "vz_xldx = comm.gather(vz_xlpdx,root=0)\n",
    "if rank==0:\n",
    "    ldz = tuple(vz_xldx)\n",
    "    vz_xldx = np.concatenate(ldz)\n",
    "\n",
    "vz_yldx = A23[0,:,0]\n",
    "vz_zldx = A33[0,0,:]"
   ]
  },
  {
   "cell_type": "code",
   "execution_count": 60,
   "metadata": {
    "collapsed": false
   },
   "outputs": [
    {
     "name": "stdout",
     "output_type": "stream",
     "text": [
      "[stdout:0] (1024,)\n",
      "[stdout:1] (1024,)\n",
      "[stdout:2] (1024,)\n",
      "[stdout:3] (1024,)\n",
      "[stdout:4] (1024,)\n",
      "[stdout:5] (1024,)\n",
      "[stdout:6] (1024,)\n",
      "[stdout:7] (1024,)\n"
     ]
    },
    {
     "data": {
      "text/plain": [
       "[output:6]"
      ]
     },
     "metadata": {},
     "output_type": "display_data"
    },
    {
     "data": {
      "image/png": "[encoded data removed]",
      "text/plain": [
       "<matplotlib.figure.Figure at 0x7fa547e3d7b8>"
      ]
     },
     "metadata": {
      "engine": 6
     },
     "output_type": "display_data"
    }
   ],
   "source": [
    "%%px\n",
    "%matplotlib inline\n",
    "\n",
    "import matplotlib\n",
    "import matplotlib.pyplot as plt\n",
    "\n",
    "Y = np.linspace(0,2.*np.pi,Ny)\n",
    "print(Y.shape)\n",
    "\n",
    "if rank==0:\n",
    "    plt.plot(Y,vx_xl,'r-')\n",
    "    plt.plot(Y,vx_xldx/100,'b-')\n",
    "    plt.grid()\n",
    "    \n",
    "    plt.xlim((0,2))\n",
    "    \n",
    "    plt.show()"
   ]
  },
  {
   "cell_type": "code",
   "execution_count": 61,
   "metadata": {
    "collapsed": false
   },
   "outputs": [
    {
     "data": {
      "text/plain": [
       "[output:6]"
      ]
     },
     "metadata": {},
     "output_type": "display_data"
    },
    {
     "data": {
      "image/png": "[encoded data removed]",
      "text/plain": [
       "<matplotlib.figure.Figure at 0x7fa548006518>"
      ]
     },
     "metadata": {
      "engine": 6
     },
     "output_type": "display_data"
    }
   ],
   "source": [
    "%%px \n",
    "\n",
    "if rank==0:\n",
    "    pos = vx_xldx > 0\n",
    "    neg = vx_xldx < 0\n",
    "    \n",
    "    dx = 2.*np.pi/1024\n",
    "    vlgrx = np.gradient(vx_xl)/dx\n",
    "    \n",
    "    plt.plot(Y[pos],vx_xl[pos],'r.')\n",
    "    plt.plot(Y[pos],vx_xldx[pos]/100,'b.')\n",
    "    \n",
    "    plt.plot(Y[neg],vx_xl[neg],'m.')\n",
    "    plt.plot(Y[neg],vx_xldx[neg]/100,'k.')\n",
    "    \n",
    "    plt.plot(Y,vlgrx/100,'g')\n",
    "    plt.grid()\n",
    "    \n",
    "    plt.xlim((0,2))\n",
    "    \n",
    "    plt.show()"
   ]
  },
  {
   "cell_type": "code",
   "execution_count": 72,
   "metadata": {
    "collapsed": false
   },
   "outputs": [
    {
     "data": {
      "text/plain": [
       "[output:6]"
      ]
     },
     "metadata": {},
     "output_type": "display_data"
    },
    {
     "data": {
      "image/png": "[encoded data removed]",
      "text/plain": [
       "<matplotlib.figure.Figure at 0x7fa547bf0710>"
      ]
     },
     "metadata": {
      "engine": 6
     },
     "output_type": "display_data"
    }
   ],
   "source": [
    "%%px \n",
    "\n",
    "if rank==0:\n",
    "    pos = vx_zldx > 0\n",
    "    neg = vx_zldx < 0\n",
    "    \n",
    "    dx = 2.*np.pi/1024\n",
    "    vlgrx = np.gradient(vx_xl)/dx\n",
    "    \n",
    "    #plt.plot(Y[pos],vx_xl[pos],'r.')\n",
    "    #plt.plot(Y[pos],vx_zldx[pos]/100,'b.')\n",
    "    \n",
    "    #plt.plot(Y[neg],vx_xl[neg],'m.')\n",
    "    #plt.plot(Y[neg],vx_zldx[neg]/100,'k.')\n",
    "    \n",
    "    plt.plot(Y,vx_xl,'k')\n",
    "    plt.plot(Y,vz_zldx,'b--')\n",
    "    plt.plot(Y,vlgrx,'g')\n",
    "    plt.grid()\n",
    "    \n",
    "    plt.xlim((0,1))\n",
    "    \n",
    "    plt.show()"
   ]
  },
  {
   "cell_type": "code",
   "execution_count": null,
   "metadata": {
    "collapsed": true
   },
   "outputs": [],
   "source": []
  }
 ],
 "metadata": {
  "kernelspec": {
   "display_name": "Python 3",
   "language": "python",
   "name": "python3"
  },
  "language_info": {
   "codemirror_mode": {
    "name": "ipython",
    "version": 3
   },
   "file_extension": ".py",
   "mimetype": "text/x-python",
   "name": "python",
   "nbconvert_exporter": "python",
   "pygments_lexer": "ipython3",
   "version": "3.5.2"
  }
 },
 "nbformat": 4,
 "nbformat_minor": 0
}
