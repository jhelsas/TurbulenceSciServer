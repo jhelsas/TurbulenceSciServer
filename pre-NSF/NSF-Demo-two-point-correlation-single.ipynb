{
 "cells": [
  {
   "cell_type": "markdown",
   "metadata": {},
   "source": [
    "This notebook is to exemplify the obtention one of power law of a single treshold of the 2-point correlation function of enstrophy excursion sets. The objective is to provide an interactive enviroment to test different thresholds and provide a feel of what is the behavior of the system. "
   ]
  },
  {
   "cell_type": "code",
   "execution_count": 1,
   "metadata": {
    "collapsed": true
   },
   "outputs": [],
   "source": [
    "#!ipcluster start -n 8 --engines=MPI --profile='mpi' # for parallel run: start the engines using terminal\n",
    "from ipyparallel import Client\n",
    "rc = Client(profile='mpi')"
   ]
  },
  {
   "cell_type": "markdown",
   "metadata": {},
   "source": [
    "Following suit, it is necessary to import the libraries that are necessary to the work to be executed. These include  numpy for the generay array manipulations, pyFFTW to the Fourier Transforms, mpi4py for MPI support, general math, sys and os libraries and pyJHTDB, that provides a python wraper for the C-SOAP interface of the Johs Hopkins Turbulence Databases. We also import some modules that provide basic 3D FFT and histograming functionality build upon numpy and pyFFTW, as a way to streamline the overall process. Those modules, which include FFT3Dfield, IFFT3Dfield and EnergySpectrum, were originaly developed by Dr. Kun Yang."
   ]
  },
  {
   "cell_type": "code",
   "execution_count": 2,
   "metadata": {
    "collapsed": false
   },
   "outputs": [],
   "source": [
    "%%px\n",
    "# Import the libraries\n",
    "\n",
    "import os\n",
    "import sys\n",
    "import math\n",
    "import numpy as np\n",
    "import pyfftw as ft \n",
    "from mpi4py import MPI\n",
    "import matplotlib\n",
    "import matplotlib.pyplot as plt\n",
    "import pyJHTDB\n",
    "from pyJHTDB.dbinfo import isotropic1024coarse\n",
    "from pyJHTDB import libJHTDB\n",
    "\n",
    "from fft3d import FFT3Dfield_new\n",
    "from EnergySpectrum import EnergySpectrum"
   ]
  },
  {
   "cell_type": "markdown",
   "metadata": {},
   "source": [
    "We first initialize general domain constants, based on the isotropic1024coarse dictionary, which provide information on the isotropic turbulence database. We then initialize MPI variables, including the communicator, rank and number of process. The typical number of processes is 8, both because it doesn't, usually, overloads the sciserver hardware, but also it is the optimal number of processes to query the database. Afterwards, it is necessary to initalize the variables that designate the domain associated with each MPI process. Due to the way that the FFT3D modules were build, we chose to divide the domain in slabs split in the X direction. Also, constants related to wavenumber and chunck size downloads are initialized."
   ]
  },
  {
   "cell_type": "code",
   "execution_count": 3,
   "metadata": {
    "collapsed": false
   },
   "outputs": [
    {
     "name": "stdout",
     "output_type": "stream",
     "text": [
      "[stdout:5] \n",
      "n_proc = 8\n",
      "rank = 0\n"
     ]
    }
   ],
   "source": [
    "%%px\n",
    "\n",
    "Nx = isotropic1024coarse['nx']; Ny = isotropic1024coarse['ny']; Nz = isotropic1024coarse['nz']\n",
    "Lx = isotropic1024coarse['lx']; Ly = isotropic1024coarse['ly']; Lz = isotropic1024coarse['lz']\n",
    "\n",
    "comm = MPI.COMM_WORLD\n",
    "rank = comm.Get_rank()\n",
    "nproc = comm.Get_size()\n",
    "if(rank==0):\n",
    "    print(\"n_proc = \"+str(nproc))\n",
    "    print(\"rank = \"+str(rank))\n",
    "\n",
    "# Computational Domain\n",
    "\n",
    "nx=Nx//nproc; ny=Ny; nz=Nz\n",
    "nz_half=nz//2\n",
    "nek=int(math.sqrt(2.0)/3*Nx)\n",
    "time = 0.0\n",
    "\n",
    "chkSz = 32\n",
    "slabs = nx//chkSz"
   ]
  },
  {
   "cell_type": "markdown",
   "metadata": {},
   "source": [
    "Instead of downloading the velocity field from the website, we just load the cached value of enstrophy pre-computed from a previous notebook. On vm01 it takes between 60 to 90 seconds to load from disk."
   ]
  },
  {
   "cell_type": "code",
   "execution_count": 4,
   "metadata": {
    "collapsed": false
   },
   "outputs": [
    {
     "name": "stdout",
     "output_type": "stream",
     "text": [
      "[stdout:5] \n",
      "Finished loading\n",
      "Load from disk: 18.93 seconds\n"
     ]
    }
   ],
   "source": [
    "%%px\n",
    "\n",
    "cacheEnstrophyData = False\n",
    "loadEnstrophyFromCache = True\n",
    "\n",
    "folder = \"/home/idies/workspace/scratch\"\n",
    "filename = \"ref-enstrophy-\"+str(rank)+\".npz\"\n",
    "\n",
    "file = folder + \"/\" + filename\n",
    "\n",
    "if(loadEnstrophyFromCache):\n",
    "    comm.Barrier(); t1=MPI.Wtime()\n",
    "    content = np.load(file)\n",
    "    \n",
    "    w2 = ft.zeros_aligned((nx,ny,nz), dtype='float32')\n",
    "    \n",
    "    if(int(content['nproc'])!=nproc):\n",
    "        print(\"Unmatched number of processes. Must first pre-process to adequate number of process\")\n",
    "    w2[:,:,:] = content['w2']\n",
    "    \n",
    "    comm.Barrier(); t2=MPI.Wtime()\n",
    "    if(rank==0):\n",
    "        print(\"Finished loading\")\n",
    "        sys.stdout.write('Load from disk: {0:.2f} seconds\\n'.format(t2-t1))\n",
    "\n",
    "if(cacheEnstrophyData):\n",
    "    \n",
    "    comm.Barrier(); t1=MPI.Wtime()\n",
    "    np.savez(file,w2=w2,nproc=nproc)\n",
    "    comm.Barrier(); t2=MPI.Wtime()\n",
    "    if(rank==0):\n",
    "        sys.stdout.write('Caching the data: {0:.2f} seconds\\n'.format(t2-t1))"
   ]
  },
  {
   "cell_type": "markdown",
   "metadata": {},
   "source": [
    "We compute the global average of enstrophy. And also we compute minimum and maximum values of enstrophy, for reference."
   ]
  },
  {
   "cell_type": "code",
   "execution_count": 5,
   "metadata": {
    "collapsed": false
   },
   "outputs": [
    {
     "name": "stdout",
     "output_type": "stream",
     "text": [
      "[stdout:5] \n",
      "<w^2> : 498.43548584\n",
      "min w2/<w^2> : 1.43020472082e-07\n",
      "min w2/<w^2> : 675.170126447\n"
     ]
    }
   ],
   "source": [
    "%%px\n",
    "\n",
    "avgOmega = np.average(w2)\n",
    "avgOmegaGl=np.zeros(1,dtype='float32')\n",
    "\n",
    "comm.Reduce([avgOmega,MPI.REAL],[avgOmegaGl,MPI.REAL],op=MPI.SUM)\n",
    "avgOmega = avgOmegaGl[0]/nproc\n",
    "avgOmega = comm.bcast(avgOmega, root=0)\n",
    "\n",
    "##########################\n",
    "\n",
    "minw2 = w2.min()\n",
    "maxw2 = w2.max()\n",
    "\n",
    "minwGl=np.zeros(nproc,dtype='float32')\n",
    "maxwGl=np.zeros(nproc,dtype='float32')\n",
    "\n",
    "comm.Allgather([minw2,MPI.REAL],[minwGl,MPI.REAL])\n",
    "comm.Allgather([maxw2,MPI.REAL],[maxwGl,MPI.REAL])\n",
    "\n",
    "minw2 = minwGl.min()\n",
    "maxw2 = maxwGl.max()\n",
    "\n",
    "comm.Barrier()\n",
    "\n",
    "if rank==0:\n",
    "    print(\"<w^2> : \"+str(avgOmega))\n",
    "    print(\"min w2/<w^2> : \"+str(minw2/avgOmega))\n",
    "    print(\"min w2/<w^2> : \"+str(maxw2/avgOmega))"
   ]
  },
  {
   "cell_type": "markdown",
   "metadata": {},
   "source": [
    "Here we need to alocate all arrays we need to do the calculations of the 2-point correlation function. Since there are many arrays to be alocated at the same time, it takes a fair amount of time. On vm01, it takes around 160 to 190 seconds. On vm04, it is taking 26 seconds."
   ]
  },
  {
   "cell_type": "code",
   "execution_count": 6,
   "metadata": {
    "collapsed": false
   },
   "outputs": [
    {
     "name": "stdout",
     "output_type": "stream",
     "text": [
      "[stdout:5] Alocating vectors: 55.01 seconds\n"
     ]
    }
   ],
   "source": [
    "%%px\n",
    "\n",
    "dx = isotropic1024coarse['dx']\n",
    "ner = int(1024*np.sqrt(3))\n",
    "rbins = np.linspace(-0.5*dx,2*np.pi*np.sqrt(3)+0.5*dx,ner+1)\n",
    "\n",
    "comm.Barrier(); t1=MPI.Wtime()\n",
    "\n",
    "fft = FFT3Dfield_new(nx,ny,nz,nproc,rank)\n",
    "\n",
    "X = np.zeros((nx,ny,nz), dtype='float32')\n",
    "Y = np.zeros((nx,ny,nz), dtype='float32')\n",
    "Z = np.zeros((nx,ny,nz), dtype='float32')\n",
    "\n",
    "r2 = np.zeros((nx,ny,nz), dtype='float32')\n",
    "\n",
    "chi = ft.zeros_aligned((nx,ny,nz), dtype='float32')\n",
    "cchi = ft.zeros_aligned((nx,ny,1+(nz//2)), dtype='complex64')\n",
    "corr = ft.zeros_aligned((nx,ny,nz),dtype='float32')\n",
    "iCorr = np.zeros((nx,ny,nz), dtype='float32')\n",
    "\n",
    "corrSum=np.zeros(ner,dtype='float32')\n",
    "corrF=np.zeros(ner,dtype='float32')  \n",
    "\n",
    "r2Sum=np.zeros(ner,dtype='float32')\n",
    "r2F=np.zeros(ner,dtype='float32') \n",
    "\n",
    "comm.Barrier(); t2=MPI.Wtime()\n",
    "if(rank==0):\n",
    "    sys.stdout.write('Alocating vectors: {0:.2f} seconds\\n'.format(t2-t1))"
   ]
  },
  {
   "cell_type": "markdown",
   "metadata": {},
   "source": [
    "To properly arrange the real space radius to do the spherical integration, we need to assign the distance from the first coordinate, so we compute X, Y and Z arrays, with the respective coordinates, and from there we compute the distance squared to the origin. This is so because the relevant information is contained in the first octant, so all we need is to integrate spherically the first octant. This section takes a fair share of time, around 200-220 seconds. On vm04, this is taking around 23 seconds. "
   ]
  },
  {
   "cell_type": "code",
   "execution_count": 7,
   "metadata": {
    "collapsed": false
   },
   "outputs": [
    {
     "name": "stdout",
     "output_type": "stream",
     "text": [
      "[stdout:5] Preparing the real domain for radial integration: 49.17 seconds\n"
     ]
    }
   ],
   "source": [
    "%%px\n",
    "\n",
    "comm.Barrier(); t1=MPI.Wtime()\n",
    "for i in range(nx):\n",
    "    if (i+rank*nx < Nx//2):\n",
    "        X[i,:,:] = (i+rank*nx)*isotropic1024coarse['dx']\n",
    "    else:\n",
    "        X[i,:,:] = Lx-(i+rank*nx)*isotropic1024coarse['dx']\n",
    "\n",
    "for j in range(ny):\n",
    "    if (j < Ny//2):\n",
    "        Y[:,j,:] = j*isotropic1024coarse['dy']\n",
    "    else:\n",
    "        Y[:,j,:] = Ly-j*isotropic1024coarse['dy']\n",
    "    \n",
    "for k in range(nz):\n",
    "    if (k < Nz//2):\n",
    "        Z[:,:,k] = k*isotropic1024coarse['dz']\n",
    "    else:\n",
    "        Z[:,:,k] = Lz-k*isotropic1024coarse['dz']\n",
    "    \n",
    "r2[:,:,:] = X[:,:,:]**2+Y[:,:,:]**2+Z[:,:,:]**2\n",
    "\n",
    "r2rt = np.sqrt(r2)\n",
    "comm.Barrier(); t2=MPI.Wtime()\n",
    "if(rank==0):\n",
    "    sys.stdout.write('Preparing the real domain for radial integration: {0:.2f} seconds\\n'.format(t2-t1))"
   ]
  },
  {
   "cell_type": "markdown",
   "metadata": {},
   "source": [
    "The computation of the full radial 2-point correlation function is done here, including the fourier transform and radial integration. The full computation takes around 80 seconds, on VM04. The breakdown time measured is:\n",
    "\n",
    "Creating the excursion set: 1.18 seconds\n",
    "\n",
    "Computing the 2-point correlation function: 48.87 seconds\n",
    "\n",
    "Cleaning all but the 1st octant: 2.15 seconds\n",
    "\n",
    "Integrating radially on each slab: 29.60 seconds\n",
    "\n",
    "Adding the results form different slabs: 0.00 seconds\n",
    "\n",
    "Full radial 2-point correlation calculation: 81.80 seconds"
   ]
  },
  {
   "cell_type": "code",
   "execution_count": 12,
   "metadata": {
    "collapsed": false
   },
   "outputs": [
    {
     "name": "stdout",
     "output_type": "stream",
     "text": [
      "[stdout:5] \n",
      "threshold used: 1.00 \n",
      "Creating the excursion set: 13.31 seconds\n",
      "Computing the 2-point correlation function: 82.96 seconds\n",
      "Cleaning all but the 1st octant: 0.01 seconds\n",
      "Integrating radially on each slab: 32.42 seconds\n",
      "Adding the results form different slabs: 0.08 seconds\n",
      "Full radial 2-point correlation calculation: 128.77 seconds\n",
      "\n"
     ]
    }
   ],
   "source": [
    "%%px \n",
    "\n",
    "t = 1\n",
    "c = 'r'\n",
    "\n",
    "hist = []\n",
    "r2st = []\n",
    "    \n",
    "#######################################\n",
    "\n",
    "comm.Barrier(); t1=MPI.Wtime()\n",
    "\n",
    "chi[:,:,:] = 0\n",
    "chi[(w2 > t*avgOmega)&(w2 < (t+1)*avgOmega)] = 1\n",
    "\n",
    "#######################################\n",
    "\n",
    "comm.Barrier(); t2=MPI.Wtime()\n",
    "cchi[:,:,:] = fft.forward3Dfft(chi,nx,ny,nz,nproc,rank)\n",
    "    \n",
    "tmp = cchi*(cchi.conj())\n",
    "corr[:,:,:] = fft.backward3Dfft(tmp,nx,ny,nz,nproc,rank)\n",
    "    \n",
    "#######################################\n",
    "    \n",
    "comm.Barrier(); t3=MPI.Wtime()\n",
    "        \n",
    "#######################################\n",
    "    \n",
    "comm.Barrier(); t4=MPI.Wtime()\n",
    "    \n",
    "corrLoc,redges = np.histogram(r2rt,range=(0.5*dx,(ner+0.5)*dx),bins = rbins,weights=corr)\n",
    "    \n",
    "r2Loc,r2edges = np.histogram(r2rt,range=(0.5*dx,(ner+0.5)*dx),bins = rbins)\n",
    "       \n",
    "#######################################\n",
    "    \n",
    "comm.Barrier(); t5=MPI.Wtime()\n",
    "    \n",
    "corrLoc=np.float32(corrLoc)\n",
    "comm.Reduce([corrLoc,MPI.REAL],[corrSum,MPI.REAL],op=MPI.SUM)\n",
    "np.copyto(corrF,corrSum)\n",
    "    \n",
    "corrApend=np.zeros(ner,dtype='float32') \n",
    "corrApend[:] = corrF[:]\n",
    "    \n",
    "#########################\n",
    "    \n",
    "r2Loc=np.float32(r2Loc)\n",
    "comm.Reduce([r2Loc,MPI.REAL],[r2Sum,MPI.REAL],op=MPI.SUM)\n",
    "np.copyto(r2F,r2Sum)\n",
    "    \n",
    "r2Apend=np.zeros(ner,dtype='float32') \n",
    "r2Apend[:] = r2F[:]\n",
    "    \n",
    "if rank==0:\n",
    "    hist.append(corrApend[:])\n",
    "    r2st.append(r2Apend[:])\n",
    "    \n",
    "#######################################\n",
    "    \n",
    "comm.Barrier(); t6=MPI.Wtime()\n",
    "    \n",
    "if rank==0:\n",
    "    sys.stdout.write('threshold used: {0:.2f} \\n'.format(t))\n",
    "    sys.stdout.write('Creating the excursion set: {0:.2f} seconds\\n'.format(t2-t1))\n",
    "    sys.stdout.write('Computing the 2-point correlation function: {0:.2f} seconds\\n'.format(t3-t2))\n",
    "    sys.stdout.write('Cleaning all but the 1st octant: {0:.2f} seconds\\n'.format(t4-t3))\n",
    "    sys.stdout.write('Integrating radially on each slab: {0:.2f} seconds\\n'.format(t5-t4))\n",
    "    sys.stdout.write('Adding the results form different slabs: {0:.2f} seconds\\n'.format(t6-t5))\n",
    "    sys.stdout.write('Full radial 2-point correlation calculation: {0:.2f} seconds\\n'.format(t6-t1))\n",
    "    sys.stdout.write('\\n')"
   ]
  },
  {
   "cell_type": "markdown",
   "metadata": {},
   "source": [
    "Finally, plotting the results:"
   ]
  },
  {
   "cell_type": "code",
   "execution_count": 15,
   "metadata": {
    "collapsed": false
   },
   "outputs": [
    {
     "name": "stdout",
     "output_type": "stream",
     "text": [
      "[stdout:5] t = 1*sigma_2: Linear fit [alpha A] = [-0.05482918 -2.11826067]\n"
     ]
    },
    {
     "data": {
      "text/plain": [
       "[output:5]"
      ]
     },
     "metadata": {},
     "output_type": "display_data"
    },
    {
     "data": {
      "image/png": "[encoded data removed]",
      "text/plain": [
       "<matplotlib.figure.Figure at 0x7f7344051470>"
      ]
     },
     "metadata": {
      "engine": 5
     },
     "output_type": "display_data"
    }
   ],
   "source": [
    "%%px\n",
    "%matplotlib inline\n",
    "\n",
    "eta = 0.00280\n",
    "\n",
    "if(rank==0):\n",
    "    matplotlib.rc('xtick', labelsize=20) \n",
    "    matplotlib.rc('ytick', labelsize=20) \n",
    "    \n",
    "    idx = r2st[0]>0\n",
    "    \n",
    "    rp=np.linspace(1*dx,ner*dx,ner)\n",
    "    \n",
    "    lrp = rp[idx]\n",
    "    \n",
    "    tempRp = lrp[(lrp>0.1)&(lrp<1.0)]\n",
    "    plt.figure(figsize=(12,12))\n",
    "    plt.xlabel(r'$r/\\eta$', fontsize=20)\n",
    "    plt.ylabel(r'$\\frac{C(r)}{C(0)} = \\frac{1}{C(0)} \\int_{S^2} \\langle \\chi({\\bf x}) \\chi({\\bf x}+{\\bf r}) \\rangle d\\Omega$', fontsize=20)\n",
    "    plt.xlim([7*10**(-3)/eta,np.pi/eta])\n",
    "    plt.ylim([10**(-1),10**0])   \n",
    "    \n",
    "    corrF1 = hist[0][idx]/r2st[0][idx]\n",
    "    tempCorrF = corrF1[(lrp>0.1)&(lrp<1.0)]\n",
    "        \n",
    "    ctmp = (corrF1[300])/(corrF1[0])\n",
    "        \n",
    "    fit = np.polyfit(np.log(tempRp),np.log(tempCorrF/corrF1[0]),1)\n",
    "    print(\"t = \"+str(t)+\"*sigma_2: Linear fit [alpha A] = \"+str(fit))\n",
    "        \n",
    "    plt.loglog(lrp/eta,(corrF1)/(corrF1[0]),c,label=r'$\\omega^2 > '+str(t)\n",
    "                                               +r'\\langle \\omega^2\\rangle$ : $\\alpha ='\n",
    "                                               +str(fit[0])+r'$')\n",
    "        \n",
    "    plt.loglog(lrp/eta,np.exp(fit[1])*(lrp**(fit[0])),'k--')\n",
    "    \n",
    "    ticks = [3.5,5,7.5,10,15,20,25,30,35,42.5,50,60,75,100,125,150,175,215,250,300,350,425,500,600,750,875,1024]\n",
    "    labels = [str(s) for s in ticks]\n",
    "    plt.xticks(ticks,labels,rotation='vertical')\n",
    "    plt.grid()\n",
    "        \n",
    "    plt.legend(loc='lower left',prop={'size':16})"
   ]
  },
  {
   "cell_type": "code",
   "execution_count": 14,
   "metadata": {
    "collapsed": false
   },
   "outputs": [
    {
     "name": "stdout",
     "output_type": "stream",
     "text": [
      "[stdout:5] t = 1*sigma_2: Linear fit [alpha A] = [-0.05482918 -2.11826067]\n"
     ]
    },
    {
     "data": {
      "text/plain": [
       "[output:5]"
      ]
     },
     "metadata": {},
     "output_type": "display_data"
    },
    {
     "data": {
      "image/png": "[encoded data removed]",
      "text/plain": [
       "<matplotlib.figure.Figure at 0x7f732b9f0dd8>"
      ]
     },
     "metadata": {
      "engine": 5
     },
     "output_type": "display_data"
    }
   ],
   "source": [
    "%%px\n",
    "%matplotlib inline\n",
    "\n",
    "eta = 0.00280\n",
    "\n",
    "if(rank==0):\n",
    "    matplotlib.rc('xtick', labelsize=20) \n",
    "    matplotlib.rc('ytick', labelsize=20) \n",
    "    \n",
    "    idx = r2st[0]>0\n",
    "    \n",
    "    rp=np.linspace(1*dx,ner*dx,ner)\n",
    "    \n",
    "    lrp = rp[idx]\n",
    "    \n",
    "    tempRp = lrp[(lrp>0.1)&(lrp<1.0)]\n",
    "    plt.figure(figsize=(12,12))\n",
    "    plt.xlabel(r'$r$', fontsize=20)\n",
    "    plt.ylabel(r'$\\frac{C(r)}{C(0)} = \\frac{1}{C(0)} \\int_{S^2} \\langle \\chi({\\bf x}) \\chi({\\bf x}+{\\bf r}) \\rangle d\\Omega$', fontsize=20)\n",
    "    plt.xlim([7*10**(-3),np.pi])\n",
    "    #plt.ylim([10**(-2),2*10**0])\n",
    "    \n",
    "    corrF1 = hist[0][idx]/r2st[0][idx]\n",
    "    tempCorrF = corrF1[(lrp>0.1)&(lrp<1.0)]\n",
    "        \n",
    "    ctmp = (corrF1[300])/(corrF1[0])\n",
    "        \n",
    "    fit = np.polyfit(np.log(tempRp),np.log(tempCorrF/corrF1[0]),1)\n",
    "    print(\"t = \"+str(t)+\"*sigma_2: Linear fit [alpha A] = \"+str(fit))\n",
    "        \n",
    "    plt.loglog(lrp,(corrF1)/(corrF1[0]),c,label=r'$\\omega^2 > '+str(t)\n",
    "                                             +r'\\langle \\omega^2\\rangle$ : $\\alpha ='\n",
    "                                             +str(fit[0])+r'$')\n",
    "        \n",
    "    plt.loglog(lrp,np.exp(fit[1])*(lrp**(fit[0])),'k--')\n",
    "    \n",
    "    plt.grid()\n",
    "        \n",
    "    plt.legend(loc='lower left',prop={'size':16})"
   ]
  },
  {
   "cell_type": "code",
   "execution_count": null,
   "metadata": {
    "collapsed": true
   },
   "outputs": [],
   "source": []
  }
 ],
 "metadata": {
  "kernelspec": {
   "display_name": "Python 3",
   "language": "python",
   "name": "python3"
  },
  "language_info": {
   "codemirror_mode": {
    "name": "ipython",
    "version": 3
   },
   "file_extension": ".py",
   "mimetype": "text/x-python",
   "name": "python",
   "nbconvert_exporter": "python",
   "pygments_lexer": "ipython3",
   "version": "3.5.2"
  }
 },
 "nbformat": 4,
 "nbformat_minor": 0
}
