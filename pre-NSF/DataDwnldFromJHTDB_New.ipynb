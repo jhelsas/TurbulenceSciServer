{
 "cells": [
  {
   "cell_type": "code",
   "execution_count": 1,
   "metadata": {
    "collapsed": false
   },
   "outputs": [],
   "source": [
    "import pyfftw as ft\n",
    "import numpy as np\n",
    "from pyJHTDB import libJHTDB\n",
    "import sys\n",
    "import os \n",
    "import time\n",
    "import math"
   ]
  },
  {
   "cell_type": "markdown",
   "metadata": {},
   "source": [
    "#### Helper functions to Download data from JHTDB and to save them on the virtual machine (VM) in Scratch folder"
   ]
  },
  {
   "cell_type": "code",
   "execution_count": 2,
   "metadata": {
    "collapsed": true
   },
   "outputs": [],
   "source": [
    "def DownldData4Velocity(dataset_name,time,nx,ny,nz,auth_token):\n",
    "    chkSz=32 #This is the maximum possible. May be increased in future depending on network bandwidth\n",
    "    slabs=nx//chkSz\n",
    "    lJHTDB=libJHTDB(auth_token)\n",
    "    lJHTDB.initialize()#NOTE: datbase returns Velcocity as [nz,ny,nx,3]\n",
    "    for k in range(slabs):\n",
    "        start=np.array([k*chkSz,0,0],dtype=np.int)\n",
    "        width=np.array([chkSz,ny,nz],dtype=np.int)\n",
    "        uAll=lJHTDB.getRawData(time,start,width,data_set=dataset_name,getFunction='Velocity')\n",
    "        if(k==0):\n",
    "            vx=uAll[:,:,:,0]\n",
    "            vy=uAll[:,:,:,1]\n",
    "            vz=uAll[:,:,:,2]\n",
    "        else:\n",
    "            vx=np.concatenate((vx,uAll[:,:,:,0]),axis=2) #axis=2=> the index of nx\n",
    "            vy=np.concatenate((vy,uAll[:,:,:,1]),axis=2)\n",
    "            vz=np.concatenate((vz,uAll[:,:,:,2]),axis=2)\n",
    "    lJHTDB.finalize()\n",
    "    u=ft.zeros_aligned((nx,ny,nz),dtype='float32')\n",
    "    v=ft.zeros_aligned((nx,ny,nz),dtype='float32')\n",
    "    w=ft.zeros_aligned((nx,ny,nz),dtype='float32')\n",
    "    u[:,:,:]=np.transpose(vx)\n",
    "    v[:,:,:]=np.transpose(vy)\n",
    "    w[:,:,:]=np.transpose(vz)\n",
    "    return u,v,w\n",
    "\n",
    "def DownldData4Pressure(dataset_name,time,nx,ny,nz,auth_token):\n",
    "    chkSz=32 #This is the maximum possible. May be increased in future depending on network bandwidth\n",
    "    slabs=nx//chkSz\n",
    "    lJHTDB=libJHTDB(auth_token)\n",
    "    lJHTDB.initialize()#NOTE: datbase returns Velcocity as [nz,ny,nx,3]\n",
    "    for k in range(slabs):\n",
    "        start=np.array([k*chkSz,0,0],dtype=np.int)\n",
    "        width=np.array([chkSz,ny,nz],dtype=np.int)\n",
    "        data=lJHTDB.getRawData(time,start,width,data_set=dataset_name,getFunction='Pressure')\n",
    "        if(k==0):\n",
    "            pTemp=data\n",
    "        else:\n",
    "            pTemp=np.concatenate((pTemp,data),axis=2) #axis=2=> the index of nx\n",
    "    lJHTDB.finalize()\n",
    "    p=ft.zeros_aligned((nx,ny,nz),dtype='float32')\n",
    "    p[:,:,:]=np.transpose(pTemp)\n",
    "    return p\n",
    "\n",
    "def DownldData4Density(dataset_name,time,nx,ny,nz,auth_token):\n",
    "    chkSz=32 #This is the maximum possible. May be increased in future depending on network bandwidth\n",
    "    slabs=nx//chkSz\n",
    "    lJHTDB=libJHTDB(auth_token)\n",
    "    lJHTDB.initialize()#NOTE: datbase returns Velcocity as [nz,ny,nx,3]\n",
    "    for k in range(slabs):\n",
    "        start=np.array([k*chkSz,0,0],dtype=np.int)\n",
    "        width=np.array([chkSz,ny,nz],dtype=np.int)\n",
    "        data=lJHTDB.getRawData(time,start,width,data_set=dataset_name,getFunction='Density')\n",
    "        if(k==0):\n",
    "            dTemp=data\n",
    "        else:\n",
    "            dTemp=np.concatenate((dTemp,data),axis=2) #axis=2=> the index of nx\n",
    "    lJHTDB.finalize()\n",
    "    rho=ft.zeros_aligned((nx,ny,nz),dtype='float32')\n",
    "    rho[:,:,:]=np.transpose(dTemp)\n",
    "    return rho\n",
    "\n",
    "def SaveVelDataOnVM(dirName,fileName,vx,vy,vz):\n",
    "    outfile=dirName+fileName\n",
    "    np.savez(outfile,vx=vx,vy=vy,vz=vz)\n",
    "    return\n",
    "\n",
    "def SavePressOnVM(dirName,fileName,p):\n",
    "    outfile=dirName+fileName\n",
    "    np.savez(outfile,p=p)\n",
    "    return\n",
    "\n",
    "def SaveDenOnVM(dirName,fileName,rho):\n",
    "    outfile=dirName+fileName\n",
    "    np.savez(outfile,rho=rho)\n",
    "    return\n",
    "\n",
    "# It loads velocity from the Scratch folder\n",
    "def LoadVelDataFromVM(dirName,fileName,nx,ny,nz):\n",
    "    outfile=dirName+fileName+'.npz'\n",
    "    myfiles=np.load(outfile)\n",
    "    vx=myfiles['vx']\n",
    "    vy=myfiles['vy']\n",
    "    vz=myfiles['vz']\n",
    "    return vx,vy,vz\n",
    "\n",
    "# It loads density from the Scratch folder\n",
    "def LoadDenDataFromVM(dirName,fileName,nx,ny,nz):\n",
    "    outfile=dirName+fileName+'.npz'\n",
    "    myfiles=np.load(outfile)\n",
    "    rho=myfiles['rho']\n",
    "    return rho\n",
    "\n",
    "# It loads Pressure from the Scratch folder\n",
    "def LoadPresDataFromVM(dirName,fileName,nx,ny,nz):\n",
    "    outfile=dirName+fileName+'.npz'\n",
    "    myfiles=np.load(outfile)\n",
    "    p=myfiles['p']\n",
    "    return p"
   ]
  },
  {
   "cell_type": "markdown",
   "metadata": {},
   "source": [
    "#### Downloads data from the Johns Hopkin Turbulence Database [replace authorization token with the one you have been provided]"
   ]
  },
  {
   "cell_type": "code",
   "execution_count": 3,
   "metadata": {
    "collapsed": true
   },
   "outputs": [],
   "source": [
    "# Use your own authorization token. Please visit \"http://turbulence.pha.jhu.edu/help/authtoken.aspx\" if you don't have one.\n",
    "# edu.jhu.pha.turbulence.testing-201311\n",
    "auth_token='edu.jhu.pha.turbulence.testing-201311'\n",
    "dataset_name='mixing' # dataset_name='isotropic1024coarse'\n",
    "t=11.4 # Snapshot time\n",
    "N=1024 # Number of grids\n",
    "nx=N\n",
    "ny=N\n",
    "nz=N"
   ]
  },
  {
   "cell_type": "markdown",
   "metadata": {},
   "source": [
    "#### Saves the data on VM at \"../mixing\": Make sure that folder 'mixing' is present under the \"scratch\" directory."
   ]
  },
  {
   "cell_type": "code",
   "execution_count": 4,
   "metadata": {
    "collapsed": false
   },
   "outputs": [
    {
     "name": "stdout",
     "output_type": "stream",
     "text": [
      "Done!! Cost= 1176.19 seconds\n"
     ]
    }
   ],
   "source": [
    "t1=time.time()\n",
    "rho=DownldData4Density(dataset_name,t,nx,ny,nz,auth_token)\n",
    "t2=time.time()\n",
    "sys.stdout.write('Done!! Cost= %0.2f seconds\\n' %(t2-t1))"
   ]
  },
  {
   "cell_type": "code",
   "execution_count": 5,
   "metadata": {
    "collapsed": false
   },
   "outputs": [
    {
     "name": "stdout",
     "output_type": "stream",
     "text": [
      "Done!! Cost= 1305.50 seconds\n"
     ]
    }
   ],
   "source": [
    "dirName='/home/idies/workspace/scratch/mixing/'\n",
    "fileName='dendata_t11p4'\n",
    "SaveDenOnVM(dirName,fileName,rho)\n",
    "del rho # clears the memory\n",
    "t2=time.time()\n",
    "sys.stdout.write('Done!! Cost= %0.2f seconds\\n' %(t2-t1))"
   ]
  },
  {
   "cell_type": "code",
   "execution_count": 6,
   "metadata": {
    "collapsed": false
   },
   "outputs": [
    {
     "name": "stdout",
     "output_type": "stream",
     "text": [
      "Done!! Cost= 1194.42 seconds\n"
     ]
    }
   ],
   "source": [
    "t1=time.time()\n",
    "p=DownldData4Pressure(dataset_name,t,nx,ny,nz,auth_token)\n",
    "t2=time.time()\n",
    "sys.stdout.write('Done!! Cost= %0.2f seconds\\n' %(t2-t1))"
   ]
  },
  {
   "cell_type": "code",
   "execution_count": 7,
   "metadata": {
    "collapsed": false
   },
   "outputs": [
    {
     "name": "stdout",
     "output_type": "stream",
     "text": [
      "Done!! Cost= 112.19 seconds\n"
     ]
    }
   ],
   "source": [
    "dirName='/home/idies/workspace/scratch/mixing/'\n",
    "fileName='presdata_t11p4'\n",
    "t1=time.time()\n",
    "SavePressOnVM(dirName,fileName,p)\n",
    "del p # clears the memory\n",
    "t2=time.time()\n",
    "sys.stdout.write('Done!! Cost= %0.2f seconds\\n' %(t2-t1))"
   ]
  },
  {
   "cell_type": "code",
   "execution_count": 8,
   "metadata": {
    "collapsed": false
   },
   "outputs": [
    {
     "name": "stdout",
     "output_type": "stream",
     "text": [
      "Done!! Cost= 3824.47 seconds\n"
     ]
    }
   ],
   "source": [
    "t1=time.time()\n",
    "vx,vy,vz=DownldData4Velocity(dataset_name,t,nx,ny,nz,auth_token)\n",
    "t2=time.time()\n",
    "sys.stdout.write('Done!! Cost= %0.2f seconds\\n' %(t2-t1))"
   ]
  },
  {
   "cell_type": "code",
   "execution_count": 9,
   "metadata": {
    "collapsed": false
   },
   "outputs": [
    {
     "name": "stdout",
     "output_type": "stream",
     "text": [
      "Done!! Cost= 284.43 seconds\n"
     ]
    }
   ],
   "source": [
    "dirName='/home/idies/workspace/scratch/mixing/'\n",
    "fileName='veldata_t11p4'\n",
    "t1=time.time()\n",
    "SaveVelDataOnVM(dirName,fileName,vx,vy,vz)\n",
    "del vx,vy,vz # clears the memory\n",
    "t2=time.time()\n",
    "sys.stdout.write('Done!! Cost= %0.2f seconds\\n' %(t2-t1))"
   ]
  }
 ],
 "metadata": {
  "kernelspec": {
   "display_name": "Python 3",
   "language": "python",
   "name": "python3"
  },
  "language_info": {
   "codemirror_mode": {
    "name": "ipython",
    "version": 3
   },
   "file_extension": ".py",
   "mimetype": "text/x-python",
   "name": "python",
   "nbconvert_exporter": "python",
   "pygments_lexer": "ipython3",
   "version": "3.5.2"
  }
 },
 "nbformat": 4,
 "nbformat_minor": 0
}
