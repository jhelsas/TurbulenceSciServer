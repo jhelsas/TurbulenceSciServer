{
 "cells": [
  {
   "cell_type": "markdown",
   "metadata": {},
   "source": [
    "This notebook is to exemplify the obtention one of power law of a single treshold of the 2-point correlation function of enstrophy excursion sets. The objective is to provide an interactive enviroment to test different thresholds and provide a feel of what is the behavior of the system. "
   ]
  },
  {
   "cell_type": "code",
   "execution_count": 1,
   "metadata": {
    "collapsed": false
   },
   "outputs": [],
   "source": [
    "#!ipcluster start -n 8 --engines=MPI --profile='mpi' # for parallel run: start the engines using terminal\n",
    "from ipyparallel import Client\n",
    "rc = Client(profile='mpi')"
   ]
  },
  {
   "cell_type": "markdown",
   "metadata": {},
   "source": [
    "Following suit, it is necessary to import the libraries that are necessary to the work to be executed. These include  numpy for the generay array manipulations, pyFFTW to the Fourier Transforms, mpi4py for MPI support, general math, sys and os libraries and pyJHTDB, that provides a python wraper for the C-SOAP interface of the Johs Hopkins Turbulence Databases. We also import some modules that provide basic 3D FFT and histograming functionality build upon numpy and pyFFTW, as a way to streamline the overall process. Those modules, which include FFT3Dfield, IFFT3Dfield and EnergySpectrum, were originaly developed by Dr. Kun Yang."
   ]
  },
  {
   "cell_type": "code",
   "execution_count": 2,
   "metadata": {
    "collapsed": false
   },
   "outputs": [],
   "source": [
    "%%px\n",
    "# Import the libraries\n",
    "\n",
    "import os\n",
    "import sys\n",
    "import math\n",
    "import numpy as np\n",
    "import pyfftw as ft \n",
    "from mpi4py import MPI\n",
    "import matplotlib\n",
    "import matplotlib.pyplot as plt\n",
    "import pyJHTDB\n",
    "from pyJHTDB.dbinfo import isotropic1024coarse\n",
    "from pyJHTDB import libJHTDB\n",
    "\n",
    "from fft3d import FFT3Dfield_new\n",
    "from EnergySpectrum import EnergySpectrum"
   ]
  },
  {
   "cell_type": "markdown",
   "metadata": {},
   "source": [
    "We first initialize general domain constants, based on the isotropic1024coarse dictionary, which provide information on the isotropic turbulence database. We then initialize MPI variables, including the communicator, rank and number of process. The typical number of processes is 8, both because it doesn't, usually, overloads the sciserver hardware, but also it is the optimal number of processes to query the database. Afterwards, it is necessary to initalize the variables that designate the domain associated with each MPI process. Due to the way that the FFT3D modules were build, we chose to divide the domain in slabs split in the X direction. Also, constants related to wavenumber and chunck size downloads are initialized."
   ]
  },
  {
   "cell_type": "code",
   "execution_count": 3,
   "metadata": {
    "collapsed": false
   },
   "outputs": [
    {
     "name": "stdout",
     "output_type": "stream",
     "text": [
      "[stdout:5] \n",
      "n_proc = 8\n",
      "rank = 0\n"
     ]
    }
   ],
   "source": [
    "%%px\n",
    "\n",
    "Nx = isotropic1024coarse['nx']; Ny = isotropic1024coarse['ny']; Nz = isotropic1024coarse['nz']\n",
    "Lx = isotropic1024coarse['lx']; Ly = isotropic1024coarse['ly']; Lz = isotropic1024coarse['lz']\n",
    "\n",
    "comm = MPI.COMM_WORLD\n",
    "rank = comm.Get_rank()\n",
    "nproc = comm.Get_size()\n",
    "if(rank==0):\n",
    "    print(\"n_proc = \"+str(nproc))\n",
    "    print(\"rank = \"+str(rank))\n",
    "\n",
    "# Computational Domain\n",
    "\n",
    "nx=Nx//nproc; ny=Ny; nz=Nz\n",
    "nz_half=nz//2\n",
    "nek=int(math.sqrt(2.0)/3*Nx)\n",
    "time = 0.0\n",
    "\n",
    "chkSz = 32\n",
    "slabs = nx//chkSz"
   ]
  },
  {
   "cell_type": "markdown",
   "metadata": {},
   "source": [
    "Instead of downloading the velocity field from the website, we just load the cached value of enstrophy pre-computed from a previous notebook. On vm01 it takes between 60 to 90 seconds to load from disk. On vm04 is taking less than 6 seconds to load. "
   ]
  },
  {
   "cell_type": "code",
   "execution_count": 4,
   "metadata": {
    "collapsed": false
   },
   "outputs": [
    {
     "name": "stdout",
     "output_type": "stream",
     "text": [
      "[stdout:5] \n",
      "Finished loading\n",
      "Load from disk: 4.37 seconds\n"
     ]
    }
   ],
   "source": [
    "%%px\n",
    "\n",
    "cacheEnstrophyData = False\n",
    "loadEnstrophyFromCache = True\n",
    "\n",
    "folder = \"/home/idies/workspace/scratch\"\n",
    "filename = \"ref-enstrophy-\"+str(rank)+\".npz\"\n",
    "file = folder + \"/\" + filename\n",
    "\n",
    "if(loadEnstrophyFromCache):\n",
    "    comm.Barrier(); t1=MPI.Wtime()\n",
    "    content = np.load(file)\n",
    "    \n",
    "    w2 = ft.zeros_aligned((nx,ny,nz), dtype='float32')\n",
    "    \n",
    "    if(int(content['nproc'])!=nproc):\n",
    "        print(\"Unmatched number of processes. Must first pre-process to adequate number of process\")\n",
    "    w2[:,:,:] = content['w2']\n",
    "    \n",
    "    comm.Barrier(); t2=MPI.Wtime()\n",
    "    if(rank==0):\n",
    "        print(\"Finished loading\")\n",
    "        sys.stdout.write('Load from disk: {0:.2f} seconds\\n'.format(t2-t1))\n",
    "\n",
    "if(cacheEnstrophyData):\n",
    "    \n",
    "    comm.Barrier(); t1=MPI.Wtime()\n",
    "    np.savez(file,w2=w2,nproc=nproc)\n",
    "    comm.Barrier(); t2=MPI.Wtime()\n",
    "    if(rank==0):\n",
    "        sys.stdout.write('Caching the data: {0:.2f} seconds\\n'.format(t2-t1))"
   ]
  },
  {
   "cell_type": "markdown",
   "metadata": {},
   "source": [
    "We compute the global average of enstrophy. And also we compute minimum and maximum values of enstrophy, for reference."
   ]
  },
  {
   "cell_type": "code",
   "execution_count": 5,
   "metadata": {
    "collapsed": false
   },
   "outputs": [
    {
     "name": "stdout",
     "output_type": "stream",
     "text": [
      "[stdout:5] \n",
      "<w^2> : 249.21774292\n",
      "min w2/<w^2> : 1.43020472082e-07\n",
      "min w2/<w^2> : 675.170126447\n"
     ]
    }
   ],
   "source": [
    "%%px\n",
    "\n",
    "w2 = 0.5*w2\n",
    "avgOmega = np.average(w2)\n",
    "avgOmegaGl=np.zeros(1,dtype='float32')\n",
    "\n",
    "comm.Reduce([avgOmega,MPI.REAL],[avgOmegaGl,MPI.REAL],op=MPI.SUM)\n",
    "avgOmega = avgOmegaGl[0]/nproc\n",
    "avgOmega = comm.bcast(avgOmega, root=0)\n",
    "\n",
    "##########################\n",
    "\n",
    "minw2 = w2.min()\n",
    "maxw2 = w2.max()\n",
    "\n",
    "minwGl=np.zeros(nproc,dtype='float32')\n",
    "maxwGl=np.zeros(nproc,dtype='float32')\n",
    "\n",
    "comm.Allgather([minw2,MPI.REAL],[minwGl,MPI.REAL])\n",
    "comm.Allgather([maxw2,MPI.REAL],[maxwGl,MPI.REAL])\n",
    "\n",
    "minw2 = minwGl.min()\n",
    "maxw2 = maxwGl.max()\n",
    "\n",
    "comm.Barrier()\n",
    "\n",
    "if rank==0:\n",
    "    print(\"<w^2> : \"+str(avgOmega))\n",
    "    print(\"min w2/<w^2> : \"+str(minw2/avgOmega))\n",
    "    print(\"min w2/<w^2> : \"+str(maxw2/avgOmega))"
   ]
  },
  {
   "cell_type": "markdown",
   "metadata": {},
   "source": [
    "Here we need to alocate all arrays we need to do the calculations of the 2-point correlation function. Since there are many arrays to be alocated at the same time, it takes a fair amount of time. On vm01, it takes around 160 to 190 seconds. On vm04, is taking around 25 seconds to load, with some times running below 7 seconds."
   ]
  },
  {
   "cell_type": "code",
   "execution_count": 6,
   "metadata": {
    "collapsed": false
   },
   "outputs": [
    {
     "name": "stdout",
     "output_type": "stream",
     "text": [
      "[stdout:5] Alocating vectors: 0.69 seconds\n"
     ]
    }
   ],
   "source": [
    "%%px\n",
    "\n",
    "dx = isotropic1024coarse['dx']\n",
    "ner = int(1024*np.sqrt(3))\n",
    "rbins = np.linspace(-0.5*dx,2*np.pi*np.sqrt(3)+0.5*dx,ner+1)\n",
    "\n",
    "comm.Barrier(); t1=MPI.Wtime()\n",
    "\n",
    "X = np.zeros((nx,ny,nz), dtype='float32')\n",
    "Y = np.zeros((nx,ny,nz), dtype='float32')\n",
    "Z = np.zeros((nx,ny,nz), dtype='float32')\n",
    "r2 = np.zeros((nx,ny,nz), dtype='float32')\n",
    "\n",
    "chi = ft.zeros_aligned((nx,ny,nz), dtype='float32')\n",
    "\n",
    "comm.Barrier(); t2=MPI.Wtime()\n",
    "if(rank==0):\n",
    "    sys.stdout.write('Alocating vectors: {0:.2f} seconds\\n'.format(t2-t1))"
   ]
  },
  {
   "cell_type": "markdown",
   "metadata": {},
   "source": [
    "To properly arrange the real space radius to do the spherical integration, we need to assign the distance from the first coordinate, so we compute X, Y and Z arrays, with the respective coordinates, and from there we compute the distance squared to the origin. This is so because the relevant information is contained in the first octant, so all we need is to integrate spherically the first octant. This section takes a fair share of time, around 200-220 seconds. On vm04 is taking around 25 seconds. "
   ]
  },
  {
   "cell_type": "code",
   "execution_count": 7,
   "metadata": {
    "collapsed": false
   },
   "outputs": [
    {
     "name": "stdout",
     "output_type": "stream",
     "text": [
      "[stdout:5] Preparing the real domain for radial integration: 23.71 seconds\n"
     ]
    }
   ],
   "source": [
    "%%px\n",
    "\n",
    "comm.Barrier(); t1=MPI.Wtime()\n",
    "for i in range(nx):\n",
    "    X[i,:,:] = (i+rank*nx)*isotropic1024coarse['dx']\n",
    "    \n",
    "for j in range(ny):\n",
    "    Y[:,j,:] = j*isotropic1024coarse['dy']\n",
    "    \n",
    "for k in range(nz):\n",
    "    Z[:,:,k] = k*isotropic1024coarse['dz']\n",
    "    \n",
    "r2[:,:,:] = X[:,:,:]**2+Y[:,:,:]**2+Z[:,:,:]**2\n",
    "\n",
    "r2rt = np.sqrt(r2)\n",
    "comm.Barrier(); t2=MPI.Wtime()\n",
    "if(rank==0):\n",
    "    sys.stdout.write('Preparing the real domain for radial integration: {0:.2f} seconds\\n'.format(t2-t1))"
   ]
  },
  {
   "cell_type": "code",
   "execution_count": 8,
   "metadata": {
    "collapsed": true
   },
   "outputs": [],
   "source": [
    "%%px\n",
    "\n",
    "x0 = y0 = z0 = 0.\n",
    "t = 5\n",
    "\n",
    "eta = 0.00287\n",
    "    \n",
    "Xs = X[w2 > t*avgOmega]\n",
    "Ys = Y[w2 > t*avgOmega]\n",
    "Zs = Z[w2 > t*avgOmega]\n",
    "    \n",
    "hist = np.zeros((Xs.shape[0],3))\n",
    "    \n",
    "hist[:,0] = Xs[:]\n",
    "hist[:,1] = Ys[:]\n",
    "hist[:,2] = Zs[:]\n",
    "\n",
    "count = []\n",
    "\n",
    "scales = np.logspace(np.log(2*425*eta),np.log(0.1*42.5*eta), num=250, endpoint=True, base=np.e)\n",
    "#scales = [isotropic1024coarse['lx']/2]\n",
    "\n",
    "gbox = np.zeros(1,dtype='float32')"
   ]
  },
  {
   "cell_type": "code",
   "execution_count": 9,
   "metadata": {
    "collapsed": false
   },
   "outputs": [
    {
     "name": "stdout",
     "output_type": "stream",
     "text": [
      "[stdout:5] Computing boxcounting numbers: 804.65 seconds\n"
     ]
    }
   ],
   "source": [
    "%%px\n",
    "\n",
    "count = []\n",
    "comm.Barrier(); t1=MPI.Wtime()\n",
    "for L in scales:\n",
    "    x1 = x0+isotropic1024coarse['lx']\n",
    "    y1 = y0+isotropic1024coarse['ly']\n",
    "    z1 = z0+isotropic1024coarse['lz']\n",
    "    \n",
    "    nx = int((x1-x0)/L)+1\n",
    "    ny = int((y1-y0)/L)+1\n",
    "    nz = int((z1-z0)/L)+1\n",
    "    \n",
    "    x1 = x0 + nx*L\n",
    "    y1 = y0 + ny*L \n",
    "    z1 = z0 + nz*L\n",
    "    \n",
    "    H, edges = np.histogramdd(hist, bins=(nx,ny,nz), range=((x0,x1),(y0,y1),(z0,z1)), normed=True)\n",
    "    \n",
    "    Hn = H[:]\n",
    "    Hn[Hn>0] = 1\n",
    "    numBox = np.sum(Hn)\n",
    "    \n",
    "    numBox = np.array([numBox],dtype='float32')\n",
    "    \n",
    "    gbox = np.zeros(1,dtype='float32')\n",
    "    comm.Allreduce([numBox,MPI.REAL],[gbox,MPI.REAL],op=MPI.SUM)\n",
    "    gbox = gbox[0]\n",
    "    \n",
    "    count.append(gbox)\n",
    "    \n",
    "comm.Barrier(); t2=MPI.Wtime()\n",
    "if(rank==0):\n",
    "    sys.stdout.write('Computing boxcounting numbers: {0:.2f} seconds\\n'.format(t2-t1))"
   ]
  },
  {
   "cell_type": "code",
   "execution_count": 10,
   "metadata": {
    "collapsed": false
   },
   "outputs": [
    {
     "name": "stdout",
     "output_type": "stream",
     "text": [
      "[stdout:5] \n",
      "[  9.00000000e+01   9.00000000e+01   9.00000000e+01   9.00000000e+01\n",
      "   9.00000000e+01   9.00000000e+01   9.00000000e+01   9.00000000e+01\n",
      "   1.75000000e+02   1.76000000e+02   1.76000000e+02   1.76000000e+02\n",
      "   1.76000000e+02   1.76000000e+02   1.76000000e+02   1.76000000e+02\n",
      "   1.76000000e+02   1.76000000e+02   1.76000000e+02   1.76000000e+02\n",
      "   1.76000000e+02   2.98000000e+02   3.00000000e+02   3.00000000e+02\n",
      "   3.00000000e+02   3.00000000e+02   3.00000000e+02   2.75000000e+02\n",
      "   3.00000000e+02   3.00000000e+02   3.00000000e+02   3.00000000e+02\n",
      "   4.68000000e+02   4.68000000e+02   4.68000000e+02   4.68000000e+02\n",
      "   4.68000000e+02   4.68000000e+02   4.68000000e+02   4.68000000e+02\n",
      "   6.83000000e+02   6.86000000e+02   6.86000000e+02   6.86000000e+02\n",
      "   6.86000000e+02   6.86000000e+02   6.86000000e+02   6.86000000e+02\n",
      "   9.60000000e+02   9.60000000e+02   9.60000000e+02   9.60000000e+02\n",
      "   9.60000000e+02   9.60000000e+02   1.28500000e+03   1.29600000e+03\n",
      "   1.29600000e+03   1.29600000e+03   1.29600000e+03   1.69200000e+03\n",
      "   1.70000000e+03   1.70000000e+03   1.69900000e+03   1.69800000e+03\n",
      "   2.16200000e+03   2.17600000e+03   2.17700000e+03   2.17400000e+03\n",
      "   2.17600000e+03   2.72700000e+03   2.73100000e+03   2.73300000e+03\n",
      "   2.73000000e+03   3.36100000e+03   3.37600000e+03   3.37500000e+03\n",
      "   3.37400000e+03   4.09100000e+03   4.10200000e+03   4.10400000e+03\n",
      "   4.90000000e+03   4.92400000e+03   4.93000000e+03   5.80600000e+03\n",
      "   5.85900000e+03   5.85600000e+03   6.18100000e+03   6.87200000e+03\n",
      "   6.89900000e+03   7.95900000e+03   8.03000000e+03   8.03700000e+03\n",
      "   9.24700000e+03   9.26300000e+03   1.04920000e+04   1.02800000e+04\n",
      "   1.06380000e+04   1.20990000e+04   1.21340000e+04   1.36630000e+04\n",
      "   1.37280000e+04   1.53620000e+04   1.55050000e+04   1.71660000e+04\n",
      "   1.73630000e+04   1.72560000e+04   1.93720000e+04   2.12950000e+04\n",
      "   2.09490000e+04   2.36330000e+04   2.37430000e+04   2.61130000e+04\n",
      "   2.61160000e+04   2.87090000e+04   3.11750000e+04   3.14070000e+04\n",
      "   3.42300000e+04   3.68130000e+04   3.70910000e+04   4.01990000e+04\n",
      "   4.32190000e+04   4.37340000e+04   4.69800000e+04   5.03150000e+04\n",
      "   5.07160000e+04   5.34020000e+04   5.82230000e+04   6.10300000e+04\n",
      "   6.62640000e+04   6.58460000e+04   7.08950000e+04   7.50880000e+04\n",
      "   7.85740000e+04   8.45030000e+04   8.78400000e+04   9.40610000e+04\n",
      "   9.93430000e+04   1.04554000e+05   1.09957000e+05   1.15574000e+05\n",
      "   1.21024000e+05   1.27212000e+05   1.31374000e+05   1.39411000e+05\n",
      "   1.50600000e+05   1.55374000e+05   1.64677000e+05   1.70335000e+05\n",
      "   1.73567000e+05   1.88530000e+05   1.97761000e+05   1.93017000e+05\n",
      "   2.19426000e+05   2.28091000e+05   2.42928000e+05   2.53789000e+05\n",
      "   2.69033000e+05   2.79007000e+05   2.92052000e+05   3.04009000e+05\n",
      "   3.19515000e+05   3.38778000e+05   3.48939000e+05   3.67255000e+05\n",
      "   3.86371000e+05   4.04703000e+05   3.96707000e+05   4.35987000e+05\n",
      "   4.55875000e+05   4.77289000e+05   4.96530000e+05   5.19012000e+05\n",
      "   5.32799000e+05   5.73275000e+05   5.92472000e+05   6.14556000e+05\n",
      "   6.42718000e+05   6.78114000e+05   6.99332000e+05   7.30962000e+05\n",
      "   7.63226000e+05   7.94747000e+05   8.27077000e+05   8.61480000e+05\n",
      "   8.98605000e+05   9.31765000e+05   9.69069000e+05   1.00914600e+06\n",
      "   1.04938600e+06   1.09597800e+06   1.13346600e+06   1.18342000e+06\n",
      "   1.23028300e+06   1.28193200e+06   1.33082600e+06   1.38784700e+06\n",
      "   1.43807500e+06   1.49945700e+06   1.54871800e+06   1.61133000e+06\n",
      "   1.67778300e+06   1.74347600e+06   1.80797500e+06   1.88083700e+06\n",
      "   1.94684600e+06   2.02774500e+06   2.11119300e+06   2.18121100e+06\n",
      "   2.27942500e+06   2.35490200e+06   2.43662500e+06   2.53375100e+06\n",
      "   2.62997100e+06   2.74438400e+06   2.83139700e+06   2.93591500e+06\n",
      "   3.05746500e+06   3.16714300e+06   3.29054200e+06   3.36883600e+06\n",
      "   3.52893400e+06   3.67676600e+06   3.79050000e+06   3.90152600e+06\n",
      "   4.10799000e+06   4.24296500e+06   4.42007000e+06   4.58583900e+06\n",
      "   4.75359700e+06   4.93265800e+06   5.14271300e+06   5.31485900e+06\n",
      "   5.51597000e+06   5.72854600e+06   5.92588400e+06   6.16639200e+06\n",
      "   6.39289600e+06   6.62401200e+06   6.90120300e+06   7.08061300e+06\n",
      "   7.37664300e+06   7.69734300e+06   7.99632200e+06   8.27600100e+06\n",
      "   8.61669200e+06   8.94766600e+06   9.27857100e+06   9.68112100e+06\n",
      "   9.99384200e+06   1.04383260e+07]\n"
     ]
    }
   ],
   "source": [
    "%%px\n",
    "\n",
    "count = np.array(count)\n",
    "\n",
    "if rank==0:\n",
    "    print(count)"
   ]
  },
  {
   "cell_type": "code",
   "execution_count": 11,
   "metadata": {
    "collapsed": false
   },
   "outputs": [
    {
     "name": "stdout",
     "output_type": "stream",
     "text": [
      "[stdout:5] t = 5*sigma_2: Linear fit [alpha A] = [-2.53170639  6.41640931]\n"
     ]
    }
   ],
   "source": [
    "%%px\n",
    "\n",
    "if rank==0:\n",
    "    idx = (scales>42.5*eta)&(scales<425*eta)\n",
    "    fit = np.polyfit(np.log(scales[idx]),np.log(count[idx]),1)\n",
    "    print(\"t = \"+str(t)+\"*sigma_2: Linear fit [alpha A] = \"+str(fit))"
   ]
  },
  {
   "cell_type": "code",
   "execution_count": 13,
   "metadata": {
    "collapsed": false
   },
   "outputs": [
    {
     "ename": "KeyboardInterrupt",
     "evalue": "",
     "output_type": "error",
     "traceback": [
      "\u001b[1;31m\u001b[0m",
      "\u001b[1;31mKeyboardInterrupt\u001b[0mTraceback (most recent call last)",
      "\u001b[1;32m<ipython-input-13-979268ee4c5f>\u001b[0m in \u001b[0;36m<module>\u001b[1;34m()\u001b[0m\n\u001b[1;32m----> 1\u001b[1;33m \u001b[0mget_ipython\u001b[0m\u001b[1;33m(\u001b[0m\u001b[1;33m)\u001b[0m\u001b[1;33m.\u001b[0m\u001b[0mrun_cell_magic\u001b[0m\u001b[1;33m(\u001b[0m\u001b[1;34m'px'\u001b[0m\u001b[1;33m,\u001b[0m \u001b[1;34m''\u001b[0m\u001b[1;33m,\u001b[0m \u001b[1;34m\"\\nif rank==0:\\n    #scales = np.array(scales)\\n    fig = plt.figure(figsize=(6,6))     \\n    \\n    matplotlib.rc('xtick', labelsize=20) \\n    matplotlib.rc('ytick', labelsize=20)      \\n    plt.xlabel(r'$L/\\\\eta$',size=20)\\n    plt.ylabel(r'$N_L$',size=20)\\n    plt.title(r'$t=5\\\\langle \\\\omega^2 \\\\rangle; D_{corr} = 2.641;\\\\ D_{box} = 2.845$',size=20)\\n    \\n    plt.grid()\\n    plt.loglog(scales/eta,count,'-')\\n    plt.loglog(scales/eta,np.exp(fit[1])*(scales**(fit[0])),'k--')\\n    plt.show()\\n    #plt.savefig('boxcount-'+str(5)+'-0.pdf')\"\u001b[0m\u001b[1;33m)\u001b[0m\u001b[1;33m\u001b[0m\u001b[0m\n\u001b[0m",
      "\u001b[1;32m/home/idies/anaconda3/lib/python3.5/site-packages/IPython/core/interactiveshell.py\u001b[0m in \u001b[0;36mrun_cell_magic\u001b[1;34m(self, magic_name, line, cell)\u001b[0m\n\u001b[0;32m   2118\u001b[0m             \u001b[0mmagic_arg_s\u001b[0m \u001b[1;33m=\u001b[0m \u001b[0mself\u001b[0m\u001b[1;33m.\u001b[0m\u001b[0mvar_expand\u001b[0m\u001b[1;33m(\u001b[0m\u001b[0mline\u001b[0m\u001b[1;33m,\u001b[0m \u001b[0mstack_depth\u001b[0m\u001b[1;33m)\u001b[0m\u001b[1;33m\u001b[0m\u001b[0m\n\u001b[0;32m   2119\u001b[0m             \u001b[1;32mwith\u001b[0m \u001b[0mself\u001b[0m\u001b[1;33m.\u001b[0m\u001b[0mbuiltin_trap\u001b[0m\u001b[1;33m:\u001b[0m\u001b[1;33m\u001b[0m\u001b[0m\n\u001b[1;32m-> 2120\u001b[1;33m                 \u001b[0mresult\u001b[0m \u001b[1;33m=\u001b[0m \u001b[0mfn\u001b[0m\u001b[1;33m(\u001b[0m\u001b[0mmagic_arg_s\u001b[0m\u001b[1;33m,\u001b[0m \u001b[0mcell\u001b[0m\u001b[1;33m)\u001b[0m\u001b[1;33m\u001b[0m\u001b[0m\n\u001b[0m\u001b[0;32m   2121\u001b[0m             \u001b[1;32mreturn\u001b[0m \u001b[0mresult\u001b[0m\u001b[1;33m\u001b[0m\u001b[0m\n\u001b[0;32m   2122\u001b[0m \u001b[1;33m\u001b[0m\u001b[0m\n",
      "\u001b[1;32m/home/idies/anaconda3/lib/python3.5/site-packages/ipyparallel/client/magics.py\u001b[0m in \u001b[0;36mcell_px\u001b[1;34m(self, line, cell)\u001b[0m\n\u001b[0;32m    296\u001b[0m             ar = self.parallel_execute(cell, block=block,\n\u001b[0;32m    297\u001b[0m                                 \u001b[0mgroupby\u001b[0m\u001b[1;33m=\u001b[0m\u001b[0margs\u001b[0m\u001b[1;33m.\u001b[0m\u001b[0mgroupby\u001b[0m\u001b[1;33m,\u001b[0m\u001b[1;33m\u001b[0m\u001b[0m\n\u001b[1;32m--> 298\u001b[1;33m                                 \u001b[0msave_name\u001b[0m\u001b[1;33m=\u001b[0m\u001b[0margs\u001b[0m\u001b[1;33m.\u001b[0m\u001b[0msave_name\u001b[0m\u001b[1;33m,\u001b[0m\u001b[1;33m\u001b[0m\u001b[0m\n\u001b[0m\u001b[0;32m    299\u001b[0m             )\n\u001b[0;32m    300\u001b[0m         \u001b[1;32mfinally\u001b[0m\u001b[1;33m:\u001b[0m\u001b[1;33m\u001b[0m\u001b[0m\n",
      "\u001b[1;32m/home/idies/anaconda3/lib/python3.5/site-packages/ipyparallel/client/magics.py\u001b[0m in \u001b[0;36mparallel_execute\u001b[1;34m(self, cell, block, groupby, save_name)\u001b[0m\n\u001b[0;32m    258\u001b[0m \u001b[1;33m\u001b[0m\u001b[0m\n\u001b[0;32m    259\u001b[0m         \u001b[1;32mif\u001b[0m \u001b[0mblock\u001b[0m\u001b[1;33m:\u001b[0m\u001b[1;33m\u001b[0m\u001b[0m\n\u001b[1;32m--> 260\u001b[1;33m             \u001b[0mresult\u001b[0m\u001b[1;33m.\u001b[0m\u001b[0mget\u001b[0m\u001b[1;33m(\u001b[0m\u001b[1;33m)\u001b[0m\u001b[1;33m\u001b[0m\u001b[0m\n\u001b[0m\u001b[0;32m    261\u001b[0m             \u001b[0mresult\u001b[0m\u001b[1;33m.\u001b[0m\u001b[0mdisplay_outputs\u001b[0m\u001b[1;33m(\u001b[0m\u001b[0mgroupby\u001b[0m\u001b[1;33m)\u001b[0m\u001b[1;33m\u001b[0m\u001b[0m\n\u001b[0;32m    262\u001b[0m         \u001b[1;32melse\u001b[0m\u001b[1;33m:\u001b[0m\u001b[1;33m\u001b[0m\u001b[0m\n",
      "\u001b[1;32m/home/idies/anaconda3/lib/python3.5/site-packages/ipyparallel/client/asyncresult.py\u001b[0m in \u001b[0;36mget\u001b[1;34m(self, timeout)\u001b[0m\n\u001b[0;32m    158\u001b[0m         \"\"\"\n\u001b[0;32m    159\u001b[0m         \u001b[1;32mif\u001b[0m \u001b[1;32mnot\u001b[0m \u001b[0mself\u001b[0m\u001b[1;33m.\u001b[0m\u001b[0mready\u001b[0m\u001b[1;33m(\u001b[0m\u001b[1;33m)\u001b[0m\u001b[1;33m:\u001b[0m\u001b[1;33m\u001b[0m\u001b[0m\n\u001b[1;32m--> 160\u001b[1;33m             \u001b[0mself\u001b[0m\u001b[1;33m.\u001b[0m\u001b[0mwait\u001b[0m\u001b[1;33m(\u001b[0m\u001b[0mtimeout\u001b[0m\u001b[1;33m)\u001b[0m\u001b[1;33m\u001b[0m\u001b[0m\n\u001b[0m\u001b[0;32m    161\u001b[0m \u001b[1;33m\u001b[0m\u001b[0m\n\u001b[0;32m    162\u001b[0m         \u001b[1;32mif\u001b[0m \u001b[0mself\u001b[0m\u001b[1;33m.\u001b[0m\u001b[0m_ready\u001b[0m\u001b[1;33m:\u001b[0m\u001b[1;33m\u001b[0m\u001b[0m\n",
      "\u001b[1;32m/home/idies/anaconda3/lib/python3.5/site-packages/ipyparallel/client/asyncresult.py\u001b[0m in \u001b[0;36mwait\u001b[1;34m(self, timeout)\u001b[0m\n\u001b[0;32m    208\u001b[0m             \u001b[0mtimeout\u001b[0m \u001b[1;33m=\u001b[0m \u001b[1;32mNone\u001b[0m\u001b[1;33m\u001b[0m\u001b[0m\n\u001b[0;32m    209\u001b[0m \u001b[1;33m\u001b[0m\u001b[0m\n\u001b[1;32m--> 210\u001b[1;33m         \u001b[0mself\u001b[0m\u001b[1;33m.\u001b[0m\u001b[0m_ready_event\u001b[0m\u001b[1;33m.\u001b[0m\u001b[0mwait\u001b[0m\u001b[1;33m(\u001b[0m\u001b[0mtimeout\u001b[0m\u001b[1;33m)\u001b[0m\u001b[1;33m\u001b[0m\u001b[0m\n\u001b[0m\u001b[0;32m    211\u001b[0m         \u001b[0mself\u001b[0m\u001b[1;33m.\u001b[0m\u001b[0mwait_for_output\u001b[0m\u001b[1;33m(\u001b[0m\u001b[1;36m0\u001b[0m\u001b[1;33m)\u001b[0m\u001b[1;33m\u001b[0m\u001b[0m\n\u001b[0;32m    212\u001b[0m         \u001b[1;32mreturn\u001b[0m \u001b[0mself\u001b[0m\u001b[1;33m.\u001b[0m\u001b[0m_ready\u001b[0m\u001b[1;33m\u001b[0m\u001b[0m\n",
      "\u001b[1;32m/home/idies/anaconda3/lib/python3.5/threading.py\u001b[0m in \u001b[0;36mwait\u001b[1;34m(self, timeout)\u001b[0m\n\u001b[0;32m    547\u001b[0m             \u001b[0msignaled\u001b[0m \u001b[1;33m=\u001b[0m \u001b[0mself\u001b[0m\u001b[1;33m.\u001b[0m\u001b[0m_flag\u001b[0m\u001b[1;33m\u001b[0m\u001b[0m\n\u001b[0;32m    548\u001b[0m             \u001b[1;32mif\u001b[0m \u001b[1;32mnot\u001b[0m \u001b[0msignaled\u001b[0m\u001b[1;33m:\u001b[0m\u001b[1;33m\u001b[0m\u001b[0m\n\u001b[1;32m--> 549\u001b[1;33m                 \u001b[0msignaled\u001b[0m \u001b[1;33m=\u001b[0m \u001b[0mself\u001b[0m\u001b[1;33m.\u001b[0m\u001b[0m_cond\u001b[0m\u001b[1;33m.\u001b[0m\u001b[0mwait\u001b[0m\u001b[1;33m(\u001b[0m\u001b[0mtimeout\u001b[0m\u001b[1;33m)\u001b[0m\u001b[1;33m\u001b[0m\u001b[0m\n\u001b[0m\u001b[0;32m    550\u001b[0m             \u001b[1;32mreturn\u001b[0m \u001b[0msignaled\u001b[0m\u001b[1;33m\u001b[0m\u001b[0m\n\u001b[0;32m    551\u001b[0m \u001b[1;33m\u001b[0m\u001b[0m\n",
      "\u001b[1;32m/home/idies/anaconda3/lib/python3.5/threading.py\u001b[0m in \u001b[0;36mwait\u001b[1;34m(self, timeout)\u001b[0m\n\u001b[0;32m    291\u001b[0m         \u001b[1;32mtry\u001b[0m\u001b[1;33m:\u001b[0m    \u001b[1;31m# restore state no matter what (e.g., KeyboardInterrupt)\u001b[0m\u001b[1;33m\u001b[0m\u001b[0m\n\u001b[0;32m    292\u001b[0m             \u001b[1;32mif\u001b[0m \u001b[0mtimeout\u001b[0m \u001b[1;32mis\u001b[0m \u001b[1;32mNone\u001b[0m\u001b[1;33m:\u001b[0m\u001b[1;33m\u001b[0m\u001b[0m\n\u001b[1;32m--> 293\u001b[1;33m                 \u001b[0mwaiter\u001b[0m\u001b[1;33m.\u001b[0m\u001b[0macquire\u001b[0m\u001b[1;33m(\u001b[0m\u001b[1;33m)\u001b[0m\u001b[1;33m\u001b[0m\u001b[0m\n\u001b[0m\u001b[0;32m    294\u001b[0m                 \u001b[0mgotit\u001b[0m \u001b[1;33m=\u001b[0m \u001b[1;32mTrue\u001b[0m\u001b[1;33m\u001b[0m\u001b[0m\n\u001b[0;32m    295\u001b[0m             \u001b[1;32melse\u001b[0m\u001b[1;33m:\u001b[0m\u001b[1;33m\u001b[0m\u001b[0m\n",
      "\u001b[1;31mKeyboardInterrupt\u001b[0m: "
     ]
    }
   ],
   "source": [
    "%%px\n",
    "\n",
    "if rank==0:\n",
    "    #scales = np.array(scales)\n",
    "    fig = plt.figure(figsize=(6,6))     \n",
    "    \n",
    "    matplotlib.rc('xtick', labelsize=20) \n",
    "    matplotlib.rc('ytick', labelsize=20)      \n",
    "    plt.xlabel(r'$L/\\eta$',size=20)\n",
    "    plt.ylabel(r'$N_L$',size=20)\n",
    "    plt.title(r'$t=5\\langle \\omega^2 \\rangle; D_{corr} = 2.641;\\ D_{box} = 2.845$',size=20)\n",
    "    \n",
    "    plt.grid()\n",
    "    plt.loglog(scales/eta,count,'-')\n",
    "    plt.loglog(scales/eta,np.exp(fit[1])*(scales**(fit[0])),'k--')\n",
    "    plt.show()\n",
    "    #plt.savefig('boxcount-'+str(5)+'-0.pdf')"
   ]
  },
  {
   "cell_type": "code",
   "execution_count": null,
   "metadata": {
    "collapsed": true
   },
   "outputs": [],
   "source": [
    "%%px\n",
    "thresholds = [1,2,3,4,5,6,7,10,15,20,30,50]\n",
    "\n",
    "for t in thresholds:\n",
    "    count = []\n",
    "    comm.Barrier(); t1=MPI.Wtime()\n",
    "    \n",
    "    t = 5\n",
    "    \n",
    "    Xs = X[w2 > t*avgOmega]\n",
    "    Ys = Y[w2 > t*avgOmega]\n",
    "    Zs = Z[w2 > t*avgOmega]\n",
    "    \n",
    "    hist = np.zeros((Xs.shape[0],3))\n",
    "    \n",
    "    hist[:,0] = Xs[:]\n",
    "    hist[:,1] = Ys[:]\n",
    "    hist[:,2] = Zs[:]\n",
    "    \n",
    "    count = []\n",
    "    scales = np.logspace(np.log(2*425*eta),np.log(0.1*42.5*eta), num=250, endpoint=True, base=np.e)\n",
    "    \n",
    "    for L in scales:\n",
    "        x1 = x0+isotropic1024coarse['lx']\n",
    "        y1 = y0+isotropic1024coarse['ly']\n",
    "        z1 = z0+isotropic1024coarse['lz']\n",
    "        \n",
    "        nx = int((x1-x0)/L)+1\n",
    "        ny = int((y1-y0)/L)+1\n",
    "        nz = int((z1-z0)/L)+1\n",
    "        \n",
    "        x1 = x0 + nx*L\n",
    "        y1 = y0 + ny*L \n",
    "        z1 = z0 + nz*L\n",
    "        \n",
    "        H, edges = np.histogramdd(hist, bins=(nx,ny,nz), range=((x0,x1),(y0,y1),(z0,z1)), normed=True)\n",
    "        \n",
    "        Hn = H[:]\n",
    "        Hn[Hn>0] = 1\n",
    "        numBox = np.sum(Hn)\n",
    "        \n",
    "        numBox = np.array([numBox],dtype='float32')\n",
    "        \n",
    "        gbox = np.zeros(1,dtype='float32')\n",
    "        comm.Allreduce([numBox,MPI.REAL],[gbox,MPI.REAL],op=MPI.SUM)\n",
    "        gbox = gbox[0]\n",
    "        \n",
    "        count.append(gbox)\n",
    "        \n",
    "    comm.Barrier(); t2=MPI.Wtime()\n",
    "    if(rank==0):\n",
    "        print('Threshold = '+str(t))\n",
    "        sys.stdout.write('Computing boxcounting numbers: {0:.2f} seconds\\n'.format(t2-t1))\n",
    "        \n",
    "    if rank==0:\n",
    "        scales = np.array(scales)\n",
    "        count = np.array(count)\n",
    "        fit = np.polyfit(np.log(scales[(scales>42.5*eta)&(scales<425*eta)]),np.log(count[(scales>42.5*eta)&(scales<425*eta)]),1)\n",
    "        print(\"t = \"+str(t)+\"*sigma_2: Linear fit [alpha A] = \"+str(fit))\n",
    "        \n",
    "        fig = plt.figure(figsize=(6,6))\n",
    "        \n",
    "        matplotlib.rc('xtick', labelsize=20) \n",
    "        matplotlib.rc('ytick', labelsize=20)     \n",
    "        plt.xlabel(r'$L/\\eta$',size=20)\n",
    "        plt.ylabel(r'$N_L$',size=20)\n",
    "        plt.title(r'$t=5\\langle \\omega^2 \\rangle; D_{corr} = 2.641;\\ D_{box} = 2.845$',size=20)\n",
    "        \n",
    "        plt.grid()\n",
    "        plt.loglog(scales/eta,count,'-')\n",
    "        plt.loglog(scales/eta,np.exp(fit[1])*(scales**(fit[0])),'k--')\n",
    "        plt.savefig('boxcount-'+str(t)+'-0.pdf')"
   ]
  },
  {
   "cell_type": "code",
   "execution_count": null,
   "metadata": {
    "collapsed": true
   },
   "outputs": [],
   "source": []
  },
  {
   "cell_type": "code",
   "execution_count": null,
   "metadata": {
    "collapsed": true
   },
   "outputs": [],
   "source": []
  }
 ],
 "metadata": {
  "kernelspec": {
   "display_name": "Python 3",
   "language": "python",
   "name": "python3"
  },
  "language_info": {
   "codemirror_mode": {
    "name": "ipython",
    "version": 3
   },
   "file_extension": ".py",
   "mimetype": "text/x-python",
   "name": "python",
   "nbconvert_exporter": "python",
   "pygments_lexer": "ipython3",
   "version": "3.5.2"
  }
 },
 "nbformat": 4,
 "nbformat_minor": 0
}
