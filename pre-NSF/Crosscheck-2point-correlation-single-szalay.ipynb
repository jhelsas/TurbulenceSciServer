{
 "cells": [
  {
   "cell_type": "markdown",
   "metadata": {},
   "source": [
    "This notebook is to exemplify the obtention one of power law of a single treshold of the 2-point correlation function of enstrophy excursion sets. The objective is to provide an interactive enviroment to test different thresholds and provide a feel of what is the behavior of the system. "
   ]
  },
  {
   "cell_type": "code",
   "execution_count": 1,
   "metadata": {
    "collapsed": true
   },
   "outputs": [],
   "source": [
    "#!ipcluster start -n 8 --engines=MPI --profile='mpi' # for parallel run: start the engines using terminal\n",
    "from ipyparallel import Client\n",
    "rc = Client(profile='mpi')"
   ]
  },
  {
   "cell_type": "markdown",
   "metadata": {},
   "source": [
    "Following suit, it is necessary to import the libraries that are necessary to the work to be executed. These include  numpy for the generay array manipulations, pyFFTW to the Fourier Transforms, mpi4py for MPI support, general math, sys and os libraries and pyJHTDB, that provides a python wraper for the C-SOAP interface of the Johs Hopkins Turbulence Databases. We also import some modules that provide basic 3D FFT and histograming functionality build upon numpy and pyFFTW, as a way to streamline the overall process. Those modules, which include FFT3Dfield, IFFT3Dfield and EnergySpectrum, were originaly developed by Dr. Kun Yang."
   ]
  },
  {
   "cell_type": "code",
   "execution_count": 2,
   "metadata": {
    "collapsed": false
   },
   "outputs": [],
   "source": [
    "%%px\n",
    "# Import the libraries\n",
    "\n",
    "import os\n",
    "import sys\n",
    "import math\n",
    "import numpy as np\n",
    "import pyfftw as ft \n",
    "from mpi4py import MPI\n",
    "import matplotlib\n",
    "import matplotlib.pyplot as plt\n",
    "import pyJHTDB\n",
    "from pyJHTDB.dbinfo import isotropic1024coarse\n",
    "from pyJHTDB import libJHTDB\n",
    "\n",
    "from fft3d import FFT3Dfield_new\n",
    "from EnergySpectrum import EnergySpectrum"
   ]
  },
  {
   "cell_type": "markdown",
   "metadata": {},
   "source": [
    "We first initialize general domain constants, based on the isotropic1024coarse dictionary, which provide information on the isotropic turbulence database. We then initialize MPI variables, including the communicator, rank and number of process. The typical number of processes is 8, both because it doesn't, usually, overloads the sciserver hardware, but also it is the optimal number of processes to query the database. Afterwards, it is necessary to initalize the variables that designate the domain associated with each MPI process. Due to the way that the FFT3D modules were build, we chose to divide the domain in slabs split in the X direction. Also, constants related to wavenumber and chunck size downloads are initialized."
   ]
  },
  {
   "cell_type": "code",
   "execution_count": 3,
   "metadata": {
    "collapsed": false
   },
   "outputs": [
    {
     "name": "stdout",
     "output_type": "stream",
     "text": [
      "[stdout:2] \n",
      "n_proc = 8\n",
      "rank = 0\n"
     ]
    }
   ],
   "source": [
    "%%px\n",
    "\n",
    "Nx = isotropic1024coarse['nx']; Ny = isotropic1024coarse['ny']; Nz = isotropic1024coarse['nz']\n",
    "Lx = isotropic1024coarse['lx']; Ly = isotropic1024coarse['ly']; Lz = isotropic1024coarse['lz']\n",
    "\n",
    "comm = MPI.COMM_WORLD\n",
    "rank = comm.Get_rank()\n",
    "nproc = comm.Get_size()\n",
    "if(rank==0):\n",
    "    print(\"n_proc = \"+str(nproc))\n",
    "    print(\"rank = \"+str(rank))\n",
    "\n",
    "# Computational Domain\n",
    "\n",
    "nx=Nx//nproc; ny=Ny; nz=Nz\n",
    "nz_half=nz//2\n",
    "nek=int(math.sqrt(2.0)/3*Nx)\n",
    "time = 0.0\n",
    "\n",
    "chkSz = 32\n",
    "slabs = nx//chkSz"
   ]
  },
  {
   "cell_type": "markdown",
   "metadata": {},
   "source": [
    "Instead of downloading the velocity field from the website, we just load the cached value of enstrophy pre-computed from a previous notebook. On vm01 it takes between 60 to 90 seconds to load from disk."
   ]
  },
  {
   "cell_type": "code",
   "execution_count": 4,
   "metadata": {
    "collapsed": false
   },
   "outputs": [
    {
     "name": "stdout",
     "output_type": "stream",
     "text": [
      "[stdout:2] \n",
      "Finished loading\n",
      "Load from disk: 4.39 seconds\n"
     ]
    }
   ],
   "source": [
    "%%px\n",
    "\n",
    "cacheEnstrophyData = False\n",
    "loadEnstrophyFromCache = True\n",
    "\n",
    "folder = \"/home/idies/workspace/scratch\"\n",
    "filename = \"enstrophy-szalay-\"+str(rank)+\".npz\"\n",
    "\n",
    "file = folder + \"/\" + filename\n",
    "\n",
    "if(loadEnstrophyFromCache):\n",
    "    comm.Barrier(); t1=MPI.Wtime()\n",
    "    content = np.load(file)\n",
    "    \n",
    "    w2 = ft.zeros_aligned((nx,ny,nz), dtype='float32')\n",
    "    \n",
    "    #if(int(content['nproc'])!=nproc):\n",
    "    #    print(\"Unmatched number of processes. Must first pre-process to adequate number of process\")\n",
    "    w2[:,:,:] = content['w2']\n",
    "    \n",
    "    comm.Barrier(); t2=MPI.Wtime()\n",
    "    if(rank==0):\n",
    "        print(\"Finished loading\")\n",
    "        sys.stdout.write('Load from disk: {0:.2f} seconds\\n'.format(t2-t1))\n",
    "\n",
    "if(cacheEnstrophyData):\n",
    "    \n",
    "    comm.Barrier(); t1=MPI.Wtime()\n",
    "    np.savez(file,w2=w2,nproc=nproc)\n",
    "    comm.Barrier(); t2=MPI.Wtime()\n",
    "    if(rank==0):\n",
    "        sys.stdout.write('Caching the data: {0:.2f} seconds\\n'.format(t2-t1))"
   ]
  },
  {
   "cell_type": "markdown",
   "metadata": {},
   "source": [
    "We compute the global average of enstrophy. And also we compute minimum and maximum values of enstrophy, for reference."
   ]
  },
  {
   "cell_type": "code",
   "execution_count": 5,
   "metadata": {
    "collapsed": false
   },
   "outputs": [
    {
     "name": "stdout",
     "output_type": "stream",
     "text": [
      "[stdout:2] \n",
      "0.5 <w^2> : 245.580307007\n",
      "<w^2> : 491.160614014\n",
      "min w2 : 9.39717e-06\n",
      "max w2 : 258231.0\n",
      "min w2/<w^2> : 1.91325866702e-08\n",
      "min w2/<w^2> : 525.757337839\n"
     ]
    }
   ],
   "source": [
    "%%px\n",
    "\n",
    "avgOmega = np.average(w2)\n",
    "avgOmegaGl=np.zeros(1,dtype='float32')\n",
    "\n",
    "comm.Reduce([avgOmega,MPI.REAL],[avgOmegaGl,MPI.REAL],op=MPI.SUM)\n",
    "avgOmega = avgOmegaGl[0]/nproc\n",
    "avgOmega = comm.bcast(avgOmega, root=0)\n",
    "\n",
    "##########################\n",
    "\n",
    "minw2 = w2.min()\n",
    "maxw2 = w2.max()\n",
    "\n",
    "minwGl=np.zeros(nproc,dtype='float32')\n",
    "maxwGl=np.zeros(nproc,dtype='float32')\n",
    "\n",
    "comm.Allgather([minw2,MPI.REAL],[minwGl,MPI.REAL])\n",
    "comm.Allgather([maxw2,MPI.REAL],[maxwGl,MPI.REAL])\n",
    "\n",
    "minw2 = minwGl.min()\n",
    "maxw2 = maxwGl.max()\n",
    "\n",
    "comm.Barrier()\n",
    "\n",
    "if rank==0:\n",
    "    print(\"0.5 <w^2> : \"+str(avgOmega/2))\n",
    "    print(\"<w^2> : \"+str(avgOmega))\n",
    "    print(\"min w2 : \"+str(minw2))\n",
    "    print(\"max w2 : \"+str(maxw2))\n",
    "    print(\"min w2/<w^2> : \"+str(minw2/avgOmega))\n",
    "    print(\"min w2/<w^2> : \"+str(maxw2/avgOmega))"
   ]
  },
  {
   "cell_type": "markdown",
   "metadata": {},
   "source": [
    "Here we need to alocate all arrays we need to do the calculations of the 2-point correlation function. Since there are many arrays to be alocated at the same time, it takes a fair amount of time. On vm01, it takes around 160 to 190 seconds. On vm04, it is taking 26 seconds."
   ]
  },
  {
   "cell_type": "code",
   "execution_count": 6,
   "metadata": {
    "collapsed": false
   },
   "outputs": [
    {
     "name": "stdout",
     "output_type": "stream",
     "text": [
      "[stdout:2] Alocating vectors: 25.89 seconds\n"
     ]
    }
   ],
   "source": [
    "%%px\n",
    "\n",
    "dx = isotropic1024coarse['dx']\n",
    "\n",
    "comm.Barrier(); t1=MPI.Wtime()\n",
    "\n",
    "fft = FFT3Dfield_new(nx,ny,nz,nproc,rank)\n",
    "\n",
    "X = np.zeros((nx,ny//2,nz//2), dtype='float32')\n",
    "Y = np.zeros((nx,ny//2,nz//2), dtype='float32')\n",
    "Z = np.zeros((nx,ny//2,nz//2), dtype='float32')\n",
    "\n",
    "r2 = np.zeros((nx,ny//2,nz//2), dtype='float32')\n",
    "\n",
    "chi = ft.zeros_aligned((nx,ny,nz), dtype='float32')\n",
    "cchi = ft.zeros_aligned((nx,ny,1+(nz//2)), dtype='complex64')\n",
    "corr = ft.zeros_aligned((nx,ny,nz),dtype='float32')\n",
    "iCorr = np.zeros((nx,ny//2,nz//2), dtype='float32')\n",
    "\n",
    "comm.Barrier(); t2=MPI.Wtime()\n",
    "if(rank==0):\n",
    "    sys.stdout.write('Alocating vectors: {0:.2f} seconds\\n'.format(t2-t1))"
   ]
  },
  {
   "cell_type": "markdown",
   "metadata": {},
   "source": [
    "To properly arrange the real space radius to do the spherical integration, we need to assign the distance from the first coordinate, so we compute X, Y and Z arrays, with the respective coordinates, and from there we compute the distance squared to the origin. This is so because the relevant information is contained in the first octant, so all we need is to integrate spherically the first octant. This section takes a fair share of time, around 200-220 seconds. On vm04, this is taking around 23 seconds. "
   ]
  },
  {
   "cell_type": "code",
   "execution_count": 7,
   "metadata": {
    "collapsed": false
   },
   "outputs": [
    {
     "name": "stdout",
     "output_type": "stream",
     "text": [
      "[stdout:2] Preparing the real domain for radial integration: 4.11 seconds\n"
     ]
    }
   ],
   "source": [
    "%%px\n",
    "\n",
    "comm.Barrier(); t1=MPI.Wtime()\n",
    "for i in range(nx):\n",
    "    X[i,:,:] = (i+rank*nx+0.5)*isotropic1024coarse['dx']\n",
    "\n",
    "for j in range(ny//2):\n",
    "    Y[:,j,:] = (j+0.5)*isotropic1024coarse['dy']\n",
    "    \n",
    "for k in range(nz//2):\n",
    "    Z[:,:,k] = (k+0.5)*isotropic1024coarse['dz']\n",
    "    \n",
    "r2[:,:,:] = X[:,:,:]**2+Y[:,:,:]**2+Z[:,:,:]**2\n",
    "\n",
    "r2rt = np.sqrt(r2)\n",
    "comm.Barrier(); t2=MPI.Wtime()\n",
    "if(rank==0):\n",
    "    sys.stdout.write('Preparing the real domain for radial integration: {0:.2f} seconds\\n'.format(t2-t1))"
   ]
  },
  {
   "cell_type": "code",
   "execution_count": 8,
   "metadata": {
    "collapsed": false
   },
   "outputs": [
    {
     "name": "stdout",
     "output_type": "stream",
     "text": [
      "[stdout:2] 37259068\n"
     ]
    }
   ],
   "source": [
    "%%px\n",
    "\n",
    "t = 5\n",
    "\n",
    "chi[:,:,:] = 0\n",
    "chi[w2 > t*avgOmega] = 1\n",
    "\n",
    "N = np.sum(chi)\n",
    "NGl=np.zeros(1,dtype='float32')\n",
    "\n",
    "comm.Allreduce([N,MPI.REAL],[NGl,MPI.REAL],op=MPI.SUM)\n",
    "\n",
    "if rank==0:\n",
    "    print(int(NGl[0]))"
   ]
  },
  {
   "cell_type": "code",
   "execution_count": 9,
   "metadata": {
    "collapsed": true
   },
   "outputs": [],
   "source": [
    "%%px\n",
    "\n",
    "t = 5\n",
    "c = 'r'\n",
    "\n",
    "chi[:,:,:] = 0\n",
    "chi[w2 > t*avgOmega] = 1"
   ]
  },
  {
   "cell_type": "code",
   "execution_count": 10,
   "metadata": {
    "collapsed": true
   },
   "outputs": [],
   "source": [
    "%%px\n",
    "\n",
    "cchi[:,:,:] = fft.forward3Dfft(chi,nx,ny,nz,nproc,rank)"
   ]
  },
  {
   "cell_type": "code",
   "execution_count": 11,
   "metadata": {
    "collapsed": true
   },
   "outputs": [],
   "source": [
    "%%px\n",
    "\n",
    "tmp = cchi*(cchi.conj())"
   ]
  },
  {
   "cell_type": "code",
   "execution_count": 12,
   "metadata": {
    "collapsed": false
   },
   "outputs": [
    {
     "name": "stdout",
     "output_type": "stream",
     "text": [
      "[stdout:2] \n",
      "Global min: 2.47224e-10\n",
      "Global max: 0.0347002\n",
      "Global ratio: 1.40359e+08\n"
     ]
    }
   ],
   "source": [
    "%%px\n",
    "\n",
    "minAbs = np.min(np.sqrt(tmp.real))\n",
    "maxAbs = np.max(np.sqrt(tmp.real))\n",
    "\n",
    "minGl=np.zeros(nproc,dtype='float32')\n",
    "maxGl=np.zeros(nproc,dtype='float32')\n",
    "\n",
    "comm.Allgather([minAbs,MPI.REAL],[minGl,MPI.REAL])\n",
    "comm.Allgather([maxAbs,MPI.REAL],[maxGl,MPI.REAL])\n",
    "\n",
    "ming = minGl.min()\n",
    "maxg = maxGl.max()\n",
    "\n",
    "if rank==0:\n",
    "    print(\"Global min: \"+str(ming))\n",
    "    print(\"Global max: \"+str(maxg))\n",
    "    print(\"Global ratio: \"+str(maxg/ming) )"
   ]
  },
  {
   "cell_type": "code",
   "execution_count": 13,
   "metadata": {
    "collapsed": false
   },
   "outputs": [
    {
     "name": "stdout",
     "output_type": "stream",
     "text": [
      "[stdout:2] \n",
      "(0.0012041+0j)\n",
      "0j\n"
     ]
    }
   ],
   "source": [
    "%%px\n",
    "\n",
    "if rank==0:\n",
    "    print(tmp[0,0,0])\n",
    "    tmp[0,0,0] = np.complex64(0+0.0j)\n",
    "    print(tmp[0,0,0])"
   ]
  },
  {
   "cell_type": "code",
   "execution_count": 14,
   "metadata": {
    "collapsed": true
   },
   "outputs": [],
   "source": [
    "%%px\n",
    "\n",
    "corr[:,:,:] = fft.backward3Dfft(tmp,nx,ny,nz,nproc,rank)"
   ]
  },
  {
   "cell_type": "code",
   "execution_count": 15,
   "metadata": {
    "collapsed": false
   },
   "outputs": [],
   "source": [
    "%%px\n",
    "\n",
    "fct = 1024**3/37259068\n",
    "\n",
    "corr[:,:,:] *= fct"
   ]
  },
  {
   "cell_type": "code",
   "execution_count": 16,
   "metadata": {
    "collapsed": false
   },
   "outputs": [
    {
     "name": "stdout",
     "output_type": "stream",
     "text": [
      "[stdout:2] 0.9653\n"
     ]
    }
   ],
   "source": [
    "%%px\n",
    "\n",
    "if rank==0:\n",
    "    print(corr[0,0,0])"
   ]
  },
  {
   "cell_type": "code",
   "execution_count": 17,
   "metadata": {
    "collapsed": true
   },
   "outputs": [],
   "source": [
    "%%px\n",
    "\n",
    "if rank<4:\n",
    "    iCorr[0:nx,0:(ny//2),0:(nz//2)] = corr[0:nx,0:(ny//2),0:(nz//2)]"
   ]
  },
  {
   "cell_type": "code",
   "execution_count": null,
   "metadata": {
    "collapsed": false
   },
   "outputs": [],
   "source": [
    "%%px\n",
    "\n",
    "minr2rt = np.min(r2rt)\n",
    "maxr2rt = np.max(r2rt)\n",
    "\n",
    "if rank>=4:\n",
    "    minr2rt =  100.\n",
    "    maxr2rt = -100\n",
    "\n",
    "minGl=np.zeros(nproc,dtype='float32')\n",
    "maxGl=np.zeros(nproc,dtype='float32')\n",
    "\n",
    "comm.Allgather([minr2rt,MPI.REAL],[minGl,MPI.REAL])\n",
    "comm.Allgather([maxr2rt,MPI.REAL],[maxGl,MPI.REAL])\n",
    "\n",
    "ming = minGl.min()\n",
    "maxg = maxGl.max()\n",
    "\n",
    "if rank==0:\n",
    "    print(\"minGL = \"+str(minGl))\n",
    "    print(\"maxGL = \"+str(maxGl))\n",
    "\n",
    "if rank==0:\n",
    "    print(\"Global min: \"+str(ming))\n",
    "    print(\"Global max: \"+str(maxg))\n",
    "    print(\"Global ratio: \"+str(maxg/ming) )"
   ]
  },
  {
   "cell_type": "code",
   "execution_count": 33,
   "metadata": {
    "collapsed": false
   },
   "outputs": [],
   "source": [
    "%%px\n",
    "\n",
    "minr2rt = np.sqrt(2)*(dx/2) #0.00531387\n",
    "maxr2rt = 10.8775\n",
    "\n",
    "logrbins = np.logspace(np.log(minr2rt),np.log(maxr2rt),num=21,endpoint=True,base=np.e)"
   ]
  },
  {
   "cell_type": "code",
   "execution_count": 34,
   "metadata": {
    "collapsed": false,
    "scrolled": true
   },
   "outputs": [
    {
     "name": "stdout",
     "output_type": "stream",
     "text": [
      "[stdout:6] \n",
      "[  7.07106781e-01   1.04578693e+00   1.54668338e+00   2.28749224e+00\n",
      "   3.38312339e+00   5.00352468e+00   7.40004321e+00   1.09444128e+01\n",
      "   1.61864151e+01   2.39391586e+01   3.54052032e+01   5.23630940e+01\n",
      "   7.74432391e+01   1.14535922e+02   1.69394742e+02   2.50529075e+02\n",
      "   3.70524001e+02   5.47992423e+02   8.10462197e+02   1.19864609e+03\n",
      "   1.77275688e+03]\n"
     ]
    }
   ],
   "source": [
    "%%px\n",
    "\n",
    "if rank==0:\n",
    "    print(logrbins/dx)"
   ]
  },
  {
   "cell_type": "code",
   "execution_count": 35,
   "metadata": {
    "collapsed": false
   },
   "outputs": [],
   "source": [
    "%%px\n",
    "hist = []\n",
    "r2st = []\n",
    "\n",
    "corrLoc,redges = np.histogram(r2rt,range=(minr2rt,maxr2rt),bins = logrbins,weights=iCorr)\n",
    "#corrLoc,redges = np.histogram(r2rt,range=(-0.5*dx,2*np.pi*np.sqrt(3)+0.5*dx),bins = rbins,weights=iCorr)\n",
    "    \n",
    "r2Loc,r2edges = np.histogram(r2rt,range=(minr2rt,maxr2rt),bins = logrbins)\n",
    "#r2Loc,r2edges = np.histogram(r2rt,range=(-0.5*dx,2*np.pi*np.sqrt(3)+0.5*dx),bins = rbins)"
   ]
  },
  {
   "cell_type": "code",
   "execution_count": 38,
   "metadata": {
    "collapsed": false
   },
   "outputs": [
    {
     "name": "stdout",
     "output_type": "stream",
     "text": [
      "[stdout:6] (20,)\n"
     ]
    }
   ],
   "source": [
    "%%px\n",
    "\n",
    "if rank==0:\n",
    "    print(corrLoc.shape)"
   ]
  },
  {
   "cell_type": "code",
   "execution_count": 49,
   "metadata": {
    "collapsed": true
   },
   "outputs": [],
   "source": [
    "%%px\n",
    "\n",
    "corrSum = np.zeros(corrLoc.shape[0],dtype='float32')\n",
    "r2Sum = np.zeros(r2Sum.shape[0],dtype='float32')\n",
    "\n",
    "corrF = np.zeros(corrLoc.shape[0],dtype='float32')\n",
    "r2F = np.zeros(r2Sum.shape[0],dtype='float32')\n",
    "\n",
    "corrApend = np.zeros(corrLoc.shape[0],dtype='float32')\n",
    "r2Apend = np.zeros(r2Sum.shape[0],dtype='float32')"
   ]
  },
  {
   "cell_type": "code",
   "execution_count": 50,
   "metadata": {
    "collapsed": false
   },
   "outputs": [
    {
     "name": "stdout",
     "output_type": "stream",
     "text": [
      "[stdout:6] \n",
      "(20,)\n",
      "(20,)\n"
     ]
    }
   ],
   "source": [
    "%%px\n",
    "\n",
    "if rank==0:\n",
    "    print(corrF.shape)\n",
    "    print(corrSum.shape)"
   ]
  },
  {
   "cell_type": "code",
   "execution_count": 51,
   "metadata": {
    "collapsed": false
   },
   "outputs": [],
   "source": [
    "%%px\n",
    "\n",
    "corrLoc=np.float32(corrLoc)\n",
    "comm.Reduce([corrLoc,MPI.REAL],[corrSum,MPI.REAL],op=MPI.SUM)\n",
    "np.copyto(corrF,corrSum)\n",
    "    \n",
    "corrApend[:] = corrF[:]"
   ]
  },
  {
   "cell_type": "code",
   "execution_count": 52,
   "metadata": {
    "collapsed": false
   },
   "outputs": [
    {
     "ename": "KeyboardInterrupt",
     "evalue": "",
     "output_type": "error",
     "traceback": [
      "\u001b[1;31m\u001b[0m",
      "\u001b[1;31mKeyboardInterrupt\u001b[0mTraceback (most recent call last)",
      "\u001b[1;32m<ipython-input-52-32d627f6e2bf>\u001b[0m in \u001b[0;36m<module>\u001b[1;34m()\u001b[0m\n\u001b[1;32m----> 1\u001b[1;33m \u001b[0mget_ipython\u001b[0m\u001b[1;33m(\u001b[0m\u001b[1;33m)\u001b[0m\u001b[1;33m.\u001b[0m\u001b[0mrun_cell_magic\u001b[0m\u001b[1;33m(\u001b[0m\u001b[1;34m'px'\u001b[0m\u001b[1;33m,\u001b[0m \u001b[1;34m''\u001b[0m\u001b[1;33m,\u001b[0m \u001b[1;34m'\\nr2Loc=np.float32(r2Loc)\\ncomm.Reduce([r2Loc,MPI.REAL],[r2Sum,MPI.REAL],op=MPI.SUM)\\nnp.copyto(r2F,r2Sum)\\n    \\nr2Apend[:] = r2F[:]\\n    \\nif rank==0:\\n    hist.append(corrApend[:])\\n    r2st.append(r2Apend[:])'\u001b[0m\u001b[1;33m)\u001b[0m\u001b[1;33m\u001b[0m\u001b[0m\n\u001b[0m",
      "\u001b[1;32m/home/idies/anaconda3/lib/python3.5/site-packages/IPython/core/interactiveshell.py\u001b[0m in \u001b[0;36mrun_cell_magic\u001b[1;34m(self, magic_name, line, cell)\u001b[0m\n\u001b[0;32m   2118\u001b[0m             \u001b[0mmagic_arg_s\u001b[0m \u001b[1;33m=\u001b[0m \u001b[0mself\u001b[0m\u001b[1;33m.\u001b[0m\u001b[0mvar_expand\u001b[0m\u001b[1;33m(\u001b[0m\u001b[0mline\u001b[0m\u001b[1;33m,\u001b[0m \u001b[0mstack_depth\u001b[0m\u001b[1;33m)\u001b[0m\u001b[1;33m\u001b[0m\u001b[0m\n\u001b[0;32m   2119\u001b[0m             \u001b[1;32mwith\u001b[0m \u001b[0mself\u001b[0m\u001b[1;33m.\u001b[0m\u001b[0mbuiltin_trap\u001b[0m\u001b[1;33m:\u001b[0m\u001b[1;33m\u001b[0m\u001b[0m\n\u001b[1;32m-> 2120\u001b[1;33m                 \u001b[0mresult\u001b[0m \u001b[1;33m=\u001b[0m \u001b[0mfn\u001b[0m\u001b[1;33m(\u001b[0m\u001b[0mmagic_arg_s\u001b[0m\u001b[1;33m,\u001b[0m \u001b[0mcell\u001b[0m\u001b[1;33m)\u001b[0m\u001b[1;33m\u001b[0m\u001b[0m\n\u001b[0m\u001b[0;32m   2121\u001b[0m             \u001b[1;32mreturn\u001b[0m \u001b[0mresult\u001b[0m\u001b[1;33m\u001b[0m\u001b[0m\n\u001b[0;32m   2122\u001b[0m \u001b[1;33m\u001b[0m\u001b[0m\n",
      "\u001b[1;32m/home/idies/anaconda3/lib/python3.5/site-packages/ipyparallel/client/magics.py\u001b[0m in \u001b[0;36mcell_px\u001b[1;34m(self, line, cell)\u001b[0m\n\u001b[0;32m    296\u001b[0m             ar = self.parallel_execute(cell, block=block,\n\u001b[0;32m    297\u001b[0m                                 \u001b[0mgroupby\u001b[0m\u001b[1;33m=\u001b[0m\u001b[0margs\u001b[0m\u001b[1;33m.\u001b[0m\u001b[0mgroupby\u001b[0m\u001b[1;33m,\u001b[0m\u001b[1;33m\u001b[0m\u001b[0m\n\u001b[1;32m--> 298\u001b[1;33m                                 \u001b[0msave_name\u001b[0m\u001b[1;33m=\u001b[0m\u001b[0margs\u001b[0m\u001b[1;33m.\u001b[0m\u001b[0msave_name\u001b[0m\u001b[1;33m,\u001b[0m\u001b[1;33m\u001b[0m\u001b[0m\n\u001b[0m\u001b[0;32m    299\u001b[0m             )\n\u001b[0;32m    300\u001b[0m         \u001b[1;32mfinally\u001b[0m\u001b[1;33m:\u001b[0m\u001b[1;33m\u001b[0m\u001b[0m\n",
      "\u001b[1;32m/home/idies/anaconda3/lib/python3.5/site-packages/ipyparallel/client/magics.py\u001b[0m in \u001b[0;36mparallel_execute\u001b[1;34m(self, cell, block, groupby, save_name)\u001b[0m\n\u001b[0;32m    258\u001b[0m \u001b[1;33m\u001b[0m\u001b[0m\n\u001b[0;32m    259\u001b[0m         \u001b[1;32mif\u001b[0m \u001b[0mblock\u001b[0m\u001b[1;33m:\u001b[0m\u001b[1;33m\u001b[0m\u001b[0m\n\u001b[1;32m--> 260\u001b[1;33m             \u001b[0mresult\u001b[0m\u001b[1;33m.\u001b[0m\u001b[0mget\u001b[0m\u001b[1;33m(\u001b[0m\u001b[1;33m)\u001b[0m\u001b[1;33m\u001b[0m\u001b[0m\n\u001b[0m\u001b[0;32m    261\u001b[0m             \u001b[0mresult\u001b[0m\u001b[1;33m.\u001b[0m\u001b[0mdisplay_outputs\u001b[0m\u001b[1;33m(\u001b[0m\u001b[0mgroupby\u001b[0m\u001b[1;33m)\u001b[0m\u001b[1;33m\u001b[0m\u001b[0m\n\u001b[0;32m    262\u001b[0m         \u001b[1;32melse\u001b[0m\u001b[1;33m:\u001b[0m\u001b[1;33m\u001b[0m\u001b[0m\n",
      "\u001b[1;32m/home/idies/anaconda3/lib/python3.5/site-packages/ipyparallel/client/asyncresult.py\u001b[0m in \u001b[0;36mget\u001b[1;34m(self, timeout)\u001b[0m\n\u001b[0;32m    158\u001b[0m         \"\"\"\n\u001b[0;32m    159\u001b[0m         \u001b[1;32mif\u001b[0m \u001b[1;32mnot\u001b[0m \u001b[0mself\u001b[0m\u001b[1;33m.\u001b[0m\u001b[0mready\u001b[0m\u001b[1;33m(\u001b[0m\u001b[1;33m)\u001b[0m\u001b[1;33m:\u001b[0m\u001b[1;33m\u001b[0m\u001b[0m\n\u001b[1;32m--> 160\u001b[1;33m             \u001b[0mself\u001b[0m\u001b[1;33m.\u001b[0m\u001b[0mwait\u001b[0m\u001b[1;33m(\u001b[0m\u001b[0mtimeout\u001b[0m\u001b[1;33m)\u001b[0m\u001b[1;33m\u001b[0m\u001b[0m\n\u001b[0m\u001b[0;32m    161\u001b[0m \u001b[1;33m\u001b[0m\u001b[0m\n\u001b[0;32m    162\u001b[0m         \u001b[1;32mif\u001b[0m \u001b[0mself\u001b[0m\u001b[1;33m.\u001b[0m\u001b[0m_ready\u001b[0m\u001b[1;33m:\u001b[0m\u001b[1;33m\u001b[0m\u001b[0m\n",
      "\u001b[1;32m/home/idies/anaconda3/lib/python3.5/site-packages/ipyparallel/client/asyncresult.py\u001b[0m in \u001b[0;36mwait\u001b[1;34m(self, timeout)\u001b[0m\n\u001b[0;32m    208\u001b[0m             \u001b[0mtimeout\u001b[0m \u001b[1;33m=\u001b[0m \u001b[1;32mNone\u001b[0m\u001b[1;33m\u001b[0m\u001b[0m\n\u001b[0;32m    209\u001b[0m \u001b[1;33m\u001b[0m\u001b[0m\n\u001b[1;32m--> 210\u001b[1;33m         \u001b[0mself\u001b[0m\u001b[1;33m.\u001b[0m\u001b[0m_ready_event\u001b[0m\u001b[1;33m.\u001b[0m\u001b[0mwait\u001b[0m\u001b[1;33m(\u001b[0m\u001b[0mtimeout\u001b[0m\u001b[1;33m)\u001b[0m\u001b[1;33m\u001b[0m\u001b[0m\n\u001b[0m\u001b[0;32m    211\u001b[0m         \u001b[0mself\u001b[0m\u001b[1;33m.\u001b[0m\u001b[0mwait_for_output\u001b[0m\u001b[1;33m(\u001b[0m\u001b[1;36m0\u001b[0m\u001b[1;33m)\u001b[0m\u001b[1;33m\u001b[0m\u001b[0m\n\u001b[0;32m    212\u001b[0m         \u001b[1;32mreturn\u001b[0m \u001b[0mself\u001b[0m\u001b[1;33m.\u001b[0m\u001b[0m_ready\u001b[0m\u001b[1;33m\u001b[0m\u001b[0m\n",
      "\u001b[1;32m/home/idies/anaconda3/lib/python3.5/threading.py\u001b[0m in \u001b[0;36mwait\u001b[1;34m(self, timeout)\u001b[0m\n\u001b[0;32m    547\u001b[0m             \u001b[0msignaled\u001b[0m \u001b[1;33m=\u001b[0m \u001b[0mself\u001b[0m\u001b[1;33m.\u001b[0m\u001b[0m_flag\u001b[0m\u001b[1;33m\u001b[0m\u001b[0m\n\u001b[0;32m    548\u001b[0m             \u001b[1;32mif\u001b[0m \u001b[1;32mnot\u001b[0m \u001b[0msignaled\u001b[0m\u001b[1;33m:\u001b[0m\u001b[1;33m\u001b[0m\u001b[0m\n\u001b[1;32m--> 549\u001b[1;33m                 \u001b[0msignaled\u001b[0m \u001b[1;33m=\u001b[0m \u001b[0mself\u001b[0m\u001b[1;33m.\u001b[0m\u001b[0m_cond\u001b[0m\u001b[1;33m.\u001b[0m\u001b[0mwait\u001b[0m\u001b[1;33m(\u001b[0m\u001b[0mtimeout\u001b[0m\u001b[1;33m)\u001b[0m\u001b[1;33m\u001b[0m\u001b[0m\n\u001b[0m\u001b[0;32m    550\u001b[0m             \u001b[1;32mreturn\u001b[0m \u001b[0msignaled\u001b[0m\u001b[1;33m\u001b[0m\u001b[0m\n\u001b[0;32m    551\u001b[0m \u001b[1;33m\u001b[0m\u001b[0m\n",
      "\u001b[1;32m/home/idies/anaconda3/lib/python3.5/threading.py\u001b[0m in \u001b[0;36mwait\u001b[1;34m(self, timeout)\u001b[0m\n\u001b[0;32m    291\u001b[0m         \u001b[1;32mtry\u001b[0m\u001b[1;33m:\u001b[0m    \u001b[1;31m# restore state no matter what (e.g., KeyboardInterrupt)\u001b[0m\u001b[1;33m\u001b[0m\u001b[0m\n\u001b[0;32m    292\u001b[0m             \u001b[1;32mif\u001b[0m \u001b[0mtimeout\u001b[0m \u001b[1;32mis\u001b[0m \u001b[1;32mNone\u001b[0m\u001b[1;33m:\u001b[0m\u001b[1;33m\u001b[0m\u001b[0m\n\u001b[1;32m--> 293\u001b[1;33m                 \u001b[0mwaiter\u001b[0m\u001b[1;33m.\u001b[0m\u001b[0macquire\u001b[0m\u001b[1;33m(\u001b[0m\u001b[1;33m)\u001b[0m\u001b[1;33m\u001b[0m\u001b[0m\n\u001b[0m\u001b[0;32m    294\u001b[0m                 \u001b[0mgotit\u001b[0m \u001b[1;33m=\u001b[0m \u001b[1;32mTrue\u001b[0m\u001b[1;33m\u001b[0m\u001b[0m\n\u001b[0;32m    295\u001b[0m             \u001b[1;32melse\u001b[0m\u001b[1;33m:\u001b[0m\u001b[1;33m\u001b[0m\u001b[0m\n",
      "\u001b[1;31mKeyboardInterrupt\u001b[0m: "
     ]
    }
   ],
   "source": [
    "%%px\n",
    "\n",
    "r2Loc=np.float32(r2Loc)\n",
    "comm.Reduce([r2Loc,MPI.REAL],[r2Sum,MPI.REAL],op=MPI.SUM)\n",
    "np.copyto(r2F,r2Sum)\n",
    "    \n",
    "r2Apend[:] = r2F[:]\n",
    "    \n",
    "if rank==0:\n",
    "    hist.append(corrApend[:])\n",
    "    r2st.append(r2Apend[:])"
   ]
  },
  {
   "cell_type": "code",
   "execution_count": 77,
   "metadata": {
    "collapsed": false
   },
   "outputs": [
    {
     "name": "stdout",
     "output_type": "stream",
     "text": [
      "[stdout:5] \n",
      "0.866025411912\n",
      "1.65831240511\n",
      "2.59807615984\n",
      "1.7320508075688772\n"
     ]
    }
   ],
   "source": [
    "%%px\n",
    "\n",
    "if rank==0:\n",
    "    print(r2rt[0,0,0]/dx)\n",
    "    print(r2rt[0,0,1]/dx)\n",
    "    print(r2rt[1,1,1]/dx)\n",
    "    print(3**0.5)"
   ]
  },
  {
   "cell_type": "code",
   "execution_count": 15,
   "metadata": {
    "collapsed": false
   },
   "outputs": [
    {
     "name": "stdout",
     "output_type": "stream",
     "text": [
      "[stdout:7] \n",
      "threshold used: 5.00 \n",
      "Creating the excursion set: 1.29 seconds\n",
      "Computing the 2-point correlation function: 49.32 seconds\n",
      "Cleaning all but the 1st octant: 0.00 seconds\n",
      "Integrating radially on each slab: 31.04 seconds\n",
      "Adding the results form different slabs: 0.00 seconds\n",
      "Full radial 2-point correlation calculation: 81.65 seconds\n",
      "\n"
     ]
    }
   ],
   "source": [
    "%%px \n",
    "\n",
    "hist = []\n",
    "r2st = []\n",
    "    \n",
    "#######################################\n",
    "\n",
    "comm.Barrier(); t1=MPI.Wtime()\n",
    "\n",
    "t = 5\n",
    "c = 'r'\n",
    "\n",
    "chi[:,:,:] = 0\n",
    "chi[w2 > t*avgOmega] = 1\n",
    "\n",
    "#######################################\n",
    "\n",
    "comm.Barrier(); t2=MPI.Wtime()\n",
    "cchi[:,:,:] = fft.forward3Dfft(chi,nx,ny,nz,nproc,rank)\n",
    "    \n",
    "tmp = cchi*(cchi.conj())\n",
    "corr[:,:,:] = fft.backward3Dfft(tmp,nx,ny,nz,nproc,rank)\n",
    "    \n",
    "#######################################\n",
    "    \n",
    "comm.Barrier(); t3=MPI.Wtime()\n",
    "        \n",
    "#######################################\n",
    "    \n",
    "comm.Barrier(); t4=MPI.Wtime()\n",
    "    \n",
    "corrLoc,redges = np.histogram(r2rt,range=(0.5*dx,(ner+0.5)*dx),bins = rbins,weights=corr)\n",
    "    \n",
    "r2Loc,r2edges = np.histogram(r2rt,range=(0.5*dx,(ner+0.5)*dx),bins = rbins)\n",
    "       \n",
    "#######################################\n",
    "    \n",
    "comm.Barrier(); t5=MPI.Wtime()\n",
    "    \n",
    "corrLoc=np.float32(corrLoc)\n",
    "comm.Reduce([corrLoc,MPI.REAL],[corrSum,MPI.REAL],op=MPI.SUM)\n",
    "np.copyto(corrF,corrSum)\n",
    "    \n",
    "corrApend=np.zeros(ner,dtype='float32') \n",
    "corrApend[:] = corrF[:]\n",
    "    \n",
    "#########################\n",
    "    \n",
    "r2Loc=np.float32(r2Loc)\n",
    "comm.Reduce([r2Loc,MPI.REAL],[r2Sum,MPI.REAL],op=MPI.SUM)\n",
    "np.copyto(r2F,r2Sum)\n",
    "    \n",
    "r2Apend=np.zeros(ner,dtype='float32') \n",
    "r2Apend[:] = r2F[:]\n",
    "    \n",
    "if rank==0:\n",
    "    hist.append(corrApend[:])\n",
    "    r2st.append(r2Apend[:])\n",
    "    \n",
    "#######################################\n",
    "    \n",
    "comm.Barrier(); t6=MPI.Wtime()\n",
    "    \n",
    "if rank==0:\n",
    "    sys.stdout.write('threshold used: {0:.2f} \\n'.format(t))\n",
    "    sys.stdout.write('Creating the excursion set: {0:.2f} seconds\\n'.format(t2-t1))\n",
    "    sys.stdout.write('Computing the 2-point correlation function: {0:.2f} seconds\\n'.format(t3-t2))\n",
    "    sys.stdout.write('Cleaning all but the 1st octant: {0:.2f} seconds\\n'.format(t4-t3))\n",
    "    sys.stdout.write('Integrating radially on each slab: {0:.2f} seconds\\n'.format(t5-t4))\n",
    "    sys.stdout.write('Adding the results form different slabs: {0:.2f} seconds\\n'.format(t6-t5))\n",
    "    sys.stdout.write('Full radial 2-point correlation calculation: {0:.2f} seconds\\n'.format(t6-t1))\n",
    "    sys.stdout.write('\\n')"
   ]
  },
  {
   "cell_type": "markdown",
   "metadata": {},
   "source": [
    "Finally, plotting the results:"
   ]
  },
  {
   "cell_type": "code",
   "execution_count": 70,
   "metadata": {
    "collapsed": false
   },
   "outputs": [
    {
     "data": {
      "text/plain": [
       "[output:5]"
      ]
     },
     "metadata": {},
     "output_type": "display_data"
    },
    {
     "data": {
      "image/png": "[encoded data removed]",
      "text/plain": [
       "<matplotlib.figure.Figure at 0x7f5c84aea6a0>"
      ]
     },
     "metadata": {
      "engine": 5
     },
     "output_type": "display_data"
    }
   ],
   "source": [
    "%%px\n",
    "%matplotlib inline\n",
    "\n",
    "eta = 0.00280\n",
    "\n",
    "if(rank==0):\n",
    "    matplotlib.rc('xtick', labelsize=20) \n",
    "    matplotlib.rc('ytick', labelsize=20) \n",
    "    \n",
    "    idx = r2st[0]>0\n",
    "    \n",
    "    rp=np.linspace(0.*dx,ner*dx,ner)\n",
    "    \n",
    "    lrp = rp[idx]\n",
    "    \n",
    "    tempRp = lrp[(lrp>0.1)&(lrp<1.0)]\n",
    "    plt.figure(figsize=(12,12))\n",
    "    plt.xlabel(r'$r/\\eta$', fontsize=20)\n",
    "    plt.ylabel(r'$\\frac{C(r)}{C(0)} = \\frac{1}{C(0)} \\int_{S^2} \\langle \\chi({\\bf x}) \\chi({\\bf x}+{\\bf r}) \\rangle d\\Omega$', fontsize=20)\n",
    "    plt.xlim([7*10**(-3)/eta,np.pi/eta])\n",
    "    #plt.ylim([10**(-1),10**0])   \n",
    "    \n",
    "    corrF1 = hist[0][idx]/r2st[0][idx]\n",
    "    tempCorrF = corrF1[(lrp>0.1)&(lrp<1.0)]\n",
    "        \n",
    "    ctmp = (corrF1[300])/(corrF1[0])\n",
    "        \n",
    "    #fit = np.polyfit(np.log(tempRp),np.log(tempCorrF/corrF1[0]),1)\n",
    "    #print(\"t = \"+str(t)+\"*sigma_2: Linear fit [alpha A] = \"+str(fit))\n",
    "        \n",
    "    plt.plot(lrp/eta,(corrF1)/(corrF1[0]),c,label=r'$\\omega^2 > '+str(t)\n",
    "                                               +r'\\langle \\omega^2\\rangle$'# and $\\omega^2 <'+ str(1.05*t)\n",
    "                                               #+r'\\langle \\omega^2\\rangle$\n",
    "                                               +r': $\\Gamma ='\n",
    "                                               +str(fit[0])+r'$')\n",
    "        \n",
    "    #plt.semilogx(lrp/eta,np.exp(fit[1])*(lrp**(fit[0])),'k--')\n",
    "    \n",
    "    #ticks = [3.5,5,7.5,10,15,20,25,30,35,42.5,50,60,75,100,125,150,175,215,250,300,350,425,500,600,750,875,1024]\n",
    "    #labels = [str(s) for s in ticks]\n",
    "    #plt.xticks(ticks,labels,rotation='vertical')\n",
    "    plt.grid()\n",
    "        \n",
    "    plt.legend(loc='lower left',prop={'size':16})"
   ]
  },
  {
   "cell_type": "code",
   "execution_count": 17,
   "metadata": {
    "collapsed": false
   },
   "outputs": [
    {
     "name": "stdout",
     "output_type": "stream",
     "text": [
      "[stdout:7] t = 5*sigma_2: Linear fit [alpha A] = [-0.36067237 -3.30415286]\n"
     ]
    },
    {
     "data": {
      "text/plain": [
       "[output:7]"
      ]
     },
     "metadata": {},
     "output_type": "display_data"
    },
    {
     "data": {
      "image/png": "[encoded data removed]",
      "text/plain": [
       "<matplotlib.figure.Figure at 0x7f071867bd68>"
      ]
     },
     "metadata": {
      "engine": 7
     },
     "output_type": "display_data"
    }
   ],
   "source": [
    "%%px\n",
    "%matplotlib inline\n",
    "\n",
    "eta = 0.00280\n",
    "\n",
    "if(rank==0):\n",
    "    matplotlib.rc('xtick', labelsize=20) \n",
    "    matplotlib.rc('ytick', labelsize=20) \n",
    "    \n",
    "    idx = r2st[0]>0\n",
    "    \n",
    "    rp=np.linspace(1*dx,ner*dx,ner)\n",
    "    \n",
    "    lrp = rp[idx]\n",
    "    \n",
    "    tempRp = lrp[(lrp>0.1)&(lrp<1.0)]\n",
    "    plt.figure(figsize=(12,12))\n",
    "    plt.xlabel(r'$r/\\eta$', fontsize=20)\n",
    "    plt.ylabel(r'$\\frac{C(r)}{C(0)} = \\frac{1}{C(0)} \\int_{S^2} \\langle \\chi({\\bf x}) \\chi({\\bf x}+{\\bf r}) \\rangle d\\Omega$', fontsize=20)\n",
    "    plt.xlim([7*10**(-3)/eta,np.pi/eta])\n",
    "    #plt.ylim([10**(-1),10**0])   \n",
    "    \n",
    "    corrF1 = hist[0][idx]/r2st[0][idx]\n",
    "    tempCorrF = corrF1[(lrp>0.1)&(lrp<1.0)]\n",
    "        \n",
    "    ctmp = (corrF1[300])/(corrF1[0])\n",
    "        \n",
    "    fit = np.polyfit(np.log(tempRp),np.log(tempCorrF/corrF1[0]),1)\n",
    "    print(\"t = \"+str(t)+\"*sigma_2: Linear fit [alpha A] = \"+str(fit))\n",
    "        \n",
    "    plt.loglog(lrp/eta,(corrF1)/(corrF1[0]),c,label=r'$\\omega^2 > '+str(t)\n",
    "                                               +r'\\langle \\omega^2\\rangle$'# and $\\omega^2 <'+ str(1.05*t)\n",
    "                                               #+r'\\langle \\omega^2\\rangle$\n",
    "                                               +r': $\\Gamma ='\n",
    "                                               +str(fit[0])+r'$')\n",
    "        \n",
    "    plt.loglog(lrp/eta,np.exp(fit[1])*(lrp**(fit[0])),'k--')\n",
    "    \n",
    "    ticks = [3.5,5,7.5,10,15,20,25,30,35,42.5,50,60,75,100,125,150,175,215,250,300,350,425,500,600,750,875,1024]\n",
    "    labels = [str(s) for s in ticks]\n",
    "    plt.xticks(ticks,labels,rotation='vertical')\n",
    "    plt.grid()\n",
    "        \n",
    "    plt.legend(loc='lower left',prop={'size':16})"
   ]
  },
  {
   "cell_type": "code",
   "execution_count": 17,
   "metadata": {
    "collapsed": false
   },
   "outputs": [
    {
     "name": "stdout",
     "output_type": "stream",
     "text": [
      "[stdout:2] t = 1*sigma_2: Linear fit [alpha A] = [-0.05482918 -2.11826068]\n"
     ]
    },
    {
     "data": {
      "text/plain": [
       "[output:2]"
      ]
     },
     "metadata": {},
     "output_type": "display_data"
    },
    {
     "data": {
      "image/png": "[encoded data removed]",
      "text/plain": [
       "<matplotlib.figure.Figure at 0x7f5b1d6b19e8>"
      ]
     },
     "metadata": {
      "engine": 2
     },
     "output_type": "display_data"
    }
   ],
   "source": [
    "%%px\n",
    "%matplotlib inline\n",
    "\n",
    "eta = 0.00280\n",
    "\n",
    "if(rank==0):\n",
    "    matplotlib.rc('xtick', labelsize=20) \n",
    "    matplotlib.rc('ytick', labelsize=20) \n",
    "    \n",
    "    idx = r2st[0]>0\n",
    "    \n",
    "    rp=np.linspace(1*dx,ner*dx,ner)\n",
    "    \n",
    "    lrp = rp[idx]\n",
    "    \n",
    "    tempRp = lrp[(lrp>0.1)&(lrp<1.0)]\n",
    "    plt.figure(figsize=(12,12))\n",
    "    plt.xlabel(r'$r$', fontsize=20)\n",
    "    plt.ylabel(r'$\\frac{C(r)}{C(0)} = \\frac{1}{C(0)} \\int_{S^2} \\langle \\chi({\\bf x}) \\chi({\\bf x}+{\\bf r}) \\rangle d\\Omega$', fontsize=20)\n",
    "    plt.xlim([7*10**(-3),np.pi])\n",
    "    #plt.ylim([10**(-2),2*10**0])\n",
    "    \n",
    "    corrF1 = hist[0][idx]/r2st[0][idx]\n",
    "    tempCorrF = corrF1[(lrp>0.1)&(lrp<1.0)]\n",
    "        \n",
    "    ctmp = (corrF1[300])/(corrF1[0])\n",
    "        \n",
    "    fit = np.polyfit(np.log(tempRp),np.log(tempCorrF/corrF1[0]),1)\n",
    "    print(\"t = \"+str(t)+\"*sigma_2: Linear fit [alpha A] = \"+str(fit))\n",
    "        \n",
    "    plt.loglog(lrp,(corrF1)/(corrF1[0]),c,label=r'$\\omega^2 > '+str(t)\n",
    "                                             +r'\\langle \\omega^2\\rangle$ : $\\alpha ='\n",
    "                                             +str(fit[0])+r'$')\n",
    "        \n",
    "    plt.loglog(lrp,np.exp(fit[1])*(lrp**(fit[0])),'k--')\n",
    "    \n",
    "    plt.grid()\n",
    "        \n",
    "    plt.legend(loc='lower left',prop={'size':16})"
   ]
  },
  {
   "cell_type": "code",
   "execution_count": null,
   "metadata": {
    "collapsed": true
   },
   "outputs": [],
   "source": []
  }
 ],
 "metadata": {
  "kernelspec": {
   "display_name": "Python 3",
   "language": "python",
   "name": "python3"
  },
  "language_info": {
   "codemirror_mode": {
    "name": "ipython",
    "version": 3
   },
   "file_extension": ".py",
   "mimetype": "text/x-python",
   "name": "python",
   "nbconvert_exporter": "python",
   "pygments_lexer": "ipython3",
   "version": "3.5.2"
  }
 },
 "nbformat": 4,
 "nbformat_minor": 0
}
