{
 "cells": [
  {
   "cell_type": "code",
   "execution_count": 1,
   "metadata": {
    "collapsed": false
   },
   "outputs": [
    {
     "data": {
      "text/plain": [
       "{}"
      ]
     },
     "execution_count": 1,
     "metadata": {},
     "output_type": "execute_result"
    }
   ],
   "source": [
    "import numpy.distutils.system_info as sysinfo\n",
    "sysinfo.get_info('atlas')"
   ]
  },
  {
   "cell_type": "code",
   "execution_count": 4,
   "metadata": {
    "collapsed": false
   },
   "outputs": [
    {
     "name": "stdout",
     "output_type": "stream",
     "text": [
      "openblas_lapack_info:\n",
      "  NOT AVAILABLE\n",
      "blas_opt_info:\n",
      "    define_macros = [('SCIPY_MKL_H', None), ('HAVE_CBLAS', None)]\n",
      "    libraries = ['mkl_intel_lp64', 'mkl_intel_thread', 'mkl_core', 'iomp5', 'pthread']\n",
      "    library_dirs = ['/home/idies/anaconda3/lib']\n",
      "    include_dirs = ['/home/idies/anaconda3/include']\n",
      "blas_mkl_info:\n",
      "    define_macros = [('SCIPY_MKL_H', None), ('HAVE_CBLAS', None)]\n",
      "    libraries = ['mkl_intel_lp64', 'mkl_intel_thread', 'mkl_core', 'iomp5', 'pthread']\n",
      "    library_dirs = ['/home/idies/anaconda3/lib']\n",
      "    include_dirs = ['/home/idies/anaconda3/include']\n",
      "lapack_mkl_info:\n",
      "    define_macros = [('SCIPY_MKL_H', None), ('HAVE_CBLAS', None)]\n",
      "    libraries = ['mkl_lapack95_lp64', 'mkl_intel_lp64', 'mkl_intel_thread', 'mkl_core', 'iomp5', 'pthread']\n",
      "    library_dirs = ['/home/idies/anaconda3/lib']\n",
      "    include_dirs = ['/home/idies/anaconda3/include']\n",
      "mkl_info:\n",
      "    define_macros = [('SCIPY_MKL_H', None), ('HAVE_CBLAS', None)]\n",
      "    libraries = ['mkl_intel_lp64', 'mkl_intel_thread', 'mkl_core', 'iomp5', 'pthread']\n",
      "    library_dirs = ['/home/idies/anaconda3/lib']\n",
      "    include_dirs = ['/home/idies/anaconda3/include']\n",
      "lapack_opt_info:\n",
      "    define_macros = [('SCIPY_MKL_H', None), ('HAVE_CBLAS', None)]\n",
      "    libraries = ['mkl_lapack95_lp64', 'mkl_intel_lp64', 'mkl_intel_thread', 'mkl_core', 'iomp5', 'pthread']\n",
      "    library_dirs = ['/home/idies/anaconda3/lib']\n",
      "    include_dirs = ['/home/idies/anaconda3/include']\n"
     ]
    }
   ],
   "source": [
    "import numpy as np\n",
    "\n",
    "np.__config__.show()"
   ]
  }
 ],
 "metadata": {
  "kernelspec": {
   "display_name": "Python 3",
   "language": "python",
   "name": "python3"
  },
  "language_info": {
   "codemirror_mode": {
    "name": "ipython",
    "version": 3
   },
   "file_extension": ".py",
   "mimetype": "text/x-python",
   "name": "python",
   "nbconvert_exporter": "python",
   "pygments_lexer": "ipython3",
   "version": "3.5.2"
  }
 },
 "nbformat": 4,
 "nbformat_minor": 0
}
