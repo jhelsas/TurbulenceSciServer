{
 "cells": [
  {
   "cell_type": "code",
   "execution_count": 5,
   "metadata": {
    "collapsed": true
   },
   "outputs": [],
   "source": [
    "import os\n",
    "import sys\n",
    "import math\n",
    "import time\n",
    "import numpy as np\n",
    "import pyfftw as ft \n",
    "from mpi4py import MPI\n",
    "import matplotlib\n",
    "import matplotlib.pyplot as plt\n",
    "import pyJHTDB\n",
    "from pyJHTDB.dbinfo import isotropic1024coarse\n",
    "from pyJHTDB import libJHTDB"
   ]
  },
  {
   "cell_type": "code",
   "execution_count": 6,
   "metadata": {
    "collapsed": false
   },
   "outputs": [],
   "source": [
    "Nx = isotropic1024coarse['nx']\n",
    "Ny = isotropic1024coarse['ny']\n",
    "Nz = isotropic1024coarse['nz']\n",
    "Lx = isotropic1024coarse['lx']\n",
    "Ly = isotropic1024coarse['ly']\n",
    "Lz = isotropic1024coarse['lz']\n",
    "\n",
    "nproc = 1\n",
    "rank = 0\n",
    "nx=Nx//nproc\n",
    "ny=Ny\n",
    "nz=Nz\n",
    "nz_half=nz//2\n",
    "nek=int(math.sqrt(2.0)/3*Nx)\n",
    "t = 0.0\n",
    "\n",
    "chkSz = 32\n",
    "slabs = nx//chkSz"
   ]
  },
  {
   "cell_type": "code",
   "execution_count": null,
   "metadata": {
    "collapsed": false
   },
   "outputs": [],
   "source": [
    "begin = time.time()\n",
    "\n",
    "from DataDownload import DataDownload\n",
    "\n",
    "auth_token = \"com.gmail.jhelsas-b854269a\"\n",
    "\n",
    "folder = \"/home/jhelsas/scratch\"\n",
    "filename = \"ref-isotropic1024coarse-\"+str(rank)+\"-(t=\"+str(time)+\")\"+\".npz\"\n",
    "filet = folder + \"/\" + filename\n",
    "\n",
    "ddwnld = DataDownload()\n",
    "vx,vy,vz = ddwnld.DownldData_pyJHTDB('isotropic1024coarse',t,nx,ny,nz,nproc,rank,auth_token)\n",
    "\n",
    "np.savez(filet,vx=vx,vy=vy,vz=vz,nproc=nproc)\n",
    "\n",
    "end = time.time()"
   ]
  }
 ],
 "metadata": {
  "kernelspec": {
   "display_name": "Python 2",
   "language": "python",
   "name": "python2"
  },
  "language_info": {
   "codemirror_mode": {
    "name": "ipython",
    "version": 2
   },
   "file_extension": ".py",
   "mimetype": "text/x-python",
   "name": "python",
   "nbconvert_exporter": "python",
   "pygments_lexer": "ipython2",
   "version": "2.7.11"
  }
 },
 "nbformat": 4,
 "nbformat_minor": 0
}
