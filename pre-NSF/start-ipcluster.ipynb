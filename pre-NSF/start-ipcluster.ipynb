{
 "cells": [
  {
   "cell_type": "code",
   "execution_count": null,
   "metadata": {
    "collapsed": false
   },
   "outputs": [
    {
     "name": "stdout",
     "output_type": "stream",
     "text": [
      "2017-01-11 20:09:29.880 [IPClusterStart] Removing pid file: /home/idies/.ipython/profile_mpi/pid/ipcluster.pid\n",
      "2017-01-11 20:09:29.881 [IPClusterStart] Starting ipcluster with [daemon=False]\n",
      "2017-01-11 20:09:29.882 [IPClusterStart] Creating pid file: /home/idies/.ipython/profile_mpi/pid/ipcluster.pid\n",
      "2017-01-11 20:09:29.883 [IPClusterStart] Starting Controller with LocalControllerLauncher\n",
      "2017-01-11 20:09:30.893 [IPClusterStart] Starting 8 Engines with MPI\n",
      "2017-01-11 20:10:00.914 [IPClusterStart] Engines appear to have started successfully\n"
     ]
    }
   ],
   "source": [
    "!ipcluster start -n 8 --engines=MPI --profile='mpi' # for parallel run: start the engines using terminal"
   ]
  }
 ],
 "metadata": {
  "kernelspec": {
   "display_name": "Python 3",
   "language": "python",
   "name": "python3"
  },
  "language_info": {
   "codemirror_mode": {
    "name": "ipython",
    "version": 3
   },
   "file_extension": ".py",
   "mimetype": "text/x-python",
   "name": "python",
   "nbconvert_exporter": "python",
   "pygments_lexer": "ipython3",
   "version": "3.5.2"
  }
 },
 "nbformat": 4,
 "nbformat_minor": 0
}
