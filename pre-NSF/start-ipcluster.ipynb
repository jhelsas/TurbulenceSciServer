{
 "cells": [
  {
   "cell_type": "code",
   "execution_count": 1,
   "metadata": {
    "collapsed": false
   },
   "outputs": [
    {
     "name": "stdout",
     "output_type": "stream",
     "text": [
      "2017-02-01 14:30:47.655 [IPClusterStart] Removing pid file: /home/idies/.ipython/profile_mpi/pid/ipcluster.pid\n",
      "2017-02-01 14:30:47.656 [IPClusterStart] Starting ipcluster with [daemon=False]\n",
      "2017-02-01 14:30:47.659 [IPClusterStart] Creating pid file: /home/idies/.ipython/profile_mpi/pid/ipcluster.pid\n",
      "2017-02-01 14:30:47.660 [IPClusterStart] Starting Controller with LocalControllerLauncher\n",
      "2017-02-01 14:30:48.677 [IPClusterStart] Starting 8 Engines with MPI\n",
      "2017-02-01 14:31:18.687 [IPClusterStart] Engines appear to have started successfully\n",
      "^C2017-02-01 14:52:59.680 [IPClusterStart] ERROR | IPython cluster: stopping\n",
      "2017-02-01 14:52:59.681 [IPClusterStart] Stopping Engines...\n",
      "\n"
     ]
    }
   ],
   "source": [
    "!ipcluster start -n 8 --engines=MPI --profile='mpi' # for parallel run: start the engines using terminal"
   ]
  },
  {
   "cell_type": "code",
   "execution_count": null,
   "metadata": {
    "collapsed": true
   },
   "outputs": [],
   "source": []
  }
 ],
 "metadata": {
  "kernelspec": {
   "display_name": "Python 3",
   "language": "python",
   "name": "python3"
  },
  "language_info": {
   "codemirror_mode": {
    "name": "ipython",
    "version": 3
   },
   "file_extension": ".py",
   "mimetype": "text/x-python",
   "name": "python",
   "nbconvert_exporter": "python",
   "pygments_lexer": "ipython3",
   "version": "3.5.2"
  }
 },
 "nbformat": 4,
 "nbformat_minor": 0
}
