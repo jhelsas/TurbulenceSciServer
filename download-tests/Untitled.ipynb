{
 "cells": [
  {
   "cell_type": "code",
   "execution_count": 20,
   "metadata": {
    "collapsed": true
   },
   "outputs": [],
   "source": [
    "from __future__ import division\n",
    "import h5py\n",
    "import struct\n",
    "import ctypes\n",
    "import pymorton as pm\n",
    "from numpy import array"
   ]
  },
  {
   "cell_type": "code",
   "execution_count": 21,
   "metadata": {
    "collapsed": false
   },
   "outputs": [
    {
     "data": {
      "text/plain": [
       "['DIVISORS',\n",
       " '_',\n",
       " '__builtins__',\n",
       " '__doc__',\n",
       " '__file__',\n",
       " '__name__',\n",
       " '__package__',\n",
       " '__part1by1',\n",
       " '__part1by2',\n",
       " '__path__',\n",
       " '__unpart1by1',\n",
       " '__unpart1by2',\n",
       " 'deinterleave2',\n",
       " 'deinterleave3',\n",
       " 'deinterleave_latlng',\n",
       " 'divisor',\n",
       " 'interleave',\n",
       " 'interleave2',\n",
       " 'interleave3',\n",
       " 'interleave_latlng']"
      ]
     },
     "execution_count": 21,
     "metadata": {},
     "output_type": "execute_result"
    }
   ],
   "source": [
    "dir(pymorton)"
   ]
  },
  {
   "cell_type": "code",
   "execution_count": 24,
   "metadata": {
    "collapsed": true
   },
   "outputs": [],
   "source": [
    "N = 1024\n",
    "zmin = pm.interleave3(N//2-1,0,0)\n",
    "zmax = pm.interleave3(N-1,N//2-1,N//2-1)"
   ]
  },
  {
   "cell_type": "code",
   "execution_count": 25,
   "metadata": {
    "collapsed": false
   },
   "outputs": [
    {
     "name": "stdout",
     "output_type": "stream",
     "text": [
      "(19173961, 268435455)\n",
      "((511, 0, 0), (1023, 511, 511))\n"
     ]
    }
   ],
   "source": [
    "print(zmin,zmax)\n",
    "print(pm.deinterleave3(zmin),pm.deinterleave3(zmax))"
   ]
  },
  {
   "cell_type": "code",
   "execution_count": null,
   "metadata": {
    "collapsed": true
   },
   "outputs": [],
   "source": [
    "\n",
    "\n",
    "def getblob(x, y, z, blobsize, h5file):\n",
    "    #definition used to grab a blob in xyz order.\n",
    "    u = h5file[\"U\"][x:x+blobsize,y:y+blobsize,z:z+blobsize]\n",
    "    v = h5file[\"V\"][x:x+blobsize,y:y+blobsize,z:z+blobsize]\n",
    "    w = h5file[\"W\"][x:x+blobsize,y:y+blobsize,z:z+blobsize]\n",
    "    buffer = ctypes.create_string_buffer(6144) #hardcoded for speed\n",
    "    index = 0\n",
    "    offset = 0\n",
    "    #print (\"First val is: \" + str(u[0,0,0]))\n",
    "    for k in range(0, blobsize):\n",
    "        for j in range(0, blobsize):\n",
    "            for i in range (0, blobsize):\n",
    "                #import pdb;pdb.set_trace()\n",
    "                struct.pack_into('f'*3, buffer, offset,u[k,j,i],v[k,j,i],w[k,j,i])\n",
    "                offset = offset + 12\n",
    "    return buffer\n",
    "#Test it out!\n",
    "\n",
    "h5file = h5py.File(\"outpen/OUTPEN_04.h5\") #Open for read only\n",
    "blobsize = 8\n",
    "#blob = getblob(0,0,0,blobsize, h5file)\n",
    "\n",
    "f = open('iso4096-102.bin', 'wb+')\n",
    "zblob = blobsize * blobsize * blobsize\n",
    "#interleave(x,y,z)\n",
    "zmax = pymorton.interleave3(1023,511,511)\n",
    "zmin = pymorton.interleave3(512,0,0)\n",
    "for zindex in range(zmin,zmax, zblob):\n",
    "    print (\"zindex = \" + str(zindex))\n",
    "    #print (\"coord = \" + str(pymorton.deinterleave3(zindex)))\n",
    "    coord = pymorton.deinterleave3(zindex)\n",
    "    blob = getblob(coord[2], coord[1], coord[0], blobsize, h5file)\n",
    "    f.write(blob)\n",
    "    #import pdb;pdb.set_trace()\n",
    "\n",
    "f.close()\n"
   ]
  },
  {
   "cell_type": "code",
   "execution_count": null,
   "metadata": {
    "collapsed": true
   },
   "outputs": [],
   "source": []
  }
 ],
 "metadata": {
  "kernelspec": {
   "display_name": "Python 2",
   "language": "python",
   "name": "python2"
  },
  "language_info": {
   "codemirror_mode": {
    "name": "ipython",
    "version": 2
   },
   "file_extension": ".py",
   "mimetype": "text/x-python",
   "name": "python",
   "nbconvert_exporter": "python",
   "pygments_lexer": "ipython2",
   "version": "2.7.11"
  }
 },
 "nbformat": 4,
 "nbformat_minor": 2
}
