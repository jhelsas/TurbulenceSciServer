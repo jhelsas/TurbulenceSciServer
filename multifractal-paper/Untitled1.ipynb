{
 "cells": [
  {
   "cell_type": "code",
   "execution_count": 2,
   "metadata": {
    "collapsed": true
   },
   "outputs": [],
   "source": [
    "import matplotlib\n",
    "import matplotlib.pyplot as plt\n",
    "import numpy as np"
   ]
  },
  {
   "cell_type": "code",
   "execution_count": null,
   "metadata": {
    "collapsed": true
   },
   "outputs": [],
   "source": [
    "content = np.load('')"
   ]
  },
  {
   "cell_type": "code",
   "execution_count": null,
   "metadata": {
    "collapsed": true
   },
   "outputs": [],
   "source": [
    "fig = plt.figure(figsize=(12,12))\n",
    "\n",
    "plt.title(r'$D(\\chi_\\omega,\\chi_\\epsilon)$',size=20)\n",
    "plt.ylabel(r'$\\log_{10}{( S^2/\\langle S^2\\rangle)}$',size=20)\n",
    "plt.xlabel(r'$\\log_{10}{( (\\omega^2/2)/\\langle S^2\\rangle)}$',size=20)\n",
    "\n",
    "plt.xlim([-7.,3.])\n",
    "plt.ylim([-7.,3.])\n",
    "\n",
    "ticks = [-7,-6,-5,-4,-3,-2,-1,0,1,2,3]\n",
    "plt.xticks(ticks)\n",
    "plt.yticks(ticks)\n",
    "\n",
    "plt.grid()\n",
    "\n",
    "bmin = np.log(np.sqrt(tl[0]*tl[1])/avg)/np.log(10)\n",
    "bmax = np.log(np.sqrt(tl[E_bins-2]*tl[E_bins-1])/avg)/np.log(10) \n",
    "cax = plt.imshow(pfiits,interpolation='None',extent=(bmin,bmax,bmin,bmax),origin='top',aspect='equal',vmin=0.,vmax=3.)\n",
    "\n",
    "cbar = fig.colorbar(cax,fraction=0.046, pad=0.04)\n",
    "plt.savefig('joint-dimension-computation.pdf', format='pdf')"
   ]
  }
 ],
 "metadata": {
  "kernelspec": {
   "display_name": "Python 2",
   "language": "python",
   "name": "python2"
  },
  "language_info": {
   "codemirror_mode": {
    "name": "ipython",
    "version": 2
   },
   "file_extension": ".py",
   "mimetype": "text/x-python",
   "name": "python",
   "nbconvert_exporter": "python",
   "pygments_lexer": "ipython2",
   "version": "2.7.13"
  }
 },
 "nbformat": 4,
 "nbformat_minor": 2
}
