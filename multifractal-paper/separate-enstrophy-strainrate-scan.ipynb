{
 "cells": [
  {
   "cell_type": "code",
   "execution_count": 1,
   "metadata": {
    "collapsed": true
   },
   "outputs": [],
   "source": [
    "import os\n",
    "import time\n",
    "import h5py\n",
    "import numpy as np\n",
    "import pyfftw as ft\n",
    "import matplotlib\n",
    "import matplotlib.pyplot as plt\n",
    "import pyJHTDB\n",
    "from pyJHTDB.dbinfo import isotropic1024coarse\n",
    "from pyJHTDB import libJHTDB"
   ]
  },
  {
   "cell_type": "code",
   "execution_count": 2,
   "metadata": {
    "collapsed": true
   },
   "outputs": [],
   "source": [
    "N = 1024"
   ]
  },
  {
   "cell_type": "code",
   "execution_count": 3,
   "metadata": {
    "collapsed": true
   },
   "outputs": [],
   "source": [
    "wiz = (b'(fftw-3.3.4 fftw_wisdom #x41ad5c95 #x159437f1 #x23fdee71 #xc6cf4464\\n)\\n', b'(fftw-3.3.4 fftwf_wisdom #xa84d9475 #xdb220970 #x4aa6f1c4 #xf3163254\\n  (fftwf_rdft2_thr_vrank_geq1_register 0 #x10bdd #x10bdd #x0 #x0478d9e6 #xffc458b2 #xefeba0c5 #xe8fb2e05)\\n  (fftwf_dft_buffered_register 1 #x11bdd #x11bdd #x0 #xb6380734 #x8d827d8e #xdc067a28 #x4fc763de)\\n  (fftwf_rdft_rank0_register 4 #x10bdd #x10bdd #x0 #xf3c0402e #xf303d9aa #xbdc22798 #xd9510af9)\\n  (fftwf_rdft2_rank_geq2_register 0 #x11bdd #x11bdd #x0 #xe0177557 #xe9f32997 #xfb2dcb2c #xf8f70860)\\n  (fftwf_dft_buffered_register 0 #x10bdd #x10bdd #x0 #x3eeb1978 #x428183dc #x2a84fbfa #xe4361ea0)\\n  (fftwf_codelet_hc2cb_8 0 #x10bdd #x10bdd #x0 #x48259488 #x196c8c29 #x37f91b06 #x556264da)\\n  (fftwf_rdft2_rank_geq2_register 0 #x10bdd #x10bdd #x0 #xb27d35ea #xa96ba975 #x4796bd74 #xae50e653)\\n  (fftwf_dft_vrank_geq1_register 0 #x10fdd #x10fdd #x0 #x68ff47a8 #x21bb9e5b #xa20dc9bd #xd2485c0c)\\n  (fftwf_codelet_r2cb_8 2 #x10bdd #x10bdd #x0 #x669a3813 #x9ba2bb21 #x64e8656d #x87c9de00)\\n  (fftwf_dft_indirect_register 0 #x10bdd #x10bdd #x0 #x9c0e3f58 #x928ea026 #xd28229a3 #x7246e0ac)\\n  (fftwf_codelet_q1_4 0 #x10fdd #x10fdd #x0 #xee87b2d5 #x3e497607 #xfff1907f #xf9579a39)\\n  (fftwf_dft_vrank_geq1_register 0 #x10fdd #x10fdd #x0 #x8676a7b7 #xe006c70d #x487b0278 #xb2f8f002)\\n  (fftwf_rdft2_rank_geq2_register 0 #x10bdd #x10bdd #x0 #xb8bedcad #x45a4525b #xc44e4385 #xa637a3a4)\\n  (fftwf_codelet_r2cf_8 2 #x11bdd #x11bdd #x0 #x675249aa #x037557b8 #x14643a4b #x9ea626ef)\\n  (fftwf_dft_r2hc_register 0 #x10bdd #x10bdd #x0 #x33c540f7 #x7207139c #x75ca3a4c #x748bc1b6)\\n  (fftwf_dft_vrank_geq1_register 0 #x10bdd #x10bdd #x0 #xf6843763 #xe67a42c5 #x37896514 #x1934a686)\\n  (fftwf_rdft_rank0_register 3 #x10bdd #x10bdd #x0 #x91607aa1 #xd40dae11 #x01dbbb42 #x733d3911)\\n  (fftwf_codelet_t1_4 0 #x10fdd #x10fdd #x0 #x1e5fa302 #x4dca4b4b #x68854fe7 #x57f745da)\\n  (fftwf_dft_r2hc_register 0 #x11bdd #x11bdd #x0 #x129e3b9a #xbe5c8c09 #x84314e36 #x92c09d6d)\\n  (fftwf_rdft2_vrank_geq1_register 0 #x10bdd #x10bdd #x0 #x1a3fc773 #x16826a6d #x4ac1ba9b #x71705541)\\n  (fftwf_codelet_r2cfII_8 2 #x11bdd #x11bdd #x0 #xc7a8d0be #x7798b669 #x9437b479 #x2ba791fc)\\n  (fftwf_dft_nop_register 0 #x11bdd #x11bdd #x0 #x2ca97a7c #x1278c07a #x4b274fea #x63afcfcd)\\n  (fftwf_rdft_vrank_geq1_register 0 #x10bdd #x10bdd #x0 #x2b2a182d #x1a4f0eb8 #x4051bfc8 #x50ede16d)\\n  (fftwf_dft_vrank_geq1_register 0 #x10fdd #x10fdd #x0 #x09558463 #xdea41841 #xf014e84a #x343a12e5)\\n  (fftwf_dft_buffered_register 0 #x11bdd #x11bdd #x0 #xf6040783 #x4ecac406 #x61d1e470 #xc372144f)\\n  (fftwf_dft_r2hc_register 0 #x10bdd #x10bdd #x0 #x37c7ab24 #x6b6a7433 #xbb43af76 #x9bd7720f)\\n  (fftwf_codelet_t1_16 0 #x10bdd #x10bdd #x0 #xcd08c9cd #xac2dabe6 #x0a6d47c5 #x5b07814f)\\n  (fftwf_dft_nop_register 0 #x10bdd #x10bdd #x0 #xd84e4956 #xbbda597c #x4dcc8ca2 #x8135f48a)\\n  (fftwf_dft_nop_register 0 #x11bdd #x11bdd #x0 #xb5f6482a #x970cff75 #xad1e3938 #x526a74d7)\\n  (fftwf_dft_r2hc_register 0 #x10bdd #x10bdd #x0 #x54bf9035 #xa469d859 #x8c3af79c #xaabf7edf)\\n  (fftwf_codelet_t1_16 0 #x10bdd #x10bdd #x0 #xbf8f2281 #x53d808d5 #x34ab52eb #x747f8bf4)\\n  (fftwf_dft_nop_register 0 #x10bdd #x10bdd #x0 #x4c6eda6a #xd64bb98a #xdeff4d47 #xbd9bc277)\\n  (fftwf_rdft_rank0_register 2 #x11bdd #x11bdd #x0 #x104e8159 #x92ac0177 #x0f50339e #x2c4a57af)\\n  (fftwf_codelet_t1_4 0 #x10fdd #x10fdd #x0 #x914f085b #x7945eab1 #xb24b3509 #x41ff886a)\\n  (fftwf_dft_buffered_register 1 #x10bdd #x10bdd #x0 #x7cf6cc98 #x1860681d #x04f92f92 #x64e3787b)\\n  (fftwf_codelet_n1_64 0 #x10fdd #x10fdd #x0 #x2d58151a #x7bf279ac #xd05075c9 #x05025c02)\\n  (fftwf_codelet_hc2cf_8 0 #x11bdd #x11bdd #x0 #xa3aa3245 #xfa89ad84 #x6f51d136 #x21269ea8)\\n  (fftwf_codelet_q1_4 0 #x10fdd #x10fdd #x0 #x6e3f6b00 #xc631065b #xc5ce0991 #xc9e5830a)\\n  (fftwf_rdft2_thr_vrank_geq1_register 0 #x11bdd #x11bdd #x0 #x245908be #x1b45c309 #xfa989829 #xe3448ecb)\\n  (fftwf_dft_thr_vrank_geq1_register 0 #x11bdd #x11bdd #x0 #xce1da3b2 #xb156b9ff #x345deb46 #x24967a68)\\n  (fftwf_codelet_n1_64 0 #x10bdd #x10bdd #x0 #xbf36f96d #xc5099024 #xab4588dd #x0f71c101)\\n  (fftwf_dft_vrank_geq1_register 0 #x11bdd #x11bdd #x0 #xca4b9bb9 #x447b7ee5 #xbb98516b #x49ee082c)\\n  (fftwf_rdft_vrank_geq1_register 0 #x11bdd #x11bdd #x0 #x2fdf6c57 #xa3a423cb #x3c83b16e #xd62995da)\\n  (fftwf_dft_indirect_register 0 #x10bdd #x10bdd #x0 #x938d7e18 #x1343c0de #xbe03a120 #x64e734a9)\\n  (fftwf_codelet_n1_64 0 #x10fdd #x10fdd #x0 #xee00c037 #x8d699089 #xad7ad6a0 #x4efaaf7d)\\n  (fftwf_dft_vrank_geq1_register 0 #x11bdd #x11bdd #x0 #x1fe15182 #x5f3d421c #xba834eb6 #x2292df94)\\n  (fftwf_rdft2_rank_geq2_register 0 #x11bdd #x11bdd #x0 #xbd6b8262 #xabd0b6b7 #xe6ad6d03 #x628df7dc)\\n  (fftwf_rdft_rank0_register 2 #x10bdd #x10bdd #x0 #x104e8159 #x92ac0177 #x0f50339e #x2c4a57af)\\n  (fftwf_rdft2_vrank_geq1_register 0 #x11bdd #x11bdd #x0 #x32025de0 #x37ce7b0a #x95c084dd #xcd18ab21)\\n  (fftwf_codelet_r2cb_128 0 #x10bdd #x10bdd #x0 #x673294cd #xe5b085a3 #xb8a774bf #xfd19dfb2)\\n  (fftwf_dft_r2hc_register 0 #x10bdd #x10bdd #x0 #x3c666628 #x01043fe7 #x20ba9e85 #x1f9b67a1)\\n  (fftwf_codelet_r2cbIII_8 2 #x10bdd #x10bdd #x0 #xfb67696a #x19d836b7 #x6b24c329 #xe4fc2e8b)\\n  (fftwf_rdft_rank0_register 3 #x11bdd #x11bdd #x0 #x91607aa1 #xd40dae11 #x01dbbb42 #x733d3911)\\n  (fftwf_dft_r2hc_register 0 #x11bdd #x11bdd #x0 #x38a08196 #x2a4ca72e #x2d1ba440 #x10600d8c)\\n  (fftwf_codelet_n1_64 0 #x10bdd #x10bdd #x0 #x1913d4ac #xf2d50866 #xc504d3dd #x76d5edcd)\\n  (fftwf_dft_vrank_geq1_register 0 #x10fdd #x10fdd #x0 #x411f7a68 #x161cf1d6 #xbec2d98e #x7d9fdffa)\\n  (fftwf_dft_vrank_geq1_register 0 #x10bdd #x10bdd #x0 #x89cb22ca #x6491b1a8 #xf5f7b0be #x3cd19d43)\\n  (fftwf_dft_thr_vrank_geq1_register 0 #x10bdd #x10bdd #x0 #x519e2811 #xfd996521 #x222afcf1 #xa289f0a6)\\n  (fftwf_codelet_r2cf_128 0 #x11bdd #x11bdd #x0 #x23eb177d #x111d2c06 #xa78f35fb #xd56dcd76)\\n)\\n', b'(fftw-3.3.4 fftwl_wisdom #x0821b5c7 #xa4c07d5a #x21b58211 #xebe513ab\\n)\\n')\n",
    "ft.import_wisdom(wiz)\n",
    "w2 = ft.zeros_aligned((N,N,N), dtype='float32')\n",
    "S2 = ft.zeros_aligned((N,N,N), dtype='float32')\n",
    "fo = ft.zeros_aligned((N,N,N), dtype='float32')\n",
    "bo = ft.zeros_aligned((N,N,N//2+1), dtype='complex64')"
   ]
  },
  {
   "cell_type": "code",
   "execution_count": 4,
   "metadata": {
    "collapsed": false
   },
   "outputs": [
    {
     "name": "stdout",
     "output_type": "stream",
     "text": [
      "0.0313379764557\n"
     ]
    }
   ],
   "source": [
    "start = time.time()\n",
    "\n",
    "fft_object = ft.FFTW(fo,bo,axes=(0,1,2), direction='FFTW_FORWARD', flags=('FFTW_MEASURE', ),threads=8)\n",
    "ifft_object = ft.FFTW(bo,fo,axes=(0,1,2), direction='FFTW_BACKWARD', flags=('FFTW_MEASURE', ),threads=8)\n",
    "\n",
    "end = time.time()\n",
    "print(end-start)"
   ]
  },
  {
   "cell_type": "code",
   "execution_count": 5,
   "metadata": {
    "collapsed": false
   },
   "outputs": [
    {
     "name": "stdout",
     "output_type": "stream",
     "text": [
      "42.8760650158\n"
     ]
    }
   ],
   "source": [
    "start = time.time()\n",
    "\n",
    "nproc = 8\n",
    "nx = N//nproc\n",
    "\n",
    "lw2 = ft.zeros_aligned((N//nproc,N,N), dtype='float32')\n",
    "\n",
    "folder = '/home/idies/workspace/scratch'\n",
    "\n",
    "for k in range(nproc):\n",
    "    filename = 'ref-enstrophy-'+str(k)+'.npz'\n",
    "    file = folder+'/'+filename\n",
    "    \n",
    "    content = np.load(file)\n",
    "    lw2[:,:,:] = content['w2']\n",
    "    \n",
    "    w2[k*nx:(k+1)*nx,:,:] = lw2[:,:,:]\n",
    "    \n",
    "end = time.time()\n",
    "print(end-start)"
   ]
  },
  {
   "cell_type": "code",
   "execution_count": 6,
   "metadata": {
    "collapsed": false
   },
   "outputs": [
    {
     "name": "stdout",
     "output_type": "stream",
     "text": [
      "44.9601199627\n"
     ]
    }
   ],
   "source": [
    "start = time.time()\n",
    "\n",
    "folder = '/home/idies/workspace/scratch'\n",
    "\n",
    "nproc = 8\n",
    "nx = N//nproc\n",
    "\n",
    "lS2 = ft.zeros_aligned((N//nproc,N,N), dtype='float32')\n",
    "\n",
    "folder = '/home/idies/workspace/scratch'\n",
    "\n",
    "for k in range(nproc):\n",
    "    filename = 'ref-strainrate-'+str(k)+'.npz'\n",
    "    file = folder+'/'+filename\n",
    "    \n",
    "    content = np.load(file)\n",
    "    lS2[:,:,:] = content['S2']\n",
    "    \n",
    "    S2[k*nx:(k+1)*nx,:,:] = lS2[:,:,:]\n",
    "    \n",
    "end = time.time()\n",
    "print(end-start)"
   ]
  },
  {
   "cell_type": "code",
   "execution_count": 7,
   "metadata": {
    "collapsed": true
   },
   "outputs": [],
   "source": [
    "del lw2,lS2"
   ]
  },
  {
   "cell_type": "code",
   "execution_count": 8,
   "metadata": {
    "collapsed": false
   },
   "outputs": [
    {
     "name": "stdout",
     "output_type": "stream",
     "text": [
      "4.02317905426\n"
     ]
    }
   ],
   "source": [
    "start = time.time()\n",
    "\n",
    "w2 = 0.5*w2\n",
    "\n",
    "end = time.time()\n",
    "print(end-start)"
   ]
  },
  {
   "cell_type": "code",
   "execution_count": 9,
   "metadata": {
    "collapsed": false
   },
   "outputs": [
    {
     "name": "stdout",
     "output_type": "stream",
     "text": [
      "(249.21841, 249.2186, 7.3471887e-07)\n"
     ]
    }
   ],
   "source": [
    "avgO = np.average(w2)\n",
    "avgE = np.average(S2)\n",
    "print(avgO,avgE,(avgE-avgO)/avgO)\n",
    "avg = avgE"
   ]
  },
  {
   "cell_type": "code",
   "execution_count": 10,
   "metadata": {
    "collapsed": false
   },
   "outputs": [
    {
     "name": "stdout",
     "output_type": "stream",
     "text": [
      "10.4407868385\n"
     ]
    }
   ],
   "source": [
    "start = time.time()\n",
    "\n",
    "chi = ft.zeros_aligned((N,N,N), dtype='float32')\n",
    "cchi = ft.zeros_aligned((N,N,1+(N//2)), dtype='complex64')\n",
    "corr = ft.zeros_aligned((N,N,N),dtype='float32')\n",
    "\n",
    "end = time.time()\n",
    "print(end-start)"
   ]
  },
  {
   "cell_type": "code",
   "execution_count": 12,
   "metadata": {
    "collapsed": true
   },
   "outputs": [],
   "source": [
    "X = np.zeros((N,N,N))\n",
    "Y = np.zeros((N,N,N))\n",
    "Z = np.zeros((N,N,N))"
   ]
  },
  {
   "cell_type": "code",
   "execution_count": 13,
   "metadata": {
    "collapsed": false
   },
   "outputs": [
    {
     "name": "stdout",
     "output_type": "stream",
     "text": [
      "108.637951136\n"
     ]
    }
   ],
   "source": [
    "start = time.time()\n",
    "\n",
    "for i in range(N):\n",
    "    if i<N//2:\n",
    "        X[i,:,:] = i*isotropic1024coarse['dx']\n",
    "    else:\n",
    "        X[i,:,:] = isotropic1024coarse['lx']-i*isotropic1024coarse['dx']\n",
    "    \n",
    "for j in range(N):\n",
    "    if j<N//2:\n",
    "        Y[:,j,:] = j*isotropic1024coarse['dx']\n",
    "    else:\n",
    "        Y[:,j,:] = isotropic1024coarse['lx']-j*isotropic1024coarse['dx']\n",
    "    \n",
    "for k in range(N):\n",
    "    if k<N//2:\n",
    "        Z[:,:,k] = k*isotropic1024coarse['dx']\n",
    "    else:\n",
    "        Z[:,:,k] = isotropic1024coarse['lx']-k*isotropic1024coarse['dx']\n",
    "\n",
    "end = time.time()\n",
    "print(end-start)"
   ]
  },
  {
   "cell_type": "code",
   "execution_count": 14,
   "metadata": {
    "collapsed": true
   },
   "outputs": [],
   "source": [
    "dx = 1/N\n",
    "ner = int(512*np.sqrt(3))\n",
    "\n",
    "r2 = np.zeros((N//2,N//2,N//2), dtype='float32')\n",
    "iCorr = np.zeros((N//2,N//2,N//2), dtype='float32')\n",
    "r2[:,:,:] = X[0:N//2,0:N//2,0:N//2]**2+Y[0:N//2,0:N//2,0:N//2]**2+Z[0:N//2,0:N//2,0:N//2]**2\n",
    "r2rt = np.sqrt(r2)\n",
    "minrt = np.min(r2rt)\n",
    "maxrt = np.max(r2rt)\n",
    "rbins = np.linspace(minrt,maxrt,1+ner)\n",
    "\n",
    "del X,Y,Z"
   ]
  },
  {
   "cell_type": "code",
   "execution_count": 15,
   "metadata": {
    "collapsed": true
   },
   "outputs": [],
   "source": [
    "E_bins = 200\n",
    "w2min = np.min(w2)/avgO\n",
    "w2max = np.max(w2)/avgO"
   ]
  },
  {
   "cell_type": "code",
   "execution_count": 16,
   "metadata": {
    "collapsed": true
   },
   "outputs": [],
   "source": [
    "tl = np.logspace(np.log(w2min),np.log(w2max),num=E_bins,endpoint=True,base=np.e) "
   ]
  },
  {
   "cell_type": "code",
   "execution_count": 17,
   "metadata": {
    "collapsed": false
   },
   "outputs": [
    {
     "name": "stdout",
     "output_type": "stream",
     "text": [
      "(1.4302009e-07, 675.16833)\n",
      "200\n"
     ]
    }
   ],
   "source": [
    "print(w2min,w2max)\n",
    "print(len(tl))\n",
    "stl = range(E_bins-1)"
   ]
  },
  {
   "cell_type": "code",
   "execution_count": 18,
   "metadata": {
    "collapsed": true
   },
   "outputs": [],
   "source": [
    "debug_mode = False"
   ]
  },
  {
   "cell_type": "code",
   "execution_count": 19,
   "metadata": {
    "collapsed": true
   },
   "outputs": [],
   "source": [
    "start = time.time()\n",
    "\n",
    "lcorr = []\n",
    "llogr = []\n",
    "\n",
    "for i in range(E_bins-1):\n",
    "    start = time.time()\n",
    "    \n",
    "    tm = tl[i]\n",
    "    tM = tl[i+1]\n",
    "    chi[:,:,:] = 0\n",
    "    chi[(w2 > tm*avg)&(w2 < tM*avg)] = 1\n",
    "    \n",
    "    fo[:,:,:] = chi[:,:,:]\n",
    "    fft_object.update_arrays(fo,bo)\n",
    "    fft_object.execute()\n",
    "    cchi[:,:,:] = bo[:,:,:]\n",
    "    \n",
    "    tmp = cchi*(cchi.conj())\n",
    "    \n",
    "    bo[:,:,:] = tmp[:,:,:]\n",
    "    ifft_object.update_arrays(bo,fo)\n",
    "    ifft_object.execute()\n",
    "    corr[:,:,:] = fo[:,:,:]/(N**3)\n",
    "    \n",
    "    iCorr[0:(N//2),0:(N//2),0:(N//2)] = corr[0:(N//2),0:(N//2),0:(N//2)] \n",
    "    \n",
    "    corrLoc,redges = np.histogram(r2rt,range=(minrt,maxrt),bins = rbins,weights=iCorr)\n",
    "    r2Loc,r2edges  = np.histogram(r2rt,range=(minrt,maxrt),bins = rbins)\n",
    "    \n",
    "    lcorr.append(corrLoc)\n",
    "    llogr.append(r2Loc)\n",
    "    \n",
    "    end = time.time()\n",
    "    if(debug_mode):\n",
    "        print(\"time : \"+str(end-start))"
   ]
  },
  {
   "cell_type": "code",
   "execution_count": 48,
   "metadata": {
    "collapsed": false
   },
   "outputs": [
    {
     "name": "stderr",
     "output_type": "stream",
     "text": [
      "/home/idies/anaconda3/envs/py27/lib/python2.7/site-packages/numpy/lib/polynomial.py:595: RankWarning: Polyfit may be poorly conditioned\n",
      "  warnings.warn(msg, RankWarning)\n",
      "/home/idies/anaconda3/envs/py27/lib/python2.7/site-packages/numpy/lib/polynomial.py:595: RankWarning: Polyfit may be poorly conditioned\n",
      "  warnings.warn(msg, RankWarning)\n"
     ]
    }
   ],
   "source": [
    "eta = 0.00280\n",
    "\n",
    "rbins = np.linspace(minrt,maxrt,1+ner)\n",
    "\n",
    "bins = (rbins[0:ner]+rbins[1:ner+1])/2\n",
    "tempRp = bins[(bins/eta>42.5)&(bins/eta<425)]/eta\n",
    "\n",
    "fiits = []    \n",
    "for i in range(E_bins-1):\n",
    "    tm = tl[i]\n",
    "    tM = tl[i+1]\n",
    "    corrF = lcorr[i]/llogr[i]\n",
    "    tempCorrF = corrF[(bins/eta>42.5)&(bins/eta<425)]\n",
    "    idx = tempCorrF>0\n",
    "    \n",
    "    if(len(tempCorrF[idx])>0):\n",
    "        fit = np.polyfit(np.log(tempRp[idx]),np.log(tempCorrF[idx]/corrF[0]),1)\n",
    "    else:\n",
    "        fit = np.array([-4,0])\n",
    "    \n",
    "    fiits.append(fit[0])\n",
    "    if(debug_mode):\n",
    "        print(\"t = \"+str(np.sqrt(tm*tM))+\"*sigma_2: Linear fit [alpha A] = \"+str(fit))\n",
    "    \n",
    "fiits = np.array(fiits)"
   ]
  },
  {
   "cell_type": "code",
   "execution_count": null,
   "metadata": {
    "collapsed": true
   },
   "outputs": [],
   "source": [
    "start = time.time()\n",
    "\n",
    "tl = np.logspace(np.log(w2min),np.log(w2max),num=E_bins,endpoint=True,base=np.e) \n",
    "scorr = []\n",
    "slogr = []\n",
    "\n",
    "for i in range(E_bins-1):\n",
    "    start = time.time()\n",
    "    \n",
    "    tm = tl[i]\n",
    "    tM = tl[i+1]\n",
    "    \n",
    "    chi[:,:,:] = 0\n",
    "    chi[(S2 > tm*avg)&(S2 < tM*avg)] = 1\n",
    "    \n",
    "    fo[:,:,:] = chi[:,:,:]\n",
    "    fft_object.update_arrays(fo,bo)\n",
    "    fft_object.execute()\n",
    "    cchi[:,:,:] = bo[:,:,:]\n",
    "    \n",
    "    tmp = cchi*(cchi.conj())\n",
    "    \n",
    "    bo[:,:,:] = tmp[:,:,:]\n",
    "    ifft_object.update_arrays(bo,fo)\n",
    "    ifft_object.execute()\n",
    "    corr[:,:,:] = fo[:,:,:]/(N**3)\n",
    "    \n",
    "    iCorr[0:(N//2),0:(N//2),0:(N//2)] = corr[0:(N//2),0:(N//2),0:(N//2)] \n",
    "    \n",
    "    corrLoc,redges = np.histogram(r2rt,range=(minrt,maxrt),bins = rbins,weights=iCorr)\n",
    "    r2Loc,r2edges  = np.histogram(r2rt,range=(minrt,maxrt),bins = rbins)\n",
    "    \n",
    "    scorr.append(corrLoc)\n",
    "    slogr.append(r2Loc)\n",
    "    \n",
    "    end = time.time()\n",
    "    if(debug_mode):\n",
    "        print(\"time : \"+str(end-start))"
   ]
  },
  {
   "cell_type": "code",
   "execution_count": 51,
   "metadata": {
    "collapsed": false
   },
   "outputs": [
    {
     "name": "stderr",
     "output_type": "stream",
     "text": [
      "/home/idies/anaconda3/envs/py27/lib/python2.7/site-packages/numpy/lib/polynomial.py:595: RankWarning: Polyfit may be poorly conditioned\n",
      "  warnings.warn(msg, RankWarning)\n",
      "/home/idies/anaconda3/envs/py27/lib/python2.7/site-packages/numpy/lib/polynomial.py:595: RankWarning: Polyfit may be poorly conditioned\n",
      "  warnings.warn(msg, RankWarning)\n",
      "/home/idies/anaconda3/envs/py27/lib/python2.7/site-packages/numpy/lib/polynomial.py:595: RankWarning: Polyfit may be poorly conditioned\n",
      "  warnings.warn(msg, RankWarning)\n"
     ]
    }
   ],
   "source": [
    "eta = 0.00280\n",
    "\n",
    "tl = np.logspace(np.log(w2min),np.log(w2max),num=E_bins,endpoint=True,base=np.e) \n",
    "rbins = np.linspace(minrt,maxrt,1+ner)\n",
    "\n",
    "bins = (rbins[0:ner]+rbins[1:ner+1])/2\n",
    "tempRp = bins[(bins/eta>42.5)&(bins/eta<425)]/eta\n",
    "\n",
    "sfiits = []    \n",
    "for i in range(E_bins-1):\n",
    "    tm = tl[i]\n",
    "    tM = tl[i+1]\n",
    "    corrF = scorr[i]/slogr[i]\n",
    "    tempCorrF = corrF[(bins/eta>42.5)&(bins/eta<425)]\n",
    "    idx = tempCorrF>0\n",
    "    \n",
    "    if(len(tempCorrF[idx])>0):\n",
    "        fit = np.polyfit(np.log(tempRp[idx]),np.log(tempCorrF[idx]/corrF[0]),1)\n",
    "    else:\n",
    "        fit = np.array([-4,0])\n",
    "    \n",
    "    sfiits.append(fit[0])\n",
    "    if(debug_mode):\n",
    "        print(\"t = \"+str(np.sqrt(tm*tM))+\"*sigma_2: Linear fit [alpha A] = \"+str(fit))\n",
    "        \n",
    "sfiits = np.array(sfiits)"
   ]
  },
  {
   "cell_type": "code",
   "execution_count": 54,
   "metadata": {
    "collapsed": true
   },
   "outputs": [],
   "source": [
    "sidx = sfiits != -4."
   ]
  },
  {
   "cell_type": "code",
   "execution_count": 55,
   "metadata": {
    "collapsed": false
   },
   "outputs": [
    {
     "name": "stdout",
     "output_type": "stream",
     "text": [
      "[-4.         -4.         -4.         -4.         -4.         -4.         -4.\n",
      " -4.         -4.         -4.         -4.         -4.         -4.         -4.\n",
      " -4.         -4.         -4.         -4.         -4.         -4.         -4.\n",
      " -4.         -4.         -4.         -4.         -4.         -4.         -4.\n",
      " -4.         -4.         -4.         -4.         -4.         -4.         -4.\n",
      " -4.         -4.         -4.         -4.         -4.         -4.         -4.\n",
      " -4.         -4.         -4.         -4.         -4.         -4.         -4.\n",
      " -4.         -4.         -4.         -4.         -4.         -4.         -4.\n",
      " -4.         -4.         -1.04149437 -4.         -4.         -4.\n",
      " -1.10048943 -1.14628457 -2.0684907  -1.96094852 -4.4490416  -1.84541468\n",
      " -1.89887247 -1.963706   -1.81936137 -1.72560617 -1.49410942 -1.37225614\n",
      " -1.30733651 -0.9639441  -0.59324394 -0.75664706 -0.68783287 -0.73579281\n",
      " -0.68156884 -0.65970877 -0.69429102 -0.72385859 -0.69582811 -0.73369611\n",
      " -0.69220778 -0.74126099 -0.70226541 -0.69719912 -0.69477827 -0.69589082\n",
      " -0.67460585 -0.69268279 -0.69046856 -0.67651148 -0.67568857 -0.66343707\n",
      " -0.65747356 -0.64834295 -0.63232186 -0.61743511 -0.59915258 -0.58165395\n",
      " -0.56174403 -0.54206645 -0.52065469 -0.49892897 -0.47520135 -0.45207641\n",
      " -0.42727928 -0.40209879 -0.37698544 -0.34963256 -0.32439198 -0.29807962\n",
      " -0.27269577 -0.24735145 -0.22264233 -0.19870011 -0.17613064 -0.15485242\n",
      " -0.1344964  -0.11611044 -0.09852349 -0.08305112 -0.06904586 -0.05674321\n",
      " -0.04595484 -0.03696122 -0.029517   -0.02370578 -0.01949392 -0.01677585\n",
      " -0.01567461 -0.01610819 -0.01799497 -0.02149212 -0.02652564 -0.03292774\n",
      " -0.04100441 -0.05068591 -0.06208111 -0.07500829 -0.08985397 -0.10652026\n",
      " -0.12483504 -0.14533314 -0.16809284 -0.19262458 -0.21973887 -0.2486718\n",
      " -0.28028329 -0.31393265 -0.35022473 -0.3892905  -0.43059234 -0.47328078\n",
      " -0.5187742  -0.56752302 -0.61891294 -0.67141693 -0.72916795 -0.78775754\n",
      " -0.84880391 -0.91618868 -0.99295692 -1.06694685 -1.14331423 -1.21277438\n",
      " -1.30427153 -1.40093208 -1.48966875 -1.57608244 -1.72518915 -1.84620867\n",
      " -2.03274292 -2.21395063 -2.48322192 -2.91133203 -3.15915268 -3.36980577\n",
      " -3.77618992 -3.71703969 -2.43866415 -2.01679962 -1.60265473 -4.         -4.\n",
      " -2.07975761 -4.         -4.         -4.         -4.         -4.         -4.\n",
      " -4.         -4.         -4.        ]\n"
     ]
    }
   ],
   "source": [
    "print(sfiits)"
   ]
  },
  {
   "cell_type": "code",
   "execution_count": 33,
   "metadata": {
    "collapsed": true
   },
   "outputs": [],
   "source": [
    "np.savez(\"shells-dims.npz\",fiits=fiits,sfiits=sfiits)"
   ]
  },
  {
   "cell_type": "code",
   "execution_count": 65,
   "metadata": {
    "collapsed": false
   },
   "outputs": [
    {
     "name": "stdout",
     "output_type": "stream",
     "text": [
      "[  1.43020107e-07   1.59959574e-07   1.78905371e-07   2.00095131e-07\n",
      "   2.23794630e-07   2.50301126e-07   2.79947081e-07   3.13104338e-07\n",
      "   3.50188778e-07   3.91665543e-07   4.38054864e-07   4.89938590e-07\n",
      "   5.47967484e-07   6.12869388e-07   6.85458349e-07   7.66644830e-07\n",
      "   8.57447132e-07   9.59004164e-07   1.07258973e-06   1.19962850e-06\n",
      "   1.34171389e-06   1.50062804e-06   1.67836416e-06   1.87715156e-06\n",
      "   2.09948356e-06   2.34814883e-06   2.62626630e-06   2.93732432e-06\n",
      "   3.28522442e-06   3.67433021e-06   4.10952214e-06   4.59625870e-06\n",
      "   5.14064491e-06   5.74950885e-06   6.43048734e-06   7.19212172e-06\n",
      "   8.04396495e-06   8.99670148e-06   1.00622812e-05   1.12540695e-05\n",
      "   1.25870145e-05   1.40778351e-05   1.57452302e-05   1.76101135e-05\n",
      "   1.96958758e-05   2.20286781e-05   2.46377803e-05   2.75559076e-05\n",
      "   3.08196612e-05   3.44699776e-05   3.85526417e-05   4.31188612e-05\n",
      "   4.82259091e-05   5.39378417e-05   6.03263022e-05   6.74714193e-05\n",
      "   7.54628124e-05   8.44007154e-05   9.43972340e-05   1.05577752e-04\n",
      "   1.18082503e-04   1.32068332e-04   1.47710658e-04   1.65205679e-04\n",
      "   1.84772831e-04   2.06657540e-04   2.31134298e-04   2.58510112e-04\n",
      "   2.89128350e-04   3.23373047e-04   3.61673725e-04   4.04510780e-04\n",
      "   4.52421506e-04   5.06006833e-04   5.65938869e-04   6.32969325e-04\n",
      "   7.07938945e-04   7.91788054e-04   8.85568349e-04   9.90456091e-04\n",
      "   1.10776686e-03   1.23897205e-03   1.38571733e-03   1.54984330e-03\n",
      "   1.73340854e-03   1.93871545e-03   2.16833916e-03   2.42515976e-03\n",
      "   2.71239850e-03   3.03365812e-03   3.39296810e-03   3.79483518e-03\n",
      "   4.24429985e-03   4.74699965e-03   5.30923979e-03   5.93807230e-03\n",
      "   6.64138446e-03   7.42799774e-03   8.30777840e-03   9.29176130e-03\n",
      "   1.03922883e-02   1.16231629e-02   1.29998238e-02   1.45395380e-02\n",
      "   1.62616178e-02   1.81876626e-02   2.03418305e-02   2.27511404e-02\n",
      "   2.54458119e-02   2.84596433e-02   3.18304365e-02   3.56004703e-02\n",
      "   3.98170312e-02   4.45330066e-02   4.98075475e-02   5.57068111e-02\n",
      "   6.23047904e-02   6.96842420e-02   7.79377244e-02   8.71687588e-02\n",
      "   9.74931276e-02   1.09040327e-01   1.21955189e-01   1.36399703e-01\n",
      "   1.52555042e-01   1.70623838e-01   1.90832723e-01   2.13435172e-01\n",
      "   2.38714681e-01   2.66988325e-01   2.98610732e-01   3.33978533e-01\n",
      "   3.73535337e-01   4.17777296e-01   4.67259323e-01   5.22602058e-01\n",
      "   5.84499652e-01   6.53728468e-01   7.31156825e-01   8.17755887e-01\n",
      "   9.14611842e-01   1.02293953e+00   1.14409767e+00   1.27960593e+00\n",
      "   1.43116394e+00   1.60067265e+00   1.79025817e+00   2.00229843e+00\n",
      "   2.23945297e+00   2.50469638e+00   2.80135552e+00   3.13315132e+00\n",
      "   3.50424539e+00   3.91929228e+00   4.38349780e+00   4.90268435e+00\n",
      "   5.48336397e+00   6.13281996e+00   6.85919826e+00   7.67160965e+00\n",
      "   8.58024399e+00   9.59649803e+00   1.07331184e+01   1.20043614e+01\n",
      "   1.34261718e+01   1.50163832e+01   1.67949410e+01   1.87841533e+01\n",
      "   2.10089702e+01   2.34972970e+01   2.62803440e+01   2.93930185e+01\n",
      "   3.28743616e+01   3.67680391e+01   4.11228883e+01   4.59935308e+01\n",
      "   5.14410579e+01   5.75337964e+01   6.43481660e+01   7.19696373e+01\n",
      "   8.04938046e+01   9.00275841e+01   1.00690556e+02   1.12616462e+02\n",
      "   1.25954886e+02   1.40873128e+02   1.57558305e+02   1.76219693e+02\n",
      "   1.97091358e+02   2.20435087e+02   2.46543674e+02   2.75744593e+02\n",
      "   3.08404102e+02   3.44931841e+02   3.85785968e+02   4.31478905e+02\n",
      "   4.82583767e+02   5.39741548e+02   6.03669162e+02]\n",
      "[-1.         -1.         -1.         -1.         -1.         -1.         -1.\n",
      " -1.         -1.         -1.         -1.         -1.         -1.         -1.\n",
      " -1.         -1.         -1.         -1.         -1.         -1.          1.8652907\n",
      " -1.         -1.          1.0135578   1.02188755  1.8131284   1.03545152\n",
      "  1.02419662  0.9973253   1.01067512  0.83313806  1.09053628  1.14236687\n",
      "  1.172818    1.07143515  1.28033976  1.52969031  1.52184322  1.79494181\n",
      "  1.746105    2.05598567  2.25110325  2.3715814   2.49863311  2.80960503\n",
      "  2.69064488  2.70089732  2.78750433  2.80722407  2.77601628  2.8008916\n",
      "  2.71001329  2.82833606  2.72462527  2.73824397  2.7229127   2.71449636\n",
      "  2.74173486  2.74979816  2.74702824  2.74604425  2.74525283  2.75332954\n",
      "  2.74097429  2.75411254  2.74593125  2.75092382  2.74782537  2.73800608\n",
      "  2.75220115  2.75686458  2.74395026  2.75861888  2.7557923   2.75661661\n",
      "  2.75912568  2.75564989  2.76228241  2.76602282  2.76624357  2.77076415\n",
      "  2.7722562   2.77483109  2.77986581  2.78096725  2.78758008  2.79190701\n",
      "  2.79382961  2.7987922   2.80312535  2.80851945  2.81301035  2.81846743\n",
      "  2.8232186   2.82857264  2.8337346   2.83792118  2.84335264  2.84931207\n",
      "  2.85458584  2.86017087  2.86606691  2.87170741  2.87684872  2.88230698\n",
      "  2.88783505  2.8934339   2.89877527  2.90432343  2.90996477  2.91533521\n",
      "  2.92056886  2.92567901  2.93133063  2.93642182  2.94163499  2.94650463\n",
      "  2.95160547  2.95627163  2.96082789  2.96544891  2.96961315  2.97347106\n",
      "  2.9772023   2.9806073   2.98368763  2.98644824  2.98888226  2.99079577\n",
      "  2.99243155  2.99343287  2.99401048  2.99407448  2.99358014  2.99245281\n",
      "  2.99069254  2.98824873  2.98524482  2.98137531  2.97688041  2.97146248\n",
      "  2.96537387  2.95849889  2.95079472  2.94229343  2.9326093   2.92223229\n",
      "  2.91052705  2.89799659  2.88438832  2.86996164  2.85369465  2.8366941\n",
      "  2.8184312   2.79901351  2.77817574  2.7560129   2.73165606  2.70634598\n",
      "  2.67862608  2.64949532  2.61935512  2.5891424   2.55400786  2.51722783\n",
      "  2.47915365  2.44339847  2.40396176  2.3602323   2.32149496  2.27467308\n",
      "  2.2245488   2.17957188  2.12861304  2.07602442  2.01716605  1.95754414\n",
      "  1.89845996  1.85327598  1.777718    1.75258526  1.62302308  1.57258965\n",
      "  1.44706782  1.37340366  1.33172848  1.22701435  1.08631225  0.84766783\n",
      "  0.87938369  0.6155407   1.18095689  1.21158834  0.75401098 -1.77536927\n",
      " -1.         -1.         -1.         -1.        ]\n"
     ]
    }
   ],
   "source": [
    "print(tl)\n",
    "print(fiits+3)"
   ]
  },
  {
   "cell_type": "code",
   "execution_count": 75,
   "metadata": {
    "collapsed": false
   },
   "outputs": [
    {
     "data": {
      "image/png": "[encoded data removed]",
      "text/plain": [
       "<matplotlib.figure.Figure at 0x7f525e590d90>"
      ]
     },
     "metadata": {},
     "output_type": "display_data"
    }
   ],
   "source": [
    "tl = np.logspace(np.log(w2min),np.log(w2max),num=E_bins-1,endpoint=False,base=np.e) \n",
    "\n",
    "idx = (fiits > -3.)&(fiits <= 0.)&(tl>10**(-4))&(tl<10**(2.2))\n",
    "sidx = (sfiits > -3.)&(sfiits <= 0.)&(tl>10**(-3))&(tl<10**(2.1))\n",
    "ptl = np.logspace(np.log(w2min),np.log(w2max),num=E_bins-1,endpoint=False,base=np.e) \n",
    "\n",
    "plt.figure(figsize=(12,4))\n",
    "matplotlib.rc('xtick', labelsize=25) \n",
    "matplotlib.rc('ytick', labelsize=25)\n",
    "plt.xlim([10**(-5),10**(3)])\n",
    "plt.ylim([-1,4])\n",
    "#plt.grid()\n",
    "\n",
    "plt.xlabel(r'$\\chi/\\langle S^2\\rangle$', fontsize=35)\n",
    "plt.ylabel(r'$3-\\gamma_\\chi$', fontsize=35)\n",
    "\n",
    "#plt.axvline(1,color='k',linestyle='--')\n",
    "plt.semilogx(ptl[idx],fiits[idx]+3,'k-',label=r'$\\chi \\leq \\omega^2/2\\langle S^2\\rangle \\leq \\chi(1+\\Delta)$')\n",
    "plt.semilogx(ptl[sidx],sfiits[sidx]+3,'k-.',label=r'$\\chi \\leq S^2/\\langle S^2\\rangle \\leq \\chi(1+\\Delta)$')\n",
    "plt.legend(loc='lower left',prop={'size':25})\n",
    "plt.savefig('interval-1.pdf', format='pdf', bbox_inches='tight', transparent=True)"
   ]
  },
  {
   "cell_type": "code",
   "execution_count": 69,
   "metadata": {
    "collapsed": false
   },
   "outputs": [
    {
     "data": {
      "image/png": "[encoded data removed]",
      "text/plain": [
       "<matplotlib.figure.Figure at 0x7f4ae12d4550>"
      ]
     },
     "metadata": {},
     "output_type": "display_data"
    }
   ],
   "source": [
    "tl = np.logspace(np.log(w2min),np.log(w2max),num=E_bins-1,endpoint=False,base=np.e) \n",
    "\n",
    "idx = (fiits > -3.)&(fiits <= 0.)&(tl>10**(-4))&(tl<10**(2.2))\n",
    "sidx = (sfiits > -3.)&(sfiits <= 0.)&(tl>10**(-3))&(tl<10**(2.1))\n",
    "ptl = np.logspace(np.log(w2min),np.log(w2max),num=E_bins-1,endpoint=False,base=np.e) \n",
    "\n",
    "plt.figure(figsize=(12,6))\n",
    "matplotlib.rc('xtick', labelsize=25) \n",
    "matplotlib.rc('ytick', labelsize=25)\n",
    "plt.xlim([10**(-5),2*10**(2)])\n",
    "plt.ylim([-1,4])\n",
    "#plt.grid()\n",
    "\n",
    "plt.xlabel(r'$\\chi/\\langle S^2\\rangle$', fontsize=35)\n",
    "plt.ylabel(r'$3-\\gamma_\\chi$', fontsize=35)\n",
    "\n",
    "plt.plot(ptl[idx],fiits[idx]+3,'k-',label=r'$\\chi \\leq \\omega^2/2\\langle S^2\\rangle \\leq \\chi(1+\\Delta)$')\n",
    "plt.plot(ptl[sidx],sfiits[sidx]+3,'k-.',label=r'$\\chi \\leq S^2/\\langle S^2\\rangle \\leq \\chi(1+\\Delta)$')\n",
    "plt.legend(loc='upper right',prop={'size':25})\n",
    "plt.savefig('interval-1-lin.pdf', format='pdf', bbox_inches='tight', transparent=True)"
   ]
  },
  {
   "cell_type": "code",
   "execution_count": 71,
   "metadata": {
    "collapsed": false
   },
   "outputs": [
    {
     "data": {
      "image/png": "[encoded data removed]",
      "text/plain": [
       "<matplotlib.figure.Figure at 0x7f4ae0f38c50>"
      ]
     },
     "metadata": {},
     "output_type": "display_data"
    }
   ],
   "source": [
    "tl = np.logspace(np.log(w2min),np.log(w2max),num=E_bins-1,endpoint=False,base=np.e) \n",
    "\n",
    "idx = (fiits > -3.)&(fiits <= 0.)&(tl>10**(-4))&(tl<10**(2.2))\n",
    "sidx = (sfiits > -3.)&(sfiits <= 0.)&(tl>10**(-3))&(tl<10**(2.1))\n",
    "ptl = np.logspace(np.log(w2min),np.log(w2max),num=E_bins-1,endpoint=False,base=np.e) \n",
    "\n",
    "plt.figure(figsize=(12,6))\n",
    "matplotlib.rc('xtick', labelsize=25) \n",
    "matplotlib.rc('ytick', labelsize=25)\n",
    "plt.xlim([10**(-5),10**(1)])\n",
    "plt.ylim([-1,4])\n",
    "#plt.grid()\n",
    "\n",
    "plt.xlabel(r'$\\chi/\\langle S^2\\rangle$', fontsize=35)\n",
    "plt.ylabel(r'$3-\\gamma_\\chi$', fontsize=35)\n",
    "\n",
    "plt.plot(ptl[idx],fiits[idx]+3,'k-',label=r'$\\chi \\leq \\omega^2/2\\langle S^2\\rangle \\leq \\chi(1+\\Delta)$')\n",
    "plt.plot(ptl[sidx],sfiits[sidx]+3,'k-.',label=r'$\\chi \\leq S^2/\\langle S^2\\rangle \\leq \\chi(1+\\Delta)$')\n",
    "plt.legend(loc='lower right',prop={'size':25})\n",
    "plt.savefig('interval-2-lin.pdf', format='pdf', bbox_inches='tight', transparent=True)"
   ]
  },
  {
   "cell_type": "code",
   "execution_count": 73,
   "metadata": {
    "collapsed": false
   },
   "outputs": [
    {
     "data": {
      "image/png": "[encoded data removed]",
      "text/plain": [
       "<matplotlib.figure.Figure at 0x7f4ae0f93110>"
      ]
     },
     "metadata": {},
     "output_type": "display_data"
    }
   ],
   "source": [
    "tl = np.logspace(np.log(w2min),np.log(w2max),num=E_bins-1,endpoint=False,base=np.e) \n",
    "\n",
    "idx = (fiits > -3.)&(fiits <= 0.)&(tl>10**(-4))&(tl<10**(2.2))\n",
    "sidx = (sfiits > -3.)&(sfiits <= 0.)&(tl>10**(-3))&(tl<10**(2.1))\n",
    "ptl = np.logspace(np.log(w2min),np.log(w2max),num=E_bins-1,endpoint=False,base=np.e) \n",
    "\n",
    "plt.figure(figsize=(12,6))\n",
    "matplotlib.rc('xtick', labelsize=25) \n",
    "matplotlib.rc('ytick', labelsize=25)\n",
    "plt.xlim([10**(-5),10**(-1)])\n",
    "plt.ylim([-1,4])\n",
    "#plt.grid()\n",
    "\n",
    "plt.xlabel(r'$\\chi/\\langle S^2\\rangle$', fontsize=35)\n",
    "plt.ylabel(r'$3-\\gamma_\\chi$', fontsize=35)\n",
    "\n",
    "plt.plot(ptl[idx],fiits[idx]+3,'k-',label=r'$\\chi \\leq \\omega^2/2\\langle S^2\\rangle \\leq \\chi(1+\\Delta)$')\n",
    "plt.plot(ptl[sidx],sfiits[sidx]+3,'k-.',label=r'$\\chi \\leq S^2/\\langle S^2\\rangle \\leq \\chi(1+\\Delta)$')\n",
    "plt.legend(loc='lower right',prop={'size':25})\n",
    "plt.savefig('interval-2-lin.pdf', format='pdf', bbox_inches='tight', transparent=True)"
   ]
  },
  {
   "cell_type": "code",
   "execution_count": null,
   "metadata": {
    "collapsed": true
   },
   "outputs": [],
   "source": []
  }
 ],
 "metadata": {
  "kernelspec": {
   "display_name": "Python 2",
   "language": "python",
   "name": "python2"
  },
  "language_info": {
   "codemirror_mode": {
    "name": "ipython",
    "version": 2
   },
   "file_extension": ".py",
   "mimetype": "text/x-python",
   "name": "python",
   "nbconvert_exporter": "python",
   "pygments_lexer": "ipython2",
   "version": "2.7.11"
  }
 },
 "nbformat": 4,
 "nbformat_minor": 0
}
