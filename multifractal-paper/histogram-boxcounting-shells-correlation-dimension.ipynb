{
 "cells": [
  {
   "cell_type": "code",
   "execution_count": 1,
   "metadata": {
    "collapsed": true
   },
   "outputs": [],
   "source": [
    "#!ipcluster start -n 8 --engines=MPI --profile='mpi' # for parallel run: start the engines using terminal\n",
    "from ipyparallel import Client\n",
    "rc = Client(profile='mpi')"
   ]
  },
  {
   "cell_type": "code",
   "execution_count": 2,
   "metadata": {
    "collapsed": true
   },
   "outputs": [],
   "source": [
    "%%px\n",
    "# Import the libraries\n",
    "\n",
    "import os\n",
    "import sys\n",
    "import math\n",
    "import numpy as np\n",
    "from mpi4py import MPI\n",
    "import pyJHTDB\n",
    "from pyJHTDB.dbinfo import isotropic1024coarse\n",
    "from pyJHTDB import libJHTDB"
   ]
  },
  {
   "cell_type": "code",
   "execution_count": 3,
   "metadata": {},
   "outputs": [
    {
     "name": "stdout",
     "output_type": "stream",
     "text": [
      "[stdout:3] \n",
      "n_proc = 8\n",
      "rank = 0\n"
     ]
    }
   ],
   "source": [
    "%%px\n",
    "\n",
    "Nx = isotropic1024coarse['nx']; Ny = isotropic1024coarse['ny']; Nz = isotropic1024coarse['nz']\n",
    "Lx = isotropic1024coarse['lx']; Ly = isotropic1024coarse['ly']; Lz = isotropic1024coarse['lz']\n",
    "\n",
    "comm = MPI.COMM_WORLD\n",
    "rank = comm.Get_rank()\n",
    "nproc = comm.Get_size()\n",
    "if(rank==0):\n",
    "    print(\"n_proc = \"+str(nproc))\n",
    "    print(\"rank = \"+str(rank))\n",
    "\n",
    "# Computational Domain\n",
    "\n",
    "nx=Nx//nproc; ny=Ny; nz=Nz\n",
    "nz_half=nz//2\n",
    "nek=int(math.sqrt(2.0)/3*Nx)\n",
    "time = 0.0\n",
    "\n",
    "chkSz = 32\n",
    "slabs = nx//chkSz"
   ]
  },
  {
   "cell_type": "code",
   "execution_count": 4,
   "metadata": {},
   "outputs": [
    {
     "name": "stdout",
     "output_type": "stream",
     "text": [
      "[stdout:3] \n",
      "Finished loading\n",
      "Load from disk: 1.05 seconds\n"
     ]
    }
   ],
   "source": [
    "%%px\n",
    "\n",
    "folder = \"/home/jhelsas/scratch\"\n",
    "filename = \"ref-enstrophy-\"+str(rank)+\".npz\"\n",
    "file = folder + \"/\" + filename\n",
    "\n",
    "comm.Barrier(); t1=MPI.Wtime()\n",
    "content = np.load(file)\n",
    "\n",
    "w2 = np.zeros((nx,ny,nz), dtype='float32')\n",
    "  \n",
    "w2[:,:,:] = content['w2']\n",
    "    \n",
    "comm.Barrier(); t2=MPI.Wtime()\n",
    "\n",
    "if(rank==0):\n",
    "    print(\"Finished loading\")\n",
    "    sys.stdout.write('Load from disk: {0:.2f} seconds\\n'.format(t2-t1))\n"
   ]
  },
  {
   "cell_type": "code",
   "execution_count": 6,
   "metadata": {},
   "outputs": [
    {
     "name": "stdout",
     "output_type": "stream",
     "text": [
      "[stdout:3] \n",
      "Finished loading\n",
      "Load from disk: 1.06 seconds\n"
     ]
    }
   ],
   "source": [
    "%%px\n",
    "\n",
    "folder = \"/home/jhelsas/scratch\"\n",
    "filename = \"ref-strainrate-\"+str(rank)+\".npz\"\n",
    "file = folder + \"/\" + filename\n",
    "\n",
    "comm.Barrier(); t1=MPI.Wtime()\n",
    "content = np.load(file)\n",
    "\n",
    "S2 = np.zeros((nx,ny,nz), dtype='float32')\n",
    "    \n",
    "S2[:,:,:] = content['S2']\n",
    "    \n",
    "comm.Barrier(); t2=MPI.Wtime()\n",
    "\n",
    "if(rank==0):\n",
    "    print(\"Finished loading\")\n",
    "    sys.stdout.write('Load from disk: {0:.2f} seconds\\n'.format(t2-t1))"
   ]
  },
  {
   "cell_type": "code",
   "execution_count": 7,
   "metadata": {
    "collapsed": true
   },
   "outputs": [],
   "source": [
    "%%px\n",
    "\n",
    "w2 = 0.5*w2"
   ]
  },
  {
   "cell_type": "code",
   "execution_count": 14,
   "metadata": {},
   "outputs": [
    {
     "name": "stdout",
     "output_type": "stream",
     "text": [
      "[stdout:3] \n",
      "(249.21774291992188, 249.21772766113281, -6.1226736442288224e-08)\n",
      "('Separate : ', 1.4399783344273922e-07, 675.17004239278265, 3.9848981394448802e-05, 225.01035876849269)\n",
      "('Joint : ', 1.4399783344273922e-07, 675.17004239278265)\n",
      "('log: ', -15.753467583020129, 6.5149645738033355)\n",
      "('log_10: ', -6.841644042147399, 2.829413164197959)\n"
     ]
    }
   ],
   "source": [
    "%%px\n",
    "\n",
    "avgO = np.average(w2)\n",
    "avgOGl=np.zeros(1,dtype='float32')\n",
    "\n",
    "comm.Allreduce([avgO,MPI.REAL],[avgOGl,MPI.REAL],op=MPI.SUM)\n",
    "avgO = avgOGl[0]/nproc\n",
    "\n",
    "########\n",
    "\n",
    "avgE = np.average(S2)\n",
    "avgEGl=np.zeros(1,dtype='float32')\n",
    "\n",
    "comm.Allreduce([avgE,MPI.REAL],[avgEGl,MPI.REAL],op=MPI.SUM)\n",
    "avgE = avgEGl[0]/nproc\n",
    "\n",
    "########\n",
    "    \n",
    "avg = avgE\n",
    "\n",
    "##########################\n",
    "\n",
    "minw2 = w2.min()\n",
    "maxw2 = w2.max()\n",
    "\n",
    "minwGl=np.zeros(nproc,dtype='float32')\n",
    "maxwGl=np.zeros(nproc,dtype='float32')\n",
    "\n",
    "comm.Allgather([minw2,MPI.REAL],[minwGl,MPI.REAL])\n",
    "comm.Allgather([maxw2,MPI.REAL],[maxwGl,MPI.REAL])\n",
    "\n",
    "minO = minwGl.min()\n",
    "maxO = maxwGl.max()\n",
    "\n",
    "comm.Barrier()\n",
    "\n",
    "##########################\n",
    "\n",
    "minS2 = S2.min()\n",
    "maxS2 = S2.max()\n",
    "\n",
    "minS2Gl=np.zeros(nproc,dtype='float32')\n",
    "maxS2Gl=np.zeros(nproc,dtype='float32')\n",
    "\n",
    "comm.Allgather([minS2,MPI.REAL],[minS2Gl,MPI.REAL])\n",
    "comm.Allgather([maxS2,MPI.REAL],[maxS2Gl,MPI.REAL])\n",
    "\n",
    "minE = minS2Gl.min()\n",
    "maxE = maxS2Gl.max()\n",
    "\n",
    "comm.Barrier()\n",
    "\n",
    "minJ = min(minO,minE)\n",
    "maxJ = max(maxO,maxE)\n",
    "\n",
    "\n",
    "if rank == 0:\n",
    "    print(avgO,avgE,(avgE-avgO)/avgO)\n",
    "    \n",
    "if rank == 0:\n",
    "    print(\"Separate : \",minO/avg,maxO/avg,minE/avg,maxE/avg)\n",
    "    print(\"Joint : \",minJ/avg,maxJ/avg)\n",
    "\n",
    "comm.Barrier()\n",
    "\n",
    "if rank==0:\n",
    "    print(\"log: \",np.log(minJ/avg),np.log(maxJ/avg))\n",
    "    print(\"log_10: \",np.log(minJ/avg)/np.log(10),np.log(maxJ/avg)/np.log(10))"
   ]
  },
  {
   "cell_type": "code",
   "execution_count": 22,
   "metadata": {},
   "outputs": [
    {
     "name": "stdout",
     "output_type": "stream",
     "text": [
      "[stdout:3] Alocating vectors: 0.01 seconds\n"
     ]
    }
   ],
   "source": [
    "%%px\n",
    "\n",
    "eta = 0.00280\n",
    "x0 = y0 = z0 = 0.\n",
    "dx = isotropic1024coarse['dx']\n",
    "ner = int(1024*np.sqrt(3))\n",
    "rbins = np.linspace(-0.5*dx,2*np.pi*np.sqrt(3)+0.5*dx,ner+1)\n",
    "\n",
    "comm.Barrier(); t1=MPI.Wtime()\n",
    "\n",
    "X = np.zeros((nx,ny,nz), dtype='float32')\n",
    "Y = np.zeros((nx,ny,nz), dtype='float32')\n",
    "Z = np.zeros((nx,ny,nz), dtype='float32')\n",
    "r2 = np.zeros((nx,ny,nz), dtype='float32')\n",
    "\n",
    "chi = np.zeros((nx,ny,nz), dtype='float32')\n",
    "\n",
    "comm.Barrier(); t2=MPI.Wtime()\n",
    "if(rank==0):\n",
    "    sys.stdout.write('Alocating vectors: {0:.2f} seconds\\n'.format(t2-t1))"
   ]
  },
  {
   "cell_type": "code",
   "execution_count": 23,
   "metadata": {},
   "outputs": [
    {
     "name": "stdout",
     "output_type": "stream",
     "text": [
      "[stdout:3] Preparing the real domain for radial integration: 3.76 seconds\n"
     ]
    }
   ],
   "source": [
    "%%px\n",
    "\n",
    "comm.Barrier(); t1=MPI.Wtime()\n",
    "for i in range(nx):\n",
    "    X[i,:,:] = (i+rank*nx)*isotropic1024coarse['dx']\n",
    "    \n",
    "for j in range(ny):\n",
    "    Y[:,j,:] = j*isotropic1024coarse['dy']\n",
    "    \n",
    "for k in range(nz):\n",
    "    Z[:,:,k] = k*isotropic1024coarse['dz']\n",
    "    \n",
    "r2[:,:,:] = X[:,:,:]**2+Y[:,:,:]**2+Z[:,:,:]**2\n",
    "\n",
    "r2rt = np.sqrt(r2)\n",
    "comm.Barrier(); t2=MPI.Wtime()\n",
    "if(rank==0):\n",
    "    sys.stdout.write('Preparing the real domain for radial integration: {0:.2f} seconds\\n'.format(t2-t1))"
   ]
  },
  {
   "cell_type": "code",
   "execution_count": null,
   "metadata": {
    "collapsed": true
   },
   "outputs": [],
   "source": [
    "%%px\n",
    "\n",
    "dt = 0.05\n",
    "\n",
    "thresholds = [1,2,3,4,5,6,7,10,15,20,30,50]\n",
    "\n",
    "tboxes = []\n",
    "\n",
    "for t in thresholds:\n",
    "    comm.Barrier(); t1=MPI.Wtime()\n",
    "    \n",
    "    Xs = X[(w2 > t*avg)&(w2 < t*(1+dt)*avg)]\n",
    "    Ys = Y[(w2 > t*avg)&(w2 < t*(1+dt)*avg)]\n",
    "    Zs = Z[(w2 > t*avg)&(w2 < t*(1+dt)*avg)]\n",
    "    \n",
    "    print(Xs.shape)\n",
    "    \n",
    "    hist = np.zeros((Xs.shape[0],3))\n",
    "    \n",
    "    hist[:,0] = Xs[:]\n",
    "    hist[:,1] = Ys[:]\n",
    "    hist[:,2] = Zs[:]\n",
    "    \n",
    "    count = []\n",
    "    scales = np.logspace(np.log(2*425*eta),np.log(0.1*42.5*eta), num=250, endpoint=True, base=np.e)\n",
    "    #scales = [0.1*42.5*eta,0.3*42.5*eta]\n",
    "    \n",
    "    for L in scales:\n",
    "        x1 = x0+isotropic1024coarse['lx']\n",
    "        y1 = y0+isotropic1024coarse['ly']\n",
    "        z1 = z0+isotropic1024coarse['lz']\n",
    "        \n",
    "        nx = int((x1-x0)/L)+1\n",
    "        ny = int((y1-y0)/L)+1\n",
    "        nz = int((z1-z0)/L)+1\n",
    "        \n",
    "        x1 = x0 + nx*L\n",
    "        y1 = y0 + ny*L \n",
    "        z1 = z0 + nz*L\n",
    "        \n",
    "        H, edges = np.histogramdd(hist, bins=(nx,ny,nz), range=((x0,x1),(y0,y1),(z0,z1)))\n",
    "        \n",
    "        Hglobal = np.zeros(H.shape,dtype='float64')\n",
    "        comm.Allreduce([H.astype('float64'),MPI.DOUBLE],[Hglobal,MPI.DOUBLE],op=MPI.SUM)\n",
    "        \n",
    "        Hn = Hglobal[:,:,:]\n",
    "        Sn = Hglobal[:,:,:]\n",
    "        Bn = Hglobal[:,:,:]\n",
    "        ###############################################################\n",
    "        # Here is where boxcouting and correlation dimension differs. #\n",
    "        ###############################################################\n",
    "        Bn[Bn>0] = 1\n",
    "        numBox = np.sum(Bn)\n",
    "        numPts = np.sum(Sn)\n",
    "        Hn[:,:,:] = Hn[:,:,:]/(numPts)\n",
    "        corrBox = np.sum(Hn**2)\n",
    "        ###############################################################\n",
    "        gbox = np.zeros(1,dtype='float32')\n",
    "        gbox[0] = corrBox\n",
    "        gbox = gbox[0]\n",
    "        ###############################################################\n",
    "        count.append(gbox)\n",
    "    \n",
    "    acount = np.array(count)\n",
    "    \n",
    "    tboxes.append(acount[:])\n",
    "        \n",
    "    comm.Barrier(); t2=MPI.Wtime()\n",
    "    if(rank==0):\n",
    "        sys.stdout.write('Computing boxcounting numbers: {0:.2f} seconds\\n'.format(t2-t1))"
   ]
  },
  {
   "cell_type": "code",
   "execution_count": null,
   "metadata": {
    "collapsed": true
   },
   "outputs": [],
   "source": [
    "%%px \n",
    "\n",
    "if rank==0:\n",
    "    tfboxes = np.array(tboxes)\n",
    "    np.savez('boxcount-shells-enstrophy-corr-dims.npz',tfboxes = tfboxes)"
   ]
  },
  {
   "cell_type": "code",
   "execution_count": null,
   "metadata": {
    "collapsed": true
   },
   "outputs": [],
   "source": [
    "%%px\n",
    "\n",
    "dt = 0.05\n",
    "\n",
    "thresholds = [1,2,3,4,5,6,7,10,15,20,30,50]\n",
    "\n",
    "tboxes = []\n",
    "\n",
    "for t in thresholds:\n",
    "    comm.Barrier(); t1=MPI.Wtime()\n",
    "    \n",
    "    Xs = X[(S2 > t*avg)&(S2 < t*(1+dt)*avg)]\n",
    "    Ys = Y[(S2 > t*avg)&(S2 < t*(1+dt)*avg)]\n",
    "    Zs = Z[(S2 > t*avg)&(S2 < t*(1+dt)*avg)]\n",
    "    \n",
    "    print(Xs.shape)\n",
    "    \n",
    "    hist = np.zeros((Xs.shape[0],3))\n",
    "    \n",
    "    hist[:,0] = Xs[:]\n",
    "    hist[:,1] = Ys[:]\n",
    "    hist[:,2] = Zs[:]\n",
    "    \n",
    "    count = []\n",
    "    scales = np.logspace(np.log(2*425*eta),np.log(0.1*42.5*eta), num=250, endpoint=True, base=np.e)\n",
    "    #scales = [0.1*42.5*eta,0.3*42.5*eta]\n",
    "    \n",
    "    for L in scales:\n",
    "        x1 = x0+isotropic1024coarse['lx']\n",
    "        y1 = y0+isotropic1024coarse['ly']\n",
    "        z1 = z0+isotropic1024coarse['lz']\n",
    "        \n",
    "        nx = int((x1-x0)/L)+1\n",
    "        ny = int((y1-y0)/L)+1\n",
    "        nz = int((z1-z0)/L)+1\n",
    "        \n",
    "        x1 = x0 + nx*L\n",
    "        y1 = y0 + ny*L \n",
    "        z1 = z0 + nz*L\n",
    "        \n",
    "        H, edges = np.histogramdd(hist, bins=(nx,ny,nz), range=((x0,x1),(y0,y1),(z0,z1)))\n",
    "        \n",
    "        Hglobal = np.zeros(H.shape,dtype='float64')\n",
    "        comm.Allreduce([H.astype('float64'),MPI.DOUBLE],[Hglobal,MPI.DOUBLE],op=MPI.SUM)\n",
    "        \n",
    "        Hn = Hglobal[:,:,:]\n",
    "        Sn = Hglobal[:,:,:]\n",
    "        Bn = Hglobal[:,:,:]\n",
    "        ###############################################################\n",
    "        # Here is where boxcouting and correlation dimension differs. #\n",
    "        ###############################################################\n",
    "        Bn[Bn>0] = 1\n",
    "        numBox = np.sum(Bn)\n",
    "        numPts = np.sum(Sn)\n",
    "        Hn[:,:,:] = Hn[:,:,:]/(numPts)\n",
    "        corrBox = np.sum(Hn**2)\n",
    "        ###############################################################\n",
    "        gbox = np.zeros(1,dtype='float32')\n",
    "        gbox[0] = corrBox\n",
    "        gbox = gbox[0]\n",
    "        ###############################################################\n",
    "        count.append(gbox)\n",
    "    \n",
    "    acount = np.array(count)\n",
    "    \n",
    "    tboxes.append(acount[:])\n",
    "        \n",
    "    comm.Barrier(); t2=MPI.Wtime()\n",
    "    if(rank==0):\n",
    "        sys.stdout.write('Computing boxcounting numbers: {0:.2f} seconds\\n'.format(t2-t1))"
   ]
  },
  {
   "cell_type": "code",
   "execution_count": null,
   "metadata": {
    "collapsed": true
   },
   "outputs": [],
   "source": [
    "%%px \n",
    "\n",
    "if rank==0:\n",
    "    tfboxes = np.array(tboxes)\n",
    "    np.savez('boxcount-shells-strainrate-corr-dims.npz',tfboxes = tfboxes)"
   ]
  }
 ],
 "metadata": {
  "kernelspec": {
   "display_name": "Python 2",
   "language": "python",
   "name": "python2"
  },
  "language_info": {
   "codemirror_mode": {
    "name": "ipython",
    "version": 2
   },
   "file_extension": ".py",
   "mimetype": "text/x-python",
   "name": "python",
   "nbconvert_exporter": "python",
   "pygments_lexer": "ipython2",
   "version": "2.7.9"
  }
 },
 "nbformat": 4,
 "nbformat_minor": 2
}
