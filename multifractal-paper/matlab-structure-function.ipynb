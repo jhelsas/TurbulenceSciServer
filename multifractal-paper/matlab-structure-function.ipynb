{
 "cells": [
  {
   "cell_type": "code",
   "execution_count": 28,
   "metadata": {
    "collapsed": true
   },
   "outputs": [],
   "source": [
    "%matplotlib inline\n",
    "import numpy as np\n",
    "import time \n",
    "import matplotlib as mpl\n",
    "from itertools import product\n",
    "import matplotlib.pyplot as plt\n",
    "import pyJHTDB\n",
    "from pyJHTDB.dbinfo import isotropic1024coarse\n",
    "from pyJHTDB import libJHTDB"
   ]
  },
  {
   "cell_type": "code",
   "execution_count": 6,
   "metadata": {
    "collapsed": false
   },
   "outputs": [],
   "source": [
    "Nx = isotropic1024coarse['nx']; Ny = isotropic1024coarse['ny']; Nz = isotropic1024coarse['nz']\n",
    "Lx = isotropic1024coarse['lx']; Ly = isotropic1024coarse['ly']; Lz = isotropic1024coarse['lz']\n",
    "dx = isotropic1024coarse['dx']; dy = isotropic1024coarse['dy']; dz = isotropic1024coarse['dz']\n",
    "\n",
    "N = Nx"
   ]
  },
  {
   "cell_type": "code",
   "execution_count": 26,
   "metadata": {
    "collapsed": false
   },
   "outputs": [],
   "source": [
    "tStep = 0.0\n",
    "nCubes = 32\n",
    "m_block = np.array([32,128,512])\n",
    "displ = np.random.rand(3)"
   ]
  },
  {
   "cell_type": "code",
   "execution_count": 27,
   "metadata": {
    "collapsed": false
   },
   "outputs": [
    {
     "name": "stdout",
     "output_type": "stream",
     "text": [
      "[ 0.19634954  0.78539816  3.14159265]\n",
      "[ 0.18108747  0.42969957  0.1540104 ]\n"
     ]
    }
   ],
   "source": [
    "print(m_block*dx)\n",
    "print(displ)"
   ]
  },
  {
   "cell_type": "code",
   "execution_count": null,
   "metadata": {
    "collapsed": true
   },
   "outputs": [],
   "source": [
    "def calcuateVelIncr(u,v,w,dx,f_rStart,f_rEnd,i_rSteps):\n",
    "    \n",
    "    long = []\n",
    "    trans = []\n",
    "    count = 0\n",
    "    vel = np.zeros((u.size,3),dtype='float32')\n",
    "    \n",
    "    vel[:,:,:,0] = u\n",
    "    vel[:,:,:,1] = v\n",
    "    vel[:,:,:,2] = w\n",
    "    \n",
    "    incrList = np.logspace(np.log(f_rStart),np.log(f_rEnd),\n",
    "                           num=i_rSteps,endpoint=True,base=np.e)\n",
    "    \n",
    "    for incr in incrList:\n",
    "        count += 1\n",
    "        \n",
    "        for i in range(3):\n",
    "            \n",
    "            VV = vel[:,:,:,i]\n",
    "            velIncr = np.array([])\n",
    "            \n",
    "            for j in range(3):\n",
    "                \n",
    "                incrSteps = np.floor(incr/dx[j])\n",
    "                \n",
    "                for k in range(VV.shape[k]-incrSteps):\n",
    "                    for j == 1:\n",
    "                        df = VV[k+incrSteps,:,:]-VV[k,:,:]\n",
    "                    elif j==2:\n",
    "                        df = VV[:,k+incrSteps,:]-VV[:,k,:]\n",
    "                    else\n",
    "                \n",
    "    \n",
    "    \n",
    "    return long,trans"
   ]
  },
  {
   "cell_type": "code",
   "execution_count": null,
   "metadata": {
    "collapsed": false,
    "scrolled": true
   },
   "outputs": [],
   "source": [
    "begin = time.time()\n",
    "\n",
    "lJHTDB = libJHTDB()\n",
    "lJHTDB.initialize()\n",
    "    \n",
    "long = []\n",
    "trans = []\n",
    "\n",
    "f_rStart = 2*np.pi/N\n",
    "f_rEnd = 2*np.pi/4\n",
    "i_rSteps = 40\n",
    "nCubes = 3\n",
    "incrList = np.logspace(np.log(f_rStart),np.log(f_rEnd),\n",
    "                       num=i_rSteps,endpoint=True,base=np.e)\n",
    "\n",
    "for n in range(nCubes):\n",
    "    displ = np.random.rand(3)\n",
    "    block = np.random.permutation(m_block)\n",
    "    \n",
    "    indices = np.indices(block)\n",
    "    \n",
    "    X = np.zeros((block[0],block[1],block[2],3),dtype='float32')\n",
    "    Xr = np.zeros((block[0],block[1],block[2],3),dtype='float32')\n",
    "    X[:,:,:,0] = displ[0]+indices[0]*dx\n",
    "    X[:,:,:,1] = displ[1]+indices[1]*dy\n",
    "    X[:,:,:,2] = displ[2]+indices[2]*dz\n",
    "    \n",
    "    U = lJHTDB.getData(tStep,X,getFunction = 'getVelocity',\n",
    "                           data_set = 'isotropic1024coarse')\n",
    "    \n",
    "    ############################\n",
    "    for inc in incrList:\n",
    "        print(\"inc = \"+str(inc))\n",
    "        Xr[:,:,:,0] = X[:,:,:,0] + inc\n",
    "        Xr[:,:,:,1] = X[:,:,:,1]\n",
    "        Xr[:,:,:,2] = X[:,:,:,2]\n",
    "        \n",
    "        Ur = lJHTDB.getData(tStep,Xr,getFunction = 'getVelocity',\n",
    "                               data_set = 'isotropic1024coarse')\n",
    "        \n",
    "        df = Ur - U\n",
    "        \n",
    "        lt_df2 = np.average(df[:,:,:,0]**2)\n",
    "        tv_df2 = np.average(df[:,:,:,1]**2) \n",
    "        tv_df2 += np.average(df[:,:,:,2]**2) \n",
    "        tv_df2 = tv_df2/2\n",
    "        long.append(lt_df2)\n",
    "        trans.append(tv_df2)\n",
    "    \n",
    "    ############################\n",
    "    for inc in incrList:\n",
    "        print(\"inc = \"+str(inc))\n",
    "        Xr[:,:,:,0] = X[:,:,:,0]\n",
    "        Xr[:,:,:,1] = X[:,:,:,1] + inc\n",
    "        Xr[:,:,:,2] = X[:,:,:,2]\n",
    "        \n",
    "        Ur = lJHTDB.getData(tStep,Xr,getFunction = 'getVelocity',\n",
    "                               data_set = 'isotropic1024coarse')\n",
    "        \n",
    "        df = Ur - U\n",
    "        \n",
    "        lt_df2 = np.average(df[:,:,:,1]**2)\n",
    "        tv_df2 = np.average(df[:,:,:,0]**2) \n",
    "        tv_df2 += np.average(df[:,:,:,2]**2)\n",
    "        tv_df2 = tv_df2/2\n",
    "        long.append(lt_df2)\n",
    "        trans.append(tv_df2)\n",
    "    \n",
    "    ############################\n",
    "    for inc in incrList:\n",
    "        print(\"inc = \"+str(inc))\n",
    "        Xr[:,:,:,0] = X[:,:,:,0]\n",
    "        Xr[:,:,:,1] = X[:,:,:,1]\n",
    "        Xr[:,:,:,2] = X[:,:,:,2] + inc\n",
    "        \n",
    "        Ur = lJHTDB.getData(tStep,Xr,getFunction = 'getVelocity',\n",
    "                               data_set = 'isotropic1024coarse')\n",
    "        \n",
    "        df = Ur - U\n",
    "        \n",
    "        lt_df2 = np.average(df[:,:,:,2]**2)\n",
    "        tv_df2 = np.average(df[:,:,:,0]**2) \n",
    "        tv_df2 += np.average(df[:,:,:,1]**2)\n",
    "        tv_df2 = tv_df2/2\n",
    "        long.append(lt_df2)\n",
    "        trans.append(tv_df2)\n",
    "    \n",
    "    ############################\n",
    "            \n",
    "    \n",
    "lJHTDB.finalize()\n",
    "end = time.time()\n",
    "print(\"time = \"+str(end-begin))"
   ]
  },
  {
   "cell_type": "code",
   "execution_count": null,
   "metadata": {
    "collapsed": true
   },
   "outputs": [],
   "source": []
  },
  {
   "cell_type": "code",
   "execution_count": null,
   "metadata": {
    "collapsed": true
   },
   "outputs": [],
   "source": []
  },
  {
   "cell_type": "code",
   "execution_count": null,
   "metadata": {
    "collapsed": true
   },
   "outputs": [],
   "source": []
  },
  {
   "cell_type": "code",
   "execution_count": null,
   "metadata": {
    "collapsed": true
   },
   "outputs": [],
   "source": []
  }
 ],
 "metadata": {
  "kernelspec": {
   "display_name": "Python 3",
   "language": "python",
   "name": "python3"
  },
  "language_info": {
   "codemirror_mode": {
    "name": "ipython",
    "version": 3
   },
   "file_extension": ".py",
   "mimetype": "text/x-python",
   "name": "python",
   "nbconvert_exporter": "python",
   "pygments_lexer": "ipython3",
   "version": "3.5.2"
  }
 },
 "nbformat": 4,
 "nbformat_minor": 0
}
