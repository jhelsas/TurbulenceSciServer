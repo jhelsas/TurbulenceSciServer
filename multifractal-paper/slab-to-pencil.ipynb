{
 "cells": [
  {
   "cell_type": "code",
   "execution_count": 1,
   "metadata": {
    "collapsed": true
   },
   "outputs": [],
   "source": [
    "import os\n",
    "import time\n",
    "import numpy as np"
   ]
  },
  {
   "cell_type": "code",
   "execution_count": 2,
   "metadata": {
    "collapsed": true
   },
   "outputs": [],
   "source": [
    "N = 1024"
   ]
  },
  {
   "cell_type": "code",
   "execution_count": 4,
   "metadata": {
    "collapsed": true
   },
   "outputs": [],
   "source": [
    "#S2 = np.zeros((N,N,N),dtype='float32')\n",
    "u = np.zeros((N,N,N),dtype='float32')\n",
    "v = np.zeros((N,N,N),dtype='float32')\n",
    "w = np.zeros((N,N,N),dtype='float32')"
   ]
  },
  {
   "cell_type": "code",
   "execution_count": 7,
   "metadata": {
    "collapsed": false
   },
   "outputs": [
    {
     "name": "stdout",
     "output_type": "stream",
     "text": [
      "120.880017042\n"
     ]
    }
   ],
   "source": [
    "start = time.time()\n",
    "\n",
    "nproc = 8\n",
    "nx = N//nproc\n",
    "\n",
    "#lS2 = np.zeros((N//nproc,N,N), dtype='float32')\n",
    "lu = np.zeros((N//nproc,N,N), dtype='float32')\n",
    "lv = np.zeros((N//nproc,N,N), dtype='float32')\n",
    "lw = np.zeros((N//nproc,N,N), dtype='float32')\n",
    "\n",
    "folder = '/home/idies/workspace/scratch'\n",
    "\n",
    "for k in range(nproc):\n",
    "    filename = 'ref-isotropic1024coarse-'+str(k)+'-(t=0.0).npz'\n",
    "    file = folder+'/'+filename\n",
    "    \n",
    "    content = np.load(file)\n",
    "    #lS2[:,:,:] = content['S2']\n",
    "    lu[:,:,:] = content['vx']\n",
    "    lv[:,:,:] = content['vy']\n",
    "    lw[:,:,:] = content['vz']\n",
    "    \n",
    "    #S2[k*nx:(k+1)*nx,:,:] = lS2[:,:,:]\n",
    "    u[k*nx:(k+1)*nx,:,:] = lu[:,:,:]\n",
    "    v[k*nx:(k+1)*nx,:,:] = lv[:,:,:]\n",
    "    w[k*nx:(k+1)*nx,:,:] = lw[:,:,:]\n",
    "    \n",
    "#del lS2\n",
    "del lu\n",
    "del lv\n",
    "del lw\n",
    "\n",
    "end = time.time()\n",
    "print(end-start)"
   ]
  },
  {
   "cell_type": "code",
   "execution_count": 10,
   "metadata": {
    "collapsed": false
   },
   "outputs": [],
   "source": [
    "P1 = 4\n",
    "P2 = 4\n",
    "\n",
    "nx = N//P1\n",
    "ny = N//P2\n",
    "nz = N\n",
    "\n",
    "folder = '/home/idies/workspace/scratch/pencil16'\n",
    "\n",
    "for p1 in range(P1):\n",
    "    for p2 in range(P2):\n",
    "        slx = slice(p1*nx,(p1+1)*nx)\n",
    "        sly = slice(p2*nx,(p2+1)*nx)\n",
    "        slz = slice(0,nz)\n",
    "        \n",
    "        filename = 'pencil-isotropic1024coarse-('+str(p1)+','+str(p2)+').npz'\n",
    "        sfile = folder+'/'+filename\n",
    "        np.savez(sfile,u = u[slx,sly,slz],v = v[slx,sly,slz],w = w[slx,sly,slz])"
   ]
  },
  {
   "cell_type": "code",
   "execution_count": null,
   "metadata": {
    "collapsed": true
   },
   "outputs": [],
   "source": []
  }
 ],
 "metadata": {
  "kernelspec": {
   "display_name": "Python 2",
   "language": "python",
   "name": "python2"
  },
  "language_info": {
   "codemirror_mode": {
    "name": "ipython",
    "version": 2
   },
   "file_extension": ".py",
   "mimetype": "text/x-python",
   "name": "python",
   "nbconvert_exporter": "python",
   "pygments_lexer": "ipython2",
   "version": "2.7.11"
  }
 },
 "nbformat": 4,
 "nbformat_minor": 2
}
