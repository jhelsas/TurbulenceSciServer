{
 "cells": [
  {
   "cell_type": "code",
   "execution_count": null,
   "metadata": {},
   "outputs": [
    {
     "name": "stdout",
     "output_type": "stream",
     "text": [
      "2017-05-01 13:52:14.656 [IPClusterStart] Created profile dir: u'/home/jhelsas/.ipython/profile_mpi2'\n",
      "2017-05-01 13:52:14.660 [IPClusterStart] Starting ipcluster with [daemon=False]\n",
      "2017-05-01 13:52:14.661 [IPClusterStart] Creating pid file: /home/jhelsas/.ipython/profile_mpi2/pid/ipcluster.pid\n",
      "2017-05-01 13:52:14.661 [IPClusterStart] Starting Controller with LocalControllerLauncher\n",
      "2017-05-01 13:52:15.664 [IPClusterStart] Starting 8 Engines with MPI\n",
      "2017-05-01 13:52:45.672 [IPClusterStart] Engines appear to have started successfully\n"
     ]
    }
   ],
   "source": [
    "!ipcluster start -n 8 --engines=MPI --profile='mpi2'"
   ]
  },
  {
   "cell_type": "code",
   "execution_count": null,
   "metadata": {
    "collapsed": true
   },
   "outputs": [],
   "source": []
  }
 ],
 "metadata": {
  "kernelspec": {
   "display_name": "Python 2",
   "language": "python",
   "name": "python2"
  },
  "language_info": {
   "codemirror_mode": {
    "name": "ipython",
    "version": 2
   },
   "file_extension": ".py",
   "mimetype": "text/x-python",
   "name": "python",
   "nbconvert_exporter": "python",
   "pygments_lexer": "ipython2",
   "version": "2.7.9"
  }
 },
 "nbformat": 4,
 "nbformat_minor": 2
}
