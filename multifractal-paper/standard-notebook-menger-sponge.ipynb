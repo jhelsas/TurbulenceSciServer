{
 "cells": [
  {
   "cell_type": "code",
   "execution_count": 1,
   "metadata": {
    "collapsed": true
   },
   "outputs": [],
   "source": [
    "import os\n",
    "import h5py\n",
    "import time\n",
    "import math\n",
    "import pymp\n",
    "import matplotlib\n",
    "import numpy as np\n",
    "import pyfftw as ft\n",
    "import matplotlib.pyplot as plt"
   ]
  },
  {
   "cell_type": "code",
   "execution_count": 2,
   "metadata": {
    "collapsed": true
   },
   "outputs": [],
   "source": [
    "N = 1024"
   ]
  },
  {
   "cell_type": "code",
   "execution_count": 3,
   "metadata": {},
   "outputs": [
    {
     "data": {
      "text/plain": [
       "(True, True, True)"
      ]
     },
     "execution_count": 3,
     "metadata": {},
     "output_type": "execute_result"
    }
   ],
   "source": [
    "wiz = (b'(fftw-3.3.4 fftw_wisdom #x41ad5c95 #x159437f1 #x23fdee71 #xc6cf4464\\n)\\n', b'(fftw-3.3.4 fftwf_wisdom #xa84d9475 #xdb220970 #x4aa6f1c4 #xf3163254\\n  (fftwf_rdft2_thr_vrank_geq1_register 0 #x10bdd #x10bdd #x0 #x0478d9e6 #xffc458b2 #xefeba0c5 #xe8fb2e05)\\n  (fftwf_dft_buffered_register 1 #x11bdd #x11bdd #x0 #xb6380734 #x8d827d8e #xdc067a28 #x4fc763de)\\n  (fftwf_rdft_rank0_register 4 #x10bdd #x10bdd #x0 #xf3c0402e #xf303d9aa #xbdc22798 #xd9510af9)\\n  (fftwf_rdft2_rank_geq2_register 0 #x11bdd #x11bdd #x0 #xe0177557 #xe9f32997 #xfb2dcb2c #xf8f70860)\\n  (fftwf_dft_buffered_register 0 #x10bdd #x10bdd #x0 #x3eeb1978 #x428183dc #x2a84fbfa #xe4361ea0)\\n  (fftwf_codelet_hc2cb_8 0 #x10bdd #x10bdd #x0 #x48259488 #x196c8c29 #x37f91b06 #x556264da)\\n  (fftwf_rdft2_rank_geq2_register 0 #x10bdd #x10bdd #x0 #xb27d35ea #xa96ba975 #x4796bd74 #xae50e653)\\n  (fftwf_dft_vrank_geq1_register 0 #x10fdd #x10fdd #x0 #x68ff47a8 #x21bb9e5b #xa20dc9bd #xd2485c0c)\\n  (fftwf_codelet_r2cb_8 2 #x10bdd #x10bdd #x0 #x669a3813 #x9ba2bb21 #x64e8656d #x87c9de00)\\n  (fftwf_dft_indirect_register 0 #x10bdd #x10bdd #x0 #x9c0e3f58 #x928ea026 #xd28229a3 #x7246e0ac)\\n  (fftwf_codelet_q1_4 0 #x10fdd #x10fdd #x0 #xee87b2d5 #x3e497607 #xfff1907f #xf9579a39)\\n  (fftwf_dft_vrank_geq1_register 0 #x10fdd #x10fdd #x0 #x8676a7b7 #xe006c70d #x487b0278 #xb2f8f002)\\n  (fftwf_rdft2_rank_geq2_register 0 #x10bdd #x10bdd #x0 #xb8bedcad #x45a4525b #xc44e4385 #xa637a3a4)\\n  (fftwf_codelet_r2cf_8 2 #x11bdd #x11bdd #x0 #x675249aa #x037557b8 #x14643a4b #x9ea626ef)\\n  (fftwf_dft_r2hc_register 0 #x10bdd #x10bdd #x0 #x33c540f7 #x7207139c #x75ca3a4c #x748bc1b6)\\n  (fftwf_dft_vrank_geq1_register 0 #x10bdd #x10bdd #x0 #xf6843763 #xe67a42c5 #x37896514 #x1934a686)\\n  (fftwf_rdft_rank0_register 3 #x10bdd #x10bdd #x0 #x91607aa1 #xd40dae11 #x01dbbb42 #x733d3911)\\n  (fftwf_codelet_t1_4 0 #x10fdd #x10fdd #x0 #x1e5fa302 #x4dca4b4b #x68854fe7 #x57f745da)\\n  (fftwf_dft_r2hc_register 0 #x11bdd #x11bdd #x0 #x129e3b9a #xbe5c8c09 #x84314e36 #x92c09d6d)\\n  (fftwf_rdft2_vrank_geq1_register 0 #x10bdd #x10bdd #x0 #x1a3fc773 #x16826a6d #x4ac1ba9b #x71705541)\\n  (fftwf_codelet_r2cfII_8 2 #x11bdd #x11bdd #x0 #xc7a8d0be #x7798b669 #x9437b479 #x2ba791fc)\\n  (fftwf_dft_nop_register 0 #x11bdd #x11bdd #x0 #x2ca97a7c #x1278c07a #x4b274fea #x63afcfcd)\\n  (fftwf_rdft_vrank_geq1_register 0 #x10bdd #x10bdd #x0 #x2b2a182d #x1a4f0eb8 #x4051bfc8 #x50ede16d)\\n  (fftwf_dft_vrank_geq1_register 0 #x10fdd #x10fdd #x0 #x09558463 #xdea41841 #xf014e84a #x343a12e5)\\n  (fftwf_dft_buffered_register 0 #x11bdd #x11bdd #x0 #xf6040783 #x4ecac406 #x61d1e470 #xc372144f)\\n  (fftwf_dft_r2hc_register 0 #x10bdd #x10bdd #x0 #x37c7ab24 #x6b6a7433 #xbb43af76 #x9bd7720f)\\n  (fftwf_codelet_t1_16 0 #x10bdd #x10bdd #x0 #xcd08c9cd #xac2dabe6 #x0a6d47c5 #x5b07814f)\\n  (fftwf_dft_nop_register 0 #x10bdd #x10bdd #x0 #xd84e4956 #xbbda597c #x4dcc8ca2 #x8135f48a)\\n  (fftwf_dft_nop_register 0 #x11bdd #x11bdd #x0 #xb5f6482a #x970cff75 #xad1e3938 #x526a74d7)\\n  (fftwf_dft_r2hc_register 0 #x10bdd #x10bdd #x0 #x54bf9035 #xa469d859 #x8c3af79c #xaabf7edf)\\n  (fftwf_codelet_t1_16 0 #x10bdd #x10bdd #x0 #xbf8f2281 #x53d808d5 #x34ab52eb #x747f8bf4)\\n  (fftwf_dft_nop_register 0 #x10bdd #x10bdd #x0 #x4c6eda6a #xd64bb98a #xdeff4d47 #xbd9bc277)\\n  (fftwf_rdft_rank0_register 2 #x11bdd #x11bdd #x0 #x104e8159 #x92ac0177 #x0f50339e #x2c4a57af)\\n  (fftwf_codelet_t1_4 0 #x10fdd #x10fdd #x0 #x914f085b #x7945eab1 #xb24b3509 #x41ff886a)\\n  (fftwf_dft_buffered_register 1 #x10bdd #x10bdd #x0 #x7cf6cc98 #x1860681d #x04f92f92 #x64e3787b)\\n  (fftwf_codelet_n1_64 0 #x10fdd #x10fdd #x0 #x2d58151a #x7bf279ac #xd05075c9 #x05025c02)\\n  (fftwf_codelet_hc2cf_8 0 #x11bdd #x11bdd #x0 #xa3aa3245 #xfa89ad84 #x6f51d136 #x21269ea8)\\n  (fftwf_codelet_q1_4 0 #x10fdd #x10fdd #x0 #x6e3f6b00 #xc631065b #xc5ce0991 #xc9e5830a)\\n  (fftwf_rdft2_thr_vrank_geq1_register 0 #x11bdd #x11bdd #x0 #x245908be #x1b45c309 #xfa989829 #xe3448ecb)\\n  (fftwf_dft_thr_vrank_geq1_register 0 #x11bdd #x11bdd #x0 #xce1da3b2 #xb156b9ff #x345deb46 #x24967a68)\\n  (fftwf_codelet_n1_64 0 #x10bdd #x10bdd #x0 #xbf36f96d #xc5099024 #xab4588dd #x0f71c101)\\n  (fftwf_dft_vrank_geq1_register 0 #x11bdd #x11bdd #x0 #xca4b9bb9 #x447b7ee5 #xbb98516b #x49ee082c)\\n  (fftwf_rdft_vrank_geq1_register 0 #x11bdd #x11bdd #x0 #x2fdf6c57 #xa3a423cb #x3c83b16e #xd62995da)\\n  (fftwf_dft_indirect_register 0 #x10bdd #x10bdd #x0 #x938d7e18 #x1343c0de #xbe03a120 #x64e734a9)\\n  (fftwf_codelet_n1_64 0 #x10fdd #x10fdd #x0 #xee00c037 #x8d699089 #xad7ad6a0 #x4efaaf7d)\\n  (fftwf_dft_vrank_geq1_register 0 #x11bdd #x11bdd #x0 #x1fe15182 #x5f3d421c #xba834eb6 #x2292df94)\\n  (fftwf_rdft2_rank_geq2_register 0 #x11bdd #x11bdd #x0 #xbd6b8262 #xabd0b6b7 #xe6ad6d03 #x628df7dc)\\n  (fftwf_rdft_rank0_register 2 #x10bdd #x10bdd #x0 #x104e8159 #x92ac0177 #x0f50339e #x2c4a57af)\\n  (fftwf_rdft2_vrank_geq1_register 0 #x11bdd #x11bdd #x0 #x32025de0 #x37ce7b0a #x95c084dd #xcd18ab21)\\n  (fftwf_codelet_r2cb_128 0 #x10bdd #x10bdd #x0 #x673294cd #xe5b085a3 #xb8a774bf #xfd19dfb2)\\n  (fftwf_dft_r2hc_register 0 #x10bdd #x10bdd #x0 #x3c666628 #x01043fe7 #x20ba9e85 #x1f9b67a1)\\n  (fftwf_codelet_r2cbIII_8 2 #x10bdd #x10bdd #x0 #xfb67696a #x19d836b7 #x6b24c329 #xe4fc2e8b)\\n  (fftwf_rdft_rank0_register 3 #x11bdd #x11bdd #x0 #x91607aa1 #xd40dae11 #x01dbbb42 #x733d3911)\\n  (fftwf_dft_r2hc_register 0 #x11bdd #x11bdd #x0 #x38a08196 #x2a4ca72e #x2d1ba440 #x10600d8c)\\n  (fftwf_codelet_n1_64 0 #x10bdd #x10bdd #x0 #x1913d4ac #xf2d50866 #xc504d3dd #x76d5edcd)\\n  (fftwf_dft_vrank_geq1_register 0 #x10fdd #x10fdd #x0 #x411f7a68 #x161cf1d6 #xbec2d98e #x7d9fdffa)\\n  (fftwf_dft_vrank_geq1_register 0 #x10bdd #x10bdd #x0 #x89cb22ca #x6491b1a8 #xf5f7b0be #x3cd19d43)\\n  (fftwf_dft_thr_vrank_geq1_register 0 #x10bdd #x10bdd #x0 #x519e2811 #xfd996521 #x222afcf1 #xa289f0a6)\\n  (fftwf_codelet_r2cf_128 0 #x11bdd #x11bdd #x0 #x23eb177d #x111d2c06 #xa78f35fb #xd56dcd76)\\n)\\n', b'(fftw-3.3.4 fftwl_wisdom #x0821b5c7 #xa4c07d5a #x21b58211 #xebe513ab\\n)\\n')\n",
    "wiz_pan = ('(fftw-3.3.5 fftw_wisdom #x3c273403 #x192df114 #x4d08727c #xe98e9b9d\\n)\\n', '(fftw-3.3.5 fftwf_wisdom #x706526c0 #x2f8b6c85 #x8cd1bb1a #x7c96e03d\\n  (fftwf_codelet_t2bv_32_avx 0 #x10bdd #x10bdd #x0 #xbf8f2281 #x53d808d5 #x34ab52eb #x747f8bf4)\\n  (fftwf_codelet_r2cf_128 0 #x11bdd #x11bdd #x0 #x23eb177d #x111d2c06 #xa78f35fb #xd56dcd76)\\n  (fftwf_rdft2_rank_geq2_register 0 #x10bdd #x10bdd #x0 #x0478d9e6 #xffc458b2 #xefeba0c5 #xe8fb2e05)\\n  (fftwf_rdft_rank0_register 4 #x10bdd #x10bdd #x0 #xb7dce065 #x1bc70b3f #xefe0c473 #x60ae45b7)\\n  (fftwf_rdft2_vrank_geq1_register 0 #x11bdd #x11bdd #x0 #x32025de0 #x37ce7b0a #x95c084dd #xcd18ab21)\\n  (fftwf_dft_buffered_register 0 #x11bdd #x11bdd #x0 #xb6380734 #x8d827d8e #xdc067a28 #x4fc763de)\\n  (fftwf_dft_vrank_geq1_register 0 #x10bdd #x10bdd #x0 #x89cb22ca #x6491b1a8 #xf5f7b0be #x3cd19d43)\\n  (fftwf_dft_vrank_geq1_register 0 #x10bdd #x10bdd #x0 #x1b302212 #x94fbdfad #xf5eb1b1e #x9cbc4116)\\n  (fftwf_codelet_n1bv_32_avx 0 #x10bdd #x10bdd #x0 #x308753a3 #xcc3d5e80 #xf64312e3 #xc698c209)\\n  (fftwf_codelet_n1_32 0 #x10bdd #x10bdd #x0 #xdbd34cc3 #x010b1fae #x10e8d12b #x05b15faf)\\n  (fftwf_dft_thr_vrank_geq1_register 0 #x10bdd #x10bdd #x0 #x519e2811 #xfd996521 #x222afcf1 #xa289f0a6)\\n  (fftwf_dft_buffered_register 1 #x10bdd #x10bdd #x0 #xf6843763 #xe67a42c5 #x37896514 #x1934a686)\\n  (fftwf_rdft_rank0_register 3 #x10bdd #x10bdd #x0 #xc38de049 #x749dcc3a #x59c86a86 #xfac577ce)\\n  (fftwf_dft_r2hc_register 0 #x10bdd #x10bdd #x0 #xea28ce24 #xc8cff39e #xa823c75f #x926c5590)\\n  (fftwf_rdft2_vrank_geq1_register 0 #x10bdd #x10bdd #x0 #x1a3fc773 #x16826a6d #x4ac1ba9b #x71705541)\\n  (fftwf_codelet_hc2cb_8 0 #x10bdd #x10bdd #x0 #x48259488 #x196c8c29 #x37f91b06 #x556264da)\\n  (fftwf_codelet_r2cb_8 2 #x10bdd #x10bdd #x0 #x669a3813 #x9ba2bb21 #x64e8656d #x87c9de00)\\n  (fftwf_codelet_t2fv_16_avx 0 #x10bdd #x10bdd #x0 #x7ec096c7 #x9497b3de #x122e6483 #x182f48b5)\\n  (fftwf_codelet_t2bv_32_avx 0 #x10bdd #x10bdd #x0 #x354d5c68 #x9e923e23 #xcdb19ec8 #xc1743254)\\n  (fftwf_dft_vrank_geq1_register 0 #x11bdd #x11bdd #x0 #x1fe15182 #x5f3d421c #xba834eb6 #x2292df94)\\n  (fftwf_rdft_rank0_register 3 #x11bdd #x11bdd #x0 #xc38de049 #x749dcc3a #x59c86a86 #xfac577ce)\\n  (fftwf_rdft_vrank_geq1_register 0 #x11bdd #x11bdd #x0 #x2fdf6c57 #xa3a423cb #x3c83b16e #xd62995da)\\n  (fftwf_dft_thr_vrank_geq1_register 0 #x11bdd #x11bdd #x0 #x9841df4f #xe400dd23 #xd6ec67a7 #x522d17d5)\\n  (fftwf_dft_nop_register 0 #x11bdd #x11bdd #x0 #x2ca97a7c #x1278c07a #x4b274fea #x63afcfcd)\\n  (fftwf_codelet_r2cb_128 0 #x10bdd #x10bdd #x0 #x673294cd #xe5b085a3 #xb8a774bf #xfd19dfb2)\\n  (fftwf_codelet_r2cf_8 2 #x11bdd #x11bdd #x0 #x675249aa #x037557b8 #x14643a4b #x9ea626ef)\\n  (fftwf_rdft_vrank_geq1_register 0 #x10bdd #x10bdd #x0 #x2b2a182d #x1a4f0eb8 #x4051bfc8 #x50ede16d)\\n  (fftwf_dft_nop_register 0 #x10bdd #x10bdd #x0 #xd84e4956 #xbbda597c #x4dcc8ca2 #x8135f48a)\\n  (fftwf_dft_nop_register 0 #x11bdd #x11bdd #x0 #xdeee3024 #xbaceb843 #xf78f49d6 #x68b91457)\\n  (fftwf_dft_vrank_geq1_register 0 #x10bdd #x10bdd #x0 #x51cb679a #x7537ad6d #x1fc7433b #x71e04136)\\n  (fftwf_rdft2_rank_geq2_register 0 #x10bdd #x10bdd #x0 #xb27d35ea #xa96ba975 #x4796bd74 #xae50e653)\\n  (fftwf_rdft2_rank_geq2_register 0 #x11bdd #x11bdd #x0 #x245908be #x1b45c309 #xfa989829 #xe3448ecb)\\n  (fftwf_dft_buffered_register 0 #x10bdd #x10bdd #x0 #x7cf6cc98 #x1860681d #x04f92f92 #x64e3787b)\\n  (fftwf_codelet_t2fv_32_avx 0 #x10bdd #x10bdd #x0 #xcd08c9cd #xac2dabe6 #x0a6d47c5 #x5b07814f)\\n  (fftwf_dft_r2hc_register 0 #x11bdd #x11bdd #x0 #x1d4e6822 #x53d86af7 #x0e519b0a #xd83d6f93)\\n  (fftwf_dft_vrank_geq1_register 0 #x10bdd #x10bdd #x0 #x6bcc0f7f #x7c14a472 #x229c6f50 #xcbadbfed)\\n  (fftwf_rdft2_thr_vrank_geq1_register 0 #x10bdd #x10bdd #x0 #x4febdca9 #xa9f8d1e2 #x4784fdd8 #xe8372b48)\\n  (fftwf_codelet_hc2cf_8 0 #x11bdd #x11bdd #x0 #xa3aa3245 #xfa89ad84 #x6f51d136 #x21269ea8)\\n  (fftwf_rdft2_rank_geq2_register 0 #x11bdd #x11bdd #x0 #xbd6b8262 #xabd0b6b7 #xe6ad6d03 #x628df7dc)\\n  (fftwf_dft_r2hc_register 0 #x10bdd #x10bdd #x0 #x043e2cd1 #x12fa8aea #x17cd7852 #xfeb5d3ec)\\n  (fftwf_dft_buffered_register 1 #x11bdd #x11bdd #x0 #xca4b9bb9 #x447b7ee5 #xbb98516b #x49ee082c)\\n  (fftwf_rdft2_thr_vrank_geq1_register 0 #x11bdd #x11bdd #x0 #xecb29e47 #x03b3cd61 #xa27bbdd7 #xf1a239db)\\n  (fftwf_codelet_r2cbIII_8 2 #x10bdd #x10bdd #x0 #xfb67696a #x19d836b7 #x6b24c329 #xe4fc2e8b)\\n  (fftwf_rdft_rank0_register 4 #x11bdd #x11bdd #x0 #xb7dce065 #x1bc70b3f #xefe0c473 #x60ae45b7)\\n  (fftwf_codelet_r2cfII_8 2 #x11bdd #x11bdd #x0 #xc7a8d0be #x7798b669 #x9437b479 #x2ba791fc)\\n  (fftwf_dft_nop_register 0 #x10bdd #x10bdd #x0 #xb99abc38 #x8ead8d6b #xf0c5f1c4 #x54d4dbc2)\\n  (fftwf_codelet_n1_32 0 #x10bdd #x10bdd #x0 #x660a6630 #xc4ce3c6a #x62a726bb #x4f6728ee)\\n  (fftwf_dft_r2hc_register 0 #x11bdd #x11bdd #x0 #x9382d45c #x3b4ef564 #x05a9af24 #x70bb1b32)\\n  (fftwf_codelet_n1fv_64_avx 0 #x10bdd #x10bdd #x0 #xcbc82ab6 #x4a8d3439 #x90a631f6 #x863c4bbe)\\n  (fftwf_dft_thr_vrank_geq1_register 0 #x10bdd #x10bdd #x0 #x5cf9ee0a #xbf41e17f #x89fbc3b2 #x9bb48172)\\n  (fftwf_dft_vrank_geq1_register 0 #x10bdd #x10bdd #x0 #xf91e412c #xc1e62b4b #xb772f42b #x91524b5a)\\n  (fftwf_dft_thr_vrank_geq1_register 0 #x11bdd #x11bdd #x0 #xce1da3b2 #xb156b9ff #x345deb46 #x24967a68)\\n)\\n', '(fftw-3.3.5 fftwl_wisdom #x0821b5c7 #xa4c07d5a #x21b58211 #xebe513ab\\n)\\n')\n",
    "ft.import_wisdom(wiz_pan)"
   ]
  },
  {
   "cell_type": "code",
   "execution_count": 4,
   "metadata": {
    "collapsed": true
   },
   "outputs": [],
   "source": [
    "fo = ft.zeros_aligned((N,N,N), dtype='float32')\n",
    "bo = ft.zeros_aligned((N,N,N//2+1), dtype='complex64')"
   ]
  },
  {
   "cell_type": "code",
   "execution_count": 5,
   "metadata": {},
   "outputs": [
    {
     "name": "stdout",
     "output_type": "stream",
     "text": [
      "0.0040979385376\n"
     ]
    }
   ],
   "source": [
    "start = time.time()\n",
    "\n",
    "fft_object = ft.FFTW(fo,bo,axes=(0,1,2), direction='FFTW_FORWARD', flags=('FFTW_MEASURE', ),threads=8)\n",
    "ifft_object = ft.FFTW(bo,fo,axes=(0,1,2), direction='FFTW_BACKWARD', flags=('FFTW_MEASURE', ),threads=8)\n",
    "\n",
    "end = time.time()\n",
    "print(end-start)"
   ]
  },
  {
   "cell_type": "code",
   "execution_count": 6,
   "metadata": {
    "collapsed": true
   },
   "outputs": [],
   "source": [
    "X = np.zeros((N,N,N))\n",
    "Y = np.zeros((N,N,N))\n",
    "Z = np.zeros((N,N,N))"
   ]
  },
  {
   "cell_type": "code",
   "execution_count": 8,
   "metadata": {
    "collapsed": true
   },
   "outputs": [],
   "source": [
    "dx = 1./N"
   ]
  },
  {
   "cell_type": "code",
   "execution_count": 9,
   "metadata": {},
   "outputs": [
    {
     "name": "stdout",
     "output_type": "stream",
     "text": [
      "31.4662969112\n"
     ]
    }
   ],
   "source": [
    "start = time.time()\n",
    "\n",
    "for i in range(N):\n",
    "    X[i,:,:] = i*dx\n",
    "    \n",
    "for j in range(N):\n",
    "    Y[:,j,:] = j*dx\n",
    "    \n",
    "for k in range(N):\n",
    "    Z[:,:,k] = k*dx\n",
    "\n",
    "end = time.time()\n",
    "print(end-start)"
   ]
  },
  {
   "cell_type": "code",
   "execution_count": 10,
   "metadata": {
    "collapsed": true
   },
   "outputs": [],
   "source": [
    "os.environ['TMPDIR']='/home/jhelsas/scratch'"
   ]
  },
  {
   "cell_type": "code",
   "execution_count": 11,
   "metadata": {},
   "outputs": [
    {
     "name": "stdout",
     "output_type": "stream",
     "text": [
      "0.00406408309937\n"
     ]
    }
   ],
   "source": [
    "start = time.time()\n",
    "\n",
    "lvl = 5\n",
    "\n",
    "chi = np.zeros((N,N,N),dtype='float32')\n",
    "\n",
    "Xr = np.zeros((N,N,N))\n",
    "Yr = np.zeros((N,N,N))\n",
    "Zr = np.zeros((N,N,N))\n",
    "\n",
    "digx = np.zeros((N,N,N),dtype=np.int)\n",
    "digy = np.zeros((N,N,N),dtype=np.int)\n",
    "digz = np.zeros((N,N,N),dtype=np.int)\n",
    "\n",
    "end = time.time()\n",
    "print(end-start)"
   ]
  },
  {
   "cell_type": "code",
   "execution_count": 20,
   "metadata": {},
   "outputs": [
    {
     "name": "stdout",
     "output_type": "stream",
     "text": [
      "388.344359875\n"
     ]
    }
   ],
   "source": [
    "start = time.time()\n",
    "\n",
    "chi[:,:,:] = 1\n",
    "\n",
    "Xr[:,:,:] = X[:,:,:]\n",
    "Yr[:,:,:] = Y[:,:,:]\n",
    "Zr[:,:,:] = Z[:,:,:]\n",
    "\n",
    "lvl = 5\n",
    "for k in range(lvl):\n",
    "    digx[:,:,:] = np.floor(3*Xr[:,:,:])\n",
    "    digy[:,:,:] = np.floor(3*Yr[:,:,:])\n",
    "    digz[:,:,:] = np.floor(3*Zr[:,:,:])\n",
    "    \n",
    "    chi[(digx==1)&(digy==1)] = 0.\n",
    "    chi[(digx==1)&(digz==1)] = 0.\n",
    "    chi[(digy==1)&(digz==1)] = 0.\n",
    "    \n",
    "    Xr[:,:,:] = (3.*Xr[:,:,:]-digx[:,:,:])\n",
    "    Yr[:,:,:] = (3.*Yr[:,:,:]-digy[:,:,:])\n",
    "    Zr[:,:,:] = (3.*Zr[:,:,:]-digz[:,:,:])\n",
    "\n",
    "end = time.time()\n",
    "print(end-start)"
   ]
  },
  {
   "cell_type": "code",
   "execution_count": null,
   "metadata": {
    "collapsed": true
   },
   "outputs": [],
   "source": [
    "start = time.time()\n",
    "\n",
    "folder = '/home/jhelsas/scratch'\n",
    "    \n",
    "nproc = 8\n",
    "nx = N//nproc\n",
    "lchi = np.zeros((N//nproc,N,N), dtype='float32')\n",
    "\n",
    "for k in range(nproc):\n",
    "    filename = 'menger-sponge-'+str(k)+'.npz'\n",
    "    files = folder+'/'+filename\n",
    "    \n",
    "    lchi[:,:,:] = chi[k*nx:(k+1)*nx,:,:]\n",
    "    np.savez(files,lchi=lchi)\n",
    "\n",
    "end = time.time()\n",
    "print(end-start)"
   ]
  },
  {
   "cell_type": "code",
   "execution_count": 12,
   "metadata": {},
   "outputs": [
    {
     "name": "stdout",
     "output_type": "stream",
     "text": [
      "9.30972290039\n"
     ]
    }
   ],
   "source": [
    "start = time.time()\n",
    "\n",
    "folder = '/home/jhelsas/scratch'\n",
    "\n",
    "nproc = 8\n",
    "nx = N//nproc\n",
    "chi = np.zeros((N,N,N), dtype='float32')\n",
    "lchi = np.zeros((N//nproc,N,N), dtype='float32')\n",
    "\n",
    "for k in range(nproc):\n",
    "    filename = 'menger-sponge-'+str(k)+'.npz'\n",
    "    files = folder+'/'+filename\n",
    "    \n",
    "    content = np.load(files)\n",
    "    \n",
    "    lchi[:,:,:] = content['lchi']\n",
    "    \n",
    "    chi[k*nx:(k+1)*nx,:,:] = lchi[:,:,:]\n",
    "\n",
    "end = time.time()\n",
    "print(end-start)"
   ]
  },
  {
   "cell_type": "code",
   "execution_count": 41,
   "metadata": {},
   "outputs": [
    {
     "data": {
      "image/png": "[encoded data removed]",
      "text/plain": [
       "<matplotlib.figure.Figure at 0x2b0c8f1038d0>"
      ]
     },
     "metadata": {},
     "output_type": "display_data"
    }
   ],
   "source": [
    "%matplotlib inline\n",
    "\n",
    "fig = plt.figure(figsize=(12,12))\n",
    "cax = plt.imshow(1-chi[:,:,0],extent=(0,1,0,1),cmap='gray')\n",
    "matplotlib.rc('xtick', labelsize=30) \n",
    "matplotlib.rc('ytick', labelsize=30) \n",
    "#cbar = fig.colorbar(cax,fraction=0.046, pad=0.04)\n",
    "\n",
    "plt.savefig(\"menger-sponge-side.pdf\", bbox_inches='tight', transparent=True)"
   ]
  },
  {
   "cell_type": "code",
   "execution_count": 14,
   "metadata": {},
   "outputs": [
    {
     "data": {
      "image/png": "[encoded data removed]",
      "text/plain": [
       "<matplotlib.figure.Figure at 0x2baa594a3f90>"
      ]
     },
     "metadata": {},
     "output_type": "display_data"
    }
   ],
   "source": [
    "%matplotlib inline\n",
    "\n",
    "fig = plt.figure(figsize=(12,12))\n",
    "cax = plt.imshow(chi[0,:,:])\n",
    "cbar = fig.colorbar(cax,fraction=0.046, pad=0.04)"
   ]
  },
  {
   "cell_type": "code",
   "execution_count": 17,
   "metadata": {
    "collapsed": true
   },
   "outputs": [],
   "source": [
    "tchi = np.zeros((N,N,N))\n",
    "tchi[:,:,:] = chi[:,:,:]"
   ]
  },
  {
   "cell_type": "code",
   "execution_count": 18,
   "metadata": {},
   "outputs": [
    {
     "name": "stdout",
     "output_type": "stream",
     "text": [
      "4.11018610001\n"
     ]
    }
   ],
   "source": [
    "start = time.time()\n",
    "\n",
    "chi = ft.zeros_aligned((N,N,N), dtype='float32')\n",
    "cchi = ft.zeros_aligned((N,N,1+(N//2)), dtype='complex64')\n",
    "corr = ft.zeros_aligned((N,N,N),dtype='float32')\n",
    "\n",
    "end = time.time()\n",
    "print(end-start)"
   ]
  },
  {
   "cell_type": "code",
   "execution_count": 19,
   "metadata": {
    "collapsed": true
   },
   "outputs": [],
   "source": [
    "chi[:,:,:] = tchi[:,:,:]"
   ]
  },
  {
   "cell_type": "code",
   "execution_count": 20,
   "metadata": {},
   "outputs": [
    {
     "name": "stdout",
     "output_type": "stream",
     "text": [
      "24.5802710056\n"
     ]
    }
   ],
   "source": [
    "start = time.time()\n",
    "\n",
    "fo[:,:,:] = chi[:,:,:]\n",
    "fft_object.update_arrays(fo,bo)\n",
    "fft_object.execute()\n",
    "cchi[:,:,:] = bo[:,:,:]\n",
    "\n",
    "tmp = cchi*(cchi.conj())\n",
    "\n",
    "bo[:,:,:] = tmp[:,:,:]\n",
    "ifft_object.update_arrays(bo,fo)\n",
    "ifft_object.execute()\n",
    "corr[:,:,:] = fo[:,:,:]/(N**3)\n",
    "\n",
    "end = time.time()\n",
    "print(end-start)"
   ]
  },
  {
   "cell_type": "code",
   "execution_count": 21,
   "metadata": {
    "collapsed": true
   },
   "outputs": [],
   "source": [
    "dx = 1/N\n",
    "ner = int(512*np.sqrt(3))\n",
    "\n",
    "r2 = np.zeros((N//2,N//2,N//2), dtype='float32')\n",
    "iCorr = np.zeros((N//2,N//2,N//2), dtype='float32')"
   ]
  },
  {
   "cell_type": "code",
   "execution_count": 22,
   "metadata": {
    "collapsed": true
   },
   "outputs": [],
   "source": [
    "r2[:,:,:] = X[0:N//2,0:N//2,0:N//2]**2+Y[0:N//2,0:N//2,0:N//2]**2+Z[0:N//2,0:N//2,0:N//2]**2\n",
    "r2rt = np.sqrt(r2)"
   ]
  },
  {
   "cell_type": "code",
   "execution_count": 23,
   "metadata": {
    "collapsed": true
   },
   "outputs": [],
   "source": [
    "minrt = np.min(r2rt)\n",
    "maxrt = np.max(r2rt)\n",
    "rbins = np.linspace(minrt,maxrt,1+ner)"
   ]
  },
  {
   "cell_type": "code",
   "execution_count": 24,
   "metadata": {
    "collapsed": true
   },
   "outputs": [],
   "source": [
    "iCorr[0:(N//2),0:(N//2),0:(N//2)] = corr[0:(N//2),0:(N//2),0:(N//2)] "
   ]
  },
  {
   "cell_type": "code",
   "execution_count": 25,
   "metadata": {},
   "outputs": [
    {
     "name": "stdout",
     "output_type": "stream",
     "text": [
      "13.7294070721\n"
     ]
    }
   ],
   "source": [
    "start = time.time()\n",
    "\n",
    "corrLoc,redges = np.histogram(r2rt,range=(minrt,maxrt)\n",
    "                              ,bins = rbins,weights=iCorr)\n",
    "    \n",
    "r2Loc,r2edges = np.histogram(r2rt,range=(minrt,maxrt)\n",
    "                            ,bins = rbins)\n",
    "\n",
    "end = time.time()\n",
    "print(end-start)"
   ]
  },
  {
   "cell_type": "code",
   "execution_count": 26,
   "metadata": {
    "collapsed": true
   },
   "outputs": [],
   "source": [
    "cbins = (rbins[0:ner]+rbins[1:ner+1])/2"
   ]
  },
  {
   "cell_type": "code",
   "execution_count": 27,
   "metadata": {
    "collapsed": true
   },
   "outputs": [],
   "source": [
    "import matplotlib as mpl\n",
    "import matplotlib.pyplot as plt\n",
    "\n",
    "mpl.rcParams['text.usetex'] = True"
   ]
  },
  {
   "cell_type": "code",
   "execution_count": 28,
   "metadata": {},
   "outputs": [
    {
     "name": "stdout",
     "output_type": "stream",
     "text": [
      "[  1.71130311  12.37998815]\n"
     ]
    },
    {
     "data": {
      "text/plain": [
       "[<matplotlib.lines.Line2D at 0x2af355e839d0>]"
      ]
     },
     "execution_count": 28,
     "metadata": {},
     "output_type": "execute_result"
    },
    {
     "data": {
      "image/png": "[encoded data removed]",
      "text/plain": [
       "<matplotlib.figure.Figure at 0x2af355e6a3d0>"
      ]
     },
     "metadata": {},
     "output_type": "display_data"
    }
   ],
   "source": [
    "%matplotlib inline\n",
    "matplotlib.rc('xtick', labelsize=20) \n",
    "matplotlib.rc('ytick', labelsize=20) \n",
    "plt.figure(figsize=(12,12))\n",
    "plt.xlabel(r'$r$', fontsize=20)\n",
    "plt.ylabel(r'$\\frac{C(r)}{C(0)} = \\frac{r^2}{C(0)} \\int_{S^2} \\langle \\chi({\\bf x}) \\chi({\\bf x}+{\\bf r}) \\rangle d\\Omega$', fontsize=20)\n",
    "\n",
    "plt.loglog(cbins,(corrLoc)/(corrLoc[0]),'rx')\n",
    "plt.xlim(minrt+dx/4,np.pi)\n",
    "\n",
    "tempRp = cbins[(cbins>0.01)&(cbins<0.1)]\n",
    "tempCorr = corrLoc[(cbins>0.01)&(cbins<0.1)]/corrLoc[0]\n",
    "fit = np.polyfit(np.log(tempRp),np.log(tempCorr),1)\n",
    "print(fit)\n",
    "plt.loglog(cbins,np.exp(fit[1])*(cbins**(fit[0])),'k--')\n",
    "\n",
    "#plt.savefig(\"menger-sponge-correlation.pdf\")"
   ]
  },
  {
   "cell_type": "code",
   "execution_count": 35,
   "metadata": {},
   "outputs": [
    {
     "name": "stdout",
     "output_type": "stream",
     "text": [
      "D=2.75325232517\n"
     ]
    },
    {
     "data": {
      "image/png": "[encoded data removed]",
      "text/plain": [
       "<matplotlib.figure.Figure at 0x2af355d14450>"
      ]
     },
     "metadata": {},
     "output_type": "display_data"
    }
   ],
   "source": [
    "import matplotlib\n",
    "import matplotlib.pyplot as plt\n",
    "\n",
    "matplotlib.rc('xtick', labelsize=35) \n",
    "matplotlib.rc('ytick', labelsize=35) \n",
    "plt.figure(figsize=(12,6))\n",
    "plt.xlabel(r'$r$',size=40)\n",
    "plt.ylabel(r'$C(r)$', fontsize=40)\n",
    "\n",
    "plt.loglog(cbins,(corrLoc/r2Loc)/(corrLoc[0]/r2Loc[0]),'k-')\n",
    "plt.xlim(minrt+dx/4,np.pi/4)\n",
    "plt.ylim(10**(-1),1.2)\n",
    "\n",
    "tempRp = cbins[(cbins>0.01)&(cbins<0.1)]\n",
    "tempCorr = (corrLoc[(cbins>0.01)&(cbins<0.1)]/r2Loc[(cbins>0.01)&(cbins<0.1)])/(corrLoc[0]/r2Loc[0])\n",
    "fit = np.polyfit(np.log(tempRp),np.log(tempCorr),1)\n",
    "print(\"D=\"+str(fit[0]+3))\n",
    "\n",
    "plt.loglog(cbins,np.exp(fit[1])*(cbins**(fit[0])),'k-.')\n",
    "plt.loglog(cbins,np.exp(fit[1]+0.2)*((cbins)**(-(3-2.72683302786))),'k:',label=r'Reference $D_h=2.7268$')\n",
    "\n",
    "plt.axvline(x=10**(-2), color='k', linestyle='--')\n",
    "plt.axvline(x=10**(-1), color='k', linestyle='--')\n",
    "plt.text(1.2*10**(-2), 0.815, r'$r = 0.01$', fontsize=30)\n",
    "plt.text(1.2*10**(-1), 0.815, r'$r = 0.1$', fontsize=30)\n",
    "plt.legend(loc='lower left',prop={'size':30},ncol=2)\n",
    "plt.savefig(\"menger-sponge-correlation.pdf\", bbox_inches='tight', transparent=True)"
   ]
  },
  {
   "cell_type": "code",
   "execution_count": 36,
   "metadata": {
    "collapsed": true
   },
   "outputs": [],
   "source": [
    "scales = []\n",
    "BoxL = 1\n",
    "x0 = y0 = z0 = 0.\n",
    "\n",
    "L = BoxL/2.\n",
    "\n",
    "x1 = x0+1\n",
    "y1 = y0+1\n",
    "z1 = z0+1\n",
    "\n",
    "nx = int((x1-x0)/L)+1\n",
    "ny = int((y1-y0)/L)+1\n",
    "nz = int((z1-z0)/L)+1\n",
    "\n",
    "x1 = x0 + nx*L\n",
    "y1 = y0 + ny*L \n",
    "z1 = z0 + nz*L"
   ]
  },
  {
   "cell_type": "code",
   "execution_count": 37,
   "metadata": {
    "collapsed": true
   },
   "outputs": [],
   "source": [
    "Xs = X[chi>0]\n",
    "Ys = Y[chi>0]\n",
    "Zs = Z[chi>0]"
   ]
  },
  {
   "cell_type": "code",
   "execution_count": 38,
   "metadata": {
    "collapsed": true
   },
   "outputs": [],
   "source": [
    "eta = 0.00287\n",
    "hist = np.zeros((Xs.shape[0],3))\n",
    "scales = np.logspace(np.log(1),np.log(10**(-3)), num=250, endpoint=True, base=np.e)"
   ]
  },
  {
   "cell_type": "code",
   "execution_count": 42,
   "metadata": {
    "scrolled": true
   },
   "outputs": [
    {
     "name": "stdout",
     "output_type": "stream",
     "text": [
      "Scale : 1.0\n",
      "Scale : 0.972639285994\n",
      "Scale : 0.94602718066\n",
      "Scale : 0.920143201528\n",
      "Scale : 0.894967426547\n",
      "Scale : 0.870480478745\n",
      "Scale : 0.846663511319\n",
      "Scale : 0.823498193127\n",
      "Scale : 0.800966694581\n",
      "Scale : 0.779051673922\n",
      "Scale : 0.757736263877\n",
      "Scale : 0.737004058669\n",
      "Scale : 0.716839101399\n",
      "Scale : 0.697225871758\n",
      "Scale : 0.678149274083\n",
      "Scale : 0.659594625742\n",
      "Scale : 0.641547645827\n",
      "Scale : 0.623994444169\n",
      "Scale : 0.606921510641\n",
      "Scale : 0.590315704765\n",
      "Scale : 0.574164245594\n",
      "Scale : 0.558454701878\n",
      "Scale : 0.543174982495\n",
      "Scale : 0.528313327144\n",
      "Scale : 0.513858297294\n",
      "Scale : 0.499798767383\n",
      "Scale : 0.486123916248\n"
     ]
    },
    {
     "ename": "KeyboardInterrupt",
     "evalue": "",
     "output_type": "error",
     "traceback": [
      "\u001b[0;31m---------------------------------------------------------------------------\u001b[0m",
      "\u001b[0;31mKeyboardInterrupt\u001b[0m                         Traceback (most recent call last)",
      "\u001b[0;32m<ipython-input-42-b31c53f1ce50>\u001b[0m in \u001b[0;36m<module>\u001b[0;34m()\u001b[0m\n\u001b[1;32m     23\u001b[0m     \u001b[0mz1\u001b[0m \u001b[0;34m=\u001b[0m \u001b[0mz0\u001b[0m \u001b[0;34m+\u001b[0m \u001b[0mnz\u001b[0m\u001b[0;34m*\u001b[0m\u001b[0mL\u001b[0m\u001b[0;34m\u001b[0m\u001b[0m\n\u001b[1;32m     24\u001b[0m \u001b[0;34m\u001b[0m\u001b[0m\n\u001b[0;32m---> 25\u001b[0;31m     \u001b[0mH\u001b[0m\u001b[0;34m,\u001b[0m \u001b[0medges\u001b[0m \u001b[0;34m=\u001b[0m \u001b[0mnp\u001b[0m\u001b[0;34m.\u001b[0m\u001b[0mhistogramdd\u001b[0m\u001b[0;34m(\u001b[0m\u001b[0mhist\u001b[0m\u001b[0;34m,\u001b[0m \u001b[0mbins\u001b[0m\u001b[0;34m=\u001b[0m\u001b[0;34m(\u001b[0m\u001b[0mnx\u001b[0m\u001b[0;34m,\u001b[0m\u001b[0mny\u001b[0m\u001b[0;34m,\u001b[0m\u001b[0mnz\u001b[0m\u001b[0;34m)\u001b[0m\u001b[0;34m,\u001b[0m \u001b[0mrange\u001b[0m\u001b[0;34m=\u001b[0m\u001b[0;34m(\u001b[0m\u001b[0;34m(\u001b[0m\u001b[0mx0\u001b[0m\u001b[0;34m,\u001b[0m\u001b[0mx1\u001b[0m\u001b[0;34m)\u001b[0m\u001b[0;34m,\u001b[0m\u001b[0;34m(\u001b[0m\u001b[0my0\u001b[0m\u001b[0;34m,\u001b[0m\u001b[0my1\u001b[0m\u001b[0;34m)\u001b[0m\u001b[0;34m,\u001b[0m\u001b[0;34m(\u001b[0m\u001b[0mz0\u001b[0m\u001b[0;34m,\u001b[0m\u001b[0mz1\u001b[0m\u001b[0;34m)\u001b[0m\u001b[0;34m)\u001b[0m\u001b[0;34m,\u001b[0m \u001b[0mnormed\u001b[0m\u001b[0;34m=\u001b[0m\u001b[0mTrue\u001b[0m\u001b[0;34m)\u001b[0m\u001b[0;34m\u001b[0m\u001b[0m\n\u001b[0m\u001b[1;32m     26\u001b[0m \u001b[0;34m\u001b[0m\u001b[0m\n\u001b[1;32m     27\u001b[0m     \u001b[0mHn\u001b[0m \u001b[0;34m=\u001b[0m \u001b[0mH\u001b[0m\u001b[0;34m[\u001b[0m\u001b[0;34m:\u001b[0m\u001b[0;34m]\u001b[0m\u001b[0;34m\u001b[0m\u001b[0m\n",
      "\u001b[0;32m/home/jhelsas/anaconda2/lib/python2.7/site-packages/numpy/lib/function_base.pyc\u001b[0m in \u001b[0;36mhistogramdd\u001b[0;34m(sample, bins, range, normed, weights)\u001b[0m\n\u001b[1;32m    967\u001b[0m             \u001b[0;31m# Find which points are on the rightmost edge.\u001b[0m\u001b[0;34m\u001b[0m\u001b[0;34m\u001b[0m\u001b[0m\n\u001b[1;32m    968\u001b[0m             \u001b[0mnot_smaller_than_edge\u001b[0m \u001b[0;34m=\u001b[0m \u001b[0;34m(\u001b[0m\u001b[0msample\u001b[0m\u001b[0;34m[\u001b[0m\u001b[0;34m:\u001b[0m\u001b[0;34m,\u001b[0m \u001b[0mi\u001b[0m\u001b[0;34m]\u001b[0m \u001b[0;34m>=\u001b[0m \u001b[0medges\u001b[0m\u001b[0;34m[\u001b[0m\u001b[0mi\u001b[0m\u001b[0;34m]\u001b[0m\u001b[0;34m[\u001b[0m\u001b[0;34m-\u001b[0m\u001b[0;36m1\u001b[0m\u001b[0;34m]\u001b[0m\u001b[0;34m)\u001b[0m\u001b[0;34m\u001b[0m\u001b[0m\n\u001b[0;32m--> 969\u001b[0;31m             on_edge = (around(sample[:, i], decimal) ==\n\u001b[0m\u001b[1;32m    970\u001b[0m                        around(edges[i][-1], decimal))\n\u001b[1;32m    971\u001b[0m             \u001b[0;31m# Shift these points one bin to the left.\u001b[0m\u001b[0;34m\u001b[0m\u001b[0;34m\u001b[0m\u001b[0m\n",
      "\u001b[0;32m/home/jhelsas/anaconda2/lib/python2.7/site-packages/numpy/core/fromnumeric.pyc\u001b[0m in \u001b[0;36maround\u001b[0;34m(a, decimals, out)\u001b[0m\n\u001b[1;32m   2767\u001b[0m \u001b[0;34m\u001b[0m\u001b[0m\n\u001b[1;32m   2768\u001b[0m     \"\"\"\n\u001b[0;32m-> 2769\u001b[0;31m     \u001b[0;32mreturn\u001b[0m \u001b[0m_wrapfunc\u001b[0m\u001b[0;34m(\u001b[0m\u001b[0ma\u001b[0m\u001b[0;34m,\u001b[0m \u001b[0;34m'round'\u001b[0m\u001b[0;34m,\u001b[0m \u001b[0mdecimals\u001b[0m\u001b[0;34m=\u001b[0m\u001b[0mdecimals\u001b[0m\u001b[0;34m,\u001b[0m \u001b[0mout\u001b[0m\u001b[0;34m=\u001b[0m\u001b[0mout\u001b[0m\u001b[0;34m)\u001b[0m\u001b[0;34m\u001b[0m\u001b[0m\n\u001b[0m\u001b[1;32m   2770\u001b[0m \u001b[0;34m\u001b[0m\u001b[0m\n\u001b[1;32m   2771\u001b[0m \u001b[0;34m\u001b[0m\u001b[0m\n",
      "\u001b[0;32m/home/jhelsas/anaconda2/lib/python2.7/site-packages/numpy/core/fromnumeric.pyc\u001b[0m in \u001b[0;36m_wrapfunc\u001b[0;34m(obj, method, *args, **kwds)\u001b[0m\n\u001b[1;32m     55\u001b[0m \u001b[0;32mdef\u001b[0m \u001b[0m_wrapfunc\u001b[0m\u001b[0;34m(\u001b[0m\u001b[0mobj\u001b[0m\u001b[0;34m,\u001b[0m \u001b[0mmethod\u001b[0m\u001b[0;34m,\u001b[0m \u001b[0;34m*\u001b[0m\u001b[0margs\u001b[0m\u001b[0;34m,\u001b[0m \u001b[0;34m**\u001b[0m\u001b[0mkwds\u001b[0m\u001b[0;34m)\u001b[0m\u001b[0;34m:\u001b[0m\u001b[0;34m\u001b[0m\u001b[0m\n\u001b[1;32m     56\u001b[0m     \u001b[0;32mtry\u001b[0m\u001b[0;34m:\u001b[0m\u001b[0;34m\u001b[0m\u001b[0m\n\u001b[0;32m---> 57\u001b[0;31m         \u001b[0;32mreturn\u001b[0m \u001b[0mgetattr\u001b[0m\u001b[0;34m(\u001b[0m\u001b[0mobj\u001b[0m\u001b[0;34m,\u001b[0m \u001b[0mmethod\u001b[0m\u001b[0;34m)\u001b[0m\u001b[0;34m(\u001b[0m\u001b[0;34m*\u001b[0m\u001b[0margs\u001b[0m\u001b[0;34m,\u001b[0m \u001b[0;34m**\u001b[0m\u001b[0mkwds\u001b[0m\u001b[0;34m)\u001b[0m\u001b[0;34m\u001b[0m\u001b[0m\n\u001b[0m\u001b[1;32m     58\u001b[0m \u001b[0;34m\u001b[0m\u001b[0m\n\u001b[1;32m     59\u001b[0m     \u001b[0;31m# An AttributeError occurs if the object does not have\u001b[0m\u001b[0;34m\u001b[0m\u001b[0;34m\u001b[0m\u001b[0m\n",
      "\u001b[0;31mKeyboardInterrupt\u001b[0m: "
     ]
    }
   ],
   "source": [
    "hist[:,0] = Xs[:]\n",
    "hist[:,1] = Ys[:]\n",
    "hist[:,2] = Zs[:]\n",
    "\n",
    "start0 = time.time()\n",
    "\n",
    "count0 = []\n",
    "for L in scales:\n",
    "    start = time.time()\n",
    "    \n",
    "    print(\"Scale : \"+str(L))\n",
    "    \n",
    "    x1 = x0+1\n",
    "    y1 = y0+1\n",
    "    z1 = z0+1\n",
    "    \n",
    "    nx = int((x1-x0)/L)+1\n",
    "    ny = int((y1-y0)/L)+1\n",
    "    nz = int((z1-z0)/L)+1\n",
    "    \n",
    "    x1 = x0 + nx*L\n",
    "    y1 = y0 + ny*L\n",
    "    z1 = z0 + nz*L\n",
    "    \n",
    "    H, edges = np.histogramdd(hist, bins=(nx,ny,nz), range=((x0,x1),(y0,y1),(z0,z1)), normed=True)\n",
    "    \n",
    "    Hn = H[:]\n",
    "    Hn[Hn>0] = 1\n",
    "    numBox = np.sum(Hn)\n",
    "    \n",
    "    count0.append(numBox)\n",
    "    end = time.time()\n",
    "    \n",
    "end0 = time.time()\n",
    "print(\"Total = \",end0-start0)"
   ]
  },
  {
   "cell_type": "code",
   "execution_count": 138,
   "metadata": {},
   "outputs": [
    {
     "name": "stdout",
     "output_type": "stream",
     "text": [
      "(-2.7064444304623541, -2.6031402160350789)\n"
     ]
    },
    {
     "data": {
      "image/png": "[encoded data removed]",
      "text/plain": [
       "<matplotlib.figure.Figure at 0x2aef41ae0490>"
      ]
     },
     "metadata": {},
     "output_type": "display_data"
    }
   ],
   "source": [
    "%matplotlib inline\n",
    "\n",
    "scales = np.array(scales)\n",
    "count0 = np.array(count0)\n",
    "\n",
    "fig = plt.figure(figsize=(12,6))\n",
    "matplotlib.rc('xtick', labelsize=30) \n",
    "matplotlib.rc('ytick', labelsize=30)      \n",
    "plt.xlabel(r'$r$',size=40)\n",
    "plt.ylabel(r'$N_r$',size=40)\n",
    "plt.xlim([0.0005,2])\n",
    "plt.ylim([10**(0),10**9])\n",
    "\n",
    "idx = (scales>0.001)&(scales<0.0022)\n",
    "Idx = scales>0.01\n",
    "\n",
    "fit = np.polyfit(np.log(scales[idx]),np.log(count0[idx]),1)    \n",
    "Fit = np.polyfit(np.log(scales[Idx]),np.log(count0[Idx]),1)\n",
    "\n",
    "print(fit[0],Fit[0])\n",
    "\n",
    "t=1\n",
    "plt.loglog(scales,count0,'k-',label=r'Menger Sponge - \\Gamma = {:1.4f}'.format(-fit[0]))\n",
    "\n",
    "plt.loglog(scales,np.exp(fit[1]+0.2)*((scales)**(-(3-2.72683302786))),'k:',label=r'Reference $D_h=2.7268$')\n",
    "\n",
    "plt.legend(loc='lower left',prop={'size':30},ncol=2)\n",
    "plt.savefig('boxcount-menger-sponge.pdf', format='pdf', bbox_inches='tight', transparent=True)"
   ]
  },
  {
   "cell_type": "code",
   "execution_count": 109,
   "metadata": {
    "collapsed": true
   },
   "outputs": [],
   "source": [
    "scales = []\n",
    "BoxL = 1\n",
    "x0 = y0 = z0 = 0.\n",
    "\n",
    "L = BoxL/2.\n",
    "\n",
    "x1 = x0+1\n",
    "y1 = y0+1\n",
    "z1 = z0+1\n",
    "\n",
    "nx = int((x1-x0)/L)+1\n",
    "ny = int((y1-y0)/L)+1\n",
    "nz = int((z1-z0)/L)+1\n",
    "\n",
    "x1 = x0 + nx*L\n",
    "y1 = y0 + ny*L \n",
    "z1 = z0 + nz*L"
   ]
  },
  {
   "cell_type": "code",
   "execution_count": 110,
   "metadata": {
    "collapsed": true
   },
   "outputs": [],
   "source": [
    "eta = 0.00287\n",
    "hist = np.zeros((Xs.shape[0],3))\n",
    "scales = np.logspace(np.log(1),np.log(10**(-3)), num=250, endpoint=True, base=np.e)"
   ]
  },
  {
   "cell_type": "code",
   "execution_count": 111,
   "metadata": {
    "scrolled": true
   },
   "outputs": [
    {
     "name": "stdout",
     "output_type": "stream",
     "text": [
      "Scale : 1.0\n",
      "(1.0, 1.0)\n",
      "Scale : 0.972639285994\n",
      "(8.0, 8.0)\n",
      "Scale : 0.94602718066\n",
      "(8.0, 8.0)\n",
      "Scale : 0.920143201528\n",
      "(8.0, 8.0)\n",
      "Scale : 0.894967426547\n",
      "(8.0, 8.0)\n",
      "Scale : 0.870480478745\n",
      "(8.0, 8.0)\n",
      "Scale : 0.846663511319\n",
      "(8.0, 8.0)\n",
      "Scale : 0.823498193127\n",
      "(8.0, 8.0)\n",
      "Scale : 0.800966694581\n",
      "(8.0, 8.0)\n",
      "Scale : 0.779051673922\n",
      "(8.0, 8.0)\n",
      "Scale : 0.757736263877\n",
      "(8.0, 8.0)\n",
      "Scale : 0.737004058669\n",
      "(8.0, 8.0)\n",
      "Scale : 0.716839101399\n",
      "(8.0, 8.0)\n",
      "Scale : 0.697225871758\n",
      "(8.0, 8.0)\n",
      "Scale : 0.678149274083\n",
      "(8.0, 8.0)\n",
      "Scale : 0.659594625742\n",
      "(8.0, 8.0)\n",
      "Scale : 0.641547645827\n",
      "(8.0, 8.0)\n",
      "Scale : 0.623994444169\n",
      "(8.0, 8.0)\n",
      "Scale : 0.606921510641\n",
      "(8.0, 8.0)\n",
      "Scale : 0.590315704765\n",
      "(8.0, 8.0)\n",
      "Scale : 0.574164245594\n",
      "(8.0, 8.0)\n",
      "Scale : 0.558454701878\n",
      "(8.0, 8.0)\n",
      "Scale : 0.543174982495\n",
      "(8.0, 8.0)\n",
      "Scale : 0.528313327144\n",
      "(8.0, 8.0)\n",
      "Scale : 0.513858297294\n",
      "(8.0, 8.0)\n",
      "Scale : 0.499798767383\n",
      "(8.0, 8.0)\n",
      "Scale : 0.486123916248\n",
      "(27.0, 27.0)\n",
      "Scale : 0.472823218804\n",
      "(27.0, 27.0)\n",
      "Scale : 0.459886437939\n",
      "(27.0, 27.0)\n",
      "Scale : 0.447303616636\n",
      "(27.0, 27.0)\n",
      "Scale : 0.435065070308\n",
      "(27.0, 27.0)\n",
      "Scale : 0.423161379345\n",
      "(27.0, 27.0)\n",
      "Scale : 0.411583381867\n",
      "(27.0, 27.0)\n",
      "Scale : 0.400322166666\n",
      "(27.0, 27.0)\n",
      "Scale : 0.389369066354\n",
      "(27.0, 27.0)\n",
      "Scale : 0.378715650687\n",
      "(27.0, 27.0)\n",
      "Scale : 0.368353720079\n",
      "(27.0, 27.0)\n",
      "Scale : 0.358275299291\n",
      "(27.0, 27.0)\n",
      "Scale : 0.348472631292\n",
      "(27.0, 27.0)\n",
      "Scale : 0.338938171288\n",
      "(27.0, 27.0)\n",
      "Scale : 0.329664580918\n",
      "(64.0, 64.0)\n",
      "Scale : 0.320644722602\n",
      "(64.0, 64.0)\n",
      "Scale : 0.311871654049\n",
      "(64.0, 64.0)\n",
      "Scale : 0.303338622916\n",
      "(64.0, 64.0)\n",
      "Scale : 0.295039061608\n",
      "(64.0, 64.0)\n",
      "Scale : 0.286966582223\n",
      "(64.0, 64.0)\n",
      "Scale : 0.279114971638\n",
      "(64.0, 64.0)\n",
      "Scale : 0.271478186724\n",
      "(64.0, 64.0)\n",
      "Scale : 0.264050349698\n",
      "(64.0, 64.0)\n",
      "Scale : 0.256825743597\n",
      "(64.0, 64.0)\n",
      "Scale : 0.249798807877\n",
      "(64.0, 64.0)\n",
      "Scale : 0.242964134136\n",
      "(125.0, 125.0)\n",
      "Scale : 0.236316461948\n",
      "(125.0, 125.0)\n",
      "Scale : 0.229850674818\n",
      "(125.0, 125.0)\n",
      "Scale : 0.22356179624\n",
      "(125.0, 125.0)\n",
      "Scale : 0.217444985871\n",
      "(112.0, 112.0)\n",
      "Scale : 0.211495535801\n",
      "(112.0, 112.0)\n",
      "Scale : 0.205708866932\n",
      "(112.0, 112.0)\n",
      "Scale : 0.200080525456\n",
      "(112.0, 112.0)\n",
      "Scale : 0.194606179421\n",
      "(200.0, 200.0)\n",
      "Scale : 0.189281615402\n",
      "(200.0, 200.0)\n",
      "Scale : 0.184102735256\n",
      "(200.0, 200.0)\n",
      "Scale : 0.179065552969\n",
      "(200.0, 200.0)\n",
      "Scale : 0.174166191586\n",
      "(200.0, 200.0)\n",
      "Scale : 0.169400880229\n",
      "(200.0, 200.0)\n",
      "Scale : 0.164765951193\n",
      "(324.0, 324.0)\n",
      "Scale : 0.160257837124\n",
      "(324.0, 324.0)\n",
      "Scale : 0.155873068275\n",
      "(324.0, 324.0)\n",
      "Scale : 0.151608269833\n",
      "(324.0, 324.0)\n",
      "Scale : 0.147460159321\n",
      "(324.0, 324.0)\n",
      "Scale : 0.143425544075\n",
      "(324.0, 324.0)\n",
      "Scale : 0.139501318782\n",
      "(490.0, 490.0)\n",
      "Scale : 0.135684463096\n",
      "(490.0, 490.0)\n",
      "Scale : 0.131972039306\n",
      "(432.0, 432.0)\n",
      "Scale : 0.128361190082\n",
      "(432.0, 432.0)\n",
      "Scale : 0.124849136271\n",
      "(637.0, 637.0)\n",
      "Scale : 0.121433174759\n",
      "(637.0, 637.0)\n",
      "Scale : 0.118110676394\n",
      "(637.0, 637.0)\n",
      "Scale : 0.114879083956\n",
      "(637.0, 637.0)\n",
      "Scale : 0.111735910195\n",
      "(637.0, 637.0)\n",
      "Scale : 0.108678735912\n",
      "(896.0, 896.0)\n",
      "Scale : 0.1057052081\n",
      "(896.0, 896.0)\n",
      "Scale : 0.102813038132\n",
      "(896.0, 896.0)\n",
      "Scale : 0.1\n",
      "(896.0, 896.0)\n",
      "Scale : 0.0972639285994\n",
      "(1184.0, 1184.0)\n",
      "Scale : 0.094602718066\n",
      "(1088.0, 1088.0)\n",
      "Scale : 0.0920143201528\n",
      "(1088.0, 1088.0)\n",
      "Scale : 0.0894967426547\n",
      "(1458.0, 1458.0)\n",
      "Scale : 0.0870480478745\n",
      "(1424.0, 1424.0)\n",
      "Scale : 0.0846663511319\n",
      "(1458.0, 1458.0)\n",
      "Scale : 0.0823498193127\n",
      "(1900.0, 1900.0)\n",
      "Scale : 0.0800966694581\n",
      "(1863.0, 1863.0)\n",
      "Scale : 0.0779051673922\n",
      "(1809.0, 1809.0)\n",
      "Scale : 0.0757736263877\n",
      "(2420.0, 2420.0)\n",
      "Scale : 0.0737004058669\n",
      "(2048.0, 2048.0)\n",
      "Scale : 0.0716839101399\n",
      "(2048.0, 2048.0)\n",
      "Scale : 0.0697225871758\n",
      "(2740.0, 2740.0)\n",
      "Scale : 0.0678149274083\n",
      "(2511.0, 2511.0)\n",
      "Scale : 0.0659594625742\n",
      "(3160.0, 3160.0)\n",
      "Scale : 0.0641547645827\n",
      "(3344.0, 3344.0)\n",
      "Scale : 0.0623994444169\n",
      "(4037.0, 4037.0)\n",
      "Scale : 0.0606921510641\n",
      "(3905.0, 3905.0)\n",
      "Scale : 0.0590315704765\n",
      "(3580.0, 3580.0)\n",
      "Scale : 0.0574164245594\n",
      "(4400.0, 4400.0)\n",
      "Scale : 0.0558454701878\n",
      "(4400.0, 4400.0)\n",
      "Scale : 0.0543174982495\n",
      "(5328.0, 5328.0)\n",
      "Scale : 0.0528313327144\n",
      "(5328.0, 5328.0)\n",
      "Scale : 0.0513858297294\n",
      "(6370.0, 6370.0)\n",
      "Scale : 0.0499798767383\n",
      "(5760.0, 5760.0)\n",
      "Scale : 0.0486123916248\n",
      "(6696.0, 6696.0)\n",
      "Scale : 0.0472823218804\n",
      "(8288.0, 8288.0)\n",
      "Scale : 0.0459886437939\n",
      "(7696.0, 7696.0)\n",
      "Scale : 0.0447303616636\n",
      "(9495.0, 9495.0)\n",
      "Scale : 0.0435065070308\n",
      "(8208.0, 8208.0)\n",
      "Scale : 0.0423161379345\n",
      "(9334.0, 9334.0)\n",
      "Scale : 0.0411583381867\n",
      "(10892.0, 10892.0)\n",
      "Scale : 0.0400322166666\n",
      "(11228.0, 11228.0)\n",
      "Scale : 0.0389369066354\n",
      "(11816.0, 11816.0)\n",
      "Scale : 0.0378715650687\n",
      "(13635.0, 13635.0)\n",
      "Scale : 0.0368353720079\n",
      "(14768.0, 14768.0)\n",
      "Scale : 0.0358275299291\n",
      "(15616.0, 15616.0)\n",
      "Scale : 0.0348472631292\n",
      "(16768.0, 16768.0)\n",
      "Scale : 0.0338938171288\n",
      "(18208.0, 18208.0)\n",
      "Scale : 0.0329664580918\n",
      "(21275.0, 21275.0)\n",
      "Scale : 0.0320644722602\n",
      "(23306.0, 23306.0)\n",
      "Scale : 0.0311871654049\n",
      "(23681.0, 23681.0)\n",
      "Scale : 0.0303338622916\n",
      "(23069.0, 23069.0)\n",
      "Scale : 0.0295039061608\n",
      "(25888.0, 25888.0)\n",
      "Scale : 0.0286966582223\n",
      "(27540.0, 27540.0)\n",
      "Scale : 0.0279114971638\n",
      "(30742.0, 30742.0)\n",
      "Scale : 0.0271478186724\n",
      "(33637.0, 33637.0)\n",
      "Scale : 0.0264050349698\n",
      "(34296.0, 34296.0)\n",
      "Scale : 0.0256825743597\n",
      "(39879.0, 39879.0)\n",
      "Scale : 0.0249798807877\n",
      "(42592.0, 42592.0)\n",
      "Scale : 0.0242964134136\n",
      "(45216.0, 45216.0)\n",
      "Scale : 0.0236316461948\n",
      "(48451.0, 48451.0)\n",
      "Scale : 0.0229850674818\n",
      "(51128.0, 51128.0)\n",
      "Scale : 0.022356179624\n",
      "(52585.0, 52585.0)\n",
      "Scale : 0.0217444985871\n",
      "(59840.0, 59840.0)\n",
      "Scale : 0.0211495535801\n",
      "(63632.0, 63632.0)\n",
      "Scale : 0.0205708866932\n",
      "(69736.0, 69736.0)\n",
      "Scale : 0.0200080525456\n",
      "(70400.0, 70400.0)\n",
      "Scale : 0.0194606179421\n",
      "(82000.0, 82000.0)\n",
      "Scale : 0.0189281615402\n",
      "(84508.0, 84508.0)\n",
      "Scale : 0.0184102735256\n",
      "(93340.0, 93340.0)\n",
      "Scale : 0.0179065552969\n",
      "(100992.0, 100992.0)\n",
      "Scale : 0.0174166191586\n",
      "(111564.0, 111564.0)\n",
      "Scale : 0.0169400880229\n",
      "(113568.0, 113568.0)\n",
      "Scale : 0.0164765951193\n",
      "(129800.0, 129800.0)\n",
      "Scale : 0.0160257837124\n",
      "(136789.0, 136789.0)\n",
      "Scale : 0.0155873068275\n",
      "(154527.0, 154527.0)\n",
      "Scale : 0.0151608269833\n",
      "(167564.0, 167564.0)\n",
      "Scale : 0.0147460159321\n",
      "(164160.0, 164160.0)\n",
      "Scale : 0.0143425544075\n",
      "(187480.0, 187480.0)\n",
      "Scale : 0.0139501318782\n",
      "(192546.0, 192546.0)\n",
      "Scale : 0.0135684463096\n",
      "(218576.0, 218576.0)\n",
      "Scale : 0.0131972039306\n",
      "(231266.0, 231266.0)\n",
      "Scale : 0.0128361190082\n",
      "(243200.0, 243200.0)\n",
      "Scale : 0.0124849136271\n",
      "(279600.0, 279600.0)\n",
      "Scale : 0.0121433174759\n",
      "(299652.0, 299652.0)\n",
      "Scale : 0.0118110676394\n",
      "(315535.0, 315535.0)\n",
      "Scale : 0.0114879083956\n",
      "(326431.0, 326431.0)\n",
      "Scale : 0.0111735910195\n",
      "(367130.0, 367130.0)\n",
      "Scale : 0.0108678735912\n",
      "(389504.0, 389504.0)\n",
      "Scale : 0.01057052081\n",
      "(411896.0, 411896.0)\n",
      "Scale : 0.0102813038132\n",
      "(474716.0, 474716.0)\n",
      "Scale : 0.01\n",
      "(501520.0, 501520.0)\n",
      "Scale : 0.00972639285994\n",
      "(531856.0, 531856.0)\n",
      "Scale : 0.0094602718066\n",
      "(578544.0, 578544.0)\n",
      "Scale : 0.00920143201528\n",
      "(602752.0, 602752.0)\n",
      "Scale : 0.00894967426547\n",
      "(669102.0, 669102.0)\n",
      "Scale : 0.00870480478745\n",
      "(704993.0, 704993.0)\n",
      "Scale : 0.00846663511319\n",
      "(779638.0, 779638.0)\n",
      "Scale : 0.00823498193127\n",
      "(779088.0, 779088.0)\n",
      "Scale : 0.00800966694581\n",
      "(868260.0, 868260.0)\n",
      "Scale : 0.00779051673922\n",
      "(965152.0, 965152.0)\n",
      "Scale : 0.00757736263877\n",
      "(980640.0, 980640.0)\n",
      "Scale : 0.00737004058669\n",
      "(1128238.0, 1128238.0)\n",
      "Scale : 0.00716839101399\n",
      "(1224516.0, 1224516.0)\n",
      "Scale : 0.00697225871758\n",
      "(1298972.0, 1298972.0)\n",
      "Scale : 0.00678149274083\n",
      "(1460808.0, 1460808.0)\n",
      "Scale : 0.00659594625742\n",
      "(1478664.0, 1478664.0)\n",
      "Scale : 0.00641547645827\n",
      "(1634612.0, 1634612.0)\n",
      "Scale : 0.00623994444169\n",
      "(1775824.0, 1775824.0)\n",
      "Scale : 0.00606921510641\n",
      "(1899298.0, 1899298.0)\n",
      "Scale : 0.00590315704765\n",
      "(2020808.0, 2020808.0)\n",
      "Scale : 0.00574164245594\n",
      "(2177684.0, 2177684.0)\n",
      "Scale : 0.00558454701878\n",
      "(2306453.0, 2306453.0)\n",
      "Scale : 0.00543174982495\n",
      "(2543072.0, 2543072.0)\n",
      "Scale : 0.00528313327144\n",
      "(2830674.0, 2830674.0)\n",
      "Scale : 0.00513858297294\n",
      "(2992301.0, 2992301.0)\n",
      "Scale : 0.00499798767383\n",
      "(3127698.0, 3127698.0)\n",
      "Scale : 0.00486123916248\n",
      "(3322552.0, 3322552.0)\n",
      "Scale : 0.00472823218804\n",
      "(3670862.0, 3670862.0)\n",
      "Scale : 0.00459886437939\n",
      "(3949400.0, 3949400.0)\n",
      "Scale : 0.00447303616636\n",
      "(4281546.0, 4281546.0)\n",
      "Scale : 0.00435065070308\n",
      "(4609652.0, 4609652.0)\n",
      "Scale : 0.00423161379345\n",
      "(4950532.0, 4950532.0)\n",
      "Scale : 0.00411583381867\n",
      "(3478446.0, 3478446.0)\n",
      "Scale : 0.00400322166666\n",
      "(5766534.0, 5766534.0)\n",
      "Scale : 0.00389369066354\n",
      "(6204830.0, 6204830.0)\n",
      "Scale : 0.00378715650687\n",
      "(6613882.0, 6613882.0)\n",
      "Scale : 0.00368353720079\n"
     ]
    },
    {
     "name": "stdout",
     "output_type": "stream",
     "text": [
      "(7135528.0, 7135528.0)\n",
      "Scale : 0.00358275299291\n",
      "(7624131.0, 7624131.0)\n",
      "Scale : 0.00348472631292\n",
      "(8258916.0, 8258916.0)\n",
      "Scale : 0.00338938171288\n",
      "(9734304.0, 9734304.0)\n",
      "Scale : 0.00329664580918\n",
      "(9642994.0, 9642994.0)\n",
      "Scale : 0.00320644722602\n",
      "(10001824.0, 10001824.0)\n",
      "Scale : 0.00311871654049\n",
      "(10852839.0, 10852839.0)\n",
      "Scale : 0.00303338622916\n",
      "(11899322.0, 11899322.0)\n",
      "Scale : 0.00295039061608\n",
      "(12504864.0, 12504864.0)\n",
      "Scale : 0.00286966582223\n",
      "(13596440.0, 13596440.0)\n",
      "Scale : 0.00279114971638\n",
      "(14358702.0, 14358702.0)\n",
      "Scale : 0.00271478186724\n",
      "(15532498.0, 15532498.0)\n",
      "Scale : 0.00264050349698\n",
      "(16930230.0, 16930230.0)\n",
      "Scale : 0.00256825743597\n",
      "(18261930.0, 18261930.0)\n",
      "Scale : 0.00249798807877\n",
      "(19521036.0, 19521036.0)\n",
      "Scale : 0.00242964134136\n",
      "(21070700.0, 21070700.0)\n",
      "Scale : 0.00236316461948\n",
      "(22484206.0, 22484206.0)\n",
      "Scale : 0.00229850674818\n",
      "(23759289.0, 23759289.0)\n",
      "Scale : 0.0022356179624\n",
      "(25574265.0, 25574265.0)\n",
      "Scale : 0.00217444985871\n",
      "(28140166.0, 28140166.0)\n",
      "Scale : 0.00211495535801\n",
      "(29809096.0, 29809096.0)\n",
      "Scale : 0.00205708866932\n",
      "(27559840.0, 27559840.0)\n",
      "Scale : 0.00200080525456\n",
      "(35488072.0, 35488072.0)\n",
      "Scale : 0.00194606179421\n",
      "(37207236.0, 37207236.0)\n",
      "Scale : 0.00189281615402\n",
      "(39523510.0, 39523510.0)\n",
      "Scale : 0.00184102735256\n",
      "(42823555.0, 42823555.0)\n",
      "Scale : 0.00179065552969\n",
      "(46732986.0, 46732986.0)\n",
      "Scale : 0.00174166191586\n",
      "(50206722.0, 50206722.0)\n",
      "Scale : 0.00169400880229\n",
      "(54669828.0, 54669828.0)\n",
      "Scale : 0.00164765951193\n",
      "(58574093.0, 58574093.0)\n",
      "Scale : 0.00160257837124\n",
      "(62588308.0, 62588308.0)\n",
      "Scale : 0.00155873068275\n",
      "(67518999.0, 67518999.0)\n",
      "Scale : 0.00151608269833\n",
      "(73008128.0, 73008128.0)\n",
      "Scale : 0.00147460159321\n",
      "(76887880.0, 76887880.0)\n",
      "Scale : 0.00143425544075\n",
      "(83139120.0, 83139120.0)\n",
      "Scale : 0.00139501318782\n",
      "(90985119.0, 90985119.0)\n",
      "Scale : 0.00135684463096\n",
      "(96774396.0, 96774396.0)\n",
      "Scale : 0.00131972039306\n",
      "(104954461.0, 104954461.0)\n",
      "Scale : 0.00128361190082\n",
      "(112277613.0, 112277613.0)\n",
      "Scale : 0.00124849136271\n",
      "(122276316.0, 122276316.0)\n",
      "Scale : 0.00121433174759\n",
      "(132179445.0, 132179445.0)\n",
      "Scale : 0.00118110676394\n",
      "(142237104.0, 142237104.0)\n",
      "Scale : 0.00114879083956\n",
      "(152741822.0, 152741822.0)\n",
      "Scale : 0.00111735910195\n",
      "(164510731.0, 164510731.0)\n",
      "Scale : 0.00108678735912\n",
      "(177289182.0, 177289182.0)\n",
      "Scale : 0.001057052081\n",
      "(190993524.0, 190993524.0)\n",
      "Scale : 0.00102813038132\n",
      "(207314092.0, 207314092.0)\n",
      "Scale : 0.001\n",
      "(224294544.0, 224294544.0)\n",
      "('Total = ', 7023.152240037918)\n"
     ]
    }
   ],
   "source": [
    "hist[:,0] = Xs[:]\n",
    "hist[:,1] = Ys[:]\n",
    "hist[:,2] = Zs[:]\n",
    "\n",
    "start0 = time.time()\n",
    "\n",
    "count = []\n",
    "for L in scales:\n",
    "    start = time.time()\n",
    "    \n",
    "    print(\"Scale : \"+str(L))\n",
    "    \n",
    "    x1 = x0+1\n",
    "    y1 = y0+1\n",
    "    z1 = z0+1\n",
    "    \n",
    "    nx = int((x1-x0)/L)+1\n",
    "    ny = int((y1-y0)/L)+1\n",
    "    nz = int((z1-z0)/L)+1\n",
    "    \n",
    "    x1 = x0 + nx*L\n",
    "    y1 = y0 + ny*L \n",
    "    z1 = z0 + nz*L\n",
    "    \n",
    "    H, edges = np.histogramdd(hist, bins=(nx,ny,nz), range=((x0,x1),(y0,y1),(z0,z1)), normed=True)\n",
    "               \n",
    "    Hn = H[:,:,:]\n",
    "    Sn = H[:,:,:]\n",
    "    Bn = H[:,:,:]\n",
    "    ###############################################################\n",
    "    # Here is where boxcouting and correlation dimension differs. #\n",
    "    ###############################################################\n",
    "    Bn[Bn>0] = 1\n",
    "    numBox = np.sum(Bn)\n",
    "    numPts = np.sum(Sn)\n",
    "    print(numBox,numPts)\n",
    "    Hn[:,:,:] = Hn[:,:,:]/(numPts)\n",
    "    corrBox = np.sum(Hn**2)\n",
    "    ###############################################################\n",
    "    gbox = np.zeros(1,dtype='float32')\n",
    "    gbox[0] = corrBox\n",
    "    gbox = gbox[0]#/numBox\n",
    "    ###############################################################\n",
    "    count.append(gbox)\n",
    "        \n",
    "    end = time.time()\n",
    "    \n",
    "end0 = time.time()\n",
    "print(\"Total = \",end0-start0)"
   ]
  },
  {
   "cell_type": "code",
   "execution_count": 127,
   "metadata": {},
   "outputs": [
    {
     "name": "stdout",
     "output_type": "stream",
     "text": [
      "(2.706444411587285, 2.6031401960664633)\n"
     ]
    },
    {
     "data": {
      "image/png": "[encoded data removed]",
      "text/plain": [
       "<matplotlib.figure.Figure at 0x2aef416962d0>"
      ]
     },
     "metadata": {},
     "output_type": "display_data"
    }
   ],
   "source": [
    "%matplotlib inline\n",
    "\n",
    "scales = np.array(scales)\n",
    "count = np.array(count)\n",
    "\n",
    "fig = plt.figure(figsize=(12,6))\n",
    "matplotlib.rc('xtick', labelsize=30) \n",
    "matplotlib.rc('ytick', labelsize=30)      \n",
    "plt.xlabel(r'$r$',size=40)\n",
    "plt.ylabel(r'$\\langle \\mu^2_\\chi\\rangle_r$',size=40)\n",
    "plt.xlim([10**(-3),1])\n",
    "#plt.ylim([10**(-6),10**(-1)])\n",
    "\n",
    "idx = (scales>0.001)&(scales<0.0022)\n",
    "Idx = scales>0.01\n",
    "\n",
    "fit = np.polyfit(np.log(scales[idx]),np.log(count[idx]),1)    \n",
    "Fit = np.polyfit(np.log(scales[Idx]),np.log(count[Idx]),1)\n",
    "    \n",
    "t=1\n",
    "print(fit[0],Fit[0])\n",
    "\n",
    "plt.loglog(scales,count,'k-',label=r'Menger Sponge - \\Gamma = {:1.4f}'.format(fit[0]))\n",
    "\n",
    "plt.legend(loc='lower right',prop={'size':30},ncol=2)\n",
    "plt.savefig('boxcount-correlation-menger-sponge.pdf', format='pdf', bbox_inches='tight', transparent=True)"
   ]
  },
  {
   "cell_type": "code",
   "execution_count": null,
   "metadata": {
    "collapsed": true
   },
   "outputs": [],
   "source": []
  }
 ],
 "metadata": {
  "kernelspec": {
   "display_name": "Python 2",
   "language": "python",
   "name": "python2"
  },
  "language_info": {
   "codemirror_mode": {
    "name": "ipython",
    "version": 2
   },
   "file_extension": ".py",
   "mimetype": "text/x-python",
   "name": "python",
   "nbconvert_exporter": "python",
   "pygments_lexer": "ipython2",
   "version": "2.7.13"
  }
 },
 "nbformat": 4,
 "nbformat_minor": 1
}
