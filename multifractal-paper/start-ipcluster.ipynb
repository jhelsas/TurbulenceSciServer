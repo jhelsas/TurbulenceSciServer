{
 "cells": [
  {
   "cell_type": "code",
   "execution_count": null,
   "metadata": {},
   "outputs": [
    {
     "name": "stdout",
     "output_type": "stream",
     "text": [
      "2017-04-30 19:25:36.389 [IPClusterStart] Removing pid file: /home/jhelsas/.ipython/profile_mpi/pid/ipcluster.pid\n",
      "2017-04-30 19:25:36.389 [IPClusterStart] Starting ipcluster with [daemon=False]\n",
      "2017-04-30 19:25:36.390 [IPClusterStart] Creating pid file: /home/jhelsas/.ipython/profile_mpi/pid/ipcluster.pid\n",
      "2017-04-30 19:25:36.390 [IPClusterStart] Starting Controller with LocalControllerLauncher\n",
      "2017-04-30 19:25:37.394 [IPClusterStart] Starting 8 Engines with MPI\n",
      "2017-04-30 19:26:07.402 [IPClusterStart] Engines appear to have started successfully\n"
     ]
    }
   ],
   "source": [
    "!ipcluster start -n 8 --engines=MPI --profile='mpi'"
   ]
  },
  {
   "cell_type": "code",
   "execution_count": null,
   "metadata": {
    "collapsed": true
   },
   "outputs": [],
   "source": []
  }
 ],
 "metadata": {
  "kernelspec": {
   "display_name": "Python 2",
   "language": "python",
   "name": "python2"
  },
  "language_info": {
   "codemirror_mode": {
    "name": "ipython",
    "version": 2
   },
   "file_extension": ".py",
   "mimetype": "text/x-python",
   "name": "python",
   "nbconvert_exporter": "python",
   "pygments_lexer": "ipython2",
   "version": "2.7.9"
  }
 },
 "nbformat": 4,
 "nbformat_minor": 2
}
