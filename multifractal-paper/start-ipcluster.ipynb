{
 "cells": [
  {
   "cell_type": "code",
   "execution_count": null,
   "metadata": {},
   "outputs": [
    {
     "name": "stdout",
     "output_type": "stream",
     "text": [
      "2017-04-29 18:32:19.916 [IPClusterStart] Removing pid file: /home/jhelsas/.ipython/profile_mpi/pid/ipcluster.pid\n",
      "2017-04-29 18:32:19.916 [IPClusterStart] Starting ipcluster with [daemon=False]\n",
      "2017-04-29 18:32:19.916 [IPClusterStart] Creating pid file: /home/jhelsas/.ipython/profile_mpi/pid/ipcluster.pid\n",
      "2017-04-29 18:32:19.917 [IPClusterStart] Starting Controller with LocalControllerLauncher\n",
      "2017-04-29 18:32:20.921 [IPClusterStart] Starting 8 Engines with MPI\n",
      "2017-04-29 18:32:50.929 [IPClusterStart] Engines appear to have started successfully\n"
     ]
    }
   ],
   "source": [
    "!ipcluster start -n 8 --engines=MPI --profile='mpi'"
   ]
  },
  {
   "cell_type": "code",
   "execution_count": null,
   "metadata": {
    "collapsed": true
   },
   "outputs": [],
   "source": [
    "!ipcluster start -n 32 --engines=MPI --profile='mpi32'"
   ]
  }
 ],
 "metadata": {
  "kernelspec": {
   "display_name": "Python 2",
   "language": "python",
   "name": "python2"
  },
  "language_info": {
   "codemirror_mode": {
    "name": "ipython",
    "version": 2
   },
   "file_extension": ".py",
   "mimetype": "text/x-python",
   "name": "python",
   "nbconvert_exporter": "python",
   "pygments_lexer": "ipython2",
   "version": "2.7.9"
  }
 },
 "nbformat": 4,
 "nbformat_minor": 2
}
