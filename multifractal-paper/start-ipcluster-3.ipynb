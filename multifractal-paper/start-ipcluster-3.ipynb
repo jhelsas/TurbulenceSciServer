{
 "cells": [
  {
   "cell_type": "code",
   "execution_count": null,
   "metadata": {},
   "outputs": [
    {
     "name": "stdout",
     "output_type": "stream",
     "text": [
      "2017-05-01 13:52:18.292 [IPClusterStart] Created profile dir: u'/home/jhelsas/.ipython/profile_mpi3'\n",
      "2017-05-01 13:52:18.299 [IPClusterStart] Starting ipcluster with [daemon=False]\n",
      "2017-05-01 13:52:18.299 [IPClusterStart] Creating pid file: /home/jhelsas/.ipython/profile_mpi3/pid/ipcluster.pid\n",
      "2017-05-01 13:52:18.300 [IPClusterStart] Starting Controller with LocalControllerLauncher\n",
      "2017-05-01 13:52:19.305 [IPClusterStart] Starting 8 Engines with MPI\n",
      "2017-05-01 13:52:49.313 [IPClusterStart] Engines appear to have started successfully\n"
     ]
    }
   ],
   "source": [
    "!ipcluster start -n 8 --engines=MPI --profile='mpi3'"
   ]
  },
  {
   "cell_type": "code",
   "execution_count": null,
   "metadata": {
    "collapsed": true
   },
   "outputs": [],
   "source": []
  }
 ],
 "metadata": {
  "kernelspec": {
   "display_name": "Python 2",
   "language": "python",
   "name": "python2"
  },
  "language_info": {
   "codemirror_mode": {
    "name": "ipython",
    "version": 2
   },
   "file_extension": ".py",
   "mimetype": "text/x-python",
   "name": "python",
   "nbconvert_exporter": "python",
   "pygments_lexer": "ipython2",
   "version": "2.7.9"
  }
 },
 "nbformat": 4,
 "nbformat_minor": 2
}
