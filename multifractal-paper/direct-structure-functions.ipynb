{
 "cells": [
  {
   "cell_type": "code",
   "execution_count": 1,
   "metadata": {
    "collapsed": true
   },
   "outputs": [],
   "source": [
    "import os\n",
    "import time\n",
    "import numpy as np\n",
    "import pyfftw as ft\n",
    "import matplotlib.pyplot as plt\n",
    "import pyJHTDB\n",
    "from pyJHTDB.dbinfo import isotropic1024coarse\n",
    "from pyJHTDB import libJHTDB"
   ]
  },
  {
   "cell_type": "code",
   "execution_count": 2,
   "metadata": {
    "collapsed": true
   },
   "outputs": [],
   "source": [
    "N = 1024\n",
    "Nx = isotropic1024coarse['nx']\n",
    "Ny = isotropic1024coarse['ny']\n",
    "Nz = isotropic1024coarse['nz']"
   ]
  },
  {
   "cell_type": "code",
   "execution_count": 3,
   "metadata": {
    "collapsed": false
   },
   "outputs": [
    {
     "name": "stdout",
     "output_type": "stream",
     "text": [
      "0.000813961029053\n"
     ]
    }
   ],
   "source": [
    "start = time.time()\n",
    "\n",
    "u = np.zeros((N,N,N), dtype='float32')\n",
    "v = np.zeros((N,N,N), dtype='float32')\n",
    "w = np.zeros((N,N,N), dtype='float32')\n",
    "\n",
    "end = time.time()\n",
    "print(end-start)"
   ]
  },
  {
   "cell_type": "code",
   "execution_count": 4,
   "metadata": {
    "collapsed": false
   },
   "outputs": [
    {
     "name": "stdout",
     "output_type": "stream",
     "text": [
      "96.1014101505\n"
     ]
    }
   ],
   "source": [
    "start = time.time()\n",
    "\n",
    "nproc = 8\n",
    "nx = N//nproc\n",
    "\n",
    "vx = np.zeros((N//nproc,N,N), dtype='float32')\n",
    "vy = np.zeros((N//nproc,N,N), dtype='float32')\n",
    "vz = np.zeros((N//nproc,N,N), dtype='float32')\n",
    "\n",
    "folder = '/home/idies/workspace/scratch'\n",
    "\n",
    "for k in range(nproc):\n",
    "    filename = 'ref-isotropic1024coarse-'+str(k)+'-(t=0.0).npz'\n",
    "    file = folder+'/'+filename\n",
    "    \n",
    "    content = np.load(file)\n",
    "    if(int(content['nproc'])!=nproc):\n",
    "        print(\"Unmatched number of processes. Must first pre-process to adequate number of process\")\n",
    "    \n",
    "    vx[:,:,:] = content['vx']\n",
    "    vy[:,:,:] = content['vy']\n",
    "    vz[:,:,:] = content['vz']\n",
    "    \n",
    "    u[k*nx:(k+1)*nx,:,:] = vx[:,:,:]\n",
    "    v[k*nx:(k+1)*nx,:,:] = vy[:,:,:]\n",
    "    w[k*nx:(k+1)*nx,:,:] = vz[:,:,:]\n",
    "\n",
    "del vx,vy,vz\n",
    "    \n",
    "end = time.time()\n",
    "print(end-start)"
   ]
  },
  {
   "cell_type": "code",
   "execution_count": 5,
   "metadata": {
    "collapsed": true
   },
   "outputs": [],
   "source": [
    "urms = np.average(u**2 + v**2 + w**2)"
   ]
  },
  {
   "cell_type": "code",
   "execution_count": 6,
   "metadata": {
    "collapsed": false
   },
   "outputs": [
    {
     "name": "stdout",
     "output_type": "stream",
     "text": [
      "143.44433713\n"
     ]
    }
   ],
   "source": [
    "start = time.time()\n",
    "\n",
    "X = np.zeros((N,N,N))\n",
    "Y = np.zeros((N,N,N))\n",
    "Z = np.zeros((N,N,N))\n",
    "\n",
    "Delta = isotropic1024coarse['dx']\n",
    "for i in range(N):\n",
    "    X[i,:,:] = i*Delta\n",
    "    \n",
    "for j in range(N):\n",
    "    Y[:,j,:] = j*Delta\n",
    "    \n",
    "for k in range(N):\n",
    "    Z[:,:,k] = k*Delta\n",
    "\n",
    "end = time.time()\n",
    "print(end-start)"
   ]
  },
  {
   "cell_type": "code",
   "execution_count": 7,
   "metadata": {
    "collapsed": false
   },
   "outputs": [
    {
     "name": "stdout",
     "output_type": "stream",
     "text": [
      "538.185581923\n"
     ]
    }
   ],
   "source": [
    "start = time.time()\n",
    "\n",
    "idxs = np.linspace(0,N**3,num=N**3,endpoint=False,dtype=int)\n",
    "index = np.random.choice(idxs,N**2,replace=False)\n",
    "jndex = np.random.choice(idxs,N**2,replace=False)\n",
    "\n",
    "end = time.time()\n",
    "print(end-start)"
   ]
  },
  {
   "cell_type": "code",
   "execution_count": 8,
   "metadata": {
    "collapsed": false
   },
   "outputs": [
    {
     "name": "stdout",
     "output_type": "stream",
     "text": [
      "75.2492799759\n"
     ]
    }
   ],
   "source": [
    "start = time.time()\n",
    "\n",
    "x = X.flatten()\n",
    "y = Y.flatten()\n",
    "z = Z.flatten()\n",
    "\n",
    "end = time.time()\n",
    "print(end-start)"
   ]
  },
  {
   "cell_type": "code",
   "execution_count": 10,
   "metadata": {
    "collapsed": true
   },
   "outputs": [],
   "source": [
    "dx = x[index] - x[jndex]\n",
    "dy = y[index] - y[jndex]\n",
    "dz = z[index] - z[jndex]"
   ]
  },
  {
   "cell_type": "code",
   "execution_count": 11,
   "metadata": {
    "collapsed": false
   },
   "outputs": [],
   "source": [
    "dx[dx<0.] = - dx[dx<0.]; dx[dx > np.pi] = 2*np.pi - dx[dx > np.pi]\n",
    "dy[dy<0.] = - dy[dy<0.]; dy[dy > np.pi] = 2*np.pi - dy[dy > np.pi]\n",
    "dz[dz<0.] = - dz[dz<0.]; dz[dz > np.pi] = 2*np.pi - dz[dz > np.pi]"
   ]
  },
  {
   "cell_type": "code",
   "execution_count": 12,
   "metadata": {
    "collapsed": true
   },
   "outputs": [],
   "source": [
    "r2 = dx**2 + dy**2 + dz**2 \n",
    "r2rt = np.sqrt(r2)"
   ]
  },
  {
   "cell_type": "code",
   "execution_count": 13,
   "metadata": {
    "collapsed": true
   },
   "outputs": [],
   "source": [
    "nbins = 100; minrt = 0.; maxrt = np.pi*np.sqrt(3) \n",
    "bins = np.linspace(minrt,maxrt,num=nbins,endpoint=True)"
   ]
  },
  {
   "cell_type": "code",
   "execution_count": 14,
   "metadata": {
    "collapsed": false
   },
   "outputs": [
    {
     "data": {
      "text/plain": [
       "<matplotlib.lines.Line2D at 0x7feafb53e890>"
      ]
     },
     "execution_count": 14,
     "metadata": {},
     "output_type": "execute_result"
    },
    {
     "data": {
      "image/png": "[encoded data removed]",
      "text/plain": [
       "<matplotlib.figure.Figure at 0x7feafb53eb50>"
      ]
     },
     "metadata": {},
     "output_type": "display_data"
    }
   ],
   "source": [
    "hist,edges = np.histogram(r2rt,bins=bins)\n",
    "pbins = (edges[0:nbins-1]+edges[1:nbins])/2\n",
    "plt.loglog(pbins,hist)\n",
    "plt.axvline(x=np.pi,color='k')"
   ]
  },
  {
   "cell_type": "code",
   "execution_count": null,
   "metadata": {
    "collapsed": false
   },
   "outputs": [
    {
     "data": {
      "text/plain": [
       "<matplotlib.lines.Line2D at 0x7fe7ed6ab290>"
      ]
     },
     "execution_count": 15,
     "metadata": {},
     "output_type": "execute_result"
    },
    {
     "data": {
      "image/png": "[encoded data removed]",
      "text/plain": [
       "<matplotlib.figure.Figure at 0x7fe7ed6ab4d0>"
      ]
     },
     "metadata": {},
     "output_type": "display_data"
    }
   ],
   "source": [
    "plt.plot(pbins,hist)\n",
    "plt.axvline(x=np.pi,color='k')"
   ]
  },
  {
   "cell_type": "code",
   "execution_count": null,
   "metadata": {
    "collapsed": false
   },
   "outputs": [],
   "source": [
    "u = u.flatten()\n",
    "v = v.flatten()\n",
    "w = w.flatten()"
   ]
  },
  {
   "cell_type": "code",
   "execution_count": 25,
   "metadata": {
    "collapsed": false
   },
   "outputs": [],
   "source": [
    "ui = u[index]; vi = v[index]; wi = w[index]\n",
    "uj = v[jndex]; vj = v[jndex]; wj = w[jndex]"
   ]
  },
  {
   "cell_type": "code",
   "execution_count": 26,
   "metadata": {
    "collapsed": false
   },
   "outputs": [],
   "source": [
    "du = ui-uj; dv = vi-vj; dw = wi-wj"
   ]
  },
  {
   "cell_type": "code",
   "execution_count": 27,
   "metadata": {
    "collapsed": true
   },
   "outputs": [],
   "source": [
    "dx = x[index]-x[jndex]; dy = y[index]-y[jndex]; dz = z[index]-z[jndex];"
   ]
  },
  {
   "cell_type": "code",
   "execution_count": 28,
   "metadata": {
    "collapsed": true
   },
   "outputs": [],
   "source": [
    "r2ref = dx**2+dy**2+dz**2\n",
    "r2ref = np.sqrt(r2ref)"
   ]
  },
  {
   "cell_type": "code",
   "execution_count": null,
   "metadata": {
    "collapsed": true
   },
   "outputs": [],
   "source": [
    "print(dx/r2ref,dy/r2ref,dz/r2ref)"
   ]
  },
  {
   "cell_type": "code",
   "execution_count": null,
   "metadata": {
    "collapsed": true
   },
   "outputs": [],
   "source": [
    "du_L = (du*dx + dv*dy + dw*dz)/r2ref"
   ]
  },
  {
   "cell_type": "code",
   "execution_count": 53,
   "metadata": {
    "collapsed": false
   },
   "outputs": [],
   "source": [
    "nbins = 1000; minrt = 0.; maxrt = np.pi*np.sqrt(3) \n",
    "bins = np.linspace(minrt,maxrt,num=nbins,endpoint=True)\n",
    "\n",
    "rhist,redges = np.histogram(r2rt,bins=bins)\n",
    "u1hist,u1redges = np.histogram(r2rt,bins=bins,weights=np.absolute(du_L))"
   ]
  },
  {
   "cell_type": "code",
   "execution_count": 55,
   "metadata": {
    "collapsed": false
   },
   "outputs": [
    {
     "name": "stderr",
     "output_type": "stream",
     "text": [
      "/home/idies/anaconda3/envs/py27/lib/python2.7/site-packages/ipykernel/__main__.py:3: RuntimeWarning: invalid value encountered in divide\n",
      "  app.launch_new_instance()\n"
     ]
    },
    {
     "data": {
      "text/plain": [
       "<matplotlib.lines.Line2D at 0x7fe8ee00ff10>"
      ]
     },
     "execution_count": 55,
     "metadata": {},
     "output_type": "execute_result"
    },
    {
     "data": {
      "image/png": "[encoded data removed]",
      "text/plain": [
       "<matplotlib.figure.Figure at 0x7fe8ee586e90>"
      ]
     },
     "metadata": {},
     "output_type": "display_data"
    }
   ],
   "source": [
    "pbins = (redges[0:nbins-1]+redges[1:nbins])/2\n",
    "\n",
    "plt.loglog(pbins,u1hist/rhist)\n",
    "plt.axvline(x=np.pi,color='k')"
   ]
  },
  {
   "cell_type": "code",
   "execution_count": 56,
   "metadata": {
    "collapsed": true
   },
   "outputs": [],
   "source": [
    "nbins = 100; minrt = 0.; maxrt = np.pi*np.sqrt(3) \n",
    "bins = np.linspace(minrt,maxrt,num=nbins,endpoint=True)\n",
    "\n",
    "rhist,redges = np.histogram(r2rt,bins=bins)\n",
    "u2hist,u2redges = np.histogram(r2rt,bins=bins,weights=(du_L/urms)**2)"
   ]
  },
  {
   "cell_type": "code",
   "execution_count": 57,
   "metadata": {
    "collapsed": false
   },
   "outputs": [
    {
     "name": "stderr",
     "output_type": "stream",
     "text": [
      "/home/idies/anaconda3/envs/py27/lib/python2.7/site-packages/ipykernel/__main__.py:7: RuntimeWarning: invalid value encountered in divide\n"
     ]
    },
    {
     "data": {
      "text/plain": [
       "<matplotlib.lines.Line2D at 0x7fe8edc65190>"
      ]
     },
     "execution_count": 57,
     "metadata": {},
     "output_type": "execute_result"
    },
    {
     "data": {
      "image/png": "[encoded data removed]",
      "text/plain": [
       "<matplotlib.figure.Figure at 0x7fe8ed9a9b50>"
      ]
     },
     "metadata": {},
     "output_type": "display_data"
    }
   ],
   "source": [
    "pbins = (edges[0:nbins-1]+edges[1:nbins])/2\n",
    "\n",
    "eta = 0.00287\n",
    "\n",
    "#plt.xlim((10**2,2*10**3))\n",
    "\n",
    "plt.loglog(pbins/eta,u2hist/rhist)\n",
    "plt.axvline(x=42.5,color='k')\n",
    "plt.axvline(x=425,color='k')"
   ]
  },
  {
   "cell_type": "code",
   "execution_count": 58,
   "metadata": {
    "collapsed": false
   },
   "outputs": [],
   "source": [
    "brange = (pbins/eta>=42.5)&(pbins/eta<425.0)"
   ]
  },
  {
   "cell_type": "code",
   "execution_count": 59,
   "metadata": {
    "collapsed": false
   },
   "outputs": [
    {
     "name": "stdout",
     "output_type": "stream",
     "text": [
      "(99,)\n"
     ]
    }
   ],
   "source": [
    "print(brange.shape)\n"
   ]
  },
  {
   "cell_type": "code",
   "execution_count": 60,
   "metadata": {
    "collapsed": false
   },
   "outputs": [
    {
     "name": "stdout",
     "output_type": "stream",
     "text": [
      "((99,), (20,), (20,))\n"
     ]
    }
   ],
   "source": [
    "print(pbins.shape,pbins[brange].shape,u2hist[brange].shape)"
   ]
  },
  {
   "cell_type": "code",
   "execution_count": 61,
   "metadata": {
    "collapsed": false
   },
   "outputs": [],
   "source": [
    "fit = np.polyfit(np.log(pbins[brange]),np.log(u2hist[brange]/rhist[brange]),1)"
   ]
  },
  {
   "cell_type": "code",
   "execution_count": 62,
   "metadata": {
    "collapsed": false
   },
   "outputs": [
    {
     "name": "stdout",
     "output_type": "stream",
     "text": [
      "0.216728312825\n"
     ]
    }
   ],
   "source": [
    "print(fit[0])"
   ]
  },
  {
   "cell_type": "code",
   "execution_count": null,
   "metadata": {
    "collapsed": true
   },
   "outputs": [],
   "source": []
  }
 ],
 "metadata": {
  "kernelspec": {
   "display_name": "Python 2",
   "language": "python",
   "name": "python2"
  },
  "language_info": {
   "codemirror_mode": {
    "name": "ipython",
    "version": 2
   },
   "file_extension": ".py",
   "mimetype": "text/x-python",
   "name": "python",
   "nbconvert_exporter": "python",
   "pygments_lexer": "ipython2",
   "version": "2.7.11"
  }
 },
 "nbformat": 4,
 "nbformat_minor": 0
}
