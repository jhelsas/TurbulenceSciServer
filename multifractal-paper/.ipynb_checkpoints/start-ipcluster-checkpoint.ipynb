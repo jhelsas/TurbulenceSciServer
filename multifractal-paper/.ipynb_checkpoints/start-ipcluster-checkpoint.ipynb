{
 "cells": [
  {
   "cell_type": "code",
   "execution_count": 1,
   "metadata": {},
   "outputs": [
    {
     "name": "stdout",
     "output_type": "stream",
     "text": [
      "2017-04-30 19:17:02.502 [IPClusterStart] Removing pid file: /home/jhelsas/.ipython/profile_mpi/pid/ipcluster.pid\n",
      "2017-04-30 19:17:02.502 [IPClusterStart] Starting ipcluster with [daemon=False]\n",
      "2017-04-30 19:17:02.503 [IPClusterStart] Creating pid file: /home/jhelsas/.ipython/profile_mpi/pid/ipcluster.pid\n",
      "2017-04-30 19:17:02.503 [IPClusterStart] Starting Controller with LocalControllerLauncher\n",
      "2017-04-30 19:17:03.507 [IPClusterStart] Starting 64 Engines with MPI\n",
      "2017-04-30 19:17:33.515 [IPClusterStart] Engines appear to have started successfully\n",
      "^C\n",
      "2017-04-30 19:17:57.094 [IPClusterStart] ERROR | IPython cluster: stopping\n",
      "2017-04-30 19:17:57.095 [IPClusterStart] Stopping Engines...\n"
     ]
    }
   ],
   "source": [
    "!ipcluster start -n 16 --engines=MPI --profile='mpi'"
   ]
  },
  {
   "cell_type": "code",
   "execution_count": null,
   "metadata": {
    "collapsed": true
   },
   "outputs": [],
   "source": []
  }
 ],
 "metadata": {
  "kernelspec": {
   "display_name": "Python 2",
   "language": "python",
   "name": "python2"
  },
  "language_info": {
   "codemirror_mode": {
    "name": "ipython",
    "version": 2
   },
   "file_extension": ".py",
   "mimetype": "text/x-python",
   "name": "python",
   "nbconvert_exporter": "python",
   "pygments_lexer": "ipython2",
   "version": "2.7.9"
  }
 },
 "nbformat": 4,
 "nbformat_minor": 2
}
