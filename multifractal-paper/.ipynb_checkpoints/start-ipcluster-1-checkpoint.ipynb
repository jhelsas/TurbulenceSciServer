{
 "cells": [
  {
   "cell_type": "code",
   "execution_count": 1,
   "metadata": {},
   "outputs": [
    {
     "name": "stdout",
     "output_type": "stream",
     "text": [
      "2017-05-01 12:05:40.948 [IPClusterStart] Removing pid file: /home/jhelsas/.ipython/profile_mpi/pid/ipcluster.pid\n",
      "2017-05-01 12:05:40.949 [IPClusterStart] Starting ipcluster with [daemon=False]\n",
      "2017-05-01 12:05:40.949 [IPClusterStart] Creating pid file: /home/jhelsas/.ipython/profile_mpi/pid/ipcluster.pid\n",
      "2017-05-01 12:05:40.949 [IPClusterStart] Starting Controller with LocalControllerLauncher\n",
      "2017-05-01 12:05:41.953 [IPClusterStart] Starting 8 Engines with MPI\n",
      "2017-05-01 12:06:11.961 [IPClusterStart] Engines appear to have started successfully\n",
      "^C\n",
      "2017-05-01 13:42:53.121 [IPClusterStart] ERROR | IPython cluster: stopping\n",
      "2017-05-01 13:42:53.122 [IPClusterStart] Stopping Engines...\n"
     ]
    }
   ],
   "source": [
    "!ipcluster start -n 8 --engines=MPI --profile='mpi1'"
   ]
  }
 ],
 "metadata": {
  "kernelspec": {
   "display_name": "Python 2",
   "language": "python",
   "name": "python2"
  },
  "language_info": {
   "codemirror_mode": {
    "name": "ipython",
    "version": 2
   },
   "file_extension": ".py",
   "mimetype": "text/x-python",
   "name": "python",
   "nbconvert_exporter": "python",
   "pygments_lexer": "ipython2",
   "version": "2.7.9"
  }
 },
 "nbformat": 4,
 "nbformat_minor": 2
}
