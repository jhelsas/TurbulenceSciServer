{
 "cells": [
  {
   "cell_type": "code",
   "execution_count": 12,
   "metadata": {
    "collapsed": false
   },
   "outputs": [],
   "source": [
    "import numpy as np\n",
    "import io\n",
    "import urllib\n",
    "import requests\n"
   ]
  },
  {
   "cell_type": "code",
   "execution_count": 2,
   "metadata": {
    "collapsed": false
   },
   "outputs": [],
   "source": [
    "# simple test function that retrieves a complete file and returns its size\n",
    "# can switch between urllib and requests library\n",
    "def get_url(url,use_requests=False):\n",
    "    data=urllib.request.urlopen(url).read()\n",
    "    print(\"%s : \\nsize of data [bytes] : %d\"%(url,len(data)))\n",
    "    return data"
   ]
  },
  {
   "cell_type": "code",
   "execution_count": 3,
   "metadata": {
    "collapsed": false
   },
   "outputs": [
    {
     "name": "stdout",
     "output_type": "stream",
     "text": [
      "http://virgo02/turbdb : \n",
      "size of data [bytes] : 99298\n",
      "CPU times: user 62.8 ms, sys: 23.5 ms, total: 86.3 ms\n",
      "Wall time: 488 ms\n"
     ]
    }
   ],
   "source": [
    "# listing in HTML\n",
    "u='http://virgo02/turbdb'\n",
    "%time r=get_url(u)\n",
    "r"
   ]
  },
  {
   "cell_type": "code",
   "execution_count": 54,
   "metadata": {
    "collapsed": false
   },
   "outputs": [
    {
     "name": "stdout",
     "output_type": "stream",
     "text": [
      "http://virgo02/turbdb/turbdb101_0.bin : \n",
      "size of data [bytes] : 1610612736\n",
      "CPU times: user 2.98 s, sys: 20.8 s, total: 23.8 s\n",
      "Wall time: 24.1 s\n",
      "CPU times: user 2.09 ms, sys: 52.3 ms, total: 54.4 ms\n",
      "Wall time: 57.2 ms\n",
      "# cells 402653184 , average value: -0.0206565\n",
      "CPU times: user 800 ms, sys: 0 ns, total: 800 ms\n",
      "Wall time: 497 ms\n",
      "CPU times: user 3.79 s, sys: 20.9 s, total: 24.7 s\n",
      "Wall time: 24.7 s\n"
     ]
    }
   ],
   "source": [
    "%%time\n",
    "u='http://virgo02/turbdb/turbdb101_0.bin'\n",
    "%time d=get_url(u)\n",
    "n=int(len(d)/4)\n",
    "%time _arr=np.frombuffer(d,dtype=np.float32,count=n)\n",
    "d=None\n",
    "%time print(\"# cells\", n,\", average value:\",np.average(_arr))\n",
    "\n"
   ]
  },
  {
   "cell_type": "code",
   "execution_count": null,
   "metadata": {
    "collapsed": true
   },
   "outputs": [],
   "source": []
  },
  {
   "cell_type": "markdown",
   "metadata": {},
   "source": [
    "# Cutting chunks"
   ]
  },
  {
   "cell_type": "code",
   "execution_count": 55,
   "metadata": {
    "collapsed": false
   },
   "outputs": [
    {
     "name": "stdout",
     "output_type": "stream",
     "text": [
      "CPU times: user 39.1 ms, sys: 282 ms, total: 321 ms\n",
      "Wall time: 353 ms\n",
      "# cells 1536 , average value: -0.470825\n",
      "CPU times: user 0 ns, sys: 0 ns, total: 0 ns\n",
      "Wall time: 982 µs\n"
     ]
    }
   ],
   "source": [
    "# single chunk is easy\n",
    "ncells=512\n",
    "ranges=[(0,ncells*3*4-1)]\n",
    "# url of a file\n",
    "url='http://virgo02/turbdb/turbdb101_30.bin'\n",
    "# define the Range HTTP header\n",
    "headers={\"Range\":\"bytes=%s\" % \",\".join(\"%d-%d\" % (g) for g in ranges)}\n",
    "# retrieve the data\n",
    "resp=requests.get(url,headers=headers,stream=True)\n",
    "if resp.status_code != 206:\n",
    "    print(\"error in response code \",resp.status_code)\n",
    "d=resp.raw.read()\n",
    "n=int(len(d)/4)\n",
    "%time _arr=np.frombuffer(d,dtype=np.float32,count=n)\n",
    "%time print(\"# cells\", n,\", average value:\",np.average(_arr))\n"
   ]
  },
  {
   "cell_type": "code",
   "execution_count": 56,
   "metadata": {
    "collapsed": false
   },
   "outputs": [
    {
     "name": "stdout",
     "output_type": "stream",
     "text": [
      "boundary= b'--<q1w2e3r4t5y6u7i8o9p0zaxscdvfbgnhmjklkl>'\n",
      "[-0.65512633 -1.03012335 -0.11621436]\n",
      "[-0.63719344 -1.04078746 -0.12809123]\n",
      "[-0.61377287 -1.0589366  -0.12283614 -0.58266103 -1.05651009 -0.10981002]\n",
      "[-0.55073839 -1.02768779 -0.03384927]\n"
     ]
    }
   ],
   "source": [
    "# when >1 ranges present, more complex\n",
    "# assuming the data are organized in 12-byte triples, of 3 floats\n",
    "# define a few ranges that will retrieve these tiples\n",
    "ranges=[(0,11), (12,23),(24,47),(144,155)]\n",
    "# url of a file\n",
    "url='http://virgo02/turbdb/turbdb101_30.bin'\n",
    "# define the Range HTTP header\n",
    "headers={\"Range\":\"bytes=%s\" % \",\".join(\"%d-%d\" % (g) for g in ranges)}\n",
    "# retrieve the data\n",
    "resp=requests.get(url,headers=headers,stream=True)\n",
    "if resp.status_code != 206:\n",
    "    print(\"error in response code \",resp.status_code)\n",
    "# if there are multiple ranges, the result is a complex structure defined by the Content-Type header\n",
    "# which defines a boundary separating the byte streams of the individual ranges\n",
    "# the next few lines define this boundary which will be used to cut up the complete content\n",
    "ct=resp.headers['Content-Type']\n",
    "boundary=ct.split(\"=\")[1]\n",
    "boundary=(\"--%s\"%boundary).encode()\n",
    "print(\"boundary=\",boundary)\n",
    "\n",
    "# first cut up the raw content using the boundary\n",
    "chunks=resp.raw.read().split(boundary)\n",
    "count=0;ncount=0;\n",
    "for chunk in chunks:\n",
    "    # each chunk has still some crap around it that needs to be removed as well\n",
    "    ix=chunk.find(b\"Content-Range\")\n",
    "    if ix<0:\n",
    "        continue\n",
    "    chunk=chunk[ix:-2]\n",
    "    chunk=chunk[chunk.find(b'\\r\\n\\r\\n')+4:]\n",
    "    # now the chunk is a pure array of bytes, the length of which should be given by the range\n",
    "    \n",
    "    _range=ranges[count]\n",
    "    # define the length of the arryay of 4-byte floats\n",
    "    n=int((_range[1]-_range[0]+1)/4 )\n",
    "    # read the array\n",
    "    narr=np.frombuffer(chunk,dtype=np.float32,count=n)\n",
    "    print(narr)\n",
    "    count+=1"
   ]
  },
  {
   "cell_type": "code",
   "execution_count": null,
   "metadata": {
    "collapsed": true
   },
   "outputs": [],
   "source": []
  }
 ],
 "metadata": {
  "kernelspec": {
   "display_name": "Python 3",
   "language": "python",
   "name": "python3"
  },
  "language_info": {
   "codemirror_mode": {
    "name": "ipython",
    "version": 3
   },
   "file_extension": ".py",
   "mimetype": "text/x-python",
   "name": "python",
   "nbconvert_exporter": "python",
   "pygments_lexer": "ipython3",
   "version": "3.5.2"
  }
 },
 "nbformat": 4,
 "nbformat_minor": 0
}
