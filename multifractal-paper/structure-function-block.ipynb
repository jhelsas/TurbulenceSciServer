{
 "cells": [
  {
   "cell_type": "code",
   "execution_count": 1,
   "metadata": {
    "collapsed": true
   },
   "outputs": [],
   "source": [
    "import os\n",
    "import time\n",
    "import numpy as np\n",
    "import pyfftw as ft\n",
    "import matplotlib.pyplot as plt\n",
    "import pyJHTDB\n",
    "from pyJHTDB.dbinfo import isotropic1024coarse\n",
    "from pyJHTDB import libJHTDB\n",
    "from scipy.interpolate import RegularGridInterpolator"
   ]
  },
  {
   "cell_type": "code",
   "execution_count": 2,
   "metadata": {
    "collapsed": true
   },
   "outputs": [],
   "source": [
    "N = 1024\n",
    "Nx = isotropic1024coarse['nx']; Lx = isotropic1024coarse['lx']\n",
    "Ny = isotropic1024coarse['ny']; Ly = isotropic1024coarse['ly']\n",
    "Nz = isotropic1024coarse['nz']; Lz = isotropic1024coarse['lz']"
   ]
  },
  {
   "cell_type": "code",
   "execution_count": 3,
   "metadata": {
    "collapsed": false
   },
   "outputs": [
    {
     "name": "stdout",
     "output_type": "stream",
     "text": [
      "0.000752210617065\n"
     ]
    }
   ],
   "source": [
    "start = time.time()\n",
    "\n",
    "u = np.zeros((N,N,N), dtype='float32')\n",
    "v = np.zeros((N,N,N), dtype='float32')\n",
    "w = np.zeros((N,N,N), dtype='float32')\n",
    "\n",
    "end = time.time()\n",
    "print(end-start)"
   ]
  },
  {
   "cell_type": "code",
   "execution_count": 4,
   "metadata": {
    "collapsed": false
   },
   "outputs": [
    {
     "name": "stdout",
     "output_type": "stream",
     "text": [
      "211.436427832\n"
     ]
    }
   ],
   "source": [
    "start = time.time()\n",
    "\n",
    "nproc = 8\n",
    "nx = N//nproc\n",
    "\n",
    "vx = np.zeros((N//nproc,N,N), dtype='float32')\n",
    "vy = np.zeros((N//nproc,N,N), dtype='float32')\n",
    "vz = np.zeros((N//nproc,N,N), dtype='float32')\n",
    "\n",
    "folder = '/home/idies/workspace/scratch'\n",
    "\n",
    "for k in range(nproc):\n",
    "    filename = 'ref-isotropic1024coarse-'+str(k)+'-(t=0.0).npz'\n",
    "    file = folder+'/'+filename\n",
    "    \n",
    "    content = np.load(file)\n",
    "    if(int(content['nproc'])!=nproc):\n",
    "        print(\"Unmatched number of processes. Must first pre-process to adequate number of process\")\n",
    "    \n",
    "    vx[:,:,:] = content['vx']\n",
    "    vy[:,:,:] = content['vy']\n",
    "    vz[:,:,:] = content['vz']\n",
    "    \n",
    "    u[k*nx:(k+1)*nx,:,:] = vx[:,:,:]\n",
    "    v[k*nx:(k+1)*nx,:,:] = vy[:,:,:]\n",
    "    w[k*nx:(k+1)*nx,:,:] = vz[:,:,:]\n",
    "\n",
    "del vx,vy,vz\n",
    "    \n",
    "end = time.time()\n",
    "print(end-start)"
   ]
  },
  {
   "cell_type": "code",
   "execution_count": 5,
   "metadata": {
    "collapsed": false
   },
   "outputs": [
    {
     "name": "stdout",
     "output_type": "stream",
     "text": [
      "(0.41078633, 0.57521385, 0.37943667)\n"
     ]
    }
   ],
   "source": [
    "u2avg = np.average(u**2)\n",
    "v2avg = np.average(v**2)\n",
    "w2avg = np.average(w**2)\n",
    "\n",
    "print(u2avg,v2avg,w2avg)"
   ]
  },
  {
   "cell_type": "code",
   "execution_count": 6,
   "metadata": {
    "collapsed": false
   },
   "outputs": [
    {
     "name": "stdout",
     "output_type": "stream",
     "text": [
      "0.674644793545\n"
     ]
    }
   ],
   "source": [
    "u2_sum = (u2avg + v2avg + w2avg)/3\n",
    "\n",
    "print(np.sqrt(u2_sum))"
   ]
  },
  {
   "cell_type": "code",
   "execution_count": 26,
   "metadata": {
    "collapsed": false
   },
   "outputs": [
    {
     "name": "stdout",
     "output_type": "stream",
     "text": [
      "1.36544\n"
     ]
    }
   ],
   "source": [
    "avg = u2avg + v2avg + w2avg\n",
    "print(avg)"
   ]
  },
  {
   "cell_type": "code",
   "execution_count": 30,
   "metadata": {
    "collapsed": false,
    "scrolled": true
   },
   "outputs": [
    {
     "name": "stdout",
     "output_type": "stream",
     "text": [
      "('increment = ', 0)\n",
      "('increment = ', 16)\n",
      "('increment = ', 32)\n",
      "('increment = ', 48)\n",
      "('increment = ', 64)\n",
      "('increment = ', 80)\n",
      "('increment = ', 96)\n",
      "('increment = ', 112)\n",
      "('increment = ', 128)\n",
      "('increment = ', 144)\n",
      "('increment = ', 160)\n",
      "('increment = ', 176)\n",
      "('increment = ', 192)\n",
      "('increment = ', 208)\n",
      "('increment = ', 224)\n",
      "('increment = ', 240)\n",
      "('increment = ', 256)\n",
      "('increment = ', 272)\n",
      "('increment = ', 288)\n",
      "('increment = ', 304)\n",
      "('increment = ', 320)\n",
      "('increment = ', 336)\n",
      "('increment = ', 352)\n",
      "('increment = ', 368)\n",
      "('increment = ', 384)\n",
      "('increment = ', 400)\n",
      "('increment = ', 416)\n",
      "('increment = ', 432)\n",
      "('increment = ', 448)\n",
      "('increment = ', 464)\n",
      "('increment = ', 480)\n",
      "('increment = ', 496)\n",
      "47163.5811098\n"
     ]
    }
   ],
   "source": [
    "start = time.time()\n",
    "\n",
    "df2lt = np.zeros((Nx//2,3),dtype='float32')\n",
    "for incr in range(Nx//2):\n",
    "    if(incr%16==0):\n",
    "        print(\"increment = \",incr)\n",
    "        \n",
    "    #############################\n",
    "    \n",
    "    df2avx = 0.\n",
    "    for k in range(Nx):\n",
    "        kprime = (k+incr)%Nx\n",
    "        \n",
    "        df = u[kprime,:,:] - u[k,:,:]\n",
    "        \n",
    "        df2slab = np.average(df**2)\n",
    "        df2avx += df2slab\n",
    "        \n",
    "    df2avx /= Nx\n",
    "        \n",
    "    #############################\n",
    "        \n",
    "    df2avy = 0.\n",
    "    for k in range(Ny):\n",
    "        kprime = (k+incr)%Ny\n",
    "        \n",
    "        df = v[:,kprime,:] - v[:,k,:]\n",
    "        \n",
    "        df2slab = np.average(df**2)\n",
    "        df2avy += df2slab\n",
    "        \n",
    "    df2avy /= Ny\n",
    "        \n",
    "    #############################        \n",
    "        \n",
    "    df2avz = 0.\n",
    "    for k in range(Nz):\n",
    "        kprime = (k+incr)%Nz\n",
    "        \n",
    "        df = w[:,:,kprime] - w[:,:,k]\n",
    "        \n",
    "        df2slab = np.average(df**2)\n",
    "        df2avz += df2slab\n",
    "        \n",
    "    df2avz /= Nz\n",
    "        \n",
    "    #############################        \n",
    "    \n",
    "    df2lt[incr][0] = df2avx\n",
    "    df2lt[incr][1] = df2avy\n",
    "    df2lt[incr][2] = df2avz\n",
    "    \n",
    "end = time.time()\n",
    "print(end-start)"
   ]
  },
  {
   "cell_type": "code",
   "execution_count": null,
   "metadata": {
    "collapsed": true
   },
   "outputs": [],
   "source": [
    "r = np.linspace(0,np.pi,num=Nx//2,endpoint=True)\n",
    "\n",
    "filename = 'direct_longitudinal_sf_u.npz'\n",
    "\n",
    "np.savez(filename,df2lt=df2lt,avg = avg, r=r)"
   ]
  },
  {
   "cell_type": "code",
   "execution_count": null,
   "metadata": {
    "collapsed": false
   },
   "outputs": [
    {
     "name": "stdout",
     "output_type": "stream",
     "text": [
      "('increment = ', 0)\n"
     ]
    }
   ],
   "source": [
    "start = time.time()\n",
    "\n",
    "df2tv = np.zeros((Nx//2,3),dtype='float32')\n",
    "for incr in range(Nx//2):\n",
    "    if(incr%16==0):\n",
    "        print(\"increment = \",incr)\n",
    "        \n",
    "    #############################\n",
    "    \n",
    "    df2avx = 0.\n",
    "    for k in range(Nx):\n",
    "        kprime = (k+incr)%Nx\n",
    "        \n",
    "        df = v[kprime,:,:] - v[k,:,:]\n",
    "        \n",
    "        df2slab = np.average(df**2)\n",
    "        df2avx += df2slab\n",
    "        \n",
    "        ############\n",
    "        \n",
    "        df = w[kprime,:,:] - w[k,:,:]\n",
    "        \n",
    "        df2slab = np.average(df**2)\n",
    "        df2avx += df2slab\n",
    "        \n",
    "    df2avx /= Nx\n",
    "        \n",
    "    #############################\n",
    "        \n",
    "    df2avy = 0.\n",
    "    for k in range(Ny):\n",
    "        kprime = (k+incr)%Ny\n",
    "        \n",
    "        df = u[:,kprime,:] - u[:,k,:]\n",
    "        \n",
    "        df2slab = np.average(df**2)\n",
    "        df2avy += df2slab\n",
    "        \n",
    "        ############\n",
    "        \n",
    "        df = w[:,kprime,:] - w[:,k,:]\n",
    "        \n",
    "        df2slab = np.average(df**2)\n",
    "        df2avy += df2slab\n",
    "        \n",
    "    df2avy /= Ny\n",
    "        \n",
    "    #############################\n",
    "        \n",
    "    df2avz = 0.\n",
    "    for k in range(Nz):\n",
    "        kprime = (k+incr)%Nz\n",
    "        \n",
    "        df = u[:,:,kprime] - u[:,:,k]\n",
    "        \n",
    "        df2slab = np.average(df**2)\n",
    "        df2avz += df2slab\n",
    "        \n",
    "        ###########\n",
    "        \n",
    "        df = v[:,:,kprime] - v[:,:,k]\n",
    "        \n",
    "        df2slab = np.average(df**2)\n",
    "        df2avz += df2slab\n",
    "        \n",
    "    df2avz /= Nz\n",
    "        \n",
    "    #############################        \n",
    "    \n",
    "    df2tv[incr][0] = df2avx\n",
    "    df2tv[incr][1] = df2avy\n",
    "    df2tv[incr][2] = df2avz\n",
    "    \n",
    "end = time.time()\n",
    "print(end-start)"
   ]
  },
  {
   "cell_type": "code",
   "execution_count": null,
   "metadata": {
    "collapsed": true
   },
   "outputs": [],
   "source": [
    "r = np.linspace(0,np.pi,num=Nx//2,endpoint=True)\n",
    "\n",
    "filename = 'direct_transverse_sf_u.npz'\n",
    "\n",
    "np.savez(filename,df2tv=df2tv,avg = avg, r=r)"
   ]
  },
  {
   "cell_type": "code",
   "execution_count": null,
   "metadata": {
    "collapsed": true
   },
   "outputs": [],
   "source": []
  }
 ],
 "metadata": {
  "kernelspec": {
   "display_name": "Python 2",
   "language": "python",
   "name": "python2"
  },
  "language_info": {
   "codemirror_mode": {
    "name": "ipython",
    "version": 2
   },
   "file_extension": ".py",
   "mimetype": "text/x-python",
   "name": "python",
   "nbconvert_exporter": "python",
   "pygments_lexer": "ipython2",
   "version": "2.7.11"
  }
 },
 "nbformat": 4,
 "nbformat_minor": 0
}
