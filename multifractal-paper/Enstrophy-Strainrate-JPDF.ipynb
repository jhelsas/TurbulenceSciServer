{
 "cells": [
  {
   "cell_type": "code",
   "execution_count": 1,
   "metadata": {
    "collapsed": true
   },
   "outputs": [],
   "source": [
    "import h5py\n",
    "import matplotlib\n",
    "import matplotlib.pyplot as plt\n",
    "import numpy as np\n",
    "import os\n",
    "import pyfftw as ft\n",
    "import time\n",
    "import pyJHTDB\n",
    "from pyJHTDB.dbinfo import isotropic1024coarse\n",
    "from pyJHTDB import libJHTDB"
   ]
  },
  {
   "cell_type": "code",
   "execution_count": 2,
   "metadata": {
    "collapsed": true
   },
   "outputs": [],
   "source": [
    "N = 1024"
   ]
  },
  {
   "cell_type": "code",
   "execution_count": 3,
   "metadata": {
    "collapsed": true
   },
   "outputs": [],
   "source": [
    "w2 = np.zeros((N,N,N), dtype='float32')\n",
    "S2 = np.zeros((N,N,N), dtype='float32')"
   ]
  },
  {
   "cell_type": "code",
   "execution_count": 4,
   "metadata": {},
   "outputs": [
    {
     "name": "stdout",
     "output_type": "stream",
     "text": [
      "10.6615209579\n"
     ]
    }
   ],
   "source": [
    "start = time.time()\n",
    "\n",
    "nproc = 8\n",
    "nx = N//nproc\n",
    "\n",
    "lw2 = np.zeros((N//nproc,N,N), dtype='float32')\n",
    "\n",
    "folder = '/home/admin/scratch'\n",
    "\n",
    "for k in range(nproc):\n",
    "    filename = 'ref-enstrophy-'+str(k)+'.npz'\n",
    "    file = folder+'/'+filename\n",
    "    \n",
    "    content = np.load(file)\n",
    "    lw2[:,:,:] = content['w2']\n",
    "    \n",
    "    w2[k*nx:(k+1)*nx,:,:] = lw2[:,:,:]\n",
    "    \n",
    "end = time.time()\n",
    "print(end-start)"
   ]
  },
  {
   "cell_type": "code",
   "execution_count": 5,
   "metadata": {},
   "outputs": [
    {
     "name": "stdout",
     "output_type": "stream",
     "text": [
      "10.4675979614\n"
     ]
    }
   ],
   "source": [
    "start = time.time()\n",
    "\n",
    "nproc = 8\n",
    "nx = N//nproc\n",
    "\n",
    "lS2 = np.zeros((N//nproc,N,N), dtype='float32')\n",
    "\n",
    "folder = '/home/admin/scratch'\n",
    "\n",
    "for k in range(nproc):\n",
    "    filename = 'ref-strainrate-'+str(k)+'.npz'\n",
    "    file = folder+'/'+filename\n",
    "    \n",
    "    content = np.load(file)\n",
    "    lS2[:,:,:] = content['S2']\n",
    "    \n",
    "    S2[k*nx:(k+1)*nx,:,:] = lS2[:,:,:]\n",
    "    \n",
    "end = time.time()\n",
    "print(end-start)"
   ]
  },
  {
   "cell_type": "code",
   "execution_count": 6,
   "metadata": {
    "collapsed": true
   },
   "outputs": [],
   "source": [
    "del lw2,lS2"
   ]
  },
  {
   "cell_type": "code",
   "execution_count": 7,
   "metadata": {
    "collapsed": true
   },
   "outputs": [],
   "source": [
    "w2 = 0.5*w2"
   ]
  },
  {
   "cell_type": "code",
   "execution_count": 8,
   "metadata": {},
   "outputs": [
    {
     "name": "stdout",
     "output_type": "stream",
     "text": [
      "(249.21837, 249.2186, 9.1839877e-07)\n"
     ]
    }
   ],
   "source": [
    "avgO = np.average(w2)\n",
    "avgE = np.average(S2)\n",
    "print(avgO,avgE,(avgE-avgO)/avgO)\n",
    "avg = avgE"
   ]
  },
  {
   "cell_type": "code",
   "execution_count": 9,
   "metadata": {
    "collapsed": true
   },
   "outputs": [],
   "source": [
    "s2f = S2.flatten()\n",
    "w2f = w2.flatten()"
   ]
  },
  {
   "cell_type": "code",
   "execution_count": 10,
   "metadata": {
    "collapsed": true
   },
   "outputs": [],
   "source": [
    "hist = np.zeros((N*N*N,2))"
   ]
  },
  {
   "cell_type": "code",
   "execution_count": 11,
   "metadata": {},
   "outputs": [
    {
     "name": "stdout",
     "output_type": "stream",
     "text": [
      "('S2 min,max: ', 3.9848841e-05, 225.00957, '; w2 min,max: ', 1.4399733e-07, 675.16766)\n"
     ]
    }
   ],
   "source": [
    "s2Min = np.min(s2f)\n",
    "s2Max = np.max(s2f)\n",
    "w2Min = np.min(w2f)\n",
    "w2Max = np.max(w2f)\n",
    "print(\"S2 min,max: \",s2Min/avg,s2Max/avg,\"; w2 min,max: \",w2Min/avg,w2Max/avg)"
   ]
  },
  {
   "cell_type": "code",
   "execution_count": 12,
   "metadata": {
    "collapsed": true
   },
   "outputs": [],
   "source": [
    "hist[:,0] = np.log(s2f[:]/avg)/np.log(10)\n",
    "hist[:,1] = np.log(w2f[:]/avg)/np.log(10)"
   ]
  },
  {
   "cell_type": "code",
   "execution_count": 13,
   "metadata": {
    "collapsed": true
   },
   "outputs": [],
   "source": [
    "ls2Min = np.min(hist[:,0])\n",
    "ls2Max = np.max(hist[:,0])\n",
    "lw2Min = np.min(hist[:,1])\n",
    "lw2Max = np.max(hist[:,1])"
   ]
  },
  {
   "cell_type": "code",
   "execution_count": 14,
   "metadata": {},
   "outputs": [
    {
     "name": "stdout",
     "output_type": "stream",
     "text": [
      "(-4.3995842933654785, 2.352200984954834)\n",
      "(-6.8416457176208496, 2.8294117450714111)\n",
      "('log(S2) min,max: ', -4.3995842933654785, 2.352200984954834, '; log(w2) min,max: ', -6.8416457176208496, 2.8294117450714111)\n"
     ]
    }
   ],
   "source": [
    "print(ls2Min,ls2Max)\n",
    "print(lw2Min,lw2Max)\n",
    "print(\"log(S2) min,max: \",ls2Min,ls2Max,\"; log(w2) min,max: \",lw2Min,lw2Max)"
   ]
  },
  {
   "cell_type": "code",
   "execution_count": 15,
   "metadata": {},
   "outputs": [
    {
     "name": "stdout",
     "output_type": "stream",
     "text": [
      "(80, 115)\n"
     ]
    }
   ],
   "source": [
    "ls2binNum = 80\n",
    "de = (ls2Max-ls2Min)/(ls2binNum)\n",
    "lw2binNum = int((lw2Max-lw2Min)/(de))+1\n",
    "\n",
    "print(ls2binNum,lw2binNum)\n",
    "\n",
    "num  = max(ls2binNum,lw2binNum)\n",
    "bmin = min(ls2Min,lw2Min)\n",
    "bmax = max(ls2Max,lw2Max)"
   ]
  },
  {
   "cell_type": "code",
   "execution_count": 16,
   "metadata": {
    "collapsed": true
   },
   "outputs": [],
   "source": [
    "H, edges = np.histogramdd(hist, bins=(num,num), range=((bmin,bmax),(bmin,bmax)), normed=True)"
   ]
  },
  {
   "cell_type": "code",
   "execution_count": 17,
   "metadata": {},
   "outputs": [
    {
     "name": "stderr",
     "output_type": "stream",
     "text": [
      "/opt/anaconda2/lib/python2.7/site-packages/ipykernel_launcher.py:4: RuntimeWarning: divide by zero encountered in log\n",
      "  after removing the cwd from sys.path.\n"
     ]
    },
    {
     "data": {
      "image/png": "[encoded data removed]",
      "text/plain": [
       "<matplotlib.figure.Figure at 0x7f8a4d12d110>"
      ]
     },
     "metadata": {},
     "output_type": "display_data"
    }
   ],
   "source": [
    "%matplotlib inline \n",
    "\n",
    "fig = plt.figure(figsize=(12,12))\n",
    "logH = np.log(H)/np.log(10)\n",
    "\n",
    "plt.title(r'$\\log_{10} P(\\log_{10}{( S^2/\\langle S^2\\rangle)},\\log_{10}{( (\\omega^2/2)/\\langle S^2\\rangle)})$',size=20)\n",
    "plt.ylabel(r'$\\log_{10}{( S^2/\\langle S^2\\rangle)}$',size=20)\n",
    "plt.xlabel(r'$\\log_{10}{( (\\omega^2/2)/\\langle S^2\\rangle)}$',size=20)\n",
    "\n",
    "cax = plt.imshow(logH,interpolation='none',extent=(bmin,bmax,bmin,bmax),origin='lower', aspect='equal')\n",
    "\n",
    "ticks = [-7,-6,-5,-4,-3,-2,-1,0,1,2,3]\n",
    "plt.xticks(ticks)\n",
    "plt.yticks(ticks)\n",
    "\n",
    "cbar = fig.colorbar(cax,fraction=0.046, pad=0.04)\n",
    "#########################################\n",
    "#########################################\n",
    "dw2 = np.logspace(-7, 3, num=250, endpoint=True, base=np.e)\n",
    "ds2 = np.logspace(0, 0, num=250, endpoint=True, base=np.e)\n",
    "plt.plot(np.log(dw2),np.log(ds2),'k--')\n",
    "#########################################\n",
    "dw2 = np.logspace(-7, 3, num=250, endpoint=True, base=np.e)\n",
    "ds2 = np.logspace(np.log(5)/np.log(10), np.log(5)/np.log(10), num=250, endpoint=True, base=np.e)\n",
    "plt.plot(np.log(dw2),np.log(ds2),'k-.')\n",
    "#########################################\n",
    "dw2 = np.logspace(-7, 3, num=250, endpoint=True, base=np.e)\n",
    "ds2 = np.logspace(np.log(50)/np.log(10), np.log(50)/np.log(10), num=250, endpoint=True, base=np.e)\n",
    "plt.plot(np.log(dw2),np.log(ds2),'k-.')\n",
    "#########################################\n",
    "#########################################\n",
    "dw2 = np.logspace(0, 0, num=250, endpoint=True, base=np.e)\n",
    "ds2 = np.logspace(-7, 3, num=250, endpoint=True, base=np.e)\n",
    "plt.plot(np.log(dw2),np.log(ds2),'k--')\n",
    "#########################################\n",
    "dw2 = np.logspace(np.log(5)/np.log(10), np.log(5)/np.log(10), num=250, endpoint=True, base=np.e)\n",
    "ds2 = np.logspace(-7, 3, num=250, endpoint=True, base=np.e)\n",
    "plt.plot(np.log(dw2),np.log(ds2),'k-.')\n",
    "#########################################\n",
    "dw2 = np.logspace(np.log(50)/np.log(10), np.log(50)/np.log(10), num=250, endpoint=True, base=np.e)\n",
    "ds2 = np.logspace(-7, 3, num=250, endpoint=True, base=np.e)\n",
    "plt.plot(np.log(dw2),np.log(ds2),'k-.')\n",
    "#########################################\n",
    "########################################\n",
    "plt.text(0.03, -5.7, r'$\\omega^2/2= \\langle S^2\\rangle$', fontsize=16,rotation=90)\n",
    "plt.text(0.75, -5.55, r'$\\omega^2/2=5 \\langle S^2\\rangle$', fontsize=16,rotation=90)\n",
    "plt.text(1.75, -5.45, r'$\\omega^2/2=50 \\langle S^2\\rangle$', fontsize=16,rotation=90)\n",
    "plt.text(-6.99, 0.25, r'$S^2=\\langle S^2\\rangle$', fontsize=16)\n",
    "plt.text(-6.97, 0.79, r'$S^2=5\\langle S^2\\rangle$', fontsize=16)\n",
    "plt.text(-6.97, 1.79, r'$S^2=50\\langle S^2\\rangle$', fontsize=16)\n",
    "#########################################\n",
    "plt.savefig('strain-enstr-jpdf-log.pdf', format='pdf', bbox_inches='tight', transparent=True)"
   ]
  },
  {
   "cell_type": "code",
   "execution_count": null,
   "metadata": {
    "collapsed": true
   },
   "outputs": [],
   "source": [
    "Nbins = 1024*8\n",
    "wtemp = w2[:,:,:] \n",
    "w2red=np.zeros(Nbins,dtype='int')\n",
    "lbins = np.logspace(np.log10(w2Min/avg),np.log10(w2Max/avg),Nbins)\n",
    "histredw,edgesredw = np.histogram(wtemp/avg,lbins)"
   ]
  },
  {
   "cell_type": "code",
   "execution_count": null,
   "metadata": {
    "collapsed": true
   },
   "outputs": [],
   "source": [
    "Nbins = 1024*8\n",
    "stemp = S2[:,:,:] \n",
    "s2red=np.zeros(Nbins,dtype='int')\n",
    "lbins = np.logspace(np.log10(s2Min/avg),np.log10(s2Max/avg),Nbins)\n",
    "histreds,edgesreds = np.histogram(stemp/avg,lbins)"
   ]
  },
  {
   "cell_type": "code",
   "execution_count": null,
   "metadata": {
    "collapsed": true
   },
   "outputs": [],
   "source": [
    "w2red[-1] = 0\n",
    "s2red[-1] = 0\n",
    "w2_bins = np.load('enstrophy_bins.npy')\n",
    "w2_pdf = np.load('enstrophy_pdf.npy')\n",
    "s2_bins = np.load('dissipation_bins.npy')\n",
    "s2_pdf = np.load('dissipation_pdf.npy')\n",
    "    \n",
    "fig = plt.figure(figsize=(5,10))\n",
    "\n",
    "######################################\n",
    "\n",
    "ax1 = plt.subplot(211)\n",
    "ax2 = plt.subplot(212,sharex=ax1)\n",
    "\n",
    "plt.subplots_adjust(hspace=.0)\n",
    "\n",
    "######################################\n",
    "    \n",
    "SIZE = 12\n",
    "plt.rcParams['figure.figsize'] = (5, 10)\n",
    "plt.rc('font', size=SIZE)  # controls default text sizes\n",
    "plt.rc('axes', titlesize=SIZE+4)  # fontsize of the axes title\n",
    "plt.rc('axes', labelsize=SIZE+4)  # fontsize of the x any y labels\n",
    "plt.rc('xtick', labelsize=SIZE)  # fontsize of the tick labels\n",
    "plt.rc('ytick', labelsize=SIZE)  # fontsize of the tick labels\n",
    "plt.rc('legend', fontsize=SIZE+3)  # legend fontsize\n",
    "ax2.set_xlabel(r'$ (\\omega^2/2)/{\\langle S^2\\rangle},S^2/{\\langle S^2\\rangle}$')\n",
    "ax1.set_ylabel(r'$P_{\\omega^2/2}$')\n",
    "ax2.set_ylabel(r'$P_{S^2}$')\n",
    "plt.setp(ax1.get_xticklabels(), visible=False)\n",
    "\n",
    "######################################\n",
    "\n",
    "leftw = edgesredw[0:(Nbins-1)]\n",
    "rightw = edgesredw[1:Nbins]\n",
    "normhistw = (histredw*(1024**(-3)))/(rightw-leftw)\n",
    "normw = np.sum(normhistw*(rightw-leftw))\n",
    "\n",
    "ax1.set_xlim((10**(-7),10**(3)))\n",
    "ax1.loglog((leftw+rightw)/2.,normhistw/normw,'r',label='Unfiltered')\n",
    "ax1.loglog(w2_bins,w2_pdf,'b--')\n",
    "\n",
    "yticks = [10**(-10),10**(-9),10**(-8),10**(-7),10**(-6),10**(-5),10**(-4),10**(-3),10**(-2),10**(-1),10**(0),10**(-1)]\n",
    "ax1.set_yticks(yticks)\n",
    "\n",
    "######################################\n",
    "\n",
    "lefts = edgesreds[0:(Nbins-1)]\n",
    "rights = edgesreds[1:Nbins]\n",
    "normhists = (histreds*(1024**(-3)))/(rights-lefts)\n",
    "norms = np.sum(normhists*(rights-lefts))\n",
    "\n",
    "ax2.set_xlim((10**(-7),10**(3)))\n",
    "ax2.loglog((lefts+rights)/2.,normhists/normw,'r',label='Unfiltered')\n",
    "ax2.loglog(s2_bins,s2_pdf,'b--')\n",
    "\n",
    "yticks = [10**(-9),10**(-8),10**(-7),10**(-6),10**(-5),10**(-4),10**(-3),10**(-2),10**(-1),10**(0),10**(-1)]\n",
    "ax2.set_yticks(yticks)\n",
    "\n",
    "######################################\n",
    "\n",
    "ax1.title.set_text(r'$P_{\\omega^2/2},P_{S^2}$')\n",
    "ax1.title.set_size(20)\n",
    "\n",
    "plt.subplots_adjust(wspace = 0.1)\n",
    "plt.savefig('strain-enstr-pdfs.pdf', format='pdf', bbox_inches='tight', transparent=True)"
   ]
  }
 ],
 "metadata": {
  "kernelspec": {
   "display_name": "Python 2",
   "language": "python",
   "name": "python2"
  },
  "language_info": {
   "codemirror_mode": {
    "name": "ipython",
    "version": 2
   },
   "file_extension": ".py",
   "mimetype": "text/x-python",
   "name": "python",
   "nbconvert_exporter": "python",
   "pygments_lexer": "ipython2",
   "version": "2.7.9"
  }
 },
 "nbformat": 4,
 "nbformat_minor": 1
}
