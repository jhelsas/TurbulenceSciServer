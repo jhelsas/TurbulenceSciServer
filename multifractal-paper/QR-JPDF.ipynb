{
 "cells": [
  {
   "cell_type": "code",
   "execution_count": 1,
   "metadata": {
    "collapsed": true
   },
   "outputs": [],
   "source": [
    "import h5py\n",
    "import matplotlib\n",
    "import matplotlib.pyplot as plt\n",
    "import numpy as np\n",
    "import os\n",
    "import pyfftw as ft\n",
    "import time\n",
    "import pyJHTDB\n",
    "from pyJHTDB.dbinfo import isotropic1024coarse\n",
    "from pyJHTDB import libJHTDB"
   ]
  },
  {
   "cell_type": "code",
   "execution_count": 2,
   "metadata": {
    "collapsed": true
   },
   "outputs": [],
   "source": [
    "N = 1024"
   ]
  },
  {
   "cell_type": "code",
   "execution_count": 53,
   "metadata": {
    "collapsed": true
   },
   "outputs": [],
   "source": [
    "Q = np.zeros((N,N,N), dtype='float32')\n",
    "R = np.zeros((N,N,N), dtype='float32')\n",
    "S2 = np.zeros((N,N,N), dtype='float32')"
   ]
  },
  {
   "cell_type": "code",
   "execution_count": 54,
   "metadata": {},
   "outputs": [
    {
     "name": "stdout",
     "output_type": "stream",
     "text": [
      "17.6230430603\n"
     ]
    }
   ],
   "source": [
    "start = time.time()\n",
    "\n",
    "nproc = 8\n",
    "nx = N//nproc\n",
    "\n",
    "lQ = np.zeros((N//nproc,N,N), dtype='float32')\n",
    "lR = np.zeros((N//nproc,N,N), dtype='float32')\n",
    "\n",
    "t = 0.0\n",
    "folder = '/home/jhelsas/scratch'\n",
    "\n",
    "for k in range(nproc):\n",
    "    filename = 'ref-QR-'+str(k)+'-(t='+str(t)+').npz'\n",
    "    file = folder+'/'+filename\n",
    "    \n",
    "    content = np.load(file)\n",
    "    lQ[:,:,:] = content['Q']\n",
    "    lR[:,:,:] = content['R']\n",
    "    \n",
    "    Q[k*nx:(k+1)*nx,:,:] = lQ[:,:,:]\n",
    "    R[k*nx:(k+1)*nx,:,:] = lR[:,:,:]\n",
    "    \n",
    "end = time.time()\n",
    "print(end-start)"
   ]
  },
  {
   "cell_type": "code",
   "execution_count": 55,
   "metadata": {},
   "outputs": [
    {
     "name": "stdout",
     "output_type": "stream",
     "text": [
      "8.62240505219\n"
     ]
    }
   ],
   "source": [
    "start = time.time()\n",
    "\n",
    "nproc = 8\n",
    "nx = N//nproc\n",
    "\n",
    "lS2 = np.zeros((N//nproc,N,N), dtype='float32')\n",
    "\n",
    "folder = '/home/jhelsas/scratch'\n",
    "\n",
    "for k in range(nproc):\n",
    "    filename = 'ref-strainrate-'+str(k)+'.npz'\n",
    "    file = folder+'/'+filename\n",
    "    \n",
    "    content = np.load(file)\n",
    "    lS2[:,:,:] = content['S2']\n",
    "    \n",
    "    S2[k*nx:(k+1)*nx,:,:] = lS2[:,:,:]\n",
    "    \n",
    "end = time.time()\n",
    "print(end-start)"
   ]
  },
  {
   "cell_type": "code",
   "execution_count": 10,
   "metadata": {
    "collapsed": true
   },
   "outputs": [],
   "source": [
    "del lQ,lR,lS2"
   ]
  },
  {
   "cell_type": "code",
   "execution_count": 56,
   "metadata": {},
   "outputs": [
    {
     "name": "stdout",
     "output_type": "stream",
     "text": [
      "249.219\n"
     ]
    }
   ],
   "source": [
    "avg = np.average(S2)\n",
    "print(avg)"
   ]
  },
  {
   "cell_type": "code",
   "execution_count": 58,
   "metadata": {},
   "outputs": [
    {
     "name": "stdout",
     "output_type": "stream",
     "text": [
      "('<Q>/Q_rms: ', -1.790994e-10, '<R>/Q_rms**3: ', -1.5522135e-05, 'Q_rms**2: ', 0.28464133, 'Q_rms : ', 0.5335179)\n"
     ]
    }
   ],
   "source": [
    "avgQ = np.average(Q/avg)\n",
    "avgR = np.average((R)/avg**(3/2))\n",
    "avgQ2 = np.average((Q/avg)**2)\n",
    "Qrms = np.sqrt(avgQ2)\n",
    "print(\"<Q>/Q_rms: \",avgQ,\"<R>/Q_rms**3: \",avgR,\"Q_rms**2: \",avgQ2,\"Q_rms : \",Qrms)"
   ]
  },
  {
   "cell_type": "code",
   "execution_count": 59,
   "metadata": {
    "collapsed": true
   },
   "outputs": [],
   "source": [
    "Qf = Q.flatten()\n",
    "Rf = R.flatten()"
   ]
  },
  {
   "cell_type": "code",
   "execution_count": 60,
   "metadata": {
    "collapsed": true
   },
   "outputs": [],
   "source": [
    "hist = np.zeros((N*N*N,2))"
   ]
  },
  {
   "cell_type": "code",
   "execution_count": 61,
   "metadata": {},
   "outputs": [],
   "source": [
    "hist[:,0] = Qf[:]/(avg)\n",
    "hist[:,1] = Rf[:]/(avg**(3/2))"
   ]
  },
  {
   "cell_type": "code",
   "execution_count": 62,
   "metadata": {
    "collapsed": true
   },
   "outputs": [],
   "source": [
    "lQMin = np.min(hist[:,0])\n",
    "lQMax = np.max(hist[:,0])\n",
    "lRMin = np.min(hist[:,1])\n",
    "lRMax = np.max(hist[:,1])"
   ]
  },
  {
   "cell_type": "code",
   "execution_count": 63,
   "metadata": {},
   "outputs": [
    {
     "name": "stdout",
     "output_type": "stream",
     "text": [
      "(-152.81842041015625, 46.078834533691406)\n",
      "(-21388.208984375, 22536.45703125)\n",
      "('Q/Q_rms min,max: ', -152.81842041015625, 46.078834533691406, '; R/Q_rms^(3/2) min,max: ', -21388.208984375, 22536.45703125)\n"
     ]
    }
   ],
   "source": [
    "print(lQMin,lQMax)\n",
    "print(lRMin,lRMax)\n",
    "print(\"Q/Q_rms min,max: \",lQMin,lQMax,\"; R/Q_rms^(3/2) min,max: \",lRMin,lRMax)"
   ]
  },
  {
   "cell_type": "code",
   "execution_count": 38,
   "metadata": {},
   "outputs": [
    {
     "name": "stdout",
     "output_type": "stream",
     "text": [
      "4.66001157761\n",
      "(80, 1533)\n"
     ]
    }
   ],
   "source": [
    "lQbinNum = 80\n",
    "de = (lQMax-lQMin)/(lQbinNum)\n",
    "lRbinNum = int((lRMax-lRMin)/(de))+1\n",
    "\n",
    "print(de)\n",
    "print(lQbinNum,lRbinNum)\n",
    "\n",
    "num  = max(lQbinNum,lRbinNum)\n",
    "bmin = min(lQMin,lRMin)\n",
    "bmax = max(lQMax,lRMax)"
   ]
  },
  {
   "cell_type": "code",
   "execution_count": 76,
   "metadata": {
    "collapsed": true
   },
   "outputs": [],
   "source": [
    "hist[:,0] = (Rf[:]/(avg**(3/2)))/100\n",
    "hist[:,1] = Qf[:]/(avg)"
   ]
  },
  {
   "cell_type": "code",
   "execution_count": 77,
   "metadata": {
    "collapsed": true
   },
   "outputs": [],
   "source": [
    "lQbinNum = 115\n",
    "lRbinNum = 115"
   ]
  },
  {
   "cell_type": "code",
   "execution_count": 78,
   "metadata": {
    "collapsed": true
   },
   "outputs": [],
   "source": [
    "H, edges = np.histogramdd(hist, bins=(lQbinNum,lRbinNum), range=((lQMin,lQMax),(lRMin/100,lRMax/100)), normed=True)"
   ]
  },
  {
   "cell_type": "code",
   "execution_count": 91,
   "metadata": {},
   "outputs": [
    {
     "name": "stderr",
     "output_type": "stream",
     "text": [
      "/home/jhelsas/.local/lib/python2.7/site-packages/ipykernel_launcher.py:4: RuntimeWarning: divide by zero encountered in log\n",
      "  after removing the cwd from sys.path.\n"
     ]
    },
    {
     "data": {
      "image/png": "[encoded data removed]",
      "text/plain": [
       "<matplotlib.figure.Figure at 0x2ba61a082c10>"
      ]
     },
     "metadata": {},
     "output_type": "display_data"
    }
   ],
   "source": [
    "%matplotlib inline \n",
    "\n",
    "fig = plt.figure(figsize=(12,12))\n",
    "logH = np.log(H)/np.log(10)\n",
    "\n",
    "plt.ylabel(r'$Q/\\langle S^2\\rangle$',size=20)\n",
    "plt.xlabel(r'$R/\\langle S^2\\rangle^{3/2}$',size=20)\n",
    "\n",
    "cax = plt.imshow(logH.T,interpolation='none',origin='bottom')\n",
    "\n",
    "plt.savefig('strain-enstr-jpdf-log.pdf', format='pdf', bbox_inches='tight', transparent=True)"
   ]
  },
  {
   "cell_type": "code",
   "execution_count": 19,
   "metadata": {
    "collapsed": true
   },
   "outputs": [],
   "source": [
    "Nbins = 1024*8\n",
    "wtemp = w2[:,:,:] \n",
    "w2red=np.zeros(Nbins,dtype='int')\n",
    "lbins = np.logspace(np.log10(w2Min/avg),np.log10(w2Max/avg),Nbins)\n",
    "histredw,edgesredw = np.histogram(wtemp/avg,lbins)"
   ]
  },
  {
   "cell_type": "code",
   "execution_count": 20,
   "metadata": {
    "collapsed": true
   },
   "outputs": [],
   "source": [
    "Nbins = 1024*8\n",
    "stemp = S2[:,:,:] \n",
    "s2red=np.zeros(Nbins,dtype='int')\n",
    "lbins = np.logspace(np.log10(s2Min/avg),np.log10(s2Max/avg),Nbins)\n",
    "histreds,edgesreds = np.histogram(stemp/avg,lbins)"
   ]
  },
  {
   "cell_type": "code",
   "execution_count": 21,
   "metadata": {
    "collapsed": true
   },
   "outputs": [],
   "source": [
    "cache = True\n",
    "\n",
    "if cache:\n",
    "    np.savez(\"strainrate-enstrophy-jpdf.npz\",H=H,edges=edges,\n",
    "                                             histredw=histredw,\n",
    "                                             edgesredw=edgesredw,\n",
    "                                             histreds=histreds,\n",
    "                                             edgesreds=edgesreds)"
   ]
  },
  {
   "cell_type": "code",
   "execution_count": 22,
   "metadata": {},
   "outputs": [
    {
     "data": {
      "image/png": "[encoded data removed]",
      "text/plain": [
       "<matplotlib.figure.Figure at 0x2b7d25c43850>"
      ]
     },
     "metadata": {},
     "output_type": "display_data"
    }
   ],
   "source": [
    "%matplotlib inline \n",
    "\n",
    "w2red[-1] = 0\n",
    "s2red[-1] = 0\n",
    "w2_bins = np.load('enstrophy_bins.npy')\n",
    "w2_pdf = np.load('enstrophy_pdf.npy')\n",
    "s2_bins = np.load('dissipation_bins.npy')\n",
    "s2_pdf = np.load('dissipation_pdf.npy')\n",
    "    \n",
    "fig = plt.figure(figsize=(5,10))\n",
    "\n",
    "######################################\n",
    "\n",
    "ax1 = plt.subplot(211)\n",
    "ax2 = plt.subplot(212,sharex=ax1)\n",
    "\n",
    "plt.subplots_adjust(hspace=.0)\n",
    "\n",
    "######################################\n",
    "    \n",
    "SIZE = 12\n",
    "plt.rcParams['figure.figsize'] = (5, 10)\n",
    "plt.rc('font', size=SIZE)  # controls default text sizes\n",
    "plt.rc('axes', titlesize=SIZE+4)  # fontsize of the axes title\n",
    "plt.rc('axes', labelsize=SIZE+4)  # fontsize of the x any y labels\n",
    "plt.rc('xtick', labelsize=SIZE)  # fontsize of the tick labels\n",
    "plt.rc('ytick', labelsize=SIZE)  # fontsize of the tick labels\n",
    "plt.rc('legend', fontsize=SIZE+3)  # legend fontsize\n",
    "ax2.set_xlabel(r'$ (\\omega^2/2)/{\\langle S^2\\rangle},S^2/{\\langle S^2\\rangle}$')\n",
    "ax1.set_ylabel(r'$P_{\\omega^2/2}$')\n",
    "ax2.set_ylabel(r'$P_{S^2}$')\n",
    "plt.setp(ax1.get_xticklabels(), visible=False)\n",
    "\n",
    "######################################\n",
    "\n",
    "leftw = edgesredw[0:(Nbins-1)]\n",
    "rightw = edgesredw[1:Nbins]\n",
    "normhistw = (histredw*(1024**(-3)))/(rightw-leftw)\n",
    "normw = np.sum(normhistw*(rightw-leftw))\n",
    "\n",
    "ax1.set_xlim((10**(-7),10**(3)))\n",
    "ax1.loglog((leftw+rightw)/2.,normhistw/normw,'r',label='Unfiltered')\n",
    "ax1.loglog(w2_bins,w2_pdf,'b--')\n",
    "\n",
    "yticks = [10**(-10),10**(-9),10**(-8),10**(-7),10**(-6),10**(-5),10**(-4),10**(-3),10**(-2),10**(-1),10**(0),10**(-1)]\n",
    "ax1.set_yticks(yticks)\n",
    "\n",
    "######################################\n",
    "\n",
    "lefts = edgesreds[0:(Nbins-1)]\n",
    "rights = edgesreds[1:Nbins]\n",
    "normhists = (histreds*(1024**(-3)))/(rights-lefts)\n",
    "norms = np.sum(normhists*(rights-lefts))\n",
    "\n",
    "ax2.set_xlim((10**(-7),10**(3)))\n",
    "ax2.loglog((lefts+rights)/2.,normhists/normw,'r',label='Unfiltered')\n",
    "ax2.loglog(s2_bins,s2_pdf,'b--')\n",
    "\n",
    "yticks = [10**(-9),10**(-8),10**(-7),10**(-6),10**(-5),10**(-4),10**(-3),10**(-2),10**(-1),10**(0),10**(-1)]\n",
    "ax2.set_yticks(yticks)\n",
    "\n",
    "######################################\n",
    "\n",
    "ax1.title.set_text(r'$P_{\\omega^2/2},P_{S^2}$')\n",
    "ax1.title.set_size(20)\n",
    "\n",
    "plt.subplots_adjust(wspace = 0.1)\n",
    "plt.savefig('strain-enstr-pdfs.pdf', format='pdf', bbox_inches='tight', transparent=True)"
   ]
  }
 ],
 "metadata": {
  "kernelspec": {
   "display_name": "Python 2",
   "language": "python",
   "name": "python2"
  },
  "language_info": {
   "codemirror_mode": {
    "name": "ipython",
    "version": 2
   },
   "file_extension": ".py",
   "mimetype": "text/x-python",
   "name": "python",
   "nbconvert_exporter": "python",
   "pygments_lexer": "ipython2",
   "version": "2.7.9"
  }
 },
 "nbformat": 4,
 "nbformat_minor": 1
}
