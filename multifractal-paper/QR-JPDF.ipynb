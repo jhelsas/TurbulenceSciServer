{
 "cells": [
  {
   "cell_type": "code",
   "execution_count": 1,
   "metadata": {
    "collapsed": true
   },
   "outputs": [],
   "source": [
    "import h5py\n",
    "import matplotlib\n",
    "import matplotlib.pyplot as plt\n",
    "import numpy as np\n",
    "import os\n",
    "import pyfftw as ft\n",
    "import time\n",
    "import pyJHTDB\n",
    "from pyJHTDB.dbinfo import isotropic1024coarse\n",
    "from pyJHTDB import libJHTDB"
   ]
  },
  {
   "cell_type": "code",
   "execution_count": 2,
   "metadata": {
    "collapsed": true
   },
   "outputs": [],
   "source": [
    "N = 1024"
   ]
  },
  {
   "cell_type": "code",
   "execution_count": 3,
   "metadata": {
    "collapsed": true
   },
   "outputs": [],
   "source": [
    "Q = np.zeros((N,N,N),dtype='float32')\n",
    "R = np.zeros((N,N,N),dtype='float32')\n",
    "S2 = np.zeros((N,N,N), dtype='float32')"
   ]
  },
  {
   "cell_type": "code",
   "execution_count": 4,
   "metadata": {},
   "outputs": [
    {
     "name": "stdout",
     "output_type": "stream",
     "text": [
      "15.8050229549\n"
     ]
    }
   ],
   "source": [
    "start = time.time()\n",
    "\n",
    "nproc = 8\n",
    "nx = N//nproc\n",
    "\n",
    "lQ = np.zeros((N//nproc,N,N), dtype='float32')\n",
    "lR = np.zeros((N//nproc,N,N), dtype='float32')\n",
    "\n",
    "folder = '/home/jhelsas/scratch'\n",
    "\n",
    "for k in range(nproc):\n",
    "    filename = 'ref-Q-'+str(k)+'-(t=0.0).npz'\n",
    "    files = folder+'/'+filename\n",
    "    \n",
    "    content = np.load(files)\n",
    "    lQ = content['Q']\n",
    "    \n",
    "    Q[k*nx:(k+1)*nx,:,:] = lQ[:,:,:]\n",
    "    \n",
    "    filename = 'ref-R-'+str(k)+'-(t=0.0).npz'\n",
    "    files = folder+'/'+filename\n",
    "    \n",
    "    content = np.load(files)\n",
    "    lR = content['R']\n",
    "    \n",
    "    R[k*nx:(k+1)*nx,:,:] = lR[:,:,:]\n",
    "    \n",
    "end = time.time()\n",
    "print(end-start)"
   ]
  },
  {
   "cell_type": "code",
   "execution_count": 6,
   "metadata": {},
   "outputs": [
    {
     "name": "stdout",
     "output_type": "stream",
     "text": [
      "7.70472311974\n"
     ]
    }
   ],
   "source": [
    "start = time.time()\n",
    "\n",
    "nproc = 8\n",
    "nx = N//nproc\n",
    "\n",
    "lS2 = np.zeros((N//nproc,N,N), dtype='float32')\n",
    "\n",
    "folder = '/home/jhelsas/scratch'\n",
    "\n",
    "for k in range(nproc):\n",
    "    filename = 'ref-strainrate-'+str(k)+'.npz'\n",
    "    files = folder+'/'+filename\n",
    "    \n",
    "    content = np.load(files)\n",
    "    lS2 = content['S2']\n",
    "    \n",
    "    S2[k*nx:(k+1)*nx,:,:] = lS2[:,:,:]\n",
    "    \n",
    "end = time.time()\n",
    "print(end-start)"
   ]
  },
  {
   "cell_type": "code",
   "execution_count": 7,
   "metadata": {
    "collapsed": true
   },
   "outputs": [],
   "source": [
    "del lQ,lR,lS2"
   ]
  },
  {
   "cell_type": "code",
   "execution_count": 8,
   "metadata": {},
   "outputs": [
    {
     "name": "stdout",
     "output_type": "stream",
     "text": [
      "249.219\n"
     ]
    }
   ],
   "source": [
    "avg = np.average(S2)\n",
    "print(avg)"
   ]
  },
  {
   "cell_type": "code",
   "execution_count": 9,
   "metadata": {},
   "outputs": [
    {
     "name": "stdout",
     "output_type": "stream",
     "text": [
      "124.609298706\n"
     ]
    }
   ],
   "source": [
    "print(avg/2)"
   ]
  },
  {
   "cell_type": "code",
   "execution_count": 9,
   "metadata": {
    "collapsed": true
   },
   "outputs": [],
   "source": [
    "def FindJointPDF(x,y,lowerLim_x,upperLim_x,lowerLim_y,upperLim_y,bins_x,bins_y):\n",
    "    x=x.flatten()\n",
    "    y=y.flatten()\n",
    "    totL=len(x)\n",
    "    xedges=np.linspace(lowerLim_x,upperLim_x,bins_x+1,endpoint=True); dx=xedges[1]-xedges[0]\n",
    "    yedges=np.linspace(lowerLim_y,upperLim_y,bins_y+1,endpoint=True); dy=yedges[1]-yedges[0]\n",
    "    jPDF,xedges,yedges=np.histogram2d(x,y,bins=(xedges,yedges))\n",
    "    jPDF=jPDF/(dx*dy*totL)\n",
    "    gridX,gridY=np.meshgrid(xedges[0:-1]+0.5*dx,yedges[0:-1]+0.5*dy)\n",
    "    return jPDF.T,gridX,gridY"
   ]
  },
  {
   "cell_type": "code",
   "execution_count": 12,
   "metadata": {},
   "outputs": [
    {
     "name": "stdout",
     "output_type": "stream",
     "text": [
      "Done!! Cost= 1.15 seconds\n",
      "\n"
     ]
    }
   ],
   "source": [
    "t1=time.time()\n",
    "\n",
    "rng=np.random.randint(N**3,size=(N**3)//8)\n",
    "\n",
    "t2=time.time()\n",
    "print('Done!! Cost= %0.2f seconds\\n' %(t2-t1))"
   ]
  },
  {
   "cell_type": "code",
   "execution_count": 14,
   "metadata": {},
   "outputs": [
    {
     "name": "stdout",
     "output_type": "stream",
     "text": [
      "Done!! Cost= 7.96 seconds\n",
      "\n"
     ]
    }
   ],
   "source": [
    "t1=time.time()\n",
    "q=Q.flatten()[rng]\n",
    "r=R.flatten()[rng]\n",
    "q=q/avg\n",
    "r=r/(avg**1.5)\n",
    "t2=time.time()\n",
    "print('Done!! Cost= %0.2f seconds\\n' %(t2-t1))"
   ]
  },
  {
   "cell_type": "code",
   "execution_count": null,
   "metadata": {
    "collapsed": true
   },
   "outputs": [],
   "source": [
    "t1=time.time()\n",
    "Ngrid=400;rmin=-25.0;rmax=25.0;qmin=-25.0;qmax=25.0 # Constants for jPDF\n",
    "jPDF,gridX,gridY=FindJointPDF(r.flatten(),q.flatten(),rmin,rmax,qmin,qmax,Ngrid,Ngrid)\n",
    "t2=time.time()\n",
    "sys.stdout.write('Done!! Cost= %0.2f seconds\\n' %(t2-t1))"
   ]
  },
  {
   "cell_type": "code",
   "execution_count": null,
   "metadata": {
    "collapsed": true
   },
   "outputs": [],
   "source": []
  }
 ],
 "metadata": {
  "kernelspec": {
   "display_name": "Python 2",
   "language": "python",
   "name": "python2"
  },
  "language_info": {
   "codemirror_mode": {
    "name": "ipython",
    "version": 2
   },
   "file_extension": ".py",
   "mimetype": "text/x-python",
   "name": "python",
   "nbconvert_exporter": "python",
   "pygments_lexer": "ipython2",
   "version": "2.7.9"
  }
 },
 "nbformat": 4,
 "nbformat_minor": 1
}
