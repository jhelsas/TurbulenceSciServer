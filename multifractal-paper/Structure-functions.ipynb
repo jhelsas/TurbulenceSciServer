{
 "cells": [
  {
   "cell_type": "markdown",
   "metadata": {},
   "source": [
    "This notebook is to exemplify the obtention one of power law of a single treshold of the 2-point correlation function of enstrophy excursion sets. The objective is to provide an interactive enviroment to test different thresholds and provide a feel of what is the behavior of the system. "
   ]
  },
  {
   "cell_type": "code",
   "execution_count": 1,
   "metadata": {},
   "outputs": [],
   "source": [
    "#!ipcluster start -n 8 --engines=MPI --profile='mpi' # for parallel run: start the engines using terminal\n",
    "from ipyparallel import Client\n",
    "rc = Client(profile='mpi')"
   ]
  },
  {
   "cell_type": "markdown",
   "metadata": {},
   "source": [
    "Following suit, it is necessary to import the libraries that are necessary to the work to be executed. These include  numpy for the generay array manipulations, pyFFTW to the Fourier Transforms, mpi4py for MPI support, general math, sys and os libraries and pyJHTDB, that provides a python wraper for the C-SOAP interface of the Johs Hopkins Turbulence Databases. We also import some modules that provide basic 3D FFT and histograming functionality build upon numpy and pyFFTW, as a way to streamline the overall process. Those modules, which include FFT3Dfield, IFFT3Dfield and EnergySpectrum, were originaly developed by Dr. Kun Yang."
   ]
  },
  {
   "cell_type": "code",
   "execution_count": 2,
   "metadata": {},
   "outputs": [],
   "source": [
    "%%px\n",
    "# Import the libraries\n",
    "\n",
    "import os\n",
    "import sys\n",
    "import math\n",
    "import numpy as np\n",
    "import pyfftw as ft \n",
    "from mpi4py import MPI\n",
    "import matplotlib\n",
    "import matplotlib.pyplot as plt\n",
    "import pyJHTDB\n",
    "from pyJHTDB.dbinfo import isotropic1024coarse\n",
    "from pyJHTDB import libJHTDB\n",
    "\n",
    "from fft3d import FFT3Dfield_new\n",
    "from EnergySpectrum import EnergySpectrum"
   ]
  },
  {
   "cell_type": "markdown",
   "metadata": {},
   "source": [
    "We first initialize general domain constants, based on the isotropic1024coarse dictionary, which provide information on the isotropic turbulence database. We then initialize MPI variables, including the communicator, rank and number of process. The typical number of processes is 8, both because it doesn't, usually, overloads the sciserver hardware, but also it is the optimal number of processes to query the database. Afterwards, it is necessary to initalize the variables that designate the domain associated with each MPI process. Due to the way that the FFT3D modules were build, we chose to divide the domain in slabs split in the X direction. Also, constants related to wavenumber and chunck size downloads are initialized."
   ]
  },
  {
   "cell_type": "code",
   "execution_count": 3,
   "metadata": {},
   "outputs": [
    {
     "name": "stdout",
     "output_type": "stream",
     "text": [
      "[stdout:0] \n",
      "n_proc = 8\n",
      "rank = 0\n"
     ]
    }
   ],
   "source": [
    "%%px\n",
    "\n",
    "Nx = isotropic1024coarse['nx']; Ny = isotropic1024coarse['ny']; Nz = isotropic1024coarse['nz']\n",
    "Lx = isotropic1024coarse['lx']; Ly = isotropic1024coarse['ly']; Lz = isotropic1024coarse['lz']\n",
    "\n",
    "comm = MPI.COMM_WORLD\n",
    "rank = comm.Get_rank()\n",
    "nproc = comm.Get_size()\n",
    "if(rank==0):\n",
    "    print(\"n_proc = \"+str(nproc))\n",
    "    print(\"rank = \"+str(rank))\n",
    "\n",
    "# Computational Domain\n",
    "\n",
    "nx=Nx//nproc; ny=Ny; nz=Nz\n",
    "nz_half=nz//2\n",
    "nek=int(math.sqrt(2.0)/3*Nx)\n",
    "time = 0.0\n",
    "\n",
    "chkSz = 32\n",
    "slabs = nx//chkSz"
   ]
  },
  {
   "cell_type": "markdown",
   "metadata": {},
   "source": [
    "Instead of downloading the velocity field from the website, we just load the cached value of enstrophy pre-computed from a previous notebook. On vm01 it takes between 60 to 90 seconds to load from disk."
   ]
  },
  {
   "cell_type": "code",
   "execution_count": 4,
   "metadata": {},
   "outputs": [
    {
     "name": "stdout",
     "output_type": "stream",
     "text": [
      "[stdout:0] \n",
      "Starting the loading process\n",
      "Finished loading\n",
      "Load from disk: 290.86 seconds\n",
      "vx shape = (128, 1024, 1024)\n"
     ]
    }
   ],
   "source": [
    "%%px\n",
    "\n",
    "from DataDownload import DataDownload\n",
    "\n",
    "# Populate velocity field from the Database\n",
    "\n",
    "if(rank==0):\n",
    "    print(\"Starting the loading process\")\n",
    "\n",
    "##########################################\n",
    "load_from_file = True\n",
    "store_on_file = False\n",
    "auth_token = \"com.gmail.jhelsas-b854269a\"\n",
    "\n",
    "folder = \"/home/admin/scratch\"\n",
    "filename = \"ref-isotropic1024coarse-\"+str(rank)+\"-(t=\"+str(time)+\")\"+\".npz\"\n",
    "file = folder + \"/\" + filename\n",
    "\n",
    "if(load_from_file):\n",
    "    vx = ft.zeros_aligned((nx,ny,nz), dtype='float32')\n",
    "    vy = ft.zeros_aligned((nx,ny,nz), dtype='float32')\n",
    "    vz = ft.zeros_aligned((nx,ny,nz), dtype='float32')\n",
    "\n",
    "    comm.Barrier(); t1=MPI.Wtime()\n",
    "    content = np.load(file)\n",
    "    if(int(content['nproc'])!=nproc):\n",
    "        print(\"Unmatched number of processes. Must first pre-process to adequate number of process\")\n",
    "    vx = content['vx']\n",
    "    vy = content['vy']\n",
    "    vz = content['vz']\n",
    "    comm.Barrier(); t2=MPI.Wtime()\n",
    "    if(rank==0):\n",
    "        print(\"Finished loading\")\n",
    "        sys.stdout.write('Load from disk: {0:.2f} seconds\\n'.format(t2-t1))\n",
    "else:\n",
    "    comm.Barrier(); t1=MPI.Wtime()\n",
    "    \n",
    "    ddwnld = DataDownload()\n",
    "    vx,vy,vz = ddwnld.DownldData_pyJHTDB('isotropic1024coarse',time,nx,ny,nz,nproc,rank,auth_token)\n",
    "    \n",
    "    comm.Barrier(); t2=MPI.Wtime()\n",
    "    if(rank==0):\n",
    "        print(\"Finished loading\")\n",
    "        sys.stdout.write('Load field from database: {0:.2f} seconds\\n'.format(t2-t1))\n",
    "    \n",
    "    comm.Barrier(); t1=MPI.Wtime()\n",
    "    \n",
    "    np.savez(file,vx=vx,vy=vy,vz=vz,nproc=nproc)\n",
    "    comm.Barrier(); t2=MPI.Wtime()\n",
    "    if(rank==0):\n",
    "        sys.stdout.write('Caching the data: {0:.2f} seconds\\n'.format(t2-t1))\n",
    "\n",
    "\n",
    "if(rank==0):\n",
    "    print(\"vx shape = \"+str(vx.shape))       "
   ]
  },
  {
   "cell_type": "markdown",
   "metadata": {},
   "source": [
    "Here we need to alocate all arrays we need to do the calculations of the 2-point correlation function. Since there are many arrays to be alocated at the same time, it takes a fair amount of time. On vm01, it takes around 160 to 190 seconds. On vm04, it is taking 26 seconds."
   ]
  },
  {
   "cell_type": "code",
   "execution_count": 5,
   "metadata": {},
   "outputs": [
    {
     "name": "stdout",
     "output_type": "stream",
     "text": [
      "[stdout:0] Alocating vectors: 16.28 seconds\n"
     ]
    }
   ],
   "source": [
    "%%px\n",
    "\n",
    "dx = isotropic1024coarse['dx']\n",
    "ner = int(1024*np.sqrt(3))\n",
    "rbins = np.linspace(-0.5*dx,2*np.pi*np.sqrt(3)+0.5*dx,ner+1)\n",
    "\n",
    "comm.Barrier(); t1=MPI.Wtime()\n",
    "\n",
    "fft = FFT3Dfield_new(nx,ny,nz,nproc,rank)\n",
    "\n",
    "X = np.zeros((nx,ny,nz), dtype='float32')\n",
    "Y = np.zeros((nx,ny,nz), dtype='float32')\n",
    "Z = np.zeros((nx,ny,nz), dtype='float32')\n",
    "\n",
    "r2 = np.zeros((nx,ny,nz), dtype='float32')\n",
    "\n",
    "chi = ft.zeros_aligned((nx,ny,nz), dtype='float32')\n",
    "chi2 = ft.zeros_aligned((nx,ny,nz), dtype='float32')\n",
    "cchi = ft.zeros_aligned((nx,ny,1+(nz//2)), dtype='complex64')\n",
    "cchi2 = ft.zeros_aligned((nx,ny,1+(nz//2)), dtype='complex64')\n",
    "corr = ft.zeros_aligned((nx,ny,nz),dtype='float32')\n",
    "iCorr = np.zeros((nx,ny,nz), dtype='float32')\n",
    "\n",
    "corrSum=np.zeros(ner,dtype='float32')\n",
    "corrF=np.zeros(ner,dtype='float32')  \n",
    "\n",
    "r2Sum=np.zeros(ner,dtype='float32')\n",
    "r2F=np.zeros(ner,dtype='float32') \n",
    "\n",
    "comm.Barrier(); t2=MPI.Wtime()\n",
    "if(rank==0):\n",
    "    sys.stdout.write('Alocating vectors: {0:.2f} seconds\\n'.format(t2-t1))"
   ]
  },
  {
   "cell_type": "markdown",
   "metadata": {},
   "source": [
    "To properly arrange the real space radius to do the spherical integration, we need to assign the distance from the first coordinate, so we compute X, Y and Z arrays, with the respective coordinates, and from there we compute the distance squared to the origin. This is so because the relevant information is contained in the first octant, so all we need is to integrate spherically the first octant. This section takes a fair share of time, around 200-220 seconds. On vm04, this is taking around 23 seconds. "
   ]
  },
  {
   "cell_type": "code",
   "execution_count": 6,
   "metadata": {},
   "outputs": [
    {
     "name": "stdout",
     "output_type": "stream",
     "text": [
      "[stdout:0] Preparing the real domain for radial integration: 6.38 seconds\n"
     ]
    }
   ],
   "source": [
    "%%px\n",
    "\n",
    "comm.Barrier(); t1=MPI.Wtime()\n",
    "for i in range(nx):\n",
    "    if (i+rank*nx < Nx//2):\n",
    "        X[i,:,:] = (i+rank*nx)*isotropic1024coarse['dx']\n",
    "    else:\n",
    "        X[i,:,:] = Lx-(i+rank*nx)*isotropic1024coarse['dx']\n",
    "\n",
    "for j in range(ny):\n",
    "    if (j < Ny//2):\n",
    "        Y[:,j,:] = j*isotropic1024coarse['dy']\n",
    "    else:\n",
    "        Y[:,j,:] = Ly-j*isotropic1024coarse['dy']\n",
    "    \n",
    "for k in range(nz):\n",
    "    if (k < Nz//2):\n",
    "        Z[:,:,k] = k*isotropic1024coarse['dz']\n",
    "    else:\n",
    "        Z[:,:,k] = Lz-k*isotropic1024coarse['dz']\n",
    "    \n",
    "r2[:,:,:] = X[:,:,:]**2+Y[:,:,:]**2+Z[:,:,:]**2\n",
    "\n",
    "r2rt = np.sqrt(r2)\n",
    "comm.Barrier(); t2=MPI.Wtime()\n",
    "if(rank==0):\n",
    "    sys.stdout.write('Preparing the real domain for radial integration: {0:.2f} seconds\\n'.format(t2-t1))"
   ]
  },
  {
   "cell_type": "markdown",
   "metadata": {},
   "source": [
    "The computation of the full radial 2-point correlation function is done here, including the fourier transform and radial integration. The full computation takes around 80 seconds, on VM04. The breakdown time measured is:\n",
    "\n",
    "Creating the excursion set: 1.18 seconds\n",
    "\n",
    "Computing the 2-point correlation function: 48.87 seconds\n",
    "\n",
    "Cleaning all but the 1st octant: 2.15 seconds\n",
    "\n",
    "Integrating radially on each slab: 29.60 seconds\n",
    "\n",
    "Adding the results form different slabs: 0.00 seconds\n",
    "\n",
    "Full radial 2-point correlation calculation: 81.80 seconds"
   ]
  },
  {
   "cell_type": "code",
   "execution_count": 7,
   "metadata": {
    "collapsed": true
   },
   "outputs": [],
   "source": [
    "%%px\n",
    "\n",
    "u2 = vx**2\n",
    "\n",
    "avgu2 = np.average(u2)\n",
    "avgu2Gl=np.zeros(1,dtype='float32')\n",
    "\n",
    "comm.Reduce([avgu2,MPI.REAL],[avgu2Gl,MPI.REAL],op=MPI.SUM)\n",
    "avgu2 = avgu2Gl[0]/nproc\n",
    "avgu2 = comm.bcast(avgu2, root=0)"
   ]
  },
  {
   "cell_type": "code",
   "execution_count": 8,
   "metadata": {},
   "outputs": [
    {
     "name": "stdout",
     "output_type": "stream",
     "text": [
      "[stdout:0] \n",
      "Creating the excursion set: 0.13 seconds\n",
      "Computing the 2-point correlation function: 17.53 seconds\n",
      "Cleaning all but the 1st octant: 0.42 seconds\n",
      "Integrating radially on each slab: 17.92 seconds\n",
      "Adding the results form different slabs: 0.00 seconds\n",
      "Full radial 2-point correlation calculation: 36.01 seconds\n",
      "\n"
     ]
    }
   ],
   "source": [
    "%%px \n",
    "\n",
    "hist = []\n",
    "r2st = []\n",
    "    \n",
    "#######################################\n",
    "\n",
    "comm.Barrier(); t1=MPI.Wtime()\n",
    "\n",
    "chi[:,:,:] = vx[:,:,:]\n",
    "\n",
    "#######################################\n",
    "\n",
    "comm.Barrier(); t2=MPI.Wtime()\n",
    "cchi[:,:,:] = fft.forward3Dfft(chi,nx,ny,nz,nproc,rank)\n",
    "    \n",
    "tmp = cchi*(cchi.conj())\n",
    "corr[:,:,:] = fft.backward3Dfft(tmp,nx,ny,nz,nproc,rank)\n",
    "    \n",
    "#######################################\n",
    "    \n",
    "comm.Barrier(); t3=MPI.Wtime()\n",
    "\n",
    "corr[:,:,:] = avgu2 - corr[:,:,:]\n",
    "        \n",
    "#######################################\n",
    "    \n",
    "comm.Barrier(); t4=MPI.Wtime()\n",
    "    \n",
    "corrLoc,redges = np.histogram(r2rt,range=(0.5*dx,(ner+0.5)*dx),bins = rbins,weights=corr)\n",
    "    \n",
    "r2Loc,r2edges = np.histogram(r2rt,range=(0.5*dx,(ner+0.5)*dx),bins = rbins)\n",
    "       \n",
    "#######################################\n",
    "    \n",
    "comm.Barrier(); t5=MPI.Wtime()\n",
    "    \n",
    "corrLoc=np.float32(corrLoc)\n",
    "comm.Reduce([corrLoc,MPI.REAL],[corrSum,MPI.REAL],op=MPI.SUM)\n",
    "np.copyto(corrF,corrSum)\n",
    "    \n",
    "corrApend=np.zeros(ner,dtype='float32') \n",
    "corrApend[:] = corrF[:]\n",
    "    \n",
    "#########################\n",
    "    \n",
    "r2Loc=np.float32(r2Loc)\n",
    "comm.Reduce([r2Loc,MPI.REAL],[r2Sum,MPI.REAL],op=MPI.SUM)\n",
    "np.copyto(r2F,r2Sum)\n",
    "    \n",
    "r2Apend=np.zeros(ner,dtype='float32') \n",
    "r2Apend[:] = r2F[:]\n",
    "    \n",
    "if rank==0:\n",
    "    hist.append(corrApend[:])\n",
    "    r2st.append(r2Apend[:])\n",
    "    \n",
    "#######################################\n",
    "    \n",
    "comm.Barrier(); t6=MPI.Wtime()\n",
    "    \n",
    "if rank==0:\n",
    "    sys.stdout.write('Creating the excursion set: {0:.2f} seconds\\n'.format(t2-t1))\n",
    "    sys.stdout.write('Computing the 2-point correlation function: {0:.2f} seconds\\n'.format(t3-t2))\n",
    "    sys.stdout.write('Cleaning all but the 1st octant: {0:.2f} seconds\\n'.format(t4-t3))\n",
    "    sys.stdout.write('Integrating radially on each slab: {0:.2f} seconds\\n'.format(t5-t4))\n",
    "    sys.stdout.write('Adding the results form different slabs: {0:.2f} seconds\\n'.format(t6-t5))\n",
    "    sys.stdout.write('Full radial 2-point correlation calculation: {0:.2f} seconds\\n'.format(t6-t1))\n",
    "    sys.stdout.write('\\n')"
   ]
  },
  {
   "cell_type": "markdown",
   "metadata": {},
   "source": [
    "Finally, plotting the results:"
   ]
  },
  {
   "cell_type": "code",
   "execution_count": 9,
   "metadata": {},
   "outputs": [
    {
     "name": "stdout",
     "output_type": "stream",
     "text": [
      "[stdout:0] Linear fit [Gamma A] = [ 0.70580675 -1.33439226]\n"
     ]
    },
    {
     "data": {
      "text/plain": [
       "[output:0]"
      ]
     },
     "metadata": {},
     "output_type": "display_data"
    },
    {
     "data": {
      "image/png": "[encoded data removed]",
      "text/plain": [
       "<matplotlib.figure.Figure at 0x7fccbbbb5850>"
      ]
     },
     "metadata": {
      "engine": 0
     },
     "output_type": "display_data"
    }
   ],
   "source": [
    "%%px\n",
    "%matplotlib inline\n",
    "\n",
    "eta = 0.00280\n",
    "\n",
    "if(rank==0):\n",
    "    matplotlib.rc('xtick', labelsize=30) \n",
    "    matplotlib.rc('ytick', labelsize=30) \n",
    "    \n",
    "    idx = r2st[0]>0\n",
    "    \n",
    "    rp=np.linspace(1*dx,ner*dx,ner)\n",
    "    \n",
    "    lrp = rp[idx]\n",
    "    \n",
    "    tempRp = lrp[(lrp>0.1)&(lrp<1.0)]\n",
    "    plt.figure(figsize=(12,6))\n",
    "    plt.xlabel(r'$r/\\eta$', fontsize=25)\n",
    "    #plt.ylabel(r'$F_{abs}(r) = \\int_{S^2}\\langle (u({\\bf x}+{\\bf r})-u({\\bf x}))^2 \\rangle d\\Omega$', fontsize=25)\n",
    "    plt.ylabel(r'$F_{abs}(r)$', fontsize=35)\n",
    "    #plt.xlim([7*10**(-3)/eta,np.pi/eta])\n",
    "    plt.xlim([eta/eta,np.pi/eta])\n",
    "    plt.ylim([10**(-3),10**0])   \n",
    "    \n",
    "    corrF1 = hist[0][idx]/r2st[0][idx]\n",
    "    tempCorrF = corrF1[(lrp>0.1)&(lrp<1.0)]\n",
    "        \n",
    "    fit = np.polyfit(np.log(tempRp),np.log(tempCorrF),1)\n",
    "    print(\"Linear fit [Gamma A] = \"+str(fit))\n",
    "        \n",
    "    plt.loglog(lrp/eta,(corrF1),'r',label=r'$S_{2 uu}(r)$ : $\\Gamma ='+str(fit[0])+r'$')\n",
    "        \n",
    "    plt.loglog(lrp/eta,np.exp(fit[1])*(lrp**(fit[0])),'k--')\n",
    "    \n",
    "    plt.text(44.5, 0.0085, r'$r = 42.5\\eta$', fontsize=20)\n",
    "    plt.text(435., 0.0085, r'$r = 425\\eta$', fontsize=20)\n",
    "    plt.axvline(x=42.50, color='k', linestyle='--')\n",
    "    plt.axvline(x=425.0, color='k', linestyle='--')\n",
    "        \n",
    "    plt.legend(loc='lower left',prop={'size':16})\n",
    "    plt.tight_layout()\n",
    "    plt.savefig('2nd-order-absolute-structure-function.pdf')"
   ]
  }
 ],
 "metadata": {
  "kernelspec": {
   "display_name": "Python 2",
   "language": "python",
   "name": "python2"
  },
  "language_info": {
   "codemirror_mode": {
    "name": "ipython",
    "version": 2
   },
   "file_extension": ".py",
   "mimetype": "text/x-python",
   "name": "python",
   "nbconvert_exporter": "python",
   "pygments_lexer": "ipython2",
   "version": "2.7.13"
  }
 },
 "nbformat": 4,
 "nbformat_minor": 1
}
