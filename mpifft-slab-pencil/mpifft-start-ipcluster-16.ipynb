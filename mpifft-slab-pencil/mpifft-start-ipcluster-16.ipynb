{
 "cells": [
  {
   "cell_type": "code",
   "execution_count": null,
   "metadata": {
    "collapsed": false
   },
   "outputs": [
    {
     "name": "stdout",
     "output_type": "stream",
     "text": [
      "2017-05-14 21:18:58.727 [IPClusterStart] Removing pid file: /home/idies/.ipython/profile_mpi16/pid/ipcluster.pid\n",
      "2017-05-14 21:18:58.728 [IPClusterStart] Starting ipcluster with [daemon=False]\n",
      "2017-05-14 21:18:58.729 [IPClusterStart] Creating pid file: /home/idies/.ipython/profile_mpi16/pid/ipcluster.pid\n",
      "2017-05-14 21:18:58.730 [IPClusterStart] Starting Controller with LocalControllerLauncher\n",
      "2017-05-14 21:18:59.739 [IPClusterStart] Starting 16 Engines with MPI\n",
      "2017-05-14 21:19:29.757 [IPClusterStart] Engines appear to have started successfully\n"
     ]
    }
   ],
   "source": [
    "!ipcluster start -n 16 --engines=MPI --profile='mpi16' # for parallel run: start the engines using terminal"
   ]
  },
  {
   "cell_type": "code",
   "execution_count": null,
   "metadata": {
    "collapsed": true
   },
   "outputs": [],
   "source": []
  }
 ],
 "metadata": {
  "kernelspec": {
   "display_name": "Python 2",
   "language": "python",
   "name": "python2"
  },
  "language_info": {
   "codemirror_mode": {
    "name": "ipython",
    "version": 2
   },
   "file_extension": ".py",
   "mimetype": "text/x-python",
   "name": "python",
   "nbconvert_exporter": "python",
   "pygments_lexer": "ipython2",
   "version": "2.7.11"
  }
 },
 "nbformat": 4,
 "nbformat_minor": 1
}
