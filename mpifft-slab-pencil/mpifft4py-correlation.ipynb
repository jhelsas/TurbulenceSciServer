{
 "cells": [
  {
   "cell_type": "code",
   "execution_count": 1,
   "metadata": {
    "collapsed": true
   },
   "outputs": [],
   "source": [
    "#!ipcluster start -n 8 --engines=MPI --profile='mpi' # for parallel run: start the engines using terminal\n",
    "from ipyparallel import Client\n",
    "rc = Client(profile='mpi')"
   ]
  },
  {
   "cell_type": "code",
   "execution_count": 2,
   "metadata": {
    "collapsed": true
   },
   "outputs": [],
   "source": [
    "%%px\n",
    "# Import the libraries\n",
    "\n",
    "import os\n",
    "import sys\n",
    "import math\n",
    "import pyJHTDB\n",
    "import numpy as np\n",
    "import pyfftw as ft \n",
    "from mpi4py import MPI\n",
    "import matplotlib\n",
    "import matplotlib.pyplot as plt\n",
    "from pyJHTDB import libJHTDB\n",
    "from pyJHTDB.dbinfo import isotropic1024coarse\n",
    "\n",
    "from mpiFFT4py.slab import R2C"
   ]
  },
  {
   "cell_type": "code",
   "execution_count": 3,
   "metadata": {
    "collapsed": false
   },
   "outputs": [
    {
     "name": "stdout",
     "output_type": "stream",
     "text": [
      "[stdout:7] \n",
      "n_proc = 8\n",
      "rank = 0\n"
     ]
    }
   ],
   "source": [
    "%%px\n",
    "\n",
    "Nx = isotropic1024coarse['nx']; Ny = isotropic1024coarse['ny']; Nz = isotropic1024coarse['nz']\n",
    "Lx = isotropic1024coarse['lx']; Ly = isotropic1024coarse['ly']; Lz = isotropic1024coarse['lz']\n",
    "\n",
    "comm = MPI.COMM_WORLD\n",
    "rank = comm.Get_rank()\n",
    "nproc = comm.Get_size()\n",
    "if(rank==0):\n",
    "    print(\"n_proc = \"+str(nproc))\n",
    "    print(\"rank = \"+str(rank))\n",
    "\n",
    "# Computational Domain\n",
    "\n",
    "nx=Nx//nproc; ny=Ny; nz=Nz\n",
    "nz_half=nz//2\n",
    "nek=int(math.sqrt(2.0)/3*Nx)\n",
    "time = 0.0\n",
    "\n",
    "chkSz = 32\n",
    "slabs = nx//chkSz"
   ]
  },
  {
   "cell_type": "code",
   "execution_count": 4,
   "metadata": {
    "collapsed": true
   },
   "outputs": [],
   "source": [
    "%%px \n",
    "\n",
    "N = np.array([Nx,Ny,Nz],dtype=int)\n",
    "L = np.array([Lx,Ly,Lz],dtype=float)\n",
    "\n",
    "FFT = R2C(N, L, MPI.COMM_WORLD, \"double\", communication='Alltoallw')"
   ]
  },
  {
   "cell_type": "code",
   "execution_count": 5,
   "metadata": {
    "collapsed": false
   },
   "outputs": [
    {
     "name": "stdout",
     "output_type": "stream",
     "text": [
      "[stdout:7] \n",
      "Finished loading\n",
      "Load from disk: 194.77 seconds\n"
     ]
    }
   ],
   "source": [
    "%%px\n",
    "\n",
    "cacheEnstrophyData = False\n",
    "loadEnstrophyFromCache = True\n",
    "\n",
    "folder = \"/home/idies/workspace/scratch\"\n",
    "filename = \"ref-enstrophy-\"+str(rank)+\".npz\"\n",
    "file = folder + \"/\" + filename\n",
    "\n",
    "if(loadEnstrophyFromCache):\n",
    "    comm.Barrier(); t1=MPI.Wtime()\n",
    "    content = np.load(file)\n",
    "    \n",
    "    w2 = ft.zeros_aligned(FFT.real_shape(), dtype=FFT.float)\n",
    "    \n",
    "    if(int(content['nproc'])!=nproc):\n",
    "        print(\"Unmatched number of processes. Must first pre-process to adequate number of process\")\n",
    "    w2[:,:,:] = content['w2'].astype(FFT.float)\n",
    "    \n",
    "    comm.Barrier(); t2=MPI.Wtime()\n",
    "    if(rank==0):\n",
    "        print(\"Finished loading\")\n",
    "        sys.stdout.write('Load from disk: {0:.2f} seconds\\n'.format(t2-t1))\n",
    "\n",
    "if(cacheEnstrophyData):\n",
    "    \n",
    "    comm.Barrier(); t1=MPI.Wtime()\n",
    "    np.savez(file,w2=w2,nproc=nproc)\n",
    "    comm.Barrier(); t2=MPI.Wtime()\n",
    "    if(rank==0):\n",
    "        sys.stdout.write('Caching the data: {0:.2f} seconds\\n'.format(t2-t1))"
   ]
  },
  {
   "cell_type": "code",
   "execution_count": 6,
   "metadata": {
    "collapsed": false
   },
   "outputs": [
    {
     "name": "stdout",
     "output_type": "stream",
     "text": [
      "[stdout:7] \n",
      "<w^2> : 498.435342491\n",
      "min w2/<w^2> : 1.43020513214e-07\n",
      "min w2/<w^2> : 675.170320624\n"
     ]
    }
   ],
   "source": [
    "%%px\n",
    "\n",
    "avgOmega = np.average(w2)\n",
    "avgOmegaGl=np.zeros(1,dtype=FFT.float)\n",
    "\n",
    "comm.Reduce([avgOmega,MPI.DOUBLE],[avgOmegaGl,MPI.DOUBLE],op=MPI.SUM)\n",
    "avgOmega = avgOmegaGl[0]/nproc\n",
    "avgOmega = comm.bcast(avgOmega, root=0)\n",
    "\n",
    "##########################\n",
    "\n",
    "minw2 = w2.min()\n",
    "maxw2 = w2.max()\n",
    "\n",
    "minwGl=np.zeros(nproc,dtype=FFT.float)\n",
    "maxwGl=np.zeros(nproc,dtype=FFT.float)\n",
    "\n",
    "comm.Allgather([minw2,MPI.DOUBLE],[minwGl,MPI.DOUBLE])\n",
    "comm.Allgather([maxw2,MPI.DOUBLE],[maxwGl,MPI.DOUBLE])\n",
    "\n",
    "minw2 = minwGl.min()\n",
    "maxw2 = maxwGl.max()\n",
    "\n",
    "comm.Barrier()\n",
    "\n",
    "if rank==0:\n",
    "    print(\"<w^2> : \"+str(avgOmega))\n",
    "    print(\"min w2/<w^2> : \"+str(minw2/avgOmega))\n",
    "    print(\"min w2/<w^2> : \"+str(maxw2/avgOmega))"
   ]
  },
  {
   "cell_type": "code",
   "execution_count": 7,
   "metadata": {
    "collapsed": false
   },
   "outputs": [
    {
     "name": "stdout",
     "output_type": "stream",
     "text": [
      "[stdout:7] Alocating vectors: 0.03 seconds\n"
     ]
    }
   ],
   "source": [
    "%%px\n",
    "\n",
    "dx = isotropic1024coarse['dx']\n",
    "ner = int(1024*np.sqrt(3))\n",
    "rbins = np.linspace(-0.5*dx,2*np.pi*np.sqrt(3)+0.5*dx,ner+1)\n",
    "\n",
    "comm.Barrier(); t1=MPI.Wtime()\n",
    "\n",
    "X = np.zeros(FFT.real_shape(), dtype=FFT.float)\n",
    "Y = np.zeros(FFT.real_shape(), dtype=FFT.float)\n",
    "Z = np.zeros(FFT.real_shape(), dtype=FFT.float)\n",
    "\n",
    "r2 = np.zeros(FFT.real_shape(), dtype=FFT.float)\n",
    "\n",
    "chi = np.zeros(FFT.real_shape(), dtype=FFT.float)\n",
    "cchi = np.zeros(FFT.complex_shape(), dtype=FFT.complex)\n",
    "corr = np.zeros(FFT.real_shape(), dtype=FFT.float)\n",
    "iCorr = np.zeros(FFT.real_shape(), dtype=FFT.float)\n",
    "\n",
    "corrSum = np.zeros(FFT.real_shape(), dtype=FFT.float)\n",
    "corrF = np.zeros(FFT.real_shape(), dtype=FFT.float)\n",
    "\n",
    "r2Sum = np.zeros(FFT.real_shape(), dtype=FFT.float)\n",
    "r2F = np.zeros(FFT.real_shape(), dtype=FFT.float)\n",
    "\n",
    "comm.Barrier(); t2=MPI.Wtime()\n",
    "if(rank==0):\n",
    "    sys.stdout.write('Alocating vectors: {0:.2f} seconds\\n'.format(t2-t1))"
   ]
  },
  {
   "cell_type": "code",
   "execution_count": 8,
   "metadata": {
    "collapsed": false
   },
   "outputs": [
    {
     "name": "stdout",
     "output_type": "stream",
     "text": [
      "[stdout:7] Preparing the real domain for radial integration: 423.83 seconds\n"
     ]
    }
   ],
   "source": [
    "%%px\n",
    "\n",
    "comm.Barrier(); t1=MPI.Wtime()\n",
    "for i in range(nx):\n",
    "    if (i+rank*nx < Nx//2):\n",
    "        X[i,:,:] = (i+rank*nx)*isotropic1024coarse['dx']\n",
    "    else:\n",
    "        X[i,:,:] = Lx-(i+rank*nx)*isotropic1024coarse['dx']\n",
    "\n",
    "for j in range(ny):\n",
    "    if (j < Ny//2):\n",
    "        Y[:,j,:] = j*isotropic1024coarse['dy']\n",
    "    else:\n",
    "        Y[:,j,:] = Ly-j*isotropic1024coarse['dy']\n",
    "    \n",
    "for k in range(nz):\n",
    "    if (k < Nz//2):\n",
    "        Z[:,:,k] = k*isotropic1024coarse['dz']\n",
    "    else:\n",
    "        Z[:,:,k] = Lz-k*isotropic1024coarse['dz']\n",
    "    \n",
    "r2[:,:,:] = X[:,:,:]**2+Y[:,:,:]**2+Z[:,:,:]**2\n",
    "\n",
    "r2rt = np.sqrt(r2)\n",
    "comm.Barrier(); t2=MPI.Wtime()\n",
    "if(rank==0):\n",
    "    sys.stdout.write('Preparing the real domain for radial integration: {0:.2f} seconds\\n'.format(t2-t1))"
   ]
  },
  {
   "cell_type": "code",
   "execution_count": null,
   "metadata": {
    "collapsed": true
   },
   "outputs": [],
   "source": [
    "%%px \n",
    "%matplotlib inline\n",
    "\n",
    "t = [1]#,2,3,4,5,6]\n",
    "c = ['r']#,'g','b','c','y','m']\n",
    "\n",
    "hist = []\n",
    "r2st = []\n",
    "\n",
    "for i in range(1):\n",
    "    if(rank==0):\n",
    "        print(\"Treshold = \"+str(t[i]))\n",
    "        \n",
    "    #######################################\n",
    "    comm.Barrier(); t1=MPI.Wtime()\n",
    "    \n",
    "    chi[:,:,:] = 0\n",
    "    chi[w2 > t[i]*avgOmega] = 1\n",
    "    \n",
    "    #######################################\n",
    "    \n",
    "    comm.Barrier(); t2=MPI.Wtime()\n",
    "    cchi = FFT.fftn(chi,cchi)\n",
    "    \n",
    "    tmp = cchi*(cchi.conj())\n",
    "    corr = FFT.ifftn(tmp,corr)\n",
    "    \n",
    "    #######################################\n",
    "    \n",
    "    comm.Barrier(); t3=MPI.Wtime()\n",
    "        \n",
    "    #######################################\n",
    "    \n",
    "    comm.Barrier(); t4=MPI.Wtime()\n",
    "    \n",
    "    corrLoc,redges = np.histogram(r2rt,range=(0.5*dx,(ner+0.5)*dx),bins = rbins,weights=corr)\n",
    "    \n",
    "    r2Loc,r2edges = np.histogram(r2rt,range=(0.5*dx,(ner+0.5)*dx),bins = rbins)\n",
    "       \n",
    "    #######################################\n",
    "    \n",
    "    comm.Barrier(); t5=MPI.Wtime()\n",
    "    \n",
    "    corrLoc=np.float32(corrLoc)\n",
    "    comm.Reduce([corrLoc,MPI.REAL],[corrSum,MPI.REAL],op=MPI.SUM)\n",
    "    np.copyto(corrF,corrSum)\n",
    "    \n",
    "    corrApend=np.zeros(ner,dtype='float32') \n",
    "    corrApend[:] = corrF[:]\n",
    "    \n",
    "    #########################\n",
    "    \n",
    "    r2Loc=np.float32(r2Loc)\n",
    "    comm.Reduce([r2Loc,MPI.REAL],[r2Sum,MPI.REAL],op=MPI.SUM)\n",
    "    np.copyto(r2F,r2Sum)\n",
    "    \n",
    "    r2Apend=np.zeros(ner,dtype='float32') \n",
    "    r2Apend[:] = r2F[:]\n",
    "    \n",
    "    if rank==0:\n",
    "        hist.append(corrApend[:])\n",
    "        r2st.append(r2Apend[:])\n",
    "    \n",
    "    #######################################\n",
    "    \n",
    "    comm.Barrier(); t6=MPI.Wtime()\n",
    "    \n",
    "    if rank==0:\n",
    "        sys.stdout.write('threshold used: {0:.2f} \\n'.format(t[i]))\n",
    "        sys.stdout.write('Creating the excursion set: {0:.2f} seconds\\n'.format(t2-t1))\n",
    "        sys.stdout.write('Computing the 2-point correlation function: {0:.2f} seconds\\n'.format(t3-t2))\n",
    "        sys.stdout.write('Cleaning all but the 1st octant: {0:.2f} seconds\\n'.format(t4-t3))\n",
    "        sys.stdout.write('Integrating radially on each slab: {0:.2f} seconds\\n'.format(t5-t4))\n",
    "        sys.stdout.write('Adding the results form different slabs: {0:.2f} seconds\\n'.format(t6-t5))\n",
    "        sys.stdout.write('Full radial 2-point correlation calculation: {0:.2f} seconds\\n'.format(t6-t1))\n",
    "        sys.stdout.write('\\n')"
   ]
  },
  {
   "cell_type": "code",
   "execution_count": null,
   "metadata": {
    "collapsed": true
   },
   "outputs": [],
   "source": [
    "%%px\n",
    "\n",
    "if rank==0:\n",
    "    print(corr)"
   ]
  },
  {
   "cell_type": "code",
   "execution_count": null,
   "metadata": {
    "collapsed": true
   },
   "outputs": [],
   "source": [
    "%%px\n",
    "\n",
    "if(rank==0):\n",
    "    matplotlib.rc('xtick', labelsize=20) \n",
    "    matplotlib.rc('ytick', labelsize=20) \n",
    "    \n",
    "    idx = r2st[0]>0\n",
    "    \n",
    "    rp=np.linspace(1*dx,ner*dx,ner)\n",
    "    \n",
    "    lrp = rp[idx]\n",
    "    \n",
    "    tempRp = lrp[(lrp>0.1)&(lrp<1.0)]\n",
    "    plt.figure(figsize=(12,12))\n",
    "    plt.xlabel(r'$r$', fontsize=20)\n",
    "    plt.ylabel(r'$\\frac{C(r)}{C(0)} = \\frac{1}{C(0)} \\int_{S^2} \\langle \\chi({\\bf x}) \\chi({\\bf x}+{\\bf r}) \\rangle d\\Omega$', fontsize=20)\n",
    "    plt.xlim([7*10**(-3),np.pi])\n",
    "    plt.ylim([10**(-2),2*10**0])\n",
    "    plt.grid()\n",
    "    \n",
    "    for i in range(1):#6):        \n",
    "        corrF1 = hist[i][idx]/r2st[i][idx]\n",
    "        \n",
    "        tempCorrF = corrF1[(lrp>0.1)&(lrp<1.0)]\n",
    "        \n",
    "        ctmp = (corrF1[300])/(corrF1[0])\n",
    "        \n",
    "        fit = np.polyfit(np.log(tempRp),np.log(tempCorrF/corrF1[0]),1)\n",
    "        print(\"t = \"+str(t[i])+\"*sigma_2: Linear fit [alpha A] = \"+str(fit))\n",
    "        \n",
    "        plt.loglog(lrp,(corrF1)/(corrF1[0]),c[i],label=r'$\\omega^2 > '+str(t[i])\n",
    "                                                   +r'\\langle \\omega^2\\rangle$ : $\\Gamma ='\n",
    "                                                   +str(fit[0])+r'$')\n",
    "        \n",
    "        corrF1 = hist[i][idx]\n",
    "        \n",
    "        plt.loglog(lrp,np.exp(fit[1])*(lrp**(fit[0])),'k--')\n",
    "        \n",
    "    plt.legend(loc='lower left',prop={'size':16})\n",
    "    plt.savefig('mpifft4py-twopoint-enstrophy-0.pdf')"
   ]
  },
  {
   "cell_type": "code",
   "execution_count": null,
   "metadata": {
    "collapsed": true
   },
   "outputs": [],
   "source": []
  },
  {
   "cell_type": "code",
   "execution_count": null,
   "metadata": {
    "collapsed": true
   },
   "outputs": [],
   "source": []
  },
  {
   "cell_type": "code",
   "execution_count": null,
   "metadata": {
    "collapsed": true
   },
   "outputs": [],
   "source": []
  },
  {
   "cell_type": "code",
   "execution_count": null,
   "metadata": {
    "collapsed": true
   },
   "outputs": [],
   "source": []
  }
 ],
 "metadata": {
  "kernelspec": {
   "display_name": "Python 3",
   "language": "python",
   "name": "python3"
  },
  "language_info": {
   "codemirror_mode": {
    "name": "ipython",
    "version": 3
   },
   "file_extension": ".py",
   "mimetype": "text/x-python",
   "name": "python",
   "nbconvert_exporter": "python",
   "pygments_lexer": "ipython3",
   "version": "3.5.2"
  }
 },
 "nbformat": 4,
 "nbformat_minor": 0
}
