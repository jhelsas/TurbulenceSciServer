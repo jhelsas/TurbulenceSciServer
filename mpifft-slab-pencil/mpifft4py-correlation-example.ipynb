{
 "cells": [
  {
   "cell_type": "code",
   "execution_count": 8,
   "metadata": {
    "collapsed": true
   },
   "outputs": [],
   "source": [
    "#!ipcluster start -n 8 --engines=MPI --profile='mpi' # for parallel run: start the engines using terminal\n",
    "from ipyparallel import Client\n",
    "rc = Client(profile='mpi')"
   ]
  },
  {
   "cell_type": "code",
   "execution_count": 9,
   "metadata": {
    "collapsed": true
   },
   "outputs": [],
   "source": [
    "%%px\n",
    "# Import the libraries\n",
    "\n",
    "import os\n",
    "import sys\n",
    "import math\n",
    "import pyJHTDB\n",
    "import numpy as np\n",
    "import pyfftw as ft \n",
    "from mpi4py import MPI\n",
    "import matplotlib\n",
    "import matplotlib.pyplot as plt\n",
    "from pyJHTDB import libJHTDB\n",
    "from pyJHTDB.dbinfo import isotropic1024coarse\n",
    "\n",
    "from mpiFFT4py.slab import R2C"
   ]
  },
  {
   "cell_type": "code",
   "execution_count": 10,
   "metadata": {
    "collapsed": false
   },
   "outputs": [
    {
     "name": "stdout",
     "output_type": "stream",
     "text": [
      "[stdout:1] \n",
      "n_proc = 8\n",
      "rank = 0\n"
     ]
    }
   ],
   "source": [
    "%%px\n",
    "\n",
    "Nx = isotropic1024coarse['nx']; Ny = isotropic1024coarse['ny']; Nz = isotropic1024coarse['nz']\n",
    "Lx = isotropic1024coarse['lx']; Ly = isotropic1024coarse['ly']; Lz = isotropic1024coarse['lz']\n",
    "\n",
    "comm = MPI.COMM_WORLD\n",
    "rank = comm.Get_rank()\n",
    "nproc = comm.Get_size()\n",
    "if(rank==0):\n",
    "    print(\"n_proc = \"+str(nproc))\n",
    "    print(\"rank = \"+str(rank))\n",
    "\n",
    "# Computational Domain\n",
    "\n",
    "nx=Nx//nproc; ny=Ny; nz=Nz\n",
    "nz_half=nz//2\n",
    "nek=int(math.sqrt(2.0)/3*Nx)\n",
    "time = 0.0\n",
    "\n",
    "chkSz = 32\n",
    "slabs = nx//chkSz"
   ]
  },
  {
   "cell_type": "code",
   "execution_count": 11,
   "metadata": {
    "collapsed": true
   },
   "outputs": [],
   "source": [
    "%%px \n",
    "\n",
    "N = np.array([Nx,Ny,Nz],dtype=int)\n",
    "L = np.array([Lx,Ly,Lz],dtype=float)\n",
    "\n",
    "FFT = R2C(N, L, MPI.COMM_WORLD, \"double\", communication='Alltoallw')"
   ]
  },
  {
   "cell_type": "code",
   "execution_count": 12,
   "metadata": {
    "collapsed": false
   },
   "outputs": [
    {
     "name": "stdout",
     "output_type": "stream",
     "text": [
      "[stdout:1] Alocating vectors: 0.01 seconds\n"
     ]
    }
   ],
   "source": [
    "%%px\n",
    "\n",
    "dx = isotropic1024coarse['dx']\n",
    "ner = int(1024*np.sqrt(3))\n",
    "rbins = np.linspace(-0.5*dx,2*np.pi*np.sqrt(3)+0.5*dx,ner+1)\n",
    "\n",
    "comm.Barrier(); t1=MPI.Wtime()\n",
    "\n",
    "X = np.zeros(FFT.real_shape(), dtype=FFT.float)\n",
    "Y = np.zeros(FFT.real_shape(), dtype=FFT.float)\n",
    "Z = np.zeros(FFT.real_shape(), dtype=FFT.float)\n",
    "\n",
    "r2 = np.zeros(FFT.real_shape(), dtype=FFT.float)\n",
    "\n",
    "chi = np.zeros(FFT.real_shape(), dtype=FFT.float)\n",
    "cchi = np.zeros(FFT.complex_shape(), dtype=FFT.complex)\n",
    "corr = np.zeros(FFT.real_shape(), dtype=FFT.float)\n",
    "iCorr = np.zeros(FFT.real_shape(), dtype=FFT.float)\n",
    "\n",
    "r2Sum = np.zeros(FFT.real_shape(), dtype=FFT.float)\n",
    "r2F = np.zeros(FFT.real_shape(), dtype=FFT.float)\n",
    "\n",
    "comm.Barrier(); t2=MPI.Wtime()\n",
    "if(rank==0):\n",
    "    sys.stdout.write('Alocating vectors: {0:.2f} seconds\\n'.format(t2-t1))"
   ]
  },
  {
   "cell_type": "code",
   "execution_count": 13,
   "metadata": {
    "collapsed": false
   },
   "outputs": [
    {
     "name": "stdout",
     "output_type": "stream",
     "text": [
      "[stdout:1] Preparing the real domain for radial integration: 625.92 seconds\n"
     ]
    }
   ],
   "source": [
    "%%px\n",
    "\n",
    "comm.Barrier(); t1=MPI.Wtime()\n",
    "for i in range(nx):\n",
    "    X[i,:,:] = (i+rank*nx)*isotropic1024coarse['dx']\n",
    "\n",
    "for j in range(ny):\n",
    "    Y[:,j,:] = j*isotropic1024coarse['dy']\n",
    "    \n",
    "for k in range(nz):\n",
    "    Z[:,:,k] = k*isotropic1024coarse['dz']\n",
    "    \n",
    "r2[:,:,:] = X[:,:,:]**2+Y[:,:,:]**2+Z[:,:,:]**2\n",
    "\n",
    "r2rt = np.sqrt(r2)\n",
    "comm.Barrier(); t2=MPI.Wtime()\n",
    "if(rank==0):\n",
    "    sys.stdout.write('Preparing the real domain for radial integration: {0:.2f} seconds\\n'.format(t2-t1))"
   ]
  },
  {
   "cell_type": "code",
   "execution_count": 14,
   "metadata": {
    "collapsed": false
   },
   "outputs": [
    {
     "name": "stdout",
     "output_type": "stream",
     "text": [
      "[stdout:1] Preparing scalar function: 552.84 seconds\n"
     ]
    }
   ],
   "source": [
    "%%px\n",
    "\n",
    "comm.Barrier(); t1=MPI.Wtime()\n",
    "\n",
    "w2 = (np.cos(X+Y))**2+(np.cos(Y+Z))**2+(np.cos(Z+X))**2\n",
    "\n",
    "comm.Barrier(); t2=MPI.Wtime()\n",
    "if(rank==0):\n",
    "    sys.stdout.write('Preparing scalar function: {0:.2f} seconds\\n'.format(t2-t1))"
   ]
  },
  {
   "cell_type": "code",
   "execution_count": 15,
   "metadata": {
    "collapsed": false
   },
   "outputs": [
    {
     "name": "stdout",
     "output_type": "stream",
     "text": [
      "[stdout:1] \n",
      "<w^2> : 1.5\n",
      "min w2/<w^2> : 7.49879891331e-33\n",
      "min w2/<w^2> : 2.0\n"
     ]
    }
   ],
   "source": [
    "%%px\n",
    "\n",
    "avgOmega = np.average(w2)\n",
    "avgOmegaGl=np.zeros(1,dtype=FFT.float)\n",
    "\n",
    "comm.Reduce([avgOmega,MPI.DOUBLE],[avgOmegaGl,MPI.DOUBLE],op=MPI.SUM)\n",
    "avgOmega = avgOmegaGl[0]/nproc\n",
    "avgOmega = comm.bcast(avgOmega, root=0)\n",
    "\n",
    "##########################\n",
    "\n",
    "minw2 = w2.min()\n",
    "maxw2 = w2.max()\n",
    "\n",
    "minwGl=np.zeros(nproc,dtype=FFT.float)\n",
    "maxwGl=np.zeros(nproc,dtype=FFT.float)\n",
    "\n",
    "comm.Allgather([minw2,MPI.DOUBLE],[minwGl,MPI.DOUBLE])\n",
    "comm.Allgather([maxw2,MPI.DOUBLE],[maxwGl,MPI.DOUBLE])\n",
    "\n",
    "minw2 = minwGl.min()\n",
    "maxw2 = maxwGl.max()\n",
    "\n",
    "comm.Barrier()\n",
    "\n",
    "if rank==0:\n",
    "    print(\"<w^2> : \"+str(avgOmega))\n",
    "    print(\"min w2/<w^2> : \"+str(minw2/avgOmega))\n",
    "    print(\"min w2/<w^2> : \"+str(maxw2/avgOmega))"
   ]
  },
  {
   "cell_type": "code",
   "execution_count": 16,
   "metadata": {
    "collapsed": false
   },
   "outputs": [
    {
     "name": "stdout",
     "output_type": "stream",
     "text": [
      "[stdout:1] Creating the excursion set: 13.13 seconds\n"
     ]
    }
   ],
   "source": [
    "%%px \n",
    "\n",
    "t = 1\n",
    "c = 'r'\n",
    "\n",
    "hist = []\n",
    "r2st = []\n",
    "\n",
    "comm.Barrier(); t1=MPI.Wtime()\n",
    "\n",
    "chi[:,:,:] = 0\n",
    "chi[w2 > t*avgOmega] = 1\n",
    "\n",
    "comm.Barrier(); t2=MPI.Wtime()\n",
    "\n",
    "if rank==0:\n",
    "    sys.stdout.write('Creating the excursion set: {0:.2f} seconds\\n'.format(t2-t1))"
   ]
  },
  {
   "cell_type": "markdown",
   "metadata": {
    "collapsed": true
   },
   "source": []
  },
  {
   "cell_type": "code",
   "execution_count": 17,
   "metadata": {
    "collapsed": false
   },
   "outputs": [
    {
     "name": "stdout",
     "output_type": "stream",
     "text": [
      "[stdout:1] Foward FFT: 315.85 seconds\n"
     ]
    }
   ],
   "source": [
    "%%px\n",
    "\n",
    "t1=MPI.Wtime()\n",
    "cchi = FFT.fftn(chi,cchi)\n",
    "t2=MPI.Wtime()\n",
    "\n",
    "if rank==0:\n",
    "    sys.stdout.write('Foward FFT: {0:.2f} seconds\\n'.format(t2-t1))"
   ]
  },
  {
   "cell_type": "code",
   "execution_count": 18,
   "metadata": {
    "collapsed": false
   },
   "outputs": [
    {
     "name": "stdout",
     "output_type": "stream",
     "text": [
      "[stdout:1] Multiplication for correlation: 57.12 seconds\n"
     ]
    }
   ],
   "source": [
    "%%px\n",
    "\n",
    "t1=MPI.Wtime()\n",
    "tmp = cchi*(cchi.conj())\n",
    "t2=MPI.Wtime()\n",
    "\n",
    "if rank==0:\n",
    "    sys.stdout.write('Multiplication for correlation: {0:.2f} seconds\\n'.format(t2-t1))"
   ]
  },
  {
   "cell_type": "code",
   "execution_count": 19,
   "metadata": {
    "collapsed": false
   },
   "outputs": [
    {
     "name": "stdout",
     "output_type": "stream",
     "text": [
      "[stdout:1] Backward FFT: 599.76 seconds\n"
     ]
    }
   ],
   "source": [
    "%%px\n",
    "\n",
    "t1=MPI.Wtime()\n",
    "corr = FFT.ifftn(tmp,corr)\n",
    "t2=MPI.Wtime()\n",
    "\n",
    "if rank==0:\n",
    "    sys.stdout.write('Backward FFT: {0:.2f} seconds\\n'.format(t2-t1))"
   ]
  },
  {
   "cell_type": "code",
   "execution_count": 20,
   "metadata": {
    "collapsed": false
   },
   "outputs": [
    {
     "name": "stdout",
     "output_type": "stream",
     "text": [
      "[stdout:1] \n",
      "Radial integration: 82.86 seconds\n",
      "\n"
     ]
    }
   ],
   "source": [
    "%%px\n",
    "\n",
    "t1=MPI.Wtime()\n",
    "\n",
    "corrLoc,redges = np.histogram(r2rt,range=(0.5*dx,(ner+0.5)*dx),bins = rbins,weights=corr)\n",
    "\n",
    "r2Loc,r2edges = np.histogram(r2rt,range=(0.5*dx,(ner+0.5)*dx),bins = rbins)\n",
    "t2=MPI.Wtime()\n",
    "\n",
    "if rank==0:\n",
    "    sys.stdout.write('Radial integration: {0:.2f} seconds\\n'.format(t2-t1))\n",
    "    sys.stdout.write('\\n')"
   ]
  },
  {
   "cell_type": "code",
   "execution_count": 21,
   "metadata": {
    "collapsed": false
   },
   "outputs": [
    {
     "name": "stdout",
     "output_type": "stream",
     "text": [
      "[stdout:1] \n",
      "Global reduction: 0.00 seconds\n",
      "\n"
     ]
    }
   ],
   "source": [
    "%%px\n",
    "\n",
    "comm.Barrier(); t1=MPI.Wtime()\n",
    "\n",
    "corrSum = np.zeros(corrLoc.shape,dtype=corrLoc.dtype)\n",
    "comm.Reduce([corrLoc,MPI.DOUBLE],[corrSum,MPI.DOUBLE],op=MPI.SUM)\n",
    "comm.Barrier(); t2=MPI.Wtime()    \n",
    "\n",
    "if rank==0:\n",
    "    sys.stdout.write('Global reduction: {0:.2f} seconds\\n'.format(t2-t1))\n",
    "    sys.stdout.write('\\n')"
   ]
  },
  {
   "cell_type": "code",
   "execution_count": 22,
   "metadata": {
    "collapsed": false
   },
   "outputs": [
    {
     "name": "stdout",
     "output_type": "stream",
     "text": [
      "[stdout:1] \n",
      "Global reduction: 0.00 seconds\n",
      "\n"
     ]
    }
   ],
   "source": [
    "%%px\n",
    "\n",
    "comm.Barrier(); t1=MPI.Wtime()\n",
    "\n",
    "r2Sum = np.zeros(r2Loc.shape,dtype=r2Loc.dtype)\n",
    "comm.Reduce([r2Loc,MPI.DOUBLE],[r2Sum,MPI.DOUBLE],op=MPI.SUM)\n",
    "\n",
    "comm.Barrier(); t2=MPI.Wtime()    \n",
    "\n",
    "if rank==0:\n",
    "    sys.stdout.write('Global reduction: {0:.2f} seconds\\n'.format(t2-t1))\n",
    "    sys.stdout.write('\\n')"
   ]
  },
  {
   "cell_type": "code",
   "execution_count": 23,
   "metadata": {
    "collapsed": true
   },
   "outputs": [],
   "source": [
    "%%px\n",
    "\n",
    "if rank==0:\n",
    "    hist.append(corrSum[:])\n",
    "    r2st.append(r2Sum[:])"
   ]
  },
  {
   "cell_type": "code",
   "execution_count": 26,
   "metadata": {
    "collapsed": false
   },
   "outputs": [
    {
     "name": "stdout",
     "output_type": "stream",
     "text": [
      "[stdout:1] t = 1*sigma_2: Linear fit [alpha A] = [-0.41445726 -0.77075525]\n"
     ]
    },
    {
     "data": {
      "text/plain": [
       "[output:1]"
      ]
     },
     "metadata": {},
     "output_type": "display_data"
    },
    {
     "data": {
      "image/png": "[encoded data removed]",
      "text/plain": [
       "<matplotlib.figure.Figure at 0x7f46e6e8dc88>"
      ]
     },
     "metadata": {
      "engine": 1
     },
     "output_type": "display_data"
    }
   ],
   "source": [
    "%%px\n",
    "%matplotlib inline\n",
    "\n",
    "t = [1]\n",
    "\n",
    "if(rank==0):\n",
    "    matplotlib.rc('xtick', labelsize=20) \n",
    "    matplotlib.rc('ytick', labelsize=20) \n",
    "    \n",
    "    idx = r2st[0]>0\n",
    "    \n",
    "    rp=np.linspace(1*dx,ner*dx,ner)\n",
    "    \n",
    "    lrp = rp[idx]\n",
    "    \n",
    "    tempRp = lrp[(lrp>0.1)&(lrp<1.0)]\n",
    "    plt.figure(figsize=(12,12))\n",
    "    plt.xlabel(r'$r$', fontsize=20)\n",
    "    plt.ylabel(r'$\\frac{C(r)}{C(0)} = \\frac{1}{C(0)} \\int_{S^2} \\langle \\chi({\\bf x}) \\chi({\\bf x}+{\\bf r}) \\rangle d\\Omega$', fontsize=20)\n",
    "    plt.xlim([7*10**(-3),np.pi])\n",
    "    plt.ylim([10**(-2),2*10**0])\n",
    "    plt.grid()\n",
    "    \n",
    "    for i in range(1):       \n",
    "        corrF1 = hist[i][idx]/r2st[i][idx]\n",
    "        \n",
    "        tempCorrF = corrF1[(lrp>0.1)&(lrp<1.0)]\n",
    "        \n",
    "        ctmp = (corrF1[300])/(corrF1[0])\n",
    "        \n",
    "        fit = np.polyfit(np.log(tempRp),np.log(tempCorrF/corrF1[0]),1)\n",
    "        print(\"t = \"+str(t[i])+\"*sigma_2: Linear fit [alpha A] = \"+str(fit))\n",
    "        \n",
    "        plt.loglog(lrp,(corrF1)/(corrF1[0]),c[i],label=r'$\\omega^2 > '+str(t[i])\n",
    "                                                   +r'\\langle \\omega^2\\rangle$ : $\\Gamma ='\n",
    "                                                   +str(fit[0])+r'$')\n",
    "        \n",
    "        corrF1 = hist[i][idx]\n",
    "        \n",
    "        plt.loglog(lrp,np.exp(fit[1])*(lrp**(fit[0])),'k--')\n",
    "        \n",
    "    plt.legend(loc='lower left',prop={'size':16})\n",
    "    plt.savefig('mpifft4py-twopoint-enstrophy-0.pdf')"
   ]
  },
  {
   "cell_type": "code",
   "execution_count": null,
   "metadata": {
    "collapsed": true
   },
   "outputs": [],
   "source": []
  },
  {
   "cell_type": "code",
   "execution_count": null,
   "metadata": {
    "collapsed": true
   },
   "outputs": [],
   "source": []
  },
  {
   "cell_type": "code",
   "execution_count": null,
   "metadata": {
    "collapsed": true
   },
   "outputs": [],
   "source": []
  },
  {
   "cell_type": "code",
   "execution_count": null,
   "metadata": {
    "collapsed": true
   },
   "outputs": [],
   "source": []
  }
 ],
 "metadata": {
  "kernelspec": {
   "display_name": "Python 3",
   "language": "python",
   "name": "python3"
  },
  "language_info": {
   "codemirror_mode": {
    "name": "ipython",
    "version": 3
   },
   "file_extension": ".py",
   "mimetype": "text/x-python",
   "name": "python",
   "nbconvert_exporter": "python",
   "pygments_lexer": "ipython3",
   "version": "3.5.2"
  }
 },
 "nbformat": 4,
 "nbformat_minor": 0
}
