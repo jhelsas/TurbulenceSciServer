{
 "cells": [
  {
   "cell_type": "code",
   "execution_count": null,
   "metadata": {
    "collapsed": false
   },
   "outputs": [
    {
     "name": "stdout",
     "output_type": "stream",
     "text": [
      "2017-05-14 17:52:30.819 [IPClusterStart] Created profile dir: '/home/idies/.ipython/profile_mpi16'\n",
      "2017-05-14 17:52:30.835 [IPClusterStart] Starting ipcluster with [daemon=False]\n",
      "2017-05-14 17:52:30.836 [IPClusterStart] Creating pid file: /home/idies/.ipython/profile_mpi16/pid/ipcluster.pid\n",
      "2017-05-14 17:52:30.837 [IPClusterStart] Starting Controller with LocalControllerLauncher\n",
      "2017-05-14 17:52:31.847 [IPClusterStart] Starting 16 Engines with MPI\n",
      "2017-05-14 17:53:01.861 [IPClusterStart] Engines appear to have started successfully\n"
     ]
    }
   ],
   "source": [
    "!ipcluster start -n 16 --engines=MPI --profile='mpi16' # for parallel run: start the engines using terminal"
   ]
  },
  {
   "cell_type": "code",
   "execution_count": null,
   "metadata": {
    "collapsed": true
   },
   "outputs": [],
   "source": []
  }
 ],
 "metadata": {
  "kernelspec": {
   "display_name": "Python 2",
   "language": "python",
   "name": "python2"
  },
  "language_info": {
   "codemirror_mode": {
    "name": "ipython",
    "version": 2
   },
   "file_extension": ".py",
   "mimetype": "text/x-python",
   "name": "python",
   "nbconvert_exporter": "python",
   "pygments_lexer": "ipython2",
   "version": "2.7.11"
  }
 },
 "nbformat": 4,
 "nbformat_minor": 1
}
