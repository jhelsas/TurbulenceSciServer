{
 "cells": [
  {
   "cell_type": "code",
   "execution_count": 1,
   "metadata": {
    "collapsed": true
   },
   "outputs": [],
   "source": [
    "#!ipcluster start -n 8 --engines=MPI --profile='mpi' # for parallel run: start the engines using terminal\n",
    "from ipyparallel import Client\n",
    "rc = Client(profile='mpi16')"
   ]
  },
  {
   "cell_type": "code",
   "execution_count": 2,
   "metadata": {
    "collapsed": true
   },
   "outputs": [],
   "source": [
    "%%px\n",
    "# Import the libraries\n",
    "\n",
    "import os\n",
    "import sys\n",
    "import math\n",
    "import pyJHTDB\n",
    "import numpy as np\n",
    "import pyfftw as ft \n",
    "from mpi4py import MPI\n",
    "from pyJHTDB import libJHTDB\n",
    "from pyJHTDB.dbinfo import isotropic1024coarse\n",
    "\n",
    "from mpiFFT4py.pencil import R2CY"
   ]
  },
  {
   "cell_type": "code",
   "execution_count": 3,
   "metadata": {
    "collapsed": false
   },
   "outputs": [
    {
     "name": "stdout",
     "output_type": "stream",
     "text": [
      "[stdout:0] \n",
      "n_proc = 16\n",
      "rank = 0\n"
     ]
    }
   ],
   "source": [
    "%%px\n",
    "\n",
    "Nx = isotropic1024coarse['nx']; Ny = isotropic1024coarse['ny']; Nz = isotropic1024coarse['nz']\n",
    "Lx = isotropic1024coarse['lx']; Ly = isotropic1024coarse['ly']; Lz = isotropic1024coarse['lz']\n",
    "nu = isotropic1024coarse['nu']\n",
    "\n",
    "comm = MPI.COMM_WORLD; rank = comm.Get_rank(); nproc = comm.Get_size()\n",
    "if(rank==0):\n",
    "    print(\"n_proc = \"+str(nproc))\n",
    "    print(\"rank = \"+str(rank))\n",
    "\n",
    "nx=Nx//nproc; ny=Ny; nz=Nz; nz_half=nz//2\n",
    "nek=int(math.sqrt(2.0)/3*Nx); time = 0.0 \n",
    "\n",
    "chkSz = 32; slabs = nx//chkSz"
   ]
  },
  {
   "cell_type": "code",
   "execution_count": 4,
   "metadata": {
    "collapsed": true
   },
   "outputs": [],
   "source": [
    "%%px \n",
    "\n",
    "P1 = 4\n",
    "P2 = 4"
   ]
  },
  {
   "cell_type": "code",
   "execution_count": 5,
   "metadata": {
    "collapsed": true
   },
   "outputs": [],
   "source": [
    "%%px \n",
    "\n",
    "N = np.array([Nx,Ny,Nz],dtype=int)\n",
    "L = np.array([Lx,Ly,Lz],dtype=float)\n",
    "\n",
    "FFT = R2CY(N, L, MPI.COMM_WORLD, \"double\",P1, communication='Alltoallw')"
   ]
  },
  {
   "cell_type": "code",
   "execution_count": 6,
   "metadata": {
    "collapsed": false
   },
   "outputs": [
    {
     "name": "stdout",
     "output_type": "stream",
     "text": [
      "[stdout:0] \n",
      "(256, 256, 1024)\n",
      "(256, 1024, 128)\n",
      "(384, 384, 1536)\n",
      "(384, 384, 1536)\n"
     ]
    }
   ],
   "source": [
    "%%px\n",
    "\n",
    "if(rank==0):\n",
    "    print(FFT.real_shape())\n",
    "    print(FFT.complex_shape())\n",
    "    print(FFT.real_shape_padded())\n",
    "    print(FFT.work_shape('3/2-rule'))"
   ]
  },
  {
   "cell_type": "code",
   "execution_count": 7,
   "metadata": {
    "collapsed": false
   },
   "outputs": [
    {
     "name": "stdout",
     "output_type": "stream",
     "text": [
      "[stdout:0] (0, 0)\n",
      "[stdout:1] (1, 3)\n",
      "[stdout:2] (1, 0)\n",
      "[stdout:3] (0, 3)\n",
      "[stdout:4] (2, 3)\n",
      "[stdout:5] (0, 1)\n",
      "[stdout:6] (3, 1)\n",
      "[stdout:7] (1, 2)\n",
      "[stdout:8] (2, 2)\n",
      "[stdout:9] (2, 0)\n",
      "[stdout:10] (3, 3)\n",
      "[stdout:11] (1, 1)\n",
      "[stdout:12] (3, 0)\n",
      "[stdout:13] (2, 1)\n",
      "[stdout:14] (0, 2)\n",
      "[stdout:15] (3, 2)\n"
     ]
    }
   ],
   "source": [
    "%%px\n",
    "\n",
    "print((FFT.comm0.Get_rank(),FFT.comm1.Get_rank()))"
   ]
  },
  {
   "cell_type": "code",
   "execution_count": 8,
   "metadata": {
    "collapsed": false,
    "scrolled": false
   },
   "outputs": [
    {
     "name": "stdout",
     "output_type": "stream",
     "text": [
      "[stdout:0] \n",
      "Finished loading\n",
      "Load from disk: 31.69 seconds\n",
      "vx shape = (256, 256, 1024)\n"
     ]
    }
   ],
   "source": [
    "%%px\n",
    "\n",
    "p1 = FFT.comm0.Get_rank()\n",
    "p2 = FFT.comm1.Get_rank()\n",
    "\n",
    "folder = '/home/idies/workspace/scratch/pencil16'\n",
    "filename = 'pencil-isotropic1024coarse-('+str(p1)+','+str(p2)+').npz'\n",
    "file = folder + \"/\" + filename\n",
    "\n",
    "vx = np.zeros(FFT.real_shape(), dtype=FFT.float)\n",
    "vy = np.zeros(FFT.real_shape(), dtype=FFT.float)\n",
    "vz = np.zeros(FFT.real_shape(), dtype=FFT.float)\n",
    "    \n",
    "comm.Barrier(); t1=MPI.Wtime()\n",
    "content = np.load(file)\n",
    "\n",
    "vx[:,:,:] = content['u'].astype(FFT.float)\n",
    "vy[:,:,:] = content['v'].astype(FFT.float)\n",
    "vz[:,:,:] = content['w'].astype(FFT.float)\n",
    "\n",
    "comm.Barrier(); t2=MPI.Wtime()\n",
    "if(rank==0):\n",
    "    print(\"Finished loading\")\n",
    "    sys.stdout.write('Load from disk: {0:.2f} seconds\\n'.format(t2-t1))\n",
    "\n",
    "if(rank==0):\n",
    "    print(\"vx shape = \"+str(vx.shape))       "
   ]
  },
  {
   "cell_type": "code",
   "execution_count": 9,
   "metadata": {
    "collapsed": false
   },
   "outputs": [
    {
     "name": "stdout",
     "output_type": "stream",
     "text": [
      "[stdout:0] \n",
      "kinectic energy = 0.682719227202\n",
      "Computing kinectic energy:  11.71060299873352 s\n"
     ]
    }
   ],
   "source": [
    "%%px\n",
    "comm.Barrier(); t1=MPI.Wtime()\n",
    "\n",
    "K = 0.5*(vx**2+vy**2+vz**2)\n",
    "\n",
    "slabK = np.sum(K)\n",
    "\n",
    "avgK=np.zeros(1,dtype=FFT.float)\n",
    "\n",
    "comm.Reduce([slabK,MPI.DOUBLE],[avgK,MPI.DOUBLE],op=MPI.SUM)\n",
    "avgK = avgK[0]*(1024**(-3))\n",
    "avgK = comm.bcast(avgK, root=0)\n",
    "\n",
    "comm.Barrier(); t2=MPI.Wtime()\n",
    "if rank==0:\n",
    "    print(\"kinectic energy = \"+str(avgK))\n",
    "    print(\"Computing kinectic energy: \", t2-t1,\"s\")"
   ]
  },
  {
   "cell_type": "code",
   "execution_count": 10,
   "metadata": {
    "collapsed": false
   },
   "outputs": [
    {
     "name": "stdout",
     "output_type": "stream",
     "text": [
      "[stdout:0] Computing wavenumbers: 3.9223859310150146\n"
     ]
    }
   ],
   "source": [
    "%%px\n",
    "comm.Barrier(); t1=MPI.Wtime()\n",
    "\n",
    "kx,ky,kz = FFT.get_local_wavenumbermesh()\n",
    "k2 = kx**2 + ky**2 + kz**2\n",
    "\n",
    "comm.Barrier(); t2=MPI.Wtime()\n",
    "if(rank==0):\n",
    "    print(\"Computing wavenumbers:\",t2-t1)"
   ]
  },
  {
   "cell_type": "code",
   "execution_count": 11,
   "metadata": {
    "collapsed": false
   },
   "outputs": [
    {
     "name": "stdout",
     "output_type": "stream",
     "text": [
      "[stdout:0] Preparing FFT: 0.00 seconds\n"
     ]
    }
   ],
   "source": [
    "%%px \n",
    "comm.Barrier(); t1=MPI.Wtime()\n",
    "\n",
    "cvx = np.zeros(FFT.complex_shape(), dtype=FFT.complex)\n",
    "cvy = np.zeros(FFT.complex_shape(), dtype=FFT.complex)\n",
    "cvz = np.zeros(FFT.complex_shape(), dtype=FFT.complex)\n",
    "\n",
    "comm.Barrier(); t2=MPI.Wtime()\n",
    "if(rank==0):\n",
    "    sys.stdout.write('Preparing FFT: {0:.2f} seconds\\n'.format(t2-t1))"
   ]
  },
  {
   "cell_type": "code",
   "execution_count": 12,
   "metadata": {
    "collapsed": false
   },
   "outputs": [
    {
     "name": "stdout",
     "output_type": "stream",
     "text": [
      "[stdout:0] Calculate 3D spatial FFT: 100.64 seconds\n"
     ]
    }
   ],
   "source": [
    "%%px\n",
    "comm.Barrier(); t1=MPI.Wtime()\n",
    "\n",
    "cvx = FFT.fftn(vx,cvx)\n",
    "cvy = FFT.fftn(vy,cvy)\n",
    "cvz = FFT.fftn(vz,cvz)\n",
    "\n",
    "comm.Barrier(); t2=MPI.Wtime()\n",
    "if(rank==0):\n",
    "    sys.stdout.write('Calculate 3D spatial FFT: {0:.2f} seconds\\n'.format(t2-t1))"
   ]
  },
  {
   "cell_type": "code",
   "execution_count": 13,
   "metadata": {
    "collapsed": false
   },
   "outputs": [
    {
     "name": "stdout",
     "output_type": "stream",
     "text": [
      "[stdout:0] alocating fourier space derivatives: 0.00 seconds\n"
     ]
    }
   ],
   "source": [
    "%%px\n",
    "comm.Barrier(); t1=MPI.Wtime()\n",
    "\n",
    "cA = np.zeros(FFT.complex_shape(), dtype=FFT.complex)\n",
    "\n",
    "comm.Barrier(); t2=MPI.Wtime()\n",
    "if(rank==0):\n",
    "    sys.stdout.write('alocating fourier space derivatives: {0:.2f} seconds\\n'.format(t2-t1))"
   ]
  },
  {
   "cell_type": "code",
   "execution_count": 14,
   "metadata": {
    "collapsed": false
   },
   "outputs": [
    {
     "name": "stdout",
     "output_type": "stream",
     "text": [
      "[stdout:0] Alocate real space gradients: 0.00 seconds\n"
     ]
    }
   ],
   "source": [
    "%%px\n",
    "comm.Barrier(); t1=MPI.Wtime()\n",
    "\n",
    "A11 = np.zeros(FFT.real_shape(), dtype=FFT.float)\n",
    "A12 = np.zeros(FFT.real_shape(), dtype=FFT.float)\n",
    "A13 = np.zeros(FFT.real_shape(), dtype=FFT.float)\n",
    "A21 = np.zeros(FFT.real_shape(), dtype=FFT.float)\n",
    "A22 = np.zeros(FFT.real_shape(), dtype=FFT.float)\n",
    "A23 = np.zeros(FFT.real_shape(), dtype=FFT.float)\n",
    "A31 = np.zeros(FFT.real_shape(), dtype=FFT.float)\n",
    "A32 = np.zeros(FFT.real_shape(), dtype=FFT.float)\n",
    "A33 = np.zeros(FFT.real_shape(), dtype=FFT.float)\n",
    "\n",
    "comm.Barrier(); t2=MPI.Wtime()\n",
    "if(rank==0):\n",
    "    sys.stdout.write('Alocate real space gradients: {0:.2f} seconds\\n'.format(t2-t1))"
   ]
  },
  {
   "cell_type": "code",
   "execution_count": 15,
   "metadata": {
    "collapsed": false
   },
   "outputs": [
    {
     "name": "stdout",
     "output_type": "stream",
     "text": [
      "[stdout:0] Calculate velocity gradient in wavenumber space, and FFT back: 123.34 seconds\n"
     ]
    }
   ],
   "source": [
    "%%px\n",
    "comm.Barrier(); t1=MPI.Wtime()\n",
    " \n",
    "cA[:,:,:] = np.complex64(0.0+1.0j)*kx[:,:,:]*cvx[:,:,:]\n",
    "A11 = FFT.ifftn(cA,A11)\n",
    "A11[:,:,:] = A11[:,:,:]\n",
    "\n",
    "cA[:,:,:] = np.complex64(0.0+1.0j)*kx[:,:,:]*cvy[:,:,:]\n",
    "A12 = FFT.ifftn(cA,A12)\n",
    "A12[:,:,:] = A12[:,:,:]\n",
    "\n",
    "cA[:,:,:] = np.complex64(0.0+1.0j)*kx[:,:,:]*cvz[:,:,:]\n",
    "A13 = FFT.ifftn(cA,A13)\n",
    "A13[:,:,:] = A13[:,:,:]\n",
    "\n",
    "comm.Barrier(); t2=MPI.Wtime()\n",
    "if(rank==0):\n",
    "    sys.stdout.write('Calculate velocity gradient in wavenumber space, and FFT back: {0:.2f} seconds\\n'.format(t2-t1))"
   ]
  },
  {
   "cell_type": "code",
   "execution_count": 16,
   "metadata": {
    "collapsed": false
   },
   "outputs": [
    {
     "name": "stdout",
     "output_type": "stream",
     "text": [
      "[stdout:0] Calculate velocity gradient in wavenumber space: 88.02 seconds\n"
     ]
    }
   ],
   "source": [
    "%%px\n",
    "comm.Barrier(); t1=MPI.Wtime()\n",
    " \n",
    "cA[:,:,:] = np.complex64(0.0+1.0j)*ky[:,:,:]*cvx[:,:,:]\n",
    "A21 = FFT.ifftn(cA,A21)\n",
    "A21[:,:,:] = A21[:,:,:]\n",
    "\n",
    "cA[:,:,:] = np.complex64(0.0+1.0j)*ky[:,:,:]*cvy[:,:,:]\n",
    "A22 = FFT.ifftn(cA,A22)\n",
    "A22[:,:,:] = A22[:,:,:]\n",
    "\n",
    "cA[:,:,:] = np.complex64(0.0+1.0j)*ky[:,:,:]*cvz[:,:,:]\n",
    "A23 = FFT.ifftn(cA,A23)\n",
    "A23[:,:,:] = A23[:,:,:]\n",
    "\n",
    "comm.Barrier(); t2=MPI.Wtime()\n",
    "if(rank==0):\n",
    "    sys.stdout.write('Calculate velocity gradient in wavenumber space: {0:.2f} seconds\\n'.format(t2-t1))"
   ]
  },
  {
   "cell_type": "code",
   "execution_count": 17,
   "metadata": {
    "collapsed": false
   },
   "outputs": [
    {
     "name": "stdout",
     "output_type": "stream",
     "text": [
      "[stdout:0] Calculate velocity gradient in wavenumber space: 93.98 seconds\n"
     ]
    }
   ],
   "source": [
    "%%px\n",
    "comm.Barrier(); t1=MPI.Wtime()\n",
    " \n",
    "cA[:,:,:] = np.complex64(0.0+1.0j)*kz[:,:,:]*cvx[:,:,:]\n",
    "A31 = FFT.ifftn(cA,A31)\n",
    "A31[:,:,:] = A31[:,:,:]\n",
    "\n",
    "cA[:,:,:] = np.complex64(0.0+1.0j)*kz[:,:,:]*cvy[:,:,:]\n",
    "A32 = FFT.ifftn(cA,A32)\n",
    "A32[:,:,:] = A32[:,:,:]\n",
    "\n",
    "cA[:,:,:] = np.complex64(0.0+1.0j)*kz[:,:,:]*cvz[:,:,:]\n",
    "A33 = FFT.ifftn(cA,A33)\n",
    "A33[:,:,:] = A33[:,:,:]\n",
    "\n",
    "comm.Barrier(); t2=MPI.Wtime()\n",
    "if(rank==0):\n",
    "    sys.stdout.write('Calculate velocity gradient in wavenumber space: {0:.2f} seconds\\n'.format(t2-t1))"
   ]
  },
  {
   "cell_type": "code",
   "execution_count": 18,
   "metadata": {
    "collapsed": true
   },
   "outputs": [],
   "source": [
    "%%px\n",
    "\n",
    "del cA"
   ]
  },
  {
   "cell_type": "code",
   "execution_count": 19,
   "metadata": {
    "collapsed": true
   },
   "outputs": [],
   "source": [
    "%%px\n",
    "\n",
    "del cvx,cvy,cvz"
   ]
  },
  {
   "cell_type": "code",
   "execution_count": 20,
   "metadata": {
    "collapsed": true
   },
   "outputs": [],
   "source": [
    "%%px\n",
    "\n",
    "del kx,ky,kz"
   ]
  },
  {
   "cell_type": "code",
   "execution_count": 21,
   "metadata": {
    "collapsed": false
   },
   "outputs": [
    {
     "name": "stdout",
     "output_type": "stream",
     "text": [
      "[stdout:0] \n",
      "<A11> = 5.63785129692e-17\n",
      "<A12> = -2.01227923213e-16\n",
      "<A13> = 8.93382590128e-17\n",
      "<A21> = -1.38777878078e-17\n",
      "<A22> = 1.82145964978e-17\n",
      "<A23> = 3.46944695195e-17\n",
      "<A31> = -1.95231168175e-20\n",
      "<A32> = -3.33821143905e-20\n",
      "<A33> = -2.83524426759e-20\n"
     ]
    }
   ],
   "source": [
    "%%px \n",
    "\n",
    "A  = [A11,A12,A13,A21,A22,A23,A31,A32,A33]\n",
    "la = ['A11','A12','A13','A21','A22','A23','A31','A32','A33']\n",
    "\n",
    "for i in range(9):\n",
    "    Aav = np.average(A[i])\n",
    "    slabAavg = np.sum(Aav)\n",
    "    \n",
    "    avgA =np.zeros(1,dtype=FFT.float)\n",
    "    \n",
    "    comm.Reduce([slabAavg,MPI.DOUBLE],[avgA,MPI.DOUBLE],op=MPI.SUM)\n",
    "    avgA = avgA[0]/nproc #avgK[0]*(1024**(-3))\n",
    "    avgA = comm.bcast(avgA, root=0)\n",
    "    \n",
    "    if rank==0:\n",
    "        print(\"<\"+la[i]+\"> = \"+str(avgA))"
   ]
  },
  {
   "cell_type": "code",
   "execution_count": 22,
   "metadata": {
    "collapsed": false,
    "scrolled": true
   },
   "outputs": [
    {
     "name": "stdout",
     "output_type": "stream",
     "text": [
      "[stdout:0] \n",
      "<A11^2> = 33.2611325939\n",
      "<A12^2> = 66.9627075507\n",
      "<A13^2> = 67.0288607655\n",
      "<A21^2> = 65.7716675104\n",
      "<A22^2> = 33.0683197566\n",
      "<A23^2> = 65.7397872063\n",
      "<A31^2> = 66.6281516673\n",
      "<A32^2> = 66.7571668279\n",
      "<A33^2> = 33.2177134126\n"
     ]
    }
   ],
   "source": [
    "%%px \n",
    "\n",
    "A  = [A11,A12,A13,A21,A22,A23,A31,A32,A33]\n",
    "la = ['A11','A12','A13','A21','A22','A23','A31','A32','A33']\n",
    "\n",
    "for i in range(9):\n",
    "    A2av = np.average(A[i]**2)\n",
    "    \n",
    "    avgA2 =np.zeros(1,dtype=FFT.float)\n",
    "    \n",
    "    comm.Reduce([A2av,MPI.DOUBLE],[avgA2,MPI.DOUBLE],op=MPI.SUM)\n",
    "    avgA2 = avgA2[0]/nproc #avgK[0]*(1024**(-3))\n",
    "    avgA2 = comm.bcast(avgA2, root=0)\n",
    "    \n",
    "    if rank==0:\n",
    "        print(\"<\"+la[i]+\"^2> = \"+str(avgA2))"
   ]
  },
  {
   "cell_type": "code",
   "execution_count": 40,
   "metadata": {
    "collapsed": false
   },
   "outputs": [
    {
     "name": "stdout",
     "output_type": "stream",
     "text": [
      "[stdout:0] \n",
      "<A11^2> = 33.2611325939\n",
      "skewness = <A11^3>/<A11^2>^(3/2) = -0.590255397263\n",
      "<A12^2> = 66.9627075507\n",
      "skewness = <A12^3>/<A12^2>^(3/2) = -0.0262069345797\n",
      "<A13^2> = 67.0288607655\n",
      "skewness = <A13^3>/<A13^2>^(3/2) = -0.044600022822\n",
      "<A21^2> = 65.7716675104\n",
      "skewness = <A21^3>/<A21^2>^(3/2) = -0.00580459082167\n",
      "<A22^2> = 33.0683197566\n",
      "skewness = <A22^3>/<A22^2>^(3/2) = -0.553907679429\n",
      "<A23^2> = 65.7397872063\n",
      "skewness = <A23^3>/<A23^2>^(3/2) = -0.0494113131351\n",
      "<A31^2> = 66.6281516673\n",
      "skewness = <A31^3>/<A31^2>^(3/2) = 0.00386564467191\n",
      "<A32^2> = 66.7571668279\n",
      "skewness = <A32^3>/<A32^2>^(3/2) = 0.00726917637397\n",
      "<A33^2> = 33.2177134126\n",
      "skewness = <A33^3>/<A33^2>^(3/2) = -0.576321276815\n"
     ]
    }
   ],
   "source": [
    "%%px \n",
    "\n",
    "A  = [A11,A12,A13,A21,A22,A23,A31,A32,A33]\n",
    "la = ['A11','A12','A13','A21','A22','A23','A31','A32','A33']\n",
    "\n",
    "for i in range(9):  \n",
    "    A2 = A[i]**2\n",
    "    A2av = np.sum(A2, dtype=FFT.float)\n",
    "    avgA2 =np.zeros(1,dtype=FFT.float)\n",
    "    comm.Reduce([A2av,MPI.DOUBLE],[avgA2,MPI.DOUBLE],op=MPI.SUM)\n",
    "    avgA2 = avgA2[0]/(Nx*Ny*Nz) \n",
    "    avgA2 = comm.bcast(avgA2, root=0)\n",
    "    \n",
    "    if rank==0:\n",
    "        print(\"<\"+la[i]+\"^2> = \"+str(avgA2))\n",
    "        \n",
    "    A3 = A[i]/np.sqrt(avgA2)\n",
    "    A3 = A3**3\n",
    "    A3av = np.sum(A3, dtype=FFT.float)    \n",
    "    avgA3 = np.zeros(1,dtype=FFT.float)    \n",
    "    comm.Reduce([A3av,MPI.DOUBLE],[avgA3,MPI.DOUBLE],op=MPI.SUM)    \n",
    "    avgA3 = avgA3[0]/(Nx*Ny*Nz) \n",
    "    avgA3 = comm.bcast(avgA3, root=0)\n",
    "    \n",
    "    skewness = avgA3#/(avgA2**(3/2))\n",
    "    \n",
    "    if rank==0:\n",
    "        print(\"skewness = <\"+la[i]+\"^3>/\"+\"<\"+la[i]+\"^2>^(3/2) \"+\"= \"+str(skewness) )"
   ]
  },
  {
   "cell_type": "code",
   "execution_count": 24,
   "metadata": {
    "collapsed": false
   },
   "outputs": [
    {
     "name": "stdout",
     "output_type": "stream",
     "text": [
      "[stdout:0] <(div v)^2> = 3.28650680116e-09\n"
     ]
    }
   ],
   "source": [
    "%%px \n",
    "\n",
    "div = A11+A22+A33 \n",
    "\n",
    "div2av = np.average(div**2)\n",
    "    \n",
    "avgdiv2 =np.zeros(1,dtype=FFT.float)\n",
    "   \n",
    "comm.Reduce([div2av,MPI.DOUBLE],[avgdiv2,MPI.DOUBLE],op=MPI.SUM)\n",
    "avgdiv2 = avgdiv2[0]/nproc \n",
    "avgdiv2 = comm.bcast(avgdiv2, root=0)\n",
    "\n",
    "if rank==0:\n",
    "    print(\"<(div v)^2> = \"+str(avgdiv2))"
   ]
  },
  {
   "cell_type": "code",
   "execution_count": 25,
   "metadata": {
    "collapsed": true
   },
   "outputs": [],
   "source": [
    "%%px \n",
    "\n",
    "Q = 0.5*( (A12*A21+A23*A32+A13*A31) - (A22*A33+A11*A33+A11*A22) )"
   ]
  },
  {
   "cell_type": "code",
   "execution_count": 26,
   "metadata": {
    "collapsed": false
   },
   "outputs": [
    {
     "name": "stdout",
     "output_type": "stream",
     "text": [
      "[stdout:0] Average Q = -6.85215773011e-17\n"
     ]
    }
   ],
   "source": [
    "%%px\n",
    "\n",
    "slabQ = np.average(Q)\n",
    "\n",
    "avgQ=np.zeros(1,dtype=FFT.float)\n",
    "\n",
    "comm.Reduce([slabQ,MPI.DOUBLE],[avgQ,MPI.DOUBLE],op=MPI.SUM)\n",
    "avgQ = avgQ[0]/nproc\n",
    "avgQ = comm.bcast(avgQ, root=0)\n",
    "\n",
    "if rank==0:\n",
    "    print(\"Average Q = \"+str(avgQ))"
   ]
  },
  {
   "cell_type": "code",
   "execution_count": 27,
   "metadata": {
    "collapsed": false
   },
   "outputs": [],
   "source": [
    "%%px\n",
    "\n",
    "R = -(A11*A22*A33 + A21*A32*A13 + A31*A12*A23 - A13*A22*A31 - A11*A32*A23 - A21*A12*A33)"
   ]
  },
  {
   "cell_type": "code",
   "execution_count": 28,
   "metadata": {
    "collapsed": false
   },
   "outputs": [
    {
     "name": "stdout",
     "output_type": "stream",
     "text": [
      "[stdout:0] Average R = 0.00128866982766\n"
     ]
    }
   ],
   "source": [
    "%%px\n",
    "\n",
    "slabR = np.average(R)\n",
    "\n",
    "avgR=np.zeros(1,dtype=FFT.float)\n",
    "\n",
    "comm.Reduce([slabR,MPI.DOUBLE],[avgR,MPI.DOUBLE],op=MPI.SUM)\n",
    "avgR = avgR[0]/nproc\n",
    "avgR = comm.bcast(avgR, root=0)\n",
    "\n",
    "if rank==0:\n",
    "    print(\"Average R = \"+str(avgR))"
   ]
  },
  {
   "cell_type": "code",
   "execution_count": 29,
   "metadata": {
    "collapsed": false
   },
   "outputs": [
    {
     "name": "stdout",
     "output_type": "stream",
     "text": [
      "[stdout:0] Average Q^2 = 17679.1773945\n"
     ]
    }
   ],
   "source": [
    "%%px\n",
    "\n",
    "slabQ2 = np.average(Q**2)\n",
    "\n",
    "avgQ2=np.zeros(1,dtype=FFT.float)\n",
    "\n",
    "comm.Reduce([slabQ2,MPI.DOUBLE],[avgQ2,MPI.DOUBLE],op=MPI.SUM)\n",
    "avgQ2 = avgQ2[0]/nproc\n",
    "avgQ2 = comm.bcast(avgQ2, root=0)\n",
    "\n",
    "if rank==0:\n",
    "    print(\"Average Q^2 = \"+str(avgQ2))"
   ]
  },
  {
   "cell_type": "code",
   "execution_count": 30,
   "metadata": {
    "collapsed": false
   },
   "outputs": [
    {
     "name": "stdout",
     "output_type": "stream",
     "text": [
      "[stdout:0] <R>/(<Q^2>^3/2) = 5.48212053209e-10\n"
     ]
    }
   ],
   "source": [
    "%%px\n",
    "\n",
    "slabR = np.average(R)\n",
    "\n",
    "avgR=np.zeros(1,dtype=FFT.float)\n",
    "\n",
    "comm.Reduce([slabR,MPI.DOUBLE],[avgR,MPI.DOUBLE],op=MPI.SUM)\n",
    "avgR = avgR[0]/nproc\n",
    "avgR = comm.bcast(avgR, root=0)\n",
    "\n",
    "if rank==0:\n",
    "    print(\"<R>/(<Q^2>^3/2) = \"+str(avgR/(avgQ2**1.5)))"
   ]
  },
  {
   "cell_type": "code",
   "execution_count": 31,
   "metadata": {
    "collapsed": true
   },
   "outputs": [],
   "source": [
    "%%px \n",
    "\n",
    "del Q,R"
   ]
  },
  {
   "cell_type": "code",
   "execution_count": 32,
   "metadata": {
    "collapsed": true
   },
   "outputs": [],
   "source": [
    "%%px\n",
    "\n",
    "Omega = 0.5*( A12**2 + A21**2 + A13**2 + A31**2 + A23**2 + A32**2 - 2.*(A12*A21+A13*A31+A23*A32) )"
   ]
  },
  {
   "cell_type": "code",
   "execution_count": 33,
   "metadata": {
    "collapsed": false
   },
   "outputs": [
    {
     "name": "stdout",
     "output_type": "stream",
     "text": [
      "[stdout:0] Average enstrophy = 249.217753644\n"
     ]
    }
   ],
   "source": [
    "%%px\n",
    "\n",
    "slabO = np.average(Omega)\n",
    "\n",
    "avgO=np.zeros(1,dtype=FFT.float)\n",
    "\n",
    "comm.Reduce([slabO,MPI.DOUBLE],[avgO,MPI.DOUBLE],op=MPI.SUM)\n",
    "avgO = avgO[0]/nproc\n",
    "avgO = comm.bcast(avgO, root=0)\n",
    "\n",
    "if rank==0:\n",
    "    print(\"Average enstrophy = \"+str(avgO))"
   ]
  },
  {
   "cell_type": "code",
   "execution_count": 34,
   "metadata": {
    "collapsed": true
   },
   "outputs": [],
   "source": [
    "%%px\n",
    "\n",
    "Epsilon  = A11**2 + A22**2 + A33**2 \n",
    "Epsilon += 0.5*( A12**2 + A21**2 + A23**2 + A32**2 + A13**2 + A31**2 )\n",
    "Epsilon += A12*A21 + A13*A31 + A23*A32"
   ]
  },
  {
   "cell_type": "code",
   "execution_count": 35,
   "metadata": {
    "collapsed": false
   },
   "outputs": [
    {
     "name": "stdout",
     "output_type": "stream",
     "text": [
      "[stdout:0] Average strainrate = 249.217753647\n"
     ]
    }
   ],
   "source": [
    "%%px\n",
    "\n",
    "slabE = np.average(Epsilon)\n",
    "\n",
    "avgE=np.zeros(1,dtype=FFT.float)\n",
    "\n",
    "comm.Reduce([slabE,MPI.DOUBLE],[avgE,MPI.DOUBLE],op=MPI.SUM)\n",
    "avgE = avgE[0]/nproc\n",
    "avgE = comm.bcast(avgE, root=0)\n",
    "\n",
    "if rank==0:\n",
    "    print(\"Average strainrate = \"+str(avgE))"
   ]
  },
  {
   "cell_type": "code",
   "execution_count": 36,
   "metadata": {
    "collapsed": false
   },
   "outputs": [
    {
     "name": "stdout",
     "output_type": "stream",
     "text": [
      "[stdout:0] \n",
      "Average strainrate - enstrophy: 3.28691385221e-09\n",
      "Normalized strainrate - enstrophy: 1.31889233578e-11\n"
     ]
    }
   ],
   "source": [
    "%%px\n",
    "\n",
    "if rank==0:\n",
    "    print(\"Average strainrate - enstrophy: \"+str(avgE-avgO))\n",
    "    print(\"Normalized strainrate - enstrophy: \"+str((avgE-avgO)/avgO))"
   ]
  },
  {
   "cell_type": "code",
   "execution_count": 37,
   "metadata": {
    "collapsed": true
   },
   "outputs": [],
   "source": [
    "%%px\n",
    "\n",
    "del Omega, Epsilon"
   ]
  },
  {
   "cell_type": "code",
   "execution_count": 38,
   "metadata": {
    "collapsed": true
   },
   "outputs": [],
   "source": [
    "%%px\n",
    "\n",
    "eps = 2*nu*avgE"
   ]
  },
  {
   "cell_type": "code",
   "execution_count": 39,
   "metadata": {
    "collapsed": false
   },
   "outputs": [
    {
     "name": "stdout",
     "output_type": "stream",
     "text": [
      "[stdout:0] \n",
      "nu = 0.000185\n",
      "urms = 0.674645204139, Reference: 0.6820399\n",
      "eps = 0.0922105688495\n",
      "kinectic energy = 0.682719227202\n",
      "Taylor micro-scale =0.11703522127\n",
      "ReLamb = 426.795949972, Reference: 426.8378\n"
     ]
    }
   ],
   "source": [
    "%%px\n",
    "\n",
    "urms = np.sqrt(2.*avgK/3)\n",
    "lamb = np.sqrt(15.*nu/eps)*urms\n",
    "ReTayor = urms*lamb/nu\n",
    "if rank==0:\n",
    "    print(\"nu = \"+str(nu))\n",
    "    print(\"urms = \"+str(urms)+\", Reference: 0.6820399\")\n",
    "    print(\"eps = \"+ str(eps))\n",
    "    print(\"kinectic energy = \"+str(avgK))\n",
    "    print(\"Taylor micro-scale =\"+str(lamb))\n",
    "    print(\"ReLamb = \"+str(ReTayor)+\", Reference: 426.8378\")"
   ]
  }
 ],
 "metadata": {
  "kernelspec": {
   "display_name": "Python 2",
   "language": "python",
   "name": "python2"
  },
  "language_info": {
   "codemirror_mode": {
    "name": "ipython",
    "version": 2
   },
   "file_extension": ".py",
   "mimetype": "text/x-python",
   "name": "python",
   "nbconvert_exporter": "python",
   "pygments_lexer": "ipython2",
   "version": "2.7.11"
  }
 },
 "nbformat": 4,
 "nbformat_minor": 1
}
