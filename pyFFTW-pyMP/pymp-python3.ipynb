{
 "cells": [
  {
   "cell_type": "code",
   "execution_count": 1,
   "metadata": {
    "collapsed": true
   },
   "outputs": [],
   "source": [
    "import numpy as np\n",
    "import pymp \n",
    "import time"
   ]
  },
  {
   "cell_type": "code",
   "execution_count": 2,
   "metadata": {},
   "outputs": [
    {
     "name": "stdout",
     "output_type": "stream",
     "text": [
      "<module 'pymp' from '/home/idies/workspace/persistent/pymp/pymp/__init__.py'>\n"
     ]
    }
   ],
   "source": [
    "print(pymp)"
   ]
  },
  {
   "cell_type": "code",
   "execution_count": 3,
   "metadata": {
    "collapsed": true
   },
   "outputs": [],
   "source": [
    "N = 1024\n",
    "A = np.random.random((N,))\n",
    "B = np.random.random((N,))\n",
    "\n",
    "C = pymp.shared.array((N,), dtype='float32')"
   ]
  },
  {
   "cell_type": "code",
   "execution_count": 4,
   "metadata": {
    "collapsed": true
   },
   "outputs": [],
   "source": [
    "Nt = 8\n",
    "Chk = N//Nt\n",
    "with pymp.Parallel(Nt) as p:\n",
    "    for idx in p.range(Nt):\n",
    "        C[idx*Chk:(idx+1)*Chk] = A[idx*Chk:(idx+1)*Chk] + B[idx*Chk:(idx+1)*Chk]"
   ]
  },
  {
   "cell_type": "code",
   "execution_count": 5,
   "metadata": {},
   "outputs": [
    {
     "name": "stdout",
     "output_type": "stream",
     "text": [
      "[ 0.61481297  0.85509515  1.14249587 ...,  1.03546059  0.9576835\n",
      "  1.59728718]\n"
     ]
    }
   ],
   "source": [
    "print(C)"
   ]
  },
  {
   "cell_type": "code",
   "execution_count": 6,
   "metadata": {
    "collapsed": true
   },
   "outputs": [],
   "source": [
    "Cref = A+B"
   ]
  },
  {
   "cell_type": "code",
   "execution_count": 7,
   "metadata": {},
   "outputs": [
    {
     "name": "stdout",
     "output_type": "stream",
     "text": [
      "[ 0.61481297  0.85509515  1.14249583 ...,  1.03546057  0.95768351\n",
      "  1.59728713]\n"
     ]
    }
   ],
   "source": [
    "print(Cref)"
   ]
  },
  {
   "cell_type": "code",
   "execution_count": 8,
   "metadata": {},
   "outputs": [
    {
     "name": "stdout",
     "output_type": "stream",
     "text": [
      "2.64151245497e-08\n"
     ]
    }
   ],
   "source": [
    "print(np.sqrt(np.average((C-Cref)**2)))"
   ]
  },
  {
   "cell_type": "code",
   "execution_count": 9,
   "metadata": {
    "collapsed": true
   },
   "outputs": [],
   "source": [
    "N = 1024\n",
    "a = np.zeros((N,N,N))\n",
    "b = np.zeros((N,N,N))"
   ]
  },
  {
   "cell_type": "code",
   "execution_count": 10,
   "metadata": {
    "collapsed": true
   },
   "outputs": [],
   "source": [
    "a[:,:,:] = 1\n",
    "b[:,:,:] = 2"
   ]
  },
  {
   "cell_type": "code",
   "execution_count": 11,
   "metadata": {},
   "outputs": [
    {
     "name": "stdout",
     "output_type": "stream",
     "text": [
      "108.70427441596985\n"
     ]
    }
   ],
   "source": [
    "start = time.time()\n",
    "\n",
    "c = pymp.shared.array((N,N,N), dtype='float32')\n",
    "\n",
    "end = time.time()\n",
    "print(end-start)"
   ]
  },
  {
   "cell_type": "code",
   "execution_count": 12,
   "metadata": {
    "collapsed": true
   },
   "outputs": [],
   "source": [
    "cref = np.zeros((N,N,N), dtype='float32')"
   ]
  },
  {
   "cell_type": "code",
   "execution_count": 13,
   "metadata": {},
   "outputs": [
    {
     "name": "stdout",
     "output_type": "stream",
     "text": [
      "264.88848090171814\n"
     ]
    }
   ],
   "source": [
    "start = time.time()\n",
    "\n",
    "cref[:,:,:] = a[:,:,:] + b[:,:,:]\n",
    "\n",
    "end = time.time()\n",
    "print(end-start)"
   ]
  },
  {
   "cell_type": "code",
   "execution_count": 14,
   "metadata": {},
   "outputs": [
    {
     "name": "stdout",
     "output_type": "stream",
     "text": [
      "124.64008331298828\n"
     ]
    }
   ],
   "source": [
    "start = time.time()\n",
    "\n",
    "Nt = 8\n",
    "Chk = N//Nt\n",
    "with pymp.Parallel(Nt) as p:\n",
    "    for idx in p.range(Nt):\n",
    "        c[idx*Chk:(idx+1)*Chk,:,:] = a[idx*Chk:(idx+1)*Chk,:,:] + b[idx*Chk:(idx+1)*Chk,:,:]\n",
    "\n",
    "end = time.time()\n",
    "print(end-start)"
   ]
  },
  {
   "cell_type": "code",
   "execution_count": 15,
   "metadata": {},
   "outputs": [
    {
     "name": "stdout",
     "output_type": "stream",
     "text": [
      "0.0\n"
     ]
    }
   ],
   "source": [
    "print(np.average((c-cref)**2))"
   ]
  },
  {
   "cell_type": "code",
   "execution_count": null,
   "metadata": {
    "collapsed": true
   },
   "outputs": [],
   "source": []
  }
 ],
 "metadata": {
  "kernelspec": {
   "display_name": "Python 2",
   "language": "python",
   "name": "python2"
  },
  "language_info": {
   "codemirror_mode": {
    "name": "ipython",
    "version": 2
   },
   "file_extension": ".py",
   "mimetype": "text/x-python",
   "name": "python",
   "nbconvert_exporter": "python",
   "pygments_lexer": "ipython2",
   "version": "2.7.13"
  }
 },
 "nbformat": 4,
 "nbformat_minor": 1
}
