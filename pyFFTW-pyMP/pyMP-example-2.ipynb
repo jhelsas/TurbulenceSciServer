{
 "cells": [
  {
   "cell_type": "code",
   "execution_count": 1,
   "metadata": {
    "collapsed": true
   },
   "outputs": [],
   "source": [
    "import os\n",
    "import time\n",
    "import pymp\n",
    "import numpy as np"
   ]
  },
  {
   "cell_type": "code",
   "execution_count": 2,
   "metadata": {
    "collapsed": true
   },
   "outputs": [],
   "source": [
    "N = 1024"
   ]
  },
  {
   "cell_type": "code",
   "execution_count": 3,
   "metadata": {
    "collapsed": false
   },
   "outputs": [
    {
     "name": "stdout",
     "output_type": "stream",
     "text": [
      "0.0026543140411376953\n"
     ]
    }
   ],
   "source": [
    "start = time.time()\n",
    "\n",
    "u = np.zeros((N,N,N), dtype='float32')\n",
    "v = np.zeros((N,N,N), dtype='float32')\n",
    "w = np.zeros((N,N,N), dtype='float32')\n",
    "\n",
    "end = time.time()\n",
    "print(end-start)"
   ]
  },
  {
   "cell_type": "code",
   "execution_count": 4,
   "metadata": {
    "collapsed": false
   },
   "outputs": [
    {
     "name": "stdout",
     "output_type": "stream",
     "text": [
      "0.0022842884063720703\n"
     ]
    }
   ],
   "source": [
    "start = time.time()\n",
    "\n",
    "X = np.zeros((N,N,N), dtype='float32')\n",
    "Y = np.zeros((N,N,N), dtype='float32')\n",
    "Z = np.zeros((N,N,N), dtype='float32')\n",
    "r2 = np.zeros((N,N,N), dtype='float32')\n",
    "\n",
    "end = time.time()\n",
    "print(end-start)"
   ]
  },
  {
   "cell_type": "code",
   "execution_count": null,
   "metadata": {
    "collapsed": false
   },
   "outputs": [],
   "source": [
    "start = time.time()\n",
    "\n",
    "for i in range(N):\n",
    "    X[i,:,:]= i/N\n",
    "\n",
    "for j in range(N):\n",
    "    Y[:,j,:]= j/N\n",
    "\n",
    "for k in range((N//2)+1):\n",
    "    Z[:,:,k]= k/N \n",
    "\n",
    "r2[:,:,:] = X[:,:,:]**2 + Y[:,:,:]**2 + Z[:,:,:]**2\n",
    "\n",
    "end = time.time()\n",
    "print(end-start)"
   ]
  },
  {
   "cell_type": "code",
   "execution_count": null,
   "metadata": {
    "collapsed": false
   },
   "outputs": [],
   "source": [
    "start = time.time()\n",
    "\n",
    "Nt = 8\n",
    "shS = pymp.shared.array(Nt, dtype='float32')\n",
    "\n",
    "end = time.time()\n",
    "print(end-start)"
   ]
  },
  {
   "cell_type": "code",
   "execution_count": null,
   "metadata": {
    "collapsed": true
   },
   "outputs": [],
   "source": [
    "chk = N//Nt"
   ]
  },
  {
   "cell_type": "code",
   "execution_count": null,
   "metadata": {
    "collapsed": false
   },
   "outputs": [],
   "source": [
    "start = time.time()\n",
    "\n",
    "with pymp.Parallel(Nt) as p:\n",
    "    for idx in p.range(0,Nt):\n",
    "        shS[idx] = np.average(r2[idx*chk:(idx+1)*chk,:,:])\n",
    "\n",
    "avgK = np.average(shS)\n",
    "\n",
    "print(\"Average r2\",avgK)\n",
    "        \n",
    "end = time.time()\n",
    "print(end-start,\"s\")"
   ]
  },
  {
   "cell_type": "code",
   "execution_count": null,
   "metadata": {
    "collapsed": false
   },
   "outputs": [],
   "source": [
    "start = time.time()\n",
    "\n",
    "avgKb = np.average(r2)\n",
    "\n",
    "print(\"Average r2\",avgKb)\n",
    "        \n",
    "end = time.time()\n",
    "print(end-start,\"s\")"
   ]
  },
  {
   "cell_type": "code",
   "execution_count": null,
   "metadata": {
    "collapsed": false
   },
   "outputs": [],
   "source": [
    "start = time.time()\n",
    "\n",
    "kx=np.zeros((N,N,N//2+1), dtype='complex64')\n",
    "ky=np.zeros((N,N,N//2+1), dtype='complex64')\n",
    "kz=np.zeros((N,N,N//2+1), dtype='complex64')\n",
    "k2=np.zeros((N,N,N//2+1), dtype='complex64')\n",
    "\n",
    "end = time.time()\n",
    "print(end-start)"
   ]
  },
  {
   "cell_type": "code",
   "execution_count": null,
   "metadata": {
    "collapsed": true
   },
   "outputs": [],
   "source": [
    "Nt = 8"
   ]
  },
  {
   "cell_type": "code",
   "execution_count": null,
   "metadata": {
    "collapsed": true
   },
   "outputs": [],
   "source": [
    "start = time.time()\n",
    "\n",
    "shA = pymp.shared.array((N,N,N), dtype='float32')\n",
    "\n",
    "end = time.time()\n",
    "print(end-start)"
   ]
  },
  {
   "cell_type": "code",
   "execution_count": null,
   "metadata": {
    "collapsed": true
   },
   "outputs": [],
   "source": []
  },
  {
   "cell_type": "code",
   "execution_count": null,
   "metadata": {
    "collapsed": true
   },
   "outputs": [],
   "source": []
  }
 ],
 "metadata": {
  "kernelspec": {
   "display_name": "Python 3",
   "language": "python",
   "name": "python3"
  },
  "language_info": {
   "codemirror_mode": {
    "name": "ipython",
    "version": 3
   },
   "file_extension": ".py",
   "mimetype": "text/x-python",
   "name": "python",
   "nbconvert_exporter": "python",
   "pygments_lexer": "ipython3",
   "version": "3.5.2"
  }
 },
 "nbformat": 4,
 "nbformat_minor": 0
}
